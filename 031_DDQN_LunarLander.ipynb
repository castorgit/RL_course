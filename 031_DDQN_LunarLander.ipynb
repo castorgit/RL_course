{
 "cells": [
  {
   "cell_type": "markdown",
   "metadata": {},
   "source": [
    "#### **CARTPOLE DDQN  (soft update Polyak + some improvements)**\n",
    "\n",
    "This is a naive version vectorized of the DDQN Algorithm for the Lunar Lander env <br>\n",
    "\n",
    "The Double DQN (DDQN) uses two networks one as a target and one as the trained network <br>\n",
    "\n",
    "The target network is a copy of the online network that is updated less frequently, <br>\n",
    "and is used to generate the target values for the Q-learning update\n",
    "\n",
    "It includes a soft update of the weights, instead of substituting the weights between the networks it blends them together using a Polyak averaging This was an improvement on the pure DDQN algorithm <br>\n",
    "\n",
    "It takes some time but with some hyperparameter optimization you'll converge around 230 episodes\n",
    "\n",
    "Any ideas to make it faster?\n"
   ]
  },
  {
   "cell_type": "code",
   "execution_count": 1,
   "metadata": {
    "id": "XmduteTzhmVH"
   },
   "outputs": [
    {
     "name": "stdout",
     "output_type": "stream",
     "text": [
      "Num GPUs Available:  1\n"
     ]
    },
    {
     "name": "stderr",
     "output_type": "stream",
     "text": [
      "WARNING: All log messages before absl::InitializeLog() is called are written to STDERR\n",
      "I0000 00:00:1733819388.643507    1356 cuda_executor.cc:1001] could not open file to read NUMA node: /sys/bus/pci/devices/0000:01:00.0/numa_node\n",
      "Your kernel may have been built without NUMA support.\n",
      "I0000 00:00:1733819388.662670    1356 cuda_executor.cc:1001] could not open file to read NUMA node: /sys/bus/pci/devices/0000:01:00.0/numa_node\n",
      "Your kernel may have been built without NUMA support.\n",
      "I0000 00:00:1733819388.662703    1356 cuda_executor.cc:1001] could not open file to read NUMA node: /sys/bus/pci/devices/0000:01:00.0/numa_node\n",
      "Your kernel may have been built without NUMA support.\n"
     ]
    }
   ],
   "source": [
    "import os\n",
    "os.environ['TF_CPP_MIN_LOG_LEVEL'] = '3'  # Suppress TensorFlow warnings\n",
    "import gymnasium as gym\n",
    "import numpy as np\n",
    "import random\n",
    "import matplotlib.pyplot as plt\n",
    "from collections import deque\n",
    "from tensorflow.keras.models import Sequential\n",
    "from tensorflow.keras.layers import Dense\n",
    "from tensorflow.keras.optimizers import Adam\n",
    "import time\n",
    "from PIL import Image\n",
    "\n",
    "# Activate GPU\n",
    "import tensorflow as tf\n",
    "print(\"Num GPUs Available: \", len(tf.config.list_physical_devices('GPU')))\n",
    "\n",
    "# Use mixed-precision training for faster computations on supported GPUs\n",
    "from tensorflow.keras.mixed_precision import set_global_policy\n",
    "set_global_policy('mixed_float16')\n",
    "\n",
    "# Enable XLA (Accelerated Linear Algebra) optimization\n",
    "tf.config.optimizer.set_jit(True)\n"
   ]
  },
  {
   "cell_type": "code",
   "execution_count": 2,
   "metadata": {
    "id": "rxswekI1hmXw"
   },
   "outputs": [],
   "source": [
    "# Environment setup\n",
    "env = gym.make('LunarLander-v3')\n",
    "state_size = env.observation_space.shape[0]  # 8 state variables\n",
    "action_size = env.action_space.n             # 4 discrete actions\n",
    "tf.random.set_seed(221)                      # For reproducibility"
   ]
  },
  {
   "cell_type": "markdown",
   "metadata": {},
   "source": [
    "#### **Hyperparameters**"
   ]
  },
  {
   "cell_type": "code",
   "execution_count": 3,
   "metadata": {
    "id": "zonyAYX-hmad"
   },
   "outputs": [],
   "source": [
    "learning_rate = 0.001      \n",
    "gamma = 0.99\n",
    "batch_size = 64\n",
    "epsilon_start = 1.0\n",
    "epsilon_min = 0.01\n",
    "epsilon_decay = 0.98        \n",
    "num_episodes = 500\n",
    "buffer_capacity = 100000\n",
    "solved_threshold = 200\n",
    "retrain_steps = 15          # We copy weights every retrain_steps \n",
    "tau = 0.15                  # Soft update, it is high for long retrain periods. Small for short retrain"
   ]
  },
  {
   "cell_type": "markdown",
   "metadata": {},
   "source": [
    "#### **Replay Buffer Functions (in-out)**"
   ]
  },
  {
   "cell_type": "code",
   "execution_count": 4,
   "metadata": {
    "id": "IVrsk55q1qJY"
   },
   "outputs": [],
   "source": [
    "# Replay buffer\n",
    "replay_buffer = deque(maxlen=buffer_capacity)\n",
    "\n",
    "# Add experience to replay buffer\n",
    "def store_experience(state, action, reward, next_state, done):\n",
    "    replay_buffer.append((state, action, reward, next_state, done))\n",
    "\n",
    "# Sample experiences from the replay buffer\n",
    "def sample_experiences(batch_size):\n",
    "    indices = np.random.choice(len(replay_buffer), batch_size, replace=False)\n",
    "    batch = [replay_buffer[i] for i in indices]\n",
    "    states, actions, rewards, next_states, dones = zip(*batch)\n",
    "    return (\n",
    "        np.vstack(states),\n",
    "        np.array(actions),\n",
    "        np.array(rewards),\n",
    "        np.vstack(next_states),\n",
    "        np.array(dones, dtype=np.float32)\n",
    "    )"
   ]
  },
  {
   "cell_type": "markdown",
   "metadata": {},
   "source": [
    "#### **Neural Network**"
   ]
  },
  {
   "cell_type": "code",
   "execution_count": 5,
   "metadata": {},
   "outputs": [],
   "source": [
    "# Build the neural network\n",
    "def build_model(state_size, action_size):\n",
    "    model = Sequential([\n",
    "        Dense(128, activation='relu', input_shape=(state_size,)),\n",
    "        Dense(64, activation='relu'),\n",
    "        Dense(32, activation='relu'),\n",
    "        Dense(action_size, activation='linear')\n",
    "    ])\n",
    "    model.compile(optimizer=Adam(learning_rate=learning_rate, clipnorm=1.0), loss='huber')\n",
    "    return model"
   ]
  },
  {
   "cell_type": "markdown",
   "metadata": {},
   "source": [
    "#### **Support Functions**"
   ]
  },
  {
   "cell_type": "code",
   "execution_count": 6,
   "metadata": {
    "id": "bcqSPBvyw3OQ"
   },
   "outputs": [],
   "source": [
    "# Soft update function for the target network\n",
    "def soft_update(model, target_model, tau):\n",
    "    \"\"\" Soft Update using Polyak Optimization \"\"\"\n",
    "    target_weights = target_model.get_weights()\n",
    "    model_weights = model.get_weights()\n",
    "    new_weights = [\n",
    "        tau * mw + (1 - tau) * tw for mw, tw in zip(model_weights, target_weights)\n",
    "    ]\n",
    "    target_model.set_weights(new_weights)\n",
    "\n",
    "\n",
    "# Double DQN target calculation\n",
    "def experience_replay_with_ddqn(model, target_model, batch_size, gamma, tau, step):\n",
    "    if len(replay_buffer) < batch_size:\n",
    "        return\n",
    "\n",
    "    states, actions, rewards, next_states, dones = sample_experiences(batch_size)\n",
    "\n",
    "    # Predict Q-values for next states using both networks\n",
    "    next_q_values = model.predict(next_states, verbose=0)\n",
    "    best_actions = np.argmax(next_q_values, axis=1)\n",
    "    target_q_values = target_model.predict(next_states, verbose=0)\n",
    "\n",
    "    # Update Q-values using Double DQN formula\n",
    "    targets = rewards + gamma * target_q_values[np.arange(batch_size), best_actions] * (1 - dones)\n",
    "\n",
    "    # Update main Q-network\n",
    "    q_values = model.predict(states, verbose=0)\n",
    "    q_values[np.arange(batch_size), actions] = targets\n",
    "    model.fit(states, q_values, epochs=1, verbose=0)\n",
    "\n",
    "    # Apply soft update to target network\n",
    "    if step % retrain_steps == 0:   \n",
    "        soft_update(model, target_model, tau)\n"
   ]
  },
  {
   "cell_type": "markdown",
   "metadata": {},
   "source": [
    "#### **Training Phase**"
   ]
  },
  {
   "cell_type": "code",
   "execution_count": 7,
   "metadata": {
    "colab": {
     "base_uri": "https://localhost:8080/"
    },
    "id": "MbU1uUo13Uu8",
    "outputId": "a17507bc-d5f1-4b2a-d0bc-a7ecd88a88a4"
   },
   "outputs": [
    {
     "name": "stderr",
     "output_type": "stream",
     "text": [
      "/home/jau/DL-Keras/lib/python3.12/site-packages/keras/src/layers/core/dense.py:87: UserWarning: Do not pass an `input_shape`/`input_dim` argument to a layer. When using Sequential models, prefer using an `Input(shape)` object as the first layer in the model instead.\n",
      "  super().__init__(activity_regularizer=activity_regularizer, **kwargs)\n",
      "I0000 00:00:1733819388.796881    1356 cuda_executor.cc:1001] could not open file to read NUMA node: /sys/bus/pci/devices/0000:01:00.0/numa_node\n",
      "Your kernel may have been built without NUMA support.\n",
      "I0000 00:00:1733819388.796952    1356 cuda_executor.cc:1001] could not open file to read NUMA node: /sys/bus/pci/devices/0000:01:00.0/numa_node\n",
      "Your kernel may have been built without NUMA support.\n",
      "I0000 00:00:1733819388.796964    1356 cuda_executor.cc:1001] could not open file to read NUMA node: /sys/bus/pci/devices/0000:01:00.0/numa_node\n",
      "Your kernel may have been built without NUMA support.\n",
      "I0000 00:00:1733819389.769012    1356 cuda_executor.cc:1001] could not open file to read NUMA node: /sys/bus/pci/devices/0000:01:00.0/numa_node\n",
      "Your kernel may have been built without NUMA support.\n",
      "I0000 00:00:1733819389.769062    1356 cuda_executor.cc:1001] could not open file to read NUMA node: /sys/bus/pci/devices/0000:01:00.0/numa_node\n",
      "Your kernel may have been built without NUMA support.\n",
      "I0000 00:00:1733819389.769083    1356 cuda_executor.cc:1001] could not open file to read NUMA node: /sys/bus/pci/devices/0000:01:00.0/numa_node\n",
      "Your kernel may have been built without NUMA support.\n"
     ]
    }
   ],
   "source": [
    "# Initialize models\n",
    "model = build_model(state_size, action_size)\n",
    "target_model = build_model(state_size, action_size)\n",
    "target_model.set_weights(model.get_weights())             # Sync target network initially\n"
   ]
  },
  {
   "cell_type": "code",
   "execution_count": 8,
   "metadata": {
    "colab": {
     "base_uri": "https://localhost:8080/"
    },
    "id": "o3rwB3iB3VQQ",
    "outputId": "cc1c7936-2319-4969-bd1e-08b04e1d18db",
    "scrolled": false
   },
   "outputs": [
    {
     "name": "stderr",
     "output_type": "stream",
     "text": [
      "WARNING: All log messages before absl::InitializeLog() is called are written to STDERR\n",
      "I0000 00:00:1733819390.440180    1458 service.cc:146] XLA service 0x7f778c0048c0 initialized for platform CUDA (this does not guarantee that XLA will be used). Devices:\n",
      "I0000 00:00:1733819390.440203    1458 service.cc:154]   StreamExecutor device (0): NVIDIA T600 Laptop GPU, Compute Capability 7.5\n",
      "I0000 00:00:1733819392.174936    1458 device_compiler.h:188] Compiled cluster using XLA!  This line is logged at most once for the lifetime of the process.\n"
     ]
    },
    {
     "name": "stdout",
     "output_type": "stream",
     "text": [
      "Episode: 1/500, Reward: -81.53, Epsilon: 0.98, Rolling Avg: -81.53, Steps:   0, Terminated: True \n",
      "Episode: 2/500, Reward: 25.45, Epsilon: 0.96, Rolling Avg: -28.04, Steps:   0, Terminated: True \n",
      "Episode: 3/500, Reward: -365.71, Epsilon: 0.94, Rolling Avg: -140.59, Steps:   0, Terminated: True \n",
      "Episode: 4/500, Reward: -157.40, Epsilon: 0.92, Rolling Avg: -144.80, Steps:   0, Terminated: True \n",
      "Episode: 5/500, Reward: -170.64, Epsilon: 0.90, Rolling Avg: -149.97, Steps:   0, Terminated: True \n",
      "Episode: 6/500, Reward: -260.01, Epsilon: 0.89, Rolling Avg: -168.31, Steps:   0, Terminated: True \n",
      "Episode: 7/500, Reward: -271.71, Epsilon: 0.87, Rolling Avg: -183.08, Steps:   0, Terminated: True \n",
      "Episode: 8/500, Reward: -90.66, Epsilon: 0.85, Rolling Avg: -171.53, Steps:   0, Terminated: True \n",
      "Episode: 9/500, Reward: -127.25, Epsilon: 0.83, Rolling Avg: -166.61, Steps:   0, Terminated: True \n",
      "Episode: 10/500, Reward: -37.05, Epsilon: 0.82, Rolling Avg: -153.65, Steps:   0, Terminated: True \n",
      "Episode: 11/500, Reward: -84.87, Epsilon: 0.80, Rolling Avg: -147.40, Steps:   0, Terminated: True \n",
      "Episode: 12/500, Reward: -114.27, Epsilon: 0.78, Rolling Avg: -144.64, Steps:   0, Terminated: True \n",
      "Episode: 13/500, Reward: -102.48, Epsilon: 0.77, Rolling Avg: -141.39, Steps:   0, Terminated: True \n",
      "Episode: 14/500, Reward: -91.22, Epsilon: 0.75, Rolling Avg: -137.81, Steps:   0, Terminated: True \n",
      "Episode: 15/500, Reward: -142.43, Epsilon: 0.74, Rolling Avg: -138.12, Steps:   0, Terminated: True \n",
      "Episode: 16/500, Reward: -225.73, Epsilon: 0.72, Rolling Avg: -143.59, Steps:   0, Terminated: True \n",
      "Episode: 17/500, Reward: -89.87, Epsilon: 0.71, Rolling Avg: -140.43, Steps:   0, Terminated: True \n",
      "Episode: 18/500, Reward: -235.00, Epsilon: 0.70, Rolling Avg: -145.69, Steps:   0, Terminated: True \n",
      "Episode: 19/500, Reward: -98.28, Epsilon: 0.68, Rolling Avg: -143.19, Steps:   0, Terminated: True \n",
      "Episode: 20/500, Reward: -118.06, Epsilon: 0.67, Rolling Avg: -141.94, Steps:   0, Terminated: True \n",
      "Episode: 21/500, Reward: -15.70, Epsilon: 0.65, Rolling Avg: -135.93, Steps:   0, Terminated: True \n",
      "Episode: 22/500, Reward: -261.19, Epsilon: 0.64, Rolling Avg: -141.62, Steps:   0, Terminated: True \n",
      "Episode: 23/500, Reward: -78.05, Epsilon: 0.63, Rolling Avg: -138.86, Steps:   0, Terminated: True \n",
      "Episode: 24/500, Reward: -251.87, Epsilon: 0.62, Rolling Avg: -143.56, Steps:   0, Terminated: True \n",
      "Episode: 25/500, Reward: -230.64, Epsilon: 0.60, Rolling Avg: -147.05, Steps:   0, Terminated: True \n",
      "Episode: 26/500, Reward: -27.02, Epsilon: 0.59, Rolling Avg: -142.43, Steps:   0, Terminated: True \n",
      "Episode: 27/500, Reward: -77.26, Epsilon: 0.58, Rolling Avg: -140.02, Steps:   0, Terminated: True \n",
      "Episode: 28/500, Reward: -166.55, Epsilon: 0.57, Rolling Avg: -140.96, Steps:   0, Terminated: True \n",
      "Episode: 29/500, Reward: -110.19, Epsilon: 0.56, Rolling Avg: -139.90, Steps:   0, Terminated: True \n",
      "Episode: 30/500, Reward: -85.77, Epsilon: 0.55, Rolling Avg: -138.10, Steps:   0, Terminated: True \n",
      "Episode: 31/500, Reward: -204.26, Epsilon: 0.53, Rolling Avg: -140.23, Steps:   0, Terminated: True \n",
      "Episode: 32/500, Reward: 4.14, Epsilon: 0.52, Rolling Avg: -135.72, Steps:   0, Terminated: True \n",
      "Episode: 33/500, Reward: -263.33, Epsilon: 0.51, Rolling Avg: -139.59, Steps:   0, Terminated: True \n",
      "Episode: 34/500, Reward: -26.51, Epsilon: 0.50, Rolling Avg: -136.26, Steps:   0, Terminated: True \n",
      "Episode: 35/500, Reward: -162.91, Epsilon: 0.49, Rolling Avg: -137.02, Steps:   0, Terminated: True \n",
      "Episode: 36/500, Reward: -165.81, Epsilon: 0.48, Rolling Avg: -137.82, Steps:   0, Terminated: True \n",
      "Episode: 37/500, Reward: -65.75, Epsilon: 0.47, Rolling Avg: -135.88, Steps:   0, Terminated: True \n",
      "Episode: 38/500, Reward: -214.72, Epsilon: 0.46, Rolling Avg: -137.95, Steps:   0, Terminated: True \n",
      "Episode: 39/500, Reward: -251.25, Epsilon: 0.45, Rolling Avg: -140.86, Steps:   0, Terminated: True \n",
      "Episode: 40/500, Reward: -223.42, Epsilon: 0.45, Rolling Avg: -142.92, Steps:   0, Terminated: True \n",
      "Episode: 41/500, Reward: 22.89, Epsilon: 0.44, Rolling Avg: -138.88, Steps:   0, Terminated: True \n",
      "Episode: 42/500, Reward: 13.72, Epsilon: 0.43, Rolling Avg: -135.24, Steps:   0, Terminated: True \n",
      "Episode: 43/500, Reward: -55.85, Epsilon: 0.42, Rolling Avg: -133.40, Steps:   0, Terminated: True \n",
      "Episode: 44/500, Reward: 31.32, Epsilon: 0.41, Rolling Avg: -129.65, Steps:   0, Terminated: True \n",
      "Episode: 45/500, Reward: -77.99, Epsilon: 0.40, Rolling Avg: -128.50, Steps:   0, Terminated: True \n",
      "Episode: 46/500, Reward: -41.03, Epsilon: 0.39, Rolling Avg: -126.60, Steps:   0, Terminated: True \n",
      "Episode: 47/500, Reward: -12.79, Epsilon: 0.39, Rolling Avg: -124.18, Steps:   0, Terminated: True \n",
      "Episode: 48/500, Reward: -344.50, Epsilon: 0.38, Rolling Avg: -128.77, Steps:   0, Terminated: True \n",
      "Episode: 49/500, Reward: -27.60, Epsilon: 0.37, Rolling Avg: -126.71, Steps:   0, Terminated: True \n",
      "Episode: 50/500, Reward: -108.38, Epsilon: 0.36, Rolling Avg: -126.34, Steps:   0, Terminated: True \n",
      "Episode: 51/500, Reward: -93.65, Epsilon: 0.36, Rolling Avg: -125.70, Steps:   0, Terminated: True \n",
      "Episode: 52/500, Reward: 23.93, Epsilon: 0.35, Rolling Avg: -122.82, Steps:   0, Terminated: True \n",
      "Episode: 53/500, Reward: -944.43, Epsilon: 0.34, Rolling Avg: -138.32, Steps:   0, Terminated: True \n",
      "Episode: 54/500, Reward: -5.29, Epsilon: 0.34, Rolling Avg: -135.86, Steps:   0, Terminated: True \n",
      "Episode: 55/500, Reward: -813.16, Epsilon: 0.33, Rolling Avg: -148.17, Steps:   0, Terminated: True \n",
      "Episode: 56/500, Reward: -150.75, Epsilon: 0.32, Rolling Avg: -148.22, Steps:   0, Terminated: True \n",
      "Episode: 57/500, Reward: -27.32, Epsilon: 0.32, Rolling Avg: -146.10, Steps:   0, Terminated: True \n",
      "Episode: 58/500, Reward: -253.38, Epsilon: 0.31, Rolling Avg: -147.95, Steps:   0, Terminated: True \n",
      "Episode: 59/500, Reward: -255.60, Epsilon: 0.30, Rolling Avg: -149.77, Steps:   0, Terminated: True \n",
      "Episode: 60/500, Reward: -12.80, Epsilon: 0.30, Rolling Avg: -147.49, Steps:   0, Terminated: True \n",
      "Episode: 61/500, Reward: -266.93, Epsilon: 0.29, Rolling Avg: -149.45, Steps:   0, Terminated: True \n",
      "Episode: 62/500, Reward: -190.83, Epsilon: 0.29, Rolling Avg: -150.12, Steps:   0, Terminated: True \n",
      "Episode: 63/500, Reward: -102.20, Epsilon: 0.28, Rolling Avg: -149.36, Steps:   0, Terminated: True \n",
      "Episode: 64/500, Reward: -12.30, Epsilon: 0.27, Rolling Avg: -147.21, Steps:   0, Terminated: True \n",
      "Episode: 65/500, Reward: 15.75, Epsilon: 0.27, Rolling Avg: -144.71, Steps:   0, Terminated: True \n",
      "Episode: 66/500, Reward: -137.02, Epsilon: 0.26, Rolling Avg: -144.59, Steps:   0, Terminated: True \n",
      "Episode: 67/500, Reward: -8.21, Epsilon: 0.26, Rolling Avg: -142.55, Steps:   0, Terminated: True \n",
      "Episode: 68/500, Reward: -203.43, Epsilon: 0.25, Rolling Avg: -143.45, Steps:   0, Terminated: True \n",
      "Episode: 69/500, Reward: -12.88, Epsilon: 0.25, Rolling Avg: -141.56, Steps:   0, Terminated: True \n",
      "Episode: 70/500, Reward: -30.20, Epsilon: 0.24, Rolling Avg: -139.97, Steps:   0, Terminated: True \n",
      "Episode: 71/500, Reward: 221.37, Epsilon: 0.24, Rolling Avg: -134.88, Steps:   0, Terminated: True \n",
      "Episode: 72/500, Reward: 23.60, Epsilon: 0.23, Rolling Avg: -132.68, Steps:   0, Terminated: True \n",
      "Episode: 73/500, Reward: -254.09, Epsilon: 0.23, Rolling Avg: -134.34, Steps:   0, Terminated: True \n",
      "Episode: 74/500, Reward: -220.55, Epsilon: 0.22, Rolling Avg: -135.50, Steps:   0, Terminated: True \n",
      "Episode: 75/500, Reward: -8.73, Epsilon: 0.22, Rolling Avg: -133.81, Steps:   0, Terminated: True \n",
      "Episode: 76/500, Reward: 18.27, Epsilon: 0.22, Rolling Avg: -131.81, Steps:   0, Terminated: True \n",
      "Episode: 77/500, Reward: 0.18, Epsilon: 0.21, Rolling Avg: -130.10, Steps:   0, Terminated: True \n",
      "Episode: 78/500, Reward: 199.99, Epsilon: 0.21, Rolling Avg: -125.87, Steps:   0, Terminated: True \n",
      "Episode: 79/500, Reward: 38.08, Epsilon: 0.20, Rolling Avg: -123.79, Steps:   0, Terminated: True \n",
      "Episode: 80/500, Reward: -30.18, Epsilon: 0.20, Rolling Avg: -122.62, Steps:   0, Terminated: True \n",
      "Episode: 81/500, Reward: 266.41, Epsilon: 0.19, Rolling Avg: -117.82, Steps:   0, Terminated: True \n",
      "Episode: 82/500, Reward: 9.96, Epsilon: 0.19, Rolling Avg: -116.26, Steps:   0, Terminated: True \n"
     ]
    },
    {
     "name": "stdout",
     "output_type": "stream",
     "text": [
      "Episode: 83/500, Reward: 190.42, Epsilon: 0.19, Rolling Avg: -112.57, Steps:   0, Terminated: True \n",
      "Episode: 84/500, Reward: 224.08, Epsilon: 0.18, Rolling Avg: -108.56, Steps:   0, Terminated: True \n",
      "Episode: 85/500, Reward: 20.59, Epsilon: 0.18, Rolling Avg: -107.04, Steps:   0, Terminated: True \n",
      "Episode: 86/500, Reward: 214.69, Epsilon: 0.18, Rolling Avg: -103.30, Steps:   0, Terminated: True \n",
      "Episode: 87/500, Reward: 206.06, Epsilon: 0.17, Rolling Avg: -99.74, Steps:   0, Terminated: True \n",
      "Episode: 88/500, Reward: 213.74, Epsilon: 0.17, Rolling Avg: -96.18, Steps:   0, Terminated: True \n",
      "Episode: 89/500, Reward: 253.30, Epsilon: 0.17, Rolling Avg: -92.25, Steps:   0, Terminated: True \n",
      "Episode: 90/500, Reward: 238.07, Epsilon: 0.16, Rolling Avg: -88.58, Steps:   0, Terminated: True \n",
      "Episode: 91/500, Reward: 42.37, Epsilon: 0.16, Rolling Avg: -87.14, Steps:   0, Terminated: True \n",
      "Episode: 92/500, Reward: 8.25, Epsilon: 0.16, Rolling Avg: -86.11, Steps:   0, Terminated: True \n",
      "Episode: 93/500, Reward: 262.85, Epsilon: 0.15, Rolling Avg: -82.35, Steps:   0, Terminated: True \n",
      "Episode: 94/500, Reward: 20.04, Epsilon: 0.15, Rolling Avg: -81.27, Steps:   0, Terminated: True \n",
      "Episode: 95/500, Reward: -11.59, Epsilon: 0.15, Rolling Avg: -80.53, Steps:   0, Terminated: True \n",
      "Episode: 96/500, Reward: 19.45, Epsilon: 0.14, Rolling Avg: -79.49, Steps:   0, Terminated: True \n",
      "Episode: 97/500, Reward: 204.82, Epsilon: 0.14, Rolling Avg: -76.56, Steps:   0, Terminated: True \n",
      "Episode: 98/500, Reward: -7.64, Epsilon: 0.14, Rolling Avg: -75.86, Steps:   0, Terminated: True \n",
      "Episode: 99/500, Reward: 23.01, Epsilon: 0.14, Rolling Avg: -74.86, Steps:   0, Terminated: True \n",
      "Episode: 100/500, Reward: 46.54, Epsilon: 0.13, Rolling Avg: -73.64, Steps:   0, Terminated: True \n",
      "Episode: 101/500, Reward: -66.21, Epsilon: 0.13, Rolling Avg: -73.49, Steps:   0, Terminated: True \n",
      "Episode: 102/500, Reward: -17.42, Epsilon: 0.13, Rolling Avg: -73.92, Steps:   0, Terminated: True \n",
      "Episode: 103/500, Reward: -16.99, Epsilon: 0.12, Rolling Avg: -70.43, Steps:   0, Terminated: True \n",
      "Episode: 104/500, Reward: -12.37, Epsilon: 0.12, Rolling Avg: -68.98, Steps:   0, Terminated: True \n",
      "Episode: 105/500, Reward: 15.29, Epsilon: 0.12, Rolling Avg: -67.12, Steps:   0, Terminated: True \n",
      "Episode: 106/500, Reward: -21.21, Epsilon: 0.12, Rolling Avg: -64.73, Steps:   0, Terminated: True \n",
      "Episode: 107/500, Reward: 21.31, Epsilon: 0.12, Rolling Avg: -61.80, Steps:   0, Terminated: True \n",
      "Episode: 108/500, Reward: 56.77, Epsilon: 0.11, Rolling Avg: -60.33, Steps:   0, Terminated: True \n",
      "Episode: 109/500, Reward: 9.71, Epsilon: 0.11, Rolling Avg: -58.96, Steps:   0, Terminated: True \n",
      "Episode: 110/500, Reward: 282.14, Epsilon: 0.11, Rolling Avg: -55.77, Steps:   0, Terminated: True \n",
      "Episode: 111/500, Reward: -10.51, Epsilon: 0.11, Rolling Avg: -55.02, Steps:   0, Terminated: True \n",
      "Episode: 112/500, Reward: -6.07, Epsilon: 0.10, Rolling Avg: -53.94, Steps:   0, Terminated: True \n",
      "Episode: 113/500, Reward: 14.37, Epsilon: 0.10, Rolling Avg: -52.77, Steps:   0, Terminated: True \n",
      "Episode: 114/500, Reward: 245.04, Epsilon: 0.10, Rolling Avg: -49.41, Steps:   0, Terminated: True \n",
      "Episode: 115/500, Reward: 48.64, Epsilon: 0.10, Rolling Avg: -47.50, Steps:   0, Terminated: True \n",
      "Episode: 116/500, Reward: 187.74, Epsilon: 0.10, Rolling Avg: -43.37, Steps:   0, Terminated: True \n",
      "Episode: 117/500, Reward: 222.15, Epsilon: 0.09, Rolling Avg: -40.25, Steps:   0, Terminated: True \n",
      "Episode: 118/500, Reward: 229.29, Epsilon: 0.09, Rolling Avg: -35.60, Steps:   0, Terminated: True \n",
      "Episode: 119/500, Reward: 243.35, Epsilon: 0.09, Rolling Avg: -32.19, Steps:   0, Terminated: True \n",
      "Episode: 120/500, Reward: 249.03, Epsilon: 0.09, Rolling Avg: -28.52, Steps:   0, Terminated: True \n",
      "Episode: 121/500, Reward: 264.70, Epsilon: 0.09, Rolling Avg: -25.71, Steps:   0, Terminated: True \n",
      "Episode: 122/500, Reward: 221.03, Epsilon: 0.09, Rolling Avg: -20.89, Steps:   0, Terminated: True \n",
      "Episode: 123/500, Reward: 254.60, Epsilon: 0.08, Rolling Avg: -17.56, Steps:   0, Terminated: True \n",
      "Episode: 124/500, Reward: 213.41, Epsilon: 0.08, Rolling Avg: -12.91, Steps:   0, Terminated: True \n",
      "Episode: 125/500, Reward: 254.77, Epsilon: 0.08, Rolling Avg: -8.06, Steps:   0, Terminated: True \n",
      "Episode: 126/500, Reward: -7.91, Epsilon: 0.08, Rolling Avg: -7.86, Steps:   0, Terminated: True \n",
      "Episode: 127/500, Reward: 261.04, Epsilon: 0.08, Rolling Avg: -4.48, Steps:   0, Terminated: True \n",
      "Episode: 128/500, Reward: 261.26, Epsilon: 0.08, Rolling Avg: -0.20, Steps:   0, Terminated: True \n",
      "Episode: 129/500, Reward: 261.33, Epsilon: 0.07, Rolling Avg: 3.51, Steps:   0, Terminated: True \n",
      "Episode: 130/500, Reward: 275.05, Epsilon: 0.07, Rolling Avg: 7.12, Steps:   0, Terminated: True \n",
      "Episode: 131/500, Reward: -17.93, Epsilon: 0.07, Rolling Avg: 8.98, Steps:   0, Terminated: True \n",
      "Episode: 132/500, Reward: 179.06, Epsilon: 0.07, Rolling Avg: 10.73, Steps:   0, Terminated: True \n",
      "Episode: 133/500, Reward: 285.94, Epsilon: 0.07, Rolling Avg: 16.22, Steps:   0, Terminated: True \n",
      "Episode: 134/500, Reward: 262.22, Epsilon: 0.07, Rolling Avg: 19.11, Steps:   0, Terminated: True \n",
      "Episode: 135/500, Reward: 37.07, Epsilon: 0.07, Rolling Avg: 21.11, Steps:   0, Terminated: True \n",
      "Episode: 136/500, Reward: 283.77, Epsilon: 0.06, Rolling Avg: 25.61, Steps:   0, Terminated: True \n",
      "Episode: 137/500, Reward: 247.49, Epsilon: 0.06, Rolling Avg: 28.74, Steps:   0, Terminated: True \n",
      "Episode: 138/500, Reward: 277.06, Epsilon: 0.06, Rolling Avg: 33.66, Steps:   0, Terminated: True \n",
      "Episode: 139/500, Reward: 281.03, Epsilon: 0.06, Rolling Avg: 38.98, Steps:   0, Terminated: True \n",
      "Episode: 140/500, Reward: 211.75, Epsilon: 0.06, Rolling Avg: 43.33, Steps:   0, Terminated: True \n",
      "Episode: 141/500, Reward: 52.47, Epsilon: 0.06, Rolling Avg: 43.63, Steps:   0, Terminated: True \n",
      "Episode: 142/500, Reward: 247.34, Epsilon: 0.06, Rolling Avg: 45.96, Steps:   0, Terminated: True \n",
      "Episode: 143/500, Reward: 216.39, Epsilon: 0.06, Rolling Avg: 48.69, Steps:   0, Terminated: True \n",
      "Episode: 144/500, Reward: -0.12, Epsilon: 0.05, Rolling Avg: 48.37, Steps:   0, Terminated: True \n",
      "Episode: 145/500, Reward: 209.35, Epsilon: 0.05, Rolling Avg: 51.25, Steps:   0, Terminated: True \n",
      "Episode: 146/500, Reward: 11.98, Epsilon: 0.05, Rolling Avg: 51.78, Steps:   0, Terminated: True \n",
      "Episode: 147/500, Reward: 237.53, Epsilon: 0.05, Rolling Avg: 54.28, Steps:   0, Terminated: True \n",
      "Episode: 148/500, Reward: 284.20, Epsilon: 0.05, Rolling Avg: 60.57, Steps:   0, Terminated: True \n",
      "Episode: 149/500, Reward: 294.94, Epsilon: 0.05, Rolling Avg: 63.79, Steps:   0, Terminated: True \n",
      "Episode: 150/500, Reward: 258.40, Epsilon: 0.05, Rolling Avg: 67.46, Steps:   0, Terminated: True \n",
      "Episode: 151/500, Reward: 249.88, Epsilon: 0.05, Rolling Avg: 70.89, Steps:   0, Terminated: True \n",
      "Episode: 152/500, Reward: 254.84, Epsilon: 0.05, Rolling Avg: 73.20, Steps:   0, Terminated: True \n",
      "Episode: 153/500, Reward: -5.63, Epsilon: 0.05, Rolling Avg: 82.59, Steps:   0, Terminated: True \n",
      "Episode: 154/500, Reward: 211.07, Epsilon: 0.04, Rolling Avg: 84.76, Steps:   0, Terminated: True \n",
      "Episode: 155/500, Reward: 44.48, Epsilon: 0.04, Rolling Avg: 93.33, Steps:   0, Terminated: True \n",
      "Episode: 156/500, Reward: 248.53, Epsilon: 0.04, Rolling Avg: 97.32, Steps:   0, Terminated: True \n",
      "Episode: 157/500, Reward: 242.33, Epsilon: 0.04, Rolling Avg: 100.02, Steps:   0, Terminated: True \n",
      "Episode: 158/500, Reward: 276.10, Epsilon: 0.04, Rolling Avg: 105.32, Steps:   0, Terminated: True \n",
      "Episode: 159/500, Reward: 249.35, Epsilon: 0.04, Rolling Avg: 110.37, Steps:   0, Terminated: True \n",
      "Episode: 160/500, Reward: 242.00, Epsilon: 0.04, Rolling Avg: 112.91, Steps:   0, Terminated: True \n",
      "Episode: 161/500, Reward: 238.46, Epsilon: 0.04, Rolling Avg: 117.97, Steps:   0, Terminated: True \n",
      "Episode: 162/500, Reward: -84.77, Epsilon: 0.04, Rolling Avg: 119.03, Steps:   0, Terminated: True \n",
      "Episode: 163/500, Reward: 179.74, Epsilon: 0.04, Rolling Avg: 121.85, Steps:   0, Terminated: True \n",
      "Episode: 164/500, Reward: 234.68, Epsilon: 0.04, Rolling Avg: 124.32, Steps:   0, Terminated: True \n",
      "Episode: 165/500, Reward: 278.42, Epsilon: 0.04, Rolling Avg: 126.94, Steps:   0, Terminated: True \n"
     ]
    },
    {
     "name": "stdout",
     "output_type": "stream",
     "text": [
      "Episode: 166/500, Reward: 177.02, Epsilon: 0.03, Rolling Avg: 130.08, Steps:   0, Terminated: True \n",
      "Episode: 167/500, Reward: 230.75, Epsilon: 0.03, Rolling Avg: 132.47, Steps:   0, Terminated: True \n",
      "Episode: 168/500, Reward: 234.18, Epsilon: 0.03, Rolling Avg: 136.85, Steps:   0, Terminated: True \n",
      "Episode: 169/500, Reward: 219.07, Epsilon: 0.03, Rolling Avg: 139.17, Steps:   0, Terminated: True \n",
      "Episode: 170/500, Reward: 230.92, Epsilon: 0.03, Rolling Avg: 141.78, Steps:   0, Terminated: True \n",
      "Episode: 171/500, Reward: 239.72, Epsilon: 0.03, Rolling Avg: 141.96, Steps:   0, Terminated: True \n",
      "Episode: 172/500, Reward: 251.77, Epsilon: 0.03, Rolling Avg: 144.25, Steps:   0, Terminated: True \n",
      "Episode: 173/500, Reward: 240.36, Epsilon: 0.03, Rolling Avg: 149.19, Steps:   0, Terminated: True \n",
      "Episode: 174/500, Reward: 257.75, Epsilon: 0.03, Rolling Avg: 153.97, Steps:   0, Terminated: True \n",
      "Episode: 175/500, Reward: 257.95, Epsilon: 0.03, Rolling Avg: 156.64, Steps:   0, Terminated: True \n",
      "Episode: 176/500, Reward: 252.65, Epsilon: 0.03, Rolling Avg: 158.98, Steps:   0, Terminated: True \n",
      "Episode: 177/500, Reward: 7.21, Epsilon: 0.03, Rolling Avg: 159.05, Steps:   0, Terminated: True \n",
      "Episode: 178/500, Reward: 34.91, Epsilon: 0.03, Rolling Avg: 157.40, Steps:   0, Terminated: True \n",
      "Episode: 179/500, Reward: 18.63, Epsilon: 0.03, Rolling Avg: 157.21, Steps:   0, Terminated: True \n",
      "Episode: 180/500, Reward: 44.21, Epsilon: 0.03, Rolling Avg: 157.95, Steps:   0, Terminated: True \n",
      "Episode: 181/500, Reward: 5.73, Epsilon: 0.03, Rolling Avg: 155.35, Steps:   0, Terminated: True \n",
      "Episode: 182/500, Reward: -16.94, Epsilon: 0.03, Rolling Avg: 155.08, Steps:   0, Terminated: True \n",
      "Episode: 183/500, Reward: 273.66, Epsilon: 0.02, Rolling Avg: 155.91, Steps:   0, Terminated: True \n",
      "Episode: 184/500, Reward: 245.41, Epsilon: 0.02, Rolling Avg: 156.12, Steps:   0, Terminated: True \n",
      "Episode: 185/500, Reward: 253.76, Epsilon: 0.02, Rolling Avg: 158.45, Steps:   0, Terminated: True \n",
      "Episode: 186/500, Reward: 225.62, Epsilon: 0.02, Rolling Avg: 158.56, Steps:   0, Terminated: True \n",
      "Episode: 187/500, Reward: 247.24, Epsilon: 0.02, Rolling Avg: 158.98, Steps:   0, Terminated: True \n",
      "Episode: 188/500, Reward: 220.35, Epsilon: 0.02, Rolling Avg: 159.04, Steps:   0, Terminated: True \n",
      "Episode: 189/500, Reward: 277.77, Epsilon: 0.02, Rolling Avg: 159.29, Steps:   0, Terminated: True \n",
      "Episode: 190/500, Reward: 235.97, Epsilon: 0.02, Rolling Avg: 159.27, Steps:   0, Terminated: True \n",
      "Episode: 191/500, Reward: 33.61, Epsilon: 0.02, Rolling Avg: 159.18, Steps:   0, Terminated: True \n",
      "Episode: 192/500, Reward: 279.50, Epsilon: 0.02, Rolling Avg: 161.89, Steps:   0, Terminated: True \n",
      "Episode: 193/500, Reward: 225.25, Epsilon: 0.02, Rolling Avg: 161.51, Steps:   0, Terminated: True \n",
      "Episode: 194/500, Reward: 274.04, Epsilon: 0.02, Rolling Avg: 164.05, Steps:   0, Terminated: True \n",
      "Episode: 195/500, Reward: 270.25, Epsilon: 0.02, Rolling Avg: 166.87, Steps:   0, Terminated: True \n",
      "Episode: 196/500, Reward: 267.55, Epsilon: 0.02, Rolling Avg: 169.35, Steps:   0, Terminated: True \n",
      "Episode: 197/500, Reward: 279.10, Epsilon: 0.02, Rolling Avg: 170.10, Steps:   0, Terminated: True \n",
      "Episode: 198/500, Reward: 270.38, Epsilon: 0.02, Rolling Avg: 172.88, Steps:   0, Terminated: True \n",
      "Episode: 199/500, Reward: 262.80, Epsilon: 0.02, Rolling Avg: 175.27, Steps:   0, Terminated: True \n",
      "Episode: 200/500, Reward: 76.31, Epsilon: 0.02, Rolling Avg: 175.57, Steps:   0, Terminated: True \n",
      "Episode: 201/500, Reward: 240.72, Epsilon: 0.02, Rolling Avg: 178.64, Steps:   0, Terminated: True \n",
      "Episode: 202/500, Reward: 244.96, Epsilon: 0.02, Rolling Avg: 181.27, Steps:   0, Terminated: True \n",
      "Episode: 203/500, Reward: 43.26, Epsilon: 0.02, Rolling Avg: 181.87, Steps:   0, Terminated: True \n",
      "Episode: 204/500, Reward: 13.66, Epsilon: 0.02, Rolling Avg: 182.13, Steps:   0, Terminated: True \n",
      "Episode: 205/500, Reward: 257.51, Epsilon: 0.02, Rolling Avg: 184.55, Steps:   0, Terminated: True \n",
      "Episode: 206/500, Reward: -52.74, Epsilon: 0.02, Rolling Avg: 184.23, Steps:   0, Terminated: True \n",
      "Episode: 207/500, Reward: 216.18, Epsilon: 0.02, Rolling Avg: 186.18, Steps:   0, Terminated: True \n",
      "Episode: 208/500, Reward: 300.00, Epsilon: 0.01, Rolling Avg: 188.62, Steps:   0, Terminated: True \n",
      "Episode: 209/500, Reward: 247.62, Epsilon: 0.01, Rolling Avg: 190.99, Steps:   0, Terminated: True \n",
      "Episode: 210/500, Reward: 9.74, Epsilon: 0.01, Rolling Avg: 188.27, Steps:   0, Terminated: True \n",
      "Episode: 211/500, Reward: 42.54, Epsilon: 0.01, Rolling Avg: 188.80, Steps:   0, Terminated: True \n",
      "Episode: 212/500, Reward: 242.74, Epsilon: 0.01, Rolling Avg: 191.29, Steps:   0, Terminated: True \n",
      "Episode: 213/500, Reward: 269.32, Epsilon: 0.01, Rolling Avg: 193.84, Steps:   0, Terminated: True \n",
      "Episode: 214/500, Reward: 255.71, Epsilon: 0.01, Rolling Avg: 193.95, Steps:   0, Terminated: True \n",
      "Episode: 215/500, Reward: 253.14, Epsilon: 0.01, Rolling Avg: 195.99, Steps:   0, Terminated: True \n",
      "Episode: 216/500, Reward: 236.44, Epsilon: 0.01, Rolling Avg: 196.48, Steps:   0, Terminated: True \n",
      "Episode: 217/500, Reward: 284.33, Epsilon: 0.01, Rolling Avg: 197.10, Steps:   0, Terminated: True \n",
      "Episode: 218/500, Reward: 221.43, Epsilon: 0.01, Rolling Avg: 197.02, Steps:   0, Terminated: True \n",
      "Episode: 219/500, Reward: 247.40, Epsilon: 0.01, Rolling Avg: 197.06, Steps:   0, Terminated: True \n",
      "Episode: 220/500, Reward: 286.04, Epsilon: 0.01, Rolling Avg: 197.43, Steps:   0, Terminated: True \n",
      "Episode: 221/500, Reward: 281.69, Epsilon: 0.01, Rolling Avg: 197.60, Steps:   0, Terminated: True \n",
      "Episode: 222/500, Reward: 274.61, Epsilon: 0.01, Rolling Avg: 198.14, Steps:   0, Terminated: True \n",
      "Episode: 223/500, Reward: 275.14, Epsilon: 0.01, Rolling Avg: 198.34, Steps:   0, Terminated: True \n",
      "Episode: 224/500, Reward: 68.22, Epsilon: 0.01, Rolling Avg: 196.89, Steps:   0, Terminated: True \n",
      "Episode: 225/500, Reward: 240.73, Epsilon: 0.01, Rolling Avg: 196.75, Steps:   0, Terminated: True \n",
      "Episode: 226/500, Reward: 40.39, Epsilon: 0.01, Rolling Avg: 197.23, Steps:   0, Terminated: True \n",
      "Episode: 227/500, Reward: 267.42, Epsilon: 0.01, Rolling Avg: 197.30, Steps:   0, Terminated: True \n",
      "Episode: 228/500, Reward: 239.22, Epsilon: 0.01, Rolling Avg: 197.08, Steps:   0, Terminated: True \n",
      "Episode: 229/500, Reward: 295.52, Epsilon: 0.01, Rolling Avg: 197.42, Steps:   0, Terminated: True \n",
      "Episode: 230/500, Reward: 269.56, Epsilon: 0.01, Rolling Avg: 197.36, Steps:   0, Terminated: True \n",
      "Episode: 231/500, Reward: 267.75, Epsilon: 0.01, Rolling Avg: 200.22, Steps:   0, Terminated: True \n",
      "Environment solved in 231 episodes!\n",
      "Training completed in 334.68 minutes\n"
     ]
    }
   ],
   "source": [
    "# Training loop\n",
    "epsilon = epsilon_start\n",
    "episode_rewards = []\n",
    "rolling_avg_rewards = []\n",
    "\n",
    "start_time = time.time()\n",
    "\n",
    "for episode in range(num_episodes):\n",
    "    state, _ = env.reset()\n",
    "    state = np.reshape(state, [1, state_size])\n",
    "    total_reward = 0\n",
    "    done = False\n",
    "    terminated = False\n",
    "    truncated = False\n",
    "    step = 0\n",
    "    while True:\n",
    "        \n",
    "        # Epsilon-greedy policy\n",
    "        if np.random.rand() <= epsilon:\n",
    "            action = np.random.randint(action_size)  # Explore\n",
    "        else:\n",
    "            action_vals = model.predict(state, verbose=0)\n",
    "            action = np.argmax(action_vals[0])  # Exploit\n",
    "\n",
    "        # Perform action\n",
    "        next_state, reward, terminated, truncated, _ = env.step(action)\n",
    "        done = terminated \n",
    "        next_state = np.reshape(next_state, [1, state_size])\n",
    "        total_reward += reward\n",
    "\n",
    "        # Store experience\n",
    "        store_experience(state, action, reward, next_state, done)\n",
    "\n",
    "        # Update state\n",
    "        state = next_state\n",
    "\n",
    "        # Train using experience replay\n",
    "        experience_replay_with_ddqn(model, target_model, batch_size, gamma, tau, step)\n",
    "\n",
    "        if done:\n",
    "            break\n",
    "\n",
    "    # Decay epsilon\n",
    "    epsilon = max(epsilon_min, epsilon * epsilon_decay)\n",
    "\n",
    "    # Record reward\n",
    "    episode_rewards.append(total_reward)\n",
    "    rolling_avg = np.mean(episode_rewards[-100:])\n",
    "    rolling_avg_rewards.append(rolling_avg)\n",
    "\n",
    "    # Print progress\n",
    "    print(f\"Episode: {episode+1}/{num_episodes}, Reward: {total_reward:+6.2f}, \"\n",
    "          f\"Epsilon: {epsilon:.2f}, Rolling Avg: {rolling_avg:4.2f}, Steps: {step:3}, Terminated: {done} \")\n",
    "\n",
    "    # Check if environment is solved\n",
    "    if rolling_avg >= solved_threshold:\n",
    "        print(f\"Environment solved in {episode+1} episodes!\")\n",
    "        model.save(\"lunarlander_ddqn_model1.keras\")\n",
    "        break\n",
    "\n",
    "end_time = time.time()\n",
    "print(f\"Training completed in {(end_time - start_time)/60:.2f} minutes\")"
   ]
  },
  {
   "cell_type": "code",
   "execution_count": 10,
   "metadata": {
    "id": "wgSoBzkVhmq3"
   },
   "outputs": [
    {
     "data": {
      "image/png": "[encoded data removed]",
      "text/plain": [
       "<Figure size 1000x600 with 1 Axes>"
      ]
     },
     "metadata": {},
     "output_type": "display_data"
    }
   ],
   "source": [
    "# Plot rewards with rolling average\n",
    "plt.figure(figsize=(10, 6))\n",
    "plt.plot(episode_rewards, label='Rewards', color='blue')\n",
    "plt.plot(rolling_avg_rewards, label='Rolling Avg (Last 100 Episodes)', color='orange')\n",
    "plt.axhline(y=solved_threshold, color='red', linestyle='--', label='Solved Threshold')\n",
    "plt.title('Double DQN Training Performance')\n",
    "plt.xlabel('Episodes')\n",
    "plt.ylabel('Rewards')\n",
    "plt.legend()\n",
    "plt.grid()\n",
    "plt.show()"
   ]
  },
  {
   "cell_type": "code",
   "execution_count": 13,
   "metadata": {
    "id": "Na_rWzOWriHF"
   },
   "outputs": [
    {
     "name": "stdout",
     "output_type": "stream",
     "text": [
      "Test Episode: 1/50, Reward: 274.00, Steps: 197\n",
      "Test Episode: 2/50, Reward: 276.03, Steps: 261\n",
      "Test Episode: 3/50, Reward: 269.09, Steps: 364\n",
      "Test Episode: 4/50, Reward: 37.51, Steps: 177\n",
      "Test Episode: 5/50, Reward: 274.41, Steps: 212\n",
      "Test Episode: 6/50, Reward: 252.68, Steps: 256\n",
      "Test Episode: 7/50, Reward: 255.44, Steps: 233\n",
      "Test Episode: 8/50, Reward: 253.26, Steps: 205\n",
      "Test Episode: 9/50, Reward: 291.58, Steps: 272\n",
      "Test Episode: 10/50, Reward: 239.04, Steps: 237\n",
      "Testing completed in 1.98 minutes\n"
     ]
    }
   ],
   "source": [
    "# Testing for 10 episodes\n",
    "start_time = time.time()\n",
    "\n",
    "for e_test in range(10):  # Run 10 test episodes\n",
    "    state, _ = env.reset()\n",
    "    state = np.reshape(state, [1, state_size])\n",
    "    total_reward = 0\n",
    "    \n",
    "    steps = 0\n",
    "    while True:\n",
    "        # Use the trained model for testing\n",
    "        action_vals = model.predict(state, verbose=0)  # Predict action values\n",
    "        action = np.argmax(action_vals[0])  # Choose the action with the highest Q-value\n",
    "\n",
    "        next_state, reward, done, _, _ = env.step(action)\n",
    "        next_state = np.reshape(next_state, [1, state_size])\n",
    "        total_reward += reward\n",
    "        state = next_state\n",
    "        steps = steps + 1\n",
    "\n",
    "        if done:\n",
    "            print(f\"Test Episode: {e_test + 1}/50, Reward: {total_reward:.2f}, Steps: {steps:3}\")\n",
    "            break\n",
    "\n",
    "end_time = time.time()\n",
    "testing_duration = (end_time - start_time) / 60  # Convert to minutes\n",
    "print(f\"Testing completed in {testing_duration:.2f} minutes\")\n"
   ]
  },
  {
   "cell_type": "code",
   "execution_count": 14,
   "metadata": {
    "id": "MfQ5pxsxhmtp"
   },
   "outputs": [
    {
     "name": "stdout",
     "output_type": "stream",
     "text": [
      "Rendered Test Episode Reward: 248.29\n",
      "Saved GIF to: ./lunarlander_ddqn1.gif\n"
     ]
    }
   ],
   "source": [
    "# Test the trained agent with video rendering\n",
    "# This code is very convenient if you are using colab\n",
    "env = gym.make('LunarLander-v3', render_mode='rgb_array')  # Enable RGB rendering\n",
    "frames = []  # Store frames for visualization\n",
    "\n",
    "# Render a single test episode\n",
    "state, _ = env.reset()\n",
    "state = np.reshape(state, [1, state_size])\n",
    "tot_rewards = 0\n",
    "\n",
    "while True:\n",
    "    # Use the trained model for action\n",
    "    action_vals = model.predict(state, verbose=0)  # Predict action values\n",
    "    action = np.argmax(action_vals[0])  # Choose the action with the highest Q-value\n",
    "\n",
    "    next_state, reward, done, _, _ = env.step(action)\n",
    "    frames.append(env.render())  # Save frame for rendering later\n",
    "    next_state = np.reshape(next_state, [1, state_size])\n",
    "    tot_rewards += reward\n",
    "    state = next_state\n",
    "\n",
    "    if done:\n",
    "        print(f\"Rendered Test Episode Reward: {tot_rewards:.2f}\")\n",
    "        break\n",
    "\n",
    "env.close()\n",
    "\n",
    "# Save the rendered episode as a GIF\n",
    "def save_frames_as_gif(frames, path='./', filename='lunarlander_ddqn1.gif'):\n",
    "    images = [Image.fromarray(frame) for frame in frames]\n",
    "    gif_path = os.path.join(path, filename)\n",
    "    images[0].save(gif_path, save_all=True, append_images=images[1:], duration=50, loop=0)\n",
    "    print(f\"Saved GIF to: {gif_path}\")\n",
    "\n",
    "save_frames_as_gif(frames, filename=\"lunarlander_ddqn1.gif\")\n"
   ]
  },
  {
   "cell_type": "code",
   "execution_count": 15,
   "metadata": {
    "id": "-YszwSDVhmwP"
   },
   "outputs": [
    {
     "name": "stdout",
     "output_type": "stream",
     "text": [
      "-----\n",
      "PIL                 11.0.0\n",
      "gymnasium           1.0.0\n",
      "keras               3.6.0\n",
      "matplotlib          3.9.2\n",
      "numpy               1.26.4\n",
      "session_info        1.0.0\n",
      "tensorflow          2.17.1\n",
      "-----\n",
      "IPython             8.28.0\n",
      "jupyter_client      8.6.3\n",
      "jupyter_core        5.7.2\n",
      "-----\n",
      "Python 3.12.3 (main, Nov  6 2024, 18:32:19) [GCC 13.2.0]\n",
      "Linux-5.15.167.4-microsoft-standard-WSL2-x86_64-with-glibc2.39\n",
      "-----\n",
      "Session information updated at 2024-12-10 15:28\n"
     ]
    }
   ],
   "source": [
    "import session_info\n",
    "session_info.show(html=False)"
   ]
  },
  {
   "cell_type": "code",
   "execution_count": null,
   "metadata": {},
   "outputs": [],
   "source": []
  }
 ],
 "metadata": {
  "accelerator": "GPU",
  "colab": {
   "gpuType": "L4",
   "machine_shape": "hm",
   "provenance": []
  },
  "kernelspec": {
   "display_name": "DL-Keras",
   "language": "python",
   "name": "dl-keras"
  },
  "language_info": {
   "codemirror_mode": {
    "name": "ipython",
    "version": 3
   },
   "file_extension": ".py",
   "mimetype": "text/x-python",
   "name": "python",
   "nbconvert_exporter": "python",
   "pygments_lexer": "ipython3",
   "version": "3.12.3"
  }
 },
 "nbformat": 4,
 "nbformat_minor": 1
}
