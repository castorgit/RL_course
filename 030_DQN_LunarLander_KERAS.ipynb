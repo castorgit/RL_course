{
 "cells": [
  {
   "cell_type": "markdown",
   "id": "ccb89376",
   "metadata": {},
   "source": [
    "### **LUNAR LANDER DQN KERAS**\n",
    "\n",
    "This is a naive version of the CARTPOLE DQN algorithm <br>\n",
    "It converges in 87 episodes  <br>\n",
    " <br>\n",
    "Try to make it faster by doing some hyperparameter optimization  <br>\n",
    "Try to explore less. Does it accelerates convergence?  <br>\n",
    "Increasing the ROLLING_WINDOW it will converge slower but the Agent behavior will be more consistent"
   ]
  },
  {
   "cell_type": "code",
   "execution_count": 1,
   "id": "557b1b33",
   "metadata": {},
   "outputs": [
    {
     "name": "stdout",
     "output_type": "stream",
     "text": [
      "Num GPUs Available:  1\n"
     ]
    },
    {
     "name": "stderr",
     "output_type": "stream",
     "text": [
      "WARNING: All log messages before absl::InitializeLog() is called are written to STDERR\n",
      "I0000 00:00:1738489025.369197 4171753 cuda_executor.cc:1001] could not open file to read NUMA node: /sys/bus/pci/devices/0000:01:00.0/numa_node\n",
      "Your kernel may have been built without NUMA support.\n",
      "I0000 00:00:1738489025.389982 4171753 cuda_executor.cc:1001] could not open file to read NUMA node: /sys/bus/pci/devices/0000:01:00.0/numa_node\n",
      "Your kernel may have been built without NUMA support.\n",
      "I0000 00:00:1738489025.390025 4171753 cuda_executor.cc:1001] could not open file to read NUMA node: /sys/bus/pci/devices/0000:01:00.0/numa_node\n",
      "Your kernel may have been built without NUMA support.\n",
      "I0000 00:00:1738489025.449423 4171753 cuda_executor.cc:1001] could not open file to read NUMA node: /sys/bus/pci/devices/0000:01:00.0/numa_node\n",
      "Your kernel may have been built without NUMA support.\n",
      "I0000 00:00:1738489025.449492 4171753 cuda_executor.cc:1001] could not open file to read NUMA node: /sys/bus/pci/devices/0000:01:00.0/numa_node\n",
      "Your kernel may have been built without NUMA support.\n",
      "I0000 00:00:1738489025.449506 4171753 cuda_executor.cc:1001] could not open file to read NUMA node: /sys/bus/pci/devices/0000:01:00.0/numa_node\n",
      "Your kernel may have been built without NUMA support.\n",
      "I0000 00:00:1738489025.565283 4171753 cuda_executor.cc:1001] could not open file to read NUMA node: /sys/bus/pci/devices/0000:01:00.0/numa_node\n",
      "Your kernel may have been built without NUMA support.\n",
      "I0000 00:00:1738489025.565339 4171753 cuda_executor.cc:1001] could not open file to read NUMA node: /sys/bus/pci/devices/0000:01:00.0/numa_node\n",
      "Your kernel may have been built without NUMA support.\n",
      "I0000 00:00:1738489025.565367 4171753 cuda_executor.cc:1001] could not open file to read NUMA node: /sys/bus/pci/devices/0000:01:00.0/numa_node\n",
      "Your kernel may have been built without NUMA support.\n",
      "WARNING: All log messages before absl::InitializeLog() is called are written to STDERR\n",
      "I0000 00:00:1738489026.212438 4171846 service.cc:146] XLA service 0x7f5f58016910 initialized for platform CUDA (this does not guarantee that XLA will be used). Devices:\n",
      "I0000 00:00:1738489026.212475 4171846 service.cc:154]   StreamExecutor device (0): NVIDIA T600 Laptop GPU, Compute Capability 7.5\n",
      "I0000 00:00:1738489026.840914 4171846 device_compiler.h:188] Compiled cluster using XLA!  This line is logged at most once for the lifetime of the process.\n"
     ]
    }
   ],
   "source": [
    "import os\n",
    "os.environ['TF_CPP_MIN_LOG_LEVEL'] = '3' \n",
    "\n",
    "import random\n",
    "import gymnasium as gym\n",
    "import time\n",
    "import numpy as np\n",
    "from collections import deque\n",
    "from keras.models import Sequential, Model\n",
    "from keras.layers import Dense, Input\n",
    "from keras.optimizers import Adam\n",
    "import matplotlib.pyplot as plt\n",
    "from PIL import Image\n",
    "\n",
    "import tensorflow as tf\n",
    "print(\"Num GPUs Available: \", len(tf.config.list_physical_devices('GPU')))\n",
    "\n",
    "# Use mixed-precision training for faster computations on supported GPUs\n",
    "from tensorflow.keras.mixed_precision import set_global_policy\n",
    "set_global_policy('mixed_float16')\n",
    "\n",
    "# Enable XLA (Accelerated Linear Algebra) optimization\n",
    "tf.config.optimizer.set_jit(True)\n",
    "tf.config.optimizer.set_jit(True)\n",
    "\n",
    "import sys\n",
    "sys.stderr = open('err.txt', 'w')"
   ]
  },
  {
   "cell_type": "markdown",
   "id": "ae2be125",
   "metadata": {},
   "source": [
    "#### **Hyperparameters**"
   ]
  },
  {
   "cell_type": "code",
   "execution_count": 2,
   "id": "78010280",
   "metadata": {},
   "outputs": [],
   "source": [
    "\n",
    "MAX_EPISODES = 1500\n",
    "ROLLING_WINDOW = 20\n",
    "MEMORY_SIZE = 100000\n",
    "MAX_STEPS = 1200\n",
    "\n",
    "gamma = 0.99                         # discount rate\n",
    "epsilon = 1.0                        # exploration rate\n",
    "epsilon_min = 0.01\n",
    "epsilon_decay = 0.99\n",
    "learning_rate = 0.0001\n",
    "batch_size = 64\n",
    "solved_threshold = 200\n",
    "\n",
    "verb = 0                             # to see traces (verbosity)"
   ]
  },
  {
   "cell_type": "code",
   "execution_count": 3,
   "id": "d058e6b0",
   "metadata": {},
   "outputs": [],
   "source": [
    "# Environment setup\n",
    "env = gym.make('LunarLander-v3')\n",
    "state_size = env.observation_space.shape[0]\n",
    "action_size = env.action_space.n"
   ]
  },
  {
   "cell_type": "markdown",
   "id": "7fa84c05",
   "metadata": {},
   "source": [
    "#### **Neural Network**"
   ]
  },
  {
   "cell_type": "code",
   "execution_count": 4,
   "id": "5799f12c",
   "metadata": {},
   "outputs": [],
   "source": [
    "def build_model(state_size, action_size):\n",
    "    inputs = Input(shape=(state_size,), name=\"input_layer\")\n",
    "    x = Dense(128, activation='relu', name=\"hidden_1\")(inputs)\n",
    "    x = Dense(64, activation='relu', name=\"hidden_2\")(x)\n",
    "    x = Dense(32, activation='relu', name=\"hidden_3\")(x)\n",
    "    outputs = Dense(action_size, activation='linear', name=\"output_layer\")(x)\n",
    "    \n",
    "    model = Model(inputs=inputs, outputs=outputs, name=\"Q_Network\")\n",
    "#    model.compile(optimizer=Adam(learning_rate=learning_rate, clipnorm=1.0), loss='mse') # to improve train stability\n",
    "    model.compile(loss='mse', optimizer=Adam(learning_rate=learning_rate))\n",
    "    return model"
   ]
  },
  {
   "cell_type": "markdown",
   "id": "b7fca383",
   "metadata": {},
   "source": [
    "#### **Support Functions**"
   ]
  },
  {
   "cell_type": "code",
   "execution_count": 5,
   "id": "10c07fd6",
   "metadata": {
    "scrolled": false
   },
   "outputs": [
    {
     "data": {
      "text/html": [
       "<pre style=\"white-space:pre;overflow-x:auto;line-height:normal;font-family:Menlo,'DejaVu Sans Mono',consolas,'Courier New',monospace\"><span style=\"font-weight: bold\">Model: \"Q_Network\"</span>\n",
       "</pre>\n"
      ],
      "text/plain": [
       "\u001b[1mModel: \"Q_Network\"\u001b[0m\n"
      ]
     },
     "metadata": {},
     "output_type": "display_data"
    },
    {
     "data": {
      "text/html": [
       "<pre style=\"white-space:pre;overflow-x:auto;line-height:normal;font-family:Menlo,'DejaVu Sans Mono',consolas,'Courier New',monospace\">┏━━━━━━━━━━━━━━━━━━━━━━━━━━━━━━━━━┳━━━━━━━━━━━━━━━━━━━━━━━━┳━━━━━━━━━━━━━━━┓\n",
       "┃<span style=\"font-weight: bold\"> Layer (type)                    </span>┃<span style=\"font-weight: bold\"> Output Shape           </span>┃<span style=\"font-weight: bold\">       Param # </span>┃\n",
       "┡━━━━━━━━━━━━━━━━━━━━━━━━━━━━━━━━━╇━━━━━━━━━━━━━━━━━━━━━━━━╇━━━━━━━━━━━━━━━┩\n",
       "│ input_layer (<span style=\"color: #0087ff; text-decoration-color: #0087ff\">InputLayer</span>)        │ (<span style=\"color: #00d7ff; text-decoration-color: #00d7ff\">None</span>, <span style=\"color: #00af00; text-decoration-color: #00af00\">8</span>)              │             <span style=\"color: #00af00; text-decoration-color: #00af00\">0</span> │\n",
       "├─────────────────────────────────┼────────────────────────┼───────────────┤\n",
       "│ cast (<span style=\"color: #0087ff; text-decoration-color: #0087ff\">Cast</span>)                     │ (<span style=\"color: #00d7ff; text-decoration-color: #00d7ff\">None</span>, <span style=\"color: #00af00; text-decoration-color: #00af00\">8</span>)              │             <span style=\"color: #00af00; text-decoration-color: #00af00\">0</span> │\n",
       "├─────────────────────────────────┼────────────────────────┼───────────────┤\n",
       "│ hidden_1 (<span style=\"color: #0087ff; text-decoration-color: #0087ff\">Dense</span>)                │ (<span style=\"color: #00d7ff; text-decoration-color: #00d7ff\">None</span>, <span style=\"color: #00af00; text-decoration-color: #00af00\">128</span>)            │         <span style=\"color: #00af00; text-decoration-color: #00af00\">1,152</span> │\n",
       "├─────────────────────────────────┼────────────────────────┼───────────────┤\n",
       "│ hidden_2 (<span style=\"color: #0087ff; text-decoration-color: #0087ff\">Dense</span>)                │ (<span style=\"color: #00d7ff; text-decoration-color: #00d7ff\">None</span>, <span style=\"color: #00af00; text-decoration-color: #00af00\">64</span>)             │         <span style=\"color: #00af00; text-decoration-color: #00af00\">8,256</span> │\n",
       "├─────────────────────────────────┼────────────────────────┼───────────────┤\n",
       "│ hidden_3 (<span style=\"color: #0087ff; text-decoration-color: #0087ff\">Dense</span>)                │ (<span style=\"color: #00d7ff; text-decoration-color: #00d7ff\">None</span>, <span style=\"color: #00af00; text-decoration-color: #00af00\">32</span>)             │         <span style=\"color: #00af00; text-decoration-color: #00af00\">2,080</span> │\n",
       "├─────────────────────────────────┼────────────────────────┼───────────────┤\n",
       "│ output_layer (<span style=\"color: #0087ff; text-decoration-color: #0087ff\">Dense</span>)            │ (<span style=\"color: #00d7ff; text-decoration-color: #00d7ff\">None</span>, <span style=\"color: #00af00; text-decoration-color: #00af00\">4</span>)              │           <span style=\"color: #00af00; text-decoration-color: #00af00\">132</span> │\n",
       "└─────────────────────────────────┴────────────────────────┴───────────────┘\n",
       "</pre>\n"
      ],
      "text/plain": [
       "┏━━━━━━━━━━━━━━━━━━━━━━━━━━━━━━━━━┳━━━━━━━━━━━━━━━━━━━━━━━━┳━━━━━━━━━━━━━━━┓\n",
       "┃\u001b[1m \u001b[0m\u001b[1mLayer (type)                   \u001b[0m\u001b[1m \u001b[0m┃\u001b[1m \u001b[0m\u001b[1mOutput Shape          \u001b[0m\u001b[1m \u001b[0m┃\u001b[1m \u001b[0m\u001b[1m      Param #\u001b[0m\u001b[1m \u001b[0m┃\n",
       "┡━━━━━━━━━━━━━━━━━━━━━━━━━━━━━━━━━╇━━━━━━━━━━━━━━━━━━━━━━━━╇━━━━━━━━━━━━━━━┩\n",
       "│ input_layer (\u001b[38;5;33mInputLayer\u001b[0m)        │ (\u001b[38;5;45mNone\u001b[0m, \u001b[38;5;34m8\u001b[0m)              │             \u001b[38;5;34m0\u001b[0m │\n",
       "├─────────────────────────────────┼────────────────────────┼───────────────┤\n",
       "│ cast (\u001b[38;5;33mCast\u001b[0m)                     │ (\u001b[38;5;45mNone\u001b[0m, \u001b[38;5;34m8\u001b[0m)              │             \u001b[38;5;34m0\u001b[0m │\n",
       "├─────────────────────────────────┼────────────────────────┼───────────────┤\n",
       "│ hidden_1 (\u001b[38;5;33mDense\u001b[0m)                │ (\u001b[38;5;45mNone\u001b[0m, \u001b[38;5;34m128\u001b[0m)            │         \u001b[38;5;34m1,152\u001b[0m │\n",
       "├─────────────────────────────────┼────────────────────────┼───────────────┤\n",
       "│ hidden_2 (\u001b[38;5;33mDense\u001b[0m)                │ (\u001b[38;5;45mNone\u001b[0m, \u001b[38;5;34m64\u001b[0m)             │         \u001b[38;5;34m8,256\u001b[0m │\n",
       "├─────────────────────────────────┼────────────────────────┼───────────────┤\n",
       "│ hidden_3 (\u001b[38;5;33mDense\u001b[0m)                │ (\u001b[38;5;45mNone\u001b[0m, \u001b[38;5;34m32\u001b[0m)             │         \u001b[38;5;34m2,080\u001b[0m │\n",
       "├─────────────────────────────────┼────────────────────────┼───────────────┤\n",
       "│ output_layer (\u001b[38;5;33mDense\u001b[0m)            │ (\u001b[38;5;45mNone\u001b[0m, \u001b[38;5;34m4\u001b[0m)              │           \u001b[38;5;34m132\u001b[0m │\n",
       "└─────────────────────────────────┴────────────────────────┴───────────────┘\n"
      ]
     },
     "metadata": {},
     "output_type": "display_data"
    },
    {
     "data": {
      "text/html": [
       "<pre style=\"white-space:pre;overflow-x:auto;line-height:normal;font-family:Menlo,'DejaVu Sans Mono',consolas,'Courier New',monospace\"><span style=\"font-weight: bold\"> Total params: </span><span style=\"color: #00af00; text-decoration-color: #00af00\">11,620</span> (45.39 KB)\n",
       "</pre>\n"
      ],
      "text/plain": [
       "\u001b[1m Total params: \u001b[0m\u001b[38;5;34m11,620\u001b[0m (45.39 KB)\n"
      ]
     },
     "metadata": {},
     "output_type": "display_data"
    },
    {
     "data": {
      "text/html": [
       "<pre style=\"white-space:pre;overflow-x:auto;line-height:normal;font-family:Menlo,'DejaVu Sans Mono',consolas,'Courier New',monospace\"><span style=\"font-weight: bold\"> Trainable params: </span><span style=\"color: #00af00; text-decoration-color: #00af00\">11,620</span> (45.39 KB)\n",
       "</pre>\n"
      ],
      "text/plain": [
       "\u001b[1m Trainable params: \u001b[0m\u001b[38;5;34m11,620\u001b[0m (45.39 KB)\n"
      ]
     },
     "metadata": {},
     "output_type": "display_data"
    },
    {
     "data": {
      "text/html": [
       "<pre style=\"white-space:pre;overflow-x:auto;line-height:normal;font-family:Menlo,'DejaVu Sans Mono',consolas,'Courier New',monospace\"><span style=\"font-weight: bold\"> Non-trainable params: </span><span style=\"color: #00af00; text-decoration-color: #00af00\">0</span> (0.00 B)\n",
       "</pre>\n"
      ],
      "text/plain": [
       "\u001b[1m Non-trainable params: \u001b[0m\u001b[38;5;34m0\u001b[0m (0.00 B)\n"
      ]
     },
     "metadata": {},
     "output_type": "display_data"
    }
   ],
   "source": [
    "replay_buffer = deque(maxlen=MEMORY_SIZE)\n",
    "\n",
    "def store(state, action, reward, next_state, done):             # memorize\n",
    "    replay_buffer.append((state, action, reward, next_state, done))\n",
    "\n",
    "def select_action_greedy(state, DQN):                                      # act\n",
    "    if np.random.rand() <= epsilon:\n",
    "        return random.randrange(action_size)\n",
    "    act_values = DQN.predict(state, verbose=verb)\n",
    "    return np.argmax(act_values[0])  # returns action selected with greedy strategy\n",
    "\n",
    "# Sample experiences from the replay buffer\n",
    "def sample_experiences(batch_size):\n",
    "    indices = np.random.choice(len(replay_buffer), batch_size, replace=False)\n",
    "    batch = [replay_buffer[i] for i in indices]\n",
    "    states, actions, rewards, next_states, dones = zip(*batch)\n",
    "    return (\n",
    "        np.vstack(states),\n",
    "        np.array(actions),\n",
    "        np.array(rewards),\n",
    "        np.vstack(next_states),\n",
    "        np.array(dones, dtype=np.float32)\n",
    "    )\n",
    "\n",
    "    \n",
    "def experience_replay(batch_size, model, epsilon):\n",
    "    if len(replay_buffer) < batch_size:\n",
    "        return\n",
    "    minibatch = random.sample(replay_buffer, batch_size)\n",
    "    states, actions, rewards, next_states, dones = sample_experiences(batch_size)\n",
    "\n",
    "    # Predict Q-values for current and next states using vectorized operations\n",
    "    target_qs = model.predict(states, verbose=verb)\n",
    "    next_qs   = model.predict(next_states, verbose=verb)\n",
    "\n",
    "    # Update target Q-values using standard DQN logic   \n",
    "    target_qs[np.arange(batch_size), actions] = rewards + gamma * np.max(next_qs, axis=1) * (1 - dones)\n",
    "    \n",
    "#    for i in range(batch_size):\n",
    "#        if dones[i]:\n",
    "#            target_qs[i, actions[i]] = rewards[i]\n",
    "#        else:\n",
    "#            target_qs[i, actions[i]] = rewards[i] + gamma * np.max(next_qs[i])\n",
    "\n",
    "    # Train the model on the Q-values\n",
    "    model.fit(states, target_qs, epochs=1, verbose=0)\n",
    "\n",
    "def load(name, DQN):\n",
    "    DQN.load_weights(name)\n",
    "\n",
    "def save(name, DQN):\n",
    "    DQN.save_weights(name)\n",
    "\n",
    "DQN = build_model(state_size, action_size)\n",
    "DQN.summary()"
   ]
  },
  {
   "cell_type": "code",
   "execution_count": 6,
   "id": "0cb99f42",
   "metadata": {
    "scrolled": false
   },
   "outputs": [
    {
     "name": "stdout",
     "output_type": "stream",
     "text": [
      "Episode:   1/1500, Reward: -350.27, Epsilon: 0.99, Rolling Avg: -350.27, Steps:  96 Terminated: True \n",
      "Episode:   2/1500, Reward: -254.84, Epsilon: 0.98, Rolling Avg: -302.55, Steps: 105 Terminated: True \n",
      "Episode:   3/1500, Reward: -142.54, Epsilon: 0.97, Rolling Avg: -249.21, Steps:  97 Terminated: True \n",
      "Episode:   4/1500, Reward: -156.07, Epsilon: 0.96, Rolling Avg: -225.93, Steps:  85 Terminated: True \n",
      "Episode:   5/1500, Reward:  -78.33, Epsilon: 0.95, Rolling Avg: -196.41, Steps:  71 Terminated: True \n",
      "Episode:   6/1500, Reward: -136.98, Epsilon: 0.94, Rolling Avg: -186.50, Steps:  79 Terminated: True \n",
      "Episode:   7/1500, Reward: -383.13, Epsilon: 0.93, Rolling Avg: -214.59, Steps: 106 Terminated: True \n",
      "Episode:   8/1500, Reward: -289.48, Epsilon: 0.92, Rolling Avg: -223.95, Steps: 138 Terminated: True \n",
      "Episode:   9/1500, Reward:  -94.71, Epsilon: 0.91, Rolling Avg: -209.59, Steps:  81 Terminated: True \n",
      "Episode:  10/1500, Reward: -100.42, Epsilon: 0.90, Rolling Avg: -198.68, Steps:  82 Terminated: True \n",
      "Episode:  11/1500, Reward: -184.63, Epsilon: 0.90, Rolling Avg: -197.40, Steps: 130 Terminated: True \n",
      "Episode:  12/1500, Reward: -276.55, Epsilon: 0.89, Rolling Avg: -204.00, Steps: 107 Terminated: True \n",
      "Episode:  13/1500, Reward:  -56.13, Epsilon: 0.88, Rolling Avg: -192.62, Steps:  87 Terminated: True \n",
      "Episode:  14/1500, Reward: -173.07, Epsilon: 0.87, Rolling Avg: -191.22, Steps: 116 Terminated: True \n",
      "Episode:  15/1500, Reward: -381.77, Epsilon: 0.86, Rolling Avg: -203.93, Steps: 120 Terminated: True \n",
      "Episode:  16/1500, Reward: -252.28, Epsilon: 0.85, Rolling Avg: -206.95, Steps: 134 Terminated: True \n",
      "Episode:  17/1500, Reward: -184.97, Epsilon: 0.84, Rolling Avg: -205.66, Steps: 113 Terminated: True \n",
      "Episode:  18/1500, Reward: -266.26, Epsilon: 0.83, Rolling Avg: -209.02, Steps: 181 Terminated: True \n",
      "Episode:  19/1500, Reward: -151.35, Epsilon: 0.83, Rolling Avg: -205.99, Steps: 155 Terminated: True \n",
      "Episode:  20/1500, Reward: -117.19, Epsilon: 0.82, Rolling Avg: -201.55, Steps: 126 Terminated: True \n",
      "Episode:  21/1500, Reward:  -74.68, Epsilon: 0.81, Rolling Avg: -187.77, Steps:  65 Terminated: True \n",
      "Episode:  22/1500, Reward: -156.13, Epsilon: 0.80, Rolling Avg: -182.83, Steps: 129 Terminated: True \n",
      "Episode:  23/1500, Reward: -308.96, Epsilon: 0.79, Rolling Avg: -191.15, Steps: 171 Terminated: True \n",
      "Episode:  24/1500, Reward:  -57.25, Epsilon: 0.79, Rolling Avg: -186.21, Steps:  92 Terminated: True \n",
      "Episode:  25/1500, Reward: -124.35, Epsilon: 0.78, Rolling Avg: -188.51, Steps:  82 Terminated: True \n",
      "Episode:  26/1500, Reward:  -71.99, Epsilon: 0.77, Rolling Avg: -185.26, Steps:  68 Terminated: True \n",
      "Episode:  27/1500, Reward: -151.79, Epsilon: 0.76, Rolling Avg: -173.70, Steps:  98 Terminated: True \n",
      "Episode:  28/1500, Reward: -104.24, Epsilon: 0.75, Rolling Avg: -164.43, Steps: 134 Terminated: True \n",
      "Episode:  29/1500, Reward: -140.01, Epsilon: 0.75, Rolling Avg: -166.70, Steps:  91 Terminated: True \n",
      "Episode:  30/1500, Reward: -134.99, Epsilon: 0.74, Rolling Avg: -168.43, Steps: 129 Terminated: True \n",
      "Episode:  31/1500, Reward:  -86.81, Epsilon: 0.73, Rolling Avg: -163.54, Steps: 180 Terminated: True \n",
      "Episode:  32/1500, Reward: -137.52, Epsilon: 0.72, Rolling Avg: -156.59, Steps: 155 Terminated: True \n",
      "Episode:  33/1500, Reward:  -50.42, Epsilon: 0.72, Rolling Avg: -156.30, Steps: 150 Terminated: True \n",
      "Episode:  34/1500, Reward: -119.22, Epsilon: 0.71, Rolling Avg: -153.61, Steps:  71 Terminated: True \n",
      "Episode:  35/1500, Reward:  -41.32, Epsilon: 0.70, Rolling Avg: -136.59, Steps:  86 Terminated: True \n",
      "Episode:  36/1500, Reward:  -96.53, Epsilon: 0.70, Rolling Avg: -128.80, Steps: 141 Terminated: True \n",
      "Episode:  37/1500, Reward:  -78.33, Epsilon: 0.69, Rolling Avg: -123.47, Steps: 108 Terminated: True \n",
      "Episode:  38/1500, Reward: -212.01, Epsilon: 0.68, Rolling Avg: -120.75, Steps: 162 Terminated: True \n",
      "Episode:  39/1500, Reward:  -73.91, Epsilon: 0.68, Rolling Avg: -116.88, Steps:  83 Terminated: True \n",
      "Episode:  40/1500, Reward:  -64.03, Epsilon: 0.67, Rolling Avg: -114.22, Steps: 144 Terminated: True \n",
      "Episode:  41/1500, Reward:  -31.42, Epsilon: 0.66, Rolling Avg: -112.06, Steps: 126 Terminated: True \n",
      "Episode:  42/1500, Reward: -231.28, Epsilon: 0.66, Rolling Avg: -115.82, Steps: 1026 Terminated: True \n",
      "Episode:  43/1500, Reward:  -25.52, Epsilon: 0.65, Rolling Avg: -101.65, Steps: 190 Terminated: True \n",
      "Episode:  44/1500, Reward: -155.42, Epsilon: 0.64, Rolling Avg: -106.56, Steps: 131 Terminated: True \n",
      "Episode:  45/1500, Reward:  -46.25, Epsilon: 0.64, Rolling Avg: -102.65, Steps: 104 Terminated: True \n",
      "Episode:  46/1500, Reward:  -59.98, Epsilon: 0.63, Rolling Avg: -102.05, Steps: 206 Terminated: True \n",
      "Episode:  47/1500, Reward:  -86.72, Epsilon: 0.62, Rolling Avg: -98.80, Steps: 126 Terminated: True \n",
      "Episode:  48/1500, Reward:  -53.93, Epsilon: 0.62, Rolling Avg: -96.28, Steps: 174 Terminated: True \n",
      "Episode:  49/1500, Reward: -125.50, Epsilon: 0.61, Rolling Avg: -95.56, Steps:  99 Terminated: True \n",
      "Episode:  50/1500, Reward: -129.34, Epsilon: 0.61, Rolling Avg: -95.27, Steps: 152 Terminated: True \n",
      "Episode:  51/1500, Reward:  -64.59, Epsilon: 0.60, Rolling Avg: -94.16, Steps: 180 Terminated: True \n",
      "Episode:  52/1500, Reward:  -96.22, Epsilon: 0.59, Rolling Avg: -92.10, Steps: 181 Terminated: True \n",
      "Episode:  53/1500, Reward:  -35.58, Epsilon: 0.59, Rolling Avg: -91.35, Steps:  92 Terminated: True \n",
      "Episode:  54/1500, Reward:  -67.88, Epsilon: 0.58, Rolling Avg: -88.79, Steps: 119 Terminated: True \n",
      "Episode:  55/1500, Reward: -155.55, Epsilon: 0.58, Rolling Avg: -94.50, Steps: 116 Terminated: True \n",
      "Episode:  56/1500, Reward:  -86.51, Epsilon: 0.57, Rolling Avg: -94.00, Steps: 165 Terminated: True \n",
      "Episode:  57/1500, Reward:  -27.00, Epsilon: 0.56, Rolling Avg: -91.43, Steps: 117 Terminated: True \n",
      "Episode:  58/1500, Reward:  +10.05, Epsilon: 0.56, Rolling Avg: -80.33, Steps: 238 Terminated: True \n",
      "Episode:  59/1500, Reward:   -1.99, Epsilon: 0.55, Rolling Avg: -76.73, Steps: 163 Terminated: True \n",
      "Episode:  60/1500, Reward:  -73.77, Epsilon: 0.55, Rolling Avg: -77.22, Steps: 111 Terminated: True \n",
      "Episode:  61/1500, Reward:  -75.59, Epsilon: 0.54, Rolling Avg: -79.43, Steps: 137 Terminated: True \n",
      "Episode:  62/1500, Reward:  -58.66, Epsilon: 0.54, Rolling Avg: -70.80, Steps: 143 Terminated: True \n",
      "Episode:  63/1500, Reward:  -23.48, Epsilon: 0.53, Rolling Avg: -70.70, Steps: 120 Terminated: True \n",
      "Episode:  64/1500, Reward:  -88.11, Epsilon: 0.53, Rolling Avg: -67.33, Steps: 164 Terminated: True \n",
      "Episode:  65/1500, Reward:   -3.21, Epsilon: 0.52, Rolling Avg: -65.18, Steps: 220 Terminated: True \n",
      "Episode:  66/1500, Reward:  -37.44, Epsilon: 0.52, Rolling Avg: -64.05, Steps: 210 Terminated: True \n",
      "Episode:  67/1500, Reward:  -92.29, Epsilon: 0.51, Rolling Avg: -64.33, Steps: 156 Terminated: True \n",
      "Episode:  68/1500, Reward:  -84.85, Epsilon: 0.50, Rolling Avg: -65.88, Steps: 180 Terminated: True \n",
      "Episode:  69/1500, Reward: -103.77, Epsilon: 0.50, Rolling Avg: -64.79, Steps: 133 Terminated: True \n",
      "Episode:  70/1500, Reward:  -80.56, Epsilon: 0.49, Rolling Avg: -62.35, Steps:  98 Terminated: True \n",
      "Episode:  71/1500, Reward:  -86.65, Epsilon: 0.49, Rolling Avg: -63.45, Steps: 180 Terminated: True \n",
      "Episode:  72/1500, Reward: -118.19, Epsilon: 0.48, Rolling Avg: -64.55, Steps: 106 Terminated: True \n",
      "Episode:  73/1500, Reward:  +47.96, Epsilon: 0.48, Rolling Avg: -60.38, Steps: 205 Terminated: True \n",
      "Episode:  74/1500, Reward: -108.35, Epsilon: 0.48, Rolling Avg: -62.40, Steps: 262 Terminated: True \n",
      "Episode:  75/1500, Reward: -171.62, Epsilon: 0.47, Rolling Avg: -63.20, Steps: 272 Terminated: True \n",
      "Episode:  76/1500, Reward:  +15.13, Epsilon: 0.47, Rolling Avg: -58.12, Steps: 222 Terminated: True \n",
      "Episode:  77/1500, Reward:  +87.30, Epsilon: 0.46, Rolling Avg: -52.41, Steps: 1199 Terminated: False \n",
      "Episode:  78/1500, Reward:  -16.82, Epsilon: 0.46, Rolling Avg: -53.75, Steps: 336 Terminated: True \n",
      "Episode:  79/1500, Reward:  -85.87, Epsilon: 0.45, Rolling Avg: -57.94, Steps:  81 Terminated: True \n",
      "Episode:  80/1500, Reward: -269.34, Epsilon: 0.45, Rolling Avg: -67.72, Steps: 264 Terminated: True \n",
      "Episode:  81/1500, Reward:  -57.77, Epsilon: 0.44, Rolling Avg: -66.83, Steps: 1199 Terminated: False \n"
     ]
    },
    {
     "name": "stdout",
     "output_type": "stream",
     "text": [
      "Episode:  82/1500, Reward: -217.16, Epsilon: 0.44, Rolling Avg: -74.75, Steps: 490 Terminated: True \n",
      "Episode:  83/1500, Reward:  -28.72, Epsilon: 0.43, Rolling Avg: -75.02, Steps: 208 Terminated: True \n",
      "Episode:  84/1500, Reward: -220.77, Epsilon: 0.43, Rolling Avg: -81.65, Steps: 542 Terminated: True \n",
      "Episode:  85/1500, Reward: -360.60, Epsilon: 0.43, Rolling Avg: -99.52, Steps: 971 Terminated: True \n",
      "Episode:  86/1500, Reward:  +34.62, Epsilon: 0.42, Rolling Avg: -95.92, Steps: 206 Terminated: True \n",
      "Episode:  87/1500, Reward:  +37.95, Epsilon: 0.42, Rolling Avg: -89.40, Steps: 166 Terminated: True \n",
      "Episode:  88/1500, Reward:  -34.40, Epsilon: 0.41, Rolling Avg: -86.88, Steps: 236 Terminated: True \n",
      "Episode:  89/1500, Reward:   -3.48, Epsilon: 0.41, Rolling Avg: -81.87, Steps: 173 Terminated: True \n",
      "Episode:  90/1500, Reward:  -72.22, Epsilon: 0.40, Rolling Avg: -81.45, Steps: 1199 Terminated: False \n",
      "Episode:  91/1500, Reward:  -70.60, Epsilon: 0.40, Rolling Avg: -80.65, Steps: 420 Terminated: True \n",
      "Episode:  92/1500, Reward:  -38.28, Epsilon: 0.40, Rolling Avg: -76.65, Steps: 1199 Terminated: False \n",
      "Episode:  93/1500, Reward:  -89.64, Epsilon: 0.39, Rolling Avg: -83.53, Steps: 1199 Terminated: False \n",
      "Episode:  94/1500, Reward: -100.66, Epsilon: 0.39, Rolling Avg: -83.15, Steps: 1199 Terminated: False \n",
      "Episode:  95/1500, Reward:  -34.42, Epsilon: 0.38, Rolling Avg: -76.29, Steps: 107 Terminated: True \n",
      "Episode:  96/1500, Reward: -129.37, Epsilon: 0.38, Rolling Avg: -83.51, Steps: 1199 Terminated: False \n",
      "Episode:  97/1500, Reward: -126.79, Epsilon: 0.38, Rolling Avg: -94.22, Steps: 1199 Terminated: False \n",
      "Episode:  98/1500, Reward: -225.37, Epsilon: 0.37, Rolling Avg: -104.65, Steps: 468 Terminated: True \n",
      "Episode:  99/1500, Reward: -103.55, Epsilon: 0.37, Rolling Avg: -105.53, Steps: 1199 Terminated: False \n",
      "Episode: 100/1500, Reward:  -83.66, Epsilon: 0.37, Rolling Avg: -96.25, Steps: 1199 Terminated: False \n",
      "Episode: 101/1500, Reward:   +1.58, Epsilon: 0.36, Rolling Avg: -93.28, Steps: 1199 Terminated: False \n",
      "Episode: 102/1500, Reward:  -87.06, Epsilon: 0.36, Rolling Avg: -86.77, Steps: 1199 Terminated: False \n",
      "Episode: 103/1500, Reward:  -49.69, Epsilon: 0.36, Rolling Avg: -87.82, Steps: 1199 Terminated: False \n",
      "Episode: 104/1500, Reward: -379.36, Epsilon: 0.35, Rolling Avg: -95.75, Steps: 845 Terminated: True \n",
      "Episode: 105/1500, Reward: -251.25, Epsilon: 0.35, Rolling Avg: -90.28, Steps: 591 Terminated: True \n",
      "Episode: 106/1500, Reward: -130.54, Epsilon: 0.34, Rolling Avg: -98.54, Steps: 1199 Terminated: False \n",
      "Episode: 107/1500, Reward: +111.17, Epsilon: 0.34, Rolling Avg: -94.88, Steps: 1046 Terminated: True \n",
      "Episode: 108/1500, Reward: -308.57, Epsilon: 0.34, Rolling Avg: -108.59, Steps: 939 Terminated: True \n",
      "Episode: 109/1500, Reward:  -37.49, Epsilon: 0.33, Rolling Avg: -110.29, Steps: 1199 Terminated: False \n",
      "Episode: 110/1500, Reward: -195.57, Epsilon: 0.33, Rolling Avg: -116.46, Steps: 490 Terminated: True \n",
      "Episode: 111/1500, Reward:  +21.43, Epsilon: 0.33, Rolling Avg: -111.85, Steps: 1199 Terminated: False \n",
      "Episode: 112/1500, Reward: -107.90, Epsilon: 0.32, Rolling Avg: -115.34, Steps: 814 Terminated: True \n",
      "Episode: 113/1500, Reward:  -19.20, Epsilon: 0.32, Rolling Avg: -111.81, Steps: 1199 Terminated: False \n",
      "Episode: 114/1500, Reward:   -9.98, Epsilon: 0.32, Rolling Avg: -107.28, Steps: 1199 Terminated: False \n",
      "Episode: 115/1500, Reward:  -52.06, Epsilon: 0.31, Rolling Avg: -108.16, Steps: 1199 Terminated: False \n",
      "Episode: 116/1500, Reward:   -2.05, Epsilon: 0.31, Rolling Avg: -101.79, Steps: 1199 Terminated: False \n",
      "Episode: 117/1500, Reward:  +19.50, Epsilon: 0.31, Rolling Avg: -94.48, Steps: 1199 Terminated: False \n",
      "Episode: 118/1500, Reward:   -0.95, Epsilon: 0.31, Rolling Avg: -83.26, Steps: 1199 Terminated: False \n",
      "Episode: 119/1500, Reward:  -23.96, Epsilon: 0.30, Rolling Avg: -79.28, Steps: 352 Terminated: True \n",
      "Episode: 120/1500, Reward:  -60.09, Epsilon: 0.30, Rolling Avg: -78.10, Steps: 1199 Terminated: False \n",
      "Episode: 121/1500, Reward:  -35.65, Epsilon: 0.30, Rolling Avg: -79.96, Steps: 1199 Terminated: False \n",
      "Episode: 122/1500, Reward:  -66.45, Epsilon: 0.29, Rolling Avg: -78.93, Steps: 1199 Terminated: False \n",
      "Episode: 123/1500, Reward:  -18.56, Epsilon: 0.29, Rolling Avg: -77.38, Steps: 1199 Terminated: False \n",
      "Episode: 124/1500, Reward:  -28.85, Epsilon: 0.29, Rolling Avg: -59.85, Steps: 1199 Terminated: False \n",
      "Episode: 125/1500, Reward:  -91.06, Epsilon: 0.28, Rolling Avg: -51.84, Steps: 1199 Terminated: False \n",
      "Episode: 126/1500, Reward:  -21.33, Epsilon: 0.28, Rolling Avg: -46.38, Steps: 1199 Terminated: False \n",
      "Episode: 127/1500, Reward:  -23.58, Epsilon: 0.28, Rolling Avg: -53.12, Steps: 1199 Terminated: False \n",
      "Episode: 128/1500, Reward:  -79.88, Epsilon: 0.28, Rolling Avg: -41.68, Steps: 1199 Terminated: False \n",
      "Episode: 129/1500, Reward: +175.96, Epsilon: 0.27, Rolling Avg: -31.01, Steps: 631 Terminated: True \n",
      "Episode: 130/1500, Reward:  -20.87, Epsilon: 0.27, Rolling Avg: -22.28, Steps: 1199 Terminated: False \n",
      "Episode: 131/1500, Reward:  +15.29, Epsilon: 0.27, Rolling Avg: -22.58, Steps: 203 Terminated: True \n",
      "Episode: 132/1500, Reward:  -54.05, Epsilon: 0.27, Rolling Avg: -19.89, Steps: 1199 Terminated: False \n",
      "Episode: 133/1500, Reward:   -7.51, Epsilon: 0.26, Rolling Avg: -19.31, Steps: 1199 Terminated: False \n",
      "Episode: 134/1500, Reward:  -17.95, Epsilon: 0.26, Rolling Avg: -19.71, Steps: 1199 Terminated: False \n",
      "Episode: 135/1500, Reward:   +9.49, Epsilon: 0.26, Rolling Avg: -16.63, Steps: 1199 Terminated: False \n",
      "Episode: 136/1500, Reward:  -47.24, Epsilon: 0.25, Rolling Avg: -18.89, Steps: 1199 Terminated: False \n",
      "Episode: 137/1500, Reward:  -33.31, Epsilon: 0.25, Rolling Avg: -21.53, Steps: 1199 Terminated: False \n",
      "Episode: 138/1500, Reward:  -79.18, Epsilon: 0.25, Rolling Avg: -25.44, Steps: 1199 Terminated: False \n",
      "Episode: 139/1500, Reward:   +7.07, Epsilon: 0.25, Rolling Avg: -23.89, Steps: 1199 Terminated: False \n",
      "Episode: 140/1500, Reward: -356.45, Epsilon: 0.24, Rolling Avg: -38.71, Steps: 1002 Terminated: True \n",
      "Episode: 141/1500, Reward:  +21.56, Epsilon: 0.24, Rolling Avg: -35.85, Steps: 1199 Terminated: False \n",
      "Episode: 142/1500, Reward:  -56.99, Epsilon: 0.24, Rolling Avg: -35.37, Steps: 1199 Terminated: False \n",
      "Episode: 143/1500, Reward:  +27.69, Epsilon: 0.24, Rolling Avg: -33.06, Steps: 1199 Terminated: False \n",
      "Episode: 144/1500, Reward:  +31.38, Epsilon: 0.24, Rolling Avg: -30.05, Steps: 1199 Terminated: False \n",
      "Episode: 145/1500, Reward:  +63.22, Epsilon: 0.23, Rolling Avg: -22.33, Steps: 1199 Terminated: False \n",
      "Episode: 146/1500, Reward:   +3.23, Epsilon: 0.23, Rolling Avg: -21.11, Steps: 1199 Terminated: False \n",
      "Episode: 147/1500, Reward:  +93.71, Epsilon: 0.23, Rolling Avg: -15.24, Steps: 1199 Terminated: False \n",
      "Episode: 148/1500, Reward: +156.25, Epsilon: 0.23, Rolling Avg:  -3.44, Steps: 1199 Terminated: False \n",
      "Episode: 149/1500, Reward:  -22.48, Epsilon: 0.22, Rolling Avg: -13.36, Steps: 1199 Terminated: False \n",
      "Episode: 150/1500, Reward:  +35.38, Epsilon: 0.22, Rolling Avg: -10.54, Steps: 1199 Terminated: False \n",
      "Episode: 151/1500, Reward: +213.28, Epsilon: 0.22, Rolling Avg:  -0.65, Steps: 725 Terminated: True \n",
      "Episode: 152/1500, Reward:  +41.83, Epsilon: 0.22, Rolling Avg:   4.15, Steps: 1199 Terminated: False \n",
      "Episode: 153/1500, Reward:  +76.26, Epsilon: 0.21, Rolling Avg:   8.34, Steps: 1199 Terminated: False \n",
      "Episode: 154/1500, Reward:  +48.42, Epsilon: 0.21, Rolling Avg:  11.66, Steps: 1199 Terminated: False \n",
      "Episode: 155/1500, Reward:  +51.00, Epsilon: 0.21, Rolling Avg:  13.73, Steps: 1199 Terminated: False \n",
      "Episode: 156/1500, Reward: +180.09, Epsilon: 0.21, Rolling Avg:  25.10, Steps: 693 Terminated: True \n",
      "Episode: 157/1500, Reward: +197.46, Epsilon: 0.21, Rolling Avg:  36.64, Steps: 852 Terminated: True \n",
      "Episode: 158/1500, Reward: +166.75, Epsilon: 0.20, Rolling Avg:  48.93, Steps: 688 Terminated: True \n",
      "Episode: 159/1500, Reward: +153.03, Epsilon: 0.20, Rolling Avg:  56.23, Steps: 773 Terminated: True \n",
      "Episode: 160/1500, Reward: +172.19, Epsilon: 0.20, Rolling Avg:  82.66, Steps: 656 Terminated: True \n",
      "Episode: 161/1500, Reward:  +96.07, Epsilon: 0.20, Rolling Avg:  86.39, Steps: 1199 Terminated: False \n"
     ]
    },
    {
     "name": "stdout",
     "output_type": "stream",
     "text": [
      "Episode: 162/1500, Reward:  +86.59, Epsilon: 0.20, Rolling Avg:  93.57, Steps: 1199 Terminated: False \n",
      "Episode: 163/1500, Reward: +184.07, Epsilon: 0.19, Rolling Avg: 101.39, Steps: 891 Terminated: True \n",
      "Episode: 164/1500, Reward:  +61.12, Epsilon: 0.19, Rolling Avg: 102.88, Steps: 1199 Terminated: False \n",
      "Episode: 165/1500, Reward: +233.06, Epsilon: 0.19, Rolling Avg: 111.37, Steps: 1108 Terminated: True \n",
      "Episode: 166/1500, Reward: +184.41, Epsilon: 0.19, Rolling Avg: 120.43, Steps: 1143 Terminated: True \n",
      "Episode: 167/1500, Reward:  +57.40, Epsilon: 0.19, Rolling Avg: 118.61, Steps: 1199 Terminated: False \n",
      "Episode: 168/1500, Reward: +226.23, Epsilon: 0.18, Rolling Avg: 122.11, Steps: 883 Terminated: True \n",
      "Episode: 169/1500, Reward: -115.48, Epsilon: 0.18, Rolling Avg: 117.46, Steps: 1199 Terminated: False \n",
      "Episode: 170/1500, Reward:  +72.56, Epsilon: 0.18, Rolling Avg: 119.32, Steps: 1199 Terminated: False \n",
      "Episode: 171/1500, Reward:  +76.76, Epsilon: 0.18, Rolling Avg: 112.49, Steps: 1199 Terminated: False \n",
      "Episode: 172/1500, Reward: +114.13, Epsilon: 0.18, Rolling Avg: 116.11, Steps: 1199 Terminated: False \n",
      "Episode: 173/1500, Reward: +167.63, Epsilon: 0.18, Rolling Avg: 120.68, Steps: 754 Terminated: True \n",
      "Episode: 174/1500, Reward:  +24.67, Epsilon: 0.17, Rolling Avg: 119.49, Steps: 1199 Terminated: False \n",
      "Episode: 175/1500, Reward: +209.96, Epsilon: 0.17, Rolling Avg: 127.44, Steps: 845 Terminated: True \n",
      "Episode: 176/1500, Reward: +192.72, Epsilon: 0.17, Rolling Avg: 128.07, Steps: 1033 Terminated: True \n",
      "Episode: 177/1500, Reward:  +26.32, Epsilon: 0.17, Rolling Avg: 119.51, Steps: 1199 Terminated: False \n",
      "Episode: 178/1500, Reward: +201.42, Epsilon: 0.17, Rolling Avg: 121.24, Steps: 920 Terminated: True \n",
      "Episode: 179/1500, Reward: +170.58, Epsilon: 0.17, Rolling Avg: 122.12, Steps: 1051 Terminated: True \n",
      "Episode: 180/1500, Reward: +182.61, Epsilon: 0.16, Rolling Avg: 122.64, Steps: 957 Terminated: True \n",
      "Episode: 181/1500, Reward:  +82.25, Epsilon: 0.16, Rolling Avg: 121.95, Steps: 1199 Terminated: False \n",
      "Episode: 182/1500, Reward: +169.60, Epsilon: 0.16, Rolling Avg: 126.10, Steps: 1075 Terminated: True \n",
      "Episode: 183/1500, Reward:  +94.38, Epsilon: 0.16, Rolling Avg: 121.62, Steps: 992 Terminated: True \n",
      "Episode: 184/1500, Reward: +180.11, Epsilon: 0.16, Rolling Avg: 127.57, Steps: 742 Terminated: True \n",
      "Episode: 185/1500, Reward:  +57.11, Epsilon: 0.16, Rolling Avg: 118.77, Steps: 1199 Terminated: False \n",
      "Episode: 186/1500, Reward:  +78.48, Epsilon: 0.15, Rolling Avg: 113.47, Steps: 1199 Terminated: False \n",
      "Episode: 187/1500, Reward: +183.24, Epsilon: 0.15, Rolling Avg: 119.76, Steps: 673 Terminated: True \n",
      "Episode: 188/1500, Reward:  +60.51, Epsilon: 0.15, Rolling Avg: 111.48, Steps: 1199 Terminated: False \n",
      "Episode: 189/1500, Reward: +169.29, Epsilon: 0.15, Rolling Avg: 125.72, Steps: 912 Terminated: True \n",
      "Episode: 190/1500, Reward:  +27.32, Epsilon: 0.15, Rolling Avg: 123.45, Steps: 1199 Terminated: False \n",
      "Episode: 191/1500, Reward: -1274.12, Epsilon: 0.15, Rolling Avg:  55.91, Steps: 230 Terminated: True \n",
      "Episode: 192/1500, Reward: +212.95, Epsilon: 0.15, Rolling Avg:  60.85, Steps: 648 Terminated: True \n",
      "Episode: 193/1500, Reward: +179.47, Epsilon: 0.14, Rolling Avg:  61.44, Steps: 999 Terminated: True \n",
      "Episode: 194/1500, Reward: +180.35, Epsilon: 0.14, Rolling Avg:  69.23, Steps: 718 Terminated: True \n",
      "Episode: 195/1500, Reward: +211.76, Epsilon: 0.14, Rolling Avg:  69.32, Steps: 821 Terminated: True \n",
      "Episode: 196/1500, Reward: +209.35, Epsilon: 0.14, Rolling Avg:  70.15, Steps: 534 Terminated: True \n",
      "Episode: 197/1500, Reward: +244.20, Epsilon: 0.14, Rolling Avg:  81.04, Steps: 707 Terminated: True \n",
      "Episode: 198/1500, Reward:  +99.59, Epsilon: 0.14, Rolling Avg:  75.95, Steps: 926 Terminated: True \n",
      "Episode: 199/1500, Reward: +247.02, Epsilon: 0.14, Rolling Avg:  79.77, Steps: 465 Terminated: True \n",
      "Episode: 200/1500, Reward: +174.46, Epsilon: 0.13, Rolling Avg:  79.37, Steps: 721 Terminated: True \n",
      "Episode: 201/1500, Reward: +178.14, Epsilon: 0.13, Rolling Avg:  84.16, Steps: 1063 Terminated: True \n",
      "Episode: 202/1500, Reward: +178.31, Epsilon: 0.13, Rolling Avg:  84.59, Steps: 1083 Terminated: True \n",
      "Episode: 203/1500, Reward: +244.01, Epsilon: 0.13, Rolling Avg:  92.08, Steps: 572 Terminated: True \n",
      "Episode: 204/1500, Reward: +217.01, Epsilon: 0.13, Rolling Avg:  93.92, Steps: 444 Terminated: True \n",
      "Episode: 205/1500, Reward: +224.23, Epsilon: 0.13, Rolling Avg: 102.28, Steps: 392 Terminated: True \n",
      "Episode: 206/1500, Reward: -297.42, Epsilon: 0.13, Rolling Avg:  83.48, Steps: 975 Terminated: True \n",
      "Episode: 207/1500, Reward: +197.87, Epsilon: 0.12, Rolling Avg:  84.21, Steps: 631 Terminated: True \n",
      "Episode: 208/1500, Reward: +228.99, Epsilon: 0.12, Rolling Avg:  92.64, Steps: 637 Terminated: True \n",
      "Episode: 209/1500, Reward: +179.26, Epsilon: 0.12, Rolling Avg:  93.14, Steps: 580 Terminated: True \n",
      "Episode: 210/1500, Reward: +177.36, Epsilon: 0.12, Rolling Avg: 100.64, Steps: 810 Terminated: True \n",
      "Episode: 211/1500, Reward: +212.57, Epsilon: 0.12, Rolling Avg: 174.97, Steps: 729 Terminated: True \n",
      "Episode: 212/1500, Reward: +191.97, Epsilon: 0.12, Rolling Avg: 173.92, Steps: 708 Terminated: True \n",
      "Episode: 213/1500, Reward: +130.40, Epsilon: 0.12, Rolling Avg: 171.47, Steps: 990 Terminated: True \n",
      "Episode: 214/1500, Reward: +223.54, Epsilon: 0.12, Rolling Avg: 173.63, Steps: 633 Terminated: True \n",
      "Episode: 215/1500, Reward: +224.21, Epsilon: 0.12, Rolling Avg: 174.25, Steps: 614 Terminated: True \n",
      "Episode: 216/1500, Reward: +207.87, Epsilon: 0.11, Rolling Avg: 174.18, Steps: 731 Terminated: True \n",
      "Episode: 217/1500, Reward: +267.12, Epsilon: 0.11, Rolling Avg: 175.33, Steps: 397 Terminated: True \n",
      "Episode: 218/1500, Reward: +157.80, Epsilon: 0.11, Rolling Avg: 178.24, Steps: 740 Terminated: True \n",
      "Episode: 219/1500, Reward: +262.28, Epsilon: 0.11, Rolling Avg: 179.00, Steps: 665 Terminated: True \n",
      "Episode: 220/1500, Reward: +240.47, Epsilon: 0.11, Rolling Avg: 182.30, Steps: 768 Terminated: True \n",
      "Episode: 221/1500, Reward: +217.03, Epsilon: 0.11, Rolling Avg: 184.24, Steps: 676 Terminated: True \n",
      "Episode: 222/1500, Reward: +214.93, Epsilon: 0.11, Rolling Avg: 186.08, Steps: 458 Terminated: True \n",
      "Episode: 223/1500, Reward: +192.24, Epsilon: 0.11, Rolling Avg: 183.49, Steps: 554 Terminated: True \n",
      "Episode: 224/1500, Reward: +267.10, Epsilon: 0.11, Rolling Avg: 185.99, Steps: 450 Terminated: True \n",
      "Episode: 225/1500, Reward: +282.29, Epsilon: 0.10, Rolling Avg: 188.89, Steps: 397 Terminated: True \n",
      "Episode: 226/1500, Reward: +270.37, Epsilon: 0.10, Rolling Avg: 217.28, Steps: 480 Terminated: True \n",
      "Environment solved in 226 episodes!\n"
     ]
    }
   ],
   "source": [
    "rewards_per_episode= []\n",
    "\n",
    "done = False\n",
    "rolling_avg = 0\n",
    "rolling_avg_rewards = []\n",
    "\n",
    "for e in range(MAX_EPISODES):                           # Should be While True, however we limit number of eps\n",
    "    state, _ = env.reset()\n",
    "    state = np.reshape(state, [1, state_size])\n",
    "    total_reward = 0\n",
    "    \n",
    "    for step in range(MAX_STEPS):\n",
    "            \n",
    "        action = select_action_greedy(state, DQN)\n",
    "        next_state, reward, done, truncated , _ = env.step(action)\n",
    "                    \n",
    "        next_state = np.reshape(next_state, [1, state_size])\n",
    "        store(state, action, reward, next_state, done)\n",
    "        state = next_state\n",
    "        total_reward = total_reward + reward\n",
    "        if done:\n",
    "            break\n",
    "            \n",
    "        if len(replay_buffer) > batch_size:\n",
    "            experience_replay(batch_size, DQN, epsilon)\n",
    "            \n",
    "    epsilon = max(epsilon_min, epsilon * epsilon_decay)            # decay epsilon\n",
    "    \n",
    "    rewards_per_episode.append(total_reward)\n",
    "    rolling_avg = np.mean(rewards_per_episode[-ROLLING_WINDOW:])   # append rewards\n",
    "    rolling_avg_rewards.append(rolling_avg)\n",
    "    print(f\"Episode: {e+1:3}/{MAX_EPISODES}, Reward: {total_reward:+7.2f}, \"\n",
    "          f\"Epsilon: {epsilon:.2f}, Rolling Avg: {rolling_avg:6.2f}, Steps: {step:4} Terminated: {done} \")\n",
    "\n",
    "            \n",
    "    # Check if environment is solved\n",
    "    if rolling_avg >= solved_threshold:\n",
    "        print(f\"Environment solved in {e+1} episodes!\")\n",
    "#            model.save(\"lunarlander_ddqn_model1.keras\")\n",
    "        break"
   ]
  },
  {
   "cell_type": "markdown",
   "id": "5419d918",
   "metadata": {},
   "source": [
    "#### **Learning Plot and Episode Rewards**"
   ]
  },
  {
   "cell_type": "code",
   "execution_count": 11,
   "id": "0724b047",
   "metadata": {},
   "outputs": [
    {
     "data": {
      "image/png": "[encoded data removed]",
      "text/plain": [
       "<Figure size 1000x600 with 1 Axes>"
      ]
     },
     "metadata": {},
     "output_type": "display_data"
    }
   ],
   "source": [
    "# Plot rewards with rolling average\n",
    "\n",
    "plt.figure(figsize=(10, 6))\n",
    "plt.plot(rewards_per_episode, label='Rewards', color='blue')\n",
    "plt.plot(rolling_avg_rewards, label='Rolling Avg (Last 20 Episodes)', color='orange')\n",
    "plt.axhline(y=solved_threshold, color='red', linestyle='--', label='Solved Threshold')\n",
    "plt.title('DQN Training Performance LUNARLANDER')\n",
    "plt.xlabel('Episodes')\n",
    "plt.ylabel('Rewards')\n",
    "plt.legend()\n",
    "plt.grid()\n",
    "plt.show()"
   ]
  },
  {
   "cell_type": "markdown",
   "id": "51baef8f",
   "metadata": {},
   "source": [
    "#### **Simulation - Testing 10 episodes with the DQN Network**"
   ]
  },
  {
   "cell_type": "code",
   "execution_count": 8,
   "id": "1ade8d4a",
   "metadata": {},
   "outputs": [
    {
     "name": "stdout",
     "output_type": "stream",
     "text": [
      "Test Episode:  1/10, Reward: 213.23, Steps: 400\n",
      "Test Episode:  2/10, Reward: 114.97, Steps: 630\n",
      "Test Episode:  3/10, Reward: 223.71, Steps: 454\n",
      "Test Episode:  4/10, Reward: 206.63, Steps: 531\n",
      "Test Episode:  5/10, Reward: 221.14, Steps: 630\n",
      "Test Episode:  6/10, Reward: 267.86, Steps: 418\n",
      "Test Episode:  7/10, Reward: 214.48, Steps: 535\n",
      "Test Episode:  8/10, Reward: 216.96, Steps: 543\n",
      "Test Episode:  9/10, Reward: 226.50, Steps: 455\n",
      "Test Episode: 10/10, Reward: 255.44, Steps: 411\n",
      "Testing completed in 2.95 minutes\n"
     ]
    }
   ],
   "source": [
    "# Testing for 10 episodes\n",
    "start_time = time.time()\n",
    "\n",
    "for e_test in range(10):  # Run 10 test episodes\n",
    "    state, _ = env.reset()\n",
    "    state = np.reshape(state, [1, state_size])\n",
    "    total_reward = 0\n",
    "    \n",
    "    steps = 0\n",
    "    while True:\n",
    "        # Use the trained model for testing\n",
    "        action_vals = DQN.predict(state, verbose=0)  # Predict action values\n",
    "        action = np.argmax(action_vals[0])  # Choose the action with the highest Q-value\n",
    "\n",
    "        next_state, reward, done, truncated, _ = env.step(action)\n",
    "        next_state = np.reshape(next_state, [1, state_size])\n",
    "        total_reward += reward\n",
    "        state = next_state\n",
    "        steps = steps + 1\n",
    "        if done or truncated:\n",
    "            print(f\"Test Episode: {e_test + 1:2}/10, Reward: {total_reward:.2f}, Steps: {steps:3}\")\n",
    "            break\n",
    "\n",
    "end_time = time.time()\n",
    "testing_duration = (end_time - start_time) / 60  # Convert to minutes\n",
    "print(f\"Testing completed in {testing_duration:.2f} minutes\")"
   ]
  },
  {
   "cell_type": "markdown",
   "id": "67f36b76",
   "metadata": {},
   "source": [
    "#### **Rendering 1 episode**"
   ]
  },
  {
   "cell_type": "code",
   "execution_count": 9,
   "id": "0e9e3acd",
   "metadata": {},
   "outputs": [
    {
     "name": "stdout",
     "output_type": "stream",
     "text": [
      "Rendered Test Episode Reward: 207.29\n",
      "Saved GIF to: ./LUNARLANDER_DQN.gif\n"
     ]
    }
   ],
   "source": [
    "# Test the trained agent with video rendering\n",
    "# This code is useful if you are using colab otherwise use render_mode='human'\n",
    "env = gym.make(('LunarLander-v3'), render_mode='rgb_array')  # Enable RGB rendering\n",
    "frames = []  # Store frames for visualization\n",
    "\n",
    "# Render a single test episode\n",
    "state, _ = env.reset()\n",
    "state = np.reshape(state, [1, state_size])\n",
    "tot_rewards = 0\n",
    "\n",
    "while True:\n",
    "    # Use the trained model for action\n",
    "    action_vals = DQN.predict(state, verbose=0)  # Predict action values\n",
    "    action = np.argmax(action_vals[0])           # Choose the action with the highest Q-value\n",
    "\n",
    "    next_state, reward, done, truncated, _ = env.step(action)\n",
    "    frames.append(env.render())                  # Save frame for rendering later\n",
    "    next_state = np.reshape(next_state, [1, state_size])\n",
    "    tot_rewards += reward\n",
    "    state = next_state\n",
    "\n",
    "    if done or truncated:\n",
    "        print(f\"Rendered Test Episode Reward: {tot_rewards:.2f}\")\n",
    "        break\n",
    "\n",
    "env.close()\n",
    "\n",
    "# Save the rendered episode as a GIF\n",
    "def save_frames_as_gif(frames, path='./', filename='LUNARLANDER_DQN.gif'):\n",
    "    images = [Image.fromarray(frame) for frame in frames]\n",
    "    gif_path = os.path.join(path, filename)\n",
    "    images[0].save(gif_path, save_all=True, append_images=images[1:], duration=50, loop=0)\n",
    "    print(f\"Saved GIF to: {gif_path}\")\n",
    "\n",
    "save_frames_as_gif(frames, filename='LUNARLANDER_DQN.gif')\n"
   ]
  },
  {
   "cell_type": "code",
   "execution_count": 10,
   "id": "017d49c2",
   "metadata": {},
   "outputs": [
    {
     "name": "stdout",
     "output_type": "stream",
     "text": [
      "-----\n",
      "PIL                 11.0.0\n",
      "gymnasium           1.0.0\n",
      "keras               3.6.0\n",
      "matplotlib          3.9.2\n",
      "numpy               1.26.4\n",
      "session_info        1.0.0\n",
      "tensorflow          2.17.1\n",
      "-----\n",
      "IPython             8.28.0\n",
      "jupyter_client      8.6.3\n",
      "jupyter_core        5.7.2\n",
      "-----\n",
      "Python 3.12.3 (main, Jan 17 2025, 18:03:48) [GCC 13.3.0]\n",
      "Linux-5.15.167.4-microsoft-standard-WSL2-x86_64-with-glibc2.39\n",
      "-----\n",
      "Session information updated at 2025-02-02 16:18\n"
     ]
    }
   ],
   "source": [
    "import session_info\n",
    "session_info.show(html=False)"
   ]
  }
 ],
 "metadata": {
  "kernelspec": {
   "display_name": "DL-Keras",
   "language": "python",
   "name": "dl-keras"
  },
  "language_info": {
   "codemirror_mode": {
    "name": "ipython",
    "version": 3
   },
   "file_extension": ".py",
   "mimetype": "text/x-python",
   "name": "python",
   "nbconvert_exporter": "python",
   "pygments_lexer": "ipython3",
   "version": "3.12.3"
  }
 },
 "nbformat": 4,
 "nbformat_minor": 5
}
