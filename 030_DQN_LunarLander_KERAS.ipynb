{
 "cells": [
  {
   "cell_type": "markdown",
   "id": "ccb89376",
   "metadata": {},
   "source": [
    "### **LUNAR LANDER DQN KERAS**\n",
    "\n",
    "This is a naive version of the CARTPOLE DQN algorithm <br>\n",
    " <br>\n",
    "Try to make it faster by doing some hyperparameter optimization  <br>\n",
    "Try to explore less. Does it accelerates convergence?  <br>\n",
    "Increasing the ```ROLLING_WINDOW``` value will gnerate slower agent convergence but the Agent behavior will be more consistent <br>\n",
    "\n",
    "An issue you may find is a lander that hovers forever. This happens because it has been programmed with infinite fuel. You can see it in this execution in the lines that are marked as ```Terminated=False```. Without modifying the environment, there are a couple of things that can be done to ameliorate this behavior <br>\n",
    "\n",
    "1. **Limit number of steps** In this case we are limiting the number of steps to 1200\n",
    "2. **Increase gravity** The default gravity in this environment is -10.0, you can increase it up to -12.0, increasing it you'll have a faster descent and hovering becomes more difficult ```env = gym.make(\"LunarLander-v3\", gravity=11.0)```\n",
    "\n",
    "\n"
   ]
  },
  {
   "cell_type": "code",
   "execution_count": 1,
   "id": "557b1b33",
   "metadata": {},
   "outputs": [
    {
     "name": "stdout",
     "output_type": "stream",
     "text": [
      "Num GPUs Available:  1\n"
     ]
    },
    {
     "name": "stderr",
     "output_type": "stream",
     "text": [
      "WARNING: All log messages before absl::InitializeLog() is called are written to STDERR\n",
      "I0000 00:00:1739000290.050763   11770 cuda_executor.cc:1001] could not open file to read NUMA node: /sys/bus/pci/devices/0000:01:00.0/numa_node\n",
      "Your kernel may have been built without NUMA support.\n",
      "I0000 00:00:1739000290.070425   11770 cuda_executor.cc:1001] could not open file to read NUMA node: /sys/bus/pci/devices/0000:01:00.0/numa_node\n",
      "Your kernel may have been built without NUMA support.\n",
      "I0000 00:00:1739000290.070471   11770 cuda_executor.cc:1001] could not open file to read NUMA node: /sys/bus/pci/devices/0000:01:00.0/numa_node\n",
      "Your kernel may have been built without NUMA support.\n",
      "I0000 00:00:1739000290.142483   11770 cuda_executor.cc:1001] could not open file to read NUMA node: /sys/bus/pci/devices/0000:01:00.0/numa_node\n",
      "Your kernel may have been built without NUMA support.\n",
      "I0000 00:00:1739000290.142570   11770 cuda_executor.cc:1001] could not open file to read NUMA node: /sys/bus/pci/devices/0000:01:00.0/numa_node\n",
      "Your kernel may have been built without NUMA support.\n",
      "I0000 00:00:1739000290.142592   11770 cuda_executor.cc:1001] could not open file to read NUMA node: /sys/bus/pci/devices/0000:01:00.0/numa_node\n",
      "Your kernel may have been built without NUMA support.\n",
      "I0000 00:00:1739000290.988821   11770 cuda_executor.cc:1001] could not open file to read NUMA node: /sys/bus/pci/devices/0000:01:00.0/numa_node\n",
      "Your kernel may have been built without NUMA support.\n",
      "I0000 00:00:1739000290.988924   11770 cuda_executor.cc:1001] could not open file to read NUMA node: /sys/bus/pci/devices/0000:01:00.0/numa_node\n",
      "Your kernel may have been built without NUMA support.\n",
      "I0000 00:00:1739000290.988976   11770 cuda_executor.cc:1001] could not open file to read NUMA node: /sys/bus/pci/devices/0000:01:00.0/numa_node\n",
      "Your kernel may have been built without NUMA support.\n",
      "I0000 00:00:1739000291.069198   11770 cuda_executor.cc:1001] could not open file to read NUMA node: /sys/bus/pci/devices/0000:01:00.0/numa_node\n",
      "Your kernel may have been built without NUMA support.\n",
      "I0000 00:00:1739000291.069286   11770 cuda_executor.cc:1001] could not open file to read NUMA node: /sys/bus/pci/devices/0000:01:00.0/numa_node\n",
      "Your kernel may have been built without NUMA support.\n",
      "I0000 00:00:1739000291.069302   11770 cuda_executor.cc:1001] could not open file to read NUMA node: /sys/bus/pci/devices/0000:01:00.0/numa_node\n",
      "Your kernel may have been built without NUMA support.\n",
      "I0000 00:00:1739000291.069558   11770 cuda_executor.cc:1001] could not open file to read NUMA node: /sys/bus/pci/devices/0000:01:00.0/numa_node\n",
      "Your kernel may have been built without NUMA support.\n",
      "I0000 00:00:1739000291.069586   11770 cuda_executor.cc:1001] could not open file to read NUMA node: /sys/bus/pci/devices/0000:01:00.0/numa_node\n",
      "Your kernel may have been built without NUMA support.\n",
      "WARNING: All log messages before absl::InitializeLog() is called are written to STDERR\n",
      "I0000 00:00:1739000291.758402   11870 service.cc:146] XLA service 0x7f93ec004d20 initialized for platform CUDA (this does not guarantee that XLA will be used). Devices:\n",
      "I0000 00:00:1739000291.758429   11870 service.cc:154]   StreamExecutor device (0): NVIDIA T600 Laptop GPU, Compute Capability 7.5\n",
      "I0000 00:00:1739000292.212334   11870 device_compiler.h:188] Compiled cluster using XLA!  This line is logged at most once for the lifetime of the process.\n"
     ]
    }
   ],
   "source": [
    "import os\n",
    "os.environ['TF_CPP_MIN_LOG_LEVEL'] = '3' \n",
    "\n",
    "import random\n",
    "import gymnasium as gym\n",
    "import time\n",
    "import numpy as np\n",
    "from collections import deque\n",
    "from keras.models import Sequential, Model\n",
    "from keras.layers import Dense, Input\n",
    "from keras.optimizers import Adam\n",
    "import matplotlib.pyplot as plt\n",
    "from PIL import Image\n",
    "\n",
    "import tensorflow as tf\n",
    "print(\"Num GPUs Available: \", len(tf.config.list_physical_devices('GPU')))\n",
    "\n",
    "import sys\n",
    "sys.stderr = open('err.txt', 'w')"
   ]
  },
  {
   "cell_type": "code",
   "execution_count": 2,
   "id": "778ab31e",
   "metadata": {},
   "outputs": [
    {
     "name": "stdout",
     "output_type": "stream",
     "text": [
      "Using device: 0, name: NVIDIA T600 Laptop GPU, pci bus id: 0000:01:00.0, compute capability: 7.5\n"
     ]
    }
   ],
   "source": [
    "# GPU\n",
    "from tensorflow.python.client import device_lib\n",
    "devices = device_lib.list_local_devices()\n",
    "gpu_devices = [device for device in devices if device.device_type == 'GPU']\n",
    "for gpu in gpu_devices:\n",
    "    print('Using', gpu.physical_device_desc)"
   ]
  },
  {
   "cell_type": "markdown",
   "id": "ae2be125",
   "metadata": {},
   "source": [
    "#### **Hyperparameters**"
   ]
  },
  {
   "cell_type": "code",
   "execution_count": 3,
   "id": "78010280",
   "metadata": {},
   "outputs": [],
   "source": [
    "# Set up hyperparameters\n",
    "MAX_EPISODES = 1500\n",
    "ROLLING_WINDOW = 40\n",
    "MEMORY_SIZE = 100000\n",
    "MAX_STEPS = 1200\n",
    "\n",
    "gamma = 0.99                         # discount rate\n",
    "epsilon = 1.0                        # exploration rate\n",
    "epsilon_min = 0.01\n",
    "epsilon_decay = 0.99\n",
    "learning_rate = 0.0001\n",
    "batch_size = 64\n",
    "solved_threshold = 200\n",
    "\n",
    "verb = 0                             # to see traces (verbosity)"
   ]
  },
  {
   "cell_type": "code",
   "execution_count": 4,
   "id": "d058e6b0",
   "metadata": {},
   "outputs": [],
   "source": [
    "# Environment setup\n",
    "env = gym.make('LunarLander-v3')\n",
    "state_size = env.observation_space.shape[0]\n",
    "action_size = env.action_space.n"
   ]
  },
  {
   "cell_type": "markdown",
   "id": "7fa84c05",
   "metadata": {},
   "source": [
    "#### **Neural Network**"
   ]
  },
  {
   "cell_type": "code",
   "execution_count": 5,
   "id": "5799f12c",
   "metadata": {},
   "outputs": [],
   "source": [
    "def build_model(state_size, action_size):\n",
    "    inputs = Input(shape=(state_size,), name=\"input_layer\")\n",
    "    x = Dense(128, activation='relu', name=\"hidden_1\")(inputs)\n",
    "    x = Dense(64, activation='relu', name=\"hidden_2\")(x)\n",
    "    x = Dense(32, activation='relu', name=\"hidden_3\")(x)\n",
    "    outputs = Dense(action_size, activation='linear', name=\"output_layer\")(x)\n",
    "    \n",
    "    model = Model(inputs=inputs, outputs=outputs, name=\"Q_Network\")\n",
    "#    model.compile(optimizer=Adam(learning_rate=learning_rate, clipnorm=1.0), loss='mse') # to improve train stability\n",
    "    model.compile(loss='mse', optimizer=Adam(learning_rate=learning_rate))\n",
    "    return model"
   ]
  },
  {
   "cell_type": "markdown",
   "id": "b7fca383",
   "metadata": {},
   "source": [
    "#### **Support Functions**"
   ]
  },
  {
   "cell_type": "code",
   "execution_count": 6,
   "id": "10c07fd6",
   "metadata": {
    "scrolled": false
   },
   "outputs": [
    {
     "data": {
      "text/html": [
       "<pre style=\"white-space:pre;overflow-x:auto;line-height:normal;font-family:Menlo,'DejaVu Sans Mono',consolas,'Courier New',monospace\"><span style=\"font-weight: bold\">Model: \"Q_Network\"</span>\n",
       "</pre>\n"
      ],
      "text/plain": [
       "\u001b[1mModel: \"Q_Network\"\u001b[0m\n"
      ]
     },
     "metadata": {},
     "output_type": "display_data"
    },
    {
     "data": {
      "text/html": [
       "<pre style=\"white-space:pre;overflow-x:auto;line-height:normal;font-family:Menlo,'DejaVu Sans Mono',consolas,'Courier New',monospace\">┏━━━━━━━━━━━━━━━━━━━━━━━━━━━━━━━━━┳━━━━━━━━━━━━━━━━━━━━━━━━┳━━━━━━━━━━━━━━━┓\n",
       "┃<span style=\"font-weight: bold\"> Layer (type)                    </span>┃<span style=\"font-weight: bold\"> Output Shape           </span>┃<span style=\"font-weight: bold\">       Param # </span>┃\n",
       "┡━━━━━━━━━━━━━━━━━━━━━━━━━━━━━━━━━╇━━━━━━━━━━━━━━━━━━━━━━━━╇━━━━━━━━━━━━━━━┩\n",
       "│ input_layer (<span style=\"color: #0087ff; text-decoration-color: #0087ff\">InputLayer</span>)        │ (<span style=\"color: #00d7ff; text-decoration-color: #00d7ff\">None</span>, <span style=\"color: #00af00; text-decoration-color: #00af00\">8</span>)              │             <span style=\"color: #00af00; text-decoration-color: #00af00\">0</span> │\n",
       "├─────────────────────────────────┼────────────────────────┼───────────────┤\n",
       "│ hidden_1 (<span style=\"color: #0087ff; text-decoration-color: #0087ff\">Dense</span>)                │ (<span style=\"color: #00d7ff; text-decoration-color: #00d7ff\">None</span>, <span style=\"color: #00af00; text-decoration-color: #00af00\">128</span>)            │         <span style=\"color: #00af00; text-decoration-color: #00af00\">1,152</span> │\n",
       "├─────────────────────────────────┼────────────────────────┼───────────────┤\n",
       "│ hidden_2 (<span style=\"color: #0087ff; text-decoration-color: #0087ff\">Dense</span>)                │ (<span style=\"color: #00d7ff; text-decoration-color: #00d7ff\">None</span>, <span style=\"color: #00af00; text-decoration-color: #00af00\">64</span>)             │         <span style=\"color: #00af00; text-decoration-color: #00af00\">8,256</span> │\n",
       "├─────────────────────────────────┼────────────────────────┼───────────────┤\n",
       "│ hidden_3 (<span style=\"color: #0087ff; text-decoration-color: #0087ff\">Dense</span>)                │ (<span style=\"color: #00d7ff; text-decoration-color: #00d7ff\">None</span>, <span style=\"color: #00af00; text-decoration-color: #00af00\">32</span>)             │         <span style=\"color: #00af00; text-decoration-color: #00af00\">2,080</span> │\n",
       "├─────────────────────────────────┼────────────────────────┼───────────────┤\n",
       "│ output_layer (<span style=\"color: #0087ff; text-decoration-color: #0087ff\">Dense</span>)            │ (<span style=\"color: #00d7ff; text-decoration-color: #00d7ff\">None</span>, <span style=\"color: #00af00; text-decoration-color: #00af00\">4</span>)              │           <span style=\"color: #00af00; text-decoration-color: #00af00\">132</span> │\n",
       "└─────────────────────────────────┴────────────────────────┴───────────────┘\n",
       "</pre>\n"
      ],
      "text/plain": [
       "┏━━━━━━━━━━━━━━━━━━━━━━━━━━━━━━━━━┳━━━━━━━━━━━━━━━━━━━━━━━━┳━━━━━━━━━━━━━━━┓\n",
       "┃\u001b[1m \u001b[0m\u001b[1mLayer (type)                   \u001b[0m\u001b[1m \u001b[0m┃\u001b[1m \u001b[0m\u001b[1mOutput Shape          \u001b[0m\u001b[1m \u001b[0m┃\u001b[1m \u001b[0m\u001b[1m      Param #\u001b[0m\u001b[1m \u001b[0m┃\n",
       "┡━━━━━━━━━━━━━━━━━━━━━━━━━━━━━━━━━╇━━━━━━━━━━━━━━━━━━━━━━━━╇━━━━━━━━━━━━━━━┩\n",
       "│ input_layer (\u001b[38;5;33mInputLayer\u001b[0m)        │ (\u001b[38;5;45mNone\u001b[0m, \u001b[38;5;34m8\u001b[0m)              │             \u001b[38;5;34m0\u001b[0m │\n",
       "├─────────────────────────────────┼────────────────────────┼───────────────┤\n",
       "│ hidden_1 (\u001b[38;5;33mDense\u001b[0m)                │ (\u001b[38;5;45mNone\u001b[0m, \u001b[38;5;34m128\u001b[0m)            │         \u001b[38;5;34m1,152\u001b[0m │\n",
       "├─────────────────────────────────┼────────────────────────┼───────────────┤\n",
       "│ hidden_2 (\u001b[38;5;33mDense\u001b[0m)                │ (\u001b[38;5;45mNone\u001b[0m, \u001b[38;5;34m64\u001b[0m)             │         \u001b[38;5;34m8,256\u001b[0m │\n",
       "├─────────────────────────────────┼────────────────────────┼───────────────┤\n",
       "│ hidden_3 (\u001b[38;5;33mDense\u001b[0m)                │ (\u001b[38;5;45mNone\u001b[0m, \u001b[38;5;34m32\u001b[0m)             │         \u001b[38;5;34m2,080\u001b[0m │\n",
       "├─────────────────────────────────┼────────────────────────┼───────────────┤\n",
       "│ output_layer (\u001b[38;5;33mDense\u001b[0m)            │ (\u001b[38;5;45mNone\u001b[0m, \u001b[38;5;34m4\u001b[0m)              │           \u001b[38;5;34m132\u001b[0m │\n",
       "└─────────────────────────────────┴────────────────────────┴───────────────┘\n"
      ]
     },
     "metadata": {},
     "output_type": "display_data"
    },
    {
     "data": {
      "text/html": [
       "<pre style=\"white-space:pre;overflow-x:auto;line-height:normal;font-family:Menlo,'DejaVu Sans Mono',consolas,'Courier New',monospace\"><span style=\"font-weight: bold\"> Total params: </span><span style=\"color: #00af00; text-decoration-color: #00af00\">11,620</span> (45.39 KB)\n",
       "</pre>\n"
      ],
      "text/plain": [
       "\u001b[1m Total params: \u001b[0m\u001b[38;5;34m11,620\u001b[0m (45.39 KB)\n"
      ]
     },
     "metadata": {},
     "output_type": "display_data"
    },
    {
     "data": {
      "text/html": [
       "<pre style=\"white-space:pre;overflow-x:auto;line-height:normal;font-family:Menlo,'DejaVu Sans Mono',consolas,'Courier New',monospace\"><span style=\"font-weight: bold\"> Trainable params: </span><span style=\"color: #00af00; text-decoration-color: #00af00\">11,620</span> (45.39 KB)\n",
       "</pre>\n"
      ],
      "text/plain": [
       "\u001b[1m Trainable params: \u001b[0m\u001b[38;5;34m11,620\u001b[0m (45.39 KB)\n"
      ]
     },
     "metadata": {},
     "output_type": "display_data"
    },
    {
     "data": {
      "text/html": [
       "<pre style=\"white-space:pre;overflow-x:auto;line-height:normal;font-family:Menlo,'DejaVu Sans Mono',consolas,'Courier New',monospace\"><span style=\"font-weight: bold\"> Non-trainable params: </span><span style=\"color: #00af00; text-decoration-color: #00af00\">0</span> (0.00 B)\n",
       "</pre>\n"
      ],
      "text/plain": [
       "\u001b[1m Non-trainable params: \u001b[0m\u001b[38;5;34m0\u001b[0m (0.00 B)\n"
      ]
     },
     "metadata": {},
     "output_type": "display_data"
    }
   ],
   "source": [
    "replay_buffer = deque(maxlen=MEMORY_SIZE)\n",
    "\n",
    "def store(state, action, reward, next_state, done):             # memorize\n",
    "    replay_buffer.append((state, action, reward, next_state, done))\n",
    "\n",
    "def select_action_greedy(state, DQN):                                      # act\n",
    "    if np.random.rand() <= epsilon:\n",
    "        return random.randrange(action_size)\n",
    "    act_values = DQN.predict(state, verbose=verb)\n",
    "    return np.argmax(act_values[0])  # returns action selected with greedy strategy\n",
    "\n",
    "# Sample experiences from the replay buffer\n",
    "def sample_experiences(batch_size):\n",
    "    indices = np.random.choice(len(replay_buffer), batch_size, replace=False)\n",
    "    batch = [replay_buffer[i] for i in indices]\n",
    "    states, actions, rewards, next_states, dones = zip(*batch)\n",
    "    return (\n",
    "        np.vstack(states),\n",
    "        np.array(actions),\n",
    "        np.array(rewards),\n",
    "        np.vstack(next_states),\n",
    "        np.array(dones, dtype=np.float32)\n",
    "    )\n",
    "\n",
    "    \n",
    "def experience_replay(batch_size, model, epsilon):\n",
    "    if len(replay_buffer) < batch_size:\n",
    "        return\n",
    "    minibatch = random.sample(replay_buffer, batch_size)\n",
    "    states, actions, rewards, next_states, dones = sample_experiences(batch_size)\n",
    "\n",
    "    # Predict Q-values for current and next states using vectorized operations\n",
    "    target_qs = model.predict(states, verbose=verb)\n",
    "    next_qs   = model.predict(next_states, verbose=verb)\n",
    "\n",
    "    # Update target Q-values using standard DQN logic   \n",
    "    target_qs[np.arange(batch_size), actions] = rewards + gamma * np.max(next_qs, axis=1) * (1 - dones)\n",
    "    \n",
    "#    for i in range(batch_size):\n",
    "#        if dones[i]:\n",
    "#            target_qs[i, actions[i]] = rewards[i]\n",
    "#        else:\n",
    "#            target_qs[i, actions[i]] = rewards[i] + gamma * np.max(next_qs[i])\n",
    "\n",
    "    # Train the model on the Q-values\n",
    "    model.fit(states, target_qs, epochs=1, verbose=0)\n",
    "\n",
    "def load(name, DQN):\n",
    "    DQN.load_weights(name)\n",
    "\n",
    "def save(name, DQN):\n",
    "    DQN.save_weights(name)\n",
    "\n",
    "DQN = build_model(state_size, action_size)\n",
    "DQN.summary()"
   ]
  },
  {
   "cell_type": "code",
   "execution_count": 7,
   "id": "0cb99f42",
   "metadata": {
    "scrolled": false
   },
   "outputs": [
    {
     "name": "stdout",
     "output_type": "stream",
     "text": [
      "Episode:   1/1500, Reward:  -59.62, Epsilon: 0.99, Rolling Avg:  -59.62, Steps:   76 Terminated: True \n",
      "Episode:   2/1500, Reward: -421.06, Epsilon: 0.98, Rolling Avg: -240.34, Steps:  109 Terminated: True \n",
      "Episode:   3/1500, Reward: -189.97, Epsilon: 0.97, Rolling Avg: -223.55, Steps:   72 Terminated: True \n",
      "Episode:   4/1500, Reward: -251.26, Epsilon: 0.96, Rolling Avg: -230.48, Steps:  137 Terminated: True \n",
      "Episode:   5/1500, Reward: -136.74, Epsilon: 0.95, Rolling Avg: -211.73, Steps:   89 Terminated: True \n",
      "Episode:   6/1500, Reward: -174.50, Epsilon: 0.94, Rolling Avg: -205.52, Steps:   90 Terminated: True \n",
      "Episode:   7/1500, Reward: -100.54, Epsilon: 0.93, Rolling Avg: -190.53, Steps:   66 Terminated: True \n",
      "Episode:   8/1500, Reward:  -98.27, Epsilon: 0.92, Rolling Avg: -178.99, Steps:  125 Terminated: True \n",
      "Episode:   9/1500, Reward:  +59.36, Epsilon: 0.91, Rolling Avg: -152.51, Steps:   83 Terminated: True \n",
      "Episode:  10/1500, Reward: -185.06, Epsilon: 0.90, Rolling Avg: -155.76, Steps:  128 Terminated: True \n",
      "Episode:  11/1500, Reward: -527.87, Epsilon: 0.90, Rolling Avg: -189.59, Steps:   87 Terminated: True \n",
      "Episode:  12/1500, Reward: -377.15, Epsilon: 0.89, Rolling Avg: -205.22, Steps:   82 Terminated: True \n",
      "Episode:  13/1500, Reward:  -84.01, Epsilon: 0.88, Rolling Avg: -195.90, Steps:   89 Terminated: True \n",
      "Episode:  14/1500, Reward:  -78.98, Epsilon: 0.87, Rolling Avg: -187.55, Steps:   78 Terminated: True \n",
      "Episode:  15/1500, Reward: -137.56, Epsilon: 0.86, Rolling Avg: -184.22, Steps:  115 Terminated: True \n",
      "Episode:  16/1500, Reward:  -90.19, Epsilon: 0.85, Rolling Avg: -178.34, Steps:   76 Terminated: True \n",
      "Episode:  17/1500, Reward: -350.26, Epsilon: 0.84, Rolling Avg: -188.45, Steps:  113 Terminated: True \n",
      "Episode:  18/1500, Reward: -130.53, Epsilon: 0.83, Rolling Avg: -185.23, Steps:  107 Terminated: True \n",
      "Episode:  19/1500, Reward: -230.21, Epsilon: 0.83, Rolling Avg: -187.60, Steps:   76 Terminated: True \n",
      "Episode:  20/1500, Reward: -334.60, Epsilon: 0.82, Rolling Avg: -194.95, Steps:  111 Terminated: True \n",
      "Episode:  21/1500, Reward: -123.64, Epsilon: 0.81, Rolling Avg: -191.56, Steps:  149 Terminated: True \n",
      "Episode:  22/1500, Reward: -123.20, Epsilon: 0.80, Rolling Avg: -188.45, Steps:   86 Terminated: True \n",
      "Episode:  23/1500, Reward: -142.24, Epsilon: 0.79, Rolling Avg: -186.44, Steps:  135 Terminated: True \n",
      "Episode:  24/1500, Reward: -401.00, Epsilon: 0.79, Rolling Avg: -195.38, Steps:  111 Terminated: True \n",
      "Episode:  25/1500, Reward:  -63.91, Epsilon: 0.78, Rolling Avg: -190.12, Steps:  149 Terminated: True \n",
      "Episode:  26/1500, Reward: -492.74, Epsilon: 0.77, Rolling Avg: -201.76, Steps:  110 Terminated: True \n",
      "Episode:  27/1500, Reward:  -80.61, Epsilon: 0.76, Rolling Avg: -197.27, Steps:   77 Terminated: True \n",
      "Episode:  28/1500, Reward: -171.89, Epsilon: 0.75, Rolling Avg: -196.37, Steps:   90 Terminated: True \n",
      "Episode:  29/1500, Reward:  -62.85, Epsilon: 0.75, Rolling Avg: -191.76, Steps:   76 Terminated: True \n",
      "Episode:  30/1500, Reward: -198.18, Epsilon: 0.74, Rolling Avg: -191.98, Steps:  102 Terminated: True \n",
      "Episode:  31/1500, Reward:  -33.23, Epsilon: 0.73, Rolling Avg: -186.86, Steps:   97 Terminated: True \n",
      "Episode:  32/1500, Reward: -222.17, Epsilon: 0.72, Rolling Avg: -187.96, Steps:  143 Terminated: True \n",
      "Episode:  33/1500, Reward: -241.28, Epsilon: 0.72, Rolling Avg: -189.57, Steps:  102 Terminated: True \n",
      "Episode:  34/1500, Reward: -167.28, Epsilon: 0.71, Rolling Avg: -188.92, Steps:  113 Terminated: True \n",
      "Episode:  35/1500, Reward:  -90.51, Epsilon: 0.70, Rolling Avg: -186.11, Steps:   66 Terminated: True \n",
      "Episode:  36/1500, Reward:  -11.76, Epsilon: 0.70, Rolling Avg: -181.26, Steps:  107 Terminated: True \n",
      "Episode:  37/1500, Reward:  -81.55, Epsilon: 0.69, Rolling Avg: -178.57, Steps:   87 Terminated: True \n",
      "Episode:  38/1500, Reward: -133.69, Epsilon: 0.68, Rolling Avg: -177.39, Steps:  113 Terminated: True \n",
      "Episode:  39/1500, Reward:  -65.18, Epsilon: 0.68, Rolling Avg: -174.51, Steps:  138 Terminated: True \n",
      "Episode:  40/1500, Reward:  -58.73, Epsilon: 0.67, Rolling Avg: -171.62, Steps:  140 Terminated: True \n",
      "Episode:  41/1500, Reward:  -64.42, Epsilon: 0.66, Rolling Avg: -171.74, Steps:   73 Terminated: True \n",
      "Episode:  42/1500, Reward: -162.10, Epsilon: 0.66, Rolling Avg: -165.26, Steps:  115 Terminated: True \n",
      "Episode:  43/1500, Reward:  -61.42, Epsilon: 0.65, Rolling Avg: -162.05, Steps:   91 Terminated: True \n",
      "Episode:  44/1500, Reward: -164.05, Epsilon: 0.64, Rolling Avg: -159.87, Steps:   96 Terminated: True \n",
      "Episode:  45/1500, Reward: -103.27, Epsilon: 0.64, Rolling Avg: -159.03, Steps:   77 Terminated: True \n",
      "Episode:  46/1500, Reward: -129.27, Epsilon: 0.63, Rolling Avg: -157.90, Steps:  112 Terminated: True \n",
      "Episode:  47/1500, Reward:  +16.31, Epsilon: 0.62, Rolling Avg: -154.98, Steps:  225 Terminated: True \n",
      "Episode:  48/1500, Reward:  -54.38, Epsilon: 0.62, Rolling Avg: -153.88, Steps:  148 Terminated: True \n",
      "Episode:  49/1500, Reward:  -71.70, Epsilon: 0.61, Rolling Avg: -157.16, Steps:  155 Terminated: True \n",
      "Episode:  50/1500, Reward: -100.49, Epsilon: 0.61, Rolling Avg: -155.04, Steps:  103 Terminated: True \n",
      "Episode:  51/1500, Reward:  -68.10, Epsilon: 0.60, Rolling Avg: -143.55, Steps:   82 Terminated: True \n",
      "Episode:  52/1500, Reward:  -26.73, Epsilon: 0.59, Rolling Avg: -134.79, Steps:  259 Terminated: True \n",
      "Episode:  53/1500, Reward: -187.76, Epsilon: 0.59, Rolling Avg: -137.38, Steps:  121 Terminated: True \n",
      "Episode:  54/1500, Reward: -106.23, Epsilon: 0.58, Rolling Avg: -138.06, Steps:  132 Terminated: True \n",
      "Episode:  55/1500, Reward:  -72.79, Epsilon: 0.58, Rolling Avg: -136.45, Steps:  140 Terminated: True \n",
      "Episode:  56/1500, Reward:  -71.12, Epsilon: 0.57, Rolling Avg: -135.97, Steps:   92 Terminated: True \n",
      "Episode:  57/1500, Reward:  -63.25, Epsilon: 0.56, Rolling Avg: -128.79, Steps:  168 Terminated: True \n",
      "Episode:  58/1500, Reward:  -79.51, Epsilon: 0.56, Rolling Avg: -127.52, Steps:  103 Terminated: True \n",
      "Episode:  59/1500, Reward: -370.80, Epsilon: 0.55, Rolling Avg: -131.03, Steps:  422 Terminated: True \n",
      "Episode:  60/1500, Reward:  -49.26, Epsilon: 0.55, Rolling Avg: -123.90, Steps:  134 Terminated: True \n",
      "Episode:  61/1500, Reward:  -57.45, Epsilon: 0.54, Rolling Avg: -122.24, Steps:  215 Terminated: True \n",
      "Episode:  62/1500, Reward: -118.22, Epsilon: 0.54, Rolling Avg: -122.12, Steps:  129 Terminated: True \n",
      "Episode:  63/1500, Reward:  -69.90, Epsilon: 0.53, Rolling Avg: -120.31, Steps:  154 Terminated: True \n",
      "Episode:  64/1500, Reward:  +34.50, Epsilon: 0.53, Rolling Avg: -109.42, Steps:  129 Terminated: True \n",
      "Episode:  65/1500, Reward: -109.00, Epsilon: 0.52, Rolling Avg: -110.55, Steps:  111 Terminated: True \n",
      "Episode:  66/1500, Reward:  -40.80, Epsilon: 0.52, Rolling Avg:  -99.25, Steps:  157 Terminated: True \n",
      "Episode:  67/1500, Reward:  -73.22, Epsilon: 0.51, Rolling Avg:  -99.07, Steps:   86 Terminated: True \n",
      "Episode:  68/1500, Reward:   +0.41, Epsilon: 0.50, Rolling Avg:  -94.76, Steps:  165 Terminated: True \n",
      "Episode:  69/1500, Reward: -194.36, Epsilon: 0.50, Rolling Avg:  -98.05, Steps:  650 Terminated: True \n",
      "Episode:  70/1500, Reward:  -88.07, Epsilon: 0.49, Rolling Avg:  -95.30, Steps:  217 Terminated: True \n",
      "Episode:  71/1500, Reward: -132.21, Epsilon: 0.49, Rolling Avg:  -97.77, Steps:  182 Terminated: True \n",
      "Episode:  72/1500, Reward: -148.04, Epsilon: 0.48, Rolling Avg:  -95.92, Steps:  137 Terminated: True \n",
      "Episode:  73/1500, Reward:  -75.44, Epsilon: 0.48, Rolling Avg:  -91.77, Steps:  679 Terminated: True \n",
      "Episode:  74/1500, Reward: -111.65, Epsilon: 0.48, Rolling Avg:  -90.38, Steps:  126 Terminated: True \n",
      "Episode:  75/1500, Reward: -138.51, Epsilon: 0.47, Rolling Avg:  -91.58, Steps:  108 Terminated: True \n",
      "Episode:  76/1500, Reward: -222.82, Epsilon: 0.47, Rolling Avg:  -96.86, Steps:  187 Terminated: True \n",
      "Episode:  77/1500, Reward:  -59.59, Epsilon: 0.46, Rolling Avg:  -96.31, Steps:  159 Terminated: True \n",
      "Episode:  78/1500, Reward: -193.40, Epsilon: 0.46, Rolling Avg:  -97.80, Steps:  501 Terminated: True \n",
      "Episode:  79/1500, Reward: -219.32, Epsilon: 0.45, Rolling Avg: -101.65, Steps:  656 Terminated: True \n",
      "Episode:  80/1500, Reward: -109.43, Epsilon: 0.45, Rolling Avg: -102.92, Steps:  257 Terminated: True \n"
     ]
    },
    {
     "name": "stdout",
     "output_type": "stream",
     "text": [
      "Episode:  81/1500, Reward: -127.62, Epsilon: 0.44, Rolling Avg: -104.50, Steps:  467 Terminated: True \n",
      "Episode:  82/1500, Reward: -153.57, Epsilon: 0.44, Rolling Avg: -104.29, Steps:  148 Terminated: True \n",
      "Episode:  83/1500, Reward: -115.23, Epsilon: 0.43, Rolling Avg: -105.63, Steps:  107 Terminated: True \n",
      "Episode:  84/1500, Reward: -142.68, Epsilon: 0.43, Rolling Avg: -105.10, Steps:  189 Terminated: True \n",
      "Episode:  85/1500, Reward:  -65.18, Epsilon: 0.43, Rolling Avg: -104.15, Steps:  199 Terminated: True \n",
      "Episode:  86/1500, Reward:  -71.11, Epsilon: 0.42, Rolling Avg: -102.69, Steps:  254 Terminated: True \n",
      "Episode:  87/1500, Reward: -136.19, Epsilon: 0.42, Rolling Avg: -106.51, Steps:  172 Terminated: True \n",
      "Episode:  88/1500, Reward:  -90.70, Epsilon: 0.41, Rolling Avg: -107.41, Steps:  235 Terminated: True \n",
      "Episode:  89/1500, Reward:   -2.43, Epsilon: 0.41, Rolling Avg: -105.68, Steps:   98 Terminated: True \n",
      "Episode:  90/1500, Reward: -370.22, Epsilon: 0.40, Rolling Avg: -112.43, Steps: 1128 Terminated: True \n",
      "Episode:  91/1500, Reward:  -43.81, Epsilon: 0.40, Rolling Avg: -111.82, Steps:  233 Terminated: True \n",
      "Episode:  92/1500, Reward:  -39.40, Epsilon: 0.40, Rolling Avg: -112.14, Steps:  148 Terminated: True \n",
      "Episode:  93/1500, Reward:   +0.89, Epsilon: 0.39, Rolling Avg: -107.42, Steps:  350 Terminated: True \n",
      "Episode:  94/1500, Reward:  -88.67, Epsilon: 0.39, Rolling Avg: -106.98, Steps: 1199 Terminated: False \n",
      "Episode:  95/1500, Reward: -204.53, Epsilon: 0.38, Rolling Avg: -110.27, Steps:  380 Terminated: True \n",
      "Episode:  96/1500, Reward: -250.91, Epsilon: 0.38, Rolling Avg: -114.77, Steps:  416 Terminated: True \n",
      "Episode:  97/1500, Reward:  -56.87, Epsilon: 0.38, Rolling Avg: -114.61, Steps: 1199 Terminated: False \n",
      "Episode:  98/1500, Reward: -101.79, Epsilon: 0.37, Rolling Avg: -115.17, Steps: 1199 Terminated: False \n",
      "Episode:  99/1500, Reward: -102.93, Epsilon: 0.37, Rolling Avg: -108.47, Steps: 1199 Terminated: False \n",
      "Episode: 100/1500, Reward: -451.49, Epsilon: 0.37, Rolling Avg: -118.52, Steps:  923 Terminated: True \n",
      "Episode: 101/1500, Reward:  -48.54, Epsilon: 0.36, Rolling Avg: -118.30, Steps:  141 Terminated: True \n",
      "Episode: 102/1500, Reward:  -85.47, Epsilon: 0.36, Rolling Avg: -117.48, Steps: 1199 Terminated: False \n",
      "Episode: 103/1500, Reward: -106.22, Epsilon: 0.36, Rolling Avg: -118.39, Steps: 1199 Terminated: False \n",
      "Episode: 104/1500, Reward:  -90.68, Epsilon: 0.35, Rolling Avg: -121.52, Steps: 1199 Terminated: False \n",
      "Episode: 105/1500, Reward:  +11.87, Epsilon: 0.35, Rolling Avg: -118.50, Steps:  123 Terminated: True \n",
      "Episode: 106/1500, Reward:  -64.18, Epsilon: 0.34, Rolling Avg: -119.08, Steps: 1199 Terminated: False \n",
      "Episode: 107/1500, Reward:  -39.52, Epsilon: 0.34, Rolling Avg: -118.24, Steps: 1199 Terminated: False \n",
      "Episode: 108/1500, Reward:  -78.13, Epsilon: 0.34, Rolling Avg: -120.20, Steps: 1199 Terminated: False \n",
      "Episode: 109/1500, Reward:  -55.76, Epsilon: 0.33, Rolling Avg: -116.74, Steps: 1199 Terminated: False \n",
      "Episode: 110/1500, Reward: -241.88, Epsilon: 0.33, Rolling Avg: -120.58, Steps:  299 Terminated: True \n",
      "Episode: 111/1500, Reward:  -58.03, Epsilon: 0.33, Rolling Avg: -118.73, Steps: 1199 Terminated: False \n",
      "Episode: 112/1500, Reward:  -12.50, Epsilon: 0.32, Rolling Avg: -115.34, Steps: 1199 Terminated: False \n",
      "Episode: 113/1500, Reward:  -20.52, Epsilon: 0.32, Rolling Avg: -113.97, Steps: 1199 Terminated: False \n",
      "Episode: 114/1500, Reward:   +3.41, Epsilon: 0.32, Rolling Avg: -111.09, Steps: 1199 Terminated: False \n",
      "Episode: 115/1500, Reward:  -47.63, Epsilon: 0.31, Rolling Avg: -108.82, Steps: 1199 Terminated: False \n",
      "Episode: 116/1500, Reward:  -33.55, Epsilon: 0.31, Rolling Avg: -104.09, Steps:  168 Terminated: True \n",
      "Episode: 117/1500, Reward:  -72.74, Epsilon: 0.31, Rolling Avg: -104.42, Steps: 1199 Terminated: False \n",
      "Episode: 118/1500, Reward:  -11.71, Epsilon: 0.31, Rolling Avg:  -99.87, Steps: 1199 Terminated: False \n",
      "Episode: 119/1500, Reward:   -9.63, Epsilon: 0.30, Rolling Avg:  -94.63, Steps:  144 Terminated: True \n",
      "Episode: 120/1500, Reward:  -49.25, Epsilon: 0.30, Rolling Avg:  -93.13, Steps: 1199 Terminated: False \n",
      "Episode: 121/1500, Reward: -106.83, Epsilon: 0.30, Rolling Avg:  -92.61, Steps: 1199 Terminated: False \n",
      "Episode: 122/1500, Reward:  -15.94, Epsilon: 0.29, Rolling Avg:  -89.17, Steps: 1199 Terminated: False \n",
      "Episode: 123/1500, Reward:  -39.94, Epsilon: 0.29, Rolling Avg:  -87.28, Steps: 1199 Terminated: False \n",
      "Episode: 124/1500, Reward:  +10.47, Epsilon: 0.29, Rolling Avg:  -83.46, Steps: 1199 Terminated: False \n",
      "Episode: 125/1500, Reward:  -66.77, Epsilon: 0.28, Rolling Avg:  -83.50, Steps: 1199 Terminated: False \n",
      "Episode: 126/1500, Reward:  -37.42, Epsilon: 0.28, Rolling Avg:  -82.65, Steps: 1199 Terminated: False \n",
      "Episode: 127/1500, Reward:  -66.37, Epsilon: 0.28, Rolling Avg:  -80.91, Steps: 1199 Terminated: False \n",
      "Episode: 128/1500, Reward:  -32.83, Epsilon: 0.28, Rolling Avg:  -79.46, Steps: 1199 Terminated: False \n",
      "Episode: 129/1500, Reward:  -30.39, Epsilon: 0.27, Rolling Avg:  -80.16, Steps: 1199 Terminated: False \n",
      "Episode: 130/1500, Reward: -205.88, Epsilon: 0.27, Rolling Avg:  -76.05, Steps:  925 Terminated: True \n",
      "Episode: 131/1500, Reward:  -38.44, Epsilon: 0.27, Rolling Avg:  -75.92, Steps: 1199 Terminated: False \n",
      "Episode: 132/1500, Reward:  -55.28, Epsilon: 0.27, Rolling Avg:  -76.31, Steps: 1199 Terminated: False \n",
      "Episode: 133/1500, Reward:  -52.17, Epsilon: 0.26, Rolling Avg:  -77.64, Steps:  521 Terminated: True \n",
      "Episode: 134/1500, Reward:   -4.11, Epsilon: 0.26, Rolling Avg:  -75.53, Steps: 1199 Terminated: False \n",
      "Episode: 135/1500, Reward:  -38.23, Epsilon: 0.26, Rolling Avg:  -71.37, Steps: 1199 Terminated: False \n",
      "Episode: 136/1500, Reward:  -15.39, Epsilon: 0.25, Rolling Avg:  -65.48, Steps: 1199 Terminated: False \n",
      "Episode: 137/1500, Reward:   -3.02, Epsilon: 0.25, Rolling Avg:  -64.13, Steps: 1199 Terminated: False \n",
      "Episode: 138/1500, Reward:  -34.62, Epsilon: 0.25, Rolling Avg:  -62.46, Steps: 1199 Terminated: False \n",
      "Episode: 139/1500, Reward:   -9.69, Epsilon: 0.25, Rolling Avg:  -60.12, Steps: 1199 Terminated: False \n",
      "Episode: 140/1500, Reward:   -5.77, Epsilon: 0.24, Rolling Avg:  -48.98, Steps: 1199 Terminated: False \n",
      "Episode: 141/1500, Reward:  +41.82, Epsilon: 0.24, Rolling Avg:  -46.72, Steps: 1199 Terminated: False \n",
      "Episode: 142/1500, Reward: -150.55, Epsilon: 0.24, Rolling Avg:  -48.35, Steps: 1199 Terminated: False \n",
      "Episode: 143/1500, Reward:  +45.88, Epsilon: 0.24, Rolling Avg:  -44.55, Steps: 1199 Terminated: False \n",
      "Episode: 144/1500, Reward:  +74.64, Epsilon: 0.24, Rolling Avg:  -40.41, Steps: 1199 Terminated: False \n",
      "Episode: 145/1500, Reward:  +68.15, Epsilon: 0.23, Rolling Avg:  -39.01, Steps: 1199 Terminated: False \n",
      "Episode: 146/1500, Reward:  +24.93, Epsilon: 0.23, Rolling Avg:  -36.78, Steps: 1199 Terminated: False \n",
      "Episode: 147/1500, Reward:  +17.75, Epsilon: 0.23, Rolling Avg:  -35.35, Steps: 1199 Terminated: False \n",
      "Episode: 148/1500, Reward:  +12.10, Epsilon: 0.23, Rolling Avg:  -33.09, Steps: 1199 Terminated: False \n",
      "Episode: 149/1500, Reward:  +52.50, Epsilon: 0.22, Rolling Avg:  -30.39, Steps: 1199 Terminated: False \n",
      "Episode: 150/1500, Reward: +168.71, Epsilon: 0.22, Rolling Avg:  -20.12, Steps:  918 Terminated: True \n",
      "Episode: 151/1500, Reward: +151.66, Epsilon: 0.22, Rolling Avg:  -14.88, Steps: 1198 Terminated: True \n",
      "Episode: 152/1500, Reward: +130.25, Epsilon: 0.22, Rolling Avg:  -11.31, Steps: 1199 Terminated: False \n",
      "Episode: 153/1500, Reward: +224.71, Epsilon: 0.21, Rolling Avg:   -5.18, Steps:  480 Terminated: True \n",
      "Episode: 154/1500, Reward:  -51.21, Epsilon: 0.21, Rolling Avg:   -6.54, Steps: 1199 Terminated: False \n",
      "Episode: 155/1500, Reward:  +94.43, Epsilon: 0.21, Rolling Avg:   -2.99, Steps: 1199 Terminated: False \n",
      "Episode: 156/1500, Reward: +216.79, Epsilon: 0.21, Rolling Avg:    3.26, Steps:  799 Terminated: True \n",
      "Episode: 157/1500, Reward: -134.22, Epsilon: 0.21, Rolling Avg:    1.73, Steps:  263 Terminated: True \n",
      "Episode: 158/1500, Reward:  +76.41, Epsilon: 0.20, Rolling Avg:    3.93, Steps: 1199 Terminated: False \n",
      "Episode: 159/1500, Reward: +191.00, Epsilon: 0.20, Rolling Avg:    8.95, Steps: 1021 Terminated: True \n",
      "Episode: 160/1500, Reward:  +36.12, Epsilon: 0.20, Rolling Avg:   11.08, Steps: 1199 Terminated: False \n"
     ]
    },
    {
     "name": "stdout",
     "output_type": "stream",
     "text": [
      "Episode: 161/1500, Reward: +176.00, Epsilon: 0.20, Rolling Avg:   18.15, Steps:  893 Terminated: True \n",
      "Episode: 162/1500, Reward:  -83.03, Epsilon: 0.20, Rolling Avg:   16.47, Steps:  106 Terminated: True \n",
      "Episode: 163/1500, Reward: +159.97, Epsilon: 0.19, Rolling Avg:   21.47, Steps:  925 Terminated: True \n",
      "Episode: 164/1500, Reward:  +71.12, Epsilon: 0.19, Rolling Avg:   22.99, Steps: 1199 Terminated: False \n",
      "Episode: 165/1500, Reward:  -31.33, Epsilon: 0.19, Rolling Avg:   23.87, Steps:  168 Terminated: True \n",
      "Episode: 166/1500, Reward: +230.48, Epsilon: 0.19, Rolling Avg:   30.57, Steps:  799 Terminated: True \n",
      "Episode: 167/1500, Reward: +205.09, Epsilon: 0.19, Rolling Avg:   37.36, Steps:  849 Terminated: True \n",
      "Episode: 168/1500, Reward: +185.68, Epsilon: 0.18, Rolling Avg:   42.82, Steps: 1131 Terminated: True \n",
      "Episode: 169/1500, Reward: +224.34, Epsilon: 0.18, Rolling Avg:   49.19, Steps:  395 Terminated: True \n",
      "Episode: 170/1500, Reward:  +61.76, Epsilon: 0.18, Rolling Avg:   55.88, Steps: 1199 Terminated: False \n",
      "Episode: 171/1500, Reward: +201.80, Epsilon: 0.18, Rolling Avg:   61.89, Steps:  732 Terminated: True \n",
      "Episode: 172/1500, Reward: +213.50, Epsilon: 0.18, Rolling Avg:   68.61, Steps:  961 Terminated: True \n",
      "Episode: 173/1500, Reward: +197.24, Epsilon: 0.18, Rolling Avg:   74.84, Steps:  610 Terminated: True \n",
      "Episode: 174/1500, Reward: +184.78, Epsilon: 0.17, Rolling Avg:   79.56, Steps:  885 Terminated: True \n",
      "Episode: 175/1500, Reward: +179.81, Epsilon: 0.17, Rolling Avg:   85.01, Steps: 1008 Terminated: True \n",
      "Episode: 176/1500, Reward: +223.90, Epsilon: 0.17, Rolling Avg:   91.00, Steps: 1084 Terminated: True \n",
      "Episode: 177/1500, Reward: +226.45, Epsilon: 0.17, Rolling Avg:   96.73, Steps:  516 Terminated: True \n",
      "Episode: 178/1500, Reward: +217.21, Epsilon: 0.17, Rolling Avg:  103.03, Steps:  931 Terminated: True \n",
      "Episode: 179/1500, Reward:  +96.31, Epsilon: 0.17, Rolling Avg:  105.68, Steps: 1199 Terminated: False \n",
      "Episode: 180/1500, Reward: +218.26, Epsilon: 0.16, Rolling Avg:  111.28, Steps:  937 Terminated: True \n",
      "Episode: 181/1500, Reward: +203.31, Epsilon: 0.16, Rolling Avg:  115.32, Steps:  514 Terminated: True \n",
      "Episode: 182/1500, Reward: +245.53, Epsilon: 0.16, Rolling Avg:  125.22, Steps:  851 Terminated: True \n",
      "Episode: 183/1500, Reward: +214.13, Epsilon: 0.16, Rolling Avg:  129.43, Steps:  489 Terminated: True \n",
      "Episode: 184/1500, Reward: +224.34, Epsilon: 0.16, Rolling Avg:  133.17, Steps: 1100 Terminated: True \n",
      "Episode: 185/1500, Reward:  +91.97, Epsilon: 0.16, Rolling Avg:  133.76, Steps: 1199 Terminated: False \n",
      "Episode: 186/1500, Reward: +200.90, Epsilon: 0.15, Rolling Avg:  138.16, Steps:  359 Terminated: True \n",
      "Episode: 187/1500, Reward: +276.60, Epsilon: 0.15, Rolling Avg:  144.63, Steps:  576 Terminated: True \n",
      "Episode: 188/1500, Reward: +201.17, Epsilon: 0.15, Rolling Avg:  149.36, Steps:  444 Terminated: True \n",
      "Episode: 189/1500, Reward: +144.02, Epsilon: 0.15, Rolling Avg:  151.65, Steps: 1199 Terminated: False \n",
      "Episode: 190/1500, Reward: +149.91, Epsilon: 0.15, Rolling Avg:  151.18, Steps:  707 Terminated: True \n",
      "Episode: 191/1500, Reward: +203.46, Epsilon: 0.15, Rolling Avg:  152.47, Steps:  445 Terminated: True \n",
      "Episode: 192/1500, Reward: +250.98, Epsilon: 0.15, Rolling Avg:  155.49, Steps:  802 Terminated: True \n",
      "Episode: 193/1500, Reward: +242.61, Epsilon: 0.14, Rolling Avg:  155.94, Steps:  582 Terminated: True \n",
      "Episode: 194/1500, Reward: +261.04, Epsilon: 0.14, Rolling Avg:  163.75, Steps:  502 Terminated: True \n",
      "Episode: 195/1500, Reward: +212.43, Epsilon: 0.14, Rolling Avg:  166.70, Steps:  592 Terminated: True \n",
      "Episode: 196/1500, Reward: +270.61, Epsilon: 0.14, Rolling Avg:  168.04, Steps:  500 Terminated: True \n",
      "Episode: 197/1500, Reward: +270.83, Epsilon: 0.14, Rolling Avg:  178.17, Steps:  686 Terminated: True \n",
      "Episode: 198/1500, Reward: +168.92, Epsilon: 0.14, Rolling Avg:  180.48, Steps:  599 Terminated: True \n",
      "Episode: 199/1500, Reward: +174.69, Epsilon: 0.14, Rolling Avg:  180.07, Steps:  835 Terminated: True \n",
      "Episode: 200/1500, Reward: +247.74, Epsilon: 0.13, Rolling Avg:  185.36, Steps:  933 Terminated: True \n",
      "Episode: 201/1500, Reward: +178.59, Epsilon: 0.13, Rolling Avg:  185.43, Steps:  776 Terminated: True \n",
      "Episode: 202/1500, Reward: +222.87, Epsilon: 0.13, Rolling Avg:  193.08, Steps:  615 Terminated: True \n",
      "Episode: 203/1500, Reward: +198.71, Epsilon: 0.13, Rolling Avg:  194.04, Steps:  883 Terminated: True \n",
      "Episode: 204/1500, Reward: +209.95, Epsilon: 0.13, Rolling Avg:  197.51, Steps:  768 Terminated: True \n",
      "Episode: 205/1500, Reward: +205.94, Epsilon: 0.13, Rolling Avg:  203.45, Steps:  482 Terminated: True \n",
      "Environment solved in 205 episodes!\n",
      "Training completed in 257.60 minutes\n"
     ]
    }
   ],
   "source": [
    "rewards_per_episode= []\n",
    "start_time = time.time()\n",
    "\n",
    "done = False\n",
    "rolling_avg = 0\n",
    "rolling_avg_rewards = []\n",
    "\n",
    "for e in range(MAX_EPISODES):                           # Should be While True, however we limit number of eps\n",
    "    state, _ = env.reset()\n",
    "    state = np.reshape(state, [1, state_size])\n",
    "    total_reward = 0\n",
    "    \n",
    "    for step in range(MAX_STEPS):\n",
    "            \n",
    "        action = select_action_greedy(state, DQN)\n",
    "        next_state, reward, done, truncated , _ = env.step(action)\n",
    "                    \n",
    "        next_state = np.reshape(next_state, [1, state_size])\n",
    "        store(state, action, reward, next_state, done)\n",
    "        state = next_state\n",
    "        total_reward = total_reward + reward\n",
    "        if done:\n",
    "            break\n",
    "            \n",
    "        if len(replay_buffer) > batch_size:\n",
    "            experience_replay(batch_size, DQN, epsilon)\n",
    "            \n",
    "    epsilon = max(epsilon_min, epsilon * epsilon_decay)            # decay epsilon\n",
    "    \n",
    "    rewards_per_episode.append(total_reward)\n",
    "    rolling_avg = np.mean(rewards_per_episode[-ROLLING_WINDOW:])   # append rewards\n",
    "    rolling_avg_rewards.append(rolling_avg)\n",
    "    print(f\"Episode: {e+1:3}/{MAX_EPISODES}, Reward: {total_reward:+7.2f}, \"\n",
    "          f\"Epsilon: {epsilon:.2f}, Rolling Avg: {rolling_avg:7.2f}, Steps: {step:4} Terminated: {done} \")\n",
    "\n",
    "            \n",
    "    # Check if environment is solved\n",
    "    if rolling_avg >= solved_threshold:\n",
    "        print(f\"Environment solved in {e+1} episodes!\")\n",
    "#            model.save(\"lunarlander_ddqn_model1.keras\")\n",
    "        break\n",
    "    \n",
    "end_time = time.time()\n",
    "print(f\"Training completed in {(end_time - start_time)/60:.2f} minutes\")"
   ]
  },
  {
   "cell_type": "markdown",
   "id": "5419d918",
   "metadata": {},
   "source": [
    "#### **Learning Plot and Episode Rewards**"
   ]
  },
  {
   "cell_type": "code",
   "execution_count": 8,
   "id": "0724b047",
   "metadata": {},
   "outputs": [
    {
     "data": {
      "image/png": "[encoded data removed]",
      "text/plain": [
       "<Figure size 1000x600 with 1 Axes>"
      ]
     },
     "metadata": {},
     "output_type": "display_data"
    }
   ],
   "source": [
    "# Plot rewards with rolling average\n",
    "\n",
    "plt.figure(figsize=(10, 6))\n",
    "plt.plot(rewards_per_episode, label='Rewards', color='blue')\n",
    "plt.plot(rolling_avg_rewards, label='Rolling Avg (Last 20 Episodes)', color='orange')\n",
    "plt.axhline(y=solved_threshold, color='red', linestyle='--', label='Solved Threshold')\n",
    "plt.title('DQN Training Performance LUNARLANDER')\n",
    "plt.xlabel('Episodes')\n",
    "plt.ylabel('Rewards')\n",
    "plt.legend()\n",
    "plt.grid()\n",
    "plt.show()"
   ]
  },
  {
   "cell_type": "markdown",
   "id": "51baef8f",
   "metadata": {},
   "source": [
    "#### **Simulation - Testing 10 episodes with the DQN Network**"
   ]
  },
  {
   "cell_type": "code",
   "execution_count": 9,
   "id": "1ade8d4a",
   "metadata": {},
   "outputs": [
    {
     "name": "stdout",
     "output_type": "stream",
     "text": [
      "Test Episode:  1/10, Reward:  231.35, Steps: 428\n",
      "Test Episode:  2/10, Reward:  204.92, Steps: 384\n",
      "Test Episode:  3/10, Reward:  210.33, Steps: 382\n",
      "Test Episode:  4/10, Reward:  267.33, Steps: 433\n",
      "Test Episode:  5/10, Reward:  120.54, Steps: 1000\n",
      "Test Episode:  6/10, Reward:  248.65, Steps: 368\n",
      "Test Episode:  7/10, Reward:  233.28, Steps: 445\n",
      "Test Episode:  8/10, Reward:  192.12, Steps: 455\n",
      "Test Episode:  9/10, Reward:   59.49, Steps: 1000\n",
      "Test Episode: 10/10, Reward:  215.83, Steps: 451\n",
      "Testing completed in 3.86 minutes\n"
     ]
    }
   ],
   "source": [
    "# Testing for 10 episodes\n",
    "start_time = time.time()\n",
    "\n",
    "for e_test in range(10):  # Run 10 test episodes\n",
    "    state, _ = env.reset()\n",
    "    state = np.reshape(state, [1, state_size])\n",
    "    total_reward = 0\n",
    "    \n",
    "    steps = 0\n",
    "    while True:\n",
    "        # Use the trained model for testing\n",
    "        action_vals = DQN.predict(state, verbose=0)  # Predict action values\n",
    "        action = np.argmax(action_vals[0])  # Choose the action with the highest Q-value\n",
    "\n",
    "        next_state, reward, done, truncated, _ = env.step(action)\n",
    "        next_state = np.reshape(next_state, [1, state_size])\n",
    "        total_reward += reward\n",
    "        state = next_state\n",
    "        steps = steps + 1\n",
    "        if done or truncated:\n",
    "            print(f\"Test Episode: {e_test + 1:2}/10, Reward: {total_reward:7.2f}, Steps: {steps:3}\")\n",
    "            break\n",
    "\n",
    "end_time = time.time()\n",
    "testing_duration = (end_time - start_time) / 60  # Convert to minutes\n",
    "print(f\"Testing completed in {testing_duration:.2f} minutes\")"
   ]
  },
  {
   "cell_type": "markdown",
   "id": "67f36b76",
   "metadata": {},
   "source": [
    "#### **Rendering 1 episode**"
   ]
  },
  {
   "cell_type": "code",
   "execution_count": 10,
   "id": "0e9e3acd",
   "metadata": {},
   "outputs": [
    {
     "name": "stdout",
     "output_type": "stream",
     "text": [
      "Rendered Test Episode Reward: 263.91\n",
      "Saved GIF to: ./LUNARLANDER_DQN_CL.gif\n"
     ]
    }
   ],
   "source": [
    "# Test the trained agent with video rendering\n",
    "# This code is useful if you are using colab otherwise use render_mode='human'\n",
    "env = gym.make(('LunarLander-v3'), render_mode='rgb_array')  # Enable RGB rendering\n",
    "frames = []  # Store frames for visualization\n",
    "\n",
    "# Render a single test episode\n",
    "state, _ = env.reset()\n",
    "state = np.reshape(state, [1, state_size])\n",
    "tot_rewards = 0\n",
    "\n",
    "while True:\n",
    "    # Use the trained model for action\n",
    "    action_vals = DQN.predict(state, verbose=0)  # Predict action values\n",
    "    action = np.argmax(action_vals[0])           # Choose the action with the highest Q-value\n",
    "\n",
    "    next_state, reward, done, truncated, _ = env.step(action)\n",
    "    frames.append(env.render())                  # Save frame for rendering later\n",
    "    next_state = np.reshape(next_state, [1, state_size])\n",
    "    tot_rewards += reward\n",
    "    state = next_state\n",
    "\n",
    "    if done or truncated:\n",
    "        print(f\"Rendered Test Episode Reward: {tot_rewards:.2f}\")\n",
    "        break\n",
    "\n",
    "env.close()\n",
    "\n",
    "# Save the rendered episode as a GIF\n",
    "def save_frames_as_gif(frames, path='./', filename='LUNARLANDER_DQN.gif'):\n",
    "    images = [Image.fromarray(frame) for frame in frames]\n",
    "    gif_path = os.path.join(path, filename)\n",
    "    images[0].save(gif_path, save_all=True, append_images=images[1:], duration=50, loop=0)\n",
    "    print(f\"Saved GIF to: {gif_path}\")\n",
    "\n",
    "save_frames_as_gif(frames, filename='LUNARLANDER_DQN_CL.gif')\n"
   ]
  },
  {
   "cell_type": "code",
   "execution_count": 11,
   "id": "017d49c2",
   "metadata": {},
   "outputs": [
    {
     "name": "stdout",
     "output_type": "stream",
     "text": [
      "-----\n",
      "PIL                 11.0.0\n",
      "gymnasium           1.0.0\n",
      "keras               3.6.0\n",
      "matplotlib          3.9.2\n",
      "numpy               1.26.4\n",
      "session_info        1.0.0\n",
      "tensorflow          2.17.1\n",
      "-----\n",
      "IPython             8.28.0\n",
      "jupyter_client      8.6.3\n",
      "jupyter_core        5.7.2\n",
      "-----\n",
      "Python 3.12.3 (main, Jan 17 2025, 18:03:48) [GCC 13.3.0]\n",
      "Linux-5.15.167.4-microsoft-standard-WSL2-x86_64-with-glibc2.39\n",
      "-----\n",
      "Session information updated at 2025-02-08 12:59\n"
     ]
    }
   ],
   "source": [
    "import session_info\n",
    "session_info.show(html=False)"
   ]
  }
 ],
 "metadata": {
  "kernelspec": {
   "display_name": "DL-Keras",
   "language": "python",
   "name": "dl-keras"
  },
  "language_info": {
   "codemirror_mode": {
    "name": "ipython",
    "version": 3
   },
   "file_extension": ".py",
   "mimetype": "text/x-python",
   "name": "python",
   "nbconvert_exporter": "python",
   "pygments_lexer": "ipython3",
   "version": "3.12.3"
  }
 },
 "nbformat": 4,
 "nbformat_minor": 5
}
