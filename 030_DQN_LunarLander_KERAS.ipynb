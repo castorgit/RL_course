{
 "cells": [
  {
   "cell_type": "markdown",
   "id": "ccb89376",
   "metadata": {},
   "source": [
    "### **LUNAR LANDER DQN KERAS**\n",
    "\n",
    "This is a naive version of the CARTPOLE DQN algorithm <br>\n",
    " <br>\n",
    "Try to make it faster by doing some hyperparameter optimization  <br>\n",
    "Try to explore less. Does it accelerates convergence?  <br>\n",
    "Increasing the ROLLING_WINDOW it will converge slower but the Agent behavior will be more consistent"
   ]
  },
  {
   "cell_type": "code",
   "execution_count": 1,
   "id": "557b1b33",
   "metadata": {},
   "outputs": [
    {
     "name": "stdout",
     "output_type": "stream",
     "text": [
      "Num GPUs Available:  1\n"
     ]
    },
    {
     "name": "stderr",
     "output_type": "stream",
     "text": [
      "WARNING: All log messages before absl::InitializeLog() is called are written to STDERR\n",
      "I0000 00:00:1738935896.796499 4059052 cuda_executor.cc:1001] could not open file to read NUMA node: /sys/bus/pci/devices/0000:22:00.0/numa_node\n",
      "Your kernel may have been built without NUMA support.\n",
      "I0000 00:00:1738935896.840408 4059052 cuda_executor.cc:1001] could not open file to read NUMA node: /sys/bus/pci/devices/0000:22:00.0/numa_node\n",
      "Your kernel may have been built without NUMA support.\n",
      "I0000 00:00:1738935896.840451 4059052 cuda_executor.cc:1001] could not open file to read NUMA node: /sys/bus/pci/devices/0000:22:00.0/numa_node\n",
      "Your kernel may have been built without NUMA support.\n",
      "I0000 00:00:1738935896.849658 4059052 cuda_executor.cc:1001] could not open file to read NUMA node: /sys/bus/pci/devices/0000:22:00.0/numa_node\n",
      "Your kernel may have been built without NUMA support.\n",
      "I0000 00:00:1738935896.849786 4059052 cuda_executor.cc:1001] could not open file to read NUMA node: /sys/bus/pci/devices/0000:22:00.0/numa_node\n",
      "Your kernel may have been built without NUMA support.\n",
      "I0000 00:00:1738935896.849799 4059052 cuda_executor.cc:1001] could not open file to read NUMA node: /sys/bus/pci/devices/0000:22:00.0/numa_node\n",
      "Your kernel may have been built without NUMA support.\n",
      "I0000 00:00:1738935897.021050 4059052 cuda_executor.cc:1001] could not open file to read NUMA node: /sys/bus/pci/devices/0000:22:00.0/numa_node\n",
      "Your kernel may have been built without NUMA support.\n",
      "I0000 00:00:1738935897.021118 4059052 cuda_executor.cc:1001] could not open file to read NUMA node: /sys/bus/pci/devices/0000:22:00.0/numa_node\n",
      "Your kernel may have been built without NUMA support.\n",
      "I0000 00:00:1738935897.021144 4059052 cuda_executor.cc:1001] could not open file to read NUMA node: /sys/bus/pci/devices/0000:22:00.0/numa_node\n",
      "Your kernel may have been built without NUMA support.\n",
      "I0000 00:00:1738935897.084484 4059052 cuda_executor.cc:1001] could not open file to read NUMA node: /sys/bus/pci/devices/0000:22:00.0/numa_node\n",
      "Your kernel may have been built without NUMA support.\n",
      "I0000 00:00:1738935897.084567 4059052 cuda_executor.cc:1001] could not open file to read NUMA node: /sys/bus/pci/devices/0000:22:00.0/numa_node\n",
      "Your kernel may have been built without NUMA support.\n",
      "I0000 00:00:1738935897.084580 4059052 cuda_executor.cc:1001] could not open file to read NUMA node: /sys/bus/pci/devices/0000:22:00.0/numa_node\n",
      "Your kernel may have been built without NUMA support.\n",
      "I0000 00:00:1738935897.084750 4059052 cuda_executor.cc:1001] could not open file to read NUMA node: /sys/bus/pci/devices/0000:22:00.0/numa_node\n",
      "Your kernel may have been built without NUMA support.\n",
      "I0000 00:00:1738935897.084785 4059052 cuda_executor.cc:1001] could not open file to read NUMA node: /sys/bus/pci/devices/0000:22:00.0/numa_node\n",
      "Your kernel may have been built without NUMA support.\n",
      "WARNING: All log messages before absl::InitializeLog() is called are written to STDERR\n",
      "I0000 00:00:1738935898.281716 4059153 service.cc:146] XLA service 0x7f1854015930 initialized for platform CUDA (this does not guarantee that XLA will be used). Devices:\n",
      "I0000 00:00:1738935898.281745 4059153 service.cc:154]   StreamExecutor device (0): NVIDIA GeForce RTX 3090, Compute Capability 8.6\n",
      "I0000 00:00:1738935898.989841 4059153 device_compiler.h:188] Compiled cluster using XLA!  This line is logged at most once for the lifetime of the process.\n"
     ]
    }
   ],
   "source": [
    "import os\n",
    "os.environ['TF_CPP_MIN_LOG_LEVEL'] = '3' \n",
    "\n",
    "import random\n",
    "import gymnasium as gym\n",
    "import time\n",
    "import numpy as np\n",
    "from collections import deque\n",
    "from keras.models import Sequential, Model\n",
    "from keras.layers import Dense, Input\n",
    "from keras.optimizers import Adam\n",
    "import matplotlib.pyplot as plt\n",
    "from PIL import Image\n",
    "\n",
    "import tensorflow as tf\n",
    "print(\"Num GPUs Available: \", len(tf.config.list_physical_devices('GPU')))\n",
    "\n",
    "import sys\n",
    "sys.stderr = open('err.txt', 'w')"
   ]
  },
  {
   "cell_type": "code",
   "execution_count": 2,
   "id": "778ab31e",
   "metadata": {},
   "outputs": [
    {
     "name": "stdout",
     "output_type": "stream",
     "text": [
      "Using device: 0, name: NVIDIA GeForce RTX 3090, pci bus id: 0000:22:00.0, compute capability: 8.6\n"
     ]
    }
   ],
   "source": [
    "# GPU\n",
    "from tensorflow.python.client import device_lib\n",
    "devices = device_lib.list_local_devices()\n",
    "gpu_devices = [device for device in devices if device.device_type == 'GPU']\n",
    "for gpu in gpu_devices:\n",
    "    print('Using', gpu.physical_device_desc)"
   ]
  },
  {
   "cell_type": "markdown",
   "id": "ae2be125",
   "metadata": {},
   "source": [
    "#### **Hyperparameters**"
   ]
  },
  {
   "cell_type": "code",
   "execution_count": 3,
   "id": "78010280",
   "metadata": {},
   "outputs": [],
   "source": [
    "\n",
    "MAX_EPISODES = 1500\n",
    "ROLLING_WINDOW = 20\n",
    "MEMORY_SIZE = 100000\n",
    "MAX_STEPS = 1200\n",
    "\n",
    "gamma = 0.99                         # discount rate\n",
    "epsilon = 1.0                        # exploration rate\n",
    "epsilon_min = 0.01\n",
    "epsilon_decay = 0.99\n",
    "learning_rate = 0.0001\n",
    "batch_size = 64\n",
    "solved_threshold = 200\n",
    "\n",
    "verb = 0                             # to see traces (verbosity)"
   ]
  },
  {
   "cell_type": "code",
   "execution_count": 4,
   "id": "d058e6b0",
   "metadata": {},
   "outputs": [],
   "source": [
    "# Environment setup\n",
    "env = gym.make('LunarLander-v3')\n",
    "state_size = env.observation_space.shape[0]\n",
    "action_size = env.action_space.n"
   ]
  },
  {
   "cell_type": "markdown",
   "id": "7fa84c05",
   "metadata": {},
   "source": [
    "#### **Neural Network**"
   ]
  },
  {
   "cell_type": "code",
   "execution_count": 5,
   "id": "5799f12c",
   "metadata": {},
   "outputs": [],
   "source": [
    "def build_model(state_size, action_size):\n",
    "    inputs = Input(shape=(state_size,), name=\"input_layer\")\n",
    "    x = Dense(128, activation='relu', name=\"hidden_1\")(inputs)\n",
    "    x = Dense(64, activation='relu', name=\"hidden_2\")(x)\n",
    "    x = Dense(32, activation='relu', name=\"hidden_3\")(x)\n",
    "    outputs = Dense(action_size, activation='linear', name=\"output_layer\")(x)\n",
    "    \n",
    "    model = Model(inputs=inputs, outputs=outputs, name=\"Q_Network\")\n",
    "#    model.compile(optimizer=Adam(learning_rate=learning_rate, clipnorm=1.0), loss='mse') # to improve train stability\n",
    "    model.compile(loss='mse', optimizer=Adam(learning_rate=learning_rate))\n",
    "    return model"
   ]
  },
  {
   "cell_type": "markdown",
   "id": "b7fca383",
   "metadata": {},
   "source": [
    "#### **Support Functions**"
   ]
  },
  {
   "cell_type": "code",
   "execution_count": 6,
   "id": "10c07fd6",
   "metadata": {
    "scrolled": false
   },
   "outputs": [
    {
     "data": {
      "text/html": [
       "<pre style=\"white-space:pre;overflow-x:auto;line-height:normal;font-family:Menlo,'DejaVu Sans Mono',consolas,'Courier New',monospace\"><span style=\"font-weight: bold\">Model: \"Q_Network\"</span>\n",
       "</pre>\n"
      ],
      "text/plain": [
       "\u001b[1mModel: \"Q_Network\"\u001b[0m\n"
      ]
     },
     "metadata": {},
     "output_type": "display_data"
    },
    {
     "data": {
      "text/html": [
       "<pre style=\"white-space:pre;overflow-x:auto;line-height:normal;font-family:Menlo,'DejaVu Sans Mono',consolas,'Courier New',monospace\">┏━━━━━━━━━━━━━━━━━━━━━━━━━━━━━━━━━┳━━━━━━━━━━━━━━━━━━━━━━━━┳━━━━━━━━━━━━━━━┓\n",
       "┃<span style=\"font-weight: bold\"> Layer (type)                    </span>┃<span style=\"font-weight: bold\"> Output Shape           </span>┃<span style=\"font-weight: bold\">       Param # </span>┃\n",
       "┡━━━━━━━━━━━━━━━━━━━━━━━━━━━━━━━━━╇━━━━━━━━━━━━━━━━━━━━━━━━╇━━━━━━━━━━━━━━━┩\n",
       "│ input_layer (<span style=\"color: #0087ff; text-decoration-color: #0087ff\">InputLayer</span>)        │ (<span style=\"color: #00d7ff; text-decoration-color: #00d7ff\">None</span>, <span style=\"color: #00af00; text-decoration-color: #00af00\">8</span>)              │             <span style=\"color: #00af00; text-decoration-color: #00af00\">0</span> │\n",
       "├─────────────────────────────────┼────────────────────────┼───────────────┤\n",
       "│ hidden_1 (<span style=\"color: #0087ff; text-decoration-color: #0087ff\">Dense</span>)                │ (<span style=\"color: #00d7ff; text-decoration-color: #00d7ff\">None</span>, <span style=\"color: #00af00; text-decoration-color: #00af00\">128</span>)            │         <span style=\"color: #00af00; text-decoration-color: #00af00\">1,152</span> │\n",
       "├─────────────────────────────────┼────────────────────────┼───────────────┤\n",
       "│ hidden_2 (<span style=\"color: #0087ff; text-decoration-color: #0087ff\">Dense</span>)                │ (<span style=\"color: #00d7ff; text-decoration-color: #00d7ff\">None</span>, <span style=\"color: #00af00; text-decoration-color: #00af00\">64</span>)             │         <span style=\"color: #00af00; text-decoration-color: #00af00\">8,256</span> │\n",
       "├─────────────────────────────────┼────────────────────────┼───────────────┤\n",
       "│ hidden_3 (<span style=\"color: #0087ff; text-decoration-color: #0087ff\">Dense</span>)                │ (<span style=\"color: #00d7ff; text-decoration-color: #00d7ff\">None</span>, <span style=\"color: #00af00; text-decoration-color: #00af00\">32</span>)             │         <span style=\"color: #00af00; text-decoration-color: #00af00\">2,080</span> │\n",
       "├─────────────────────────────────┼────────────────────────┼───────────────┤\n",
       "│ output_layer (<span style=\"color: #0087ff; text-decoration-color: #0087ff\">Dense</span>)            │ (<span style=\"color: #00d7ff; text-decoration-color: #00d7ff\">None</span>, <span style=\"color: #00af00; text-decoration-color: #00af00\">4</span>)              │           <span style=\"color: #00af00; text-decoration-color: #00af00\">132</span> │\n",
       "└─────────────────────────────────┴────────────────────────┴───────────────┘\n",
       "</pre>\n"
      ],
      "text/plain": [
       "┏━━━━━━━━━━━━━━━━━━━━━━━━━━━━━━━━━┳━━━━━━━━━━━━━━━━━━━━━━━━┳━━━━━━━━━━━━━━━┓\n",
       "┃\u001b[1m \u001b[0m\u001b[1mLayer (type)                   \u001b[0m\u001b[1m \u001b[0m┃\u001b[1m \u001b[0m\u001b[1mOutput Shape          \u001b[0m\u001b[1m \u001b[0m┃\u001b[1m \u001b[0m\u001b[1m      Param #\u001b[0m\u001b[1m \u001b[0m┃\n",
       "┡━━━━━━━━━━━━━━━━━━━━━━━━━━━━━━━━━╇━━━━━━━━━━━━━━━━━━━━━━━━╇━━━━━━━━━━━━━━━┩\n",
       "│ input_layer (\u001b[38;5;33mInputLayer\u001b[0m)        │ (\u001b[38;5;45mNone\u001b[0m, \u001b[38;5;34m8\u001b[0m)              │             \u001b[38;5;34m0\u001b[0m │\n",
       "├─────────────────────────────────┼────────────────────────┼───────────────┤\n",
       "│ hidden_1 (\u001b[38;5;33mDense\u001b[0m)                │ (\u001b[38;5;45mNone\u001b[0m, \u001b[38;5;34m128\u001b[0m)            │         \u001b[38;5;34m1,152\u001b[0m │\n",
       "├─────────────────────────────────┼────────────────────────┼───────────────┤\n",
       "│ hidden_2 (\u001b[38;5;33mDense\u001b[0m)                │ (\u001b[38;5;45mNone\u001b[0m, \u001b[38;5;34m64\u001b[0m)             │         \u001b[38;5;34m8,256\u001b[0m │\n",
       "├─────────────────────────────────┼────────────────────────┼───────────────┤\n",
       "│ hidden_3 (\u001b[38;5;33mDense\u001b[0m)                │ (\u001b[38;5;45mNone\u001b[0m, \u001b[38;5;34m32\u001b[0m)             │         \u001b[38;5;34m2,080\u001b[0m │\n",
       "├─────────────────────────────────┼────────────────────────┼───────────────┤\n",
       "│ output_layer (\u001b[38;5;33mDense\u001b[0m)            │ (\u001b[38;5;45mNone\u001b[0m, \u001b[38;5;34m4\u001b[0m)              │           \u001b[38;5;34m132\u001b[0m │\n",
       "└─────────────────────────────────┴────────────────────────┴───────────────┘\n"
      ]
     },
     "metadata": {},
     "output_type": "display_data"
    },
    {
     "data": {
      "text/html": [
       "<pre style=\"white-space:pre;overflow-x:auto;line-height:normal;font-family:Menlo,'DejaVu Sans Mono',consolas,'Courier New',monospace\"><span style=\"font-weight: bold\"> Total params: </span><span style=\"color: #00af00; text-decoration-color: #00af00\">11,620</span> (45.39 KB)\n",
       "</pre>\n"
      ],
      "text/plain": [
       "\u001b[1m Total params: \u001b[0m\u001b[38;5;34m11,620\u001b[0m (45.39 KB)\n"
      ]
     },
     "metadata": {},
     "output_type": "display_data"
    },
    {
     "data": {
      "text/html": [
       "<pre style=\"white-space:pre;overflow-x:auto;line-height:normal;font-family:Menlo,'DejaVu Sans Mono',consolas,'Courier New',monospace\"><span style=\"font-weight: bold\"> Trainable params: </span><span style=\"color: #00af00; text-decoration-color: #00af00\">11,620</span> (45.39 KB)\n",
       "</pre>\n"
      ],
      "text/plain": [
       "\u001b[1m Trainable params: \u001b[0m\u001b[38;5;34m11,620\u001b[0m (45.39 KB)\n"
      ]
     },
     "metadata": {},
     "output_type": "display_data"
    },
    {
     "data": {
      "text/html": [
       "<pre style=\"white-space:pre;overflow-x:auto;line-height:normal;font-family:Menlo,'DejaVu Sans Mono',consolas,'Courier New',monospace\"><span style=\"font-weight: bold\"> Non-trainable params: </span><span style=\"color: #00af00; text-decoration-color: #00af00\">0</span> (0.00 B)\n",
       "</pre>\n"
      ],
      "text/plain": [
       "\u001b[1m Non-trainable params: \u001b[0m\u001b[38;5;34m0\u001b[0m (0.00 B)\n"
      ]
     },
     "metadata": {},
     "output_type": "display_data"
    }
   ],
   "source": [
    "replay_buffer = deque(maxlen=MEMORY_SIZE)\n",
    "\n",
    "def store(state, action, reward, next_state, done):             # memorize\n",
    "    replay_buffer.append((state, action, reward, next_state, done))\n",
    "\n",
    "def select_action_greedy(state, DQN):                                      # act\n",
    "    if np.random.rand() <= epsilon:\n",
    "        return random.randrange(action_size)\n",
    "    act_values = DQN.predict(state, verbose=verb)\n",
    "    return np.argmax(act_values[0])  # returns action selected with greedy strategy\n",
    "\n",
    "# Sample experiences from the replay buffer\n",
    "def sample_experiences(batch_size):\n",
    "    indices = np.random.choice(len(replay_buffer), batch_size, replace=False)\n",
    "    batch = [replay_buffer[i] for i in indices]\n",
    "    states, actions, rewards, next_states, dones = zip(*batch)\n",
    "    return (\n",
    "        np.vstack(states),\n",
    "        np.array(actions),\n",
    "        np.array(rewards),\n",
    "        np.vstack(next_states),\n",
    "        np.array(dones, dtype=np.float32)\n",
    "    )\n",
    "\n",
    "    \n",
    "def experience_replay(batch_size, model, epsilon):\n",
    "    if len(replay_buffer) < batch_size:\n",
    "        return\n",
    "    minibatch = random.sample(replay_buffer, batch_size)\n",
    "    states, actions, rewards, next_states, dones = sample_experiences(batch_size)\n",
    "\n",
    "    # Predict Q-values for current and next states using vectorized operations\n",
    "    target_qs = model.predict(states, verbose=verb)\n",
    "    next_qs   = model.predict(next_states, verbose=verb)\n",
    "\n",
    "    # Update target Q-values using standard DQN logic   \n",
    "    target_qs[np.arange(batch_size), actions] = rewards + gamma * np.max(next_qs, axis=1) * (1 - dones)\n",
    "    \n",
    "#    for i in range(batch_size):\n",
    "#        if dones[i]:\n",
    "#            target_qs[i, actions[i]] = rewards[i]\n",
    "#        else:\n",
    "#            target_qs[i, actions[i]] = rewards[i] + gamma * np.max(next_qs[i])\n",
    "\n",
    "    # Train the model on the Q-values\n",
    "    model.fit(states, target_qs, epochs=1, verbose=0)\n",
    "\n",
    "def load(name, DQN):\n",
    "    DQN.load_weights(name)\n",
    "\n",
    "def save(name, DQN):\n",
    "    DQN.save_weights(name)\n",
    "\n",
    "DQN = build_model(state_size, action_size)\n",
    "DQN.summary()"
   ]
  },
  {
   "cell_type": "code",
   "execution_count": 7,
   "id": "0cb99f42",
   "metadata": {
    "scrolled": false
   },
   "outputs": [
    {
     "name": "stdout",
     "output_type": "stream",
     "text": [
      "Episode:   1/1500, Reward: -346.57, Epsilon: 0.99, Rolling Avg: -346.57, Steps:   94 Terminated: True \n",
      "Episode:   2/1500, Reward:  -27.03, Epsilon: 0.98, Rolling Avg: -186.80, Steps:   91 Terminated: True \n",
      "Episode:   3/1500, Reward: -408.89, Epsilon: 0.97, Rolling Avg: -260.83, Steps:   83 Terminated: True \n",
      "Episode:   4/1500, Reward:  -55.04, Epsilon: 0.96, Rolling Avg: -209.38, Steps:   76 Terminated: True \n",
      "Episode:   5/1500, Reward: -379.38, Epsilon: 0.95, Rolling Avg: -243.38, Steps:   90 Terminated: True \n",
      "Episode:   6/1500, Reward: -236.10, Epsilon: 0.94, Rolling Avg: -242.17, Steps:   74 Terminated: True \n",
      "Episode:   7/1500, Reward: -400.77, Epsilon: 0.93, Rolling Avg: -264.82, Steps:  101 Terminated: True \n",
      "Episode:   8/1500, Reward:  -99.97, Epsilon: 0.92, Rolling Avg: -244.22, Steps:   84 Terminated: True \n",
      "Episode:   9/1500, Reward:  -54.47, Epsilon: 0.91, Rolling Avg: -223.13, Steps:   80 Terminated: True \n",
      "Episode:  10/1500, Reward: -431.08, Epsilon: 0.90, Rolling Avg: -243.93, Steps:   87 Terminated: True \n",
      "Episode:  11/1500, Reward: -269.50, Epsilon: 0.90, Rolling Avg: -246.25, Steps:  121 Terminated: True \n",
      "Episode:  12/1500, Reward: -139.50, Epsilon: 0.89, Rolling Avg: -237.36, Steps:  107 Terminated: True \n",
      "Episode:  13/1500, Reward: -118.13, Epsilon: 0.88, Rolling Avg: -228.19, Steps:   91 Terminated: True \n",
      "Episode:  14/1500, Reward:  -87.88, Epsilon: 0.87, Rolling Avg: -218.16, Steps:  146 Terminated: True \n",
      "Episode:  15/1500, Reward: -257.34, Epsilon: 0.86, Rolling Avg: -220.78, Steps:  144 Terminated: True \n",
      "Episode:  16/1500, Reward: -106.19, Epsilon: 0.85, Rolling Avg: -213.61, Steps:   64 Terminated: True \n",
      "Episode:  17/1500, Reward:  -55.21, Epsilon: 0.84, Rolling Avg: -204.30, Steps:   77 Terminated: True \n",
      "Episode:  18/1500, Reward: -131.88, Epsilon: 0.83, Rolling Avg: -200.27, Steps:  116 Terminated: True \n",
      "Episode:  19/1500, Reward:  -42.82, Epsilon: 0.83, Rolling Avg: -191.99, Steps:  126 Terminated: True \n",
      "Episode:  20/1500, Reward: -457.85, Epsilon: 0.82, Rolling Avg: -205.28, Steps:  134 Terminated: True \n",
      "Episode:  21/1500, Reward: -162.85, Epsilon: 0.81, Rolling Avg: -196.09, Steps:   84 Terminated: True \n",
      "Episode:  22/1500, Reward: -114.43, Epsilon: 0.80, Rolling Avg: -200.46, Steps:  139 Terminated: True \n",
      "Episode:  23/1500, Reward: -118.17, Epsilon: 0.79, Rolling Avg: -185.93, Steps:   89 Terminated: True \n",
      "Episode:  24/1500, Reward:  -87.76, Epsilon: 0.79, Rolling Avg: -187.56, Steps:  117 Terminated: True \n",
      "Episode:  25/1500, Reward: -218.83, Epsilon: 0.78, Rolling Avg: -179.54, Steps:  168 Terminated: True \n",
      "Episode:  26/1500, Reward:  -88.39, Epsilon: 0.77, Rolling Avg: -172.15, Steps:   66 Terminated: True \n",
      "Episode:  27/1500, Reward: -152.36, Epsilon: 0.76, Rolling Avg: -159.73, Steps:  107 Terminated: True \n",
      "Episode:  28/1500, Reward: -157.09, Epsilon: 0.75, Rolling Avg: -162.59, Steps:  138 Terminated: True \n",
      "Episode:  29/1500, Reward: -167.69, Epsilon: 0.75, Rolling Avg: -168.25, Steps:  122 Terminated: True \n",
      "Episode:  30/1500, Reward:  -63.26, Epsilon: 0.74, Rolling Avg: -149.86, Steps:  100 Terminated: True \n",
      "Episode:  31/1500, Reward:  -78.82, Epsilon: 0.73, Rolling Avg: -140.32, Steps:   98 Terminated: True \n",
      "Episode:  32/1500, Reward:  -89.90, Epsilon: 0.72, Rolling Avg: -137.84, Steps:  138 Terminated: True \n",
      "Episode:  33/1500, Reward:  -82.47, Epsilon: 0.72, Rolling Avg: -136.06, Steps:   94 Terminated: True \n",
      "Episode:  34/1500, Reward: -134.10, Epsilon: 0.71, Rolling Avg: -138.37, Steps:  123 Terminated: True \n",
      "Episode:  35/1500, Reward:  -78.53, Epsilon: 0.70, Rolling Avg: -129.43, Steps:   80 Terminated: True \n",
      "Episode:  36/1500, Reward: -135.85, Epsilon: 0.70, Rolling Avg: -130.91, Steps:  202 Terminated: True \n",
      "Episode:  37/1500, Reward:  -84.38, Epsilon: 0.69, Rolling Avg: -132.37, Steps:   97 Terminated: True \n",
      "Episode:  38/1500, Reward:   -1.45, Epsilon: 0.68, Rolling Avg: -125.85, Steps:   98 Terminated: True \n",
      "Episode:  39/1500, Reward: -102.36, Epsilon: 0.68, Rolling Avg: -128.83, Steps:  202 Terminated: True \n",
      "Episode:  40/1500, Reward: -107.75, Epsilon: 0.67, Rolling Avg: -111.32, Steps:  182 Terminated: True \n",
      "Episode:  41/1500, Reward:  -88.42, Epsilon: 0.66, Rolling Avg: -107.60, Steps:   92 Terminated: True \n",
      "Episode:  42/1500, Reward: -104.90, Epsilon: 0.66, Rolling Avg: -107.12, Steps:   91 Terminated: True \n",
      "Episode:  43/1500, Reward: -120.38, Epsilon: 0.65, Rolling Avg: -107.23, Steps:  123 Terminated: True \n",
      "Episode:  44/1500, Reward: -119.73, Epsilon: 0.64, Rolling Avg: -108.83, Steps:  125 Terminated: True \n",
      "Episode:  45/1500, Reward: -204.75, Epsilon: 0.64, Rolling Avg: -108.13, Steps:  159 Terminated: True \n",
      "Episode:  46/1500, Reward:  -91.58, Epsilon: 0.63, Rolling Avg: -108.29, Steps:   77 Terminated: True \n",
      "Episode:  47/1500, Reward: -109.24, Epsilon: 0.62, Rolling Avg: -106.13, Steps:  183 Terminated: True \n",
      "Episode:  48/1500, Reward:  -35.06, Epsilon: 0.62, Rolling Avg: -100.03, Steps:   99 Terminated: True \n",
      "Episode:  49/1500, Reward:  -79.60, Epsilon: 0.61, Rolling Avg: -95.63, Steps:  207 Terminated: True \n",
      "Episode:  50/1500, Reward:  -65.07, Epsilon: 0.61, Rolling Avg: -95.72, Steps:  142 Terminated: True \n",
      "Episode:  51/1500, Reward:  -81.27, Epsilon: 0.60, Rolling Avg: -95.84, Steps:   97 Terminated: True \n",
      "Episode:  52/1500, Reward:  -68.32, Epsilon: 0.59, Rolling Avg: -94.76, Steps:   82 Terminated: True \n",
      "Episode:  53/1500, Reward:  -42.61, Epsilon: 0.59, Rolling Avg: -92.77, Steps:  122 Terminated: True \n",
      "Episode:  54/1500, Reward:  -96.18, Epsilon: 0.58, Rolling Avg: -90.87, Steps:  249 Terminated: True \n",
      "Episode:  55/1500, Reward:  -82.62, Epsilon: 0.58, Rolling Avg: -91.08, Steps:  104 Terminated: True \n",
      "Episode:  56/1500, Reward:  -73.21, Epsilon: 0.57, Rolling Avg: -87.94, Steps:   80 Terminated: True \n",
      "Episode:  57/1500, Reward:  -85.98, Epsilon: 0.56, Rolling Avg: -88.02, Steps:  118 Terminated: True \n",
      "Episode:  58/1500, Reward: -109.06, Epsilon: 0.56, Rolling Avg: -93.40, Steps:  117 Terminated: True \n",
      "Episode:  59/1500, Reward: -263.75, Epsilon: 0.55, Rolling Avg: -101.47, Steps:  182 Terminated: True \n",
      "Episode:  60/1500, Reward:  -65.73, Epsilon: 0.55, Rolling Avg: -99.37, Steps:  155 Terminated: True \n",
      "Episode:  61/1500, Reward: -225.50, Epsilon: 0.54, Rolling Avg: -106.23, Steps:  154 Terminated: True \n",
      "Episode:  62/1500, Reward:  -65.61, Epsilon: 0.54, Rolling Avg: -104.26, Steps:  209 Terminated: True \n",
      "Episode:  63/1500, Reward:  -46.19, Epsilon: 0.53, Rolling Avg: -100.55, Steps:  145 Terminated: True \n",
      "Episode:  64/1500, Reward:  -47.32, Epsilon: 0.53, Rolling Avg: -96.93, Steps:  165 Terminated: True \n",
      "Episode:  65/1500, Reward:  -89.44, Epsilon: 0.52, Rolling Avg: -91.17, Steps:  155 Terminated: True \n",
      "Episode:  66/1500, Reward: -113.82, Epsilon: 0.52, Rolling Avg: -92.28, Steps:  141 Terminated: True \n",
      "Episode:  67/1500, Reward:   +5.12, Epsilon: 0.51, Rolling Avg: -86.56, Steps:  240 Terminated: True \n",
      "Episode:  68/1500, Reward: -131.84, Epsilon: 0.50, Rolling Avg: -91.40, Steps:  147 Terminated: True \n",
      "Episode:  69/1500, Reward:   -0.78, Epsilon: 0.50, Rolling Avg: -87.46, Steps:  345 Terminated: True \n",
      "Episode:  70/1500, Reward: -198.17, Epsilon: 0.49, Rolling Avg: -94.11, Steps:  174 Terminated: True \n",
      "Episode:  71/1500, Reward:  -72.95, Epsilon: 0.49, Rolling Avg: -93.70, Steps:  490 Terminated: True \n",
      "Episode:  72/1500, Reward:  -62.78, Epsilon: 0.48, Rolling Avg: -93.42, Steps:  168 Terminated: True \n",
      "Episode:  73/1500, Reward:  -89.32, Epsilon: 0.48, Rolling Avg: -95.76, Steps:  162 Terminated: True \n",
      "Episode:  74/1500, Reward:   +2.40, Epsilon: 0.48, Rolling Avg: -90.83, Steps:  162 Terminated: True \n",
      "Episode:  75/1500, Reward:  -60.30, Epsilon: 0.47, Rolling Avg: -89.71, Steps:  150 Terminated: True \n",
      "Episode:  76/1500, Reward:  -70.89, Epsilon: 0.47, Rolling Avg: -89.60, Steps:  148 Terminated: True \n",
      "Episode:  77/1500, Reward: -162.39, Epsilon: 0.46, Rolling Avg: -93.42, Steps:  352 Terminated: True \n",
      "Episode:  78/1500, Reward:  -77.51, Epsilon: 0.46, Rolling Avg: -91.84, Steps:  153 Terminated: True \n",
      "Episode:  79/1500, Reward:  -60.49, Epsilon: 0.45, Rolling Avg: -81.68, Steps:  259 Terminated: True \n",
      "Episode:  80/1500, Reward:  -12.93, Epsilon: 0.45, Rolling Avg: -79.04, Steps:  212 Terminated: True \n"
     ]
    },
    {
     "name": "stdout",
     "output_type": "stream",
     "text": [
      "Episode:  81/1500, Reward: -152.43, Epsilon: 0.44, Rolling Avg: -75.38, Steps:  480 Terminated: True \n",
      "Episode:  82/1500, Reward:   +8.00, Epsilon: 0.44, Rolling Avg: -71.70, Steps:  336 Terminated: True \n",
      "Episode:  83/1500, Reward:  -22.08, Epsilon: 0.43, Rolling Avg: -70.50, Steps:  178 Terminated: True \n",
      "Episode:  84/1500, Reward:  -89.44, Epsilon: 0.43, Rolling Avg: -72.60, Steps:  285 Terminated: True \n",
      "Episode:  85/1500, Reward:  -97.48, Epsilon: 0.43, Rolling Avg: -73.00, Steps:  585 Terminated: True \n",
      "Episode:  86/1500, Reward: -190.17, Epsilon: 0.42, Rolling Avg: -76.82, Steps:  166 Terminated: True \n",
      "Episode:  87/1500, Reward:  -37.90, Epsilon: 0.42, Rolling Avg: -78.97, Steps:  409 Terminated: True \n",
      "Episode:  88/1500, Reward:  -93.68, Epsilon: 0.41, Rolling Avg: -77.06, Steps:  127 Terminated: True \n",
      "Episode:  89/1500, Reward: -170.19, Epsilon: 0.41, Rolling Avg: -85.54, Steps:  440 Terminated: True \n",
      "Episode:  90/1500, Reward:  +65.30, Epsilon: 0.40, Rolling Avg: -72.36, Steps: 1199 Terminated: False \n",
      "Episode:  91/1500, Reward:  -70.04, Epsilon: 0.40, Rolling Avg: -72.22, Steps:  277 Terminated: True \n",
      "Episode:  92/1500, Reward:  -95.58, Epsilon: 0.40, Rolling Avg: -73.86, Steps:  322 Terminated: True \n",
      "Episode:  93/1500, Reward:  -57.04, Epsilon: 0.39, Rolling Avg: -72.24, Steps:  295 Terminated: True \n",
      "Episode:  94/1500, Reward: -184.81, Epsilon: 0.39, Rolling Avg: -81.60, Steps:  283 Terminated: True \n",
      "Episode:  95/1500, Reward: -308.19, Epsilon: 0.38, Rolling Avg: -94.00, Steps: 1024 Terminated: True \n",
      "Episode:  96/1500, Reward: -173.68, Epsilon: 0.38, Rolling Avg: -99.14, Steps: 1199 Terminated: False \n",
      "Episode:  97/1500, Reward: -146.11, Epsilon: 0.38, Rolling Avg: -98.32, Steps: 1199 Terminated: False \n",
      "Episode:  98/1500, Reward: -187.32, Epsilon: 0.37, Rolling Avg: -103.81, Steps:  189 Terminated: True \n",
      "Episode:  99/1500, Reward:  -47.64, Epsilon: 0.37, Rolling Avg: -103.17, Steps:  192 Terminated: True \n",
      "Episode: 100/1500, Reward: -103.22, Epsilon: 0.37, Rolling Avg: -107.68, Steps:  152 Terminated: True \n",
      "Episode: 101/1500, Reward: -168.26, Epsilon: 0.36, Rolling Avg: -108.48, Steps: 1199 Terminated: False \n",
      "Episode: 102/1500, Reward: -124.98, Epsilon: 0.36, Rolling Avg: -115.13, Steps: 1199 Terminated: False \n",
      "Episode: 103/1500, Reward: -151.70, Epsilon: 0.36, Rolling Avg: -121.61, Steps:  322 Terminated: True \n",
      "Episode: 104/1500, Reward:  -75.77, Epsilon: 0.35, Rolling Avg: -120.92, Steps:  187 Terminated: True \n",
      "Episode: 105/1500, Reward:  -77.22, Epsilon: 0.35, Rolling Avg: -119.91, Steps: 1199 Terminated: False \n",
      "Episode: 106/1500, Reward:  -52.00, Epsilon: 0.34, Rolling Avg: -113.00, Steps: 1199 Terminated: False \n",
      "Episode: 107/1500, Reward: -105.04, Epsilon: 0.34, Rolling Avg: -116.36, Steps: 1199 Terminated: False \n",
      "Episode: 108/1500, Reward:  -97.87, Epsilon: 0.34, Rolling Avg: -116.57, Steps: 1199 Terminated: False \n",
      "Episode: 109/1500, Reward: -183.42, Epsilon: 0.33, Rolling Avg: -117.23, Steps:  898 Terminated: True \n",
      "Episode: 110/1500, Reward:  -98.35, Epsilon: 0.33, Rolling Avg: -125.41, Steps:  476 Terminated: True \n",
      "Episode: 111/1500, Reward: -230.57, Epsilon: 0.33, Rolling Avg: -133.44, Steps:  840 Terminated: True \n",
      "Episode: 112/1500, Reward:  -65.51, Epsilon: 0.32, Rolling Avg: -131.93, Steps: 1199 Terminated: False \n",
      "Episode: 113/1500, Reward: -266.55, Epsilon: 0.32, Rolling Avg: -142.41, Steps: 1088 Terminated: True \n",
      "Episode: 114/1500, Reward:  -19.93, Epsilon: 0.32, Rolling Avg: -134.17, Steps:  162 Terminated: True \n",
      "Episode: 115/1500, Reward: -126.85, Epsilon: 0.31, Rolling Avg: -125.10, Steps:  707 Terminated: True \n",
      "Episode: 116/1500, Reward:  -69.27, Epsilon: 0.31, Rolling Avg: -119.88, Steps:  437 Terminated: True \n",
      "Episode: 117/1500, Reward:  -36.38, Epsilon: 0.31, Rolling Avg: -114.39, Steps: 1199 Terminated: False \n",
      "Episode: 118/1500, Reward: -130.59, Epsilon: 0.31, Rolling Avg: -111.56, Steps: 1199 Terminated: False \n",
      "Episode: 119/1500, Reward: -102.31, Epsilon: 0.30, Rolling Avg: -114.29, Steps: 1199 Terminated: False \n",
      "Episode: 120/1500, Reward: -163.32, Epsilon: 0.30, Rolling Avg: -117.29, Steps:  677 Terminated: True \n",
      "Episode: 121/1500, Reward: -123.45, Epsilon: 0.30, Rolling Avg: -115.05, Steps: 1016 Terminated: True \n",
      "Episode: 122/1500, Reward:   +3.83, Epsilon: 0.29, Rolling Avg: -108.61, Steps: 1199 Terminated: False \n",
      "Episode: 123/1500, Reward: -138.68, Epsilon: 0.29, Rolling Avg: -107.96, Steps: 1199 Terminated: False \n",
      "Episode: 124/1500, Reward:  -38.34, Epsilon: 0.29, Rolling Avg: -106.09, Steps:  231 Terminated: True \n",
      "Episode: 125/1500, Reward:  -96.07, Epsilon: 0.28, Rolling Avg: -107.03, Steps: 1199 Terminated: False \n",
      "Episode: 126/1500, Reward:  +62.10, Epsilon: 0.28, Rolling Avg: -101.33, Steps: 1199 Terminated: False \n",
      "Episode: 127/1500, Reward: -108.77, Epsilon: 0.28, Rolling Avg: -101.51, Steps: 1199 Terminated: False \n",
      "Episode: 128/1500, Reward:  -35.67, Epsilon: 0.28, Rolling Avg: -98.40, Steps: 1199 Terminated: False \n",
      "Episode: 129/1500, Reward:  -78.23, Epsilon: 0.27, Rolling Avg: -93.15, Steps: 1199 Terminated: False \n",
      "Episode: 130/1500, Reward: -117.80, Epsilon: 0.27, Rolling Avg: -94.12, Steps: 1199 Terminated: False \n",
      "Episode: 131/1500, Reward: -119.57, Epsilon: 0.27, Rolling Avg: -88.57, Steps: 1199 Terminated: False \n",
      "Episode: 132/1500, Reward:  -86.47, Epsilon: 0.27, Rolling Avg: -89.62, Steps: 1199 Terminated: False \n",
      "Episode: 133/1500, Reward: -114.37, Epsilon: 0.26, Rolling Avg: -82.01, Steps: 1199 Terminated: False \n",
      "Episode: 134/1500, Reward:  -99.63, Epsilon: 0.26, Rolling Avg: -85.99, Steps: 1199 Terminated: False \n",
      "Episode: 135/1500, Reward: -153.90, Epsilon: 0.26, Rolling Avg: -87.34, Steps: 1199 Terminated: False \n",
      "Episode: 136/1500, Reward:  -30.34, Epsilon: 0.25, Rolling Avg: -85.40, Steps: 1199 Terminated: False \n",
      "Episode: 137/1500, Reward:  -47.34, Epsilon: 0.25, Rolling Avg: -85.95, Steps: 1199 Terminated: False \n",
      "Episode: 138/1500, Reward:  -59.70, Epsilon: 0.25, Rolling Avg: -82.40, Steps: 1199 Terminated: False \n",
      "Episode: 139/1500, Reward:  -75.43, Epsilon: 0.25, Rolling Avg: -81.06, Steps: 1199 Terminated: False \n",
      "Episode: 140/1500, Reward:  -72.50, Epsilon: 0.24, Rolling Avg: -76.52, Steps: 1199 Terminated: False \n",
      "Episode: 141/1500, Reward:  -51.96, Epsilon: 0.24, Rolling Avg: -72.94, Steps: 1199 Terminated: False \n",
      "Episode: 142/1500, Reward:  -44.25, Epsilon: 0.24, Rolling Avg: -75.35, Steps: 1199 Terminated: False \n",
      "Episode: 143/1500, Reward:  -27.08, Epsilon: 0.24, Rolling Avg: -69.77, Steps: 1199 Terminated: False \n",
      "Episode: 144/1500, Reward:  -73.18, Epsilon: 0.24, Rolling Avg: -71.51, Steps: 1199 Terminated: False \n",
      "Episode: 145/1500, Reward:  -40.02, Epsilon: 0.23, Rolling Avg: -68.70, Steps: 1199 Terminated: False \n",
      "Episode: 146/1500, Reward:  -56.78, Epsilon: 0.23, Rolling Avg: -74.65, Steps: 1199 Terminated: False \n",
      "Episode: 147/1500, Reward:  -14.65, Epsilon: 0.23, Rolling Avg: -69.94, Steps: 1199 Terminated: False \n",
      "Episode: 148/1500, Reward:  -68.72, Epsilon: 0.23, Rolling Avg: -71.60, Steps: 1199 Terminated: False \n",
      "Episode: 149/1500, Reward:  -43.92, Epsilon: 0.22, Rolling Avg: -69.88, Steps: 1199 Terminated: False \n",
      "Episode: 150/1500, Reward:  -65.06, Epsilon: 0.22, Rolling Avg: -67.24, Steps: 1199 Terminated: False \n",
      "Episode: 151/1500, Reward:  -52.44, Epsilon: 0.22, Rolling Avg: -63.89, Steps: 1199 Terminated: False \n",
      "Episode: 152/1500, Reward:  -45.51, Epsilon: 0.22, Rolling Avg: -61.84, Steps: 1199 Terminated: False \n",
      "Episode: 153/1500, Reward:  -21.64, Epsilon: 0.21, Rolling Avg: -57.20, Steps: 1199 Terminated: False \n",
      "Episode: 154/1500, Reward:  -49.99, Epsilon: 0.21, Rolling Avg: -54.72, Steps: 1199 Terminated: False \n",
      "Episode: 155/1500, Reward:  -27.07, Epsilon: 0.21, Rolling Avg: -48.38, Steps: 1199 Terminated: False \n",
      "Episode: 156/1500, Reward:  -99.14, Epsilon: 0.21, Rolling Avg: -51.82, Steps: 1199 Terminated: False \n",
      "Episode: 157/1500, Reward:  -51.80, Epsilon: 0.21, Rolling Avg: -52.04, Steps: 1199 Terminated: False \n",
      "Episode: 158/1500, Reward:  -38.46, Epsilon: 0.20, Rolling Avg: -50.98, Steps: 1199 Terminated: False \n",
      "Episode: 159/1500, Reward:  -50.16, Epsilon: 0.20, Rolling Avg: -49.72, Steps: 1199 Terminated: False \n",
      "Episode: 160/1500, Reward:  -25.28, Epsilon: 0.20, Rolling Avg: -47.36, Steps: 1199 Terminated: False \n"
     ]
    },
    {
     "name": "stdout",
     "output_type": "stream",
     "text": [
      "Episode: 161/1500, Reward:  -76.29, Epsilon: 0.20, Rolling Avg: -48.57, Steps: 1199 Terminated: False \n",
      "Episode: 162/1500, Reward:  -75.44, Epsilon: 0.20, Rolling Avg: -50.13, Steps: 1199 Terminated: False \n",
      "Episode: 163/1500, Reward:   -5.67, Epsilon: 0.19, Rolling Avg: -49.06, Steps: 1199 Terminated: False \n",
      "Episode: 164/1500, Reward:   -6.02, Epsilon: 0.19, Rolling Avg: -45.70, Steps: 1199 Terminated: False \n",
      "Episode: 165/1500, Reward:  -28.29, Epsilon: 0.19, Rolling Avg: -45.12, Steps: 1199 Terminated: False \n",
      "Episode: 166/1500, Reward:   -1.24, Epsilon: 0.19, Rolling Avg: -42.34, Steps: 1199 Terminated: False \n",
      "Episode: 167/1500, Reward:  -60.42, Epsilon: 0.19, Rolling Avg: -44.63, Steps: 1199 Terminated: False \n",
      "Episode: 168/1500, Reward:  -39.51, Epsilon: 0.18, Rolling Avg: -43.17, Steps: 1199 Terminated: False \n",
      "Episode: 169/1500, Reward:   +2.77, Epsilon: 0.18, Rolling Avg: -40.83, Steps: 1199 Terminated: False \n",
      "Episode: 170/1500, Reward:  -61.66, Epsilon: 0.18, Rolling Avg: -40.66, Steps: 1199 Terminated: False \n",
      "Episode: 171/1500, Reward:  -21.50, Epsilon: 0.18, Rolling Avg: -39.12, Steps: 1199 Terminated: False \n",
      "Episode: 172/1500, Reward:  -80.10, Epsilon: 0.18, Rolling Avg: -40.85, Steps: 1199 Terminated: False \n",
      "Episode: 173/1500, Reward:   -8.03, Epsilon: 0.18, Rolling Avg: -40.17, Steps: 1199 Terminated: False \n",
      "Episode: 174/1500, Reward:  -58.37, Epsilon: 0.17, Rolling Avg: -40.58, Steps: 1199 Terminated: False \n",
      "Episode: 175/1500, Reward:  +13.19, Epsilon: 0.17, Rolling Avg: -38.57, Steps: 1199 Terminated: False \n",
      "Episode: 176/1500, Reward:  +10.23, Epsilon: 0.17, Rolling Avg: -33.10, Steps: 1199 Terminated: False \n",
      "Episode: 177/1500, Reward:  -38.52, Epsilon: 0.17, Rolling Avg: -32.44, Steps: 1199 Terminated: False \n",
      "Episode: 178/1500, Reward:  -23.08, Epsilon: 0.17, Rolling Avg: -31.67, Steps: 1199 Terminated: False \n",
      "Episode: 179/1500, Reward:   -9.05, Epsilon: 0.17, Rolling Avg: -29.61, Steps: 1199 Terminated: False \n",
      "Episode: 180/1500, Reward:  -16.23, Epsilon: 0.16, Rolling Avg: -29.16, Steps: 1199 Terminated: False \n",
      "Episode: 181/1500, Reward:  +15.93, Epsilon: 0.16, Rolling Avg: -24.55, Steps: 1199 Terminated: False \n",
      "Episode: 182/1500, Reward:  +55.71, Epsilon: 0.16, Rolling Avg: -17.99, Steps: 1199 Terminated: False \n",
      "Episode: 183/1500, Reward: +207.45, Epsilon: 0.16, Rolling Avg:  -7.34, Steps:  794 Terminated: True \n",
      "Episode: 184/1500, Reward:  +41.95, Epsilon: 0.16, Rolling Avg:  -4.94, Steps: 1199 Terminated: False \n",
      "Episode: 185/1500, Reward: +181.30, Epsilon: 0.16, Rolling Avg:   5.54, Steps:  747 Terminated: True \n",
      "Episode: 186/1500, Reward:  -25.99, Epsilon: 0.15, Rolling Avg:   4.30, Steps: 1199 Terminated: False \n",
      "Episode: 187/1500, Reward:  +56.96, Epsilon: 0.15, Rolling Avg:  10.17, Steps: 1199 Terminated: False \n",
      "Episode: 188/1500, Reward:  +89.08, Epsilon: 0.15, Rolling Avg:  16.60, Steps: 1199 Terminated: False \n",
      "Episode: 189/1500, Reward: +183.33, Epsilon: 0.15, Rolling Avg:  25.63, Steps:  708 Terminated: True \n",
      "Episode: 190/1500, Reward: +230.44, Epsilon: 0.15, Rolling Avg:  40.23, Steps:  624 Terminated: True \n",
      "Episode: 191/1500, Reward: +205.46, Epsilon: 0.15, Rolling Avg:  51.58, Steps:  644 Terminated: True \n",
      "Episode: 192/1500, Reward:  +20.85, Epsilon: 0.15, Rolling Avg:  56.63, Steps:  129 Terminated: True \n",
      "Episode: 193/1500, Reward:  +59.36, Epsilon: 0.14, Rolling Avg:  60.00, Steps: 1199 Terminated: False \n",
      "Episode: 194/1500, Reward:  +77.28, Epsilon: 0.14, Rolling Avg:  66.78, Steps:  980 Terminated: True \n",
      "Episode: 195/1500, Reward: +263.96, Epsilon: 0.14, Rolling Avg:  79.32, Steps:  549 Terminated: True \n",
      "Episode: 196/1500, Reward:  +29.65, Epsilon: 0.14, Rolling Avg:  80.29, Steps: 1199 Terminated: False \n",
      "Episode: 197/1500, Reward: +198.84, Epsilon: 0.14, Rolling Avg:  92.16, Steps: 1134 Terminated: True \n",
      "Episode: 198/1500, Reward: +139.54, Epsilon: 0.14, Rolling Avg: 100.29, Steps:  690 Terminated: True \n",
      "Episode: 199/1500, Reward: +249.86, Epsilon: 0.14, Rolling Avg: 113.24, Steps:  543 Terminated: True \n",
      "Episode: 200/1500, Reward: +179.72, Epsilon: 0.13, Rolling Avg: 123.03, Steps:  976 Terminated: True \n",
      "Episode: 201/1500, Reward: +210.78, Epsilon: 0.13, Rolling Avg: 132.78, Steps:  526 Terminated: True \n",
      "Episode: 202/1500, Reward: +238.46, Epsilon: 0.13, Rolling Avg: 141.91, Steps:  569 Terminated: True \n",
      "Episode: 203/1500, Reward: +198.77, Epsilon: 0.13, Rolling Avg: 141.48, Steps:  544 Terminated: True \n",
      "Episode: 204/1500, Reward: +218.12, Epsilon: 0.13, Rolling Avg: 150.29, Steps:  467 Terminated: True \n",
      "Episode: 205/1500, Reward: +192.34, Epsilon: 0.13, Rolling Avg: 150.84, Steps:  698 Terminated: True \n",
      "Episode: 206/1500, Reward: +193.09, Epsilon: 0.13, Rolling Avg: 161.79, Steps:  572 Terminated: True \n",
      "Episode: 207/1500, Reward: +197.96, Epsilon: 0.12, Rolling Avg: 168.84, Steps:  621 Terminated: True \n",
      "Episode: 208/1500, Reward:  -93.85, Epsilon: 0.12, Rolling Avg: 159.70, Steps:  226 Terminated: True \n",
      "Episode: 209/1500, Reward:  +14.35, Epsilon: 0.12, Rolling Avg: 151.25, Steps:  244 Terminated: True \n",
      "Episode: 210/1500, Reward: +167.50, Epsilon: 0.12, Rolling Avg: 148.10, Steps:  718 Terminated: True \n",
      "Episode: 211/1500, Reward: +222.99, Epsilon: 0.12, Rolling Avg: 148.98, Steps:  706 Terminated: True \n",
      "Episode: 212/1500, Reward: +199.07, Epsilon: 0.12, Rolling Avg: 157.89, Steps:  639 Terminated: True \n",
      "Episode: 213/1500, Reward: +220.24, Epsilon: 0.12, Rolling Avg: 165.93, Steps:  429 Terminated: True \n",
      "Episode: 214/1500, Reward: +248.59, Epsilon: 0.12, Rolling Avg: 174.50, Steps:  775 Terminated: True \n",
      "Episode: 215/1500, Reward:  +19.32, Epsilon: 0.12, Rolling Avg: 162.27, Steps:  112 Terminated: True \n",
      "Episode: 216/1500, Reward: +197.37, Epsilon: 0.11, Rolling Avg: 170.65, Steps: 1066 Terminated: True \n",
      "Episode: 217/1500, Reward: +188.51, Epsilon: 0.11, Rolling Avg: 170.14, Steps:  339 Terminated: True \n",
      "Episode: 218/1500, Reward: +210.12, Epsilon: 0.11, Rolling Avg: 173.67, Steps:  493 Terminated: True \n",
      "Episode: 219/1500, Reward: +217.29, Epsilon: 0.11, Rolling Avg: 172.04, Steps:  517 Terminated: True \n",
      "Episode: 220/1500, Reward: +240.86, Epsilon: 0.11, Rolling Avg: 175.09, Steps:  441 Terminated: True \n",
      "Episode: 221/1500, Reward: +266.52, Epsilon: 0.11, Rolling Avg: 177.88, Steps:  438 Terminated: True \n",
      "Episode: 222/1500, Reward: +257.47, Epsilon: 0.11, Rolling Avg: 178.83, Steps:  468 Terminated: True \n",
      "Episode: 223/1500, Reward: +223.43, Epsilon: 0.11, Rolling Avg: 180.06, Steps:  485 Terminated: True \n",
      "Episode: 224/1500, Reward: +177.35, Epsilon: 0.11, Rolling Avg: 178.03, Steps:  480 Terminated: True \n",
      "Episode: 225/1500, Reward: +216.53, Epsilon: 0.10, Rolling Avg: 179.24, Steps:  473 Terminated: True \n",
      "Episode: 226/1500, Reward: +228.47, Epsilon: 0.10, Rolling Avg: 181.00, Steps:  428 Terminated: True \n",
      "Episode: 227/1500, Reward:  +14.53, Epsilon: 0.10, Rolling Avg: 171.83, Steps:  140 Terminated: True \n",
      "Episode: 228/1500, Reward: +252.91, Epsilon: 0.10, Rolling Avg: 189.17, Steps:  410 Terminated: True \n",
      "Episode: 229/1500, Reward: +251.82, Epsilon: 0.10, Rolling Avg: 201.04, Steps:  472 Terminated: True \n",
      "Environment solved in 229 episodes!\n",
      "Training completed in 431.37 minutes\n"
     ]
    }
   ],
   "source": [
    "rewards_per_episode= []\n",
    "start_time = time.time()\n",
    "\n",
    "done = False\n",
    "rolling_avg = 0\n",
    "rolling_avg_rewards = []\n",
    "\n",
    "for e in range(MAX_EPISODES):                           # Should be While True, however we limit number of eps\n",
    "    state, _ = env.reset()\n",
    "    state = np.reshape(state, [1, state_size])\n",
    "    total_reward = 0\n",
    "    \n",
    "    for step in range(MAX_STEPS):\n",
    "            \n",
    "        action = select_action_greedy(state, DQN)\n",
    "        next_state, reward, done, truncated , _ = env.step(action)\n",
    "                    \n",
    "        next_state = np.reshape(next_state, [1, state_size])\n",
    "        store(state, action, reward, next_state, done)\n",
    "        state = next_state\n",
    "        total_reward = total_reward + reward\n",
    "        if done:\n",
    "            break\n",
    "            \n",
    "        if len(replay_buffer) > batch_size:\n",
    "            experience_replay(batch_size, DQN, epsilon)\n",
    "            \n",
    "    epsilon = max(epsilon_min, epsilon * epsilon_decay)            # decay epsilon\n",
    "    \n",
    "    rewards_per_episode.append(total_reward)\n",
    "    rolling_avg = np.mean(rewards_per_episode[-ROLLING_WINDOW:])   # append rewards\n",
    "    rolling_avg_rewards.append(rolling_avg)\n",
    "    print(f\"Episode: {e+1:3}/{MAX_EPISODES}, Reward: {total_reward:+7.2f}, \"\n",
    "          f\"Epsilon: {epsilon:.2f}, Rolling Avg: {rolling_avg:6.2f}, Steps: {step:4} Terminated: {done} \")\n",
    "\n",
    "            \n",
    "    # Check if environment is solved\n",
    "    if rolling_avg >= solved_threshold:\n",
    "        print(f\"Environment solved in {e+1} episodes!\")\n",
    "#            model.save(\"lunarlander_ddqn_model1.keras\")\n",
    "        break\n",
    "    \n",
    "end_time = time.time()\n",
    "print(f\"Training completed in {(end_time - start_time)/60:.2f} minutes\")"
   ]
  },
  {
   "cell_type": "markdown",
   "id": "5419d918",
   "metadata": {},
   "source": [
    "#### **Learning Plot and Episode Rewards**"
   ]
  },
  {
   "cell_type": "code",
   "execution_count": 8,
   "id": "0724b047",
   "metadata": {},
   "outputs": [
    {
     "data": {
      "image/png": "[encoded data removed]",
      "text/plain": [
       "<Figure size 1000x600 with 1 Axes>"
      ]
     },
     "metadata": {},
     "output_type": "display_data"
    }
   ],
   "source": [
    "# Plot rewards with rolling average\n",
    "\n",
    "plt.figure(figsize=(10, 6))\n",
    "plt.plot(rewards_per_episode, label='Rewards', color='blue')\n",
    "plt.plot(rolling_avg_rewards, label='Rolling Avg (Last 20 Episodes)', color='orange')\n",
    "plt.axhline(y=solved_threshold, color='red', linestyle='--', label='Solved Threshold')\n",
    "plt.title('DQN Training Performance LUNARLANDER')\n",
    "plt.xlabel('Episodes')\n",
    "plt.ylabel('Rewards')\n",
    "plt.legend()\n",
    "plt.grid()\n",
    "plt.show()"
   ]
  },
  {
   "cell_type": "markdown",
   "id": "51baef8f",
   "metadata": {},
   "source": [
    "#### **Simulation - Testing 10 episodes with the DQN Network**"
   ]
  },
  {
   "cell_type": "code",
   "execution_count": 9,
   "id": "1ade8d4a",
   "metadata": {},
   "outputs": [
    {
     "name": "stdout",
     "output_type": "stream",
     "text": [
      "Test Episode:  1/10, Reward: -104.48, Steps: 461\n",
      "Test Episode:  2/10, Reward: 258.05, Steps: 423\n",
      "Test Episode:  3/10, Reward: -171.74, Steps: 643\n",
      "Test Episode:  4/10, Reward: -113.58, Steps: 280\n",
      "Test Episode:  5/10, Reward: -166.10, Steps: 426\n",
      "Test Episode:  6/10, Reward: -135.46, Steps: 318\n",
      "Test Episode:  7/10, Reward: -151.45, Steps: 416\n",
      "Test Episode:  8/10, Reward: 268.15, Steps: 402\n",
      "Test Episode:  9/10, Reward: -152.84, Steps: 496\n",
      "Test Episode: 10/10, Reward: -90.30, Steps: 270\n",
      "Testing completed in 3.32 minutes\n"
     ]
    }
   ],
   "source": [
    "# Testing for 10 episodes\n",
    "start_time = time.time()\n",
    "\n",
    "for e_test in range(10):  # Run 10 test episodes\n",
    "    state, _ = env.reset()\n",
    "    state = np.reshape(state, [1, state_size])\n",
    "    total_reward = 0\n",
    "    \n",
    "    steps = 0\n",
    "    while True:\n",
    "        # Use the trained model for testing\n",
    "        action_vals = DQN.predict(state, verbose=0)  # Predict action values\n",
    "        action = np.argmax(action_vals[0])  # Choose the action with the highest Q-value\n",
    "\n",
    "        next_state, reward, done, truncated, _ = env.step(action)\n",
    "        next_state = np.reshape(next_state, [1, state_size])\n",
    "        total_reward += reward\n",
    "        state = next_state\n",
    "        steps = steps + 1\n",
    "        if done or truncated:\n",
    "            print(f\"Test Episode: {e_test + 1:2}/10, Reward: {total_reward:.2f}, Steps: {steps:3}\")\n",
    "            break\n",
    "\n",
    "end_time = time.time()\n",
    "testing_duration = (end_time - start_time) / 60  # Convert to minutes\n",
    "print(f\"Testing completed in {testing_duration:.2f} minutes\")"
   ]
  },
  {
   "cell_type": "markdown",
   "id": "67f36b76",
   "metadata": {},
   "source": [
    "#### **Rendering 1 episode**"
   ]
  },
  {
   "cell_type": "code",
   "execution_count": 10,
   "id": "0e9e3acd",
   "metadata": {},
   "outputs": [
    {
     "name": "stdout",
     "output_type": "stream",
     "text": [
      "Rendered Test Episode Reward: -266.48\n",
      "Saved GIF to: ./LUNARLANDER_DQN.gif\n"
     ]
    }
   ],
   "source": [
    "# Test the trained agent with video rendering\n",
    "# This code is useful if you are using colab otherwise use render_mode='human'\n",
    "env = gym.make(('LunarLander-v3'), render_mode='rgb_array')  # Enable RGB rendering\n",
    "frames = []  # Store frames for visualization\n",
    "\n",
    "# Render a single test episode\n",
    "state, _ = env.reset()\n",
    "state = np.reshape(state, [1, state_size])\n",
    "tot_rewards = 0\n",
    "\n",
    "while True:\n",
    "    # Use the trained model for action\n",
    "    action_vals = DQN.predict(state, verbose=0)  # Predict action values\n",
    "    action = np.argmax(action_vals[0])           # Choose the action with the highest Q-value\n",
    "\n",
    "    next_state, reward, done, truncated, _ = env.step(action)\n",
    "    frames.append(env.render())                  # Save frame for rendering later\n",
    "    next_state = np.reshape(next_state, [1, state_size])\n",
    "    tot_rewards += reward\n",
    "    state = next_state\n",
    "\n",
    "    if done or truncated:\n",
    "        print(f\"Rendered Test Episode Reward: {tot_rewards:.2f}\")\n",
    "        break\n",
    "\n",
    "env.close()\n",
    "\n",
    "# Save the rendered episode as a GIF\n",
    "def save_frames_as_gif(frames, path='./', filename='LUNARLANDER_DQN.gif'):\n",
    "    images = [Image.fromarray(frame) for frame in frames]\n",
    "    gif_path = os.path.join(path, filename)\n",
    "    images[0].save(gif_path, save_all=True, append_images=images[1:], duration=50, loop=0)\n",
    "    print(f\"Saved GIF to: {gif_path}\")\n",
    "\n",
    "save_frames_as_gif(frames, filename='LUNARLANDER_DQN.gif')\n"
   ]
  },
  {
   "cell_type": "code",
   "execution_count": 11,
   "id": "017d49c2",
   "metadata": {},
   "outputs": [
    {
     "name": "stdout",
     "output_type": "stream",
     "text": [
      "-----\n",
      "PIL                 11.0.0\n",
      "gymnasium           1.0.0\n",
      "keras               3.6.0\n",
      "matplotlib          3.9.2\n",
      "numpy               1.26.4\n",
      "session_info        1.0.0\n",
      "tensorflow          2.17.1\n",
      "-----\n",
      "IPython             8.28.0\n",
      "jupyter_client      8.6.3\n",
      "jupyter_core        5.7.2\n",
      "-----\n",
      "Python 3.12.3 (main, Jan 17 2025, 18:03:48) [GCC 13.3.0]\n",
      "Linux-5.15.167.4-microsoft-standard-WSL2-x86_64-with-glibc2.39\n",
      "-----\n",
      "Session information updated at 2025-02-07 22:00\n"
     ]
    }
   ],
   "source": [
    "import session_info\n",
    "session_info.show(html=False)"
   ]
  }
 ],
 "metadata": {
  "kernelspec": {
   "display_name": "DL-Keras",
   "language": "python",
   "name": "dl-keras"
  },
  "language_info": {
   "codemirror_mode": {
    "name": "ipython",
    "version": 3
   },
   "file_extension": ".py",
   "mimetype": "text/x-python",
   "name": "python",
   "nbconvert_exporter": "python",
   "pygments_lexer": "ipython3",
   "version": "3.12.3"
  }
 },
 "nbformat": 4,
 "nbformat_minor": 5
}
