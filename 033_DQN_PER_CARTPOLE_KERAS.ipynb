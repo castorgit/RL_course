{
 "cells": [
  {
   "cell_type": "markdown",
   "id": "ccb89376",
   "metadata": {},
   "source": [
    "### **CARTPOLE DQN KERAS WITH PRIORITIZED REPLAY BUFFER**\n",
    "\n",
    "The naive DQN version of CARTPOLE now is improved by adding a PRIORITY BUFFER CONFIGURATION <br>\n",
    "\n",
    "This is a classical priority buffer with evaluation based on the TD calculation <br>\n",
    "\n",
    "Different priority buffer configurations <br>\n",
    "<br>\n",
    "High priority (focuses more on important experiences) <br>\n",
    "replay_buffer_high_priority = PriorityReplayBuffer(MEMORY_SIZE, alpha=0.8, beta=0.6) <br>\n",
    "<br>\n",
    "Balanced priority (moderate prioritization) <br>\n",
    "replay_buffer_balanced = PriorityReplayBuffer(MEMORY_SIZE, alpha=0.6, beta=0.4) <br>\n",
    "<br>\n",
    "Low priority (closer to uniform sampling) <br>\n",
    "replay_buffer_low_priority = PriorityReplayBuffer(MEMORY_SIZE, alpha=0.2, beta=0.1)<br>\n"
   ]
  },
  {
   "cell_type": "code",
   "execution_count": 1,
   "id": "557b1b33",
   "metadata": {},
   "outputs": [
    {
     "name": "stderr",
     "output_type": "stream",
     "text": [
      "WARNING: All log messages before absl::InitializeLog() is called are written to STDERR\n",
      "E0000 00:00:1749668007.401102 3966970 cuda_dnn.cc:8579] Unable to register cuDNN factory: Attempting to register factory for plugin cuDNN when one has already been registered\n",
      "E0000 00:00:1749668007.404488 3966970 cuda_blas.cc:1407] Unable to register cuBLAS factory: Attempting to register factory for plugin cuBLAS when one has already been registered\n",
      "W0000 00:00:1749668007.413825 3966970 computation_placer.cc:177] computation placer already registered. Please check linkage and avoid linking the same target more than once.\n",
      "W0000 00:00:1749668007.413837 3966970 computation_placer.cc:177] computation placer already registered. Please check linkage and avoid linking the same target more than once.\n",
      "W0000 00:00:1749668007.413838 3966970 computation_placer.cc:177] computation placer already registered. Please check linkage and avoid linking the same target more than once.\n",
      "W0000 00:00:1749668007.413839 3966970 computation_placer.cc:177] computation placer already registered. Please check linkage and avoid linking the same target more than once.\n",
      "I0000 00:00:1749668009.428934 3966970 gpu_device.cc:2019] Created device /device:GPU:0 with 2249 MB memory:  -> device: 0, name: NVIDIA T600 Laptop GPU, pci bus id: 0000:01:00.0, compute capability: 7.5\n",
      "I0000 00:00:1749668009.446959 3966970 gpu_device.cc:2019] Created device /job:localhost/replica:0/task:0/device:GPU:0 with 2249 MB memory:  -> device: 0, name: NVIDIA T600 Laptop GPU, pci bus id: 0000:01:00.0, compute capability: 7.5\n",
      "WARNING: All log messages before absl::InitializeLog() is called are written to STDERR\n",
      "I0000 00:00:1749668010.142341 3967066 service.cc:152] XLA service 0x7d7f7c003b50 initialized for platform CUDA (this does not guarantee that XLA will be used). Devices:\n",
      "I0000 00:00:1749668010.142367 3967066 service.cc:160]   StreamExecutor device (0): NVIDIA T600 Laptop GPU, Compute Capability 7.5\n",
      "I0000 00:00:1749668010.156742 3967066 cuda_dnn.cc:529] Loaded cuDNN version 90501\n",
      "I0000 00:00:1749668010.247054 3967066 device_compiler.h:188] Compiled cluster using XLA!  This line is logged at most once for the lifetime of the process.\n"
     ]
    }
   ],
   "source": [
    "import os\n",
    "os.environ['TF_CPP_MIN_LOG_LEVEL'] = '3' \n",
    "\n",
    "import random\n",
    "import gymnasium as gym\n",
    "import time\n",
    "import numpy as np\n",
    "from collections import deque, namedtuple\n",
    "from keras.models import Sequential, Model\n",
    "from keras.layers import Dense, Input\n",
    "from keras.optimizers import Adam\n",
    "import matplotlib.pyplot as plt\n",
    "from PIL import Image\n",
    "import tensorflow as tf\n",
    "\n",
    "# Use mixed-precision training for faster computations on supported GPUs\n",
    "from tensorflow.keras.mixed_precision import set_global_policy\n",
    "set_global_policy('mixed_float16')\n",
    "\n",
    "import sys\n",
    "sys.stderr = open('err.txt', 'w')"
   ]
  },
  {
   "cell_type": "code",
   "execution_count": 2,
   "id": "2041146f",
   "metadata": {},
   "outputs": [
    {
     "name": "stdout",
     "output_type": "stream",
     "text": [
      "Using device: 0, name: NVIDIA T600 Laptop GPU, pci bus id: 0000:01:00.0, compute capability: 7.5\n"
     ]
    }
   ],
   "source": [
    "from tensorflow.python.client import device_lib\n",
    "devices = device_lib.list_local_devices()\n",
    "gpu_devices = [device for device in devices if device.device_type == 'GPU']\n",
    "for gpu in gpu_devices:\n",
    "    print('Using', gpu.physical_device_desc)"
   ]
  },
  {
   "cell_type": "markdown",
   "id": "ae2be125",
   "metadata": {},
   "source": [
    "#### **Hyperparameters**"
   ]
  },
  {
   "cell_type": "code",
   "execution_count": 3,
   "id": "78010280",
   "metadata": {},
   "outputs": [],
   "source": [
    "\n",
    "MAX_EPISODES = 300\n",
    "ROLLING_WINDOW = 20\n",
    "MEMORY_SIZE = 2000\n",
    "MAX_STEPS = 500\n",
    "\n",
    "BETA = 0.6\n",
    "ALPHA = 0.8\n",
    "\n",
    "gamma = 0.95                         # discount rate\n",
    "epsilon = 1.0                        # exploration rate\n",
    "epsilon_min = 0.01\n",
    "epsilon_decay = 0.98\n",
    "learning_rate = 0.001\n",
    "batch_size = 64\n",
    "solved_threshold = 195\n",
    "\n",
    "verb = 0                             # to see traces (verbosity)\n",
    "\n",
    "seed_value = 37\n",
    "np.random.seed(seed_value)"
   ]
  },
  {
   "cell_type": "code",
   "execution_count": 4,
   "id": "d058e6b0",
   "metadata": {},
   "outputs": [],
   "source": [
    "# Environment setup\n",
    "env = gym.make(\"CartPole-v1\")\n",
    "state_size = env.observation_space.shape[0]\n",
    "action_size = env.action_space.n\n"
   ]
  },
  {
   "cell_type": "markdown",
   "id": "7fa84c05",
   "metadata": {},
   "source": [
    "#### **Neural Network**"
   ]
  },
  {
   "cell_type": "code",
   "execution_count": 5,
   "id": "5799f12c",
   "metadata": {},
   "outputs": [
    {
     "data": {
      "text/html": [
       "<pre style=\"white-space:pre;overflow-x:auto;line-height:normal;font-family:Menlo,'DejaVu Sans Mono',consolas,'Courier New',monospace\"><span style=\"font-weight: bold\">Model: \"Q_Network\"</span>\n",
       "</pre>\n"
      ],
      "text/plain": [
       "\u001b[1mModel: \"Q_Network\"\u001b[0m\n"
      ]
     },
     "metadata": {},
     "output_type": "display_data"
    },
    {
     "data": {
      "text/html": [
       "<pre style=\"white-space:pre;overflow-x:auto;line-height:normal;font-family:Menlo,'DejaVu Sans Mono',consolas,'Courier New',monospace\">┏━━━━━━━━━━━━━━━━━━━━━━━━━━━━━━━━━┳━━━━━━━━━━━━━━━━━━━━━━━━┳━━━━━━━━━━━━━━━┓\n",
       "┃<span style=\"font-weight: bold\"> Layer (type)                    </span>┃<span style=\"font-weight: bold\"> Output Shape           </span>┃<span style=\"font-weight: bold\">       Param # </span>┃\n",
       "┡━━━━━━━━━━━━━━━━━━━━━━━━━━━━━━━━━╇━━━━━━━━━━━━━━━━━━━━━━━━╇━━━━━━━━━━━━━━━┩\n",
       "│ state_input (<span style=\"color: #0087ff; text-decoration-color: #0087ff\">InputLayer</span>)        │ (<span style=\"color: #00d7ff; text-decoration-color: #00d7ff\">None</span>, <span style=\"color: #00af00; text-decoration-color: #00af00\">4</span>)              │             <span style=\"color: #00af00; text-decoration-color: #00af00\">0</span> │\n",
       "├─────────────────────────────────┼────────────────────────┼───────────────┤\n",
       "│ cast (<span style=\"color: #0087ff; text-decoration-color: #0087ff\">Cast</span>)                     │ (<span style=\"color: #00d7ff; text-decoration-color: #00d7ff\">None</span>, <span style=\"color: #00af00; text-decoration-color: #00af00\">4</span>)              │             <span style=\"color: #00af00; text-decoration-color: #00af00\">0</span> │\n",
       "├─────────────────────────────────┼────────────────────────┼───────────────┤\n",
       "│ dense_1 (<span style=\"color: #0087ff; text-decoration-color: #0087ff\">Dense</span>)                 │ (<span style=\"color: #00d7ff; text-decoration-color: #00d7ff\">None</span>, <span style=\"color: #00af00; text-decoration-color: #00af00\">32</span>)             │           <span style=\"color: #00af00; text-decoration-color: #00af00\">160</span> │\n",
       "├─────────────────────────────────┼────────────────────────┼───────────────┤\n",
       "│ dense_2 (<span style=\"color: #0087ff; text-decoration-color: #0087ff\">Dense</span>)                 │ (<span style=\"color: #00d7ff; text-decoration-color: #00d7ff\">None</span>, <span style=\"color: #00af00; text-decoration-color: #00af00\">16</span>)             │           <span style=\"color: #00af00; text-decoration-color: #00af00\">528</span> │\n",
       "├─────────────────────────────────┼────────────────────────┼───────────────┤\n",
       "│ output_layer (<span style=\"color: #0087ff; text-decoration-color: #0087ff\">Dense</span>)            │ (<span style=\"color: #00d7ff; text-decoration-color: #00d7ff\">None</span>, <span style=\"color: #00af00; text-decoration-color: #00af00\">2</span>)              │            <span style=\"color: #00af00; text-decoration-color: #00af00\">34</span> │\n",
       "└─────────────────────────────────┴────────────────────────┴───────────────┘\n",
       "</pre>\n"
      ],
      "text/plain": [
       "┏━━━━━━━━━━━━━━━━━━━━━━━━━━━━━━━━━┳━━━━━━━━━━━━━━━━━━━━━━━━┳━━━━━━━━━━━━━━━┓\n",
       "┃\u001b[1m \u001b[0m\u001b[1mLayer (type)                   \u001b[0m\u001b[1m \u001b[0m┃\u001b[1m \u001b[0m\u001b[1mOutput Shape          \u001b[0m\u001b[1m \u001b[0m┃\u001b[1m \u001b[0m\u001b[1m      Param #\u001b[0m\u001b[1m \u001b[0m┃\n",
       "┡━━━━━━━━━━━━━━━━━━━━━━━━━━━━━━━━━╇━━━━━━━━━━━━━━━━━━━━━━━━╇━━━━━━━━━━━━━━━┩\n",
       "│ state_input (\u001b[38;5;33mInputLayer\u001b[0m)        │ (\u001b[38;5;45mNone\u001b[0m, \u001b[38;5;34m4\u001b[0m)              │             \u001b[38;5;34m0\u001b[0m │\n",
       "├─────────────────────────────────┼────────────────────────┼───────────────┤\n",
       "│ cast (\u001b[38;5;33mCast\u001b[0m)                     │ (\u001b[38;5;45mNone\u001b[0m, \u001b[38;5;34m4\u001b[0m)              │             \u001b[38;5;34m0\u001b[0m │\n",
       "├─────────────────────────────────┼────────────────────────┼───────────────┤\n",
       "│ dense_1 (\u001b[38;5;33mDense\u001b[0m)                 │ (\u001b[38;5;45mNone\u001b[0m, \u001b[38;5;34m32\u001b[0m)             │           \u001b[38;5;34m160\u001b[0m │\n",
       "├─────────────────────────────────┼────────────────────────┼───────────────┤\n",
       "│ dense_2 (\u001b[38;5;33mDense\u001b[0m)                 │ (\u001b[38;5;45mNone\u001b[0m, \u001b[38;5;34m16\u001b[0m)             │           \u001b[38;5;34m528\u001b[0m │\n",
       "├─────────────────────────────────┼────────────────────────┼───────────────┤\n",
       "│ output_layer (\u001b[38;5;33mDense\u001b[0m)            │ (\u001b[38;5;45mNone\u001b[0m, \u001b[38;5;34m2\u001b[0m)              │            \u001b[38;5;34m34\u001b[0m │\n",
       "└─────────────────────────────────┴────────────────────────┴───────────────┘\n"
      ]
     },
     "metadata": {},
     "output_type": "display_data"
    },
    {
     "data": {
      "text/html": [
       "<pre style=\"white-space:pre;overflow-x:auto;line-height:normal;font-family:Menlo,'DejaVu Sans Mono',consolas,'Courier New',monospace\"><span style=\"font-weight: bold\"> Total params: </span><span style=\"color: #00af00; text-decoration-color: #00af00\">722</span> (2.82 KB)\n",
       "</pre>\n"
      ],
      "text/plain": [
       "\u001b[1m Total params: \u001b[0m\u001b[38;5;34m722\u001b[0m (2.82 KB)\n"
      ]
     },
     "metadata": {},
     "output_type": "display_data"
    },
    {
     "data": {
      "text/html": [
       "<pre style=\"white-space:pre;overflow-x:auto;line-height:normal;font-family:Menlo,'DejaVu Sans Mono',consolas,'Courier New',monospace\"><span style=\"font-weight: bold\"> Trainable params: </span><span style=\"color: #00af00; text-decoration-color: #00af00\">722</span> (2.82 KB)\n",
       "</pre>\n"
      ],
      "text/plain": [
       "\u001b[1m Trainable params: \u001b[0m\u001b[38;5;34m722\u001b[0m (2.82 KB)\n"
      ]
     },
     "metadata": {},
     "output_type": "display_data"
    },
    {
     "data": {
      "text/html": [
       "<pre style=\"white-space:pre;overflow-x:auto;line-height:normal;font-family:Menlo,'DejaVu Sans Mono',consolas,'Courier New',monospace\"><span style=\"font-weight: bold\"> Non-trainable params: </span><span style=\"color: #00af00; text-decoration-color: #00af00\">0</span> (0.00 B)\n",
       "</pre>\n"
      ],
      "text/plain": [
       "\u001b[1m Non-trainable params: \u001b[0m\u001b[38;5;34m0\u001b[0m (0.00 B)\n"
      ]
     },
     "metadata": {},
     "output_type": "display_data"
    }
   ],
   "source": [
    "def build_model(state_size, action_size):\n",
    "    inputs = Input(shape=(state_size,), name=\"state_input\")\n",
    "    x = Dense(32, activation='relu', name=\"dense_1\")(inputs)\n",
    "    x = Dense(16, activation='relu', name=\"dense_2\")(x)\n",
    "    outputs = Dense(action_size, activation='linear', name=\"output_layer\")(x)\n",
    "    \n",
    "    model = Model(inputs=inputs, outputs=outputs, name=\"Q_Network\")\n",
    "#    model.compile(optimizer=Adam(learning_rate=learning_rate, clipnorm=1.0), loss='mse') # to improve train stability\n",
    "    model.compile(loss='mse', optimizer=Adam(learning_rate=learning_rate))\n",
    "    return model\n",
    "\n",
    "DQN = build_model(state_size, action_size)\n",
    "DQN.summary()"
   ]
  },
  {
   "cell_type": "code",
   "execution_count": 6,
   "id": "4c33904c",
   "metadata": {},
   "outputs": [],
   "source": [
    "# Priority Replay Buffer Implementation\n",
    "class PriorityReplayBuffer:\n",
    "    def __init__(self, capacity, alpha=ALPHA, beta=BETA, beta_increment=0.001):\n",
    "        self.capacity = capacity\n",
    "        self.alpha = alpha  # Priority exponent (0 = uniform, 1 = full priority)\n",
    "        self.beta = beta    # Importance sampling correction (0 = no correction, 1 = full correction)\n",
    "        self.beta_increment = beta_increment\n",
    "        self.max_priority = 1.0\n",
    "        \n",
    "        # Storage\n",
    "        self.buffer = []\n",
    "        self.priorities = np.zeros(capacity, dtype=np.float32)\n",
    "        self.position = 0\n",
    "        self.size = 0\n",
    "        \n",
    "        # Experience tuple\n",
    "        self.Experience = namedtuple('Experience', ['state', 'action', 'reward', 'next_state', 'done'])\n",
    "    \n",
    "    def store(self, state, action, reward, next_state, done):\n",
    "        \"\"\"Store experience with maximum priority\"\"\"\n",
    "        experience = self.Experience(state, action, reward, next_state, done)\n",
    "        \n",
    "        if self.size < self.capacity:\n",
    "            self.buffer.append(experience)\n",
    "        else:\n",
    "            self.buffer[self.position] = experience\n",
    "        \n",
    "        # Assign maximum priority to new experience\n",
    "        self.priorities[self.position] = self.max_priority\n",
    "        \n",
    "        self.position = (self.position + 1) % self.capacity\n",
    "        self.size = min(self.size + 1, self.capacity)\n",
    "    \n",
    "    def sample_experiences(self, batch_size):\n",
    "        \"\"\"Sample experiences based on priorities\"\"\"\n",
    "        if self.size < batch_size:\n",
    "            return None\n",
    "        \n",
    "        # Calculate sampling probabilities\n",
    "        priorities = self.priorities[:self.size]\n",
    "        probabilities = priorities ** self.alpha\n",
    "        probabilities /= probabilities.sum()\n",
    "        \n",
    "        # Sample indices based on probabilities\n",
    "        indices = np.random.choice(self.size, batch_size, p=probabilities, replace=False)\n",
    "        \n",
    "        # Get experiences\n",
    "        experiences = [self.buffer[i] for i in indices]\n",
    "        states, actions, rewards, next_states, dones = zip(*experiences)\n",
    "        \n",
    "        # Calculate importance sampling weights\n",
    "        weights = (self.size * probabilities[indices]) ** (-self.beta)\n",
    "        weights /= weights.max()  # Normalize weights\n",
    "        \n",
    "        # Update beta for next sampling\n",
    "        self.beta = min(1.0, self.beta + self.beta_increment)\n",
    "        \n",
    "        return (\n",
    "            np.vstack(states),\n",
    "            np.array(actions),\n",
    "            np.array(rewards),\n",
    "            np.vstack(next_states),\n",
    "            np.array(dones, dtype=np.float32),\n",
    "            indices,\n",
    "            weights\n",
    "        )\n",
    "    \n",
    "    def update_priorities(self, indices, td_errors):\n",
    "        \"\"\"Update priorities based on TD errors\"\"\"\n",
    "        for i, td_error in zip(indices, td_errors):\n",
    "            priority = (abs(td_error) + 1e-6) ** self.alpha  # Small epsilon to avoid zero priority\n",
    "            self.priorities[i] = priority\n",
    "            self.max_priority = max(self.max_priority, priority)\n",
    "    \n",
    "    def __len__(self):\n",
    "        return self.size\n"
   ]
  },
  {
   "cell_type": "markdown",
   "id": "b7fca383",
   "metadata": {},
   "source": [
    "#### **Support Functions**"
   ]
  },
  {
   "cell_type": "code",
   "execution_count": 7,
   "id": "10c07fd6",
   "metadata": {
    "scrolled": false
   },
   "outputs": [],
   "source": [
    "\n",
    "def store(state, action, reward, next_state, done):             # memorize\n",
    "    replay_buffer.append((state, action, reward, next_state, done))\n",
    "\n",
    "def select_action_greedy(state, DQN):                                      # act\n",
    "    if np.random.rand() <= epsilon:\n",
    "        return random.randrange(action_size)\n",
    "    act_values = DQN.predict(state, verbose=verb)\n",
    "    return np.argmax(act_values[0])  # returns action selected with greedy strategy\n",
    "\n",
    "    \n",
    "def experience_replay(batch_size, model, epsilon):\n",
    "    \"\"\"Experience replay with priority sampling and importance sampling correction\"\"\"\n",
    "    sample_result = replay_buffer.sample_experiences(batch_size)\n",
    "    \n",
    "    if sample_result is None:\n",
    "        return\n",
    "    \n",
    "    states, actions, rewards, next_states, dones, indices, weights = sample_result\n",
    "    \n",
    "    # Predict Q-values for current and next states\n",
    "    target_qs = model.predict(states, verbose=verb)\n",
    "    next_qs = model.predict(next_states, verbose=verb)\n",
    "    \n",
    "    # Calculate TD targets\n",
    "    td_targets = rewards + gamma * np.max(next_qs, axis=1) * (1 - dones)\n",
    "    \n",
    "    # Calculate TD errors for priority updates\n",
    "    td_errors = td_targets - target_qs[np.arange(batch_size), actions]\n",
    "    \n",
    "    # Update target Q-values\n",
    "    target_qs[np.arange(batch_size), actions] = td_targets\n",
    "    \n",
    "    # Apply importance sampling weights to the loss\n",
    "    sample_weights = np.ones(batch_size)  # Default weights\n",
    "    if hasattr(model, 'sample_weight'):\n",
    "        sample_weights = weights\n",
    "    \n",
    "    # Train the model\n",
    "    model.fit(states, target_qs, sample_weight=sample_weights, epochs=1, verbose=0)\n",
    "    \n",
    "    # Update priorities in the buffer\n",
    "    replay_buffer.update_priorities(indices, td_errors)\n"
   ]
  },
  {
   "cell_type": "code",
   "execution_count": 8,
   "id": "0cb99f42",
   "metadata": {
    "scrolled": false
   },
   "outputs": [
    {
     "name": "stdout",
     "output_type": "stream",
     "text": [
      "Episode:   1/300, Reward:  +12.00, Epsilon: 0.98, Rolling Avg:  12.00, Steps:  11 Terminated: True \n",
      "Episode:   2/300, Reward:  +40.00, Epsilon: 0.96, Rolling Avg:  26.00, Steps:  39 Terminated: True \n",
      "Episode:   3/300, Reward:  +32.00, Epsilon: 0.94, Rolling Avg:  28.00, Steps:  31 Terminated: True \n",
      "Episode:   4/300, Reward:  +28.00, Epsilon: 0.92, Rolling Avg:  28.00, Steps:  27 Terminated: True \n",
      "Episode:   5/300, Reward:  +15.00, Epsilon: 0.90, Rolling Avg:  25.40, Steps:  14 Terminated: True \n",
      "Episode:   6/300, Reward:  +24.00, Epsilon: 0.89, Rolling Avg:  25.17, Steps:  23 Terminated: True \n",
      "Episode:   7/300, Reward:  +12.00, Epsilon: 0.87, Rolling Avg:  23.29, Steps:  11 Terminated: True \n",
      "Episode:   8/300, Reward:  +50.00, Epsilon: 0.85, Rolling Avg:  26.62, Steps:  49 Terminated: True \n",
      "Episode:   9/300, Reward:  +48.00, Epsilon: 0.83, Rolling Avg:  29.00, Steps:  47 Terminated: True \n",
      "Episode:  10/300, Reward:  +20.00, Epsilon: 0.82, Rolling Avg:  28.10, Steps:  19 Terminated: True \n",
      "Episode:  11/300, Reward:  +13.00, Epsilon: 0.80, Rolling Avg:  26.73, Steps:  12 Terminated: True \n",
      "Episode:  12/300, Reward:  +27.00, Epsilon: 0.78, Rolling Avg:  26.75, Steps:  26 Terminated: True \n",
      "Episode:  13/300, Reward:  +33.00, Epsilon: 0.77, Rolling Avg:  27.23, Steps:  32 Terminated: True \n",
      "Episode:  14/300, Reward:  +37.00, Epsilon: 0.75, Rolling Avg:  27.93, Steps:  36 Terminated: True \n",
      "Episode:  15/300, Reward:  +93.00, Epsilon: 0.74, Rolling Avg:  32.27, Steps:  92 Terminated: True \n",
      "Episode:  16/300, Reward:  +24.00, Epsilon: 0.72, Rolling Avg:  31.75, Steps:  23 Terminated: True \n",
      "Episode:  17/300, Reward:  +54.00, Epsilon: 0.71, Rolling Avg:  33.06, Steps:  53 Terminated: True \n",
      "Episode:  18/300, Reward:  +31.00, Epsilon: 0.70, Rolling Avg:  32.94, Steps:  30 Terminated: True \n",
      "Episode:  19/300, Reward:  +84.00, Epsilon: 0.68, Rolling Avg:  35.63, Steps:  83 Terminated: True \n",
      "Episode:  20/300, Reward:  +28.00, Epsilon: 0.67, Rolling Avg:  35.25, Steps:  27 Terminated: True \n",
      "Episode:  21/300, Reward: +106.00, Epsilon: 0.65, Rolling Avg:  39.95, Steps: 105 Terminated: True \n",
      "Episode:  22/300, Reward:  +23.00, Epsilon: 0.64, Rolling Avg:  39.10, Steps:  22 Terminated: True \n",
      "Episode:  23/300, Reward: +101.00, Epsilon: 0.63, Rolling Avg:  42.55, Steps: 100 Terminated: True \n",
      "Episode:  24/300, Reward: +122.00, Epsilon: 0.62, Rolling Avg:  47.25, Steps: 121 Terminated: True \n",
      "Episode:  25/300, Reward:  +35.00, Epsilon: 0.60, Rolling Avg:  48.25, Steps:  34 Terminated: True \n",
      "Episode:  26/300, Reward:  +42.00, Epsilon: 0.59, Rolling Avg:  49.15, Steps:  41 Terminated: True \n",
      "Episode:  27/300, Reward:  +65.00, Epsilon: 0.58, Rolling Avg:  51.80, Steps:  64 Terminated: True \n",
      "Episode:  28/300, Reward: +117.00, Epsilon: 0.57, Rolling Avg:  55.15, Steps: 116 Terminated: True \n",
      "Episode:  29/300, Reward:  +18.00, Epsilon: 0.56, Rolling Avg:  53.65, Steps:  17 Terminated: True \n",
      "Episode:  30/300, Reward: +123.00, Epsilon: 0.55, Rolling Avg:  58.80, Steps: 122 Terminated: True \n",
      "Episode:  31/300, Reward:  +40.00, Epsilon: 0.53, Rolling Avg:  60.15, Steps:  39 Terminated: True \n",
      "Episode:  32/300, Reward:  +93.00, Epsilon: 0.52, Rolling Avg:  63.45, Steps:  92 Terminated: True \n",
      "Episode:  33/300, Reward: +186.00, Epsilon: 0.51, Rolling Avg:  71.10, Steps: 185 Terminated: True \n",
      "Episode:  34/300, Reward: +237.00, Epsilon: 0.50, Rolling Avg:  81.10, Steps: 236 Terminated: True \n",
      "Episode:  35/300, Reward: +167.00, Epsilon: 0.49, Rolling Avg:  84.80, Steps: 166 Terminated: True \n",
      "Episode:  36/300, Reward:  +21.00, Epsilon: 0.48, Rolling Avg:  84.65, Steps:  20 Terminated: True \n",
      "Episode:  37/300, Reward: +372.00, Epsilon: 0.47, Rolling Avg: 100.55, Steps: 371 Terminated: True \n",
      "Episode:  38/300, Reward: +247.00, Epsilon: 0.46, Rolling Avg: 111.35, Steps: 246 Terminated: True \n",
      "Episode:  39/300, Reward: +215.00, Epsilon: 0.45, Rolling Avg: 117.90, Steps: 214 Terminated: True \n",
      "Episode:  40/300, Reward: +120.00, Epsilon: 0.45, Rolling Avg: 122.50, Steps: 119 Terminated: True \n",
      "Episode:  41/300, Reward:  +40.00, Epsilon: 0.44, Rolling Avg: 119.20, Steps:  39 Terminated: True \n",
      "Episode:  42/300, Reward: +258.00, Epsilon: 0.43, Rolling Avg: 130.95, Steps: 257 Terminated: True \n",
      "Episode:  43/300, Reward: +331.00, Epsilon: 0.42, Rolling Avg: 142.45, Steps: 330 Terminated: True \n",
      "Episode:  44/300, Reward: +129.00, Epsilon: 0.41, Rolling Avg: 142.80, Steps: 128 Terminated: True \n",
      "Episode:  45/300, Reward: +212.00, Epsilon: 0.40, Rolling Avg: 151.65, Steps: 211 Terminated: True \n",
      "Episode:  46/300, Reward: +281.00, Epsilon: 0.39, Rolling Avg: 163.60, Steps: 280 Terminated: True \n",
      "Episode:  47/300, Reward: +105.00, Epsilon: 0.39, Rolling Avg: 165.60, Steps: 104 Terminated: True \n",
      "Episode:  48/300, Reward: +167.00, Epsilon: 0.38, Rolling Avg: 168.10, Steps: 166 Terminated: True \n",
      "Episode:  49/300, Reward: +215.00, Epsilon: 0.37, Rolling Avg: 177.95, Steps: 214 Terminated: True \n",
      "Episode:  50/300, Reward: +298.00, Epsilon: 0.36, Rolling Avg: 186.70, Steps: 297 Terminated: True \n",
      "Episode:  51/300, Reward: +487.00, Epsilon: 0.36, Rolling Avg: 209.05, Steps: 486 Terminated: True \n",
      "Environment solved in 51 episodes!\n",
      "Training completed in 14.21 minutes\n"
     ]
    }
   ],
   "source": [
    "replay_buffer = PriorityReplayBuffer(MEMORY_SIZE)\n",
    "\n",
    "rewards_per_episode= []\n",
    "\n",
    "done = False\n",
    "rolling_avg = 0\n",
    "rolling_avg_rewards = []\n",
    "\n",
    "start_time = time.time()\n",
    "\n",
    "for e in range(MAX_EPISODES):                           # Should be While True, however we limit number of eps\n",
    "    state, _ = env.reset(seed = seed_value)\n",
    "    state = np.reshape(state, [1, state_size])\n",
    "    total_reward = 0\n",
    "    \n",
    "    for step in range(MAX_STEPS):\n",
    "            \n",
    "        action = select_action_greedy(state, DQN)\n",
    "        next_state, reward, done, truncated , _ = env.step(action)\n",
    "                    \n",
    "        next_state = np.reshape(next_state, [1, state_size])\n",
    "        replay_buffer.store(state, action, reward, next_state, done)\n",
    "        state = next_state\n",
    "        total_reward = total_reward + reward\n",
    "        if done:\n",
    "            break\n",
    "            \n",
    "        if replay_buffer.size > batch_size:\n",
    "            experience_replay(batch_size, DQN, epsilon)\n",
    "            \n",
    "    epsilon = max(epsilon_min, epsilon * epsilon_decay)            # decay epsilon\n",
    "    \n",
    "    rewards_per_episode.append(total_reward)\n",
    "    rolling_avg = np.mean(rewards_per_episode[-ROLLING_WINDOW:])   # append rewards\n",
    "    rolling_avg_rewards.append(rolling_avg)\n",
    "    print(f\"Episode: {e+1:3}/{MAX_EPISODES}, Reward: {total_reward:+7.2f}, \"\n",
    "          f\"Epsilon: {epsilon:.2f}, Rolling Avg: {rolling_avg:6.2f}, Steps: {step:3} Terminated: {done} \")\n",
    "\n",
    "            \n",
    "    # Check if environment is solved\n",
    "    if rolling_avg >= solved_threshold:\n",
    "        print(f\"Environment solved in {e+1} episodes!\")\n",
    "        break\n",
    "\n",
    "end_time = time.time()\n",
    "testing_duration = (end_time - start_time) / 60  # Convert to minutes\n",
    "print(f\"Training completed in {testing_duration:.2f} minutes\")"
   ]
  },
  {
   "cell_type": "markdown",
   "id": "5419d918",
   "metadata": {},
   "source": [
    "#### **Learning Plot and Episode Rewards**"
   ]
  },
  {
   "cell_type": "code",
   "execution_count": 9,
   "id": "0724b047",
   "metadata": {},
   "outputs": [
    {
     "data": {
      "image/png": "[encoded data removed]",
      "text/plain": [
       "<Figure size 1000x600 with 1 Axes>"
      ]
     },
     "metadata": {},
     "output_type": "display_data"
    }
   ],
   "source": [
    "# Plot rewards with rolling average\n",
    "\n",
    "plt.figure(figsize=(10, 6))\n",
    "plt.plot(rewards_per_episode, label='Rewards', color='blue')\n",
    "plt.plot(rolling_avg_rewards, label='Rolling Avg (Last 20 Episodes)', color='orange')\n",
    "plt.axhline(y=solved_threshold, color='red', linestyle='--', label='Solved Threshold')\n",
    "plt.title('DQN Priority Replay Buffer Training Performance CARTPOLE')\n",
    "plt.xlabel('Episodes')\n",
    "plt.ylabel('Rewards')\n",
    "plt.legend()\n",
    "plt.grid()\n",
    "plt.show()"
   ]
  },
  {
   "cell_type": "markdown",
   "id": "51baef8f",
   "metadata": {},
   "source": [
    "#### **Simulation - Testing 10 episodes with the DQN Network**"
   ]
  },
  {
   "cell_type": "code",
   "execution_count": 10,
   "id": "1ade8d4a",
   "metadata": {},
   "outputs": [
    {
     "name": "stdout",
     "output_type": "stream",
     "text": [
      "Test Episode:  1/10, Reward: 381.00, Steps: 381\n",
      "Test Episode:  2/10, Reward: 306.00, Steps: 306\n",
      "Test Episode:  3/10, Reward: 280.00, Steps: 280\n",
      "Test Episode:  4/10, Reward: 235.00, Steps: 235\n",
      "Test Episode:  5/10, Reward: 388.00, Steps: 388\n",
      "Test Episode:  6/10, Reward: 276.00, Steps: 276\n",
      "Test Episode:  7/10, Reward: 324.00, Steps: 324\n",
      "Test Episode:  8/10, Reward: 259.00, Steps: 259\n",
      "Test Episode:  9/10, Reward: 383.00, Steps: 383\n",
      "Test Episode: 10/10, Reward: 479.00, Steps: 479\n",
      "Testing completed in 2.41 minutes\n"
     ]
    }
   ],
   "source": [
    "# Testing for 10 episodes\n",
    "start_time = time.time()\n",
    "\n",
    "for e_test in range(10):  # Run 10 test episodes\n",
    "    state, _ = env.reset()\n",
    "    state = np.reshape(state, [1, state_size])\n",
    "    total_reward = 0\n",
    "    \n",
    "    steps = 0\n",
    "    while True:\n",
    "        # Use the trained model for testing\n",
    "        action_vals = DQN.predict(state, verbose=0)  # Predict action values\n",
    "        action = np.argmax(action_vals[0])  # Choose the action with the highest Q-value\n",
    "\n",
    "        next_state, reward, done, truncated, _ = env.step(action)\n",
    "        next_state = np.reshape(next_state, [1, state_size])\n",
    "        total_reward += reward\n",
    "        state = next_state\n",
    "        steps = steps + 1\n",
    "        if done or truncated:\n",
    "            print(f\"Test Episode: {e_test + 1:2}/10, Reward: {total_reward:.2f}, Steps: {steps:3}\")\n",
    "            break\n",
    "\n",
    "end_time = time.time()\n",
    "testing_duration = (end_time - start_time) / 60  # Convert to minutes\n",
    "print(f\"Testing completed in {testing_duration:.2f} minutes\")"
   ]
  },
  {
   "cell_type": "markdown",
   "id": "67f36b76",
   "metadata": {},
   "source": [
    "#### **Rendering 1 episode**"
   ]
  },
  {
   "cell_type": "code",
   "execution_count": 13,
   "id": "0e9e3acd",
   "metadata": {},
   "outputs": [
    {
     "name": "stdout",
     "output_type": "stream",
     "text": [
      "Rendered Test Episode Reward: 449.00\n",
      "Saved GIF to: ./CARTPOLE__PRB_DQN.gif\n"
     ]
    }
   ],
   "source": [
    "# Test the trained agent with video rendering\n",
    "# This code is useful if you are using colab otherwise use render_mode='human'\n",
    "env = gym.make((\"CartPole-v1\"), render_mode='rgb_array')  # Enable RGB rendering\n",
    "frames = []  # Store frames for visualization\n",
    "\n",
    "# Render a single test episode\n",
    "state, _ = env.reset()\n",
    "state = np.reshape(state, [1, state_size])\n",
    "tot_rewards = 0\n",
    "\n",
    "while True:\n",
    "    # Use the trained model for action\n",
    "    action_vals = DQN.predict(state, verbose=0)  # Predict action values\n",
    "    action = np.argmax(action_vals[0])           # Choose the action with the highest Q-value\n",
    "\n",
    "    next_state, reward, done, truncated, _ = env.step(action)\n",
    "    frames.append(env.render())                  # Save frame for rendering later\n",
    "    next_state = np.reshape(next_state, [1, state_size])\n",
    "    tot_rewards += reward\n",
    "    state = next_state\n",
    "\n",
    "    if done or truncated:\n",
    "        print(f\"Rendered Test Episode Reward: {tot_rewards:.2f}\")\n",
    "        break\n",
    "\n",
    "env.close()\n",
    "\n",
    "# Save the rendered episode as a GIF\n",
    "def save_frames_as_gif(frames, path='./', filename='CARTPOLE_PRB_DQN.gif'):\n",
    "    images = [Image.fromarray(frame) for frame in frames]\n",
    "    gif_path = os.path.join(path, filename)\n",
    "    images[0].save(gif_path, save_all=True, append_images=images[1:], duration=50, loop=0)\n",
    "    print(f\"Saved GIF to: {gif_path}\")\n",
    "\n",
    "save_frames_as_gif(frames, filename='CARTPOLE_PRB_DQN.gif')\n"
   ]
  },
  {
   "cell_type": "code",
   "execution_count": 12,
   "id": "6ba24e04",
   "metadata": {},
   "outputs": [
    {
     "name": "stdout",
     "output_type": "stream",
     "text": [
      "-----\n",
      "PIL                 10.4.0\n",
      "gymnasium           1.0.0\n",
      "keras               3.6.0\n",
      "matplotlib          3.9.2\n",
      "numpy               1.26.4\n",
      "session_info        1.0.0\n",
      "tensorflow          2.19.0\n",
      "-----\n",
      "IPython             8.28.0\n",
      "jupyter_client      8.6.3\n",
      "jupyter_core        5.7.2\n",
      "-----\n",
      "Python 3.12.3 (main, Feb  4 2025, 14:48:35) [GCC 13.3.0]\n",
      "Linux-6.6.87.1-microsoft-standard-WSL2-x86_64-with-glibc2.39\n",
      "-----\n",
      "Session information updated at 2025-06-11 21:10\n"
     ]
    }
   ],
   "source": [
    "import session_info\n",
    "session_info.show(html=False)"
   ]
  }
 ],
 "metadata": {
  "kernelspec": {
   "display_name": "DL-Keras",
   "language": "python",
   "name": "dl-keras"
  },
  "language_info": {
   "codemirror_mode": {
    "name": "ipython",
    "version": 3
   },
   "file_extension": ".py",
   "mimetype": "text/x-python",
   "name": "python",
   "nbconvert_exporter": "python",
   "pygments_lexer": "ipython3",
   "version": "3.12.3"
  }
 },
 "nbformat": 4,
 "nbformat_minor": 5
}
