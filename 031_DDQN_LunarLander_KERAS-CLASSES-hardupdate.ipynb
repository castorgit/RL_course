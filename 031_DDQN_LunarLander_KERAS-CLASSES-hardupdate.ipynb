{
 "cells": [
  {
   "cell_type": "markdown",
   "id": "bad28014",
   "metadata": {},
   "source": [
    "### **Lunar Lander DDQN KERAS using an Agent Class**\n",
    "\n",
    "Prepared for hard and soft update. This execution is with hard update\n",
    "\n",
    "- Hard update : copy weights\n",
    "- Soft update : soft update Polyak\n",
    "\n",
    "This is a naive version vectorized of the DDQN Algorithm for the Lunar Lander env <br>\n",
    "Vectorizing we obtain a version that is faster and it is 'functional' as it works <br>\n",
    "It should converge around 200 episodes in soft or hard update\n",
    "\n",
    "The Double DQN (DDQN) uses two networks one as a target and one as the trained network <br>\n",
    "\n",
    "The target network is a copy of the online network that is updated less frequently, <br>\n",
    "and is used to generate the target values for the Q-learning update\n",
    "\n",
    "It includes a soft update of the weights, instead of substituting the weights between the networks it blends them together using a Polyak averaging This was an improvement on the pure DDQN algorithm\n",
    "\n",
    "It has room for improvement by modifying some of the hyperparameters. Try to obtain a shorter and more stable training convergence."
   ]
  },
  {
   "cell_type": "code",
   "execution_count": 1,
   "id": "548ece67",
   "metadata": {},
   "outputs": [
    {
     "name": "stderr",
     "output_type": "stream",
     "text": [
      "WARNING: All log messages before absl::InitializeLog() is called are written to STDERR\n",
      "I0000 00:00:1739274467.498697    2153 cuda_executor.cc:1001] could not open file to read NUMA node: /sys/bus/pci/devices/0000:01:00.0/numa_node\n",
      "Your kernel may have been built without NUMA support.\n",
      "I0000 00:00:1739274467.648719    2153 cuda_executor.cc:1001] could not open file to read NUMA node: /sys/bus/pci/devices/0000:01:00.0/numa_node\n",
      "Your kernel may have been built without NUMA support.\n",
      "I0000 00:00:1739274467.648759    2153 cuda_executor.cc:1001] could not open file to read NUMA node: /sys/bus/pci/devices/0000:01:00.0/numa_node\n",
      "Your kernel may have been built without NUMA support.\n",
      "I0000 00:00:1739274467.651918    2153 cuda_executor.cc:1001] could not open file to read NUMA node: /sys/bus/pci/devices/0000:01:00.0/numa_node\n",
      "Your kernel may have been built without NUMA support.\n",
      "I0000 00:00:1739274467.651952    2153 cuda_executor.cc:1001] could not open file to read NUMA node: /sys/bus/pci/devices/0000:01:00.0/numa_node\n",
      "Your kernel may have been built without NUMA support.\n",
      "I0000 00:00:1739274467.651964    2153 cuda_executor.cc:1001] could not open file to read NUMA node: /sys/bus/pci/devices/0000:01:00.0/numa_node\n",
      "Your kernel may have been built without NUMA support.\n",
      "I0000 00:00:1739274468.250846    2153 cuda_executor.cc:1001] could not open file to read NUMA node: /sys/bus/pci/devices/0000:01:00.0/numa_node\n",
      "Your kernel may have been built without NUMA support.\n",
      "I0000 00:00:1739274468.250892    2153 cuda_executor.cc:1001] could not open file to read NUMA node: /sys/bus/pci/devices/0000:01:00.0/numa_node\n",
      "Your kernel may have been built without NUMA support.\n",
      "I0000 00:00:1739274468.250915    2153 cuda_executor.cc:1001] could not open file to read NUMA node: /sys/bus/pci/devices/0000:01:00.0/numa_node\n",
      "Your kernel may have been built without NUMA support.\n",
      "I0000 00:00:1739274468.259675    2153 cuda_executor.cc:1001] could not open file to read NUMA node: /sys/bus/pci/devices/0000:01:00.0/numa_node\n",
      "Your kernel may have been built without NUMA support.\n",
      "I0000 00:00:1739274468.259745    2153 cuda_executor.cc:1001] could not open file to read NUMA node: /sys/bus/pci/devices/0000:01:00.0/numa_node\n",
      "Your kernel may have been built without NUMA support.\n",
      "I0000 00:00:1739274468.259759    2153 cuda_executor.cc:1001] could not open file to read NUMA node: /sys/bus/pci/devices/0000:01:00.0/numa_node\n",
      "Your kernel may have been built without NUMA support.\n",
      "I0000 00:00:1739274468.259903    2153 cuda_executor.cc:1001] could not open file to read NUMA node: /sys/bus/pci/devices/0000:01:00.0/numa_node\n",
      "Your kernel may have been built without NUMA support.\n",
      "I0000 00:00:1739274468.259926    2153 cuda_executor.cc:1001] could not open file to read NUMA node: /sys/bus/pci/devices/0000:01:00.0/numa_node\n",
      "Your kernel may have been built without NUMA support.\n",
      "I0000 00:00:1739274468.391043    2153 cuda_executor.cc:1001] could not open file to read NUMA node: /sys/bus/pci/devices/0000:01:00.0/numa_node\n",
      "Your kernel may have been built without NUMA support.\n",
      "I0000 00:00:1739274468.391114    2153 cuda_executor.cc:1001] could not open file to read NUMA node: /sys/bus/pci/devices/0000:01:00.0/numa_node\n",
      "Your kernel may have been built without NUMA support.\n",
      "I0000 00:00:1739274468.391129    2153 cuda_executor.cc:1001] could not open file to read NUMA node: /sys/bus/pci/devices/0000:01:00.0/numa_node\n",
      "Your kernel may have been built without NUMA support.\n",
      "I0000 00:00:1739274468.391541    2153 cuda_executor.cc:1001] could not open file to read NUMA node: /sys/bus/pci/devices/0000:01:00.0/numa_node\n",
      "Your kernel may have been built without NUMA support.\n",
      "I0000 00:00:1739274468.391577    2153 cuda_executor.cc:1001] could not open file to read NUMA node: /sys/bus/pci/devices/0000:01:00.0/numa_node\n",
      "Your kernel may have been built without NUMA support.\n",
      "WARNING: All log messages before absl::InitializeLog() is called are written to STDERR\n",
      "I0000 00:00:1739274469.162672    2246 service.cc:146] XLA service 0x7f3b04005070 initialized for platform CUDA (this does not guarantee that XLA will be used). Devices:\n",
      "I0000 00:00:1739274469.162704    2246 service.cc:154]   StreamExecutor device (0): NVIDIA T600 Laptop GPU, Compute Capability 7.5\n",
      "I0000 00:00:1739274469.596967    2246 device_compiler.h:188] Compiled cluster using XLA!  This line is logged at most once for the lifetime of the process.\n"
     ]
    }
   ],
   "source": [
    "import os\n",
    "os.environ['TF_CPP_MIN_LOG_LEVEL'] = '3'\n",
    "\n",
    "import gymnasium as gym\n",
    "import numpy as np\n",
    "from tensorflow.keras.models import Sequential, Model\n",
    "from tensorflow.keras.layers import Dense, Input\n",
    "from tensorflow.keras.optimizers import Adam\n",
    "import tensorflow as tf\n",
    "import matplotlib.pyplot as plt\n",
    "from collections import deque\n",
    "import random\n",
    "\n",
    "import time\n",
    "from PIL import Image\n",
    "\n",
    "import sys\n",
    "sys.stderr = open('err.txt', 'w')"
   ]
  },
  {
   "cell_type": "markdown",
   "id": "fd73b37d",
   "metadata": {},
   "source": [
    "#### **Are we using GPU**"
   ]
  },
  {
   "cell_type": "code",
   "execution_count": 2,
   "id": "862b2f37",
   "metadata": {},
   "outputs": [
    {
     "name": "stdout",
     "output_type": "stream",
     "text": [
      "Num GPUs Available:  1\n",
      "Using device: 0, name: NVIDIA T600 Laptop GPU, pci bus id: 0000:01:00.0, compute capability: 7.5\n"
     ]
    }
   ],
   "source": [
    "# Activate GPU\n",
    "from tensorflow.python.client import device_lib\n",
    "from tensorflow.config import list_physical_devices\n",
    "print('Num GPUs Available: ',len(list_physical_devices('GPU')))\n",
    "devices = device_lib.list_local_devices()\n",
    "gpu_devices = [device for device in devices if device.device_type == 'GPU']\n",
    "for gpu in gpu_devices:\n",
    "    print('Using', gpu.physical_device_desc)"
   ]
  },
  {
   "cell_type": "markdown",
   "id": "96855b15",
   "metadata": {},
   "source": [
    "#### **Environment setup**"
   ]
  },
  {
   "cell_type": "code",
   "execution_count": 4,
   "id": "eb8cd8f6",
   "metadata": {},
   "outputs": [],
   "source": [
    "env = gym.make('LunarLander-v3')\n",
    "state_size = env.observation_space.shape[0]\n",
    "action_size = env.action_space.n\n"
   ]
  },
  {
   "cell_type": "markdown",
   "id": "a4e88cb4",
   "metadata": {},
   "source": [
    "#### **Hyperparameters**"
   ]
  },
  {
   "cell_type": "code",
   "execution_count": 5,
   "id": "7660da76",
   "metadata": {},
   "outputs": [],
   "source": [
    "max_steps = 1200\n",
    "max_episodes = 1200\n",
    "ROLLING_WINDOW = 40\n",
    "\n",
    "batch_size = 64\n",
    "gamma = 0.99                \n",
    "epsilon = 1.0\n",
    "epsilon_min = 0.01\n",
    "epsilon_decay = 0.99 \n",
    "learning_rate = 0.0005\n",
    "MEMORY_SIZE = 100000\n",
    "num_episodes = 1000\n",
    "solved_threshold = 200\n",
    "\n",
    "tau = 0.05  \n",
    "retrain_steps_soft = 15            # We copy weights every retrain_steps \n",
    "retrain_steps_hard = 500           # Soft update, it is high for long retrain periods. Small for short retrain\n",
    "\n",
    "UPDATE_SOFT = False                # if False then HARD UPDATE"
   ]
  },
  {
   "cell_type": "markdown",
   "id": "65a7404f",
   "metadata": {},
   "source": [
    "#### **DDQN Agent Class**"
   ]
  },
  {
   "cell_type": "code",
   "execution_count": 6,
   "id": "b5fac61d",
   "metadata": {},
   "outputs": [],
   "source": [
    "class Agent_DDQN():\n",
    "    def __init__(self, states, actions, alpha, gamma, epsilon, tau, soft_flag):\n",
    "        self.nS = states\n",
    "        self.nA = actions\n",
    "        self.replay_buffer = deque([], maxlen=MEMORY_SIZE)\n",
    "        self.alpha = alpha\n",
    "        self_tau = tau\n",
    "        self.gamma = gamma\n",
    "        self.epsilon = epsilon\n",
    "        self.epsilon_min = epsilon_min\n",
    "        self.epsilon_decay = epsilon_decay\n",
    "        self.model        = self.build_NN('model')\n",
    "        self.target_model = self.build_NN('target')\n",
    "        self.target_model.set_weights(self.model.get_weights())\n",
    "        self.loss = []\n",
    "        self.counter_retrain_hard = 0\n",
    "        self.counter_retrain_soft = 0\n",
    "        self.soft_flag = soft_flag\n",
    "        print(\"DDQN strategy SOFT reset weights\" if self.soft_flag else \"DDQN strategy HARD reset weights\")\n",
    "\n",
    "    def build_NN(self, name):\n",
    "        inputs = Input(shape=(state_size,), name=\"state_input\")\n",
    "        x = Dense(128, activation='relu', name=\"dense_1\")(inputs)\n",
    "        x = Dense(64,  activation='relu', name=\"dense_2\")(x)\n",
    "        x = Dense(32,  activation='relu', name=\"dense_3\")(x)\n",
    "        outputs = Dense(action_size, activation='linear', name=\"output_layer\")(x)\n",
    "        model = Model(inputs=inputs, outputs=outputs, name=name)\n",
    "        model.compile(loss='mse', optimizer=Adam(learning_rate=learning_rate))\n",
    "        model.summary()\n",
    "        return model\n",
    "\n",
    "    def action(self, state):\n",
    "        action_vals = self.model.predict(state, verbose=0) \n",
    "        return np.argmax(action_vals[0])\n",
    "    \n",
    "    def random_action(self):\n",
    "        return random.randrange(self.nA) #Explore\n",
    "    \n",
    "    def sample_experiences(self, batch_size):\n",
    "        indices = np.random.choice(len(self.replay_buffer), batch_size, replace=False)\n",
    "        batch = [self.replay_buffer[i] for i in indices]\n",
    "        states, actions, rewards, next_states, dones = zip(*batch)\n",
    "        return (\n",
    "            np.vstack(states),\n",
    "            np.array(actions),\n",
    "            np.array(rewards),\n",
    "            np.vstack(next_states),\n",
    "            np.array(dones, dtype=np.float32)\n",
    "            )\n",
    "    def store_experience(self, state, action, reward, next_state, done):             # memorize\n",
    "        self.replay_buffer.append((state, action, reward, next_state, done))\n",
    "    \n",
    "    def experience_replay_DDQN(self, batch_size):\n",
    "        if len(self.replay_buffer) < batch_size:\n",
    "            return\n",
    "        minibatch = random.sample(self.replay_buffer, batch_size)\n",
    "        states, actions, rewards, next_states, dones = self.sample_experiences(batch_size)\n",
    "        next_q_values = self.model.predict(next_states, verbose=0)\n",
    "        best_actions = np.argmax(next_q_values, axis=1)\n",
    "        target_q_values = self.target_model.predict(next_states, verbose=0)\n",
    "        \n",
    "        targets = rewards + gamma * target_q_values[np.arange(batch_size), best_actions] * (1 - dones)\n",
    "        \n",
    "        q_values = self.model.predict(states, verbose=0)\n",
    "        q_values[np.arange(batch_size), actions] = targets\n",
    "        self.model.fit(states, q_values, epochs=1, verbose=0)\n",
    "\n",
    "    # Apply weights updates\n",
    "        if self.soft_flag:                                             # apply soft update\n",
    "            self.counter_retrain_soft += 1\n",
    "            if self.counter_retrain_soft % retrain_steps_soft == 0:   \n",
    "                self.soft_update(self.model, self.target_model)\n",
    "                self.counter_retrain_soft = 0\n",
    "        else:                                                           # apply hard update\n",
    "            self.counter_retrain_hard += 1\n",
    "            if self.counter_retrain_hard % retrain_steps_hard == 0:   \n",
    "                self.hard_update(self.model,self.target_model)\n",
    "                self.counter_retrain_hard = 0\n",
    "        \n",
    "        return\n",
    "\n",
    "\n",
    "    def soft_update(self, model, target_model):\n",
    "        target_weights = target_model.get_weights()\n",
    "        model_weights = model.get_weights()\n",
    "        new_weights = [\n",
    "            tau * mw + (1 - tau) * tw for mw, tw in zip(model_weights, target_weights)\n",
    "        ]\n",
    "        target_model.set_weights(new_weights)\n",
    "        return\n",
    "    \n",
    "    def hard_update(self, model, target_model):\n",
    "        target_weights = self.model.get_weights()\n",
    "        target_model.set_weights(target_weights)\n",
    "        return"
   ]
  },
  {
   "cell_type": "markdown",
   "id": "786f3afa",
   "metadata": {},
   "source": [
    "#### **Support Functions**"
   ]
  },
  {
   "cell_type": "code",
   "execution_count": 7,
   "id": "620a9a45",
   "metadata": {},
   "outputs": [],
   "source": [
    "def select_action_greedy(state, agent_DDQN): \n",
    "    \"\"\" Greedy action selection \"\"\"\n",
    "    if np.random.rand() <= epsilon:\n",
    "        return agent_DDQN.random_action()\n",
    "    return agent_DDQN.action(state) "
   ]
  },
  {
   "cell_type": "markdown",
   "id": "b862c4b3",
   "metadata": {},
   "source": [
    "#### **Initialize Agent**"
   ]
  },
  {
   "cell_type": "code",
   "execution_count": 8,
   "id": "fe6453f5",
   "metadata": {},
   "outputs": [
    {
     "data": {
      "text/html": [
       "<pre style=\"white-space:pre;overflow-x:auto;line-height:normal;font-family:Menlo,'DejaVu Sans Mono',consolas,'Courier New',monospace\"><span style=\"font-weight: bold\">Model: \"model\"</span>\n",
       "</pre>\n"
      ],
      "text/plain": [
       "\u001b[1mModel: \"model\"\u001b[0m\n"
      ]
     },
     "metadata": {},
     "output_type": "display_data"
    },
    {
     "data": {
      "text/html": [
       "<pre style=\"white-space:pre;overflow-x:auto;line-height:normal;font-family:Menlo,'DejaVu Sans Mono',consolas,'Courier New',monospace\">┏━━━━━━━━━━━━━━━━━━━━━━━━━━━━━━━━━┳━━━━━━━━━━━━━━━━━━━━━━━━┳━━━━━━━━━━━━━━━┓\n",
       "┃<span style=\"font-weight: bold\"> Layer (type)                    </span>┃<span style=\"font-weight: bold\"> Output Shape           </span>┃<span style=\"font-weight: bold\">       Param # </span>┃\n",
       "┡━━━━━━━━━━━━━━━━━━━━━━━━━━━━━━━━━╇━━━━━━━━━━━━━━━━━━━━━━━━╇━━━━━━━━━━━━━━━┩\n",
       "│ state_input (<span style=\"color: #0087ff; text-decoration-color: #0087ff\">InputLayer</span>)        │ (<span style=\"color: #00d7ff; text-decoration-color: #00d7ff\">None</span>, <span style=\"color: #00af00; text-decoration-color: #00af00\">8</span>)              │             <span style=\"color: #00af00; text-decoration-color: #00af00\">0</span> │\n",
       "├─────────────────────────────────┼────────────────────────┼───────────────┤\n",
       "│ dense_1 (<span style=\"color: #0087ff; text-decoration-color: #0087ff\">Dense</span>)                 │ (<span style=\"color: #00d7ff; text-decoration-color: #00d7ff\">None</span>, <span style=\"color: #00af00; text-decoration-color: #00af00\">128</span>)            │         <span style=\"color: #00af00; text-decoration-color: #00af00\">1,152</span> │\n",
       "├─────────────────────────────────┼────────────────────────┼───────────────┤\n",
       "│ dense_2 (<span style=\"color: #0087ff; text-decoration-color: #0087ff\">Dense</span>)                 │ (<span style=\"color: #00d7ff; text-decoration-color: #00d7ff\">None</span>, <span style=\"color: #00af00; text-decoration-color: #00af00\">64</span>)             │         <span style=\"color: #00af00; text-decoration-color: #00af00\">8,256</span> │\n",
       "├─────────────────────────────────┼────────────────────────┼───────────────┤\n",
       "│ dense_3 (<span style=\"color: #0087ff; text-decoration-color: #0087ff\">Dense</span>)                 │ (<span style=\"color: #00d7ff; text-decoration-color: #00d7ff\">None</span>, <span style=\"color: #00af00; text-decoration-color: #00af00\">32</span>)             │         <span style=\"color: #00af00; text-decoration-color: #00af00\">2,080</span> │\n",
       "├─────────────────────────────────┼────────────────────────┼───────────────┤\n",
       "│ output_layer (<span style=\"color: #0087ff; text-decoration-color: #0087ff\">Dense</span>)            │ (<span style=\"color: #00d7ff; text-decoration-color: #00d7ff\">None</span>, <span style=\"color: #00af00; text-decoration-color: #00af00\">4</span>)              │           <span style=\"color: #00af00; text-decoration-color: #00af00\">132</span> │\n",
       "└─────────────────────────────────┴────────────────────────┴───────────────┘\n",
       "</pre>\n"
      ],
      "text/plain": [
       "┏━━━━━━━━━━━━━━━━━━━━━━━━━━━━━━━━━┳━━━━━━━━━━━━━━━━━━━━━━━━┳━━━━━━━━━━━━━━━┓\n",
       "┃\u001b[1m \u001b[0m\u001b[1mLayer (type)                   \u001b[0m\u001b[1m \u001b[0m┃\u001b[1m \u001b[0m\u001b[1mOutput Shape          \u001b[0m\u001b[1m \u001b[0m┃\u001b[1m \u001b[0m\u001b[1m      Param #\u001b[0m\u001b[1m \u001b[0m┃\n",
       "┡━━━━━━━━━━━━━━━━━━━━━━━━━━━━━━━━━╇━━━━━━━━━━━━━━━━━━━━━━━━╇━━━━━━━━━━━━━━━┩\n",
       "│ state_input (\u001b[38;5;33mInputLayer\u001b[0m)        │ (\u001b[38;5;45mNone\u001b[0m, \u001b[38;5;34m8\u001b[0m)              │             \u001b[38;5;34m0\u001b[0m │\n",
       "├─────────────────────────────────┼────────────────────────┼───────────────┤\n",
       "│ dense_1 (\u001b[38;5;33mDense\u001b[0m)                 │ (\u001b[38;5;45mNone\u001b[0m, \u001b[38;5;34m128\u001b[0m)            │         \u001b[38;5;34m1,152\u001b[0m │\n",
       "├─────────────────────────────────┼────────────────────────┼───────────────┤\n",
       "│ dense_2 (\u001b[38;5;33mDense\u001b[0m)                 │ (\u001b[38;5;45mNone\u001b[0m, \u001b[38;5;34m64\u001b[0m)             │         \u001b[38;5;34m8,256\u001b[0m │\n",
       "├─────────────────────────────────┼────────────────────────┼───────────────┤\n",
       "│ dense_3 (\u001b[38;5;33mDense\u001b[0m)                 │ (\u001b[38;5;45mNone\u001b[0m, \u001b[38;5;34m32\u001b[0m)             │         \u001b[38;5;34m2,080\u001b[0m │\n",
       "├─────────────────────────────────┼────────────────────────┼───────────────┤\n",
       "│ output_layer (\u001b[38;5;33mDense\u001b[0m)            │ (\u001b[38;5;45mNone\u001b[0m, \u001b[38;5;34m4\u001b[0m)              │           \u001b[38;5;34m132\u001b[0m │\n",
       "└─────────────────────────────────┴────────────────────────┴───────────────┘\n"
      ]
     },
     "metadata": {},
     "output_type": "display_data"
    },
    {
     "data": {
      "text/html": [
       "<pre style=\"white-space:pre;overflow-x:auto;line-height:normal;font-family:Menlo,'DejaVu Sans Mono',consolas,'Courier New',monospace\"><span style=\"font-weight: bold\"> Total params: </span><span style=\"color: #00af00; text-decoration-color: #00af00\">11,620</span> (45.39 KB)\n",
       "</pre>\n"
      ],
      "text/plain": [
       "\u001b[1m Total params: \u001b[0m\u001b[38;5;34m11,620\u001b[0m (45.39 KB)\n"
      ]
     },
     "metadata": {},
     "output_type": "display_data"
    },
    {
     "data": {
      "text/html": [
       "<pre style=\"white-space:pre;overflow-x:auto;line-height:normal;font-family:Menlo,'DejaVu Sans Mono',consolas,'Courier New',monospace\"><span style=\"font-weight: bold\"> Trainable params: </span><span style=\"color: #00af00; text-decoration-color: #00af00\">11,620</span> (45.39 KB)\n",
       "</pre>\n"
      ],
      "text/plain": [
       "\u001b[1m Trainable params: \u001b[0m\u001b[38;5;34m11,620\u001b[0m (45.39 KB)\n"
      ]
     },
     "metadata": {},
     "output_type": "display_data"
    },
    {
     "data": {
      "text/html": [
       "<pre style=\"white-space:pre;overflow-x:auto;line-height:normal;font-family:Menlo,'DejaVu Sans Mono',consolas,'Courier New',monospace\"><span style=\"font-weight: bold\"> Non-trainable params: </span><span style=\"color: #00af00; text-decoration-color: #00af00\">0</span> (0.00 B)\n",
       "</pre>\n"
      ],
      "text/plain": [
       "\u001b[1m Non-trainable params: \u001b[0m\u001b[38;5;34m0\u001b[0m (0.00 B)\n"
      ]
     },
     "metadata": {},
     "output_type": "display_data"
    },
    {
     "data": {
      "text/html": [
       "<pre style=\"white-space:pre;overflow-x:auto;line-height:normal;font-family:Menlo,'DejaVu Sans Mono',consolas,'Courier New',monospace\"><span style=\"font-weight: bold\">Model: \"target\"</span>\n",
       "</pre>\n"
      ],
      "text/plain": [
       "\u001b[1mModel: \"target\"\u001b[0m\n"
      ]
     },
     "metadata": {},
     "output_type": "display_data"
    },
    {
     "data": {
      "text/html": [
       "<pre style=\"white-space:pre;overflow-x:auto;line-height:normal;font-family:Menlo,'DejaVu Sans Mono',consolas,'Courier New',monospace\">┏━━━━━━━━━━━━━━━━━━━━━━━━━━━━━━━━━┳━━━━━━━━━━━━━━━━━━━━━━━━┳━━━━━━━━━━━━━━━┓\n",
       "┃<span style=\"font-weight: bold\"> Layer (type)                    </span>┃<span style=\"font-weight: bold\"> Output Shape           </span>┃<span style=\"font-weight: bold\">       Param # </span>┃\n",
       "┡━━━━━━━━━━━━━━━━━━━━━━━━━━━━━━━━━╇━━━━━━━━━━━━━━━━━━━━━━━━╇━━━━━━━━━━━━━━━┩\n",
       "│ state_input (<span style=\"color: #0087ff; text-decoration-color: #0087ff\">InputLayer</span>)        │ (<span style=\"color: #00d7ff; text-decoration-color: #00d7ff\">None</span>, <span style=\"color: #00af00; text-decoration-color: #00af00\">8</span>)              │             <span style=\"color: #00af00; text-decoration-color: #00af00\">0</span> │\n",
       "├─────────────────────────────────┼────────────────────────┼───────────────┤\n",
       "│ dense_1 (<span style=\"color: #0087ff; text-decoration-color: #0087ff\">Dense</span>)                 │ (<span style=\"color: #00d7ff; text-decoration-color: #00d7ff\">None</span>, <span style=\"color: #00af00; text-decoration-color: #00af00\">128</span>)            │         <span style=\"color: #00af00; text-decoration-color: #00af00\">1,152</span> │\n",
       "├─────────────────────────────────┼────────────────────────┼───────────────┤\n",
       "│ dense_2 (<span style=\"color: #0087ff; text-decoration-color: #0087ff\">Dense</span>)                 │ (<span style=\"color: #00d7ff; text-decoration-color: #00d7ff\">None</span>, <span style=\"color: #00af00; text-decoration-color: #00af00\">64</span>)             │         <span style=\"color: #00af00; text-decoration-color: #00af00\">8,256</span> │\n",
       "├─────────────────────────────────┼────────────────────────┼───────────────┤\n",
       "│ dense_3 (<span style=\"color: #0087ff; text-decoration-color: #0087ff\">Dense</span>)                 │ (<span style=\"color: #00d7ff; text-decoration-color: #00d7ff\">None</span>, <span style=\"color: #00af00; text-decoration-color: #00af00\">32</span>)             │         <span style=\"color: #00af00; text-decoration-color: #00af00\">2,080</span> │\n",
       "├─────────────────────────────────┼────────────────────────┼───────────────┤\n",
       "│ output_layer (<span style=\"color: #0087ff; text-decoration-color: #0087ff\">Dense</span>)            │ (<span style=\"color: #00d7ff; text-decoration-color: #00d7ff\">None</span>, <span style=\"color: #00af00; text-decoration-color: #00af00\">4</span>)              │           <span style=\"color: #00af00; text-decoration-color: #00af00\">132</span> │\n",
       "└─────────────────────────────────┴────────────────────────┴───────────────┘\n",
       "</pre>\n"
      ],
      "text/plain": [
       "┏━━━━━━━━━━━━━━━━━━━━━━━━━━━━━━━━━┳━━━━━━━━━━━━━━━━━━━━━━━━┳━━━━━━━━━━━━━━━┓\n",
       "┃\u001b[1m \u001b[0m\u001b[1mLayer (type)                   \u001b[0m\u001b[1m \u001b[0m┃\u001b[1m \u001b[0m\u001b[1mOutput Shape          \u001b[0m\u001b[1m \u001b[0m┃\u001b[1m \u001b[0m\u001b[1m      Param #\u001b[0m\u001b[1m \u001b[0m┃\n",
       "┡━━━━━━━━━━━━━━━━━━━━━━━━━━━━━━━━━╇━━━━━━━━━━━━━━━━━━━━━━━━╇━━━━━━━━━━━━━━━┩\n",
       "│ state_input (\u001b[38;5;33mInputLayer\u001b[0m)        │ (\u001b[38;5;45mNone\u001b[0m, \u001b[38;5;34m8\u001b[0m)              │             \u001b[38;5;34m0\u001b[0m │\n",
       "├─────────────────────────────────┼────────────────────────┼───────────────┤\n",
       "│ dense_1 (\u001b[38;5;33mDense\u001b[0m)                 │ (\u001b[38;5;45mNone\u001b[0m, \u001b[38;5;34m128\u001b[0m)            │         \u001b[38;5;34m1,152\u001b[0m │\n",
       "├─────────────────────────────────┼────────────────────────┼───────────────┤\n",
       "│ dense_2 (\u001b[38;5;33mDense\u001b[0m)                 │ (\u001b[38;5;45mNone\u001b[0m, \u001b[38;5;34m64\u001b[0m)             │         \u001b[38;5;34m8,256\u001b[0m │\n",
       "├─────────────────────────────────┼────────────────────────┼───────────────┤\n",
       "│ dense_3 (\u001b[38;5;33mDense\u001b[0m)                 │ (\u001b[38;5;45mNone\u001b[0m, \u001b[38;5;34m32\u001b[0m)             │         \u001b[38;5;34m2,080\u001b[0m │\n",
       "├─────────────────────────────────┼────────────────────────┼───────────────┤\n",
       "│ output_layer (\u001b[38;5;33mDense\u001b[0m)            │ (\u001b[38;5;45mNone\u001b[0m, \u001b[38;5;34m4\u001b[0m)              │           \u001b[38;5;34m132\u001b[0m │\n",
       "└─────────────────────────────────┴────────────────────────┴───────────────┘\n"
      ]
     },
     "metadata": {},
     "output_type": "display_data"
    },
    {
     "data": {
      "text/html": [
       "<pre style=\"white-space:pre;overflow-x:auto;line-height:normal;font-family:Menlo,'DejaVu Sans Mono',consolas,'Courier New',monospace\"><span style=\"font-weight: bold\"> Total params: </span><span style=\"color: #00af00; text-decoration-color: #00af00\">11,620</span> (45.39 KB)\n",
       "</pre>\n"
      ],
      "text/plain": [
       "\u001b[1m Total params: \u001b[0m\u001b[38;5;34m11,620\u001b[0m (45.39 KB)\n"
      ]
     },
     "metadata": {},
     "output_type": "display_data"
    },
    {
     "data": {
      "text/html": [
       "<pre style=\"white-space:pre;overflow-x:auto;line-height:normal;font-family:Menlo,'DejaVu Sans Mono',consolas,'Courier New',monospace\"><span style=\"font-weight: bold\"> Trainable params: </span><span style=\"color: #00af00; text-decoration-color: #00af00\">11,620</span> (45.39 KB)\n",
       "</pre>\n"
      ],
      "text/plain": [
       "\u001b[1m Trainable params: \u001b[0m\u001b[38;5;34m11,620\u001b[0m (45.39 KB)\n"
      ]
     },
     "metadata": {},
     "output_type": "display_data"
    },
    {
     "data": {
      "text/html": [
       "<pre style=\"white-space:pre;overflow-x:auto;line-height:normal;font-family:Menlo,'DejaVu Sans Mono',consolas,'Courier New',monospace\"><span style=\"font-weight: bold\"> Non-trainable params: </span><span style=\"color: #00af00; text-decoration-color: #00af00\">0</span> (0.00 B)\n",
       "</pre>\n"
      ],
      "text/plain": [
       "\u001b[1m Non-trainable params: \u001b[0m\u001b[38;5;34m0\u001b[0m (0.00 B)\n"
      ]
     },
     "metadata": {},
     "output_type": "display_data"
    },
    {
     "name": "stdout",
     "output_type": "stream",
     "text": [
      "DDQN strategy HARD reset weights\n"
     ]
    }
   ],
   "source": [
    "envCartPole = gym.make('LunarLander-v3')\n",
    "state_size = env.observation_space.shape[0]\n",
    "action_size = env.action_space.n\n",
    "\n",
    "agent = Agent_DDQN(state_size, action_size, learning_rate, gamma, epsilon, tau, UPDATE_SOFT)"
   ]
  },
  {
   "cell_type": "markdown",
   "id": "61447319",
   "metadata": {},
   "source": [
    "#### **Training Phase**"
   ]
  },
  {
   "cell_type": "code",
   "execution_count": 9,
   "id": "8617a95f",
   "metadata": {
    "scrolled": false
   },
   "outputs": [
    {
     "name": "stdout",
     "output_type": "stream",
     "text": [
      "Episode:   1/1200, Reward:   -85.11, Epsilon: 0.99, Rolling Avg:  -85.11, Steps:   97, Terminated: True \n",
      "Episode:   2/1200, Reward:  -256.01, Epsilon: 0.98, Rolling Avg: -170.56, Steps:  100, Terminated: True \n",
      "Episode:   3/1200, Reward:   -52.91, Epsilon: 0.97, Rolling Avg: -131.34, Steps:   84, Terminated: True \n",
      "Episode:   4/1200, Reward:  -298.50, Epsilon: 0.96, Rolling Avg: -173.13, Steps:   95, Terminated: True \n",
      "Episode:   5/1200, Reward:  -428.43, Epsilon: 0.95, Rolling Avg: -224.19, Steps:   94, Terminated: True \n",
      "Episode:   6/1200, Reward:  -129.29, Epsilon: 0.94, Rolling Avg: -208.38, Steps:   78, Terminated: True \n",
      "Episode:   7/1200, Reward:  -141.16, Epsilon: 0.93, Rolling Avg: -198.77, Steps:  103, Terminated: True \n",
      "Episode:   8/1200, Reward:  -170.18, Epsilon: 0.92, Rolling Avg: -195.20, Steps:   94, Terminated: True \n",
      "Episode:   9/1200, Reward:   -88.30, Epsilon: 0.91, Rolling Avg: -183.32, Steps:   83, Terminated: True \n",
      "Episode:  10/1200, Reward:  -394.73, Epsilon: 0.90, Rolling Avg: -204.46, Steps:  113, Terminated: True \n",
      "Episode:  11/1200, Reward:  -212.45, Epsilon: 0.90, Rolling Avg: -205.19, Steps:   90, Terminated: True \n",
      "Episode:  12/1200, Reward:  -112.04, Epsilon: 0.89, Rolling Avg: -197.43, Steps:  147, Terminated: True \n",
      "Episode:  13/1200, Reward:  -276.43, Epsilon: 0.88, Rolling Avg: -203.50, Steps:  127, Terminated: True \n",
      "Episode:  14/1200, Reward:  -142.14, Epsilon: 0.87, Rolling Avg: -199.12, Steps:   88, Terminated: True \n",
      "Episode:  15/1200, Reward:  -186.98, Epsilon: 0.86, Rolling Avg: -198.31, Steps:  115, Terminated: True \n",
      "Episode:  16/1200, Reward:  -241.07, Epsilon: 0.85, Rolling Avg: -200.98, Steps:  132, Terminated: True \n",
      "Episode:  17/1200, Reward:   -85.21, Epsilon: 0.84, Rolling Avg: -194.17, Steps:   74, Terminated: True \n",
      "Episode:  18/1200, Reward:  -103.89, Epsilon: 0.83, Rolling Avg: -189.16, Steps:   82, Terminated: True \n",
      "Episode:  19/1200, Reward:   -54.23, Epsilon: 0.83, Rolling Avg: -182.06, Steps:  102, Terminated: True \n",
      "Episode:  20/1200, Reward:   +32.20, Epsilon: 0.82, Rolling Avg: -171.34, Steps:   96, Terminated: True \n",
      "Episode:  21/1200, Reward:  -144.91, Epsilon: 0.81, Rolling Avg: -170.08, Steps:  134, Terminated: True \n",
      "Episode:  22/1200, Reward:  -133.25, Epsilon: 0.80, Rolling Avg: -168.41, Steps:  107, Terminated: True \n",
      "Episode:  23/1200, Reward:   -68.37, Epsilon: 0.79, Rolling Avg: -164.06, Steps:  104, Terminated: True \n",
      "Episode:  24/1200, Reward:   -15.21, Epsilon: 0.79, Rolling Avg: -157.86, Steps:  147, Terminated: True \n",
      "Episode:  25/1200, Reward:   -50.70, Epsilon: 0.78, Rolling Avg: -153.57, Steps:   88, Terminated: True \n",
      "Episode:  26/1200, Reward:   -59.37, Epsilon: 0.77, Rolling Avg: -149.95, Steps:  168, Terminated: True \n",
      "Episode:  27/1200, Reward:   -84.34, Epsilon: 0.76, Rolling Avg: -147.52, Steps:   81, Terminated: True \n",
      "Episode:  28/1200, Reward:  -211.82, Epsilon: 0.75, Rolling Avg: -149.81, Steps:   87, Terminated: True \n",
      "Episode:  29/1200, Reward:   -33.54, Epsilon: 0.75, Rolling Avg: -145.81, Steps:   89, Terminated: True \n",
      "Episode:  30/1200, Reward:  -271.13, Epsilon: 0.74, Rolling Avg: -149.98, Steps:  104, Terminated: True \n",
      "Episode:  31/1200, Reward:  -131.56, Epsilon: 0.73, Rolling Avg: -149.39, Steps:  111, Terminated: True \n",
      "Episode:  32/1200, Reward:   -72.91, Epsilon: 0.72, Rolling Avg: -147.00, Steps:  110, Terminated: True \n",
      "Episode:  33/1200, Reward:   -33.07, Epsilon: 0.72, Rolling Avg: -143.55, Steps:  120, Terminated: True \n",
      "Episode:  34/1200, Reward:   -53.29, Epsilon: 0.71, Rolling Avg: -140.89, Steps:  128, Terminated: True \n",
      "Episode:  35/1200, Reward:  -524.06, Epsilon: 0.70, Rolling Avg: -151.84, Steps:  120, Terminated: True \n",
      "Episode:  36/1200, Reward:  -238.44, Epsilon: 0.70, Rolling Avg: -154.25, Steps:  108, Terminated: True \n",
      "Episode:  37/1200, Reward:   -85.64, Epsilon: 0.69, Rolling Avg: -152.39, Steps:   95, Terminated: True \n",
      "Episode:  38/1200, Reward:   -77.74, Epsilon: 0.68, Rolling Avg: -150.43, Steps:   84, Terminated: True \n",
      "Episode:  39/1200, Reward:   -95.27, Epsilon: 0.68, Rolling Avg: -149.01, Steps:   88, Terminated: True \n",
      "Episode:  40/1200, Reward:   -50.18, Epsilon: 0.67, Rolling Avg: -146.54, Steps:  117, Terminated: True \n",
      "Episode:  41/1200, Reward:  -153.05, Epsilon: 0.66, Rolling Avg: -148.24, Steps:  133, Terminated: True \n",
      "Episode:  42/1200, Reward:  -293.97, Epsilon: 0.66, Rolling Avg: -149.19, Steps:  166, Terminated: True \n",
      "Episode:  43/1200, Reward:   -50.02, Epsilon: 0.65, Rolling Avg: -149.12, Steps:  127, Terminated: True \n",
      "Episode:  44/1200, Reward:  -154.64, Epsilon: 0.64, Rolling Avg: -145.52, Steps:  140, Terminated: True \n",
      "Episode:  45/1200, Reward:  -154.81, Epsilon: 0.64, Rolling Avg: -138.68, Steps:  104, Terminated: True \n",
      "Episode:  46/1200, Reward:   -21.55, Epsilon: 0.63, Rolling Avg: -135.99, Steps:   87, Terminated: True \n",
      "Episode:  47/1200, Reward:   -90.53, Epsilon: 0.62, Rolling Avg: -134.72, Steps:  196, Terminated: True \n",
      "Episode:  48/1200, Reward:  -123.03, Epsilon: 0.62, Rolling Avg: -133.54, Steps:  131, Terminated: True \n",
      "Episode:  49/1200, Reward:   -76.39, Epsilon: 0.61, Rolling Avg: -133.24, Steps:  173, Terminated: True \n",
      "Episode:  50/1200, Reward:  -125.95, Epsilon: 0.61, Rolling Avg: -126.52, Steps:  135, Terminated: True \n",
      "Episode:  51/1200, Reward:   -99.30, Epsilon: 0.60, Rolling Avg: -123.70, Steps:  101, Terminated: True \n",
      "Episode:  52/1200, Reward:   -80.20, Epsilon: 0.59, Rolling Avg: -122.90, Steps:  150, Terminated: True \n",
      "Episode:  53/1200, Reward:  -110.88, Epsilon: 0.59, Rolling Avg: -118.76, Steps:  124, Terminated: True \n",
      "Episode:  54/1200, Reward:   -19.04, Epsilon: 0.58, Rolling Avg: -115.68, Steps:  225, Terminated: True \n",
      "Episode:  55/1200, Reward:  -107.90, Epsilon: 0.58, Rolling Avg: -113.71, Steps:  115, Terminated: True \n",
      "Episode:  56/1200, Reward:   -19.71, Epsilon: 0.57, Rolling Avg: -108.17, Steps:   95, Terminated: True \n",
      "Episode:  57/1200, Reward:   -21.88, Epsilon: 0.56, Rolling Avg: -106.59, Steps:  140, Terminated: True \n",
      "Episode:  58/1200, Reward:   +16.85, Epsilon: 0.56, Rolling Avg: -103.57, Steps:  152, Terminated: True \n",
      "Episode:  59/1200, Reward:   -77.45, Epsilon: 0.55, Rolling Avg: -104.15, Steps:  127, Terminated: True \n",
      "Episode:  60/1200, Reward:  -107.58, Epsilon: 0.55, Rolling Avg: -107.65, Steps:  175, Terminated: True \n",
      "Episode:  61/1200, Reward:   -54.33, Epsilon: 0.54, Rolling Avg: -105.38, Steps:  165, Terminated: True \n",
      "Episode:  62/1200, Reward:   -33.03, Epsilon: 0.54, Rolling Avg: -102.88, Steps:  174, Terminated: True \n",
      "Episode:  63/1200, Reward:   -94.36, Epsilon: 0.53, Rolling Avg: -103.53, Steps:  102, Terminated: True \n",
      "Episode:  64/1200, Reward:   -58.68, Epsilon: 0.53, Rolling Avg: -104.61, Steps:  144, Terminated: True \n",
      "Episode:  65/1200, Reward:   -92.12, Epsilon: 0.52, Rolling Avg: -105.65, Steps:   86, Terminated: True \n",
      "Episode:  66/1200, Reward:   -17.68, Epsilon: 0.52, Rolling Avg: -104.61, Steps:  141, Terminated: True \n",
      "Episode:  67/1200, Reward:   -39.32, Epsilon: 0.51, Rolling Avg: -103.48, Steps:  150, Terminated: True \n",
      "Episode:  68/1200, Reward:  -104.29, Epsilon: 0.50, Rolling Avg: -100.79, Steps:  244, Terminated: True \n",
      "Episode:  69/1200, Reward:   -38.60, Epsilon: 0.50, Rolling Avg: -100.92, Steps:  194, Terminated: True \n",
      "Episode:  70/1200, Reward:   +26.29, Epsilon: 0.49, Rolling Avg:  -93.48, Steps:  112, Terminated: True \n",
      "Episode:  71/1200, Reward:   -17.84, Epsilon: 0.49, Rolling Avg:  -90.64, Steps:  317, Terminated: True \n",
      "Episode:  72/1200, Reward:  -130.35, Epsilon: 0.48, Rolling Avg:  -92.08, Steps:  284, Terminated: True \n",
      "Episode:  73/1200, Reward:   -93.83, Epsilon: 0.48, Rolling Avg:  -93.60, Steps:  239, Terminated: True \n",
      "Episode:  74/1200, Reward:  -104.56, Epsilon: 0.48, Rolling Avg:  -94.88, Steps:  210, Terminated: True \n",
      "Episode:  75/1200, Reward:   -89.36, Epsilon: 0.47, Rolling Avg:  -84.01, Steps:  193, Terminated: True \n",
      "Episode:  76/1200, Reward:   -61.86, Epsilon: 0.47, Rolling Avg:  -79.59, Steps:  135, Terminated: True \n",
      "Episode:  77/1200, Reward:   -51.92, Epsilon: 0.46, Rolling Avg:  -78.75, Steps:  363, Terminated: True \n",
      "Episode:  78/1200, Reward:    -3.65, Epsilon: 0.46, Rolling Avg:  -76.90, Steps:  122, Terminated: True \n",
      "Episode:  79/1200, Reward:  -175.28, Epsilon: 0.45, Rolling Avg:  -78.90, Steps:  366, Terminated: True \n"
     ]
    },
    {
     "name": "stdout",
     "output_type": "stream",
     "text": [
      "Episode:  80/1200, Reward:    -6.93, Epsilon: 0.45, Rolling Avg:  -77.82, Steps:  140, Terminated: True \n",
      "Episode:  81/1200, Reward:    +8.71, Epsilon: 0.44, Rolling Avg:  -73.77, Steps:  154, Terminated: True \n",
      "Episode:  82/1200, Reward:   -15.49, Epsilon: 0.44, Rolling Avg:  -66.81, Steps:  263, Terminated: True \n",
      "Episode:  83/1200, Reward:   +29.38, Epsilon: 0.43, Rolling Avg:  -64.83, Steps:  176, Terminated: True \n",
      "Episode:  84/1200, Reward:   -51.42, Epsilon: 0.43, Rolling Avg:  -62.25, Steps:  434, Terminated: True \n",
      "Episode:  85/1200, Reward:    +3.41, Epsilon: 0.43, Rolling Avg:  -58.29, Steps:  170, Terminated: True \n",
      "Episode:  86/1200, Reward:   -46.30, Epsilon: 0.42, Rolling Avg:  -58.91, Steps:  101, Terminated: True \n",
      "Episode:  87/1200, Reward:    -7.09, Epsilon: 0.42, Rolling Avg:  -56.82, Steps:  352, Terminated: True \n",
      "Episode:  88/1200, Reward:   -71.08, Epsilon: 0.41, Rolling Avg:  -55.53, Steps:  714, Terminated: True \n",
      "Episode:  89/1200, Reward:   -69.16, Epsilon: 0.41, Rolling Avg:  -55.34, Steps:  267, Terminated: True \n",
      "Episode:  90/1200, Reward:  -258.61, Epsilon: 0.40, Rolling Avg:  -58.66, Steps:  731, Terminated: True \n",
      "Episode:  91/1200, Reward:   -41.92, Epsilon: 0.40, Rolling Avg:  -57.23, Steps:  226, Terminated: True \n",
      "Episode:  92/1200, Reward:    -0.80, Epsilon: 0.40, Rolling Avg:  -55.24, Steps:  212, Terminated: True \n",
      "Episode:  93/1200, Reward:   -59.67, Epsilon: 0.39, Rolling Avg:  -53.96, Steps:  191, Terminated: True \n",
      "Episode:  94/1200, Reward:  -100.03, Epsilon: 0.39, Rolling Avg:  -55.99, Steps:  598, Terminated: True \n",
      "Episode:  95/1200, Reward:   -25.87, Epsilon: 0.38, Rolling Avg:  -53.94, Steps:  247, Terminated: True \n",
      "Episode:  96/1200, Reward:   -32.81, Epsilon: 0.38, Rolling Avg:  -54.26, Steps:  161, Terminated: True \n",
      "Episode:  97/1200, Reward:   -28.16, Epsilon: 0.38, Rolling Avg:  -54.42, Steps:  201, Terminated: True \n",
      "Episode:  98/1200, Reward:  -255.58, Epsilon: 0.37, Rolling Avg:  -61.23, Steps:  712, Terminated: True \n",
      "Episode:  99/1200, Reward:   -17.94, Epsilon: 0.37, Rolling Avg:  -59.74, Steps:  142, Terminated: True \n",
      "Episode: 100/1200, Reward:  -107.94, Epsilon: 0.37, Rolling Avg:  -59.75, Steps:  429, Terminated: True \n",
      "Episode: 101/1200, Reward:   -28.82, Epsilon: 0.36, Rolling Avg:  -59.11, Steps:  258, Terminated: True \n",
      "Episode: 102/1200, Reward:  -287.85, Epsilon: 0.36, Rolling Avg:  -65.48, Steps:  643, Terminated: True \n",
      "Episode: 103/1200, Reward:   -46.29, Epsilon: 0.36, Rolling Avg:  -64.28, Steps:  663, Terminated: True \n",
      "Episode: 104/1200, Reward:   -72.42, Epsilon: 0.35, Rolling Avg:  -64.63, Steps:  649, Terminated: True \n",
      "Episode: 105/1200, Reward:  -211.51, Epsilon: 0.35, Rolling Avg:  -67.61, Steps:  282, Terminated: True \n",
      "Episode: 106/1200, Reward:  -138.54, Epsilon: 0.34, Rolling Avg:  -70.63, Steps:  347, Terminated: True \n",
      "Episode: 107/1200, Reward:   +39.66, Epsilon: 0.34, Rolling Avg:  -68.66, Steps:   90, Terminated: True \n",
      "Episode: 108/1200, Reward:  -148.94, Epsilon: 0.34, Rolling Avg:  -69.77, Steps:  545, Terminated: True \n",
      "Episode: 109/1200, Reward:  -118.09, Epsilon: 0.33, Rolling Avg:  -71.76, Steps:  393, Terminated: True \n",
      "Episode: 110/1200, Reward:   -11.32, Epsilon: 0.33, Rolling Avg:  -72.70, Steps:   87, Terminated: True \n",
      "Episode: 111/1200, Reward:  -172.16, Epsilon: 0.33, Rolling Avg:  -76.56, Steps:  224, Terminated: True \n",
      "Episode: 112/1200, Reward:   -20.49, Epsilon: 0.32, Rolling Avg:  -73.81, Steps:  171, Terminated: True \n",
      "Episode: 113/1200, Reward:   -81.88, Epsilon: 0.32, Rolling Avg:  -73.51, Steps:  502, Terminated: True \n",
      "Episode: 114/1200, Reward:   -13.25, Epsilon: 0.32, Rolling Avg:  -71.23, Steps:   85, Terminated: True \n",
      "Episode: 115/1200, Reward:  -326.27, Epsilon: 0.31, Rolling Avg:  -77.15, Steps:  933, Terminated: True \n",
      "Episode: 116/1200, Reward:  -159.95, Epsilon: 0.31, Rolling Avg:  -79.61, Steps:  195, Terminated: True \n",
      "Episode: 117/1200, Reward:   -96.60, Epsilon: 0.31, Rolling Avg:  -80.72, Steps: 1200, Terminated: False \n",
      "Episode: 118/1200, Reward:   -98.87, Epsilon: 0.31, Rolling Avg:  -83.10, Steps:  459, Terminated: True \n",
      "Episode: 119/1200, Reward:   -72.06, Epsilon: 0.30, Rolling Avg:  -80.52, Steps: 1200, Terminated: False \n",
      "Episode: 120/1200, Reward:  -114.14, Epsilon: 0.30, Rolling Avg:  -83.20, Steps: 1200, Terminated: False \n",
      "Episode: 121/1200, Reward:    -3.78, Epsilon: 0.30, Rolling Avg:  -83.52, Steps:  135, Terminated: True \n",
      "Episode: 122/1200, Reward:  -102.23, Epsilon: 0.29, Rolling Avg:  -85.69, Steps: 1200, Terminated: False \n",
      "Episode: 123/1200, Reward:   -75.69, Epsilon: 0.29, Rolling Avg:  -88.31, Steps: 1200, Terminated: False \n",
      "Episode: 124/1200, Reward:  -236.34, Epsilon: 0.29, Rolling Avg:  -92.93, Steps:  383, Terminated: True \n",
      "Episode: 125/1200, Reward:   -24.75, Epsilon: 0.28, Rolling Avg:  -93.64, Steps:  119, Terminated: True \n",
      "Episode: 126/1200, Reward:  -106.16, Epsilon: 0.28, Rolling Avg:  -95.14, Steps: 1200, Terminated: False \n",
      "Episode: 127/1200, Reward:  -104.51, Epsilon: 0.28, Rolling Avg:  -97.57, Steps: 1200, Terminated: False \n",
      "Episode: 128/1200, Reward:  -111.59, Epsilon: 0.28, Rolling Avg:  -98.58, Steps: 1200, Terminated: False \n",
      "Episode: 129/1200, Reward:   -57.34, Epsilon: 0.27, Rolling Avg:  -98.29, Steps: 1200, Terminated: False \n",
      "Episode: 130/1200, Reward:   -33.93, Epsilon: 0.27, Rolling Avg:  -92.67, Steps: 1200, Terminated: False \n",
      "Episode: 131/1200, Reward:   -34.59, Epsilon: 0.27, Rolling Avg:  -92.49, Steps: 1200, Terminated: False \n",
      "Episode: 132/1200, Reward:   -83.56, Epsilon: 0.27, Rolling Avg:  -94.56, Steps: 1200, Terminated: False \n",
      "Episode: 133/1200, Reward:    -8.72, Epsilon: 0.26, Rolling Avg:  -93.28, Steps: 1200, Terminated: False \n",
      "Episode: 134/1200, Reward:   -60.15, Epsilon: 0.26, Rolling Avg:  -92.29, Steps: 1200, Terminated: False \n",
      "Episode: 135/1200, Reward:   -41.24, Epsilon: 0.26, Rolling Avg:  -92.67, Steps: 1200, Terminated: False \n",
      "Episode: 136/1200, Reward:  -406.60, Epsilon: 0.25, Rolling Avg: -102.02, Steps:  484, Terminated: True \n",
      "Episode: 137/1200, Reward:   -42.48, Epsilon: 0.25, Rolling Avg: -102.37, Steps: 1200, Terminated: False \n",
      "Episode: 138/1200, Reward:   -30.18, Epsilon: 0.25, Rolling Avg:  -96.74, Steps: 1200, Terminated: False \n",
      "Episode: 139/1200, Reward:   -66.52, Epsilon: 0.25, Rolling Avg:  -97.95, Steps: 1200, Terminated: False \n",
      "Episode: 140/1200, Reward:  -123.96, Epsilon: 0.24, Rolling Avg:  -98.35, Steps: 1200, Terminated: False \n",
      "Episode: 141/1200, Reward:   -67.65, Epsilon: 0.24, Rolling Avg:  -99.32, Steps: 1200, Terminated: False \n",
      "Episode: 142/1200, Reward:  -104.44, Epsilon: 0.24, Rolling Avg:  -94.74, Steps: 1200, Terminated: False \n",
      "Episode: 143/1200, Reward:   -23.49, Epsilon: 0.24, Rolling Avg:  -94.17, Steps: 1200, Terminated: False \n",
      "Episode: 144/1200, Reward:  -104.31, Epsilon: 0.24, Rolling Avg:  -94.97, Steps:  488, Terminated: True \n",
      "Episode: 145/1200, Reward:    -3.20, Epsilon: 0.23, Rolling Avg:  -89.76, Steps: 1200, Terminated: False \n",
      "Episode: 146/1200, Reward:   -11.45, Epsilon: 0.23, Rolling Avg:  -86.58, Steps: 1200, Terminated: False \n",
      "Episode: 147/1200, Reward:   -58.51, Epsilon: 0.23, Rolling Avg:  -89.03, Steps: 1200, Terminated: False \n",
      "Episode: 148/1200, Reward:    -5.47, Epsilon: 0.23, Rolling Avg:  -85.45, Steps: 1200, Terminated: False \n",
      "Episode: 149/1200, Reward:   -17.26, Epsilon: 0.22, Rolling Avg:  -82.93, Steps: 1200, Terminated: False \n",
      "Episode: 150/1200, Reward:    +6.56, Epsilon: 0.22, Rolling Avg:  -82.48, Steps: 1200, Terminated: False \n",
      "Episode: 151/1200, Reward:   +64.36, Epsilon: 0.22, Rolling Avg:  -76.57, Steps: 1200, Terminated: False \n",
      "Episode: 152/1200, Reward:   +39.37, Epsilon: 0.22, Rolling Avg:  -75.07, Steps: 1200, Terminated: False \n",
      "Episode: 153/1200, Reward:   +49.36, Epsilon: 0.21, Rolling Avg:  -71.79, Steps: 1200, Terminated: False \n",
      "Episode: 154/1200, Reward:  -290.44, Epsilon: 0.21, Rolling Avg:  -78.72, Steps:  827, Terminated: True \n",
      "Episode: 155/1200, Reward:   +45.23, Epsilon: 0.21, Rolling Avg:  -69.43, Steps: 1200, Terminated: False \n",
      "Episode: 156/1200, Reward:   +46.44, Epsilon: 0.21, Rolling Avg:  -64.27, Steps: 1200, Terminated: False \n",
      "Episode: 157/1200, Reward:   +44.56, Epsilon: 0.21, Rolling Avg:  -60.74, Steps: 1200, Terminated: False \n"
     ]
    },
    {
     "name": "stdout",
     "output_type": "stream",
     "text": [
      "Episode: 158/1200, Reward:  -287.88, Epsilon: 0.20, Rolling Avg:  -65.47, Steps:  502, Terminated: True \n",
      "Episode: 159/1200, Reward:    -2.07, Epsilon: 0.20, Rolling Avg:  -63.72, Steps:  105, Terminated: True \n",
      "Episode: 160/1200, Reward:  +191.52, Epsilon: 0.20, Rolling Avg:  -56.08, Steps:  882, Terminated: True \n",
      "Episode: 161/1200, Reward:   +48.00, Epsilon: 0.20, Rolling Avg:  -54.78, Steps: 1200, Terminated: False \n",
      "Episode: 162/1200, Reward:   +39.21, Epsilon: 0.20, Rolling Avg:  -51.25, Steps: 1200, Terminated: False \n",
      "Episode: 163/1200, Reward:   +85.51, Epsilon: 0.19, Rolling Avg:  -47.22, Steps: 1200, Terminated: False \n",
      "Episode: 164/1200, Reward:  +215.50, Epsilon: 0.19, Rolling Avg:  -35.92, Steps:  813, Terminated: True \n",
      "Episode: 165/1200, Reward:  +292.01, Epsilon: 0.19, Rolling Avg:  -28.00, Steps:  851, Terminated: True \n",
      "Episode: 166/1200, Reward:  +282.03, Epsilon: 0.19, Rolling Avg:  -18.30, Steps:  462, Terminated: True \n",
      "Episode: 167/1200, Reward:  +137.90, Epsilon: 0.19, Rolling Avg:  -12.24, Steps: 1200, Terminated: False \n",
      "Episode: 168/1200, Reward:   +74.11, Epsilon: 0.18, Rolling Avg:   -7.59, Steps: 1200, Terminated: False \n",
      "Episode: 169/1200, Reward:  +120.60, Epsilon: 0.18, Rolling Avg:   -3.15, Steps: 1200, Terminated: False \n",
      "Episode: 170/1200, Reward:  +199.40, Epsilon: 0.18, Rolling Avg:    2.69, Steps:  571, Terminated: True \n",
      "Episode: 171/1200, Reward:   -12.66, Epsilon: 0.18, Rolling Avg:    3.24, Steps:  139, Terminated: True \n",
      "Episode: 172/1200, Reward:  +263.16, Epsilon: 0.18, Rolling Avg:   11.90, Steps:  855, Terminated: True \n",
      "Episode: 173/1200, Reward:  +262.33, Epsilon: 0.18, Rolling Avg:   18.68, Steps:  532, Terminated: True \n",
      "Episode: 174/1200, Reward:  +212.21, Epsilon: 0.17, Rolling Avg:   25.49, Steps:  944, Terminated: True \n",
      "Episode: 175/1200, Reward:  +246.11, Epsilon: 0.17, Rolling Avg:   32.67, Steps:  811, Terminated: True \n",
      "Episode: 176/1200, Reward:  +125.44, Epsilon: 0.17, Rolling Avg:   45.97, Steps: 1200, Terminated: False \n",
      "Episode: 177/1200, Reward:  +131.95, Epsilon: 0.17, Rolling Avg:   50.34, Steps: 1200, Terminated: False \n",
      "Episode: 178/1200, Reward:  +118.88, Epsilon: 0.17, Rolling Avg:   54.06, Steps: 1200, Terminated: False \n",
      "Episode: 179/1200, Reward:  +229.74, Epsilon: 0.17, Rolling Avg:   61.47, Steps: 1100, Terminated: True \n",
      "Episode: 180/1200, Reward:  +237.19, Epsilon: 0.16, Rolling Avg:   70.50, Steps: 1040, Terminated: True \n",
      "Episode: 181/1200, Reward:  +234.37, Epsilon: 0.16, Rolling Avg:   78.05, Steps:  430, Terminated: True \n",
      "Episode: 182/1200, Reward:  +234.38, Epsilon: 0.16, Rolling Avg:   86.52, Steps: 1143, Terminated: True \n",
      "Episode: 183/1200, Reward:  +212.94, Epsilon: 0.16, Rolling Avg:   92.43, Steps:  716, Terminated: True \n",
      "Episode: 184/1200, Reward:  -120.32, Epsilon: 0.16, Rolling Avg:   92.03, Steps:  437, Terminated: True \n",
      "Episode: 185/1200, Reward:  +237.27, Epsilon: 0.16, Rolling Avg:   98.04, Steps:  738, Terminated: True \n",
      "Episode: 186/1200, Reward:  +219.05, Epsilon: 0.15, Rolling Avg:  103.80, Steps:  531, Terminated: True \n",
      "Episode: 187/1200, Reward:  +220.01, Epsilon: 0.15, Rolling Avg:  110.77, Steps:  376, Terminated: True \n",
      "Episode: 188/1200, Reward:  +193.96, Epsilon: 0.15, Rolling Avg:  115.75, Steps:  890, Terminated: True \n",
      "Episode: 189/1200, Reward:  +199.56, Epsilon: 0.15, Rolling Avg:  121.17, Steps: 1005, Terminated: True \n",
      "Episode: 190/1200, Reward:  -274.54, Epsilon: 0.15, Rolling Avg:  114.14, Steps:  430, Terminated: True \n",
      "Episode: 191/1200, Reward:  +255.03, Epsilon: 0.15, Rolling Avg:  118.91, Steps:  424, Terminated: True \n",
      "Episode: 192/1200, Reward:  +219.93, Epsilon: 0.15, Rolling Avg:  123.42, Steps: 1158, Terminated: True \n",
      "Episode: 193/1200, Reward:  +232.71, Epsilon: 0.14, Rolling Avg:  128.01, Steps: 1007, Terminated: True \n",
      "Episode: 194/1200, Reward:  +239.58, Epsilon: 0.14, Rolling Avg:  141.26, Steps:  527, Terminated: True \n",
      "Episode: 195/1200, Reward:  +198.81, Epsilon: 0.14, Rolling Avg:  145.10, Steps: 1121, Terminated: True \n",
      "Episode: 196/1200, Reward:  +196.90, Epsilon: 0.14, Rolling Avg:  148.86, Steps:  572, Terminated: True \n",
      "Episode: 197/1200, Reward:  +298.28, Epsilon: 0.14, Rolling Avg:  155.20, Steps:  340, Terminated: True \n",
      "Episode: 198/1200, Reward:  +254.71, Epsilon: 0.14, Rolling Avg:  168.77, Steps: 1086, Terminated: True \n",
      "Episode: 199/1200, Reward:  +155.82, Epsilon: 0.14, Rolling Avg:  172.71, Steps: 1200, Terminated: False \n",
      "Episode: 200/1200, Reward:  +240.60, Epsilon: 0.13, Rolling Avg:  173.94, Steps:  783, Terminated: True \n",
      "Episode: 201/1200, Reward:  +219.63, Epsilon: 0.13, Rolling Avg:  178.23, Steps:  495, Terminated: True \n",
      "Episode: 202/1200, Reward:  +243.97, Epsilon: 0.13, Rolling Avg:  183.35, Steps:  937, Terminated: True \n",
      "Episode: 203/1200, Reward:  +240.95, Epsilon: 0.13, Rolling Avg:  187.24, Steps:  734, Terminated: True \n",
      "Episode: 204/1200, Reward:  +139.14, Epsilon: 0.13, Rolling Avg:  185.33, Steps: 1200, Terminated: False \n",
      "Episode: 205/1200, Reward:  +269.63, Epsilon: 0.13, Rolling Avg:  184.77, Steps:  463, Terminated: True \n",
      "Episode: 206/1200, Reward:  +254.17, Epsilon: 0.13, Rolling Avg:  184.07, Steps:  600, Terminated: True \n",
      "Episode: 207/1200, Reward:  +260.66, Epsilon: 0.12, Rolling Avg:  187.14, Steps:  519, Terminated: True \n",
      "Episode: 208/1200, Reward:  +261.13, Epsilon: 0.12, Rolling Avg:  191.82, Steps:  319, Terminated: True \n",
      "Episode: 209/1200, Reward:  +232.55, Epsilon: 0.12, Rolling Avg:  194.62, Steps:  928, Terminated: True \n",
      "Episode: 210/1200, Reward:  +216.20, Epsilon: 0.12, Rolling Avg:  195.04, Steps:  709, Terminated: True \n",
      "Episode: 211/1200, Reward:  +225.33, Epsilon: 0.12, Rolling Avg:  200.99, Steps:  502, Terminated: True \n",
      "Environment solved in 211 episodes!\n",
      "Training completed in 328.46 minutes\n"
     ]
    }
   ],
   "source": [
    "# Training loop\n",
    "episode_rewards = []\n",
    "rolling_avg_rewards = []\n",
    "\n",
    "start_time = time.time()\n",
    "\n",
    "for episode in range(max_episodes):\n",
    "    state, _ = env.reset()\n",
    "    state = np.reshape(state, [1, state_size])\n",
    "    total_reward = 0\n",
    "    done = False\n",
    "    terminated = False\n",
    "    truncated = False\n",
    "    step = 0\n",
    "    for e in range(max_steps):                       # Should be While True, however we limit number of eps\n",
    "        step = step + 1\n",
    "        # Epsilon-greedy policy\n",
    "\n",
    "        action = select_action_greedy(state, agent)\n",
    "        next_state, reward, terminated, truncated, _ = env.step(action)\n",
    "        done = terminated \n",
    "        next_state = np.reshape(next_state, [1, state_size])\n",
    "        agent.store_experience(state, action, reward, next_state, done)\n",
    "        state = next_state\n",
    "        total_reward += reward\n",
    "        if done:\n",
    "            break\n",
    "            \n",
    "        agent.experience_replay_DDQN(batch_size)\n",
    "\n",
    "    # Decay epsilon\n",
    "    epsilon = max(epsilon_min, epsilon * epsilon_decay)\n",
    "\n",
    "    # Record reward\n",
    "    episode_rewards.append(total_reward)\n",
    "    rolling_avg = np.mean(episode_rewards[-ROLLING_WINDOW:])\n",
    "    rolling_avg_rewards.append(rolling_avg)\n",
    "\n",
    "    # Print progress\n",
    "    print(f\"Episode: {episode+1:3}/{max_episodes}, Reward: {total_reward:+8.2f}, \"\n",
    "          f\"Epsilon: {epsilon:.2f}, Rolling Avg: {rolling_avg:7.2f}, Steps: {step:4}, Terminated: {done} \")\n",
    "\n",
    "    # Check if environment is solved\n",
    "    if rolling_avg >= solved_threshold:\n",
    "        print(f\"Environment solved in {episode+1} episodes!\")\n",
    "        break\n",
    "\n",
    "end_time = time.time()\n",
    "print(f\"Training completed in {(end_time - start_time)/60:.2f} minutes\")\n"
   ]
  },
  {
   "cell_type": "markdown",
   "id": "525316ad",
   "metadata": {},
   "source": [
    "#### **Result Visualization**"
   ]
  },
  {
   "cell_type": "code",
   "execution_count": 10,
   "id": "16988f92",
   "metadata": {},
   "outputs": [
    {
     "data": {
      "image/png": "[encoded data removed]",
      "text/plain": [
       "<Figure size 1000x600 with 1 Axes>"
      ]
     },
     "metadata": {},
     "output_type": "display_data"
    }
   ],
   "source": [
    "# Plot rewards with rolling average\n",
    "plt.figure(figsize=(10, 6))\n",
    "plt.plot(episode_rewards, label='Rewards', color='blue')\n",
    "plt.plot(rolling_avg_rewards, label='Rolling Avg (Last '+str(ROLLING_WINDOW)+' Episodes)', color='orange')\n",
    "plt.axhline(y=solved_threshold, color='red', linestyle='--', label='Solved Threshold')\n",
    "plt.title('DDQN Training Performance')\n",
    "plt.xlabel('Episodes')\n",
    "plt.ylabel('Rewards')\n",
    "plt.legend()\n",
    "plt.grid()\n",
    "plt.show()"
   ]
  },
  {
   "cell_type": "markdown",
   "id": "7f4c1d80",
   "metadata": {},
   "source": [
    "#### **Testing 10 episodes with the DDQN trained networks**"
   ]
  },
  {
   "cell_type": "code",
   "execution_count": 11,
   "id": "bdc1b93a",
   "metadata": {},
   "outputs": [
    {
     "name": "stdout",
     "output_type": "stream",
     "text": [
      "Test Episode:  1/10, Reward: 227.11, Steps: 318\n",
      "Test Episode:  2/10, Reward: 218.89, Steps: 325\n",
      "Test Episode:  3/10, Reward: 265.83, Steps: 305\n",
      "Test Episode:  4/10, Reward: 224.44, Steps: 423\n",
      "Test Episode:  5/10, Reward: 240.48, Steps: 298\n",
      "Test Episode:  6/10, Reward: 276.58, Steps: 344\n",
      "Test Episode:  7/10, Reward: 261.36, Steps: 319\n",
      "Test Episode:  8/10, Reward: 253.60, Steps: 331\n",
      "Test Episode:  9/10, Reward: 266.31, Steps: 278\n",
      "Test Episode: 10/10, Reward: 294.47, Steps: 253\n",
      "Testing completed in 2.00 minutes\n"
     ]
    }
   ],
   "source": [
    "# Testing for 10 episodes\n",
    "start_time = time.time()\n",
    "\n",
    "for e_test in range(10):  # Run 10 test episodes\n",
    "    state, _ = env.reset()\n",
    "    state = np.reshape(state, [1, state_size])\n",
    "    total_reward = 0\n",
    "    \n",
    "    steps = 0\n",
    "    while True:\n",
    "        # Use the trained model for testing\n",
    "        action = agent.action(state)  # Predict action values\n",
    "\n",
    "\n",
    "        next_state, reward, done, truncated, _ = env.step(action)\n",
    "        next_state = np.reshape(next_state, [1, state_size])\n",
    "        total_reward += reward\n",
    "        state = next_state\n",
    "        steps = steps + 1\n",
    "        if done or truncated:\n",
    "            print(f\"Test Episode: {e_test + 1:2}/10, Reward: {total_reward:.2f}, Steps: {steps:3}\")\n",
    "            break\n",
    "\n",
    "end_time = time.time()\n",
    "testing_duration = (end_time - start_time) / 60  # Convert to minutes\n",
    "print(f\"Testing completed in {testing_duration:.2f} minutes\")"
   ]
  },
  {
   "cell_type": "code",
   "execution_count": null,
   "id": "ebec1907",
   "metadata": {},
   "outputs": [],
   "source": [
    "# Test the trained agent with video rendering\n",
    "# This code is useful if you are using colab otherwise use render_mode='human'\n",
    "env = gym.make(('LunarLander-v3'), render_mode='rgb_array')  # Enable RGB rendering\n",
    "frames = []  # Store frames for visualization\n",
    "\n",
    "# Render a single test episode\n",
    "state, _ = env.reset()\n",
    "state = np.reshape(state, [1, state_size])\n",
    "tot_rewards = 0\n",
    "\n",
    "while True:\n",
    "    # Use the trained model for action\n",
    "    action = agent.action(state)            # Predict action value\n",
    "\n",
    "    next_state, reward, done, truncated, _ = env.step(action)\n",
    "    frames.append(env.render())                  # Save frame for rendering later\n",
    "    next_state = np.reshape(next_state, [1, state_size])\n",
    "    tot_rewards += reward\n",
    "    state = next_state\n",
    "\n",
    "    if done or truncated:\n",
    "        print(f\"Rendered Test Episode Reward: {tot_rewards:.2f}\")\n",
    "        break\n",
    "\n",
    "env.close()\n",
    "\n",
    "# Save the rendered episode as a GIF\n",
    "def save_frames_as_gif(frames, path='./', filename='LunarLander_DDQN-Agent-har.gif'):\n",
    "    images = [Image.fromarray(frame) for frame in frames]\n",
    "    gif_path = os.path.join(path, filename)\n",
    "    images[0].save(gif_path, save_all=True, append_images=images[1:], duration=50, loop=0)\n",
    "    print(f\"Saved GIF to: {gif_path}\")\n",
    "\n",
    "save_frames_as_gif(frames, filename='LunarLander_DDQN-Agent-hard.gif')\n"
   ]
  },
  {
   "cell_type": "code",
   "execution_count": null,
   "id": "8b8cc35b",
   "metadata": {},
   "outputs": [],
   "source": [
    "import session_info\n",
    "session_info.show(html=False)"
   ]
  }
 ],
 "metadata": {
  "kernelspec": {
   "display_name": "DL-Keras",
   "language": "python",
   "name": "dl-keras"
  },
  "language_info": {
   "codemirror_mode": {
    "name": "ipython",
    "version": 3
   },
   "file_extension": ".py",
   "mimetype": "text/x-python",
   "name": "python",
   "nbconvert_exporter": "python",
   "pygments_lexer": "ipython3",
   "version": "3.12.3"
  }
 },
 "nbformat": 4,
 "nbformat_minor": 5
}
