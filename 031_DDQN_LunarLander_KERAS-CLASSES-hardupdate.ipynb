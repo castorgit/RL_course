{
 "cells": [
  {
   "cell_type": "markdown",
   "id": "bad28014",
   "metadata": {},
   "source": [
    "### **Lunar Lander DDQN KERAS using an Agent Class**\n",
    "\n",
    "Prepared for hard and soft update. This execution is with hard update\n",
    "\n",
    "- Hard update : copy weights\n",
    "- Soft update : soft update Polyak\n",
    "\n",
    "This is a naive version vectorized of the DDQN Algorithm for the Lunar Lander env <br>\n",
    "Vectorizing we obtain a version that is faster and it is 'functional' as it works <br>\n",
    "It should converge around 200 episodes in soft or hard update\n",
    "\n",
    "The Double DQN (DDQN) uses two networks one as a target and one as the trained network <br>\n",
    "\n",
    "The target network is a copy of the online network that is updated less frequently, <br>\n",
    "and is used to generate the target values for the Q-learning update\n",
    "\n",
    "It includes a soft update of the weights, instead of substituting the weights between the networks it blends them together using a Polyak averaging This was an improvement on the pure DDQN algorithm\n",
    "\n",
    "It has room for improvement by modifying some of the hyperparameters. Try to obtain a shorter and more stable training convergence."
   ]
  },
  {
   "cell_type": "code",
   "execution_count": 1,
   "id": "548ece67",
   "metadata": {},
   "outputs": [
    {
     "name": "stderr",
     "output_type": "stream",
     "text": [
      "WARNING: All log messages before absl::InitializeLog() is called are written to STDERR\n",
      "I0000 00:00:1739201269.314899 2997739 cuda_executor.cc:1001] could not open file to read NUMA node: /sys/bus/pci/devices/0000:01:00.0/numa_node\n",
      "Your kernel may have been built without NUMA support.\n",
      "I0000 00:00:1739201269.348288 2997739 cuda_executor.cc:1001] could not open file to read NUMA node: /sys/bus/pci/devices/0000:01:00.0/numa_node\n",
      "Your kernel may have been built without NUMA support.\n",
      "I0000 00:00:1739201269.348423 2997739 cuda_executor.cc:1001] could not open file to read NUMA node: /sys/bus/pci/devices/0000:01:00.0/numa_node\n",
      "Your kernel may have been built without NUMA support.\n",
      "I0000 00:00:1739201269.354707 2997739 cuda_executor.cc:1001] could not open file to read NUMA node: /sys/bus/pci/devices/0000:01:00.0/numa_node\n",
      "Your kernel may have been built without NUMA support.\n",
      "I0000 00:00:1739201269.354771 2997739 cuda_executor.cc:1001] could not open file to read NUMA node: /sys/bus/pci/devices/0000:01:00.0/numa_node\n",
      "Your kernel may have been built without NUMA support.\n",
      "I0000 00:00:1739201269.354791 2997739 cuda_executor.cc:1001] could not open file to read NUMA node: /sys/bus/pci/devices/0000:01:00.0/numa_node\n",
      "Your kernel may have been built without NUMA support.\n",
      "I0000 00:00:1739201270.043003 2997739 cuda_executor.cc:1001] could not open file to read NUMA node: /sys/bus/pci/devices/0000:01:00.0/numa_node\n",
      "Your kernel may have been built without NUMA support.\n",
      "I0000 00:00:1739201270.043075 2997739 cuda_executor.cc:1001] could not open file to read NUMA node: /sys/bus/pci/devices/0000:01:00.0/numa_node\n",
      "Your kernel may have been built without NUMA support.\n",
      "I0000 00:00:1739201270.043111 2997739 cuda_executor.cc:1001] could not open file to read NUMA node: /sys/bus/pci/devices/0000:01:00.0/numa_node\n",
      "Your kernel may have been built without NUMA support.\n",
      "I0000 00:00:1739201270.055541 2997739 cuda_executor.cc:1001] could not open file to read NUMA node: /sys/bus/pci/devices/0000:01:00.0/numa_node\n",
      "Your kernel may have been built without NUMA support.\n",
      "I0000 00:00:1739201270.055652 2997739 cuda_executor.cc:1001] could not open file to read NUMA node: /sys/bus/pci/devices/0000:01:00.0/numa_node\n",
      "Your kernel may have been built without NUMA support.\n",
      "I0000 00:00:1739201270.055675 2997739 cuda_executor.cc:1001] could not open file to read NUMA node: /sys/bus/pci/devices/0000:01:00.0/numa_node\n",
      "Your kernel may have been built without NUMA support.\n",
      "I0000 00:00:1739201270.055957 2997739 cuda_executor.cc:1001] could not open file to read NUMA node: /sys/bus/pci/devices/0000:01:00.0/numa_node\n",
      "Your kernel may have been built without NUMA support.\n",
      "I0000 00:00:1739201270.056009 2997739 cuda_executor.cc:1001] could not open file to read NUMA node: /sys/bus/pci/devices/0000:01:00.0/numa_node\n",
      "Your kernel may have been built without NUMA support.\n",
      "I0000 00:00:1739201270.152538 2997739 cuda_executor.cc:1001] could not open file to read NUMA node: /sys/bus/pci/devices/0000:01:00.0/numa_node\n",
      "Your kernel may have been built without NUMA support.\n",
      "I0000 00:00:1739201270.152662 2997739 cuda_executor.cc:1001] could not open file to read NUMA node: /sys/bus/pci/devices/0000:01:00.0/numa_node\n",
      "Your kernel may have been built without NUMA support.\n",
      "I0000 00:00:1739201270.152686 2997739 cuda_executor.cc:1001] could not open file to read NUMA node: /sys/bus/pci/devices/0000:01:00.0/numa_node\n",
      "Your kernel may have been built without NUMA support.\n",
      "I0000 00:00:1739201270.153017 2997739 cuda_executor.cc:1001] could not open file to read NUMA node: /sys/bus/pci/devices/0000:01:00.0/numa_node\n",
      "Your kernel may have been built without NUMA support.\n",
      "I0000 00:00:1739201270.153099 2997739 cuda_executor.cc:1001] could not open file to read NUMA node: /sys/bus/pci/devices/0000:01:00.0/numa_node\n",
      "Your kernel may have been built without NUMA support.\n",
      "WARNING: All log messages before absl::InitializeLog() is called are written to STDERR\n",
      "I0000 00:00:1739201271.274320 2997831 service.cc:146] XLA service 0x7f32b0004430 initialized for platform CUDA (this does not guarantee that XLA will be used). Devices:\n",
      "I0000 00:00:1739201271.274363 2997831 service.cc:154]   StreamExecutor device (0): NVIDIA T600 Laptop GPU, Compute Capability 7.5\n",
      "I0000 00:00:1739201271.685315 2997831 device_compiler.h:188] Compiled cluster using XLA!  This line is logged at most once for the lifetime of the process.\n"
     ]
    }
   ],
   "source": [
    "import os\n",
    "os.environ['TF_CPP_MIN_LOG_LEVEL'] = '3'\n",
    "\n",
    "import gymnasium as gym\n",
    "import numpy as np\n",
    "from tensorflow.keras.models import Sequential, Model\n",
    "from tensorflow.keras.layers import Dense, Input\n",
    "from tensorflow.keras.optimizers import Adam\n",
    "import tensorflow as tf\n",
    "import matplotlib.pyplot as plt\n",
    "from collections import deque\n",
    "import random\n",
    "\n",
    "import time\n",
    "from PIL import Image\n",
    "\n",
    "import sys\n",
    "sys.stderr = open('err.txt', 'w')"
   ]
  },
  {
   "cell_type": "code",
   "execution_count": 2,
   "id": "862b2f37",
   "metadata": {},
   "outputs": [
    {
     "name": "stdout",
     "output_type": "stream",
     "text": [
      "Num GPUs Available:  1\n",
      "Using device: 0, name: NVIDIA T600 Laptop GPU, pci bus id: 0000:01:00.0, compute capability: 7.5\n"
     ]
    }
   ],
   "source": [
    "# Activate GPU\n",
    "from tensorflow.python.client import device_lib\n",
    "from tensorflow.config import list_physical_devices\n",
    "print('Num GPUs Available: ',len(list_physical_devices('GPU')))\n",
    "devices = device_lib.list_local_devices()\n",
    "gpu_devices = [device for device in devices if device.device_type == 'GPU']\n",
    "for gpu in gpu_devices:\n",
    "    print('Using', gpu.physical_device_desc)"
   ]
  },
  {
   "cell_type": "markdown",
   "id": "3fe60191",
   "metadata": {},
   "source": [
    "#### **Environment setup**"
   ]
  },
  {
   "cell_type": "code",
   "execution_count": 3,
   "id": "f7f53745",
   "metadata": {},
   "outputs": [
    {
     "name": "stdout",
     "output_type": "stream",
     "text": [
      "Using device: 0, name: NVIDIA T600 Laptop GPU, pci bus id: 0000:01:00.0, compute capability: 7.5\n"
     ]
    }
   ],
   "source": [
    "# GPU\n",
    "from tensorflow.python.client import device_lib\n",
    "devices = device_lib.list_local_devices()\n",
    "gpu_devices = [device for device in devices if device.device_type == 'GPU']\n",
    "for gpu in gpu_devices:\n",
    "    print('Using', gpu.physical_device_desc)"
   ]
  },
  {
   "cell_type": "code",
   "execution_count": 4,
   "id": "eb8cd8f6",
   "metadata": {},
   "outputs": [],
   "source": [
    "env = gym.make('LunarLander-v3')\n",
    "state_size = env.observation_space.shape[0]\n",
    "action_size = env.action_space.n\n"
   ]
  },
  {
   "cell_type": "markdown",
   "id": "a4e88cb4",
   "metadata": {},
   "source": [
    "#### **Hyperparameters**"
   ]
  },
  {
   "cell_type": "code",
   "execution_count": 5,
   "id": "7660da76",
   "metadata": {},
   "outputs": [],
   "source": [
    "max_steps = 1200\n",
    "max_episodes = 1200\n",
    "ROLLING_WINDOW = 40\n",
    "\n",
    "batch_size = 64\n",
    "gamma = 0.99                \n",
    "epsilon = 1.0\n",
    "epsilon_min = 0.01\n",
    "epsilon_decay = 0.99 \n",
    "learning_rate = 0.0005\n",
    "MEMORY_SIZE = 100000\n",
    "num_episodes = 1000\n",
    "solved_threshold = 200\n",
    "\n",
    "tau = 0.05  \n",
    "retrain_steps_soft = 15            # We copy weights every retrain_steps \n",
    "retrain_steps_hard = 500           # Soft update, it is high for long retrain periods. Small for short retrain\n",
    "\n",
    "UPDATE_SOFT = False                # if False then HARD UPDATE"
   ]
  },
  {
   "cell_type": "markdown",
   "id": "65a7404f",
   "metadata": {},
   "source": [
    "#### **DDQN Agent Class**"
   ]
  },
  {
   "cell_type": "code",
   "execution_count": 6,
   "id": "b5fac61d",
   "metadata": {},
   "outputs": [],
   "source": [
    "class Agent_DDQN():\n",
    "    def __init__(self, states, actions, alpha, gamma, epsilon, tau, soft_flag):\n",
    "        self.nS = states\n",
    "        self.nA = actions\n",
    "        self.replay_buffer = deque([], maxlen=MEMORY_SIZE)\n",
    "        self.alpha = alpha\n",
    "        self_tau = tau\n",
    "        self.gamma = gamma\n",
    "        self.epsilon = epsilon\n",
    "        self.epsilon_min = epsilon_min\n",
    "        self.epsilon_decay = epsilon_decay\n",
    "        self.model        = self.build_NN('model')\n",
    "        self.target_model = self.build_NN('target')\n",
    "        self.target_model.set_weights(self.model.get_weights())\n",
    "        self.loss = []\n",
    "        self.counter_retrain_hard = 0\n",
    "        self.counter_retrain_soft = 0\n",
    "        self.soft_flag = soft_flag\n",
    "        print(\"DDQN strategy SOFT reset weights\" if self.soft_flag else \"DDQN strategy HARD reset weights\")\n",
    "\n",
    "    def build_NN(self, name):\n",
    "        inputs = Input(shape=(state_size,), name=\"state_input\")\n",
    "        x = Dense(24, activation='relu', name=\"dense_1\")(inputs)\n",
    "        x = Dense(24, activation='relu', name=\"dense_2\")(x)\n",
    "        outputs = Dense(action_size, activation='linear', name=\"output_layer\")(x)\n",
    "        model = Model(inputs=inputs, outputs=outputs, name=name)\n",
    "        model.compile(loss='mse', optimizer=Adam(learning_rate=learning_rate))\n",
    "        model.summary()\n",
    "        return model\n",
    "\n",
    "    def action(self, state):\n",
    "        action_vals = self.model.predict(state, verbose=0) \n",
    "        return np.argmax(action_vals[0])\n",
    "    \n",
    "    def random_action(self):\n",
    "        return random.randrange(self.nA) #Explore\n",
    "    \n",
    "    def sample_experiences(self, batch_size):\n",
    "        indices = np.random.choice(len(self.replay_buffer), batch_size, replace=False)\n",
    "        batch = [self.replay_buffer[i] for i in indices]\n",
    "        states, actions, rewards, next_states, dones = zip(*batch)\n",
    "        return (\n",
    "            np.vstack(states),\n",
    "            np.array(actions),\n",
    "            np.array(rewards),\n",
    "            np.vstack(next_states),\n",
    "            np.array(dones, dtype=np.float32)\n",
    "            )\n",
    "    def store_experience(self, state, action, reward, next_state, done):             # memorize\n",
    "        self.replay_buffer.append((state, action, reward, next_state, done))\n",
    "    \n",
    "    def experience_replay_DDQN(self, batch_size):\n",
    "        if len(self.replay_buffer) < batch_size:\n",
    "            return\n",
    "        minibatch = random.sample(self.replay_buffer, batch_size)\n",
    "        states, actions, rewards, next_states, dones = self.sample_experiences(batch_size)\n",
    "        next_q_values = self.model.predict(next_states, verbose=0)\n",
    "        best_actions = np.argmax(next_q_values, axis=1)\n",
    "        target_q_values = self.target_model.predict(next_states, verbose=0)\n",
    "        \n",
    "        targets = rewards + gamma * target_q_values[np.arange(batch_size), best_actions] * (1 - dones)\n",
    "        \n",
    "        q_values = self.model.predict(states, verbose=0)\n",
    "        q_values[np.arange(batch_size), actions] = targets\n",
    "        self.model.fit(states, q_values, epochs=1, verbose=0)\n",
    "\n",
    "    # Apply weights updates\n",
    "        if self.soft_flag:                                             # apply soft update\n",
    "            self.counter_retrain_soft += 1\n",
    "            if self.counter_retrain_soft % retrain_steps_soft == 0:   \n",
    "                self.soft_update(self.model, self.target_model)\n",
    "                self.counter_retrain_soft = 0\n",
    "        else:                                                           # apply hard update\n",
    "            self.counter_retrain_hard += 1\n",
    "            if self.counter_retrain_hard % retrain_steps_hard == 0:   \n",
    "                self.hard_update(self.model,self.target_model)\n",
    "                self.counter_retrain_hard = 0\n",
    "        \n",
    "        return\n",
    "\n",
    "\n",
    "    def soft_update(self, model, target_model):\n",
    "        target_weights = target_model.get_weights()\n",
    "        model_weights = model.get_weights()\n",
    "        new_weights = [\n",
    "            tau * mw + (1 - tau) * tw for mw, tw in zip(model_weights, target_weights)\n",
    "        ]\n",
    "        target_model.set_weights(new_weights)\n",
    "        return\n",
    "    \n",
    "    def hard_update(self, model, target_model):\n",
    "        target_weights = self.model.get_weights()\n",
    "        target_model.set_weights(target_weights)\n",
    "        return"
   ]
  },
  {
   "cell_type": "markdown",
   "id": "786f3afa",
   "metadata": {},
   "source": [
    "#### **Support Functions**"
   ]
  },
  {
   "cell_type": "code",
   "execution_count": 7,
   "id": "620a9a45",
   "metadata": {},
   "outputs": [],
   "source": [
    "def select_action_greedy(state, agent_DDQN): \n",
    "    \"\"\" Greedy action selection \"\"\"\n",
    "    if np.random.rand() <= epsilon:\n",
    "        return agent_DDQN.random_action()\n",
    "    return agent_DDQN.action(state) "
   ]
  },
  {
   "cell_type": "markdown",
   "id": "b862c4b3",
   "metadata": {},
   "source": [
    "#### **Initialize Agent**"
   ]
  },
  {
   "cell_type": "code",
   "execution_count": 8,
   "id": "fe6453f5",
   "metadata": {},
   "outputs": [
    {
     "data": {
      "text/html": [
       "<pre style=\"white-space:pre;overflow-x:auto;line-height:normal;font-family:Menlo,'DejaVu Sans Mono',consolas,'Courier New',monospace\"><span style=\"font-weight: bold\">Model: \"model\"</span>\n",
       "</pre>\n"
      ],
      "text/plain": [
       "\u001b[1mModel: \"model\"\u001b[0m\n"
      ]
     },
     "metadata": {},
     "output_type": "display_data"
    },
    {
     "data": {
      "text/html": [
       "<pre style=\"white-space:pre;overflow-x:auto;line-height:normal;font-family:Menlo,'DejaVu Sans Mono',consolas,'Courier New',monospace\">┏━━━━━━━━━━━━━━━━━━━━━━━━━━━━━━━━━┳━━━━━━━━━━━━━━━━━━━━━━━━┳━━━━━━━━━━━━━━━┓\n",
       "┃<span style=\"font-weight: bold\"> Layer (type)                    </span>┃<span style=\"font-weight: bold\"> Output Shape           </span>┃<span style=\"font-weight: bold\">       Param # </span>┃\n",
       "┡━━━━━━━━━━━━━━━━━━━━━━━━━━━━━━━━━╇━━━━━━━━━━━━━━━━━━━━━━━━╇━━━━━━━━━━━━━━━┩\n",
       "│ state_input (<span style=\"color: #0087ff; text-decoration-color: #0087ff\">InputLayer</span>)        │ (<span style=\"color: #00d7ff; text-decoration-color: #00d7ff\">None</span>, <span style=\"color: #00af00; text-decoration-color: #00af00\">8</span>)              │             <span style=\"color: #00af00; text-decoration-color: #00af00\">0</span> │\n",
       "├─────────────────────────────────┼────────────────────────┼───────────────┤\n",
       "│ dense_1 (<span style=\"color: #0087ff; text-decoration-color: #0087ff\">Dense</span>)                 │ (<span style=\"color: #00d7ff; text-decoration-color: #00d7ff\">None</span>, <span style=\"color: #00af00; text-decoration-color: #00af00\">24</span>)             │           <span style=\"color: #00af00; text-decoration-color: #00af00\">216</span> │\n",
       "├─────────────────────────────────┼────────────────────────┼───────────────┤\n",
       "│ dense_2 (<span style=\"color: #0087ff; text-decoration-color: #0087ff\">Dense</span>)                 │ (<span style=\"color: #00d7ff; text-decoration-color: #00d7ff\">None</span>, <span style=\"color: #00af00; text-decoration-color: #00af00\">24</span>)             │           <span style=\"color: #00af00; text-decoration-color: #00af00\">600</span> │\n",
       "├─────────────────────────────────┼────────────────────────┼───────────────┤\n",
       "│ output_layer (<span style=\"color: #0087ff; text-decoration-color: #0087ff\">Dense</span>)            │ (<span style=\"color: #00d7ff; text-decoration-color: #00d7ff\">None</span>, <span style=\"color: #00af00; text-decoration-color: #00af00\">4</span>)              │           <span style=\"color: #00af00; text-decoration-color: #00af00\">100</span> │\n",
       "└─────────────────────────────────┴────────────────────────┴───────────────┘\n",
       "</pre>\n"
      ],
      "text/plain": [
       "┏━━━━━━━━━━━━━━━━━━━━━━━━━━━━━━━━━┳━━━━━━━━━━━━━━━━━━━━━━━━┳━━━━━━━━━━━━━━━┓\n",
       "┃\u001b[1m \u001b[0m\u001b[1mLayer (type)                   \u001b[0m\u001b[1m \u001b[0m┃\u001b[1m \u001b[0m\u001b[1mOutput Shape          \u001b[0m\u001b[1m \u001b[0m┃\u001b[1m \u001b[0m\u001b[1m      Param #\u001b[0m\u001b[1m \u001b[0m┃\n",
       "┡━━━━━━━━━━━━━━━━━━━━━━━━━━━━━━━━━╇━━━━━━━━━━━━━━━━━━━━━━━━╇━━━━━━━━━━━━━━━┩\n",
       "│ state_input (\u001b[38;5;33mInputLayer\u001b[0m)        │ (\u001b[38;5;45mNone\u001b[0m, \u001b[38;5;34m8\u001b[0m)              │             \u001b[38;5;34m0\u001b[0m │\n",
       "├─────────────────────────────────┼────────────────────────┼───────────────┤\n",
       "│ dense_1 (\u001b[38;5;33mDense\u001b[0m)                 │ (\u001b[38;5;45mNone\u001b[0m, \u001b[38;5;34m24\u001b[0m)             │           \u001b[38;5;34m216\u001b[0m │\n",
       "├─────────────────────────────────┼────────────────────────┼───────────────┤\n",
       "│ dense_2 (\u001b[38;5;33mDense\u001b[0m)                 │ (\u001b[38;5;45mNone\u001b[0m, \u001b[38;5;34m24\u001b[0m)             │           \u001b[38;5;34m600\u001b[0m │\n",
       "├─────────────────────────────────┼────────────────────────┼───────────────┤\n",
       "│ output_layer (\u001b[38;5;33mDense\u001b[0m)            │ (\u001b[38;5;45mNone\u001b[0m, \u001b[38;5;34m4\u001b[0m)              │           \u001b[38;5;34m100\u001b[0m │\n",
       "└─────────────────────────────────┴────────────────────────┴───────────────┘\n"
      ]
     },
     "metadata": {},
     "output_type": "display_data"
    },
    {
     "data": {
      "text/html": [
       "<pre style=\"white-space:pre;overflow-x:auto;line-height:normal;font-family:Menlo,'DejaVu Sans Mono',consolas,'Courier New',monospace\"><span style=\"font-weight: bold\"> Total params: </span><span style=\"color: #00af00; text-decoration-color: #00af00\">916</span> (3.58 KB)\n",
       "</pre>\n"
      ],
      "text/plain": [
       "\u001b[1m Total params: \u001b[0m\u001b[38;5;34m916\u001b[0m (3.58 KB)\n"
      ]
     },
     "metadata": {},
     "output_type": "display_data"
    },
    {
     "data": {
      "text/html": [
       "<pre style=\"white-space:pre;overflow-x:auto;line-height:normal;font-family:Menlo,'DejaVu Sans Mono',consolas,'Courier New',monospace\"><span style=\"font-weight: bold\"> Trainable params: </span><span style=\"color: #00af00; text-decoration-color: #00af00\">916</span> (3.58 KB)\n",
       "</pre>\n"
      ],
      "text/plain": [
       "\u001b[1m Trainable params: \u001b[0m\u001b[38;5;34m916\u001b[0m (3.58 KB)\n"
      ]
     },
     "metadata": {},
     "output_type": "display_data"
    },
    {
     "data": {
      "text/html": [
       "<pre style=\"white-space:pre;overflow-x:auto;line-height:normal;font-family:Menlo,'DejaVu Sans Mono',consolas,'Courier New',monospace\"><span style=\"font-weight: bold\"> Non-trainable params: </span><span style=\"color: #00af00; text-decoration-color: #00af00\">0</span> (0.00 B)\n",
       "</pre>\n"
      ],
      "text/plain": [
       "\u001b[1m Non-trainable params: \u001b[0m\u001b[38;5;34m0\u001b[0m (0.00 B)\n"
      ]
     },
     "metadata": {},
     "output_type": "display_data"
    },
    {
     "data": {
      "text/html": [
       "<pre style=\"white-space:pre;overflow-x:auto;line-height:normal;font-family:Menlo,'DejaVu Sans Mono',consolas,'Courier New',monospace\"><span style=\"font-weight: bold\">Model: \"target\"</span>\n",
       "</pre>\n"
      ],
      "text/plain": [
       "\u001b[1mModel: \"target\"\u001b[0m\n"
      ]
     },
     "metadata": {},
     "output_type": "display_data"
    },
    {
     "data": {
      "text/html": [
       "<pre style=\"white-space:pre;overflow-x:auto;line-height:normal;font-family:Menlo,'DejaVu Sans Mono',consolas,'Courier New',monospace\">┏━━━━━━━━━━━━━━━━━━━━━━━━━━━━━━━━━┳━━━━━━━━━━━━━━━━━━━━━━━━┳━━━━━━━━━━━━━━━┓\n",
       "┃<span style=\"font-weight: bold\"> Layer (type)                    </span>┃<span style=\"font-weight: bold\"> Output Shape           </span>┃<span style=\"font-weight: bold\">       Param # </span>┃\n",
       "┡━━━━━━━━━━━━━━━━━━━━━━━━━━━━━━━━━╇━━━━━━━━━━━━━━━━━━━━━━━━╇━━━━━━━━━━━━━━━┩\n",
       "│ state_input (<span style=\"color: #0087ff; text-decoration-color: #0087ff\">InputLayer</span>)        │ (<span style=\"color: #00d7ff; text-decoration-color: #00d7ff\">None</span>, <span style=\"color: #00af00; text-decoration-color: #00af00\">8</span>)              │             <span style=\"color: #00af00; text-decoration-color: #00af00\">0</span> │\n",
       "├─────────────────────────────────┼────────────────────────┼───────────────┤\n",
       "│ dense_1 (<span style=\"color: #0087ff; text-decoration-color: #0087ff\">Dense</span>)                 │ (<span style=\"color: #00d7ff; text-decoration-color: #00d7ff\">None</span>, <span style=\"color: #00af00; text-decoration-color: #00af00\">24</span>)             │           <span style=\"color: #00af00; text-decoration-color: #00af00\">216</span> │\n",
       "├─────────────────────────────────┼────────────────────────┼───────────────┤\n",
       "│ dense_2 (<span style=\"color: #0087ff; text-decoration-color: #0087ff\">Dense</span>)                 │ (<span style=\"color: #00d7ff; text-decoration-color: #00d7ff\">None</span>, <span style=\"color: #00af00; text-decoration-color: #00af00\">24</span>)             │           <span style=\"color: #00af00; text-decoration-color: #00af00\">600</span> │\n",
       "├─────────────────────────────────┼────────────────────────┼───────────────┤\n",
       "│ output_layer (<span style=\"color: #0087ff; text-decoration-color: #0087ff\">Dense</span>)            │ (<span style=\"color: #00d7ff; text-decoration-color: #00d7ff\">None</span>, <span style=\"color: #00af00; text-decoration-color: #00af00\">4</span>)              │           <span style=\"color: #00af00; text-decoration-color: #00af00\">100</span> │\n",
       "└─────────────────────────────────┴────────────────────────┴───────────────┘\n",
       "</pre>\n"
      ],
      "text/plain": [
       "┏━━━━━━━━━━━━━━━━━━━━━━━━━━━━━━━━━┳━━━━━━━━━━━━━━━━━━━━━━━━┳━━━━━━━━━━━━━━━┓\n",
       "┃\u001b[1m \u001b[0m\u001b[1mLayer (type)                   \u001b[0m\u001b[1m \u001b[0m┃\u001b[1m \u001b[0m\u001b[1mOutput Shape          \u001b[0m\u001b[1m \u001b[0m┃\u001b[1m \u001b[0m\u001b[1m      Param #\u001b[0m\u001b[1m \u001b[0m┃\n",
       "┡━━━━━━━━━━━━━━━━━━━━━━━━━━━━━━━━━╇━━━━━━━━━━━━━━━━━━━━━━━━╇━━━━━━━━━━━━━━━┩\n",
       "│ state_input (\u001b[38;5;33mInputLayer\u001b[0m)        │ (\u001b[38;5;45mNone\u001b[0m, \u001b[38;5;34m8\u001b[0m)              │             \u001b[38;5;34m0\u001b[0m │\n",
       "├─────────────────────────────────┼────────────────────────┼───────────────┤\n",
       "│ dense_1 (\u001b[38;5;33mDense\u001b[0m)                 │ (\u001b[38;5;45mNone\u001b[0m, \u001b[38;5;34m24\u001b[0m)             │           \u001b[38;5;34m216\u001b[0m │\n",
       "├─────────────────────────────────┼────────────────────────┼───────────────┤\n",
       "│ dense_2 (\u001b[38;5;33mDense\u001b[0m)                 │ (\u001b[38;5;45mNone\u001b[0m, \u001b[38;5;34m24\u001b[0m)             │           \u001b[38;5;34m600\u001b[0m │\n",
       "├─────────────────────────────────┼────────────────────────┼───────────────┤\n",
       "│ output_layer (\u001b[38;5;33mDense\u001b[0m)            │ (\u001b[38;5;45mNone\u001b[0m, \u001b[38;5;34m4\u001b[0m)              │           \u001b[38;5;34m100\u001b[0m │\n",
       "└─────────────────────────────────┴────────────────────────┴───────────────┘\n"
      ]
     },
     "metadata": {},
     "output_type": "display_data"
    },
    {
     "data": {
      "text/html": [
       "<pre style=\"white-space:pre;overflow-x:auto;line-height:normal;font-family:Menlo,'DejaVu Sans Mono',consolas,'Courier New',monospace\"><span style=\"font-weight: bold\"> Total params: </span><span style=\"color: #00af00; text-decoration-color: #00af00\">916</span> (3.58 KB)\n",
       "</pre>\n"
      ],
      "text/plain": [
       "\u001b[1m Total params: \u001b[0m\u001b[38;5;34m916\u001b[0m (3.58 KB)\n"
      ]
     },
     "metadata": {},
     "output_type": "display_data"
    },
    {
     "data": {
      "text/html": [
       "<pre style=\"white-space:pre;overflow-x:auto;line-height:normal;font-family:Menlo,'DejaVu Sans Mono',consolas,'Courier New',monospace\"><span style=\"font-weight: bold\"> Trainable params: </span><span style=\"color: #00af00; text-decoration-color: #00af00\">916</span> (3.58 KB)\n",
       "</pre>\n"
      ],
      "text/plain": [
       "\u001b[1m Trainable params: \u001b[0m\u001b[38;5;34m916\u001b[0m (3.58 KB)\n"
      ]
     },
     "metadata": {},
     "output_type": "display_data"
    },
    {
     "data": {
      "text/html": [
       "<pre style=\"white-space:pre;overflow-x:auto;line-height:normal;font-family:Menlo,'DejaVu Sans Mono',consolas,'Courier New',monospace\"><span style=\"font-weight: bold\"> Non-trainable params: </span><span style=\"color: #00af00; text-decoration-color: #00af00\">0</span> (0.00 B)\n",
       "</pre>\n"
      ],
      "text/plain": [
       "\u001b[1m Non-trainable params: \u001b[0m\u001b[38;5;34m0\u001b[0m (0.00 B)\n"
      ]
     },
     "metadata": {},
     "output_type": "display_data"
    },
    {
     "name": "stdout",
     "output_type": "stream",
     "text": [
      "DDQN strategy HARD reset weights\n"
     ]
    }
   ],
   "source": [
    "envCartPole = gym.make('LunarLander-v3')\n",
    "state_size = env.observation_space.shape[0]\n",
    "action_size = env.action_space.n\n",
    "\n",
    "agent = Agent_DDQN(state_size, action_size, learning_rate, gamma, epsilon, tau, UPDATE_SOFT)"
   ]
  },
  {
   "cell_type": "markdown",
   "id": "61447319",
   "metadata": {},
   "source": [
    "#### **Training Phase**"
   ]
  },
  {
   "cell_type": "code",
   "execution_count": 9,
   "id": "8617a95f",
   "metadata": {
    "scrolled": false
   },
   "outputs": [
    {
     "name": "stdout",
     "output_type": "stream",
     "text": [
      "Episode:   1/1200, Reward:  -197.96, Epsilon: 0.99, Rolling Avg: -197.96, Steps:  111, Terminated: True \n",
      "Episode:   2/1200, Reward:  -253.37, Epsilon: 0.98, Rolling Avg: -225.67, Steps:  103, Terminated: True \n",
      "Episode:   3/1200, Reward:   -75.05, Epsilon: 0.97, Rolling Avg: -175.46, Steps:  117, Terminated: True \n",
      "Episode:   4/1200, Reward:   -92.98, Epsilon: 0.96, Rolling Avg: -154.84, Steps:  131, Terminated: True \n",
      "Episode:   5/1200, Reward:   -77.45, Epsilon: 0.95, Rolling Avg: -139.36, Steps:   72, Terminated: True \n",
      "Episode:   6/1200, Reward:  -309.18, Epsilon: 0.94, Rolling Avg: -167.67, Steps:  108, Terminated: True \n",
      "Episode:   7/1200, Reward:  -105.71, Epsilon: 0.93, Rolling Avg: -158.81, Steps:  106, Terminated: True \n",
      "Episode:   8/1200, Reward:  -305.07, Epsilon: 0.92, Rolling Avg: -177.10, Steps:  121, Terminated: True \n",
      "Episode:   9/1200, Reward:   -91.83, Epsilon: 0.91, Rolling Avg: -167.62, Steps:   69, Terminated: True \n",
      "Episode:  10/1200, Reward:   -89.42, Epsilon: 0.90, Rolling Avg: -159.80, Steps:   96, Terminated: True \n",
      "Episode:  11/1200, Reward:  -124.39, Epsilon: 0.90, Rolling Avg: -156.58, Steps:   82, Terminated: True \n",
      "Episode:  12/1200, Reward:   -89.80, Epsilon: 0.89, Rolling Avg: -151.02, Steps:   95, Terminated: True \n",
      "Episode:  13/1200, Reward:  -109.60, Epsilon: 0.88, Rolling Avg: -147.83, Steps:   75, Terminated: True \n",
      "Episode:  14/1200, Reward:  -278.80, Epsilon: 0.87, Rolling Avg: -157.19, Steps:   90, Terminated: True \n",
      "Episode:  15/1200, Reward:  -354.89, Epsilon: 0.86, Rolling Avg: -170.37, Steps:  105, Terminated: True \n",
      "Episode:  16/1200, Reward:  -234.81, Epsilon: 0.85, Rolling Avg: -174.39, Steps:   92, Terminated: True \n",
      "Episode:  17/1200, Reward:  -126.31, Epsilon: 0.84, Rolling Avg: -171.57, Steps:  129, Terminated: True \n",
      "Episode:  18/1200, Reward:   -41.25, Epsilon: 0.83, Rolling Avg: -164.33, Steps:   74, Terminated: True \n",
      "Episode:  19/1200, Reward:  -242.84, Epsilon: 0.83, Rolling Avg: -168.46, Steps:  115, Terminated: True \n",
      "Episode:  20/1200, Reward:   -52.31, Epsilon: 0.82, Rolling Avg: -162.65, Steps:  148, Terminated: True \n",
      "Episode:  21/1200, Reward:  -205.78, Epsilon: 0.81, Rolling Avg: -164.71, Steps:  126, Terminated: True \n",
      "Episode:  22/1200, Reward:  -261.35, Epsilon: 0.80, Rolling Avg: -169.10, Steps:  142, Terminated: True \n",
      "Episode:  23/1200, Reward:  -111.11, Epsilon: 0.79, Rolling Avg: -166.58, Steps:  135, Terminated: True \n",
      "Episode:  24/1200, Reward:  -385.10, Epsilon: 0.79, Rolling Avg: -175.68, Steps:   85, Terminated: True \n",
      "Episode:  25/1200, Reward:   -70.80, Epsilon: 0.78, Rolling Avg: -171.49, Steps:  140, Terminated: True \n",
      "Episode:  26/1200, Reward:   -77.59, Epsilon: 0.77, Rolling Avg: -167.88, Steps:  103, Terminated: True \n",
      "Episode:  27/1200, Reward:  -108.80, Epsilon: 0.76, Rolling Avg: -165.69, Steps:  133, Terminated: True \n",
      "Episode:  28/1200, Reward:   -56.13, Epsilon: 0.75, Rolling Avg: -161.77, Steps:  161, Terminated: True \n",
      "Episode:  29/1200, Reward:   -62.32, Epsilon: 0.75, Rolling Avg: -158.35, Steps:  111, Terminated: True \n",
      "Episode:  30/1200, Reward:  -176.77, Epsilon: 0.74, Rolling Avg: -158.96, Steps:  105, Terminated: True \n",
      "Episode:  31/1200, Reward:  -134.85, Epsilon: 0.73, Rolling Avg: -158.18, Steps:  114, Terminated: True \n",
      "Episode:  32/1200, Reward:   -90.39, Epsilon: 0.72, Rolling Avg: -156.06, Steps:  125, Terminated: True \n",
      "Episode:  33/1200, Reward:   -83.19, Epsilon: 0.72, Rolling Avg: -153.86, Steps:  152, Terminated: True \n",
      "Episode:  34/1200, Reward:  -127.35, Epsilon: 0.71, Rolling Avg: -153.08, Steps:  135, Terminated: True \n",
      "Episode:  35/1200, Reward:  -116.21, Epsilon: 0.70, Rolling Avg: -152.02, Steps:  147, Terminated: True \n",
      "Episode:  36/1200, Reward:  -102.88, Epsilon: 0.70, Rolling Avg: -150.66, Steps:  116, Terminated: True \n",
      "Episode:  37/1200, Reward:  -170.84, Epsilon: 0.69, Rolling Avg: -151.20, Steps:  171, Terminated: True \n",
      "Episode:  38/1200, Reward:  -116.79, Epsilon: 0.68, Rolling Avg: -150.30, Steps:  159, Terminated: True \n",
      "Episode:  39/1200, Reward:  -114.83, Epsilon: 0.68, Rolling Avg: -149.39, Steps:  155, Terminated: True \n",
      "Episode:  40/1200, Reward:   -87.39, Epsilon: 0.67, Rolling Avg: -147.84, Steps:  145, Terminated: True \n",
      "Episode:  41/1200, Reward:  -139.41, Epsilon: 0.66, Rolling Avg: -146.37, Steps:   93, Terminated: True \n",
      "Episode:  42/1200, Reward:  -248.17, Epsilon: 0.66, Rolling Avg: -146.24, Steps:  114, Terminated: True \n",
      "Episode:  43/1200, Reward:   -18.77, Epsilon: 0.65, Rolling Avg: -144.84, Steps:  121, Terminated: True \n",
      "Episode:  44/1200, Reward:  -201.84, Epsilon: 0.64, Rolling Avg: -147.56, Steps:  134, Terminated: True \n",
      "Episode:  45/1200, Reward:  -202.03, Epsilon: 0.64, Rolling Avg: -150.67, Steps:   88, Terminated: True \n",
      "Episode:  46/1200, Reward:  -150.12, Epsilon: 0.63, Rolling Avg: -146.70, Steps:  170, Terminated: True \n",
      "Episode:  47/1200, Reward:   -88.95, Epsilon: 0.62, Rolling Avg: -146.28, Steps:  127, Terminated: True \n",
      "Episode:  48/1200, Reward:   -33.90, Epsilon: 0.62, Rolling Avg: -139.50, Steps:   94, Terminated: True \n",
      "Episode:  49/1200, Reward:   -20.96, Epsilon: 0.61, Rolling Avg: -137.73, Steps:  136, Terminated: True \n",
      "Episode:  50/1200, Reward:  -103.11, Epsilon: 0.61, Rolling Avg: -138.07, Steps:  172, Terminated: True \n",
      "Episode:  51/1200, Reward:   -63.47, Epsilon: 0.60, Rolling Avg: -136.55, Steps:  102, Terminated: True \n",
      "Episode:  52/1200, Reward:   -64.48, Epsilon: 0.59, Rolling Avg: -135.91, Steps:  145, Terminated: True \n",
      "Episode:  53/1200, Reward:  -135.35, Epsilon: 0.59, Rolling Avg: -136.56, Steps:  156, Terminated: True \n",
      "Episode:  54/1200, Reward:   -95.71, Epsilon: 0.58, Rolling Avg: -131.98, Steps:   84, Terminated: True \n",
      "Episode:  55/1200, Reward:  -157.96, Epsilon: 0.58, Rolling Avg: -127.06, Steps:  121, Terminated: True \n",
      "Episode:  56/1200, Reward:   -83.29, Epsilon: 0.57, Rolling Avg: -123.27, Steps:  115, Terminated: True \n",
      "Episode:  57/1200, Reward:   +28.43, Epsilon: 0.56, Rolling Avg: -119.40, Steps: 1200, Terminated: False \n",
      "Episode:  58/1200, Reward:   +10.39, Epsilon: 0.56, Rolling Avg: -118.11, Steps:  142, Terminated: True \n",
      "Episode:  59/1200, Reward:  -176.01, Epsilon: 0.55, Rolling Avg: -116.44, Steps:  203, Terminated: True \n",
      "Episode:  60/1200, Reward:   -93.15, Epsilon: 0.55, Rolling Avg: -117.46, Steps:  116, Terminated: True \n",
      "Episode:  61/1200, Reward:   -71.49, Epsilon: 0.54, Rolling Avg: -114.10, Steps:  174, Terminated: True \n",
      "Episode:  62/1200, Reward:   +26.20, Epsilon: 0.54, Rolling Avg: -106.91, Steps:  203, Terminated: True \n",
      "Episode:  63/1200, Reward:  -105.08, Epsilon: 0.53, Rolling Avg: -106.76, Steps:   97, Terminated: True \n",
      "Episode:  64/1200, Reward:   -44.74, Epsilon: 0.53, Rolling Avg:  -98.25, Steps:  170, Terminated: True \n",
      "Episode:  65/1200, Reward:   -48.86, Epsilon: 0.52, Rolling Avg:  -97.70, Steps:  138, Terminated: True \n",
      "Episode:  66/1200, Reward:   -79.75, Epsilon: 0.52, Rolling Avg:  -97.76, Steps:  156, Terminated: True \n",
      "Episode:  67/1200, Reward:  -192.70, Epsilon: 0.51, Rolling Avg:  -99.86, Steps:   74, Terminated: True \n",
      "Episode:  68/1200, Reward:   -64.19, Epsilon: 0.50, Rolling Avg: -100.06, Steps:  191, Terminated: True \n",
      "Episode:  69/1200, Reward:  -105.86, Epsilon: 0.50, Rolling Avg: -101.15, Steps:  110, Terminated: True \n",
      "Episode:  70/1200, Reward:   +21.87, Epsilon: 0.49, Rolling Avg:  -96.18, Steps: 1200, Terminated: False \n",
      "Episode:  71/1200, Reward:   -73.09, Epsilon: 0.49, Rolling Avg:  -94.64, Steps:   91, Terminated: True \n",
      "Episode:  72/1200, Reward:   -88.04, Epsilon: 0.48, Rolling Avg:  -94.58, Steps:  164, Terminated: True \n",
      "Episode:  73/1200, Reward:  -214.44, Epsilon: 0.48, Rolling Avg:  -97.86, Steps:  143, Terminated: True \n",
      "Episode:  74/1200, Reward:  -194.86, Epsilon: 0.48, Rolling Avg:  -99.55, Steps:  126, Terminated: True \n",
      "Episode:  75/1200, Reward:   +12.66, Epsilon: 0.47, Rolling Avg:  -96.32, Steps: 1200, Terminated: False \n",
      "Episode:  76/1200, Reward:   -76.99, Epsilon: 0.47, Rolling Avg:  -95.68, Steps:  126, Terminated: True \n",
      "Episode:  77/1200, Reward:   -46.45, Epsilon: 0.46, Rolling Avg:  -92.57, Steps:  106, Terminated: True \n",
      "Episode:  78/1200, Reward:  -156.19, Epsilon: 0.46, Rolling Avg:  -93.55, Steps:  134, Terminated: True \n"
     ]
    },
    {
     "name": "stdout",
     "output_type": "stream",
     "text": [
      "Episode:  79/1200, Reward:   -53.10, Epsilon: 0.45, Rolling Avg:  -92.01, Steps:  187, Terminated: True \n",
      "Episode:  80/1200, Reward:   -37.09, Epsilon: 0.45, Rolling Avg:  -90.75, Steps:  151, Terminated: True \n",
      "Episode:  81/1200, Reward:   -80.27, Epsilon: 0.44, Rolling Avg:  -89.27, Steps:  360, Terminated: True \n",
      "Episode:  82/1200, Reward:   -30.48, Epsilon: 0.44, Rolling Avg:  -83.83, Steps:  113, Terminated: True \n",
      "Episode:  83/1200, Reward:  -157.35, Epsilon: 0.43, Rolling Avg:  -87.30, Steps:  338, Terminated: True \n",
      "Episode:  84/1200, Reward:   -75.51, Epsilon: 0.43, Rolling Avg:  -84.14, Steps:  192, Terminated: True \n",
      "Episode:  85/1200, Reward:  -218.11, Epsilon: 0.43, Rolling Avg:  -84.54, Steps:  184, Terminated: True \n",
      "Episode:  86/1200, Reward:  -284.26, Epsilon: 0.42, Rolling Avg:  -87.89, Steps:  189, Terminated: True \n",
      "Episode:  87/1200, Reward:   +36.02, Epsilon: 0.42, Rolling Avg:  -84.77, Steps: 1200, Terminated: False \n",
      "Episode:  88/1200, Reward:   -13.07, Epsilon: 0.41, Rolling Avg:  -84.25, Steps:  217, Terminated: True \n",
      "Episode:  89/1200, Reward:   -72.64, Epsilon: 0.41, Rolling Avg:  -85.54, Steps:  223, Terminated: True \n",
      "Episode:  90/1200, Reward:   +46.67, Epsilon: 0.40, Rolling Avg:  -81.79, Steps: 1200, Terminated: False \n",
      "Episode:  91/1200, Reward:    +9.67, Epsilon: 0.40, Rolling Avg:  -79.97, Steps:  340, Terminated: True \n",
      "Episode:  92/1200, Reward:  -124.58, Epsilon: 0.40, Rolling Avg:  -81.47, Steps:  177, Terminated: True \n",
      "Episode:  93/1200, Reward:   -49.88, Epsilon: 0.39, Rolling Avg:  -79.33, Steps:  289, Terminated: True \n",
      "Episode:  94/1200, Reward:  -136.15, Epsilon: 0.39, Rolling Avg:  -80.34, Steps:  510, Terminated: True \n",
      "Episode:  95/1200, Reward:   -76.77, Epsilon: 0.38, Rolling Avg:  -78.31, Steps:   95, Terminated: True \n",
      "Episode:  96/1200, Reward:  -252.86, Epsilon: 0.38, Rolling Avg:  -82.55, Steps:  269, Terminated: True \n",
      "Episode:  97/1200, Reward:   -70.25, Epsilon: 0.38, Rolling Avg:  -85.02, Steps:  253, Terminated: True \n",
      "Episode:  98/1200, Reward:  -187.78, Epsilon: 0.37, Rolling Avg:  -89.97, Steps:  433, Terminated: True \n",
      "Episode:  99/1200, Reward:  -144.45, Epsilon: 0.37, Rolling Avg:  -89.18, Steps: 1200, Terminated: False \n",
      "Episode: 100/1200, Reward:  -170.75, Epsilon: 0.37, Rolling Avg:  -91.12, Steps:  325, Terminated: True \n",
      "Episode: 101/1200, Reward:   -45.39, Epsilon: 0.36, Rolling Avg:  -90.47, Steps:  567, Terminated: True \n",
      "Episode: 102/1200, Reward:  -205.64, Epsilon: 0.36, Rolling Avg:  -96.27, Steps:  530, Terminated: True \n",
      "Episode: 103/1200, Reward:  -222.24, Epsilon: 0.36, Rolling Avg:  -99.20, Steps:  232, Terminated: True \n",
      "Episode: 104/1200, Reward:  -265.74, Epsilon: 0.35, Rolling Avg: -104.72, Steps:  522, Terminated: True \n",
      "Episode: 105/1200, Reward:   -41.99, Epsilon: 0.35, Rolling Avg: -104.55, Steps:  247, Terminated: True \n",
      "Episode: 106/1200, Reward:   -95.79, Epsilon: 0.34, Rolling Avg: -104.95, Steps: 1200, Terminated: False \n",
      "Episode: 107/1200, Reward:   +41.47, Epsilon: 0.34, Rolling Avg:  -99.10, Steps: 1200, Terminated: False \n",
      "Episode: 108/1200, Reward:  -226.38, Epsilon: 0.34, Rolling Avg: -103.15, Steps:  858, Terminated: True \n",
      "Episode: 109/1200, Reward:   +34.73, Epsilon: 0.33, Rolling Avg:  -99.64, Steps: 1200, Terminated: False \n",
      "Episode: 110/1200, Reward:  -284.45, Epsilon: 0.33, Rolling Avg: -107.30, Steps:  596, Terminated: True \n",
      "Episode: 111/1200, Reward:   +62.56, Epsilon: 0.33, Rolling Avg: -103.90, Steps: 1200, Terminated: False \n",
      "Episode: 112/1200, Reward:   +10.27, Epsilon: 0.32, Rolling Avg: -101.45, Steps: 1200, Terminated: False \n",
      "Episode: 113/1200, Reward:   +15.93, Epsilon: 0.32, Rolling Avg:  -95.69, Steps: 1200, Terminated: False \n",
      "Episode: 114/1200, Reward:   -29.26, Epsilon: 0.32, Rolling Avg:  -91.55, Steps: 1200, Terminated: False \n",
      "Episode: 115/1200, Reward:   +83.62, Epsilon: 0.31, Rolling Avg:  -89.77, Steps: 1200, Terminated: False \n",
      "Episode: 116/1200, Reward:   -41.31, Epsilon: 0.31, Rolling Avg:  -88.88, Steps: 1200, Terminated: False \n",
      "Episode: 117/1200, Reward:   +93.01, Epsilon: 0.31, Rolling Avg:  -85.39, Steps: 1200, Terminated: False \n",
      "Episode: 118/1200, Reward:    -1.19, Epsilon: 0.31, Rolling Avg:  -81.52, Steps: 1200, Terminated: False \n",
      "Episode: 119/1200, Reward:   -97.06, Epsilon: 0.30, Rolling Avg:  -82.62, Steps:  113, Terminated: True \n",
      "Episode: 120/1200, Reward:   +18.03, Epsilon: 0.30, Rolling Avg:  -81.24, Steps: 1200, Terminated: False \n",
      "Episode: 121/1200, Reward:   -12.41, Epsilon: 0.30, Rolling Avg:  -79.54, Steps: 1200, Terminated: False \n",
      "Episode: 122/1200, Reward:   -16.89, Epsilon: 0.29, Rolling Avg:  -79.20, Steps: 1200, Terminated: False \n",
      "Episode: 123/1200, Reward:   -27.39, Epsilon: 0.29, Rolling Avg:  -75.95, Steps: 1200, Terminated: False \n",
      "Episode: 124/1200, Reward:  +124.88, Epsilon: 0.29, Rolling Avg:  -70.94, Steps: 1200, Terminated: False \n",
      "Episode: 125/1200, Reward:   +26.14, Epsilon: 0.28, Rolling Avg:  -64.84, Steps: 1200, Terminated: False \n",
      "Episode: 126/1200, Reward:   +22.72, Epsilon: 0.28, Rolling Avg:  -57.16, Steps: 1200, Terminated: False \n",
      "Episode: 127/1200, Reward:   -30.21, Epsilon: 0.28, Rolling Avg:  -58.82, Steps: 1200, Terminated: False \n",
      "Episode: 128/1200, Reward:  +171.85, Epsilon: 0.28, Rolling Avg:  -54.20, Steps:  902, Terminated: True \n",
      "Episode: 129/1200, Reward:   +39.80, Epsilon: 0.27, Rolling Avg:  -51.39, Steps: 1200, Terminated: False \n",
      "Episode: 130/1200, Reward:   +69.41, Epsilon: 0.27, Rolling Avg:  -50.82, Steps: 1200, Terminated: False \n",
      "Episode: 131/1200, Reward:   +55.63, Epsilon: 0.27, Rolling Avg:  -49.67, Steps: 1200, Terminated: False \n",
      "Episode: 132/1200, Reward:   -46.63, Epsilon: 0.27, Rolling Avg:  -47.72, Steps:  106, Terminated: True \n",
      "Episode: 133/1200, Reward:   +10.52, Epsilon: 0.26, Rolling Avg:  -46.21, Steps: 1200, Terminated: False \n",
      "Episode: 134/1200, Reward:   +63.39, Epsilon: 0.26, Rolling Avg:  -41.22, Steps: 1200, Terminated: False \n",
      "Episode: 135/1200, Reward:  +105.20, Epsilon: 0.26, Rolling Avg:  -36.67, Steps: 1200, Terminated: False \n",
      "Episode: 136/1200, Reward:   +25.78, Epsilon: 0.25, Rolling Avg:  -29.71, Steps: 1200, Terminated: False \n",
      "Episode: 137/1200, Reward:   +21.01, Epsilon: 0.25, Rolling Avg:  -27.42, Steps: 1200, Terminated: False \n",
      "Episode: 138/1200, Reward:   +82.94, Epsilon: 0.25, Rolling Avg:  -20.66, Steps: 1200, Terminated: False \n",
      "Episode: 139/1200, Reward:  +143.53, Epsilon: 0.25, Rolling Avg:  -13.46, Steps: 1182, Terminated: True \n",
      "Episode: 140/1200, Reward:  +191.92, Epsilon: 0.24, Rolling Avg:   -4.39, Steps: 1043, Terminated: True \n",
      "Episode: 141/1200, Reward:   +82.44, Epsilon: 0.24, Rolling Avg:   -1.19, Steps: 1200, Terminated: False \n",
      "Episode: 142/1200, Reward:   +85.47, Epsilon: 0.24, Rolling Avg:    6.08, Steps: 1200, Terminated: False \n",
      "Episode: 143/1200, Reward:  +216.09, Epsilon: 0.24, Rolling Avg:   17.04, Steps:  957, Terminated: True \n",
      "Episode: 144/1200, Reward:   +93.79, Epsilon: 0.24, Rolling Avg:   26.03, Steps: 1200, Terminated: False \n",
      "Episode: 145/1200, Reward:  +102.51, Epsilon: 0.23, Rolling Avg:   29.64, Steps: 1200, Terminated: False \n",
      "Episode: 146/1200, Reward:  +108.12, Epsilon: 0.23, Rolling Avg:   34.74, Steps: 1200, Terminated: False \n",
      "Episode: 147/1200, Reward:   -30.77, Epsilon: 0.23, Rolling Avg:   32.93, Steps:   83, Terminated: True \n",
      "Episode: 148/1200, Reward:  +247.21, Epsilon: 0.23, Rolling Avg:   44.77, Steps:  451, Terminated: True \n",
      "Episode: 149/1200, Reward:  +246.67, Epsilon: 0.22, Rolling Avg:   50.07, Steps:  495, Terminated: True \n",
      "Episode: 150/1200, Reward:  +120.41, Epsilon: 0.22, Rolling Avg:   60.19, Steps:  845, Terminated: True \n",
      "Episode: 151/1200, Reward:  +135.78, Epsilon: 0.22, Rolling Avg:   62.02, Steps: 1200, Terminated: False \n",
      "Episode: 152/1200, Reward:    -8.55, Epsilon: 0.22, Rolling Avg:   61.55, Steps:  392, Terminated: True \n",
      "Episode: 153/1200, Reward:  +251.93, Epsilon: 0.21, Rolling Avg:   67.45, Steps:  499, Terminated: True \n",
      "Episode: 154/1200, Reward:   +66.23, Epsilon: 0.21, Rolling Avg:   69.84, Steps: 1200, Terminated: False \n",
      "Episode: 155/1200, Reward:  +131.17, Epsilon: 0.21, Rolling Avg:   71.03, Steps: 1200, Terminated: False \n",
      "Episode: 156/1200, Reward:  +200.51, Epsilon: 0.21, Rolling Avg:   77.08, Steps:  641, Terminated: True \n"
     ]
    },
    {
     "name": "stdout",
     "output_type": "stream",
     "text": [
      "Episode: 157/1200, Reward:  +201.37, Epsilon: 0.21, Rolling Avg:   79.78, Steps:  523, Terminated: True \n",
      "Episode: 158/1200, Reward:  +179.54, Epsilon: 0.20, Rolling Avg:   84.30, Steps:  550, Terminated: True \n",
      "Episode: 159/1200, Reward:    +7.99, Epsilon: 0.20, Rolling Avg:   86.93, Steps:  336, Terminated: True \n",
      "Episode: 160/1200, Reward:  +222.14, Epsilon: 0.20, Rolling Avg:   92.03, Steps:  613, Terminated: True \n",
      "Episode: 161/1200, Reward:  +234.25, Epsilon: 0.20, Rolling Avg:   98.20, Steps:  977, Terminated: True \n",
      "Episode: 162/1200, Reward:  +125.35, Epsilon: 0.20, Rolling Avg:  101.75, Steps: 1200, Terminated: False \n",
      "Episode: 163/1200, Reward:   +89.26, Epsilon: 0.19, Rolling Avg:  104.67, Steps: 1200, Terminated: False \n",
      "Episode: 164/1200, Reward:  +280.69, Epsilon: 0.19, Rolling Avg:  108.57, Steps:  350, Terminated: True \n",
      "Episode: 165/1200, Reward:  +234.68, Epsilon: 0.19, Rolling Avg:  113.78, Steps:  941, Terminated: True \n",
      "Episode: 166/1200, Reward:  +208.21, Epsilon: 0.19, Rolling Avg:  118.42, Steps:  708, Terminated: True \n",
      "Episode: 167/1200, Reward:  +100.63, Epsilon: 0.19, Rolling Avg:  121.69, Steps: 1200, Terminated: False \n",
      "Episode: 168/1200, Reward:   +80.73, Epsilon: 0.18, Rolling Avg:  119.41, Steps: 1200, Terminated: False \n",
      "Episode: 169/1200, Reward:   +59.82, Epsilon: 0.18, Rolling Avg:  119.91, Steps: 1200, Terminated: False \n",
      "Episode: 170/1200, Reward:  +193.60, Epsilon: 0.18, Rolling Avg:  123.01, Steps:  881, Terminated: True \n",
      "Episode: 171/1200, Reward:  +210.70, Epsilon: 0.18, Rolling Avg:  126.89, Steps:  391, Terminated: True \n",
      "Episode: 172/1200, Reward:   +89.59, Epsilon: 0.18, Rolling Avg:  130.30, Steps: 1200, Terminated: False \n",
      "Episode: 173/1200, Reward:  +245.67, Epsilon: 0.18, Rolling Avg:  136.18, Steps:  541, Terminated: True \n",
      "Episode: 174/1200, Reward:  +271.11, Epsilon: 0.17, Rolling Avg:  141.37, Steps:  619, Terminated: True \n",
      "Episode: 175/1200, Reward:  +210.19, Epsilon: 0.17, Rolling Avg:  143.99, Steps: 1092, Terminated: True \n",
      "Episode: 176/1200, Reward:  +260.48, Epsilon: 0.17, Rolling Avg:  149.86, Steps:  737, Terminated: True \n",
      "Episode: 177/1200, Reward:  +263.83, Epsilon: 0.17, Rolling Avg:  155.93, Steps:  427, Terminated: True \n",
      "Episode: 178/1200, Reward:  +233.41, Epsilon: 0.17, Rolling Avg:  159.69, Steps:  988, Terminated: True \n",
      "Episode: 179/1200, Reward:   +73.46, Epsilon: 0.17, Rolling Avg:  157.94, Steps: 1200, Terminated: False \n",
      "Episode: 180/1200, Reward:  +184.43, Epsilon: 0.16, Rolling Avg:  157.75, Steps:  617, Terminated: True \n",
      "Episode: 181/1200, Reward:  +220.24, Epsilon: 0.16, Rolling Avg:  161.20, Steps:  597, Terminated: True \n",
      "Episode: 182/1200, Reward:  +209.48, Epsilon: 0.16, Rolling Avg:  164.30, Steps:  666, Terminated: True \n",
      "Episode: 183/1200, Reward:  -269.59, Epsilon: 0.16, Rolling Avg:  152.16, Steps:  104, Terminated: True \n",
      "Episode: 184/1200, Reward:  +172.78, Epsilon: 0.16, Rolling Avg:  154.13, Steps:  704, Terminated: True \n",
      "Episode: 185/1200, Reward:  +201.79, Epsilon: 0.16, Rolling Avg:  156.61, Steps:  571, Terminated: True \n",
      "Episode: 186/1200, Reward:  +214.41, Epsilon: 0.15, Rolling Avg:  159.27, Steps:  542, Terminated: True \n",
      "Episode: 187/1200, Reward:  +293.35, Epsilon: 0.15, Rolling Avg:  167.37, Steps: 1129, Terminated: True \n",
      "Episode: 188/1200, Reward:  +255.16, Epsilon: 0.15, Rolling Avg:  167.57, Steps:  529, Terminated: True \n",
      "Episode: 189/1200, Reward:  +225.43, Epsilon: 0.15, Rolling Avg:  167.04, Steps:  821, Terminated: True \n",
      "Episode: 190/1200, Reward:  +203.12, Epsilon: 0.15, Rolling Avg:  169.11, Steps:  857, Terminated: True \n",
      "Episode: 191/1200, Reward:  +194.48, Epsilon: 0.15, Rolling Avg:  170.58, Steps:  569, Terminated: True \n",
      "Episode: 192/1200, Reward:  +255.71, Epsilon: 0.15, Rolling Avg:  177.18, Steps:  743, Terminated: True \n",
      "Episode: 193/1200, Reward:  +229.29, Epsilon: 0.14, Rolling Avg:  176.62, Steps:  670, Terminated: True \n",
      "Episode: 194/1200, Reward:  +201.82, Epsilon: 0.14, Rolling Avg:  180.01, Steps:  752, Terminated: True \n",
      "Episode: 195/1200, Reward:  +263.92, Epsilon: 0.14, Rolling Avg:  183.33, Steps:  571, Terminated: True \n",
      "Episode: 196/1200, Reward:  +271.43, Epsilon: 0.14, Rolling Avg:  185.10, Steps:  485, Terminated: True \n",
      "Episode: 197/1200, Reward:  +252.00, Epsilon: 0.14, Rolling Avg:  186.37, Steps:  555, Terminated: True \n",
      "Episode: 198/1200, Reward:    -5.65, Epsilon: 0.14, Rolling Avg:  181.74, Steps:  108, Terminated: True \n",
      "Episode: 199/1200, Reward:   +15.07, Epsilon: 0.14, Rolling Avg:  181.91, Steps:  103, Terminated: True \n",
      "Episode: 200/1200, Reward:  +191.44, Epsilon: 0.13, Rolling Avg:  181.14, Steps:  828, Terminated: True \n",
      "Episode: 201/1200, Reward:  +214.73, Epsilon: 0.13, Rolling Avg:  180.66, Steps:  421, Terminated: True \n",
      "Episode: 202/1200, Reward:  +253.94, Epsilon: 0.13, Rolling Avg:  183.87, Steps:  511, Terminated: True \n",
      "Episode: 203/1200, Reward:  +268.20, Epsilon: 0.13, Rolling Avg:  188.34, Steps:  486, Terminated: True \n",
      "Episode: 204/1200, Reward:  +204.29, Epsilon: 0.13, Rolling Avg:  186.43, Steps:  608, Terminated: True \n",
      "Episode: 205/1200, Reward:  +244.02, Epsilon: 0.13, Rolling Avg:  186.67, Steps:  561, Terminated: True \n",
      "Episode: 206/1200, Reward:  +184.06, Epsilon: 0.13, Rolling Avg:  186.06, Steps:  627, Terminated: True \n",
      "Episode: 207/1200, Reward:  +243.90, Epsilon: 0.12, Rolling Avg:  189.65, Steps:  809, Terminated: True \n",
      "Episode: 208/1200, Reward:  +195.65, Epsilon: 0.12, Rolling Avg:  192.52, Steps:  764, Terminated: True \n",
      "Episode: 209/1200, Reward:  +210.30, Epsilon: 0.12, Rolling Avg:  196.28, Steps:  435, Terminated: True \n",
      "Episode: 210/1200, Reward:  +282.41, Epsilon: 0.12, Rolling Avg:  198.50, Steps:  427, Terminated: True \n",
      "Episode: 211/1200, Reward:  +203.13, Epsilon: 0.12, Rolling Avg:  198.31, Steps:  504, Terminated: True \n",
      "Episode: 212/1200, Reward:  +245.95, Epsilon: 0.12, Rolling Avg:  202.22, Steps:  657, Terminated: True \n",
      "Environment solved in 212 episodes!\n",
      "Training completed in 433.68 minutes\n"
     ]
    }
   ],
   "source": [
    "# Training loop\n",
    "episode_rewards = []\n",
    "rolling_avg_rewards = []\n",
    "\n",
    "start_time = time.time()\n",
    "\n",
    "for episode in range(max_episodes):\n",
    "    state, _ = env.reset()\n",
    "    state = np.reshape(state, [1, state_size])\n",
    "    total_reward = 0\n",
    "    done = False\n",
    "    terminated = False\n",
    "    truncated = False\n",
    "    step = 0\n",
    "    for e in range(max_steps):                       # Should be While True, however we limit number of eps\n",
    "        step = step + 1\n",
    "        # Epsilon-greedy policy\n",
    "\n",
    "        action = select_action_greedy(state, agent)\n",
    "        next_state, reward, terminated, truncated, _ = env.step(action)\n",
    "        done = terminated \n",
    "        next_state = np.reshape(next_state, [1, state_size])\n",
    "        agent.store_experience(state, action, reward, next_state, done)\n",
    "        state = next_state\n",
    "        total_reward += reward\n",
    "        if done:\n",
    "            break\n",
    "            \n",
    "        agent.experience_replay_DDQN(batch_size)\n",
    "\n",
    "    # Decay epsilon\n",
    "    epsilon = max(epsilon_min, epsilon * epsilon_decay)\n",
    "\n",
    "    # Record reward\n",
    "    episode_rewards.append(total_reward)\n",
    "    rolling_avg = np.mean(episode_rewards[-ROLLING_WINDOW:])\n",
    "    rolling_avg_rewards.append(rolling_avg)\n",
    "\n",
    "    # Print progress\n",
    "    print(f\"Episode: {episode+1:3}/{max_episodes}, Reward: {total_reward:+8.2f}, \"\n",
    "          f\"Epsilon: {epsilon:.2f}, Rolling Avg: {rolling_avg:7.2f}, Steps: {step:4}, Terminated: {done} \")\n",
    "\n",
    "    # Check if environment is solved\n",
    "    if rolling_avg >= solved_threshold:\n",
    "        print(f\"Environment solved in {episode+1} episodes!\")\n",
    "        break\n",
    "\n",
    "end_time = time.time()\n",
    "print(f\"Training completed in {(end_time - start_time)/60:.2f} minutes\")\n"
   ]
  },
  {
   "cell_type": "markdown",
   "id": "525316ad",
   "metadata": {},
   "source": [
    "#### **Result Visualization**"
   ]
  },
  {
   "cell_type": "code",
   "execution_count": 10,
   "id": "16988f92",
   "metadata": {},
   "outputs": [
    {
     "data": {
      "image/png": "[encoded data removed]",
      "text/plain": [
       "<Figure size 1000x600 with 1 Axes>"
      ]
     },
     "metadata": {},
     "output_type": "display_data"
    }
   ],
   "source": [
    "# Plot rewards with rolling average\n",
    "plt.figure(figsize=(10, 6))\n",
    "plt.plot(episode_rewards, label='Rewards', color='blue')\n",
    "plt.plot(rolling_avg_rewards, label='Rolling Avg (Last '+str(ROLLING_WINDOW)+' Episodes)', color='orange')\n",
    "plt.axhline(y=solved_threshold, color='red', linestyle='--', label='Solved Threshold')\n",
    "plt.title('DDQN Training Performance')\n",
    "plt.xlabel('Episodes')\n",
    "plt.ylabel('Rewards')\n",
    "plt.legend()\n",
    "plt.grid()\n",
    "plt.show()"
   ]
  },
  {
   "cell_type": "markdown",
   "id": "7f4c1d80",
   "metadata": {},
   "source": [
    "#### **Testing 10 episodes with the DDQN trained networks**"
   ]
  },
  {
   "cell_type": "code",
   "execution_count": 11,
   "id": "bdc1b93a",
   "metadata": {},
   "outputs": [
    {
     "name": "stdout",
     "output_type": "stream",
     "text": [
      "Test Episode:  1/10, Reward: 203.20, Steps: 639\n",
      "Test Episode:  2/10, Reward: 260.71, Steps: 516\n",
      "Test Episode:  3/10, Reward: 225.58, Steps: 539\n",
      "Test Episode:  4/10, Reward: 178.03, Steps: 634\n",
      "Test Episode:  5/10, Reward: 257.66, Steps: 632\n",
      "Test Episode:  6/10, Reward: 225.01, Steps: 395\n",
      "Test Episode:  7/10, Reward: 112.57, Steps: 1000\n",
      "Test Episode:  8/10, Reward: 215.80, Steps: 588\n",
      "Test Episode:  9/10, Reward: 202.43, Steps: 579\n",
      "Test Episode: 10/10, Reward: 115.89, Steps: 1000\n",
      "Testing completed in 4.56 minutes\n"
     ]
    }
   ],
   "source": [
    "# Testing for 10 episodes\n",
    "start_time = time.time()\n",
    "\n",
    "for e_test in range(10):  # Run 10 test episodes\n",
    "    state, _ = env.reset()\n",
    "    state = np.reshape(state, [1, state_size])\n",
    "    total_reward = 0\n",
    "    \n",
    "    steps = 0\n",
    "    while True:\n",
    "        # Use the trained model for testing\n",
    "        action = agent.action(state)  # Predict action values\n",
    "\n",
    "\n",
    "        next_state, reward, done, truncated, _ = env.step(action)\n",
    "        next_state = np.reshape(next_state, [1, state_size])\n",
    "        total_reward += reward\n",
    "        state = next_state\n",
    "        steps = steps + 1\n",
    "        if done or truncated:\n",
    "            print(f\"Test Episode: {e_test + 1:2}/10, Reward: {total_reward:.2f}, Steps: {steps:3}\")\n",
    "            break\n",
    "\n",
    "end_time = time.time()\n",
    "testing_duration = (end_time - start_time) / 60  # Convert to minutes\n",
    "print(f\"Testing completed in {testing_duration:.2f} minutes\")"
   ]
  },
  {
   "cell_type": "code",
   "execution_count": 14,
   "id": "ebec1907",
   "metadata": {},
   "outputs": [
    {
     "name": "stdout",
     "output_type": "stream",
     "text": [
      "Rendered Test Episode Reward: 212.01\n",
      "Saved GIF to: ./LunarLander_DDQN-Agent-hard.gif\n"
     ]
    }
   ],
   "source": [
    "# Test the trained agent with video rendering\n",
    "# This code is useful if you are using colab otherwise use render_mode='human'\n",
    "env = gym.make(('LunarLander-v3'), render_mode='rgb_array')  # Enable RGB rendering\n",
    "frames = []  # Store frames for visualization\n",
    "\n",
    "# Render a single test episode\n",
    "state, _ = env.reset()\n",
    "state = np.reshape(state, [1, state_size])\n",
    "tot_rewards = 0\n",
    "\n",
    "while True:\n",
    "    # Use the trained model for action\n",
    "    action = agent.action(state)            # Predict action value\n",
    "\n",
    "    next_state, reward, done, truncated, _ = env.step(action)\n",
    "    frames.append(env.render())                  # Save frame for rendering later\n",
    "    next_state = np.reshape(next_state, [1, state_size])\n",
    "    tot_rewards += reward\n",
    "    state = next_state\n",
    "\n",
    "    if done or truncated:\n",
    "        print(f\"Rendered Test Episode Reward: {tot_rewards:.2f}\")\n",
    "        break\n",
    "\n",
    "env.close()\n",
    "\n",
    "# Save the rendered episode as a GIF\n",
    "def save_frames_as_gif(frames, path='./', filename='LunarLander_DDQN-Agent.gif'):\n",
    "    images = [Image.fromarray(frame) for frame in frames]\n",
    "    gif_path = os.path.join(path, filename)\n",
    "    images[0].save(gif_path, save_all=True, append_images=images[1:], duration=50, loop=0)\n",
    "    print(f\"Saved GIF to: {gif_path}\")\n",
    "\n",
    "save_frames_as_gif(frames, filename='LunarLander_DDQN-Agent-hard.gif')\n"
   ]
  },
  {
   "cell_type": "code",
   "execution_count": 13,
   "id": "8b8cc35b",
   "metadata": {},
   "outputs": [
    {
     "name": "stdout",
     "output_type": "stream",
     "text": [
      "-----\n",
      "PIL                 11.0.0\n",
      "gymnasium           1.0.0\n",
      "keras               3.6.0\n",
      "matplotlib          3.9.2\n",
      "numpy               1.26.4\n",
      "session_info        1.0.0\n",
      "tensorflow          2.17.1\n",
      "-----\n",
      "IPython             8.28.0\n",
      "jupyter_client      8.6.3\n",
      "jupyter_core        5.7.2\n",
      "-----\n",
      "Python 3.12.3 (main, Jan 17 2025, 18:03:48) [GCC 13.3.0]\n",
      "Linux-5.15.167.4-microsoft-standard-WSL2-x86_64-with-glibc2.39\n",
      "-----\n",
      "Session information updated at 2025-02-10 23:46\n"
     ]
    }
   ],
   "source": [
    "import session_info\n",
    "session_info.show(html=False)"
   ]
  }
 ],
 "metadata": {
  "kernelspec": {
   "display_name": "DL-Keras",
   "language": "python",
   "name": "dl-keras"
  },
  "language_info": {
   "codemirror_mode": {
    "name": "ipython",
    "version": 3
   },
   "file_extension": ".py",
   "mimetype": "text/x-python",
   "name": "python",
   "nbconvert_exporter": "python",
   "pygments_lexer": "ipython3",
   "version": "3.12.3"
  }
 },
 "nbformat": 4,
 "nbformat_minor": 5
}
