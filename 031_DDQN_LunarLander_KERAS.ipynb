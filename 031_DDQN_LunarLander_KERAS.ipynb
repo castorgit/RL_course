{
 "cells": [
  {
   "cell_type": "markdown",
   "metadata": {},
   "source": [
    "### **LUNAR LANDER DDQN**\n",
    "\n",
    "This is a naive version vectorized of the DDQN Algorithm for the Lunar Lander env <br>\n",
    "\n",
    "The Double DQN (DDQN) uses two networks one as a target and one as the trained network <br>\n",
    "\n",
    "The target network is a copy of the online network that is updated less frequently, <br>\n",
    "and is used to generate the target values for the Q-learning update\n",
    "\n",
    "It includes a soft update of the weights, instead of substituting the weights between the networks it blends them together using a Polyak averaging This was an improvement on the pure DDQN algorithm <br>\n",
    "\n",
    "It takes some time but with some hyperparameter optimization you'll converge around 231 episodes <br>\n",
    "\n",
    "There is room for improvement This version took 800 minutes in a slow computer with several versions running in parallel, try to stabilize training and make it faster to converge\n",
    "\n"
   ]
  },
  {
   "cell_type": "code",
   "execution_count": 18,
   "metadata": {
    "id": "XmduteTzhmVH"
   },
   "outputs": [
    {
     "name": "stdout",
     "output_type": "stream",
     "text": [
      "Using device: 0, name: NVIDIA T600 Laptop GPU, pci bus id: 0000:01:00.0, compute capability: 7.5\n"
     ]
    }
   ],
   "source": [
    "import os\n",
    "os.environ['TF_CPP_MIN_LOG_LEVEL'] = '3'  # Suppress TensorFlow warnings\n",
    "import gymnasium as gym\n",
    "import numpy as np\n",
    "import random\n",
    "import matplotlib.pyplot as plt\n",
    "from collections import deque\n",
    "from tensorflow.keras.models import Sequential, Model\n",
    "from tensorflow.keras.layers import Dense, Dropout, Input\n",
    "from tensorflow.keras.optimizers import Adam\n",
    "from tensorflow.keras.initializers import HeNormal, HeUniform\n",
    "from tensorflow.keras.regularizers  import L1L2, L2\n",
    "import time\n",
    "from PIL import Image\n",
    "\n",
    "# Activate GPU\n",
    "from tensorflow.python.client import device_lib\n",
    "devices = device_lib.list_local_devices()\n",
    "gpu_devices = [device for device in devices if device.device_type == 'GPU']\n",
    "for gpu in gpu_devices:\n",
    "    print('Using', gpu.physical_device_desc)\n",
    "\n",
    "# Use mixed-precision training for faster computations on supported GPUs\n",
    "from tensorflow.keras.mixed_precision import set_global_policy\n",
    "set_global_policy('mixed_float16')\n",
    "\n",
    "\n",
    "# Enable XLA (Accelerated Linear Algebra) optimization\n",
    "tf.config.optimizer.set_jit(True)\n",
    "import sys\n",
    "sys.stderr = open('err.txt', 'w')"
   ]
  },
  {
   "cell_type": "code",
   "execution_count": 2,
   "metadata": {
    "id": "rxswekI1hmXw"
   },
   "outputs": [],
   "source": [
    "# Environment setup\n",
    "env = gym.make('LunarLander-v3')\n",
    "state_size = env.observation_space.shape[0]  # 8 state variables\n",
    "action_size = env.action_space.n             # 4 discrete actions\n",
    "tf.random.set_seed(221)                      # For reproducibility"
   ]
  },
  {
   "cell_type": "markdown",
   "metadata": {},
   "source": [
    "#### **Hyperparameters**"
   ]
  },
  {
   "cell_type": "code",
   "execution_count": 14,
   "metadata": {
    "id": "zonyAYX-hmad"
   },
   "outputs": [],
   "source": [
    "ROLLING_WINDOW=20\n",
    "\n",
    "learning_rate = 0.0005      \n",
    "gamma = 0.99\n",
    "batch_size = 64             \n",
    "epsilon_start = 1.0\n",
    "epsilon_min = 0.01\n",
    "epsilon_decay = 0.99        # closer to 1 : more exploration    \n",
    "num_episodes = 1000\n",
    "buffer_capacity = 100000    # 100000\n",
    "solved_threshold = 200\n",
    "retrain_steps = 15          # We copy weights every retrain_steps 15\n",
    "tau = 0.05                  # Soft update, it is high for long retrain periods. Small for short retrain 0.15"
   ]
  },
  {
   "cell_type": "markdown",
   "metadata": {},
   "source": [
    "#### **Replay Buffer Functions (in-out)**"
   ]
  },
  {
   "cell_type": "code",
   "execution_count": 4,
   "metadata": {
    "id": "IVrsk55q1qJY"
   },
   "outputs": [],
   "source": [
    "# Replay buffer\n",
    "replay_buffer = deque(maxlen=buffer_capacity)\n",
    "\n",
    "# Add experience to replay buffer\n",
    "def store_experience(state, action, reward, next_state, done):\n",
    "    replay_buffer.append((state, action, reward, next_state, done))\n",
    "\n",
    "# Sample experiences from the replay buffer\n",
    "def sample_experiences(batch_size):\n",
    "    indices = np.random.choice(len(replay_buffer), batch_size, replace=False)\n",
    "    batch = [replay_buffer[i] for i in indices]\n",
    "    states, actions, rewards, next_states, dones = zip(*batch)\n",
    "    return (\n",
    "        np.vstack(states),\n",
    "        np.array(actions),\n",
    "        np.array(rewards),\n",
    "        np.vstack(next_states),\n",
    "        np.array(dones, dtype=np.float32)\n",
    "    )"
   ]
  },
  {
   "cell_type": "markdown",
   "metadata": {},
   "source": [
    "#### **Neural Network**"
   ]
  },
  {
   "cell_type": "code",
   "execution_count": 5,
   "metadata": {},
   "outputs": [],
   "source": [
    "# Build the neural network\n",
    "def build_model(state_size, action_size):\n",
    "    model = Sequential([\n",
    "        Dense(128, activation='relu',  kernel_initializer=HeUniform(), input_shape=(state_size,)),\n",
    "        Dense(64,  kernel_initializer=HeUniform(), activation='relu'),\n",
    "        Dense(32,  kernel_initializer=HeUniform(), activation='relu'),\n",
    "        Dense(action_size, activation='linear')\n",
    "    ])\n",
    "    model.compile(optimizer=Adam(learning_rate=learning_rate, clipnorm=1.0), loss='huber')\n",
    "    return model\n"
   ]
  },
  {
   "cell_type": "code",
   "execution_count": 6,
   "metadata": {},
   "outputs": [],
   "source": [
    "def build_model(state_size, action_size):\n",
    "    inputs = Input(shape=(state_size,))\n",
    "    x = Dense(128, activation='relu')(inputs)\n",
    "    x = Dense(64, activation='relu')(x)\n",
    "    x = Dense(32, activation='relu')(x)\n",
    "    outputs = Dense(action_size, activation='linear')(x)\n",
    "    \n",
    "    model = Model(inputs=inputs, outputs=outputs)\n",
    "#    model.compile(optimizer=Adam(learning_rate=learning_rate, clipnorm=1.0), loss='mse') # to improve train stability\n",
    "    model.compile(loss='mse', optimizer=Adam(learning_rate=learning_rate))\n",
    "    return model"
   ]
  },
  {
   "cell_type": "markdown",
   "metadata": {},
   "source": [
    "#### **Support Functions**"
   ]
  },
  {
   "cell_type": "code",
   "execution_count": 7,
   "metadata": {
    "id": "bcqSPBvyw3OQ"
   },
   "outputs": [],
   "source": [
    "# Soft update function for the target network\n",
    "def soft_update(model, target_model, tau):\n",
    "    \"\"\" Soft Update using Polyak Optimization \"\"\"\n",
    "    target_weights = target_model.get_weights()\n",
    "    model_weights = model.get_weights()\n",
    "    new_weights = [\n",
    "        tau * mw + (1 - tau) * tw for mw, tw in zip(model_weights, target_weights)\n",
    "    ]\n",
    "    target_model.set_weights(new_weights)\n",
    "    \n",
    "def hard_update(model, target_model):\n",
    "    \"\"\"Hard Update: Directly copies weights from model to target_model\"\"\"\n",
    "    target_model.set_weights(model.get_weights())\n",
    "\n",
    "\n",
    "# Double DQN target calculation\n",
    "def experience_replay_with_ddqn(model, target_model, batch_size, gamma, tau, step, episode):\n",
    "    if len(replay_buffer) < batch_size:\n",
    "        return\n",
    "\n",
    "    states, actions, rewards, next_states, dones = sample_experiences(batch_size)\n",
    "\n",
    "    # Predict Q-values for next states using both networks\n",
    "    next_q_values = model.predict(next_states, verbose=0)\n",
    "    best_actions = np.argmax(next_q_values, axis=1)\n",
    "    target_q_values = target_model.predict(next_states, verbose=0)\n",
    "\n",
    "    # Update Q-values using Double DQN formula\n",
    "    targets = rewards + gamma * target_q_values[np.arange(batch_size), best_actions] * (1 - dones)\n",
    "\n",
    "    # Update main Q-network\n",
    "    q_values = model.predict(states, verbose=0)\n",
    "    q_values[np.arange(batch_size), actions] = targets\n",
    "    model.fit(states, q_values, epochs=1, verbose=0)\n",
    "\n",
    "    # Apply soft update to target network\n",
    "    if step % retrain_steps == 0:   \n",
    "        soft_update(model, target_model, tau)\n"
   ]
  },
  {
   "cell_type": "markdown",
   "metadata": {},
   "source": [
    "#### **Training Phase**"
   ]
  },
  {
   "cell_type": "code",
   "execution_count": 8,
   "metadata": {
    "colab": {
     "base_uri": "https://localhost:8080/"
    },
    "id": "MbU1uUo13Uu8",
    "outputId": "a17507bc-d5f1-4b2a-d0bc-a7ecd88a88a4"
   },
   "outputs": [
    {
     "data": {
      "text/html": [
       "<pre style=\"white-space:pre;overflow-x:auto;line-height:normal;font-family:Menlo,'DejaVu Sans Mono',consolas,'Courier New',monospace\"><span style=\"font-weight: bold\">Model: \"functional\"</span>\n",
       "</pre>\n"
      ],
      "text/plain": [
       "\u001b[1mModel: \"functional\"\u001b[0m\n"
      ]
     },
     "metadata": {},
     "output_type": "display_data"
    },
    {
     "data": {
      "text/html": [
       "<pre style=\"white-space:pre;overflow-x:auto;line-height:normal;font-family:Menlo,'DejaVu Sans Mono',consolas,'Courier New',monospace\">┏━━━━━━━━━━━━━━━━━━━━━━━━━━━━━━━━━┳━━━━━━━━━━━━━━━━━━━━━━━━┳━━━━━━━━━━━━━━━┓\n",
       "┃<span style=\"font-weight: bold\"> Layer (type)                    </span>┃<span style=\"font-weight: bold\"> Output Shape           </span>┃<span style=\"font-weight: bold\">       Param # </span>┃\n",
       "┡━━━━━━━━━━━━━━━━━━━━━━━━━━━━━━━━━╇━━━━━━━━━━━━━━━━━━━━━━━━╇━━━━━━━━━━━━━━━┩\n",
       "│ input_layer (<span style=\"color: #0087ff; text-decoration-color: #0087ff\">InputLayer</span>)        │ (<span style=\"color: #00d7ff; text-decoration-color: #00d7ff\">None</span>, <span style=\"color: #00af00; text-decoration-color: #00af00\">8</span>)              │             <span style=\"color: #00af00; text-decoration-color: #00af00\">0</span> │\n",
       "├─────────────────────────────────┼────────────────────────┼───────────────┤\n",
       "│ cast (<span style=\"color: #0087ff; text-decoration-color: #0087ff\">Cast</span>)                     │ (<span style=\"color: #00d7ff; text-decoration-color: #00d7ff\">None</span>, <span style=\"color: #00af00; text-decoration-color: #00af00\">8</span>)              │             <span style=\"color: #00af00; text-decoration-color: #00af00\">0</span> │\n",
       "├─────────────────────────────────┼────────────────────────┼───────────────┤\n",
       "│ dense (<span style=\"color: #0087ff; text-decoration-color: #0087ff\">Dense</span>)                   │ (<span style=\"color: #00d7ff; text-decoration-color: #00d7ff\">None</span>, <span style=\"color: #00af00; text-decoration-color: #00af00\">128</span>)            │         <span style=\"color: #00af00; text-decoration-color: #00af00\">1,152</span> │\n",
       "├─────────────────────────────────┼────────────────────────┼───────────────┤\n",
       "│ dense_1 (<span style=\"color: #0087ff; text-decoration-color: #0087ff\">Dense</span>)                 │ (<span style=\"color: #00d7ff; text-decoration-color: #00d7ff\">None</span>, <span style=\"color: #00af00; text-decoration-color: #00af00\">64</span>)             │         <span style=\"color: #00af00; text-decoration-color: #00af00\">8,256</span> │\n",
       "├─────────────────────────────────┼────────────────────────┼───────────────┤\n",
       "│ dense_2 (<span style=\"color: #0087ff; text-decoration-color: #0087ff\">Dense</span>)                 │ (<span style=\"color: #00d7ff; text-decoration-color: #00d7ff\">None</span>, <span style=\"color: #00af00; text-decoration-color: #00af00\">32</span>)             │         <span style=\"color: #00af00; text-decoration-color: #00af00\">2,080</span> │\n",
       "├─────────────────────────────────┼────────────────────────┼───────────────┤\n",
       "│ dense_3 (<span style=\"color: #0087ff; text-decoration-color: #0087ff\">Dense</span>)                 │ (<span style=\"color: #00d7ff; text-decoration-color: #00d7ff\">None</span>, <span style=\"color: #00af00; text-decoration-color: #00af00\">4</span>)              │           <span style=\"color: #00af00; text-decoration-color: #00af00\">132</span> │\n",
       "└─────────────────────────────────┴────────────────────────┴───────────────┘\n",
       "</pre>\n"
      ],
      "text/plain": [
       "┏━━━━━━━━━━━━━━━━━━━━━━━━━━━━━━━━━┳━━━━━━━━━━━━━━━━━━━━━━━━┳━━━━━━━━━━━━━━━┓\n",
       "┃\u001b[1m \u001b[0m\u001b[1mLayer (type)                   \u001b[0m\u001b[1m \u001b[0m┃\u001b[1m \u001b[0m\u001b[1mOutput Shape          \u001b[0m\u001b[1m \u001b[0m┃\u001b[1m \u001b[0m\u001b[1m      Param #\u001b[0m\u001b[1m \u001b[0m┃\n",
       "┡━━━━━━━━━━━━━━━━━━━━━━━━━━━━━━━━━╇━━━━━━━━━━━━━━━━━━━━━━━━╇━━━━━━━━━━━━━━━┩\n",
       "│ input_layer (\u001b[38;5;33mInputLayer\u001b[0m)        │ (\u001b[38;5;45mNone\u001b[0m, \u001b[38;5;34m8\u001b[0m)              │             \u001b[38;5;34m0\u001b[0m │\n",
       "├─────────────────────────────────┼────────────────────────┼───────────────┤\n",
       "│ cast (\u001b[38;5;33mCast\u001b[0m)                     │ (\u001b[38;5;45mNone\u001b[0m, \u001b[38;5;34m8\u001b[0m)              │             \u001b[38;5;34m0\u001b[0m │\n",
       "├─────────────────────────────────┼────────────────────────┼───────────────┤\n",
       "│ dense (\u001b[38;5;33mDense\u001b[0m)                   │ (\u001b[38;5;45mNone\u001b[0m, \u001b[38;5;34m128\u001b[0m)            │         \u001b[38;5;34m1,152\u001b[0m │\n",
       "├─────────────────────────────────┼────────────────────────┼───────────────┤\n",
       "│ dense_1 (\u001b[38;5;33mDense\u001b[0m)                 │ (\u001b[38;5;45mNone\u001b[0m, \u001b[38;5;34m64\u001b[0m)             │         \u001b[38;5;34m8,256\u001b[0m │\n",
       "├─────────────────────────────────┼────────────────────────┼───────────────┤\n",
       "│ dense_2 (\u001b[38;5;33mDense\u001b[0m)                 │ (\u001b[38;5;45mNone\u001b[0m, \u001b[38;5;34m32\u001b[0m)             │         \u001b[38;5;34m2,080\u001b[0m │\n",
       "├─────────────────────────────────┼────────────────────────┼───────────────┤\n",
       "│ dense_3 (\u001b[38;5;33mDense\u001b[0m)                 │ (\u001b[38;5;45mNone\u001b[0m, \u001b[38;5;34m4\u001b[0m)              │           \u001b[38;5;34m132\u001b[0m │\n",
       "└─────────────────────────────────┴────────────────────────┴───────────────┘\n"
      ]
     },
     "metadata": {},
     "output_type": "display_data"
    },
    {
     "data": {
      "text/html": [
       "<pre style=\"white-space:pre;overflow-x:auto;line-height:normal;font-family:Menlo,'DejaVu Sans Mono',consolas,'Courier New',monospace\"><span style=\"font-weight: bold\"> Total params: </span><span style=\"color: #00af00; text-decoration-color: #00af00\">11,620</span> (45.39 KB)\n",
       "</pre>\n"
      ],
      "text/plain": [
       "\u001b[1m Total params: \u001b[0m\u001b[38;5;34m11,620\u001b[0m (45.39 KB)\n"
      ]
     },
     "metadata": {},
     "output_type": "display_data"
    },
    {
     "data": {
      "text/html": [
       "<pre style=\"white-space:pre;overflow-x:auto;line-height:normal;font-family:Menlo,'DejaVu Sans Mono',consolas,'Courier New',monospace\"><span style=\"font-weight: bold\"> Trainable params: </span><span style=\"color: #00af00; text-decoration-color: #00af00\">11,620</span> (45.39 KB)\n",
       "</pre>\n"
      ],
      "text/plain": [
       "\u001b[1m Trainable params: \u001b[0m\u001b[38;5;34m11,620\u001b[0m (45.39 KB)\n"
      ]
     },
     "metadata": {},
     "output_type": "display_data"
    },
    {
     "data": {
      "text/html": [
       "<pre style=\"white-space:pre;overflow-x:auto;line-height:normal;font-family:Menlo,'DejaVu Sans Mono',consolas,'Courier New',monospace\"><span style=\"font-weight: bold\"> Non-trainable params: </span><span style=\"color: #00af00; text-decoration-color: #00af00\">0</span> (0.00 B)\n",
       "</pre>\n"
      ],
      "text/plain": [
       "\u001b[1m Non-trainable params: \u001b[0m\u001b[38;5;34m0\u001b[0m (0.00 B)\n"
      ]
     },
     "metadata": {},
     "output_type": "display_data"
    }
   ],
   "source": [
    "# Initialize models\n",
    "model = build_model(state_size, action_size)\n",
    "target_model = build_model(state_size, action_size)\n",
    "target_model.set_weights(model.get_weights())             # Sync target network initially\n",
    "model.summary()"
   ]
  },
  {
   "cell_type": "code",
   "execution_count": 9,
   "metadata": {
    "colab": {
     "base_uri": "https://localhost:8080/"
    },
    "id": "o3rwB3iB3VQQ",
    "outputId": "cc1c7936-2319-4969-bd1e-08b04e1d18db",
    "scrolled": false
   },
   "outputs": [
    {
     "name": "stdout",
     "output_type": "stream",
     "text": [
      "Episode:   1/1000, Reward: -280.85, Epsilon: 0.99, Rolling Avg: -280.85, Steps:  104 Terminated: True \n",
      "Episode:   2/1000, Reward: -267.39, Epsilon: 0.98, Rolling Avg: -274.12, Steps:  103 Terminated: True \n",
      "Episode:   3/1000, Reward: -234.98, Epsilon: 0.97, Rolling Avg: -261.07, Steps:   95 Terminated: True \n",
      "Episode:   4/1000, Reward: -197.47, Epsilon: 0.96, Rolling Avg: -245.17, Steps:  106 Terminated: True \n",
      "Episode:   5/1000, Reward:  -91.79, Epsilon: 0.95, Rolling Avg: -214.50, Steps:  108 Terminated: True \n",
      "Episode:   6/1000, Reward: -207.89, Epsilon: 0.94, Rolling Avg: -213.40, Steps:  134 Terminated: True \n",
      "Episode:   7/1000, Reward: -291.02, Epsilon: 0.93, Rolling Avg: -224.48, Steps:  113 Terminated: True \n",
      "Episode:   8/1000, Reward:  -57.13, Epsilon: 0.92, Rolling Avg: -203.56, Steps:   75 Terminated: True \n",
      "Episode:   9/1000, Reward:  -91.65, Epsilon: 0.91, Rolling Avg: -191.13, Steps:  114 Terminated: True \n",
      "Episode:  10/1000, Reward: -147.86, Epsilon: 0.90, Rolling Avg: -186.80, Steps:  109 Terminated: True \n",
      "Episode:  11/1000, Reward: -140.47, Epsilon: 0.90, Rolling Avg: -182.59, Steps:  127 Terminated: True \n",
      "Episode:  12/1000, Reward: -195.03, Epsilon: 0.89, Rolling Avg: -183.63, Steps:   77 Terminated: True \n",
      "Episode:  13/1000, Reward: -273.52, Epsilon: 0.88, Rolling Avg: -190.54, Steps:   85 Terminated: True \n",
      "Episode:  14/1000, Reward: -277.24, Epsilon: 0.87, Rolling Avg: -196.73, Steps:  110 Terminated: True \n",
      "Episode:  15/1000, Reward: -159.99, Epsilon: 0.86, Rolling Avg: -194.28, Steps:   79 Terminated: True \n",
      "Episode:  16/1000, Reward: -133.44, Epsilon: 0.85, Rolling Avg: -190.48, Steps:  102 Terminated: True \n",
      "Episode:  17/1000, Reward: -103.68, Epsilon: 0.84, Rolling Avg: -185.38, Steps:  124 Terminated: True \n",
      "Episode:  18/1000, Reward: -103.94, Epsilon: 0.83, Rolling Avg: -180.85, Steps:  137 Terminated: True \n",
      "Episode:  19/1000, Reward:  -80.10, Epsilon: 0.83, Rolling Avg: -175.55, Steps:  109 Terminated: True \n",
      "Episode:  20/1000, Reward:  -55.01, Epsilon: 0.82, Rolling Avg: -169.52, Steps:   75 Terminated: True \n",
      "Episode:  21/1000, Reward: -140.57, Epsilon: 0.81, Rolling Avg: -162.51, Steps:  124 Terminated: True \n",
      "Episode:  22/1000, Reward: -165.53, Epsilon: 0.80, Rolling Avg: -157.42, Steps:  104 Terminated: True \n",
      "Episode:  23/1000, Reward: -109.85, Epsilon: 0.79, Rolling Avg: -151.16, Steps:  100 Terminated: True \n",
      "Episode:  24/1000, Reward: -100.44, Epsilon: 0.79, Rolling Avg: -146.31, Steps:   78 Terminated: True \n",
      "Episode:  25/1000, Reward:  -32.88, Epsilon: 0.78, Rolling Avg: -143.36, Steps:  109 Terminated: True \n",
      "Episode:  26/1000, Reward: -262.40, Epsilon: 0.77, Rolling Avg: -146.09, Steps:  124 Terminated: True \n",
      "Episode:  27/1000, Reward: -115.97, Epsilon: 0.76, Rolling Avg: -137.34, Steps:   90 Terminated: True \n",
      "Episode:  28/1000, Reward: -107.02, Epsilon: 0.75, Rolling Avg: -139.83, Steps:   73 Terminated: True \n",
      "Episode:  29/1000, Reward: -161.69, Epsilon: 0.75, Rolling Avg: -143.33, Steps:  118 Terminated: True \n",
      "Episode:  30/1000, Reward: -163.91, Epsilon: 0.74, Rolling Avg: -144.13, Steps:  116 Terminated: True \n",
      "Episode:  31/1000, Reward:  -88.41, Epsilon: 0.73, Rolling Avg: -141.53, Steps:  108 Terminated: True \n",
      "Episode:  32/1000, Reward:  -92.40, Epsilon: 0.72, Rolling Avg: -136.40, Steps:  101 Terminated: True \n",
      "Episode:  33/1000, Reward:  -73.55, Epsilon: 0.72, Rolling Avg: -126.40, Steps:  129 Terminated: True \n",
      "Episode:  34/1000, Reward: -218.23, Epsilon: 0.71, Rolling Avg: -123.45, Steps:  168 Terminated: True \n",
      "Episode:  35/1000, Reward: -107.21, Epsilon: 0.70, Rolling Avg: -120.81, Steps:  163 Terminated: True \n",
      "Episode:  36/1000, Reward:  -58.19, Epsilon: 0.70, Rolling Avg: -117.05, Steps:  121 Terminated: True \n",
      "Episode:  37/1000, Reward:  -80.95, Epsilon: 0.69, Rolling Avg: -115.91, Steps:  136 Terminated: True \n",
      "Episode:  38/1000, Reward: -126.07, Epsilon: 0.68, Rolling Avg: -117.02, Steps:  137 Terminated: True \n",
      "Episode:  39/1000, Reward:  -46.42, Epsilon: 0.68, Rolling Avg: -115.34, Steps:  165 Terminated: True \n",
      "Episode:  40/1000, Reward:  -86.22, Epsilon: 0.67, Rolling Avg: -116.90, Steps:  107 Terminated: True \n",
      "Episode:  41/1000, Reward:  -52.40, Epsilon: 0.66, Rolling Avg: -112.49, Steps:   92 Terminated: True \n",
      "Episode:  42/1000, Reward: -111.06, Epsilon: 0.66, Rolling Avg: -109.76, Steps:   65 Terminated: True \n",
      "Episode:  43/1000, Reward:  -91.49, Epsilon: 0.65, Rolling Avg: -108.85, Steps:  186 Terminated: True \n",
      "Episode:  44/1000, Reward:  -80.84, Epsilon: 0.64, Rolling Avg: -107.86, Steps:  130 Terminated: True \n",
      "Episode:  45/1000, Reward:  -67.34, Epsilon: 0.64, Rolling Avg: -109.59, Steps:  120 Terminated: True \n",
      "Episode:  46/1000, Reward:  -75.04, Epsilon: 0.63, Rolling Avg: -100.22, Steps:  133 Terminated: True \n",
      "Episode:  47/1000, Reward:  -13.44, Epsilon: 0.62, Rolling Avg:  -95.09, Steps:  168 Terminated: True \n",
      "Episode:  48/1000, Reward: -173.61, Epsilon: 0.62, Rolling Avg:  -98.42, Steps:  156 Terminated: True \n",
      "Episode:  49/1000, Reward:  +12.48, Epsilon: 0.61, Rolling Avg:  -89.71, Steps:  211 Terminated: True \n",
      "Episode:  50/1000, Reward:  -39.62, Epsilon: 0.61, Rolling Avg:  -83.50, Steps:  105 Terminated: True \n",
      "Episode:  51/1000, Reward:  -46.11, Epsilon: 0.60, Rolling Avg:  -81.38, Steps:   85 Terminated: True \n",
      "Episode:  52/1000, Reward:  -70.51, Epsilon: 0.59, Rolling Avg:  -80.29, Steps:  143 Terminated: True \n",
      "Episode:  53/1000, Reward:   +2.50, Epsilon: 0.59, Rolling Avg:  -76.49, Steps:  150 Terminated: True \n",
      "Episode:  54/1000, Reward: -118.00, Epsilon: 0.58, Rolling Avg:  -71.48, Steps:  164 Terminated: True \n",
      "Episode:  55/1000, Reward:  -14.99, Epsilon: 0.58, Rolling Avg:  -66.87, Steps:  115 Terminated: True \n",
      "Episode:  56/1000, Reward:  -92.53, Epsilon: 0.57, Rolling Avg:  -68.58, Steps:   70 Terminated: True \n",
      "Episode:  57/1000, Reward: -109.86, Epsilon: 0.56, Rolling Avg:  -70.03, Steps:   95 Terminated: True \n",
      "Episode:  58/1000, Reward:  -16.99, Epsilon: 0.56, Rolling Avg:  -64.57, Steps:  147 Terminated: True \n",
      "Episode:  59/1000, Reward: -107.01, Epsilon: 0.55, Rolling Avg:  -67.60, Steps:  281 Terminated: True \n",
      "Episode:  60/1000, Reward:  -85.08, Epsilon: 0.55, Rolling Avg:  -67.55, Steps:  113 Terminated: True \n",
      "Episode:  61/1000, Reward:  -47.53, Epsilon: 0.54, Rolling Avg:  -67.30, Steps:  153 Terminated: True \n",
      "Episode:  62/1000, Reward:  -59.50, Epsilon: 0.54, Rolling Avg:  -64.72, Steps:  108 Terminated: True \n",
      "Episode:  63/1000, Reward:  -43.62, Epsilon: 0.53, Rolling Avg:  -62.33, Steps:  102 Terminated: True \n",
      "Episode:  64/1000, Reward:  -60.09, Epsilon: 0.53, Rolling Avg:  -61.29, Steps:  160 Terminated: True \n",
      "Episode:  65/1000, Reward:   -7.55, Epsilon: 0.52, Rolling Avg:  -58.30, Steps:  165 Terminated: True \n",
      "Episode:  66/1000, Reward:  -51.86, Epsilon: 0.52, Rolling Avg:  -57.15, Steps:  170 Terminated: True \n",
      "Episode:  67/1000, Reward:  -69.87, Epsilon: 0.51, Rolling Avg:  -59.97, Steps:  229 Terminated: True \n",
      "Episode:  68/1000, Reward:  -45.66, Epsilon: 0.50, Rolling Avg:  -53.57, Steps:  101 Terminated: True \n",
      "Episode:  69/1000, Reward:  +11.06, Epsilon: 0.50, Rolling Avg:  -53.64, Steps:  243 Terminated: True \n",
      "Episode:  70/1000, Reward:  -98.91, Epsilon: 0.49, Rolling Avg:  -56.60, Steps:  124 Terminated: True \n",
      "Episode:  71/1000, Reward:  -42.25, Epsilon: 0.49, Rolling Avg:  -56.41, Steps:  100 Terminated: True \n",
      "Episode:  72/1000, Reward:  -55.89, Epsilon: 0.48, Rolling Avg:  -55.68, Steps:  359 Terminated: True \n",
      "Episode:  73/1000, Reward:   +1.91, Epsilon: 0.48, Rolling Avg:  -55.71, Steps:  159 Terminated: True \n",
      "Episode:  74/1000, Reward:  -29.22, Epsilon: 0.48, Rolling Avg:  -51.27, Steps:  129 Terminated: True \n",
      "Episode:  75/1000, Reward: -130.86, Epsilon: 0.47, Rolling Avg:  -57.06, Steps:  834 Terminated: True \n",
      "Episode:  76/1000, Reward:  -32.78, Epsilon: 0.47, Rolling Avg:  -54.08, Steps:  136 Terminated: True \n",
      "Episode:  77/1000, Reward:  -14.44, Epsilon: 0.46, Rolling Avg:  -49.31, Steps:  176 Terminated: True \n",
      "Episode:  78/1000, Reward:  -94.31, Epsilon: 0.46, Rolling Avg:  -53.17, Steps:  598 Terminated: True \n",
      "Episode:  79/1000, Reward: -111.96, Epsilon: 0.45, Rolling Avg:  -53.42, Steps:   92 Terminated: True \n",
      "Episode:  80/1000, Reward:  -51.89, Epsilon: 0.45, Rolling Avg:  -51.76, Steps:  108 Terminated: True \n"
     ]
    },
    {
     "name": "stdout",
     "output_type": "stream",
     "text": [
      "Episode:  81/1000, Reward:  -26.15, Epsilon: 0.44, Rolling Avg:  -50.69, Steps:  452 Terminated: True \n",
      "Episode:  82/1000, Reward:  +22.16, Epsilon: 0.44, Rolling Avg:  -46.61, Steps:  142 Terminated: True \n",
      "Episode:  83/1000, Reward:  -70.26, Epsilon: 0.43, Rolling Avg:  -47.94, Steps:  522 Terminated: True \n",
      "Episode:  84/1000, Reward:  -90.32, Epsilon: 0.43, Rolling Avg:  -49.45, Steps:  212 Terminated: True \n",
      "Episode:  85/1000, Reward:  -48.05, Epsilon: 0.43, Rolling Avg:  -51.48, Steps:  156 Terminated: True \n",
      "Episode:  86/1000, Reward:  -65.73, Epsilon: 0.42, Rolling Avg:  -52.17, Steps:  116 Terminated: True \n",
      "Episode:  87/1000, Reward:  -85.06, Epsilon: 0.42, Rolling Avg:  -52.93, Steps:  134 Terminated: True \n",
      "Episode:  88/1000, Reward:  -95.79, Epsilon: 0.41, Rolling Avg:  -55.44, Steps:   98 Terminated: True \n",
      "Episode:  89/1000, Reward:  -45.42, Epsilon: 0.41, Rolling Avg:  -58.26, Steps: 1001 Terminated: False \n",
      "Episode:  90/1000, Reward: -100.96, Epsilon: 0.40, Rolling Avg:  -58.36, Steps: 1001 Terminated: False \n",
      "Episode:  91/1000, Reward: -113.48, Epsilon: 0.40, Rolling Avg:  -61.92, Steps:  143 Terminated: True \n",
      "Episode:  92/1000, Reward:  -10.95, Epsilon: 0.40, Rolling Avg:  -59.68, Steps:  157 Terminated: True \n",
      "Episode:  93/1000, Reward: -202.18, Epsilon: 0.39, Rolling Avg:  -69.88, Steps:  162 Terminated: True \n",
      "Episode:  94/1000, Reward:  -17.01, Epsilon: 0.39, Rolling Avg:  -69.27, Steps:  106 Terminated: True \n",
      "Episode:  95/1000, Reward:  -38.84, Epsilon: 0.38, Rolling Avg:  -64.67, Steps:  115 Terminated: True \n",
      "Episode:  96/1000, Reward:  -89.64, Epsilon: 0.38, Rolling Avg:  -67.51, Steps: 1001 Terminated: False \n",
      "Episode:  97/1000, Reward: -272.94, Epsilon: 0.38, Rolling Avg:  -80.44, Steps:  522 Terminated: True \n",
      "Episode:  98/1000, Reward:   +1.13, Epsilon: 0.37, Rolling Avg:  -75.67, Steps:  134 Terminated: True \n",
      "Episode:  99/1000, Reward: -325.36, Epsilon: 0.37, Rolling Avg:  -86.34, Steps:  994 Terminated: True \n",
      "Episode: 100/1000, Reward:  -56.27, Epsilon: 0.37, Rolling Avg:  -86.55, Steps:   98 Terminated: True \n",
      "Episode: 101/1000, Reward:  +18.14, Epsilon: 0.36, Rolling Avg:  -84.34, Steps:   93 Terminated: True \n",
      "Episode: 102/1000, Reward:  -80.38, Epsilon: 0.36, Rolling Avg:  -89.47, Steps:  105 Terminated: True \n",
      "Episode: 103/1000, Reward: -105.61, Epsilon: 0.36, Rolling Avg:  -91.23, Steps: 1001 Terminated: False \n",
      "Episode: 104/1000, Reward:  -86.80, Epsilon: 0.35, Rolling Avg:  -91.06, Steps: 1001 Terminated: False \n",
      "Episode: 105/1000, Reward:  +26.56, Epsilon: 0.35, Rolling Avg:  -87.33, Steps:  100 Terminated: True \n",
      "Episode: 106/1000, Reward: -205.80, Epsilon: 0.34, Rolling Avg:  -94.33, Steps:  659 Terminated: True \n",
      "Episode: 107/1000, Reward:  -34.77, Epsilon: 0.34, Rolling Avg:  -91.82, Steps: 1001 Terminated: False \n",
      "Episode: 108/1000, Reward:  -74.84, Epsilon: 0.34, Rolling Avg:  -90.77, Steps:  287 Terminated: True \n",
      "Episode: 109/1000, Reward: -102.86, Epsilon: 0.33, Rolling Avg:  -93.64, Steps: 1001 Terminated: False \n",
      "Episode: 110/1000, Reward:   +2.16, Epsilon: 0.33, Rolling Avg:  -88.49, Steps: 1001 Terminated: False \n",
      "Episode: 111/1000, Reward:  -32.74, Epsilon: 0.33, Rolling Avg:  -84.45, Steps: 1001 Terminated: False \n",
      "Episode: 112/1000, Reward:  -61.18, Epsilon: 0.32, Rolling Avg:  -86.96, Steps: 1001 Terminated: False \n",
      "Episode: 113/1000, Reward:  -30.31, Epsilon: 0.32, Rolling Avg:  -78.37, Steps: 1001 Terminated: False \n",
      "Episode: 114/1000, Reward:  -86.51, Epsilon: 0.32, Rolling Avg:  -81.84, Steps: 1001 Terminated: False \n",
      "Episode: 115/1000, Reward:  -79.59, Epsilon: 0.31, Rolling Avg:  -83.88, Steps: 1001 Terminated: False \n",
      "Episode: 116/1000, Reward:  -18.95, Epsilon: 0.31, Rolling Avg:  -80.35, Steps: 1001 Terminated: False \n",
      "Episode: 117/1000, Reward:  +24.79, Epsilon: 0.31, Rolling Avg:  -65.46, Steps: 1001 Terminated: False \n",
      "Episode: 118/1000, Reward: -356.02, Epsilon: 0.31, Rolling Avg:  -83.32, Steps:  448 Terminated: True \n",
      "Episode: 119/1000, Reward:  +20.40, Epsilon: 0.30, Rolling Avg:  -66.03, Steps: 1001 Terminated: False \n",
      "Episode: 120/1000, Reward:  +54.61, Epsilon: 0.30, Rolling Avg:  -60.49, Steps: 1001 Terminated: False \n",
      "Episode: 121/1000, Reward:  +35.22, Epsilon: 0.30, Rolling Avg:  -59.63, Steps: 1001 Terminated: False \n",
      "Episode: 122/1000, Reward:  +53.95, Epsilon: 0.29, Rolling Avg:  -52.91, Steps: 1001 Terminated: False \n",
      "Episode: 123/1000, Reward:  +18.22, Epsilon: 0.29, Rolling Avg:  -46.72, Steps:   82 Terminated: True \n",
      "Episode: 124/1000, Reward:  +61.77, Epsilon: 0.29, Rolling Avg:  -39.29, Steps: 1001 Terminated: False \n",
      "Episode: 125/1000, Reward:  +20.53, Epsilon: 0.28, Rolling Avg:  -39.60, Steps: 1001 Terminated: False \n",
      "Episode: 126/1000, Reward:  +44.38, Epsilon: 0.28, Rolling Avg:  -27.09, Steps: 1001 Terminated: False \n",
      "Episode: 127/1000, Reward:  +51.43, Epsilon: 0.28, Rolling Avg:  -22.78, Steps: 1001 Terminated: False \n",
      "Episode: 128/1000, Reward:  +83.76, Epsilon: 0.28, Rolling Avg:  -14.85, Steps: 1001 Terminated: False \n",
      "Episode: 129/1000, Reward: -265.01, Epsilon: 0.27, Rolling Avg:  -22.95, Steps:  345 Terminated: True \n",
      "Episode: 130/1000, Reward: -201.17, Epsilon: 0.27, Rolling Avg:  -33.12, Steps:  246 Terminated: True \n",
      "Episode: 131/1000, Reward:  +16.27, Epsilon: 0.27, Rolling Avg:  -30.67, Steps:   96 Terminated: True \n",
      "Episode: 132/1000, Reward: +151.79, Epsilon: 0.27, Rolling Avg:  -20.02, Steps:  675 Terminated: True \n",
      "Episode: 133/1000, Reward: +149.21, Epsilon: 0.26, Rolling Avg:  -11.05, Steps: 1001 Terminated: False \n",
      "Episode: 134/1000, Reward:  +57.03, Epsilon: 0.26, Rolling Avg:   -3.87, Steps: 1001 Terminated: False \n",
      "Episode: 135/1000, Reward:  +33.23, Epsilon: 0.26, Rolling Avg:    1.77, Steps:  156 Terminated: True \n",
      "Episode: 136/1000, Reward: +113.35, Epsilon: 0.25, Rolling Avg:    8.39, Steps: 1001 Terminated: False \n",
      "Episode: 137/1000, Reward:  +71.31, Epsilon: 0.25, Rolling Avg:   10.71, Steps: 1001 Terminated: False \n",
      "Episode: 138/1000, Reward:  +18.98, Epsilon: 0.25, Rolling Avg:   29.46, Steps: 1001 Terminated: False \n",
      "Episode: 139/1000, Reward:   -1.69, Epsilon: 0.25, Rolling Avg:   28.36, Steps:  115 Terminated: True \n",
      "Episode: 140/1000, Reward: +178.66, Epsilon: 0.24, Rolling Avg:   34.56, Steps: 1001 Terminated: False \n",
      "Episode: 141/1000, Reward: +145.83, Epsilon: 0.24, Rolling Avg:   40.09, Steps: 1001 Terminated: False \n",
      "Episode: 142/1000, Reward: +115.94, Epsilon: 0.24, Rolling Avg:   43.19, Steps: 1001 Terminated: False \n",
      "Episode: 143/1000, Reward: +137.03, Epsilon: 0.24, Rolling Avg:   49.13, Steps: 1001 Terminated: False \n",
      "Episode: 144/1000, Reward:   +8.17, Epsilon: 0.24, Rolling Avg:   46.45, Steps:  139 Terminated: True \n",
      "Episode: 145/1000, Reward: +135.29, Epsilon: 0.23, Rolling Avg:   52.19, Steps: 1001 Terminated: False \n",
      "Episode: 146/1000, Reward: +158.39, Epsilon: 0.23, Rolling Avg:   57.89, Steps:  994 Terminated: True \n",
      "Episode: 147/1000, Reward: +127.80, Epsilon: 0.23, Rolling Avg:   61.71, Steps: 1001 Terminated: False \n",
      "Episode: 148/1000, Reward: +170.58, Epsilon: 0.23, Rolling Avg:   66.05, Steps: 1001 Terminated: False \n",
      "Episode: 149/1000, Reward: +114.99, Epsilon: 0.22, Rolling Avg:   85.05, Steps: 1001 Terminated: False \n",
      "Episode: 150/1000, Reward: +135.77, Epsilon: 0.22, Rolling Avg:  101.90, Steps: 1001 Terminated: False \n",
      "Episode: 151/1000, Reward: +102.10, Epsilon: 0.22, Rolling Avg:  106.19, Steps: 1001 Terminated: False \n",
      "Episode: 152/1000, Reward: +141.58, Epsilon: 0.22, Rolling Avg:  105.68, Steps: 1001 Terminated: False \n",
      "Episode: 153/1000, Reward:  +34.88, Epsilon: 0.21, Rolling Avg:   99.96, Steps: 1001 Terminated: False \n",
      "Episode: 154/1000, Reward: +170.62, Epsilon: 0.21, Rolling Avg:  105.64, Steps: 1001 Terminated: False \n",
      "Episode: 155/1000, Reward:  +79.15, Epsilon: 0.21, Rolling Avg:  107.94, Steps: 1001 Terminated: False \n",
      "Episode: 156/1000, Reward: +118.81, Epsilon: 0.21, Rolling Avg:  108.21, Steps: 1001 Terminated: False \n",
      "Episode: 157/1000, Reward: +176.30, Epsilon: 0.21, Rolling Avg:  113.46, Steps: 1001 Terminated: False \n",
      "Episode: 158/1000, Reward: +142.46, Epsilon: 0.20, Rolling Avg:  119.63, Steps: 1001 Terminated: False \n",
      "Episode: 159/1000, Reward:  +39.71, Epsilon: 0.20, Rolling Avg:  121.70, Steps:  105 Terminated: True \n",
      "Episode: 160/1000, Reward: +147.11, Epsilon: 0.20, Rolling Avg:  120.13, Steps: 1001 Terminated: False \n"
     ]
    },
    {
     "name": "stdout",
     "output_type": "stream",
     "text": [
      "Episode: 161/1000, Reward: +122.82, Epsilon: 0.20, Rolling Avg:  118.97, Steps: 1001 Terminated: False \n",
      "Episode: 162/1000, Reward: +149.70, Epsilon: 0.20, Rolling Avg:  120.66, Steps: 1001 Terminated: False \n",
      "Episode: 163/1000, Reward: +139.03, Epsilon: 0.19, Rolling Avg:  120.76, Steps: 1001 Terminated: False \n",
      "Episode: 164/1000, Reward:  +96.72, Epsilon: 0.19, Rolling Avg:  125.19, Steps: 1001 Terminated: False \n",
      "Episode: 165/1000, Reward: +111.22, Epsilon: 0.19, Rolling Avg:  123.99, Steps: 1001 Terminated: False \n",
      "Episode: 166/1000, Reward: +216.36, Epsilon: 0.19, Rolling Avg:  126.89, Steps:  685 Terminated: True \n",
      "Episode: 167/1000, Reward:  -28.40, Epsilon: 0.19, Rolling Avg:  119.08, Steps:  142 Terminated: True \n",
      "Episode: 168/1000, Reward:  +96.37, Epsilon: 0.18, Rolling Avg:  115.37, Steps: 1001 Terminated: False \n",
      "Episode: 169/1000, Reward: +134.75, Epsilon: 0.18, Rolling Avg:  116.35, Steps: 1001 Terminated: False \n",
      "Episode: 170/1000, Reward: +271.71, Epsilon: 0.18, Rolling Avg:  123.15, Steps:  225 Terminated: True \n",
      "Episode: 171/1000, Reward: -152.42, Epsilon: 0.18, Rolling Avg:  110.42, Steps:  311 Terminated: True \n",
      "Episode: 172/1000, Reward:  +81.29, Epsilon: 0.18, Rolling Avg:  107.41, Steps: 1001 Terminated: False \n",
      "Episode: 173/1000, Reward: +265.00, Epsilon: 0.18, Rolling Avg:  118.92, Steps:  460 Terminated: True \n",
      "Episode: 174/1000, Reward: +233.72, Epsilon: 0.17, Rolling Avg:  122.07, Steps:  932 Terminated: True \n",
      "Episode: 175/1000, Reward:  +69.64, Epsilon: 0.17, Rolling Avg:  121.60, Steps: 1001 Terminated: False \n",
      "Episode: 176/1000, Reward: +124.98, Epsilon: 0.17, Rolling Avg:  121.90, Steps: 1001 Terminated: False \n",
      "Episode: 177/1000, Reward: +265.08, Epsilon: 0.17, Rolling Avg:  126.34, Steps:  966 Terminated: True \n",
      "Episode: 178/1000, Reward: +138.84, Epsilon: 0.17, Rolling Avg:  126.16, Steps: 1001 Terminated: False \n",
      "Episode: 179/1000, Reward: +144.57, Epsilon: 0.17, Rolling Avg:  131.40, Steps: 1001 Terminated: False \n",
      "Episode: 180/1000, Reward: +229.91, Epsilon: 0.16, Rolling Avg:  135.55, Steps:  823 Terminated: True \n",
      "Episode: 181/1000, Reward: +137.85, Epsilon: 0.16, Rolling Avg:  136.30, Steps: 1001 Terminated: False \n",
      "Episode: 182/1000, Reward: +127.72, Epsilon: 0.16, Rolling Avg:  135.20, Steps: 1001 Terminated: False \n",
      "Episode: 183/1000, Reward: +140.36, Epsilon: 0.16, Rolling Avg:  135.26, Steps: 1001 Terminated: False \n",
      "Episode: 184/1000, Reward: +211.46, Epsilon: 0.16, Rolling Avg:  141.00, Steps:  948 Terminated: True \n",
      "Episode: 185/1000, Reward: +244.45, Epsilon: 0.16, Rolling Avg:  147.66, Steps:  968 Terminated: True \n",
      "Episode: 186/1000, Reward:  +27.27, Epsilon: 0.15, Rolling Avg:  138.21, Steps: 1001 Terminated: False \n",
      "Episode: 187/1000, Reward: +292.57, Epsilon: 0.15, Rolling Avg:  154.26, Steps:  301 Terminated: True \n",
      "Episode: 188/1000, Reward: +184.79, Epsilon: 0.15, Rolling Avg:  158.68, Steps:  664 Terminated: True \n",
      "Episode: 189/1000, Reward: +164.95, Epsilon: 0.15, Rolling Avg:  160.19, Steps: 1001 Terminated: False \n",
      "Episode: 190/1000, Reward: +265.75, Epsilon: 0.15, Rolling Avg:  159.89, Steps:  247 Terminated: True \n",
      "Episode: 191/1000, Reward:  +56.10, Epsilon: 0.15, Rolling Avg:  170.32, Steps: 1001 Terminated: False \n",
      "Episode: 192/1000, Reward: +281.24, Epsilon: 0.15, Rolling Avg:  180.31, Steps:  979 Terminated: True \n",
      "Episode: 193/1000, Reward: +253.21, Epsilon: 0.14, Rolling Avg:  179.72, Steps:  358 Terminated: True \n",
      "Episode: 194/1000, Reward: +150.03, Epsilon: 0.14, Rolling Avg:  175.54, Steps: 1001 Terminated: False \n",
      "Episode: 195/1000, Reward: +168.85, Epsilon: 0.14, Rolling Avg:  180.50, Steps: 1001 Terminated: False \n",
      "Episode: 196/1000, Reward:  +95.75, Epsilon: 0.14, Rolling Avg:  179.04, Steps: 1001 Terminated: False \n",
      "Episode: 197/1000, Reward: +251.71, Epsilon: 0.14, Rolling Avg:  178.37, Steps:  920 Terminated: True \n",
      "Episode: 198/1000, Reward: +173.32, Epsilon: 0.14, Rolling Avg:  180.09, Steps: 1001 Terminated: False \n",
      "Episode: 199/1000, Reward: +236.30, Epsilon: 0.14, Rolling Avg:  184.68, Steps:  731 Terminated: True \n",
      "Episode: 200/1000, Reward: -213.59, Epsilon: 0.13, Rolling Avg:  162.50, Steps:  369 Terminated: True \n",
      "Episode: 201/1000, Reward:   +7.00, Epsilon: 0.13, Rolling Avg:  155.96, Steps:  161 Terminated: True \n",
      "Episode: 202/1000, Reward: +155.65, Epsilon: 0.13, Rolling Avg:  157.36, Steps: 1001 Terminated: False \n",
      "Episode: 203/1000, Reward: +242.69, Epsilon: 0.13, Rolling Avg:  162.47, Steps:  566 Terminated: True \n",
      "Episode: 204/1000, Reward: +180.42, Epsilon: 0.13, Rolling Avg:  160.92, Steps: 1001 Terminated: False \n",
      "Episode: 205/1000, Reward:  +90.41, Epsilon: 0.13, Rolling Avg:  153.22, Steps: 1001 Terminated: False \n",
      "Episode: 206/1000, Reward: +263.69, Epsilon: 0.13, Rolling Avg:  165.04, Steps:  505 Terminated: True \n",
      "Episode: 207/1000, Reward:  +56.28, Epsilon: 0.12, Rolling Avg:  153.23, Steps:  153 Terminated: True \n",
      "Episode: 208/1000, Reward: +183.71, Epsilon: 0.12, Rolling Avg:  153.17, Steps: 1001 Terminated: False \n",
      "Episode: 209/1000, Reward: +152.65, Epsilon: 0.12, Rolling Avg:  152.56, Steps: 1001 Terminated: False \n",
      "Episode: 210/1000, Reward: +245.94, Epsilon: 0.12, Rolling Avg:  151.57, Steps:  997 Terminated: True \n",
      "Episode: 211/1000, Reward: +216.33, Epsilon: 0.12, Rolling Avg:  159.58, Steps:  565 Terminated: True \n",
      "Episode: 212/1000, Reward:  -93.65, Epsilon: 0.12, Rolling Avg:  140.83, Steps:  324 Terminated: True \n",
      "Episode: 213/1000, Reward: +117.62, Epsilon: 0.12, Rolling Avg:  134.06, Steps: 1001 Terminated: False \n",
      "Episode: 214/1000, Reward: +181.08, Epsilon: 0.12, Rolling Avg:  135.61, Steps: 1001 Terminated: False \n",
      "Episode: 215/1000, Reward: +221.26, Epsilon: 0.12, Rolling Avg:  138.23, Steps:  747 Terminated: True \n",
      "Episode: 216/1000, Reward: +277.23, Epsilon: 0.11, Rolling Avg:  147.30, Steps:  484 Terminated: True \n",
      "Episode: 217/1000, Reward: -150.86, Epsilon: 0.11, Rolling Avg:  127.17, Steps:  195 Terminated: True \n",
      "Episode: 218/1000, Reward: +264.71, Epsilon: 0.11, Rolling Avg:  131.74, Steps:  460 Terminated: True \n",
      "Episode: 219/1000, Reward:   -1.80, Epsilon: 0.11, Rolling Avg:  119.84, Steps:  128 Terminated: True \n",
      "Episode: 220/1000, Reward: +278.13, Epsilon: 0.11, Rolling Avg:  144.42, Steps:  749 Terminated: True \n",
      "Episode: 221/1000, Reward: +244.64, Epsilon: 0.11, Rolling Avg:  156.31, Steps:  329 Terminated: True \n",
      "Episode: 222/1000, Reward: +241.87, Epsilon: 0.11, Rolling Avg:  160.62, Steps:  413 Terminated: True \n",
      "Episode: 223/1000, Reward: +267.41, Epsilon: 0.11, Rolling Avg:  161.85, Steps:  462 Terminated: True \n",
      "Episode: 224/1000, Reward: +244.92, Epsilon: 0.11, Rolling Avg:  165.08, Steps:  724 Terminated: True \n",
      "Episode: 225/1000, Reward: +264.05, Epsilon: 0.10, Rolling Avg:  173.76, Steps:  339 Terminated: True \n",
      "Episode: 226/1000, Reward: +215.60, Epsilon: 0.10, Rolling Avg:  171.36, Steps:  357 Terminated: True \n",
      "Episode: 227/1000, Reward: +176.19, Epsilon: 0.10, Rolling Avg:  177.35, Steps:  304 Terminated: True \n",
      "Episode: 228/1000, Reward:   -4.40, Epsilon: 0.10, Rolling Avg:  167.95, Steps:  146 Terminated: True \n",
      "Episode: 229/1000, Reward: +291.57, Epsilon: 0.10, Rolling Avg:  174.89, Steps:  526 Terminated: True \n",
      "Episode: 230/1000, Reward: +283.98, Epsilon: 0.10, Rolling Avg:  176.79, Steps:  354 Terminated: True \n",
      "Episode: 231/1000, Reward: +179.87, Epsilon: 0.10, Rolling Avg:  174.97, Steps:  318 Terminated: True \n",
      "Episode: 232/1000, Reward:  -14.67, Epsilon: 0.10, Rolling Avg:  178.92, Steps:  208 Terminated: True \n",
      "Episode: 233/1000, Reward: +249.33, Epsilon: 0.10, Rolling Avg:  185.51, Steps:  430 Terminated: True \n",
      "Episode: 234/1000, Reward: +269.74, Epsilon: 0.10, Rolling Avg:  189.94, Steps:  315 Terminated: True \n",
      "Episode: 235/1000, Reward: +199.24, Epsilon: 0.09, Rolling Avg:  188.84, Steps:  671 Terminated: True \n",
      "Episode: 236/1000, Reward: +123.98, Epsilon: 0.09, Rolling Avg:  181.17, Steps: 1001 Terminated: False \n",
      "Episode: 237/1000, Reward:  -11.68, Epsilon: 0.09, Rolling Avg:  188.13, Steps:  127 Terminated: True \n",
      "Episode: 238/1000, Reward: +244.93, Epsilon: 0.09, Rolling Avg:  187.14, Steps:  606 Terminated: True \n",
      "Episode: 239/1000, Reward: +270.15, Epsilon: 0.09, Rolling Avg:  200.74, Steps:  378 Terminated: True \n",
      "Environment solved in 239 episodes!\n",
      "Training completed in 821.68 minutes\n"
     ]
    }
   ],
   "source": [
    "# Training loop\n",
    "epsilon = epsilon_start\n",
    "episode_rewards = []\n",
    "rolling_avg_rewards = []\n",
    "\n",
    "start_time = time.time()\n",
    "\n",
    "for episode in range(num_episodes):\n",
    "    \n",
    "    state, _ = env.reset()\n",
    "    state  = np.reshape(state, [1, state_size])\n",
    "    total_reward = 0\n",
    "    done = False\n",
    "    terminated = False\n",
    "    truncated = False\n",
    "    step = 0\n",
    "    while True:\n",
    "        \n",
    "        # Epsilon-greedy policy\n",
    "        if np.random.rand() <= epsilon:\n",
    "            action = np.random.randint(action_size)             # Explore\n",
    "        else:\n",
    "            action_vals = model.predict(state, verbose=0)\n",
    "            action = np.argmax(action_vals[0])                  # Exploit\n",
    "\n",
    "        # Perform action\n",
    "        next_state, reward, terminated, truncated, _ = env.step(action)\n",
    "        done = terminated \n",
    "        next_state = np.reshape(next_state, [1, state_size])\n",
    "              \n",
    "        total_reward += reward\n",
    "\n",
    "        # Store experience\n",
    "        store_experience(state, action, reward, next_state, done)\n",
    "\n",
    "        # Update state\n",
    "        state = next_state\n",
    "\n",
    "        # Train using experience replay\n",
    "        experience_replay_with_ddqn(model, target_model, batch_size, gamma, tau, step, episode)\n",
    "        step = step + 1\n",
    "        \n",
    "        if done:\n",
    "            break\n",
    "        if step > 1000:\n",
    "            break\n",
    "\n",
    "    # Decay epsilon\n",
    "    epsilon = max(epsilon_min, epsilon * epsilon_decay)\n",
    "\n",
    "    # Record reward\n",
    "    episode_rewards.append(total_reward)\n",
    "    rolling_avg = np.mean(episode_rewards[-ROLLING_WINDOW:])\n",
    "    rolling_avg_rewards.append(rolling_avg)\n",
    "\n",
    "    # Print progress\n",
    "    print(f\"Episode: {episode+1:3}/{num_episodes}, Reward: {total_reward:+7.2f}, \"\n",
    "                  f\"Epsilon: {epsilon:.2f}, Rolling Avg: {rolling_avg:7.2f}, Steps: {step:4} Terminated: {done} \")\n",
    "\n",
    "    # Check if environment is solved\n",
    "    if rolling_avg >= solved_threshold:\n",
    "        print(f\"Environment solved in {episode+1} episodes!\")\n",
    "        model.save(\"lunarlander_ddqn_model1.keras\")\n",
    "        break\n",
    "\n",
    "end_time = time.time()\n",
    "print(f\"Training completed in {(end_time - start_time)/60:.2f} minutes\")"
   ]
  },
  {
   "cell_type": "markdown",
   "metadata": {},
   "source": [
    "#### **Learning Plot and Episode Rewards**"
   ]
  },
  {
   "cell_type": "code",
   "execution_count": 16,
   "metadata": {
    "id": "wgSoBzkVhmq3"
   },
   "outputs": [
    {
     "data": {
      "image/png": "[encoded data removed]",
      "text/plain": [
       "<Figure size 1000x600 with 1 Axes>"
      ]
     },
     "metadata": {},
     "output_type": "display_data"
    }
   ],
   "source": [
    "# Plot rewards with rolling average\n",
    "plt.figure(figsize=(10, 6))\n",
    "plt.plot(episode_rewards, label='Rewards', color='blue')\n",
    "plt.plot(rolling_avg_rewards, label='Rolling Avg (Last '+str(ROLLING_WINDOW)+' Episodes)', color='orange')\n",
    "plt.axhline(y=solved_threshold, color='red', linestyle='--', label='Solved Threshold')\n",
    "plt.title('Double DQN Training Performance LUNAR LANDER')\n",
    "plt.xlabel('Episodes')\n",
    "plt.ylabel('Rewards')\n",
    "plt.legend()\n",
    "plt.grid()\n",
    "plt.show()"
   ]
  },
  {
   "cell_type": "markdown",
   "metadata": {},
   "source": [
    "#### **Test Results**"
   ]
  },
  {
   "cell_type": "code",
   "execution_count": 11,
   "metadata": {
    "id": "Na_rWzOWriHF"
   },
   "outputs": [
    {
     "name": "stdout",
     "output_type": "stream",
     "text": [
      "Test Episode: 1/50, Reward: 261.37, Steps: 184\n",
      "Test Episode: 2/50, Reward: 157.48, Steps: 518\n",
      "Test Episode: 3/50, Reward: 261.99, Steps: 368\n",
      "Test Episode: 4/50, Reward: 240.03, Steps: 190\n",
      "Test Episode: 5/50, Reward: 313.06, Steps: 208\n",
      "Test Episode: 6/50, Reward: 258.22, Steps: 218\n",
      "Test Episode: 7/50, Reward: 296.35, Steps: 241\n",
      "Test Episode: 8/50, Reward: 274.64, Steps: 220\n",
      "Test Episode: 9/50, Reward: 263.89, Steps: 200\n",
      "Test Episode: 10/50, Reward: 271.10, Steps: 194\n",
      "Testing completed in 3.71 minutes\n"
     ]
    }
   ],
   "source": [
    "# Testing for 10 episodes\n",
    "start_time = time.time()\n",
    "\n",
    "for e_test in range(10):  # Run 10 test episodes\n",
    "    state, _ = env.reset()\n",
    "    state = np.reshape(state, [1, state_size])\n",
    "    total_reward = 0\n",
    "    \n",
    "    steps = 0\n",
    "    while True:\n",
    "        # Use the trained model for testing\n",
    "        action_vals = model.predict(state, verbose=0)  # Predict action values\n",
    "        action = np.argmax(action_vals[0])  # Choose the action with the highest Q-value\n",
    "\n",
    "        next_state, reward, done, _, _ = env.step(action)\n",
    "        next_state = np.reshape(next_state, [1, state_size])\n",
    "        total_reward += reward\n",
    "        state = next_state\n",
    "        steps = steps + 1\n",
    "\n",
    "        if done:\n",
    "            print(f\"Test Episode: {e_test + 1}/50, Reward: {total_reward:.2f}, Steps: {steps:3}\")\n",
    "            break\n",
    "\n",
    "end_time = time.time()\n",
    "testing_duration = (end_time - start_time) / 60  # Convert to minutes\n",
    "print(f\"Testing completed in {testing_duration:.2f} minutes\")\n"
   ]
  },
  {
   "cell_type": "code",
   "execution_count": 17,
   "metadata": {
    "id": "MfQ5pxsxhmtp"
   },
   "outputs": [
    {
     "name": "stdout",
     "output_type": "stream",
     "text": [
      "Rendered Test Episode Reward: 290.56\n",
      "Saved GIF to: ./LUNARLANDER_DDQN.gif\n"
     ]
    }
   ],
   "source": [
    "# Test the trained agent with video rendering\n",
    "# This code is very convenient if you are using colab\n",
    "env = gym.make('LunarLander-v3', render_mode='rgb_array')  # Enable RGB rendering\n",
    "frames = []  # Store frames for visualization\n",
    "\n",
    "# Render a single test episode\n",
    "state, _ = env.reset()\n",
    "state = np.reshape(state, [1, state_size])\n",
    "tot_rewards = 0\n",
    "\n",
    "while True:\n",
    "    # Use the trained model for action\n",
    "    action_vals = model.predict(state, verbose=0)  # Predict action values\n",
    "    action = np.argmax(action_vals[0])  # Choose the action with the highest Q-value\n",
    "\n",
    "    next_state, reward, done, _, _ = env.step(action)\n",
    "    frames.append(env.render())  # Save frame for rendering later\n",
    "    next_state = np.reshape(next_state, [1, state_size])\n",
    "    tot_rewards += reward\n",
    "    state = next_state\n",
    "\n",
    "    if done:\n",
    "        print(f\"Rendered Test Episode Reward: {tot_rewards:.2f}\")\n",
    "        break\n",
    "\n",
    "env.close()\n",
    "\n",
    "# Save the rendered episode as a GIF\n",
    "def save_frames_as_gif(frames, path='./', filename='lunarlander_ddqn1.gif'):\n",
    "    images = [Image.fromarray(frame) for frame in frames]\n",
    "    gif_path = os.path.join(path, filename)\n",
    "    images[0].save(gif_path, save_all=True, append_images=images[1:], duration=50, loop=0)\n",
    "    print(f\"Saved GIF to: {gif_path}\")\n",
    "\n",
    "save_frames_as_gif(frames, filename=\"LUNARLANDER_DDQN.gif\")\n"
   ]
  },
  {
   "cell_type": "code",
   "execution_count": 13,
   "metadata": {
    "id": "-YszwSDVhmwP"
   },
   "outputs": [
    {
     "name": "stdout",
     "output_type": "stream",
     "text": [
      "-----\n",
      "PIL                 11.0.0\n",
      "gymnasium           1.0.0\n",
      "keras               3.6.0\n",
      "matplotlib          3.9.2\n",
      "numpy               1.26.4\n",
      "session_info        1.0.0\n",
      "tensorflow          2.17.1\n",
      "-----\n",
      "IPython             8.28.0\n",
      "jupyter_client      8.6.3\n",
      "jupyter_core        5.7.2\n",
      "-----\n",
      "Python 3.12.3 (main, Jan 17 2025, 18:03:48) [GCC 13.3.0]\n",
      "Linux-5.15.167.4-microsoft-standard-WSL2-x86_64-with-glibc2.39\n",
      "-----\n",
      "Session information updated at 2025-02-02 01:25\n"
     ]
    }
   ],
   "source": [
    "import session_info\n",
    "session_info.show(html=False)"
   ]
  }
 ],
 "metadata": {
  "accelerator": "GPU",
  "colab": {
   "gpuType": "L4",
   "machine_shape": "hm",
   "provenance": []
  },
  "kernelspec": {
   "display_name": "DL-Keras",
   "language": "python",
   "name": "dl-keras"
  },
  "language_info": {
   "codemirror_mode": {
    "name": "ipython",
    "version": 3
   },
   "file_extension": ".py",
   "mimetype": "text/x-python",
   "name": "python",
   "nbconvert_exporter": "python",
   "pygments_lexer": "ipython3",
   "version": "3.12.3"
  }
 },
 "nbformat": 4,
 "nbformat_minor": 1
}
