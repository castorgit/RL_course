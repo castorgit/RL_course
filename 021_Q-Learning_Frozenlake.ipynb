{
 "cells": [
  {
   "cell_type": "code",
   "execution_count": 1,
   "id": "0e844a6d",
   "metadata": {},
   "outputs": [],
   "source": [
    "# Q-Learning in FrozenLake"
   ]
  },
  {
   "cell_type": "code",
   "execution_count": 2,
   "id": "fb398d01",
   "metadata": {},
   "outputs": [],
   "source": [
    "import numpy as np\n",
    "import gymnasium as gym\n",
    "import session_info"
   ]
  },
  {
   "cell_type": "code",
   "execution_count": 3,
   "id": "4e8cfd5d",
   "metadata": {},
   "outputs": [],
   "source": [
    "# Q-Learning parameters\n",
    "alpha = 0.1  # Learning rate\n",
    "gamma = 0.99  # Discount factor\n",
    "epsilon = 0.9  # Epsilon-greedy policy\n",
    "episodes = 1000  # Number of episodes"
   ]
  },
  {
   "cell_type": "code",
   "execution_count": 4,
   "id": "8ddb7b91",
   "metadata": {},
   "outputs": [
    {
     "name": "stdout",
     "output_type": "stream",
     "text": [
      "Success rate: 100.00%\n",
      "\n",
      "Learned Q-table:\n",
      "\n",
      "[[0.82691906 0.84471485 0.80276785 0.82890546]\n",
      " [0.81970979 0.         0.70974477 0.78730084]\n",
      " [0.72447633 0.76411534 0.28887588 0.61895032]\n",
      " [0.45800571 0.         0.20210608 0.21228434]\n",
      " [0.83759006 0.85761453 0.         0.81796271]\n",
      " [0.         0.         0.         0.        ]\n",
      " [0.         0.8404308  0.         0.41975879]\n",
      " [0.         0.         0.         0.        ]\n",
      " [0.81230557 0.         0.87616919 0.7973975 ]\n",
      " [0.73222944 0.90145009 0.85219022 0.        ]\n",
      " [0.63868158 0.938978   0.         0.56966409]\n",
      " [0.         0.         0.         0.        ]\n",
      " [0.         0.         0.         0.        ]\n",
      " [0.         0.8188496  0.93344471 0.73714211]\n",
      " [0.7165566  0.79828861 0.98669721 0.73396691]\n",
      " [0.         0.         0.         0.        ]]\n"
     ]
    }
   ],
   "source": [
    "# Initialize the environment\n",
    "env = gym.make('FrozenLake-v1', map_name=\"4x4\", is_slippery=False)\n",
    "\n",
    "# Initialize Q-table\n",
    "Q = np.zeros((env.observation_space.n, env.action_space.n))\n",
    "\n",
    "def choose_action(state):\n",
    "    if np.random.uniform(0, 1) < epsilon:\n",
    "        return env.action_space.sample()  # Explore\n",
    "    else:\n",
    "        return np.argmax(Q[state, :])  # Exploit\n",
    "\n",
    "# Q-Learning algorithm - Commens changes from SARSA example\n",
    "for episode in range(episodes):\n",
    "    state, _ = env.reset()\n",
    "    done = False\n",
    "    while not done:\n",
    "        action = choose_action(state)  # Action selection moved here for Q-learning\n",
    "        \n",
    "        next_state, reward, done, _, _ = env.step(action)\n",
    "        \n",
    "        # Q-learning update\n",
    "        # The key difference is using max Q-value of next state instead of Q-value of next action\n",
    "        Q[state, action] += alpha * (reward + gamma * np.max(Q[next_state, :]) - Q[state, action])\n",
    "        \n",
    "        state = next_state\n",
    "        # Removed: action = next_action (Q-learning is off-policy, so we don't need to track the next action)\n",
    "\n",
    "\n",
    "\n",
    "# Test the learned policy\n",
    "def test_policy(n_episodes=100):\n",
    "    successes = 0\n",
    "    for _ in range(n_episodes):\n",
    "        state, _ = env.reset()\n",
    "        done = False\n",
    "        while not done:\n",
    "            action = np.argmax(Q[state, :])\n",
    "            state, reward, done, _ , _ = env.step(action)\n",
    "            if reward == 1:\n",
    "                successes += 1\n",
    "    return successes / n_episodes\n",
    "\n",
    "success_rate = test_policy()\n",
    "print(f\"Success rate: {success_rate:.2%}\")\n",
    "\n",
    "# Display the learned Q-table\n",
    "print(\"\\nLearned Q-table:\")\n",
    "print()\n",
    "print(Q)\n",
    "\n"
   ]
  },
  {
   "cell_type": "code",
   "execution_count": 5,
   "id": "2268eed1",
   "metadata": {},
   "outputs": [
    {
     "name": "stdout",
     "output_type": "stream",
     "text": [
      "Learned Policy:\n",
      "===============\n",
      "\n",
      "S ← ↓ ← \n",
      "↓ H ↓ H \n",
      "→ ↓ ↓ H \n",
      "H → → G \n",
      "\n",
      "Value Function:\n",
      "===================\n",
      "0.84 0.82 0.76 0.46 \n",
      "0.86 0.00 0.84 0.00 \n",
      "0.88 0.90 0.94 0.00 \n",
      "0.00 0.93 0.99 0.00 \n",
      "\n",
      "Total reward: 1.0\n"
     ]
    }
   ],
   "source": [
    "# Testing the results\n",
    "\n",
    "# Print learned policy\n",
    "print(\"Learned Policy:\")\n",
    "print(\"===============\")\n",
    "print()\n",
    "policy = np.argmax(Q, axis=1)\n",
    "policy_symbols = ['←', '↓', '→', '↑', 'S', 'G', 'H']  # Up, Right, Down, Left\n",
    "\n",
    "# Mark special positions\n",
    "desc = env.unwrapped.desc\n",
    "for i in range(4):\n",
    "    for j in range(4):\n",
    "        if desc[i][j] == b'H':\n",
    "            policy[i*4+j%4] = 6\n",
    "        elif desc[i][j] == b'G':\n",
    "            policy[i*4+j%4] = 5\n",
    "        elif desc[i][j] == b'S':\n",
    "            policy[i*4+j%4] = 4\n",
    "\n",
    "for i in range(4):\n",
    "    for j in range(4):\n",
    "        print(policy_symbols[policy[i*4 + j]], end=' ')\n",
    "    print()\n",
    "  \n",
    "    \n",
    "\n",
    "# Print value function\n",
    "print(\"\\nValue Function:\")\n",
    "print(\"===================\")\n",
    "V = np.max(Q, axis=1)\n",
    "for i in range(4):\n",
    "    for j in range(4):\n",
    "        print(f\"{V[i*4 + j]:.2f}\", end=' ')\n",
    "    print()\n",
    "\n",
    "\n",
    "# Test the learned policy\n",
    "env = gym.make('FrozenLake-v1', is_slippery=False, render_mode='human')\n",
    "state, _ = env.reset()\n",
    "state = int(state)\n",
    "done = False\n",
    "total_reward = 0\n",
    "\n",
    "while not done:\n",
    "    action = np.argmax(Q[state, :])\n",
    "    state, reward, terminated, truncated, _ = env.step(action)\n",
    "    state = int(state)\n",
    "    done = terminated or truncated\n",
    "    total_reward += reward\n",
    "    env.render()\n",
    "\n",
    "print(f\"\\nTotal reward: {total_reward}\")"
   ]
  },
  {
   "cell_type": "code",
   "execution_count": 6,
   "id": "2897d58e",
   "metadata": {},
   "outputs": [
    {
     "name": "stdout",
     "output_type": "stream",
     "text": [
      "-----\n",
      "gymnasium           0.29.1\n",
      "numpy               1.26.4\n",
      "session_info        1.0.0\n",
      "-----\n",
      "IPython             8.26.0\n",
      "jupyter_client      8.6.2\n",
      "jupyter_core        5.7.2\n",
      "-----\n",
      "Python 3.12.3 (main, Sep 11 2024, 14:17:37) [GCC 13.2.0]\n",
      "Linux-5.15.153.1-microsoft-standard-WSL2-x86_64-with-glibc2.39\n",
      "-----\n",
      "Session information updated at 2024-09-19 11:57\n"
     ]
    }
   ],
   "source": [
    "session_info.show(html=False)"
   ]
  }
 ],
 "metadata": {
  "kernelspec": {
   "display_name": "rl",
   "language": "python",
   "name": "rl"
  },
  "language_info": {
   "codemirror_mode": {
    "name": "ipython",
    "version": 3
   },
   "file_extension": ".py",
   "mimetype": "text/x-python",
   "name": "python",
   "nbconvert_exporter": "python",
   "pygments_lexer": "ipython3",
   "version": "3.12.3"
  }
 },
 "nbformat": 4,
 "nbformat_minor": 5
}
