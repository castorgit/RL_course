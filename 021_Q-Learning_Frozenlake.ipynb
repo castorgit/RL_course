{
 "cells": [
  {
   "cell_type": "code",
   "execution_count": 1,
   "id": "0e844a6d",
   "metadata": {},
   "outputs": [],
   "source": [
    "# Q-Learning in FrozenLake"
   ]
  },
  {
   "cell_type": "code",
   "execution_count": 2,
   "id": "fb398d01",
   "metadata": {},
   "outputs": [],
   "source": [
    "import numpy as np\n",
    "import gymnasium as gym\n",
    "import session_info"
   ]
  },
  {
   "cell_type": "code",
   "execution_count": 3,
   "id": "4e8cfd5d",
   "metadata": {},
   "outputs": [],
   "source": [
    "# Q-Learning parameters\n",
    "alpha = 0.1  # Learning rate\n",
    "gamma = 0.99  # Discount factor\n",
    "epsilon = 0.9  # Epsilon-greedy policy\n",
    "episodes = 1000  # Number of episodes"
   ]
  },
  {
   "cell_type": "code",
   "execution_count": 4,
   "id": "2f6c4982",
   "metadata": {},
   "outputs": [],
   "source": [
    "# Initialize the environment\n",
    "env = gym.make('FrozenLake-v1', map_name=\"4x4\", is_slippery=False)\n",
    "\n",
    "# Initialize Q-table\n",
    "Q = np.zeros((env.observation_space.n, env.action_space.n))\n",
    "\n",
    "def choose_action(state):\n",
    "    if np.random.uniform(0, 1) < epsilon:\n",
    "        return env.action_space.sample()  # Explore\n",
    "    else:\n",
    "        return np.argmax(Q[state, :])  # Exploit"
   ]
  },
  {
   "cell_type": "code",
   "execution_count": 5,
   "id": "8ddb7b91",
   "metadata": {},
   "outputs": [],
   "source": [
    "# Q-Learning algorithm - Commens changes from SARSA example\n",
    "for episode in range(episodes):\n",
    "    state, _ = env.reset()\n",
    "    done = False\n",
    "    while not done:\n",
    "        action = choose_action(state)  # Action selection moved here for Q-learning\n",
    "        \n",
    "        next_state, reward, done, _, _ = env.step(action)\n",
    "        \n",
    "        # Q-learning update\n",
    "        # The key difference is using max Q-value of next state instead of Q-value of next action\n",
    "        Q[state, action] += alpha * (reward + gamma * np.max(Q[next_state, :]) - Q[state, action])\n",
    "        \n",
    "        state = next_state\n",
    "        # Removed: action = next_action (Q-learning is off-policy, so we don't need to track the next action)"
   ]
  },
  {
   "cell_type": "code",
   "execution_count": 6,
   "id": "cc9644a2",
   "metadata": {},
   "outputs": [
    {
     "name": "stdout",
     "output_type": "stream",
     "text": [
      "Success rate: 100.00%\n",
      "\n",
      "Learned Q-table:\n",
      "\n",
      "[[0.86110453 0.88150032 0.83803281 0.86504857]\n",
      " [0.8532845  0.         0.78924798 0.82592581]\n",
      " [0.80517106 0.8214873  0.68447934 0.74719526]\n",
      " [0.74417055 0.         0.62724198 0.60213811]\n",
      " [0.86952671 0.89469847 0.         0.85568931]\n",
      " [0.         0.         0.         0.        ]\n",
      " [0.         0.87485126 0.         0.57207764]\n",
      " [0.         0.         0.         0.        ]\n",
      " [0.88138096 0.         0.91284037 0.85175735]\n",
      " [0.79181551 0.87003423 0.93695088 0.        ]\n",
      " [0.77411446 0.96276636 0.         0.66104642]\n",
      " [0.         0.         0.         0.        ]\n",
      " [0.         0.         0.         0.        ]\n",
      " [0.         0.77725363 0.92192218 0.76750054]\n",
      " [0.71202498 0.88829633 0.99030226 0.82088922]\n",
      " [0.         0.         0.         0.        ]]\n"
     ]
    }
   ],
   "source": [
    "# Test the learned policy\n",
    "def test_policy(n_episodes=100):\n",
    "    successes = 0\n",
    "    for _ in range(n_episodes):\n",
    "        state, _ = env.reset()\n",
    "        done = False\n",
    "        while not done:\n",
    "            action = np.argmax(Q[state, :])\n",
    "            state, reward, done, _ , _ = env.step(action)\n",
    "            if reward == 1:\n",
    "                successes += 1\n",
    "    return successes / n_episodes\n",
    "\n",
    "success_rate = test_policy()\n",
    "print(f\"Success rate: {success_rate:.2%}\")\n",
    "\n",
    "# Display the learned Q-table\n",
    "print(\"\\nLearned Q-table:\")\n",
    "print()\n",
    "print(Q)\n"
   ]
  },
  {
   "cell_type": "code",
   "execution_count": 7,
   "id": "2268eed1",
   "metadata": {},
   "outputs": [
    {
     "name": "stdout",
     "output_type": "stream",
     "text": [
      "Learned Policy:\n",
      "===============\n",
      "\n",
      "S ← ↓ ← \n",
      "↓ H ↓ H \n",
      "→ → ↓ H \n",
      "H → → G \n",
      "\n",
      "Value Function:\n",
      "===================\n",
      "0.88 0.85 0.82 0.74 \n",
      "0.89 0.00 0.87 0.00 \n",
      "0.91 0.94 0.96 0.00 \n",
      "0.00 0.92 0.99 0.00 \n",
      "\n",
      "Total reward: 1.0\n"
     ]
    }
   ],
   "source": [
    "# Testing the results\n",
    "\n",
    "# Print learned policy\n",
    "print(\"Learned Policy:\")\n",
    "print(\"===============\")\n",
    "print()\n",
    "policy = np.argmax(Q, axis=1)\n",
    "policy_symbols = ['←', '↓', '→', '↑', 'S', 'G', 'H']  # Up, Right, Down, Left\n",
    "\n",
    "# Mark special positions\n",
    "desc = env.unwrapped.desc\n",
    "for i in range(4):\n",
    "    for j in range(4):\n",
    "        if desc[i][j] == b'H':\n",
    "            policy[i*4+j%4] = 6\n",
    "        elif desc[i][j] == b'G':\n",
    "            policy[i*4+j%4] = 5\n",
    "        elif desc[i][j] == b'S':\n",
    "            policy[i*4+j%4] = 4\n",
    "\n",
    "for i in range(4):\n",
    "    for j in range(4):\n",
    "        print(policy_symbols[policy[i*4 + j]], end=' ')\n",
    "    print()\n",
    "  \n",
    "    \n",
    "\n",
    "# Print value function\n",
    "print(\"\\nValue Function:\")\n",
    "print(\"===================\")\n",
    "V = np.max(Q, axis=1)\n",
    "for i in range(4):\n",
    "    for j in range(4):\n",
    "        print(f\"{V[i*4 + j]:.2f}\", end=' ')\n",
    "    print()\n",
    "\n",
    "\n",
    "# Test the learned policy\n",
    "env = gym.make('FrozenLake-v1', is_slippery=False, render_mode='human')\n",
    "state, _ = env.reset()\n",
    "state = int(state)\n",
    "done = False\n",
    "total_reward = 0\n",
    "\n",
    "while not done:\n",
    "    action = np.argmax(Q[state, :])\n",
    "    state, reward, terminated, truncated, _ = env.step(action)\n",
    "    state = int(state)\n",
    "    done = terminated or truncated\n",
    "    total_reward += reward\n",
    "    env.render()\n",
    "\n",
    "print(f\"\\nTotal reward: {total_reward}\")"
   ]
  },
  {
   "cell_type": "code",
   "execution_count": 8,
   "id": "2897d58e",
   "metadata": {},
   "outputs": [
    {
     "name": "stdout",
     "output_type": "stream",
     "text": [
      "-----\n",
      "gymnasium           0.29.1\n",
      "numpy               1.26.4\n",
      "session_info        1.0.0\n",
      "-----\n",
      "IPython             8.26.0\n",
      "jupyter_client      8.6.2\n",
      "jupyter_core        5.7.2\n",
      "-----\n",
      "Python 3.12.3 (main, Sep 11 2024, 14:17:37) [GCC 13.2.0]\n",
      "Linux-5.15.153.1-microsoft-standard-WSL2-x86_64-with-glibc2.39\n",
      "-----\n",
      "Session information updated at 2024-09-19 16:50\n"
     ]
    }
   ],
   "source": [
    "session_info.show(html=False)"
   ]
  }
 ],
 "metadata": {
  "kernelspec": {
   "display_name": "rl",
   "language": "python",
   "name": "rl"
  },
  "language_info": {
   "codemirror_mode": {
    "name": "ipython",
    "version": 3
   },
   "file_extension": ".py",
   "mimetype": "text/x-python",
   "name": "python",
   "nbconvert_exporter": "python",
   "pygments_lexer": "ipython3",
   "version": "3.12.3"
  }
 },
 "nbformat": 4,
 "nbformat_minor": 5
}
