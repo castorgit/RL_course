{
 "cells": [
  {
   "cell_type": "markdown",
   "id": "bdeb21ba",
   "metadata": {},
   "source": [
    "#### **Q-Learning on the Frozenlake environment**\n",
    "\n",
    "It uses the standard 4x4 map. Would you dare to try it with the 8x8 map?"
   ]
  },
  {
   "cell_type": "code",
   "execution_count": 1,
   "id": "fb398d01",
   "metadata": {},
   "outputs": [],
   "source": [
    "import numpy as np\n",
    "import gymnasium as gym\n",
    "import session_info"
   ]
  },
  {
   "cell_type": "code",
   "execution_count": 2,
   "id": "4e8cfd5d",
   "metadata": {},
   "outputs": [],
   "source": [
    "# Q-Learning parameters\n",
    "alpha = 0.1  # Learning rate\n",
    "gamma = 0.99  # Discount factor\n",
    "max_steps = 1000\n",
    "\n",
    "epsilon = 0.9  # Epsilon-greedy policy\n",
    "epsilon_decay_rate = 0.00001\n",
    "episodes = 1000  # Number of episodes"
   ]
  },
  {
   "cell_type": "code",
   "execution_count": 3,
   "id": "047a9e89",
   "metadata": {},
   "outputs": [],
   "source": [
    "def epsilon_greedy_policy(state, epsilon):  # Explotaition vs Exploration\n",
    "    if np.random.random() < epsilon:\n",
    "        return env.action_space.sample()    # explore\n",
    "    else:\n",
    "        return np.argmax(Q[state])          # exploit"
   ]
  },
  {
   "cell_type": "code",
   "execution_count": 4,
   "id": "2f6c4982",
   "metadata": {},
   "outputs": [],
   "source": [
    "# Initialize the environment\n",
    "env = gym.make('FrozenLake-v1', map_name=\"4x4\", is_slippery=False)\n",
    "\n",
    "# Initialize Q-table\n",
    "Q = np.zeros((env.observation_space.n, env.action_space.n))\n",
    "\n"
   ]
  },
  {
   "cell_type": "code",
   "execution_count": 6,
   "id": "8ddb7b91",
   "metadata": {},
   "outputs": [],
   "source": [
    "# Q-Learning algorithm - Commens changes from SARSA example\n",
    "for episode in range(episodes):\n",
    "    state, _ = env.reset()\n",
    "    done = False\n",
    "    for step in range(max_steps):\n",
    "        \n",
    "        action = epsilon_greedy_policy(state, epsilon)\n",
    "        next_state, reward, done, _, _ = env.step(action)\n",
    "        \n",
    "        # Q-learning update\n",
    "        # The key difference is using max Q-value of next state instead of Q-value of next action\n",
    "        Q[state, action] += alpha * (reward + gamma * np.max(Q[next_state, :]) - Q[state, action])\n",
    "        \n",
    "        if done:\n",
    "            break\n",
    "        state = next_state\n",
    "        epsilon = np.exp(-epsilon_decay_rate * episode)\n",
    "        # Removed: action = next_action (Q-learning is off-policy, so we don't need to track the next action)"
   ]
  },
  {
   "cell_type": "code",
   "execution_count": 7,
   "id": "cc9644a2",
   "metadata": {},
   "outputs": [
    {
     "name": "stdout",
     "output_type": "stream",
     "text": [
      "Success rate: 100.00%\n",
      "\n",
      "Learned Q-table:\n",
      "[  ← ↓ → ↑  ]\n",
      "\n",
      "[[0.26905916 0.28255367 0.2401106  0.26766058]\n",
      " [0.25196846 0.         0.22118874 0.21359538]\n",
      " [0.19911552 0.24045566 0.13940258 0.21053942]\n",
      " [0.17687729 0.         0.12428172 0.13050084]\n",
      " [0.26460905 0.29633447 0.         0.24934925]\n",
      " [0.         0.         0.         0.        ]\n",
      " [0.         0.27705892 0.         0.16447255]\n",
      " [0.         0.         0.         0.        ]\n",
      " [0.28106746 0.         0.31584442 0.18620199]\n",
      " [0.24055002 0.34348287 0.29498591 0.        ]\n",
      " [0.17922417 0.41806973 0.         0.17567777]\n",
      " [0.         0.         0.         0.        ]\n",
      " [0.         0.         0.         0.        ]\n",
      " [0.         0.26245495 0.47963341 0.22456076]\n",
      " [0.31438153 0.42754372 0.65132156 0.15766483]\n",
      " [0.         0.         0.         0.        ]]\n"
     ]
    }
   ],
   "source": [
    "# Test the learned policy\n",
    "def test_policy(n_episodes=100):\n",
    "    successes = 0\n",
    "    for _ in range(n_episodes):\n",
    "        state, _ = env.reset()\n",
    "        done = False\n",
    "        while not done:\n",
    "            action = np.argmax(Q[state, :])\n",
    "            state, reward, done, _ , _ = env.step(action)\n",
    "            if reward == 1:\n",
    "                successes += 1\n",
    "    return successes / n_episodes\n",
    "\n",
    "success_rate = test_policy()\n",
    "print(f\"Success rate: {success_rate:.2%}\")\n",
    "\n",
    "# Display the learned Q-table\n",
    "print(\"\\nLearned Q-table:\")\n",
    "print('[ ','←', '↓', '→', '↑', ' ]')\n",
    "print()\n",
    "print(Q)\n"
   ]
  },
  {
   "cell_type": "code",
   "execution_count": 8,
   "id": "2268eed1",
   "metadata": {},
   "outputs": [
    {
     "name": "stdout",
     "output_type": "stream",
     "text": [
      "Learned Policy:\n",
      "===============\n",
      "\n",
      "S ← ↓ ← \n",
      "↓ H ↓ H \n",
      "→ ↓ ↓ H \n",
      "H → → G \n",
      "\n",
      "Value Function:\n",
      "===================\n",
      "0.28 0.25 0.24 0.18 \n",
      "0.30 0.00 0.28 0.00 \n",
      "0.32 0.34 0.42 0.00 \n",
      "0.00 0.48 0.65 0.00 \n",
      "\n",
      "Total reward: 1.0\n"
     ]
    }
   ],
   "source": [
    "# Testing the results\n",
    "\n",
    "# Print learned policy\n",
    "print(\"Learned Policy:\")\n",
    "print(\"===============\")\n",
    "print()\n",
    "policy = np.argmax(Q, axis=1)\n",
    "policy_symbols = ['←', '↓', '→', '↑', 'S', 'G', 'H']  # Up, Right, Down, Left\n",
    "\n",
    "# Mark special positions\n",
    "desc = env.unwrapped.desc\n",
    "for i in range(4):\n",
    "    for j in range(4):\n",
    "        if desc[i][j] == b'H':\n",
    "            policy[i*4+j%4] = 6\n",
    "        elif desc[i][j] == b'G':\n",
    "            policy[i*4+j%4] = 5\n",
    "        elif desc[i][j] == b'S':\n",
    "            policy[i*4+j%4] = 4\n",
    "\n",
    "for i in range(4):\n",
    "    for j in range(4):\n",
    "        print(policy_symbols[policy[i*4 + j]], end=' ')\n",
    "    print()\n",
    "  \n",
    "    \n",
    "\n",
    "# Print value function\n",
    "print(\"\\nValue Function:\")\n",
    "print(\"===================\")\n",
    "V = np.max(Q, axis=1)\n",
    "for i in range(4):\n",
    "    for j in range(4):\n",
    "        print(f\"{V[i*4 + j]:.2f}\", end=' ')\n",
    "    print()\n",
    "\n",
    "\n",
    "# Test the learned policy\n",
    "env = gym.make('FrozenLake-v1', is_slippery=False, render_mode='human')\n",
    "state, _ = env.reset()\n",
    "state = int(state)\n",
    "done = False\n",
    "total_reward = 0\n",
    "\n",
    "while not done:\n",
    "    action = np.argmax(Q[state, :])\n",
    "    state, reward, terminated, truncated, _ = env.step(action)\n",
    "    state = int(state)\n",
    "    done = terminated or truncated\n",
    "    total_reward += reward\n",
    "    env.render()\n",
    "\n",
    "print(f\"\\nTotal reward: {total_reward}\")"
   ]
  },
  {
   "cell_type": "code",
   "execution_count": null,
   "id": "2897d58e",
   "metadata": {},
   "outputs": [],
   "source": [
    "session_info.show(html=False)"
   ]
  }
 ],
 "metadata": {
  "kernelspec": {
   "display_name": "rl",
   "language": "python",
   "name": "rl"
  },
  "language_info": {
   "codemirror_mode": {
    "name": "ipython",
    "version": 3
   },
   "file_extension": ".py",
   "mimetype": "text/x-python",
   "name": "python",
   "nbconvert_exporter": "python",
   "pygments_lexer": "ipython3",
   "version": "3.12.3"
  }
 },
 "nbformat": 4,
 "nbformat_minor": 5
}
