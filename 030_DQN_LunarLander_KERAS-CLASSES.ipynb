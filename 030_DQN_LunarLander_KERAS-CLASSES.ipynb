{
 "cells": [
  {
   "cell_type": "markdown",
   "id": "ccb89376",
   "metadata": {},
   "source": [
    "### **Lunar Lander DQN KERAS using Clases**\n",
    "\n",
    "This is a naive version of the Lunar Lander DQN algorithm using an Agent Class<br>\n",
    "<br>\n",
    "In this version the agent has been created as a class making the code more compact <br>\n",
    "This DQN Class can be used with other environments <br>\n",
    " <br>\n",
    "Try to make it faster by doing some hyperparameter optimization  <br>\n",
    "Try to explore less. Does it accelerates convergence?  <br>\n",
    "Increasing the ```ROLLING_WINDOW``` value will gnerate slower agent convergence but the Agent behavior will be more consistent <br>\n",
    "\n",
    "An issue you may find is a lander that hovers forever. This happens because it has been programmed with infinite fuel. You can see it in this execution in the lines that are marked as ```Terminated=False```. This confuses the training because it does not reach the objective or termination. Without modifying the environment, there are a couple of things that can be done to ameliorate this behavior <br>\n",
    "\n",
    "1. **Limit number of steps** In this case we are limiting the number of steps to 1200, if you don't limit it sometimes it goes up to thousands of steps, and this is a waste of time\n",
    "2. **Increase gravity** The default gravity in this environment is -10.0, you can increase it up to -12.0, increasing it you'll have a faster descent and hovering becomes more difficult ```env = gym.make(\"LunarLander-v3\", gravity=11.0)```"
   ]
  },
  {
   "cell_type": "code",
   "execution_count": 1,
   "id": "557b1b33",
   "metadata": {},
   "outputs": [
    {
     "name": "stderr",
     "output_type": "stream",
     "text": [
      "WARNING: All log messages before absl::InitializeLog() is called are written to STDERR\n",
      "I0000 00:00:1739030414.386462  673141 cuda_executor.cc:1001] could not open file to read NUMA node: /sys/bus/pci/devices/0000:01:00.0/numa_node\n",
      "Your kernel may have been built without NUMA support.\n",
      "I0000 00:00:1739030414.405684  673141 cuda_executor.cc:1001] could not open file to read NUMA node: /sys/bus/pci/devices/0000:01:00.0/numa_node\n",
      "Your kernel may have been built without NUMA support.\n",
      "I0000 00:00:1739030414.405721  673141 cuda_executor.cc:1001] could not open file to read NUMA node: /sys/bus/pci/devices/0000:01:00.0/numa_node\n",
      "Your kernel may have been built without NUMA support.\n",
      "I0000 00:00:1739030414.591993  673141 cuda_executor.cc:1001] could not open file to read NUMA node: /sys/bus/pci/devices/0000:01:00.0/numa_node\n",
      "Your kernel may have been built without NUMA support.\n",
      "I0000 00:00:1739030414.592040  673141 cuda_executor.cc:1001] could not open file to read NUMA node: /sys/bus/pci/devices/0000:01:00.0/numa_node\n",
      "Your kernel may have been built without NUMA support.\n",
      "I0000 00:00:1739030414.592066  673141 cuda_executor.cc:1001] could not open file to read NUMA node: /sys/bus/pci/devices/0000:01:00.0/numa_node\n",
      "Your kernel may have been built without NUMA support.\n",
      "I0000 00:00:1739030414.661980  673141 cuda_executor.cc:1001] could not open file to read NUMA node: /sys/bus/pci/devices/0000:01:00.0/numa_node\n",
      "Your kernel may have been built without NUMA support.\n",
      "I0000 00:00:1739030414.662063  673141 cuda_executor.cc:1001] could not open file to read NUMA node: /sys/bus/pci/devices/0000:01:00.0/numa_node\n",
      "Your kernel may have been built without NUMA support.\n",
      "I0000 00:00:1739030414.662078  673141 cuda_executor.cc:1001] could not open file to read NUMA node: /sys/bus/pci/devices/0000:01:00.0/numa_node\n",
      "Your kernel may have been built without NUMA support.\n",
      "I0000 00:00:1739030414.662201  673141 cuda_executor.cc:1001] could not open file to read NUMA node: /sys/bus/pci/devices/0000:01:00.0/numa_node\n",
      "Your kernel may have been built without NUMA support.\n",
      "I0000 00:00:1739030414.662215  673141 cuda_executor.cc:1001] could not open file to read NUMA node: /sys/bus/pci/devices/0000:01:00.0/numa_node\n",
      "Your kernel may have been built without NUMA support.\n",
      "I0000 00:00:1739030414.662226  673141 cuda_executor.cc:1001] could not open file to read NUMA node: /sys/bus/pci/devices/0000:01:00.0/numa_node\n",
      "Your kernel may have been built without NUMA support.\n",
      "I0000 00:00:1739030414.662381  673141 cuda_executor.cc:1001] could not open file to read NUMA node: /sys/bus/pci/devices/0000:01:00.0/numa_node\n",
      "Your kernel may have been built without NUMA support.\n",
      "I0000 00:00:1739030414.662405  673141 cuda_executor.cc:1001] could not open file to read NUMA node: /sys/bus/pci/devices/0000:01:00.0/numa_node\n",
      "Your kernel may have been built without NUMA support.\n",
      "WARNING: All log messages before absl::InitializeLog() is called are written to STDERR\n",
      "I0000 00:00:1739030415.297083  673249 service.cc:146] XLA service 0x7efcb8016f00 initialized for platform CUDA (this does not guarantee that XLA will be used). Devices:\n",
      "I0000 00:00:1739030415.297112  673249 service.cc:154]   StreamExecutor device (0): NVIDIA T600 Laptop GPU, Compute Capability 7.5\n",
      "I0000 00:00:1739030415.973867  673249 device_compiler.h:188] Compiled cluster using XLA!  This line is logged at most once for the lifetime of the process.\n"
     ]
    }
   ],
   "source": [
    "import os\n",
    "os.environ['TF_CPP_MIN_LOG_LEVEL'] = '3' \n",
    "\n",
    "import random\n",
    "import gymnasium as gym\n",
    "import time\n",
    "import numpy as np\n",
    "from collections import deque\n",
    "from keras.models import Sequential, Model\n",
    "from keras.layers import Dense, Input\n",
    "from keras.optimizers import Adam\n",
    "import matplotlib.pyplot as plt\n",
    "from PIL import Image\n",
    "import time\n",
    "\n",
    "# Use mixed-precision training for faster computations on supported GPUs\n",
    "from tensorflow.keras.mixed_precision import set_global_policy\n",
    "set_global_policy('mixed_float16')\n",
    "\n",
    "import sys\n",
    "sys.stderr = open('err.txt', 'w')"
   ]
  },
  {
   "cell_type": "code",
   "execution_count": 2,
   "id": "6cc514c4",
   "metadata": {},
   "outputs": [
    {
     "name": "stdout",
     "output_type": "stream",
     "text": [
      "Using device: 0, name: NVIDIA T600 Laptop GPU, pci bus id: 0000:01:00.0, compute capability: 7.5\n"
     ]
    }
   ],
   "source": [
    "from tensorflow.python.client import device_lib\n",
    "devices = device_lib.list_local_devices()\n",
    "gpu_devices = [device for device in devices if device.device_type == 'GPU']\n",
    "for gpu in gpu_devices:\n",
    "    print('Using', gpu.physical_device_desc)"
   ]
  },
  {
   "cell_type": "markdown",
   "id": "ae2be125",
   "metadata": {},
   "source": [
    "#### **Hyperparameters**"
   ]
  },
  {
   "cell_type": "code",
   "execution_count": 3,
   "id": "78010280",
   "metadata": {},
   "outputs": [],
   "source": [
    "\n",
    "MAX_EPISODES = 2000\n",
    "ROLLING_WINDOW = 40\n",
    "MEMORY_SIZE = 100000\n",
    "MAX_STEPS = 1200\n",
    "\n",
    "gamma = 0.99                         # discount rate\n",
    "epsilon = 1.0                        # exploration rate\n",
    "epsilon_min = 0.01\n",
    "epsilon_decay = 0.99\n",
    "learning_rate = 0.0001\n",
    "batch_size = 64\n",
    "solved_threshold = 200\n",
    "\n",
    "verb = 0                             # to see traces (verbosity)"
   ]
  },
  {
   "cell_type": "code",
   "execution_count": 4,
   "id": "d058e6b0",
   "metadata": {},
   "outputs": [],
   "source": [
    "# Environment setup\n",
    "env = gym.make('LunarLander-v3')\n",
    "state_size = env.observation_space.shape[0]\n",
    "action_size = env.action_space.n"
   ]
  },
  {
   "cell_type": "code",
   "execution_count": 5,
   "id": "947b0b22",
   "metadata": {},
   "outputs": [],
   "source": [
    "class Agent_DQN():\n",
    "    def __init__(self, states, actions, alpha, gamma, epsilon):\n",
    "        self.nS = states\n",
    "        self.nA = actions\n",
    "        self.replay_buffer = deque([], maxlen=MEMORY_SIZE)\n",
    "        self.alpha = alpha\n",
    "        self.gamma = gamma\n",
    "        #Explore/Exploit\n",
    "        self.epsilon = epsilon\n",
    "        self.epsilon_min = epsilon_min\n",
    "        self.epsilon_decay = epsilon_decay\n",
    "        self.model = self.build_NN()\n",
    "        self.loss = []\n",
    "\n",
    "    def build_NN(self):\n",
    "        inputs = Input(shape=(state_size,), name=\"state_input\")\n",
    "        x = Dense(128, activation='relu', name=\"dense_1\")(inputs)\n",
    "        x = Dense(64, activation='relu', name=\"dense_2\")(x)\n",
    "        x = Dense(32, activation='relu', name=\"dense_3\")(x)\n",
    "        outputs = Dense(action_size, activation='linear', name=\"output_layer\")(x)\n",
    "        model = Model(inputs=inputs, outputs=outputs, name=\"Q_Network\")\n",
    "        model.compile(loss='mse', optimizer=Adam(learning_rate=learning_rate))\n",
    "        model.summary()\n",
    "        return model\n",
    "\n",
    "    def action(self, state):\n",
    "        action_vals = self.model.predict(state, verbose=0) \n",
    "        return np.argmax(action_vals[0])\n",
    "    \n",
    "    def random_action(self):\n",
    "        return random.randrange(self.nA) #Explore\n",
    "    \n",
    "    def sample_experiences(self, batch_size):\n",
    "        indices = np.random.choice(len(self.replay_buffer), batch_size, replace=False)\n",
    "        batch = [self.replay_buffer[i] for i in indices]\n",
    "        states, actions, rewards, next_states, dones = zip(*batch)\n",
    "        return (\n",
    "            np.vstack(states),\n",
    "            np.array(actions),\n",
    "            np.array(rewards),\n",
    "            np.vstack(next_states),\n",
    "            np.array(dones, dtype=np.float32)\n",
    "            )\n",
    "    def store_experience(self, state, action, reward, next_state, done):             # memorize\n",
    "        self.replay_buffer.append((state, action, reward, next_state, done))\n",
    "    \n",
    "    def experience_replay(self, batch_size, epsilon):\n",
    "        if len(self.replay_buffer) < batch_size:\n",
    "            return\n",
    "        minibatch = random.sample(self.replay_buffer, batch_size)\n",
    "        states, actions, rewards, next_states, dones = self.sample_experiences(batch_size)\n",
    "\n",
    "        target_qs = self.model.predict(states, verbose=verb)\n",
    "        next_qs   = self.model.predict(next_states, verbose=verb)\n",
    "\n",
    "        # Update target Q-values using standard Bellmanlike equation \n",
    "        target_qs[np.arange(batch_size), actions] = rewards + gamma * np.max(next_qs, axis=1) * (1 - dones)\n",
    "\n",
    "        # Train the model on the Q-values\n",
    "        self.model.fit(states, target_qs, epochs=1, verbose=0)\n",
    "        return"
   ]
  },
  {
   "cell_type": "code",
   "execution_count": 6,
   "id": "b29025b4",
   "metadata": {},
   "outputs": [],
   "source": [
    "# Support function\n",
    "def select_action_greedy(state, agent_DQN):                                    \n",
    "    if np.random.rand() <= epsilon:\n",
    "        return agent_DQN.random_action()\n",
    "    return agent_DQN.action(state) "
   ]
  },
  {
   "cell_type": "markdown",
   "id": "b7fca383",
   "metadata": {},
   "source": [
    "#### **Support Functions**"
   ]
  },
  {
   "cell_type": "code",
   "execution_count": 7,
   "id": "b8b540f2",
   "metadata": {},
   "outputs": [
    {
     "data": {
      "text/html": [
       "<pre style=\"white-space:pre;overflow-x:auto;line-height:normal;font-family:Menlo,'DejaVu Sans Mono',consolas,'Courier New',monospace\"><span style=\"font-weight: bold\">Model: \"Q_Network\"</span>\n",
       "</pre>\n"
      ],
      "text/plain": [
       "\u001b[1mModel: \"Q_Network\"\u001b[0m\n"
      ]
     },
     "metadata": {},
     "output_type": "display_data"
    },
    {
     "data": {
      "text/html": [
       "<pre style=\"white-space:pre;overflow-x:auto;line-height:normal;font-family:Menlo,'DejaVu Sans Mono',consolas,'Courier New',monospace\">┏━━━━━━━━━━━━━━━━━━━━━━━━━━━━━━━━━┳━━━━━━━━━━━━━━━━━━━━━━━━┳━━━━━━━━━━━━━━━┓\n",
       "┃<span style=\"font-weight: bold\"> Layer (type)                    </span>┃<span style=\"font-weight: bold\"> Output Shape           </span>┃<span style=\"font-weight: bold\">       Param # </span>┃\n",
       "┡━━━━━━━━━━━━━━━━━━━━━━━━━━━━━━━━━╇━━━━━━━━━━━━━━━━━━━━━━━━╇━━━━━━━━━━━━━━━┩\n",
       "│ state_input (<span style=\"color: #0087ff; text-decoration-color: #0087ff\">InputLayer</span>)        │ (<span style=\"color: #00d7ff; text-decoration-color: #00d7ff\">None</span>, <span style=\"color: #00af00; text-decoration-color: #00af00\">8</span>)              │             <span style=\"color: #00af00; text-decoration-color: #00af00\">0</span> │\n",
       "├─────────────────────────────────┼────────────────────────┼───────────────┤\n",
       "│ cast (<span style=\"color: #0087ff; text-decoration-color: #0087ff\">Cast</span>)                     │ (<span style=\"color: #00d7ff; text-decoration-color: #00d7ff\">None</span>, <span style=\"color: #00af00; text-decoration-color: #00af00\">8</span>)              │             <span style=\"color: #00af00; text-decoration-color: #00af00\">0</span> │\n",
       "├─────────────────────────────────┼────────────────────────┼───────────────┤\n",
       "│ dense_1 (<span style=\"color: #0087ff; text-decoration-color: #0087ff\">Dense</span>)                 │ (<span style=\"color: #00d7ff; text-decoration-color: #00d7ff\">None</span>, <span style=\"color: #00af00; text-decoration-color: #00af00\">128</span>)            │         <span style=\"color: #00af00; text-decoration-color: #00af00\">1,152</span> │\n",
       "├─────────────────────────────────┼────────────────────────┼───────────────┤\n",
       "│ dense_2 (<span style=\"color: #0087ff; text-decoration-color: #0087ff\">Dense</span>)                 │ (<span style=\"color: #00d7ff; text-decoration-color: #00d7ff\">None</span>, <span style=\"color: #00af00; text-decoration-color: #00af00\">64</span>)             │         <span style=\"color: #00af00; text-decoration-color: #00af00\">8,256</span> │\n",
       "├─────────────────────────────────┼────────────────────────┼───────────────┤\n",
       "│ dense_3 (<span style=\"color: #0087ff; text-decoration-color: #0087ff\">Dense</span>)                 │ (<span style=\"color: #00d7ff; text-decoration-color: #00d7ff\">None</span>, <span style=\"color: #00af00; text-decoration-color: #00af00\">32</span>)             │         <span style=\"color: #00af00; text-decoration-color: #00af00\">2,080</span> │\n",
       "├─────────────────────────────────┼────────────────────────┼───────────────┤\n",
       "│ output_layer (<span style=\"color: #0087ff; text-decoration-color: #0087ff\">Dense</span>)            │ (<span style=\"color: #00d7ff; text-decoration-color: #00d7ff\">None</span>, <span style=\"color: #00af00; text-decoration-color: #00af00\">4</span>)              │           <span style=\"color: #00af00; text-decoration-color: #00af00\">132</span> │\n",
       "└─────────────────────────────────┴────────────────────────┴───────────────┘\n",
       "</pre>\n"
      ],
      "text/plain": [
       "┏━━━━━━━━━━━━━━━━━━━━━━━━━━━━━━━━━┳━━━━━━━━━━━━━━━━━━━━━━━━┳━━━━━━━━━━━━━━━┓\n",
       "┃\u001b[1m \u001b[0m\u001b[1mLayer (type)                   \u001b[0m\u001b[1m \u001b[0m┃\u001b[1m \u001b[0m\u001b[1mOutput Shape          \u001b[0m\u001b[1m \u001b[0m┃\u001b[1m \u001b[0m\u001b[1m      Param #\u001b[0m\u001b[1m \u001b[0m┃\n",
       "┡━━━━━━━━━━━━━━━━━━━━━━━━━━━━━━━━━╇━━━━━━━━━━━━━━━━━━━━━━━━╇━━━━━━━━━━━━━━━┩\n",
       "│ state_input (\u001b[38;5;33mInputLayer\u001b[0m)        │ (\u001b[38;5;45mNone\u001b[0m, \u001b[38;5;34m8\u001b[0m)              │             \u001b[38;5;34m0\u001b[0m │\n",
       "├─────────────────────────────────┼────────────────────────┼───────────────┤\n",
       "│ cast (\u001b[38;5;33mCast\u001b[0m)                     │ (\u001b[38;5;45mNone\u001b[0m, \u001b[38;5;34m8\u001b[0m)              │             \u001b[38;5;34m0\u001b[0m │\n",
       "├─────────────────────────────────┼────────────────────────┼───────────────┤\n",
       "│ dense_1 (\u001b[38;5;33mDense\u001b[0m)                 │ (\u001b[38;5;45mNone\u001b[0m, \u001b[38;5;34m128\u001b[0m)            │         \u001b[38;5;34m1,152\u001b[0m │\n",
       "├─────────────────────────────────┼────────────────────────┼───────────────┤\n",
       "│ dense_2 (\u001b[38;5;33mDense\u001b[0m)                 │ (\u001b[38;5;45mNone\u001b[0m, \u001b[38;5;34m64\u001b[0m)             │         \u001b[38;5;34m8,256\u001b[0m │\n",
       "├─────────────────────────────────┼────────────────────────┼───────────────┤\n",
       "│ dense_3 (\u001b[38;5;33mDense\u001b[0m)                 │ (\u001b[38;5;45mNone\u001b[0m, \u001b[38;5;34m32\u001b[0m)             │         \u001b[38;5;34m2,080\u001b[0m │\n",
       "├─────────────────────────────────┼────────────────────────┼───────────────┤\n",
       "│ output_layer (\u001b[38;5;33mDense\u001b[0m)            │ (\u001b[38;5;45mNone\u001b[0m, \u001b[38;5;34m4\u001b[0m)              │           \u001b[38;5;34m132\u001b[0m │\n",
       "└─────────────────────────────────┴────────────────────────┴───────────────┘\n"
      ]
     },
     "metadata": {},
     "output_type": "display_data"
    },
    {
     "data": {
      "text/html": [
       "<pre style=\"white-space:pre;overflow-x:auto;line-height:normal;font-family:Menlo,'DejaVu Sans Mono',consolas,'Courier New',monospace\"><span style=\"font-weight: bold\"> Total params: </span><span style=\"color: #00af00; text-decoration-color: #00af00\">11,620</span> (45.39 KB)\n",
       "</pre>\n"
      ],
      "text/plain": [
       "\u001b[1m Total params: \u001b[0m\u001b[38;5;34m11,620\u001b[0m (45.39 KB)\n"
      ]
     },
     "metadata": {},
     "output_type": "display_data"
    },
    {
     "data": {
      "text/html": [
       "<pre style=\"white-space:pre;overflow-x:auto;line-height:normal;font-family:Menlo,'DejaVu Sans Mono',consolas,'Courier New',monospace\"><span style=\"font-weight: bold\"> Trainable params: </span><span style=\"color: #00af00; text-decoration-color: #00af00\">11,620</span> (45.39 KB)\n",
       "</pre>\n"
      ],
      "text/plain": [
       "\u001b[1m Trainable params: \u001b[0m\u001b[38;5;34m11,620\u001b[0m (45.39 KB)\n"
      ]
     },
     "metadata": {},
     "output_type": "display_data"
    },
    {
     "data": {
      "text/html": [
       "<pre style=\"white-space:pre;overflow-x:auto;line-height:normal;font-family:Menlo,'DejaVu Sans Mono',consolas,'Courier New',monospace\"><span style=\"font-weight: bold\"> Non-trainable params: </span><span style=\"color: #00af00; text-decoration-color: #00af00\">0</span> (0.00 B)\n",
       "</pre>\n"
      ],
      "text/plain": [
       "\u001b[1m Non-trainable params: \u001b[0m\u001b[38;5;34m0\u001b[0m (0.00 B)\n"
      ]
     },
     "metadata": {},
     "output_type": "display_data"
    }
   ],
   "source": [
    "env = gym.make('LunarLander-v3')\n",
    "state_size = env.observation_space.shape[0]\n",
    "action_size = env.action_space.n\n",
    "\n",
    "agent = Agent_DQN(state_size, action_size, learning_rate, gamma, epsilon)"
   ]
  },
  {
   "cell_type": "code",
   "execution_count": 8,
   "id": "0cb99f42",
   "metadata": {
    "scrolled": false
   },
   "outputs": [
    {
     "name": "stdout",
     "output_type": "stream",
     "text": [
      "Episode:   1/2000, Reward:  -92.51, Epsilon: 0.99, Rolling Avg: -92.51, Steps:  59 Terminated: True \n",
      "Episode:   2/2000, Reward: -196.18, Epsilon: 0.98, Rolling Avg: -144.34, Steps: 110 Terminated: True \n",
      "Episode:   3/2000, Reward:  -92.22, Epsilon: 0.97, Rolling Avg: -126.97, Steps: 105 Terminated: True \n",
      "Episode:   4/2000, Reward:  -13.84, Epsilon: 0.96, Rolling Avg: -98.69, Steps: 145 Terminated: True \n",
      "Episode:   5/2000, Reward: -219.15, Epsilon: 0.95, Rolling Avg: -122.78, Steps: 114 Terminated: True \n",
      "Episode:   6/2000, Reward: -191.76, Epsilon: 0.94, Rolling Avg: -134.28, Steps:  92 Terminated: True \n",
      "Episode:   7/2000, Reward: -434.80, Epsilon: 0.93, Rolling Avg: -177.21, Steps: 118 Terminated: True \n",
      "Episode:   8/2000, Reward: -276.76, Epsilon: 0.92, Rolling Avg: -189.65, Steps: 108 Terminated: True \n",
      "Episode:   9/2000, Reward: -138.68, Epsilon: 0.91, Rolling Avg: -183.99, Steps: 138 Terminated: True \n",
      "Episode:  10/2000, Reward: -120.97, Epsilon: 0.90, Rolling Avg: -177.69, Steps:  66 Terminated: True \n",
      "Episode:  11/2000, Reward: -102.47, Epsilon: 0.90, Rolling Avg: -170.85, Steps:  67 Terminated: True \n",
      "Episode:  12/2000, Reward: -118.32, Epsilon: 0.89, Rolling Avg: -166.47, Steps:  82 Terminated: True \n",
      "Episode:  13/2000, Reward: -287.42, Epsilon: 0.88, Rolling Avg: -175.77, Steps:  90 Terminated: True \n",
      "Episode:  14/2000, Reward:  -70.08, Epsilon: 0.87, Rolling Avg: -168.22, Steps:  89 Terminated: True \n",
      "Episode:  15/2000, Reward: -469.71, Epsilon: 0.86, Rolling Avg: -188.32, Steps:  79 Terminated: True \n",
      "Episode:  16/2000, Reward: -135.29, Epsilon: 0.85, Rolling Avg: -185.01, Steps:  78 Terminated: True \n",
      "Episode:  17/2000, Reward: -130.94, Epsilon: 0.84, Rolling Avg: -181.83, Steps: 111 Terminated: True \n",
      "Episode:  18/2000, Reward: -163.56, Epsilon: 0.83, Rolling Avg: -180.81, Steps:  87 Terminated: True \n",
      "Episode:  19/2000, Reward: -170.71, Epsilon: 0.83, Rolling Avg: -180.28, Steps:  99 Terminated: True \n",
      "Episode:  20/2000, Reward: -348.21, Epsilon: 0.82, Rolling Avg: -188.68, Steps: 110 Terminated: True \n",
      "Episode:  21/2000, Reward:  -96.77, Epsilon: 0.81, Rolling Avg: -184.30, Steps:  77 Terminated: True \n",
      "Episode:  22/2000, Reward: -161.83, Epsilon: 0.80, Rolling Avg: -183.28, Steps: 105 Terminated: True \n",
      "Episode:  23/2000, Reward: -220.28, Epsilon: 0.79, Rolling Avg: -184.89, Steps: 125 Terminated: True \n",
      "Episode:  24/2000, Reward:  -79.99, Epsilon: 0.79, Rolling Avg: -180.52, Steps:  85 Terminated: True \n",
      "Episode:  25/2000, Reward:  -50.36, Epsilon: 0.78, Rolling Avg: -175.31, Steps: 121 Terminated: True \n",
      "Episode:  26/2000, Reward:  -93.88, Epsilon: 0.77, Rolling Avg: -172.18, Steps: 113 Terminated: True \n",
      "Episode:  27/2000, Reward: -142.48, Epsilon: 0.76, Rolling Avg: -171.08, Steps: 138 Terminated: True \n",
      "Episode:  28/2000, Reward:  -89.44, Epsilon: 0.75, Rolling Avg: -168.16, Steps:  74 Terminated: True \n",
      "Episode:  29/2000, Reward:  -91.06, Epsilon: 0.75, Rolling Avg: -165.51, Steps:  92 Terminated: True \n",
      "Episode:  30/2000, Reward:  -69.77, Epsilon: 0.74, Rolling Avg: -162.31, Steps: 105 Terminated: True \n",
      "Episode:  31/2000, Reward: -118.54, Epsilon: 0.73, Rolling Avg: -160.90, Steps: 120 Terminated: True \n",
      "Episode:  32/2000, Reward:  -79.24, Epsilon: 0.72, Rolling Avg: -158.35, Steps: 151 Terminated: True \n",
      "Episode:  33/2000, Reward:  -74.96, Epsilon: 0.72, Rolling Avg: -155.82, Steps:  80 Terminated: True \n",
      "Episode:  34/2000, Reward:  -20.18, Epsilon: 0.71, Rolling Avg: -151.83, Steps: 141 Terminated: True \n",
      "Episode:  35/2000, Reward: -105.54, Epsilon: 0.70, Rolling Avg: -150.51, Steps:  80 Terminated: True \n",
      "Episode:  36/2000, Reward:  -66.17, Epsilon: 0.70, Rolling Avg: -148.17, Steps:  82 Terminated: True \n",
      "Episode:  37/2000, Reward: -116.28, Epsilon: 0.69, Rolling Avg: -147.31, Steps:  76 Terminated: True \n",
      "Episode:  38/2000, Reward:  -77.50, Epsilon: 0.68, Rolling Avg: -145.47, Steps: 121 Terminated: True \n",
      "Episode:  39/2000, Reward: -137.48, Epsilon: 0.68, Rolling Avg: -145.26, Steps: 118 Terminated: True \n",
      "Episode:  40/2000, Reward: -199.10, Epsilon: 0.67, Rolling Avg: -146.61, Steps: 116 Terminated: True \n",
      "Episode:  41/2000, Reward: -177.17, Epsilon: 0.66, Rolling Avg: -148.73, Steps: 163 Terminated: True \n",
      "Episode:  42/2000, Reward:  -61.01, Epsilon: 0.66, Rolling Avg: -145.35, Steps: 174 Terminated: True \n",
      "Episode:  43/2000, Reward: -147.60, Epsilon: 0.65, Rolling Avg: -146.73, Steps: 195 Terminated: True \n",
      "Episode:  44/2000, Reward: -110.85, Epsilon: 0.64, Rolling Avg: -149.16, Steps:  76 Terminated: True \n",
      "Episode:  45/2000, Reward:  -93.71, Epsilon: 0.64, Rolling Avg: -146.02, Steps: 124 Terminated: True \n",
      "Episode:  46/2000, Reward:  -81.60, Epsilon: 0.63, Rolling Avg: -143.27, Steps:  83 Terminated: True \n",
      "Episode:  47/2000, Reward: -104.22, Epsilon: 0.62, Rolling Avg: -135.00, Steps:  88 Terminated: True \n",
      "Episode:  48/2000, Reward:   -3.14, Epsilon: 0.62, Rolling Avg: -128.16, Steps: 119 Terminated: True \n",
      "Episode:  49/2000, Reward:  -76.18, Epsilon: 0.61, Rolling Avg: -126.60, Steps:  88 Terminated: True \n",
      "Episode:  50/2000, Reward: -123.10, Epsilon: 0.61, Rolling Avg: -126.65, Steps: 112 Terminated: True \n",
      "Episode:  51/2000, Reward: -188.73, Epsilon: 0.60, Rolling Avg: -128.81, Steps: 113 Terminated: True \n",
      "Episode:  52/2000, Reward: -157.96, Epsilon: 0.59, Rolling Avg: -129.80, Steps: 145 Terminated: True \n",
      "Episode:  53/2000, Reward:  -55.17, Epsilon: 0.59, Rolling Avg: -123.99, Steps:  80 Terminated: True \n",
      "Episode:  54/2000, Reward:  -13.54, Epsilon: 0.58, Rolling Avg: -122.58, Steps: 112 Terminated: True \n",
      "Episode:  55/2000, Reward:  -38.91, Epsilon: 0.58, Rolling Avg: -111.81, Steps: 132 Terminated: True \n",
      "Episode:  56/2000, Reward:  -73.73, Epsilon: 0.57, Rolling Avg: -110.27, Steps: 122 Terminated: True \n",
      "Episode:  57/2000, Reward:  -88.93, Epsilon: 0.56, Rolling Avg: -109.22, Steps:  84 Terminated: True \n",
      "Episode:  58/2000, Reward: -146.17, Epsilon: 0.56, Rolling Avg: -108.79, Steps: 120 Terminated: True \n",
      "Episode:  59/2000, Reward:  -38.12, Epsilon: 0.55, Rolling Avg: -105.47, Steps:  87 Terminated: True \n",
      "Episode:  60/2000, Reward:  -75.47, Epsilon: 0.55, Rolling Avg: -98.65, Steps: 193 Terminated: True \n",
      "Episode:  61/2000, Reward:  -52.77, Epsilon: 0.54, Rolling Avg: -97.55, Steps:  94 Terminated: True \n",
      "Episode:  62/2000, Reward:  -30.77, Epsilon: 0.54, Rolling Avg: -94.28, Steps: 103 Terminated: True \n",
      "Episode:  63/2000, Reward:  -80.44, Epsilon: 0.53, Rolling Avg: -90.78, Steps: 179 Terminated: True \n",
      "Episode:  64/2000, Reward:  -81.04, Epsilon: 0.53, Rolling Avg: -90.81, Steps: 157 Terminated: True \n",
      "Episode:  65/2000, Reward: -122.62, Epsilon: 0.52, Rolling Avg: -92.61, Steps: 132 Terminated: True \n",
      "Episode:  66/2000, Reward:  -72.67, Epsilon: 0.52, Rolling Avg: -92.08, Steps: 119 Terminated: True \n",
      "Episode:  67/2000, Reward:  -93.04, Epsilon: 0.51, Rolling Avg: -90.85, Steps: 176 Terminated: True \n",
      "Episode:  68/2000, Reward:  -18.95, Epsilon: 0.50, Rolling Avg: -89.09, Steps: 191 Terminated: True \n",
      "Episode:  69/2000, Reward: -103.39, Epsilon: 0.50, Rolling Avg: -89.39, Steps:  98 Terminated: True \n",
      "Episode:  70/2000, Reward:  -63.24, Epsilon: 0.49, Rolling Avg: -89.23, Steps: 117 Terminated: True \n",
      "Episode:  71/2000, Reward:  -42.73, Epsilon: 0.49, Rolling Avg: -87.34, Steps: 192 Terminated: True \n",
      "Episode:  72/2000, Reward: -102.71, Epsilon: 0.48, Rolling Avg: -87.92, Steps: 244 Terminated: True \n",
      "Episode:  73/2000, Reward: -190.27, Epsilon: 0.48, Rolling Avg: -90.81, Steps: 115 Terminated: True \n",
      "Episode:  74/2000, Reward:  -38.88, Epsilon: 0.48, Rolling Avg: -91.27, Steps:  87 Terminated: True \n",
      "Episode:  75/2000, Reward: -103.97, Epsilon: 0.47, Rolling Avg: -91.23, Steps: 177 Terminated: True \n",
      "Episode:  76/2000, Reward:  -51.15, Epsilon: 0.47, Rolling Avg: -90.86, Steps: 155 Terminated: True \n",
      "Episode:  77/2000, Reward:  -42.21, Epsilon: 0.46, Rolling Avg: -89.01, Steps: 251 Terminated: True \n",
      "Episode:  78/2000, Reward: -102.70, Epsilon: 0.46, Rolling Avg: -89.64, Steps: 245 Terminated: True \n",
      "Episode:  79/2000, Reward:  -26.69, Epsilon: 0.45, Rolling Avg: -86.87, Steps: 147 Terminated: True \n",
      "Episode:  80/2000, Reward:  -23.01, Epsilon: 0.45, Rolling Avg: -82.46, Steps: 122 Terminated: True \n",
      "Episode:  81/2000, Reward: -109.32, Epsilon: 0.44, Rolling Avg: -80.77, Steps: 664 Terminated: True \n"
     ]
    },
    {
     "name": "stdout",
     "output_type": "stream",
     "text": [
      "Episode:  82/2000, Reward:  -31.68, Epsilon: 0.44, Rolling Avg: -80.03, Steps: 180 Terminated: True \n",
      "Episode:  83/2000, Reward: -138.51, Epsilon: 0.43, Rolling Avg: -79.81, Steps: 916 Terminated: True \n",
      "Episode:  84/2000, Reward:  -21.69, Epsilon: 0.43, Rolling Avg: -77.58, Steps: 1199 Terminated: False \n",
      "Episode:  85/2000, Reward:  -64.42, Epsilon: 0.43, Rolling Avg: -76.85, Steps: 304 Terminated: True \n",
      "Episode:  86/2000, Reward: -118.25, Epsilon: 0.42, Rolling Avg: -77.76, Steps: 494 Terminated: True \n",
      "Episode:  87/2000, Reward:  -56.42, Epsilon: 0.42, Rolling Avg: -76.57, Steps: 131 Terminated: True \n",
      "Episode:  88/2000, Reward:  -53.43, Epsilon: 0.41, Rolling Avg: -77.82, Steps: 124 Terminated: True \n",
      "Episode:  89/2000, Reward: -184.69, Epsilon: 0.41, Rolling Avg: -80.54, Steps: 994 Terminated: True \n",
      "Episode:  90/2000, Reward: -233.44, Epsilon: 0.40, Rolling Avg: -83.30, Steps: 404 Terminated: True \n",
      "Episode:  91/2000, Reward:  -77.90, Epsilon: 0.40, Rolling Avg: -80.53, Steps: 1199 Terminated: False \n",
      "Episode:  92/2000, Reward: -142.06, Epsilon: 0.40, Rolling Avg: -80.13, Steps: 331 Terminated: True \n",
      "Episode:  93/2000, Reward:  -64.80, Epsilon: 0.39, Rolling Avg: -80.37, Steps: 516 Terminated: True \n",
      "Episode:  94/2000, Reward:  -73.56, Epsilon: 0.39, Rolling Avg: -81.87, Steps: 1199 Terminated: False \n",
      "Episode:  95/2000, Reward:  -45.59, Epsilon: 0.38, Rolling Avg: -82.04, Steps: 189 Terminated: True \n",
      "Episode:  96/2000, Reward:  -81.36, Epsilon: 0.38, Rolling Avg: -82.23, Steps: 1199 Terminated: False \n",
      "Episode:  97/2000, Reward: -178.74, Epsilon: 0.38, Rolling Avg: -84.47, Steps: 1199 Terminated: False \n",
      "Episode:  98/2000, Reward:  -58.36, Epsilon: 0.37, Rolling Avg: -82.28, Steps: 1199 Terminated: False \n",
      "Episode:  99/2000, Reward:  -34.13, Epsilon: 0.37, Rolling Avg: -82.18, Steps: 1199 Terminated: False \n",
      "Episode: 100/2000, Reward:  -74.07, Epsilon: 0.37, Rolling Avg: -82.14, Steps: 1199 Terminated: False \n",
      "Episode: 101/2000, Reward:  -69.51, Epsilon: 0.36, Rolling Avg: -82.56, Steps: 1199 Terminated: False \n",
      "Episode: 102/2000, Reward:  -57.45, Epsilon: 0.36, Rolling Avg: -83.23, Steps: 1199 Terminated: False \n",
      "Episode: 103/2000, Reward:  -57.32, Epsilon: 0.36, Rolling Avg: -82.65, Steps: 1199 Terminated: False \n",
      "Episode: 104/2000, Reward:  -60.34, Epsilon: 0.35, Rolling Avg: -82.13, Steps: 1199 Terminated: False \n",
      "Episode: 105/2000, Reward:  -14.44, Epsilon: 0.35, Rolling Avg: -79.43, Steps: 396 Terminated: True \n",
      "Episode: 106/2000, Reward:  -18.56, Epsilon: 0.34, Rolling Avg: -78.07, Steps: 1199 Terminated: False \n",
      "Episode: 107/2000, Reward:  -23.41, Epsilon: 0.34, Rolling Avg: -76.33, Steps: 1199 Terminated: False \n",
      "Episode: 108/2000, Reward:  -66.22, Epsilon: 0.34, Rolling Avg: -77.52, Steps: 1199 Terminated: False \n",
      "Episode: 109/2000, Reward:  -10.02, Epsilon: 0.33, Rolling Avg: -75.18, Steps: 1199 Terminated: False \n",
      "Episode: 110/2000, Reward:  -34.73, Epsilon: 0.33, Rolling Avg: -74.47, Steps: 1199 Terminated: False \n",
      "Episode: 111/2000, Reward:  -69.99, Epsilon: 0.33, Rolling Avg: -75.15, Steps: 1199 Terminated: False \n",
      "Episode: 112/2000, Reward:  -63.72, Epsilon: 0.32, Rolling Avg: -74.17, Steps: 1199 Terminated: False \n",
      "Episode: 113/2000, Reward:  -81.32, Epsilon: 0.32, Rolling Avg: -71.45, Steps: 1199 Terminated: False \n",
      "Episode: 114/2000, Reward:  -20.98, Epsilon: 0.32, Rolling Avg: -71.00, Steps: 1199 Terminated: False \n",
      "Episode: 115/2000, Reward:   -4.50, Epsilon: 0.31, Rolling Avg: -68.52, Steps: 1199 Terminated: False \n",
      "Episode: 116/2000, Reward:  +22.20, Epsilon: 0.31, Rolling Avg: -66.68, Steps: 1199 Terminated: False \n",
      "Episode: 117/2000, Reward:  +15.24, Epsilon: 0.31, Rolling Avg: -65.25, Steps: 1199 Terminated: False \n",
      "Episode: 118/2000, Reward:   -7.83, Epsilon: 0.31, Rolling Avg: -62.87, Steps: 1199 Terminated: False \n",
      "Episode: 119/2000, Reward:   -3.55, Epsilon: 0.30, Rolling Avg: -62.30, Steps: 1199 Terminated: False \n",
      "Episode: 120/2000, Reward:  -28.81, Epsilon: 0.30, Rolling Avg: -62.44, Steps: 1199 Terminated: False \n",
      "Episode: 121/2000, Reward:  +49.74, Epsilon: 0.30, Rolling Avg: -58.47, Steps: 1199 Terminated: False \n",
      "Episode: 122/2000, Reward:   -5.77, Epsilon: 0.29, Rolling Avg: -57.82, Steps: 1199 Terminated: False \n",
      "Episode: 123/2000, Reward:  -24.71, Epsilon: 0.29, Rolling Avg: -54.97, Steps: 1199 Terminated: False \n",
      "Episode: 124/2000, Reward:  -86.79, Epsilon: 0.29, Rolling Avg: -56.60, Steps: 1199 Terminated: False \n",
      "Episode: 125/2000, Reward:  -15.48, Epsilon: 0.28, Rolling Avg: -55.38, Steps: 1199 Terminated: False \n",
      "Episode: 126/2000, Reward:  +14.21, Epsilon: 0.28, Rolling Avg: -52.07, Steps: 1199 Terminated: False \n",
      "Episode: 127/2000, Reward:  +16.99, Epsilon: 0.28, Rolling Avg: -50.23, Steps: 110 Terminated: True \n",
      "Episode: 128/2000, Reward:  +12.57, Epsilon: 0.28, Rolling Avg: -48.58, Steps: 1199 Terminated: False \n",
      "Episode: 129/2000, Reward:  +30.11, Epsilon: 0.27, Rolling Avg: -43.21, Steps: 1199 Terminated: False \n",
      "Episode: 130/2000, Reward:   -1.83, Epsilon: 0.27, Rolling Avg: -37.42, Steps: 1199 Terminated: False \n",
      "Episode: 131/2000, Reward:  +43.17, Epsilon: 0.27, Rolling Avg: -34.39, Steps: 1199 Terminated: False \n",
      "Episode: 132/2000, Reward:  +40.92, Epsilon: 0.27, Rolling Avg: -29.82, Steps: 1199 Terminated: False \n",
      "Episode: 133/2000, Reward:  -36.82, Epsilon: 0.26, Rolling Avg: -29.12, Steps: 1199 Terminated: False \n",
      "Episode: 134/2000, Reward:  +23.45, Epsilon: 0.26, Rolling Avg: -26.69, Steps: 1199 Terminated: False \n",
      "Episode: 135/2000, Reward:  +26.92, Epsilon: 0.26, Rolling Avg: -24.88, Steps: 1199 Terminated: False \n",
      "Episode: 136/2000, Reward:   -2.59, Epsilon: 0.25, Rolling Avg: -22.91, Steps: 1199 Terminated: False \n",
      "Episode: 137/2000, Reward:  +50.45, Epsilon: 0.25, Rolling Avg: -17.18, Steps: 1199 Terminated: False \n",
      "Episode: 138/2000, Reward:  -15.94, Epsilon: 0.25, Rolling Avg: -16.12, Steps: 1199 Terminated: False \n",
      "Episode: 139/2000, Reward:  +60.98, Epsilon: 0.25, Rolling Avg: -13.74, Steps: 1199 Terminated: False \n",
      "Episode: 140/2000, Reward:  +43.13, Epsilon: 0.24, Rolling Avg: -10.81, Steps: 1199 Terminated: False \n",
      "Episode: 141/2000, Reward: +218.35, Epsilon: 0.24, Rolling Avg:  -3.62, Steps: 584 Terminated: True \n",
      "Episode: 142/2000, Reward:  -53.74, Epsilon: 0.24, Rolling Avg:  -3.52, Steps: 158 Terminated: True \n",
      "Episode: 143/2000, Reward:  +15.91, Epsilon: 0.24, Rolling Avg:  -1.69, Steps: 1199 Terminated: False \n",
      "Episode: 144/2000, Reward: -330.21, Epsilon: 0.24, Rolling Avg:  -8.44, Steps: 223 Terminated: True \n",
      "Episode: 145/2000, Reward: +132.38, Epsilon: 0.23, Rolling Avg:  -4.77, Steps: 1101 Terminated: True \n",
      "Episode: 146/2000, Reward: +204.67, Epsilon: 0.23, Rolling Avg:   0.81, Steps: 660 Terminated: True \n",
      "Episode: 147/2000, Reward: +206.77, Epsilon: 0.23, Rolling Avg:   6.56, Steps: 524 Terminated: True \n",
      "Episode: 148/2000, Reward: +120.92, Epsilon: 0.23, Rolling Avg:  11.24, Steps: 1199 Terminated: False \n",
      "Episode: 149/2000, Reward: +178.66, Epsilon: 0.22, Rolling Avg:  15.96, Steps: 1166 Terminated: True \n",
      "Episode: 150/2000, Reward: +249.63, Epsilon: 0.22, Rolling Avg:  23.07, Steps: 919 Terminated: True \n",
      "Episode: 151/2000, Reward: +261.44, Epsilon: 0.22, Rolling Avg:  31.35, Steps: 525 Terminated: True \n",
      "Episode: 152/2000, Reward: +216.98, Epsilon: 0.22, Rolling Avg:  38.37, Steps: 683 Terminated: True \n",
      "Episode: 153/2000, Reward:  +72.24, Epsilon: 0.21, Rolling Avg:  42.21, Steps: 1199 Terminated: False \n",
      "Episode: 154/2000, Reward: +257.16, Epsilon: 0.21, Rolling Avg:  49.16, Steps: 743 Terminated: True \n",
      "Episode: 155/2000, Reward: +270.34, Epsilon: 0.21, Rolling Avg:  56.04, Steps: 425 Terminated: True \n",
      "Episode: 156/2000, Reward: +108.52, Epsilon: 0.21, Rolling Avg:  58.19, Steps: 1199 Terminated: False \n",
      "Episode: 157/2000, Reward: +101.59, Epsilon: 0.21, Rolling Avg:  60.35, Steps: 1199 Terminated: False \n",
      "Episode: 158/2000, Reward: +225.81, Epsilon: 0.20, Rolling Avg:  66.19, Steps: 657 Terminated: True \n",
      "Episode: 159/2000, Reward:  +84.91, Epsilon: 0.20, Rolling Avg:  68.40, Steps: 1199 Terminated: False \n",
      "Episode: 160/2000, Reward: +210.47, Epsilon: 0.20, Rolling Avg:  74.39, Steps: 668 Terminated: True \n",
      "Episode: 161/2000, Reward: +245.51, Epsilon: 0.20, Rolling Avg:  79.28, Steps: 570 Terminated: True \n",
      "Episode: 162/2000, Reward: +158.01, Epsilon: 0.20, Rolling Avg:  83.38, Steps: 1199 Terminated: False \n"
     ]
    },
    {
     "name": "stdout",
     "output_type": "stream",
     "text": [
      "Episode: 163/2000, Reward: +111.99, Epsilon: 0.19, Rolling Avg:  86.79, Steps: 1199 Terminated: False \n",
      "Episode: 164/2000, Reward: +197.45, Epsilon: 0.19, Rolling Avg:  93.90, Steps: 1103 Terminated: True \n",
      "Episode: 165/2000, Reward:  +27.77, Epsilon: 0.19, Rolling Avg:  94.98, Steps:  90 Terminated: True \n",
      "Episode: 166/2000, Reward: +217.02, Epsilon: 0.19, Rolling Avg: 100.05, Steps: 1169 Terminated: True \n",
      "Episode: 167/2000, Reward: +194.51, Epsilon: 0.19, Rolling Avg: 104.49, Steps: 725 Terminated: True \n",
      "Episode: 168/2000, Reward: +133.16, Epsilon: 0.18, Rolling Avg: 107.50, Steps: 1199 Terminated: False \n",
      "Episode: 169/2000, Reward: +286.44, Epsilon: 0.18, Rolling Avg: 113.91, Steps: 280 Terminated: True \n",
      "Episode: 170/2000, Reward: +268.44, Epsilon: 0.18, Rolling Avg: 120.67, Steps: 639 Terminated: True \n",
      "Episode: 171/2000, Reward: +239.64, Epsilon: 0.18, Rolling Avg: 125.58, Steps: 885 Terminated: True \n",
      "Episode: 172/2000, Reward: +251.79, Epsilon: 0.18, Rolling Avg: 130.85, Steps: 307 Terminated: True \n",
      "Episode: 173/2000, Reward: +262.26, Epsilon: 0.18, Rolling Avg: 138.33, Steps: 969 Terminated: True \n",
      "Episode: 174/2000, Reward: +253.99, Epsilon: 0.17, Rolling Avg: 144.09, Steps: 334 Terminated: True \n",
      "Episode: 175/2000, Reward: +250.71, Epsilon: 0.17, Rolling Avg: 149.69, Steps: 876 Terminated: True \n",
      "Episode: 176/2000, Reward: -125.87, Epsilon: 0.17, Rolling Avg: 146.61, Steps: 511 Terminated: True \n",
      "Episode: 177/2000, Reward: +244.66, Epsilon: 0.17, Rolling Avg: 151.46, Steps: 690 Terminated: True \n",
      "Episode: 178/2000, Reward: +279.58, Epsilon: 0.17, Rolling Avg: 158.85, Steps: 541 Terminated: True \n",
      "Episode: 179/2000, Reward: +135.43, Epsilon: 0.17, Rolling Avg: 160.71, Steps: 1199 Terminated: False \n",
      "Episode: 180/2000, Reward: +163.02, Epsilon: 0.16, Rolling Avg: 163.71, Steps: 1199 Terminated: False \n",
      "Episode: 181/2000, Reward: +253.74, Epsilon: 0.16, Rolling Avg: 164.59, Steps: 343 Terminated: True \n",
      "Episode: 182/2000, Reward: +243.43, Epsilon: 0.16, Rolling Avg: 172.02, Steps: 382 Terminated: True \n",
      "Episode: 183/2000, Reward: +263.06, Epsilon: 0.16, Rolling Avg: 178.20, Steps: 600 Terminated: True \n",
      "Episode: 184/2000, Reward: +238.04, Epsilon: 0.16, Rolling Avg: 192.41, Steps: 577 Terminated: True \n",
      "Episode: 185/2000, Reward: +237.66, Epsilon: 0.16, Rolling Avg: 195.04, Steps: 467 Terminated: True \n",
      "Episode: 186/2000, Reward: +250.09, Epsilon: 0.15, Rolling Avg: 196.17, Steps: 540 Terminated: True \n",
      "Episode: 187/2000, Reward: +238.85, Epsilon: 0.15, Rolling Avg: 196.98, Steps: 892 Terminated: True \n",
      "Episode: 188/2000, Reward: +237.31, Epsilon: 0.15, Rolling Avg: 199.89, Steps: 538 Terminated: True \n",
      "Episode: 189/2000, Reward: +100.14, Epsilon: 0.15, Rolling Avg: 197.92, Steps: 1199 Terminated: False \n",
      "Episode: 190/2000, Reward: +218.80, Epsilon: 0.15, Rolling Avg: 197.15, Steps: 288 Terminated: True \n",
      "Episode: 191/2000, Reward: +277.15, Epsilon: 0.15, Rolling Avg: 197.54, Steps: 335 Terminated: True \n",
      "Episode: 192/2000, Reward: +262.75, Epsilon: 0.15, Rolling Avg: 198.69, Steps: 805 Terminated: True \n",
      "Episode: 193/2000, Reward: +251.23, Epsilon: 0.14, Rolling Avg: 203.16, Steps: 840 Terminated: True \n",
      "Environment solved in 193 episodes!\n",
      "Training completed in 252.98 minutes\n"
     ]
    }
   ],
   "source": [
    "rewards_per_episode= []\n",
    "start_time = time.time()\n",
    "\n",
    "done = False\n",
    "rolling_avg = 0\n",
    "rolling_avg_rewards = []\n",
    "\n",
    "\n",
    "\n",
    "for e in range(MAX_EPISODES):                           # Should be While True, however we limit number of eps\n",
    "    state, _ = env.reset()\n",
    "    state = np.reshape(state, [1, state_size])\n",
    "    total_reward = 0\n",
    "    \n",
    "    for step in range(MAX_STEPS):\n",
    "            \n",
    "        action = select_action_greedy(state, agent)\n",
    "        next_state, reward, done, truncated , _ = env.step(action)\n",
    "                    \n",
    "        next_state = np.reshape(next_state, [1, state_size])\n",
    "        agent.store_experience(state, action, reward, next_state, done)\n",
    "        state = next_state\n",
    "        total_reward = total_reward + reward\n",
    "        if done:\n",
    "            break\n",
    "            \n",
    "        \n",
    "        agent.experience_replay(batch_size, epsilon)\n",
    "            \n",
    "    epsilon = max(epsilon_min, epsilon * epsilon_decay)            # decay epsilon\n",
    "    \n",
    "    rewards_per_episode.append(total_reward)\n",
    "    rolling_avg = np.mean(rewards_per_episode[-ROLLING_WINDOW:])   # append rewards\n",
    "    rolling_avg_rewards.append(rolling_avg)\n",
    "    print(f\"Episode: {e+1:3}/{MAX_EPISODES}, Reward: {total_reward:+7.2f}, \"\n",
    "          f\"Epsilon: {epsilon:.2f}, Rolling Avg: {rolling_avg:7.2f}, Steps: {step:4} Terminated: {done} \")\n",
    "\n",
    "            \n",
    "    # Check if environment is solved\n",
    "    if rolling_avg >= solved_threshold:\n",
    "        print(f\"Environment solved in {e+1} episodes!\")\n",
    "#            model.save(\"lunarlander_ddqn_model1.keras\")\n",
    "        break\n",
    "\n",
    "end_time = time.time()\n",
    "print(f\"Training completed in {(end_time - start_time)/60:.2f} minutes\")"
   ]
  },
  {
   "cell_type": "markdown",
   "id": "5419d918",
   "metadata": {},
   "source": [
    "#### **Learning Plot and Episode Rewards**"
   ]
  },
  {
   "cell_type": "code",
   "execution_count": 9,
   "id": "0724b047",
   "metadata": {},
   "outputs": [
    {
     "data": {
      "image/png": "[encoded data removed]",
      "text/plain": [
       "<Figure size 1000x600 with 1 Axes>"
      ]
     },
     "metadata": {},
     "output_type": "display_data"
    }
   ],
   "source": [
    "# Plot rewards with rolling average\n",
    "\n",
    "plt.figure(figsize=(10, 6))\n",
    "plt.plot(rewards_per_episode, label='Rewards', color='blue')\n",
    "plt.plot(rolling_avg_rewards, label='Rolling Avg (Last '+str(ROLLING_WINDOW) +' Episodes)', color='orange')\n",
    "plt.axhline(y=solved_threshold, color='red', linestyle='--', label='Solved Threshold')\n",
    "plt.title('DQN Training Performance LUNARLANDER')\n",
    "plt.xlabel('Episodes')\n",
    "plt.ylabel('Rewards')\n",
    "plt.legend()\n",
    "plt.grid()\n",
    "plt.show()"
   ]
  },
  {
   "cell_type": "markdown",
   "id": "51baef8f",
   "metadata": {},
   "source": [
    "#### **Simulation - Testing 10 episodes with the DQN Network**"
   ]
  },
  {
   "cell_type": "code",
   "execution_count": 10,
   "id": "1ade8d4a",
   "metadata": {},
   "outputs": [
    {
     "name": "stdout",
     "output_type": "stream",
     "text": [
      "Test Episode:  1/10, Reward: 193.78, Steps: 520\n",
      "Test Episode:  2/10, Reward: 221.69, Steps: 464\n",
      "Test Episode:  3/10, Reward: 241.24, Steps: 412\n",
      "Test Episode:  4/10, Reward: 238.59, Steps: 376\n",
      "Test Episode:  5/10, Reward: 212.40, Steps: 461\n",
      "Test Episode:  6/10, Reward: 222.79, Steps: 457\n",
      "Test Episode:  7/10, Reward: 219.63, Steps: 610\n",
      "Test Episode:  8/10, Reward: 229.64, Steps: 375\n",
      "Test Episode:  9/10, Reward: 242.48, Steps: 442\n",
      "Test Episode: 10/10, Reward: 263.40, Steps: 415\n",
      "Testing completed in 2.56 minutes\n"
     ]
    }
   ],
   "source": [
    "# Testing for 10 episodes\n",
    "start_time = time.time()\n",
    "\n",
    "for e_test in range(10):  # Run 10 test episodes\n",
    "    state, _ = env.reset()\n",
    "    state = np.reshape(state, [1, state_size])\n",
    "    total_reward = 0\n",
    "    \n",
    "    steps = 0\n",
    "    while True:\n",
    "        # Use the trained model for testing\n",
    "        action = agent.action(state)  # Predict action values\n",
    "\n",
    "\n",
    "        next_state, reward, done, truncated, _ = env.step(action)\n",
    "        next_state = np.reshape(next_state, [1, state_size])\n",
    "        total_reward += reward\n",
    "        state = next_state\n",
    "        steps = steps + 1\n",
    "        if done or truncated:\n",
    "            print(f\"Test Episode: {e_test + 1:2}/10, Reward: {total_reward:.2f}, Steps: {steps:3}\")\n",
    "            break\n",
    "\n",
    "end_time = time.time()\n",
    "testing_duration = (end_time - start_time) / 60  # Convert to minutes\n",
    "print(f\"Testing completed in {testing_duration:.2f} minutes\")"
   ]
  },
  {
   "cell_type": "markdown",
   "id": "67f36b76",
   "metadata": {},
   "source": [
    "#### **Rendering 1 episode**"
   ]
  },
  {
   "cell_type": "code",
   "execution_count": 11,
   "id": "0e9e3acd",
   "metadata": {},
   "outputs": [
    {
     "ename": "ValueError",
     "evalue": "cannot reshape array of size 4 into shape (1,8)",
     "output_type": "error",
     "traceback": [
      "\u001b[0;31m---------------------------------------------------------------------------\u001b[0m",
      "\u001b[0;31mValueError\u001b[0m                                Traceback (most recent call last)",
      "Cell \u001b[0;32mIn[11], line 8\u001b[0m\n\u001b[1;32m      6\u001b[0m \u001b[38;5;66;03m# Render a single test episode\u001b[39;00m\n\u001b[1;32m      7\u001b[0m state, _ \u001b[38;5;241m=\u001b[39m env\u001b[38;5;241m.\u001b[39mreset()\n\u001b[0;32m----> 8\u001b[0m state \u001b[38;5;241m=\u001b[39m \u001b[43mnp\u001b[49m\u001b[38;5;241;43m.\u001b[39;49m\u001b[43mreshape\u001b[49m\u001b[43m(\u001b[49m\u001b[43mstate\u001b[49m\u001b[43m,\u001b[49m\u001b[43m \u001b[49m\u001b[43m[\u001b[49m\u001b[38;5;241;43m1\u001b[39;49m\u001b[43m,\u001b[49m\u001b[43m \u001b[49m\u001b[43mstate_size\u001b[49m\u001b[43m]\u001b[49m\u001b[43m)\u001b[49m\n\u001b[1;32m      9\u001b[0m tot_rewards \u001b[38;5;241m=\u001b[39m \u001b[38;5;241m0\u001b[39m\n\u001b[1;32m     11\u001b[0m \u001b[38;5;28;01mwhile\u001b[39;00m \u001b[38;5;28;01mTrue\u001b[39;00m:\n\u001b[1;32m     12\u001b[0m     \u001b[38;5;66;03m# Use the trained model for action\u001b[39;00m\n",
      "File \u001b[0;32m~/DL-Keras/lib/python3.12/site-packages/numpy/core/fromnumeric.py:285\u001b[0m, in \u001b[0;36mreshape\u001b[0;34m(a, newshape, order)\u001b[0m\n\u001b[1;32m    200\u001b[0m \u001b[38;5;129m@array_function_dispatch\u001b[39m(_reshape_dispatcher)\n\u001b[1;32m    201\u001b[0m \u001b[38;5;28;01mdef\u001b[39;00m \u001b[38;5;21mreshape\u001b[39m(a, newshape, order\u001b[38;5;241m=\u001b[39m\u001b[38;5;124m'\u001b[39m\u001b[38;5;124mC\u001b[39m\u001b[38;5;124m'\u001b[39m):\n\u001b[1;32m    202\u001b[0m \u001b[38;5;250m    \u001b[39m\u001b[38;5;124;03m\"\"\"\u001b[39;00m\n\u001b[1;32m    203\u001b[0m \u001b[38;5;124;03m    Gives a new shape to an array without changing its data.\u001b[39;00m\n\u001b[1;32m    204\u001b[0m \n\u001b[0;32m   (...)\u001b[0m\n\u001b[1;32m    283\u001b[0m \u001b[38;5;124;03m           [5, 6]])\u001b[39;00m\n\u001b[1;32m    284\u001b[0m \u001b[38;5;124;03m    \"\"\"\u001b[39;00m\n\u001b[0;32m--> 285\u001b[0m     \u001b[38;5;28;01mreturn\u001b[39;00m \u001b[43m_wrapfunc\u001b[49m\u001b[43m(\u001b[49m\u001b[43ma\u001b[49m\u001b[43m,\u001b[49m\u001b[43m \u001b[49m\u001b[38;5;124;43m'\u001b[39;49m\u001b[38;5;124;43mreshape\u001b[39;49m\u001b[38;5;124;43m'\u001b[39;49m\u001b[43m,\u001b[49m\u001b[43m \u001b[49m\u001b[43mnewshape\u001b[49m\u001b[43m,\u001b[49m\u001b[43m \u001b[49m\u001b[43morder\u001b[49m\u001b[38;5;241;43m=\u001b[39;49m\u001b[43morder\u001b[49m\u001b[43m)\u001b[49m\n",
      "File \u001b[0;32m~/DL-Keras/lib/python3.12/site-packages/numpy/core/fromnumeric.py:59\u001b[0m, in \u001b[0;36m_wrapfunc\u001b[0;34m(obj, method, *args, **kwds)\u001b[0m\n\u001b[1;32m     56\u001b[0m     \u001b[38;5;28;01mreturn\u001b[39;00m _wrapit(obj, method, \u001b[38;5;241m*\u001b[39margs, \u001b[38;5;241m*\u001b[39m\u001b[38;5;241m*\u001b[39mkwds)\n\u001b[1;32m     58\u001b[0m \u001b[38;5;28;01mtry\u001b[39;00m:\n\u001b[0;32m---> 59\u001b[0m     \u001b[38;5;28;01mreturn\u001b[39;00m \u001b[43mbound\u001b[49m\u001b[43m(\u001b[49m\u001b[38;5;241;43m*\u001b[39;49m\u001b[43margs\u001b[49m\u001b[43m,\u001b[49m\u001b[43m \u001b[49m\u001b[38;5;241;43m*\u001b[39;49m\u001b[38;5;241;43m*\u001b[39;49m\u001b[43mkwds\u001b[49m\u001b[43m)\u001b[49m\n\u001b[1;32m     60\u001b[0m \u001b[38;5;28;01mexcept\u001b[39;00m \u001b[38;5;167;01mTypeError\u001b[39;00m:\n\u001b[1;32m     61\u001b[0m     \u001b[38;5;66;03m# A TypeError occurs if the object does have such a method in its\u001b[39;00m\n\u001b[1;32m     62\u001b[0m     \u001b[38;5;66;03m# class, but its signature is not identical to that of NumPy's. This\u001b[39;00m\n\u001b[0;32m   (...)\u001b[0m\n\u001b[1;32m     66\u001b[0m     \u001b[38;5;66;03m# Call _wrapit from within the except clause to ensure a potential\u001b[39;00m\n\u001b[1;32m     67\u001b[0m     \u001b[38;5;66;03m# exception has a traceback chain.\u001b[39;00m\n\u001b[1;32m     68\u001b[0m     \u001b[38;5;28;01mreturn\u001b[39;00m _wrapit(obj, method, \u001b[38;5;241m*\u001b[39margs, \u001b[38;5;241m*\u001b[39m\u001b[38;5;241m*\u001b[39mkwds)\n",
      "\u001b[0;31mValueError\u001b[0m: cannot reshape array of size 4 into shape (1,8)"
     ]
    }
   ],
   "source": [
    "# Test the trained agent with video rendering\n",
    "# This code is useful if you are using colab otherwise use render_mode='human'\n",
    "env = gym.make((\"LunarLander-v3\", render_mode='rgb_array')  # Enable RGB rendering\n",
    "frames = []  # Store frames for visualization\n",
    "\n",
    "# Render a single test episode\n",
    "state, _ = env.reset()\n",
    "state = np.reshape(state, [1, state_size])\n",
    "tot_rewards = 0\n",
    "\n",
    "while True:\n",
    "    # Use the trained model for action\n",
    "    action = agent.action(state)            # Predict action value\n",
    "\n",
    "    next_state, reward, done, truncated, _ = env.step(action)\n",
    "    frames.append(env.render())                  # Save frame for rendering later\n",
    "    next_state = np.reshape(next_state, [1, state_size])\n",
    "    tot_rewards += reward\n",
    "    state = next_state\n",
    "\n",
    "    if done or truncated:\n",
    "        print(f\"Rendered Test Episode Reward: {tot_rewards:.2f}\")\n",
    "        break\n",
    "\n",
    "env.close()\n",
    "\n",
    "# Save the rendered episode as a GIF\n",
    "def save_frames_as_gif(frames, path='./', filename='LUNARLANDER_Agent_DQN.gif'):\n",
    "    images = [Image.fromarray(frame) for frame in frames]\n",
    "    gif_path = os.path.join(path, filename)\n",
    "    images[0].save(gif_path, save_all=True, append_images=images[1:], duration=50, loop=0)\n",
    "    print(f\"Saved GIF to: {gif_path}\")\n",
    "\n",
    "save_frames_as_gif(frames, filename='LUNARLANDER_Agent_DQN.gif')\n"
   ]
  },
  {
   "cell_type": "code",
   "execution_count": null,
   "id": "017d49c2",
   "metadata": {},
   "outputs": [],
   "source": [
    "import session_info\n",
    "session_info.show(html=False)"
   ]
  }
 ],
 "metadata": {
  "kernelspec": {
   "display_name": "DL-Keras",
   "language": "python",
   "name": "dl-keras"
  },
  "language_info": {
   "codemirror_mode": {
    "name": "ipython",
    "version": 3
   },
   "file_extension": ".py",
   "mimetype": "text/x-python",
   "name": "python",
   "nbconvert_exporter": "python",
   "pygments_lexer": "ipython3",
   "version": "3.12.3"
  }
 },
 "nbformat": 4,
 "nbformat_minor": 5
}
