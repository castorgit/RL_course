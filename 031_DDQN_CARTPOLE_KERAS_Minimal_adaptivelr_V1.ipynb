{
 "cells": [
  {
   "cell_type": "markdown",
   "id": "bad28014",
   "metadata": {},
   "source": [
    "### **CARTPOLE DDQN Minimal V2 NN training improvements**\n",
    "\n",
    "This is a naive version vectorized of the DDQN Algorithm for the CARTPOLE env <br>\n",
    "Vectorizing we obtain a version that is faster and it is 'functional' as it works <br>\n",
    "\n",
    "The Double DQN (DDQN) uses two networks one as a target and one as the trained network <br>\n",
    "\n",
    "The target network is a copy of the online network that is updated less frequently, <br>\n",
    "and is used to generate the target values for the Q-learning update<br>\n",
    "\n",
    "It includes a soft update of the weights, instead of substituting the weights between the networks<br>\n",
    "it blends them together using a Polyak averaging This was an improvement on the pure DDQN algorithm<br>\n",
    "\n",
    "This Version has several neural network training improvements<br>\n",
    "\n",
    "- Adaptive learning rate <br>"
   ]
  },
  {
   "cell_type": "code",
   "execution_count": 1,
   "id": "548ece67",
   "metadata": {},
   "outputs": [
    {
     "name": "stdout",
     "output_type": "stream",
     "text": [
      "Num GPUs Available:  1\n"
     ]
    },
    {
     "name": "stderr",
     "output_type": "stream",
     "text": [
      "WARNING: All log messages before absl::InitializeLog() is called are written to STDERR\n",
      "I0000 00:00:1734890407.649618 2140166 cuda_executor.cc:1001] could not open file to read NUMA node: /sys/bus/pci/devices/0000:01:00.0/numa_node\n",
      "Your kernel may have been built without NUMA support.\n",
      "I0000 00:00:1734890407.668454 2140166 cuda_executor.cc:1001] could not open file to read NUMA node: /sys/bus/pci/devices/0000:01:00.0/numa_node\n",
      "Your kernel may have been built without NUMA support.\n",
      "I0000 00:00:1734890407.668496 2140166 cuda_executor.cc:1001] could not open file to read NUMA node: /sys/bus/pci/devices/0000:01:00.0/numa_node\n",
      "Your kernel may have been built without NUMA support.\n"
     ]
    }
   ],
   "source": [
    "import os\n",
    "os.environ['TF_CPP_MIN_LOG_LEVEL'] = '3'\n",
    "\n",
    "import gymnasium as gym\n",
    "import numpy as np\n",
    "from tensorflow.keras.models import Sequential, Model\n",
    "from tensorflow.keras.layers import Dense, Input, BatchNormalization, Dropout\n",
    "from tensorflow.keras.optimizers import Adam\n",
    "from tensorflow.keras.optimizers.schedules import ExponentialDecay\n",
    "from tensorflow.keras.utils import set_random_seed\n",
    "import matplotlib.pyplot as plt\n",
    "from collections import deque\n",
    "import random\n",
    "\n",
    "import time\n",
    "from PIL import Image\n",
    "\n",
    "# Activate GPU\n",
    "import tensorflow as tf\n",
    "print(\"Num GPUs Available: \", len(tf.config.list_physical_devices('GPU')))\n",
    "\n",
    "# Use mixed-precision training for faster computations on supported GPUs\n",
    "from tensorflow.keras.mixed_precision import set_global_policy\n",
    "set_global_policy('mixed_float16')\n",
    "\n",
    "# Enable XLA (Accelerated Linear Algebra) optimization\n",
    "tf.config.optimizer.set_jit(True)"
   ]
  },
  {
   "cell_type": "markdown",
   "id": "3fe60191",
   "metadata": {},
   "source": [
    "#### **Environment setup**"
   ]
  },
  {
   "cell_type": "code",
   "execution_count": 2,
   "id": "eb8cd8f6",
   "metadata": {},
   "outputs": [],
   "source": [
    "env = gym.make(\"CartPole-v1\")\n",
    "state_size = env.observation_space.shape[0]\n",
    "action_size = env.action_space.n\n",
    "               \n",
    "set_random_seed(221)  # For reproducibility"
   ]
  },
  {
   "cell_type": "markdown",
   "id": "a4e88cb4",
   "metadata": {},
   "source": [
    "#### **Hyperparameters**"
   ]
  },
  {
   "cell_type": "code",
   "execution_count": 3,
   "id": "7660da76",
   "metadata": {},
   "outputs": [],
   "source": [
    "batch_size = 128\n",
    "gamma = 0.99                \n",
    "epsilon_start = 1.0\n",
    "epsilon_min = 0.01\n",
    "epsilon_decay = 0.99 \n",
    "\n",
    "initial_lr = 0.001\n",
    "d_steps    = 10000\n",
    "d_rate     = 0.99\n",
    "\n",
    "buffer_capacity = 10000\n",
    "retrain_steps = 10            # We copy weights every retrain_steps \n",
    "tau = 0.1  \n",
    "\n",
    "max_episodes = 150\n",
    "max_steps = 1000\n",
    "solved_threshold = 195\n",
    "                  # Soft update, it is high for long retrain periods. Small for short retrain\n",
    "\n",
    "#lr: 0.0001 gamma 0.99 batch_size 128 tau  0.15 epsilon decay 0.99 retrain_steps  5"
   ]
  },
  {
   "cell_type": "markdown",
   "id": "45db649f",
   "metadata": {},
   "source": [
    "#### **Neural Network Definition**"
   ]
  },
  {
   "cell_type": "code",
   "execution_count": 4,
   "id": "70a1212e",
   "metadata": {},
   "outputs": [],
   "source": [
    "# Build the neural network model\n",
    "def build_model(state_size, action_size):\n",
    "    inputs = Input(shape=(state_size,))  \n",
    "    x = Dense(16, activation=\"relu\")(inputs)\n",
    "    x = Dense(32, activation=\"relu\")(x)\n",
    "    x = Dense(16, activation=\"relu\")(x)\n",
    "    outputs = Dense(action_size, activation=\"linear\")(x)\n",
    "    model = Model(inputs=inputs, outputs=outputs)\n",
    "    \n",
    "    lr_schedule = ExponentialDecay(\n",
    "                            initial_learning_rate=initial_lr,\n",
    "                            decay_steps = d_steps,\n",
    "                            decay_rate  = d_rate,\n",
    "                            staircase = True)                                  \n",
    "    \n",
    "    model.compile(optimizer=Adam(learning_rate=lr_schedule), loss=\"mse\")\n",
    "    return model"
   ]
  },
  {
   "cell_type": "markdown",
   "id": "786f3afa",
   "metadata": {},
   "source": [
    "#### **Support Functions**"
   ]
  },
  {
   "cell_type": "code",
   "execution_count": 5,
   "id": "620a9a45",
   "metadata": {},
   "outputs": [],
   "source": [
    "# Soft update function for target network\n",
    "\"\"\" Soft Update using Polyak optimization \"\"\"\n",
    "def soft_update(model, target_model, tau):\n",
    "    target_weights = target_model.get_weights()\n",
    "    model_weights = model.get_weights()\n",
    "    new_weights = [\n",
    "        tau * mw + (1 - tau) * tw for mw, tw in zip(model_weights, target_weights)\n",
    "    ]\n",
    "    target_model.set_weights(new_weights)"
   ]
  },
  {
   "cell_type": "markdown",
   "id": "e28bff8d",
   "metadata": {},
   "source": [
    "#### **Replay Function - The core of the DDQN Algorithm**"
   ]
  },
  {
   "cell_type": "code",
   "execution_count": 6,
   "id": "6ff1c938",
   "metadata": {},
   "outputs": [],
   "source": [
    "# Replay buffer\n",
    "replay_buffer = deque(maxlen=buffer_capacity)\n",
    "\n",
    "# Add experience to replay buffer\n",
    "def store_experience(state, action, reward, next_state, done):\n",
    "    replay_buffer.append((state, action, reward, next_state, done))\n",
    "\n",
    "# Sample experiences from the replay buffer\n",
    "def sample_experiences(batch_size):\n",
    "    indices = np.random.choice(len(replay_buffer), batch_size, replace=False)\n",
    "    batch = [replay_buffer[i] for i in indices]\n",
    "    states, actions, rewards, next_states, dones = zip(*batch)\n",
    "    return (\n",
    "        np.vstack(states),\n",
    "        np.array(actions),\n",
    "        np.array(rewards),\n",
    "        np.vstack(next_states),\n",
    "        np.array(dones, dtype=np.float32)\n",
    "    )\n",
    "\n",
    "# Double DQN target calculation\n",
    "def experience_replay_with_ddqn(model, target_model, batch_size, gamma, tau, step):\n",
    "    if len(replay_buffer) < batch_size:\n",
    "        return\n",
    "\n",
    "    states, actions, rewards, next_states, dones = sample_experiences(batch_size)\n",
    "\n",
    "    # Predict Q-values for next states using both networks\n",
    "    next_q_values = model.predict(next_states, verbose=0)\n",
    "    best_actions = np.argmax(next_q_values, axis=1)\n",
    "    target_q_values = target_model.predict(next_states, verbose=0)\n",
    "\n",
    "    # Update Q-values using Double DQN formula\n",
    "    targets = rewards + gamma * target_q_values[np.arange(batch_size), best_actions] * (1 - dones)\n",
    "\n",
    "    # Update main Q-network\n",
    "    q_values = model.predict(states, verbose=0)\n",
    "    q_values[np.arange(batch_size), actions] = targets\n",
    "    model.fit(states, q_values, epochs=1, verbose=0)\n",
    "\n",
    "    # Apply soft update to target network\n",
    "    if step % retrain_steps == 0:   \n",
    "        soft_update(model, target_model, tau)\n",
    "\n"
   ]
  },
  {
   "cell_type": "markdown",
   "id": "aab9a89a",
   "metadata": {},
   "source": [
    "#### **Initialize Network models**"
   ]
  },
  {
   "cell_type": "code",
   "execution_count": 7,
   "id": "097f7087",
   "metadata": {},
   "outputs": [
    {
     "name": "stderr",
     "output_type": "stream",
     "text": [
      "I0000 00:00:1734890407.734854 2140166 cuda_executor.cc:1001] could not open file to read NUMA node: /sys/bus/pci/devices/0000:01:00.0/numa_node\n",
      "Your kernel may have been built without NUMA support.\n",
      "I0000 00:00:1734890407.734919 2140166 cuda_executor.cc:1001] could not open file to read NUMA node: /sys/bus/pci/devices/0000:01:00.0/numa_node\n",
      "Your kernel may have been built without NUMA support.\n",
      "I0000 00:00:1734890407.734937 2140166 cuda_executor.cc:1001] could not open file to read NUMA node: /sys/bus/pci/devices/0000:01:00.0/numa_node\n",
      "Your kernel may have been built without NUMA support.\n",
      "I0000 00:00:1734890408.614971 2140166 cuda_executor.cc:1001] could not open file to read NUMA node: /sys/bus/pci/devices/0000:01:00.0/numa_node\n",
      "Your kernel may have been built without NUMA support.\n",
      "I0000 00:00:1734890408.615024 2140166 cuda_executor.cc:1001] could not open file to read NUMA node: /sys/bus/pci/devices/0000:01:00.0/numa_node\n",
      "Your kernel may have been built without NUMA support.\n",
      "I0000 00:00:1734890408.615048 2140166 cuda_executor.cc:1001] could not open file to read NUMA node: /sys/bus/pci/devices/0000:01:00.0/numa_node\n",
      "Your kernel may have been built without NUMA support.\n"
     ]
    }
   ],
   "source": [
    "model = build_model(state_size, action_size)\n",
    "target_model = build_model(state_size, action_size)\n",
    "target_model.set_weights(model.get_weights())             # Sync target network initially"
   ]
  },
  {
   "cell_type": "markdown",
   "id": "61447319",
   "metadata": {},
   "source": [
    "#### **Training Phase**"
   ]
  },
  {
   "cell_type": "code",
   "execution_count": 8,
   "id": "8617a95f",
   "metadata": {
    "scrolled": false
   },
   "outputs": [
    {
     "name": "stdout",
     "output_type": "stream",
     "text": [
      "Episode:   1/150, Reward:   +50.00, Epsilon: 0.99, Rolling Avg:  50.00, Steps:  50, Terminated: True \n",
      "Episode:   2/150, Reward:   +12.00, Epsilon: 0.98, Rolling Avg:  31.00, Steps:  12, Terminated: True \n",
      "Episode:   3/150, Reward:   +12.00, Epsilon: 0.97, Rolling Avg:  24.67, Steps:  12, Terminated: True \n",
      "Episode:   4/150, Reward:   +23.00, Epsilon: 0.96, Rolling Avg:  24.25, Steps:  23, Terminated: True \n",
      "Episode:   5/150, Reward:   +15.00, Epsilon: 0.95, Rolling Avg:  22.40, Steps:  15, Terminated: True \n"
     ]
    },
    {
     "name": "stderr",
     "output_type": "stream",
     "text": [
      "WARNING: All log messages before absl::InitializeLog() is called are written to STDERR\n",
      "I0000 00:00:1734890409.388762 2140271 service.cc:146] XLA service 0x7fa0ac004670 initialized for platform CUDA (this does not guarantee that XLA will be used). Devices:\n",
      "I0000 00:00:1734890409.388794 2140271 service.cc:154]   StreamExecutor device (0): NVIDIA T600 Laptop GPU, Compute Capability 7.5\n",
      "I0000 00:00:1734890410.361369 2140271 device_compiler.h:188] Compiled cluster using XLA!  This line is logged at most once for the lifetime of the process.\n"
     ]
    },
    {
     "name": "stdout",
     "output_type": "stream",
     "text": [
      "Episode:   6/150, Reward:   +14.00, Epsilon: 0.94, Rolling Avg:  15.20, Steps:  14, Terminated: True \n",
      "Episode:   7/150, Reward:   +20.00, Epsilon: 0.93, Rolling Avg:  16.80, Steps:  20, Terminated: True \n",
      "Episode:   8/150, Reward:   +15.00, Epsilon: 0.92, Rolling Avg:  17.40, Steps:  15, Terminated: True \n",
      "Episode:   9/150, Reward:   +16.00, Epsilon: 0.91, Rolling Avg:  16.00, Steps:  16, Terminated: True \n",
      "Episode:  10/150, Reward:   +14.00, Epsilon: 0.90, Rolling Avg:  15.80, Steps:  14, Terminated: True \n",
      "Episode:  11/150, Reward:   +22.00, Epsilon: 0.90, Rolling Avg:  17.40, Steps:  22, Terminated: True \n",
      "Episode:  12/150, Reward:   +67.00, Epsilon: 0.89, Rolling Avg:  26.80, Steps:  67, Terminated: True \n",
      "Episode:  13/150, Reward:   +31.00, Epsilon: 0.88, Rolling Avg:  30.00, Steps:  31, Terminated: True \n",
      "Episode:  14/150, Reward:   +60.00, Epsilon: 0.87, Rolling Avg:  38.80, Steps:  60, Terminated: True \n",
      "Episode:  15/150, Reward:   +12.00, Epsilon: 0.86, Rolling Avg:  38.40, Steps:  12, Terminated: True \n",
      "Episode:  16/150, Reward:   +25.00, Epsilon: 0.85, Rolling Avg:  39.00, Steps:  25, Terminated: True \n",
      "Episode:  17/150, Reward:   +17.00, Epsilon: 0.84, Rolling Avg:  29.00, Steps:  17, Terminated: True \n",
      "Episode:  18/150, Reward:   +20.00, Epsilon: 0.83, Rolling Avg:  26.80, Steps:  20, Terminated: True \n",
      "Episode:  19/150, Reward:   +11.00, Epsilon: 0.83, Rolling Avg:  17.00, Steps:  11, Terminated: True \n",
      "Episode:  20/150, Reward:   +39.00, Epsilon: 0.82, Rolling Avg:  22.40, Steps:  39, Terminated: True \n",
      "Episode:  21/150, Reward:   +21.00, Epsilon: 0.81, Rolling Avg:  21.60, Steps:  21, Terminated: True \n",
      "Episode:  22/150, Reward:   +49.00, Epsilon: 0.80, Rolling Avg:  28.00, Steps:  49, Terminated: True \n",
      "Episode:  23/150, Reward:   +51.00, Epsilon: 0.79, Rolling Avg:  34.20, Steps:  51, Terminated: True \n",
      "Episode:  24/150, Reward:   +32.00, Epsilon: 0.79, Rolling Avg:  38.40, Steps:  32, Terminated: True \n",
      "Episode:  25/150, Reward:   +59.00, Epsilon: 0.78, Rolling Avg:  42.40, Steps:  59, Terminated: True \n",
      "Episode:  26/150, Reward:   +23.00, Epsilon: 0.77, Rolling Avg:  42.80, Steps:  23, Terminated: True \n",
      "Episode:  27/150, Reward:   +34.00, Epsilon: 0.76, Rolling Avg:  39.80, Steps:  34, Terminated: True \n",
      "Episode:  28/150, Reward:   +55.00, Epsilon: 0.75, Rolling Avg:  40.60, Steps:  55, Terminated: True \n",
      "Episode:  29/150, Reward:   +14.00, Epsilon: 0.75, Rolling Avg:  37.00, Steps:  14, Terminated: True \n",
      "Episode:  30/150, Reward:   +16.00, Epsilon: 0.74, Rolling Avg:  28.40, Steps:  16, Terminated: True \n",
      "Episode:  31/150, Reward:   +81.00, Epsilon: 0.73, Rolling Avg:  40.00, Steps:  81, Terminated: True \n",
      "Episode:  32/150, Reward:   +11.00, Epsilon: 0.72, Rolling Avg:  35.40, Steps:  11, Terminated: True \n",
      "Episode:  33/150, Reward:   +12.00, Epsilon: 0.72, Rolling Avg:  26.80, Steps:  12, Terminated: True \n",
      "Episode:  34/150, Reward:   +59.00, Epsilon: 0.71, Rolling Avg:  35.80, Steps:  59, Terminated: True \n",
      "Episode:  35/150, Reward:   +19.00, Epsilon: 0.70, Rolling Avg:  36.40, Steps:  19, Terminated: True \n",
      "Episode:  36/150, Reward:   +41.00, Epsilon: 0.70, Rolling Avg:  28.40, Steps:  41, Terminated: True \n",
      "Episode:  37/150, Reward:   +13.00, Epsilon: 0.69, Rolling Avg:  28.80, Steps:  13, Terminated: True \n",
      "Episode:  38/150, Reward:   +24.00, Epsilon: 0.68, Rolling Avg:  31.20, Steps:  24, Terminated: True \n",
      "Episode:  39/150, Reward:   +32.00, Epsilon: 0.68, Rolling Avg:  25.80, Steps:  32, Terminated: True \n",
      "Episode:  40/150, Reward:   +17.00, Epsilon: 0.67, Rolling Avg:  25.40, Steps:  17, Terminated: True \n",
      "Episode:  41/150, Reward:   +32.00, Epsilon: 0.66, Rolling Avg:  23.60, Steps:  32, Terminated: True \n",
      "Episode:  42/150, Reward:   +47.00, Epsilon: 0.66, Rolling Avg:  30.40, Steps:  47, Terminated: True \n",
      "Episode:  43/150, Reward:   +80.00, Epsilon: 0.65, Rolling Avg:  41.60, Steps:  80, Terminated: True \n",
      "Episode:  44/150, Reward:   +19.00, Epsilon: 0.64, Rolling Avg:  39.00, Steps:  19, Terminated: True \n",
      "Episode:  45/150, Reward:   +92.00, Epsilon: 0.64, Rolling Avg:  54.00, Steps:  92, Terminated: True \n",
      "Episode:  46/150, Reward:   +15.00, Epsilon: 0.63, Rolling Avg:  50.60, Steps:  15, Terminated: True \n",
      "Episode:  47/150, Reward:   +53.00, Epsilon: 0.62, Rolling Avg:  51.80, Steps:  53, Terminated: True \n",
      "Episode:  48/150, Reward:   +36.00, Epsilon: 0.62, Rolling Avg:  43.00, Steps:  36, Terminated: True \n",
      "Episode:  49/150, Reward:   +27.00, Epsilon: 0.61, Rolling Avg:  44.60, Steps:  27, Terminated: True \n",
      "Episode:  50/150, Reward:   +40.00, Epsilon: 0.61, Rolling Avg:  34.20, Steps:  40, Terminated: True \n",
      "Episode:  51/150, Reward:   +62.00, Epsilon: 0.60, Rolling Avg:  43.60, Steps:  62, Terminated: True \n",
      "Episode:  52/150, Reward:   +49.00, Epsilon: 0.59, Rolling Avg:  42.80, Steps:  49, Terminated: True \n",
      "Episode:  53/150, Reward:   +17.00, Epsilon: 0.59, Rolling Avg:  39.00, Steps:  17, Terminated: True \n",
      "Episode:  54/150, Reward:   +18.00, Epsilon: 0.58, Rolling Avg:  37.20, Steps:  18, Terminated: True \n",
      "Episode:  55/150, Reward:   +25.00, Epsilon: 0.58, Rolling Avg:  34.20, Steps:  25, Terminated: True \n",
      "Episode:  56/150, Reward:   +24.00, Epsilon: 0.57, Rolling Avg:  26.60, Steps:  24, Terminated: True \n",
      "Episode:  57/150, Reward:   +65.00, Epsilon: 0.56, Rolling Avg:  29.80, Steps:  65, Terminated: True \n",
      "Episode:  58/150, Reward:   +56.00, Epsilon: 0.56, Rolling Avg:  37.60, Steps:  56, Terminated: True \n",
      "Episode:  59/150, Reward:   +44.00, Epsilon: 0.55, Rolling Avg:  42.80, Steps:  44, Terminated: True \n",
      "Episode:  60/150, Reward:   +47.00, Epsilon: 0.55, Rolling Avg:  47.20, Steps:  47, Terminated: True \n",
      "Episode:  61/150, Reward:   +31.00, Epsilon: 0.54, Rolling Avg:  48.60, Steps:  31, Terminated: True \n",
      "Episode:  62/150, Reward:   +43.00, Epsilon: 0.54, Rolling Avg:  44.20, Steps:  43, Terminated: True \n",
      "Episode:  63/150, Reward:   +98.00, Epsilon: 0.53, Rolling Avg:  52.60, Steps:  98, Terminated: True \n",
      "Episode:  64/150, Reward:   +22.00, Epsilon: 0.53, Rolling Avg:  48.20, Steps:  22, Terminated: True \n",
      "Episode:  65/150, Reward:   +22.00, Epsilon: 0.52, Rolling Avg:  43.20, Steps:  22, Terminated: True \n",
      "Episode:  66/150, Reward:   +89.00, Epsilon: 0.52, Rolling Avg:  54.80, Steps:  89, Terminated: True \n",
      "Episode:  67/150, Reward:   +33.00, Epsilon: 0.51, Rolling Avg:  52.80, Steps:  33, Terminated: True \n",
      "Episode:  68/150, Reward:   +44.00, Epsilon: 0.50, Rolling Avg:  42.00, Steps:  44, Terminated: True \n",
      "Episode:  69/150, Reward:   +36.00, Epsilon: 0.50, Rolling Avg:  44.80, Steps:  36, Terminated: True \n",
      "Episode:  70/150, Reward:   +73.00, Epsilon: 0.49, Rolling Avg:  55.00, Steps:  73, Terminated: True \n",
      "Episode:  71/150, Reward:  +219.00, Epsilon: 0.49, Rolling Avg:  81.00, Steps: 219, Terminated: True \n",
      "Episode:  72/150, Reward:  +250.00, Epsilon: 0.48, Rolling Avg: 124.40, Steps: 250, Terminated: True \n",
      "Episode:  73/150, Reward:   +71.00, Epsilon: 0.48, Rolling Avg: 129.80, Steps:  71, Terminated: True \n",
      "Episode:  74/150, Reward:   +74.00, Epsilon: 0.48, Rolling Avg: 137.40, Steps:  74, Terminated: True \n",
      "Episode:  75/150, Reward:   +73.00, Epsilon: 0.47, Rolling Avg: 137.40, Steps:  73, Terminated: True \n",
      "Episode:  76/150, Reward:   +37.00, Epsilon: 0.47, Rolling Avg: 101.00, Steps:  37, Terminated: True \n",
      "Episode:  77/150, Reward:   +14.00, Epsilon: 0.46, Rolling Avg:  53.80, Steps:  14, Terminated: True \n",
      "Episode:  78/150, Reward:  +185.00, Epsilon: 0.46, Rolling Avg:  76.60, Steps: 185, Terminated: True \n",
      "Episode:  79/150, Reward:   +16.00, Epsilon: 0.45, Rolling Avg:  65.00, Steps:  16, Terminated: True \n",
      "Episode:  80/150, Reward:   +95.00, Epsilon: 0.45, Rolling Avg:  69.40, Steps:  95, Terminated: True \n",
      "Episode:  81/150, Reward:   +54.00, Epsilon: 0.44, Rolling Avg:  72.80, Steps:  54, Terminated: True \n",
      "Episode:  82/150, Reward:   +42.00, Epsilon: 0.44, Rolling Avg:  78.40, Steps:  42, Terminated: True \n",
      "Episode:  83/150, Reward:  +128.00, Epsilon: 0.43, Rolling Avg:  67.00, Steps: 128, Terminated: True \n",
      "Episode:  84/150, Reward:  +660.00, Epsilon: 0.43, Rolling Avg: 195.80, Steps: 660, Terminated: True \n",
      "Environment solved in 84 episodes!\n",
      "Training completed in 18.59 minutes\n"
     ]
    }
   ],
   "source": [
    "# Training loop\n",
    "epsilon = epsilon_start\n",
    "episode_rewards = []\n",
    "rolling_avg_rewards = []\n",
    "\n",
    "start_time = time.time()\n",
    "\n",
    "for episode in range(max_episodes):\n",
    "    state, _ = env.reset()\n",
    "    state = np.reshape(state, [1, state_size])\n",
    "    total_reward = 0\n",
    "    done = False\n",
    "    terminated = False\n",
    "    truncated = False\n",
    "    step = 0\n",
    "    for e in range(max_steps):                       # Should be While True, however we limit number of eps\n",
    "        step = step + 1\n",
    "        # Epsilon-greedy policy\n",
    "        if np.random.rand() <= epsilon:\n",
    "            action = np.random.randint(action_size)  # Explore\n",
    "        else:\n",
    "            action_vals = model.predict(state, verbose=0)\n",
    "            action = np.argmax(action_vals[0])  # Exploit\n",
    "\n",
    "        # Perform action\n",
    "        next_state, reward, terminated, truncated, _ = env.step(action)\n",
    "        done = terminated \n",
    "        next_state = np.reshape(next_state, [1, state_size])\n",
    "        total_reward += reward\n",
    "\n",
    "        # Store experience\n",
    "        store_experience(state, action, reward, next_state, done)\n",
    "\n",
    "        # Update state\n",
    "        state = next_state\n",
    "\n",
    "        # Train using experience replay\n",
    "        experience_replay_with_ddqn(model, target_model, batch_size, gamma, tau, step)\n",
    "\n",
    "        if done:\n",
    "            break\n",
    "\n",
    "    # Decay epsilon\n",
    "    epsilon = max(epsilon_min, epsilon * epsilon_decay)\n",
    "\n",
    "    # Record reward\n",
    "    episode_rewards.append(total_reward)\n",
    "    rolling_avg = np.mean(episode_rewards[-5:])\n",
    "    rolling_avg_rewards.append(rolling_avg)\n",
    "\n",
    "    # Print progress\n",
    "    print(f\"Episode: {episode+1:3}/{max_episodes}, Reward: {total_reward:+8.2f}, \"\n",
    "          f\"Epsilon: {epsilon:.2f}, Rolling Avg: {rolling_avg:6.2f}, Steps: {step:3}, Terminated: {done} \")\n",
    "\n",
    "    # Check if environment is solved\n",
    "    if rolling_avg >= solved_threshold:\n",
    "        print(f\"Environment solved in {episode+1} episodes!\")\n",
    "        model.save(\"xxx_model1.keras\")\n",
    "        break\n",
    "\n",
    "end_time = time.time()\n",
    "print(f\"Training completed in {(end_time - start_time)/60:.2f} minutes\")\n"
   ]
  },
  {
   "cell_type": "markdown",
   "id": "525316ad",
   "metadata": {},
   "source": [
    "#### **Result Visualization**"
   ]
  },
  {
   "cell_type": "code",
   "execution_count": 9,
   "id": "16988f92",
   "metadata": {},
   "outputs": [
    {
     "data": {
      "image/png": "[encoded data removed]",
      "text/plain": [
       "<Figure size 1000x600 with 1 Axes>"
      ]
     },
     "metadata": {},
     "output_type": "display_data"
    }
   ],
   "source": [
    "# Plot rewards with rolling average\n",
    "plt.figure(figsize=(10, 6))\n",
    "plt.plot(episode_rewards, label='Rewards', color='blue')\n",
    "plt.plot(rolling_avg_rewards, label='Rolling Avg (Last 5 Episodes)', color='orange')\n",
    "plt.axhline(y=solved_threshold, color='red', linestyle='--', label='Solved Threshold')\n",
    "plt.title('DDQN Training Performance')\n",
    "plt.xlabel('Episodes')\n",
    "plt.ylabel('Rewards')\n",
    "plt.legend()\n",
    "plt.grid()\n",
    "plt.show()"
   ]
  },
  {
   "cell_type": "markdown",
   "id": "7f4c1d80",
   "metadata": {},
   "source": [
    "#### **Testing 10 episodes with the DDQN trained networks**"
   ]
  },
  {
   "cell_type": "code",
   "execution_count": 12,
   "id": "bdc1b93a",
   "metadata": {},
   "outputs": [
    {
     "name": "stdout",
     "output_type": "stream",
     "text": [
      "Test Episode: 1/10, Reward: 500.00, Steps: 500\n",
      "Test Episode: 2/10, Reward: 500.00, Steps: 500\n",
      "Test Episode: 3/10, Reward: 500.00, Steps: 500\n",
      "Test Episode: 4/10, Reward: 500.00, Steps: 500\n",
      "Test Episode: 5/10, Reward: 500.00, Steps: 500\n",
      "Test Episode: 6/10, Reward: 500.00, Steps: 500\n",
      "Test Episode: 7/10, Reward: 500.00, Steps: 500\n",
      "Test Episode: 8/10, Reward: 500.00, Steps: 500\n",
      "Test Episode: 9/10, Reward: 500.00, Steps: 500\n",
      "Test Episode: 10/10, Reward: 500.00, Steps: 500\n",
      "Testing completed in 4.70 minutes\n"
     ]
    }
   ],
   "source": [
    "# Testing for 10 episodes\n",
    "start_time = time.time()\n",
    "max_steps = 500\n",
    "\n",
    "for e_test in range(10):  # Run 10 test episodes\n",
    "    state, _ = env.reset()\n",
    "    state = np.reshape(state, [1, state_size])\n",
    "    total_reward = 0\n",
    "    \n",
    "    steps = 0\n",
    "    for s in range(max_steps):                            # we limit because sometimes it goes ad-aeternum\n",
    "        # Use the trained model for testing\n",
    "        action_vals = model.predict(state, verbose=0)  # Predict action values\n",
    "        action = np.argmax(action_vals[0])  # Choose the action with the highest Q-value\n",
    "\n",
    "        next_state, reward, done, _, _ = env.step(action)\n",
    "        next_state = np.reshape(next_state, [1, state_size])\n",
    "        total_reward += reward\n",
    "        state = next_state\n",
    "        steps = steps + 1\n",
    "\n",
    "        if done or (steps == max_steps):\n",
    "            print(f\"Test Episode: {e_test + 1}/10, Reward: {total_reward:.2f}, Steps: {steps:3}\")\n",
    "            break\n",
    "\n",
    "end_time = time.time()\n",
    "testing_duration = (end_time - start_time) / 60  # Convert to minutes\n",
    "print(f\"Testing completed in {testing_duration:.2f} minutes\")"
   ]
  },
  {
   "cell_type": "code",
   "execution_count": 11,
   "id": "8b8cc35b",
   "metadata": {},
   "outputs": [
    {
     "name": "stdout",
     "output_type": "stream",
     "text": [
      "-----\n",
      "PIL                 11.0.0\n",
      "gymnasium           1.0.0\n",
      "keras               3.6.0\n",
      "matplotlib          3.9.2\n",
      "numpy               1.26.4\n",
      "session_info        1.0.0\n",
      "tensorflow          2.17.1\n",
      "-----\n",
      "IPython             8.28.0\n",
      "jupyter_client      8.6.3\n",
      "jupyter_core        5.7.2\n",
      "-----\n",
      "Python 3.12.3 (main, Nov  6 2024, 18:32:19) [GCC 13.2.0]\n",
      "Linux-5.15.167.4-microsoft-standard-WSL2-x86_64-with-glibc2.39\n",
      "-----\n",
      "Session information updated at 2024-12-22 19:23\n"
     ]
    }
   ],
   "source": [
    "import session_info\n",
    "session_info.show(html=False)"
   ]
  }
 ],
 "metadata": {
  "kernelspec": {
   "display_name": "DL-Keras",
   "language": "python",
   "name": "dl-keras"
  },
  "language_info": {
   "codemirror_mode": {
    "name": "ipython",
    "version": 3
   },
   "file_extension": ".py",
   "mimetype": "text/x-python",
   "name": "python",
   "nbconvert_exporter": "python",
   "pygments_lexer": "ipython3",
   "version": "3.12.3"
  }
 },
 "nbformat": 4,
 "nbformat_minor": 5
}
