{
 "cells": [
  {
   "cell_type": "markdown",
   "id": "bad28014",
   "metadata": {},
   "source": [
    "### **CARTPOLE DDQN KERAS using an Agent Class**\n",
    "\n",
    "WIP\n",
    "\n",
    "**(soft update Polyak + some improvements)**\n",
    "\n",
    "This is a naive version vectorized of the DDQN Algorithm for the CARTPOLE env <br>\n",
    "Vectorizing we obtain a version that is faster and it is 'functional' as it works <br>\n",
    "It should converge around 100 episodes\n",
    "\n",
    "The Double DQN (DDQN) uses two networks one as a target and one as the trained network <br>\n",
    "\n",
    "The target network is a copy of the online network that is updated less frequently, <br>\n",
    "and is used to generate the target values for the Q-learning update\n",
    "\n",
    "It includes a soft update of the weights, instead of substituting the weights between the networks it blends them together using a Polyak averaging This was an improvement on the pure DDQN algorithm"
   ]
  },
  {
   "cell_type": "code",
   "execution_count": 1,
   "id": "548ece67",
   "metadata": {},
   "outputs": [
    {
     "name": "stderr",
     "output_type": "stream",
     "text": [
      "WARNING: All log messages before absl::InitializeLog() is called are written to STDERR\n",
      "I0000 00:00:1739124867.180248  726261 cuda_executor.cc:1001] could not open file to read NUMA node: /sys/bus/pci/devices/0000:01:00.0/numa_node\n",
      "Your kernel may have been built without NUMA support.\n",
      "I0000 00:00:1739124867.204926  726261 cuda_executor.cc:1001] could not open file to read NUMA node: /sys/bus/pci/devices/0000:01:00.0/numa_node\n",
      "Your kernel may have been built without NUMA support.\n",
      "I0000 00:00:1739124867.204966  726261 cuda_executor.cc:1001] could not open file to read NUMA node: /sys/bus/pci/devices/0000:01:00.0/numa_node\n",
      "Your kernel may have been built without NUMA support.\n",
      "I0000 00:00:1739124867.287820  726261 cuda_executor.cc:1001] could not open file to read NUMA node: /sys/bus/pci/devices/0000:01:00.0/numa_node\n",
      "Your kernel may have been built without NUMA support.\n",
      "I0000 00:00:1739124867.287864  726261 cuda_executor.cc:1001] could not open file to read NUMA node: /sys/bus/pci/devices/0000:01:00.0/numa_node\n",
      "Your kernel may have been built without NUMA support.\n",
      "I0000 00:00:1739124867.287888  726261 cuda_executor.cc:1001] could not open file to read NUMA node: /sys/bus/pci/devices/0000:01:00.0/numa_node\n",
      "Your kernel may have been built without NUMA support.\n",
      "I0000 00:00:1739124867.293434  726261 cuda_executor.cc:1001] could not open file to read NUMA node: /sys/bus/pci/devices/0000:01:00.0/numa_node\n",
      "Your kernel may have been built without NUMA support.\n",
      "I0000 00:00:1739124867.293502  726261 cuda_executor.cc:1001] could not open file to read NUMA node: /sys/bus/pci/devices/0000:01:00.0/numa_node\n",
      "Your kernel may have been built without NUMA support.\n",
      "I0000 00:00:1739124867.293519  726261 cuda_executor.cc:1001] could not open file to read NUMA node: /sys/bus/pci/devices/0000:01:00.0/numa_node\n",
      "Your kernel may have been built without NUMA support.\n",
      "I0000 00:00:1739124867.293674  726261 cuda_executor.cc:1001] could not open file to read NUMA node: /sys/bus/pci/devices/0000:01:00.0/numa_node\n",
      "Your kernel may have been built without NUMA support.\n",
      "I0000 00:00:1739124867.293695  726261 cuda_executor.cc:1001] could not open file to read NUMA node: /sys/bus/pci/devices/0000:01:00.0/numa_node\n",
      "Your kernel may have been built without NUMA support.\n",
      "I0000 00:00:1739124867.320540  726261 cuda_executor.cc:1001] could not open file to read NUMA node: /sys/bus/pci/devices/0000:01:00.0/numa_node\n",
      "Your kernel may have been built without NUMA support.\n",
      "I0000 00:00:1739124867.320605  726261 cuda_executor.cc:1001] could not open file to read NUMA node: /sys/bus/pci/devices/0000:01:00.0/numa_node\n",
      "Your kernel may have been built without NUMA support.\n",
      "I0000 00:00:1739124867.320619  726261 cuda_executor.cc:1001] could not open file to read NUMA node: /sys/bus/pci/devices/0000:01:00.0/numa_node\n",
      "Your kernel may have been built without NUMA support.\n",
      "I0000 00:00:1739124867.320726  726261 cuda_executor.cc:1001] could not open file to read NUMA node: /sys/bus/pci/devices/0000:01:00.0/numa_node\n",
      "Your kernel may have been built without NUMA support.\n",
      "I0000 00:00:1739124867.320739  726261 cuda_executor.cc:1001] could not open file to read NUMA node: /sys/bus/pci/devices/0000:01:00.0/numa_node\n",
      "Your kernel may have been built without NUMA support.\n",
      "I0000 00:00:1739124867.320748  726261 cuda_executor.cc:1001] could not open file to read NUMA node: /sys/bus/pci/devices/0000:01:00.0/numa_node\n",
      "Your kernel may have been built without NUMA support.\n",
      "I0000 00:00:1739124867.320874  726261 cuda_executor.cc:1001] could not open file to read NUMA node: /sys/bus/pci/devices/0000:01:00.0/numa_node\n",
      "Your kernel may have been built without NUMA support.\n",
      "I0000 00:00:1739124867.320897  726261 cuda_executor.cc:1001] could not open file to read NUMA node: /sys/bus/pci/devices/0000:01:00.0/numa_node\n",
      "Your kernel may have been built without NUMA support.\n",
      "WARNING: All log messages before absl::InitializeLog() is called are written to STDERR\n",
      "I0000 00:00:1739124867.945486  726364 service.cc:146] XLA service 0x7f9d5c004ef0 initialized for platform CUDA (this does not guarantee that XLA will be used). Devices:\n",
      "I0000 00:00:1739124867.945522  726364 service.cc:154]   StreamExecutor device (0): NVIDIA T600 Laptop GPU, Compute Capability 7.5\n",
      "I0000 00:00:1739124868.015161  726364 device_compiler.h:188] Compiled cluster using XLA!  This line is logged at most once for the lifetime of the process.\n"
     ]
    }
   ],
   "source": [
    "import os\n",
    "os.environ['TF_CPP_MIN_LOG_LEVEL'] = '3'\n",
    "\n",
    "import gymnasium as gym\n",
    "import numpy as np\n",
    "from tensorflow.keras.models import Sequential, Model\n",
    "from tensorflow.keras.layers import Dense, Input\n",
    "from tensorflow.keras.optimizers import Adam\n",
    "import tensorflow as tf\n",
    "import matplotlib.pyplot as plt\n",
    "from collections import deque\n",
    "import random\n",
    "\n",
    "import time\n",
    "from PIL import Image\n",
    "\n",
    "import sys\n",
    "sys.stderr = open('err.txt', 'w')"
   ]
  },
  {
   "cell_type": "code",
   "execution_count": 2,
   "id": "862b2f37",
   "metadata": {},
   "outputs": [
    {
     "name": "stdout",
     "output_type": "stream",
     "text": [
      "Using device: 0, name: NVIDIA T600 Laptop GPU, pci bus id: 0000:01:00.0, compute capability: 7.5\n"
     ]
    }
   ],
   "source": [
    "# Activate GPU\n",
    "from tensorflow.python.client import device_lib\n",
    "devices = device_lib.list_local_devices()\n",
    "gpu_devices = [device for device in devices if device.device_type == 'GPU']\n",
    "for gpu in gpu_devices:\n",
    "    print('Using', gpu.physical_device_desc)"
   ]
  },
  {
   "cell_type": "markdown",
   "id": "3fe60191",
   "metadata": {},
   "source": [
    "#### **Environment setup**"
   ]
  },
  {
   "cell_type": "code",
   "execution_count": 3,
   "id": "f7f53745",
   "metadata": {},
   "outputs": [
    {
     "name": "stdout",
     "output_type": "stream",
     "text": [
      "Using device: 0, name: NVIDIA T600 Laptop GPU, pci bus id: 0000:01:00.0, compute capability: 7.5\n"
     ]
    }
   ],
   "source": [
    "# GPU\n",
    "from tensorflow.python.client import device_lib\n",
    "devices = device_lib.list_local_devices()\n",
    "gpu_devices = [device for device in devices if device.device_type == 'GPU']\n",
    "for gpu in gpu_devices:\n",
    "    print('Using', gpu.physical_device_desc)"
   ]
  },
  {
   "cell_type": "code",
   "execution_count": 4,
   "id": "eb8cd8f6",
   "metadata": {},
   "outputs": [],
   "source": [
    "env = gym.make(\"CartPole-v1\")\n",
    "state_size = env.observation_space.shape[0]\n",
    "action_size = env.action_space.n\n"
   ]
  },
  {
   "cell_type": "markdown",
   "id": "a4e88cb4",
   "metadata": {},
   "source": [
    "#### **Hyperparameters**"
   ]
  },
  {
   "cell_type": "code",
   "execution_count": 5,
   "id": "7660da76",
   "metadata": {},
   "outputs": [],
   "source": [
    "ROLLING_WINDOW=20\n",
    "\n",
    "episodes = 300\n",
    "batch_size = 128\n",
    "gamma = 0.99                \n",
    "epsilon = 1.0\n",
    "epsilon_min = 0.01\n",
    "epsilon_decay = 0.99 \n",
    "learning_rate = 0.0001\n",
    "MEMORY_SIZE = 20000\n",
    "num_episodes = 1000\n",
    "solved_threshold = 195\n",
    "retrain_steps = 15            # We copy weights every retrain_steps \n",
    "tau = 0.015                   # Soft update, it is high for long retrain periods. Small for short retrain\n",
    "\n",
    "#lr: 0.0001 gamma 0.99 batch_size 128 tau  0.15 epsilon decay 0.99 retrain_steps  5"
   ]
  },
  {
   "cell_type": "markdown",
   "id": "65a7404f",
   "metadata": {},
   "source": [
    "#### **DDQN Agent Class**"
   ]
  },
  {
   "cell_type": "code",
   "execution_count": 6,
   "id": "b5fac61d",
   "metadata": {},
   "outputs": [],
   "source": [
    "class Agent_DDQN():\n",
    "    def __init__(self, states, actions, alpha, gamma, epsilon, tau):\n",
    "        self.nS = states\n",
    "        self.nA = actions\n",
    "        self.replay_buffer = deque([], maxlen=MEMORY_SIZE)\n",
    "        self.alpha = alpha\n",
    "        self_tau = tau\n",
    "        self.gamma = gamma\n",
    "        self.epsilon = epsilon\n",
    "        self.epsilon_min = epsilon_min\n",
    "        self.epsilon_decay = epsilon_decay\n",
    "        self.model        = self.build_NN()\n",
    "        self.target_model = self.build_NN()\n",
    "        self.target_model.set_weights(self.model.get_weights())\n",
    "        self.loss = []\n",
    "\n",
    "    def build_NN(self):\n",
    "        inputs = Input(shape=(state_size,), name=\"state_input\")\n",
    "        x = Dense(24, activation='relu', name=\"dense_1\")(inputs)\n",
    "        x = Dense(24, activation='relu', name=\"dense_2\")(x)\n",
    "        outputs = Dense(action_size, activation='linear', name=\"output_layer\")(x)\n",
    "        model = Model(inputs=inputs, outputs=outputs, name=\"Q_Network\")\n",
    "        model.compile(loss='mse', optimizer=Adam(learning_rate=learning_rate))\n",
    "        model.summary()\n",
    "        return model\n",
    "\n",
    "    def action(self, state):\n",
    "        action_vals = self.model.predict(state, verbose=0) \n",
    "        return np.argmax(action_vals[0])\n",
    "    \n",
    "    def random_action(self):\n",
    "        return random.randrange(self.nA) #Explore\n",
    "    \n",
    "    def sample_experiences(self, batch_size):\n",
    "        indices = np.random.choice(len(self.replay_buffer), batch_size, replace=False)\n",
    "        batch = [self.replay_buffer[i] for i in indices]\n",
    "        states, actions, rewards, next_states, dones = zip(*batch)\n",
    "        return (\n",
    "            np.vstack(states),\n",
    "            np.array(actions),\n",
    "            np.array(rewards),\n",
    "            np.vstack(next_states),\n",
    "            np.array(dones, dtype=np.float32)\n",
    "            )\n",
    "    def store_experience(self, state, action, reward, next_state, done):             # memorize\n",
    "        self.replay_buffer.append((state, action, reward, next_state, done))\n",
    "    \n",
    "    def experience_replay_DDQN(self, batch_size, tau):\n",
    "        if len(self.replay_buffer) < batch_size:\n",
    "            return\n",
    "        minibatch = random.sample(self.replay_buffer, batch_size)\n",
    "        states, actions, rewards, next_states, dones = self.sample_experiences(batch_size)\n",
    "        next_q_values = self.model.predict(next_states, verbose=0)\n",
    "        best_actions = np.argmax(next_q_values, axis=1)\n",
    "        target_q_values = self.target_model.predict(next_states, verbose=0)\n",
    "        \n",
    "        targets = rewards + gamma * target_q_values[np.arange(batch_size), best_actions] * (1 - dones)\n",
    "        \n",
    "        q_values = self.model.predict(states, verbose=0)\n",
    "        q_values[np.arange(batch_size), actions] = targets\n",
    "        self.model.fit(states, q_values, epochs=1, verbose=0)\n",
    "\n",
    "    # Apply soft update to target network\n",
    "        if step % retrain_steps == 0:   \n",
    "            self.soft_update(self.model, self.target_model, tau)\n",
    "        return\n",
    "\n",
    "\n",
    "    def soft_update(self, model, target_model, tau):\n",
    "        target_weights = target_model.get_weights()\n",
    "        model_weights = model.get_weights()\n",
    "        new_weights = [\n",
    "            tau * mw + (1 - tau) * tw for mw, tw in zip(model_weights, target_weights)\n",
    "        ]\n",
    "        target_model.set_weights(new_weights)\n",
    "        return"
   ]
  },
  {
   "cell_type": "markdown",
   "id": "786f3afa",
   "metadata": {},
   "source": [
    "#### **Support Functions**"
   ]
  },
  {
   "cell_type": "code",
   "execution_count": 7,
   "id": "620a9a45",
   "metadata": {},
   "outputs": [],
   "source": [
    "def select_action_greedy(state, agent_DDQN): \n",
    "    \"\"\" Greedy action selection \"\"\"\n",
    "    if np.random.rand() <= epsilon:\n",
    "        return agent_DDQN.random_action()\n",
    "    return agent_DDQN.action(state) "
   ]
  },
  {
   "cell_type": "markdown",
   "id": "b862c4b3",
   "metadata": {},
   "source": [
    "#### **Initialize Agent**"
   ]
  },
  {
   "cell_type": "code",
   "execution_count": 8,
   "id": "fe6453f5",
   "metadata": {},
   "outputs": [
    {
     "data": {
      "text/html": [
       "<pre style=\"white-space:pre;overflow-x:auto;line-height:normal;font-family:Menlo,'DejaVu Sans Mono',consolas,'Courier New',monospace\"><span style=\"font-weight: bold\">Model: \"Q_Network\"</span>\n",
       "</pre>\n"
      ],
      "text/plain": [
       "\u001b[1mModel: \"Q_Network\"\u001b[0m\n"
      ]
     },
     "metadata": {},
     "output_type": "display_data"
    },
    {
     "data": {
      "text/html": [
       "<pre style=\"white-space:pre;overflow-x:auto;line-height:normal;font-family:Menlo,'DejaVu Sans Mono',consolas,'Courier New',monospace\">┏━━━━━━━━━━━━━━━━━━━━━━━━━━━━━━━━━┳━━━━━━━━━━━━━━━━━━━━━━━━┳━━━━━━━━━━━━━━━┓\n",
       "┃<span style=\"font-weight: bold\"> Layer (type)                    </span>┃<span style=\"font-weight: bold\"> Output Shape           </span>┃<span style=\"font-weight: bold\">       Param # </span>┃\n",
       "┡━━━━━━━━━━━━━━━━━━━━━━━━━━━━━━━━━╇━━━━━━━━━━━━━━━━━━━━━━━━╇━━━━━━━━━━━━━━━┩\n",
       "│ state_input (<span style=\"color: #0087ff; text-decoration-color: #0087ff\">InputLayer</span>)        │ (<span style=\"color: #00d7ff; text-decoration-color: #00d7ff\">None</span>, <span style=\"color: #00af00; text-decoration-color: #00af00\">4</span>)              │             <span style=\"color: #00af00; text-decoration-color: #00af00\">0</span> │\n",
       "├─────────────────────────────────┼────────────────────────┼───────────────┤\n",
       "│ dense_1 (<span style=\"color: #0087ff; text-decoration-color: #0087ff\">Dense</span>)                 │ (<span style=\"color: #00d7ff; text-decoration-color: #00d7ff\">None</span>, <span style=\"color: #00af00; text-decoration-color: #00af00\">24</span>)             │           <span style=\"color: #00af00; text-decoration-color: #00af00\">120</span> │\n",
       "├─────────────────────────────────┼────────────────────────┼───────────────┤\n",
       "│ dense_2 (<span style=\"color: #0087ff; text-decoration-color: #0087ff\">Dense</span>)                 │ (<span style=\"color: #00d7ff; text-decoration-color: #00d7ff\">None</span>, <span style=\"color: #00af00; text-decoration-color: #00af00\">24</span>)             │           <span style=\"color: #00af00; text-decoration-color: #00af00\">600</span> │\n",
       "├─────────────────────────────────┼────────────────────────┼───────────────┤\n",
       "│ output_layer (<span style=\"color: #0087ff; text-decoration-color: #0087ff\">Dense</span>)            │ (<span style=\"color: #00d7ff; text-decoration-color: #00d7ff\">None</span>, <span style=\"color: #00af00; text-decoration-color: #00af00\">2</span>)              │            <span style=\"color: #00af00; text-decoration-color: #00af00\">50</span> │\n",
       "└─────────────────────────────────┴────────────────────────┴───────────────┘\n",
       "</pre>\n"
      ],
      "text/plain": [
       "┏━━━━━━━━━━━━━━━━━━━━━━━━━━━━━━━━━┳━━━━━━━━━━━━━━━━━━━━━━━━┳━━━━━━━━━━━━━━━┓\n",
       "┃\u001b[1m \u001b[0m\u001b[1mLayer (type)                   \u001b[0m\u001b[1m \u001b[0m┃\u001b[1m \u001b[0m\u001b[1mOutput Shape          \u001b[0m\u001b[1m \u001b[0m┃\u001b[1m \u001b[0m\u001b[1m      Param #\u001b[0m\u001b[1m \u001b[0m┃\n",
       "┡━━━━━━━━━━━━━━━━━━━━━━━━━━━━━━━━━╇━━━━━━━━━━━━━━━━━━━━━━━━╇━━━━━━━━━━━━━━━┩\n",
       "│ state_input (\u001b[38;5;33mInputLayer\u001b[0m)        │ (\u001b[38;5;45mNone\u001b[0m, \u001b[38;5;34m4\u001b[0m)              │             \u001b[38;5;34m0\u001b[0m │\n",
       "├─────────────────────────────────┼────────────────────────┼───────────────┤\n",
       "│ dense_1 (\u001b[38;5;33mDense\u001b[0m)                 │ (\u001b[38;5;45mNone\u001b[0m, \u001b[38;5;34m24\u001b[0m)             │           \u001b[38;5;34m120\u001b[0m │\n",
       "├─────────────────────────────────┼────────────────────────┼───────────────┤\n",
       "│ dense_2 (\u001b[38;5;33mDense\u001b[0m)                 │ (\u001b[38;5;45mNone\u001b[0m, \u001b[38;5;34m24\u001b[0m)             │           \u001b[38;5;34m600\u001b[0m │\n",
       "├─────────────────────────────────┼────────────────────────┼───────────────┤\n",
       "│ output_layer (\u001b[38;5;33mDense\u001b[0m)            │ (\u001b[38;5;45mNone\u001b[0m, \u001b[38;5;34m2\u001b[0m)              │            \u001b[38;5;34m50\u001b[0m │\n",
       "└─────────────────────────────────┴────────────────────────┴───────────────┘\n"
      ]
     },
     "metadata": {},
     "output_type": "display_data"
    },
    {
     "data": {
      "text/html": [
       "<pre style=\"white-space:pre;overflow-x:auto;line-height:normal;font-family:Menlo,'DejaVu Sans Mono',consolas,'Courier New',monospace\"><span style=\"font-weight: bold\"> Total params: </span><span style=\"color: #00af00; text-decoration-color: #00af00\">770</span> (3.01 KB)\n",
       "</pre>\n"
      ],
      "text/plain": [
       "\u001b[1m Total params: \u001b[0m\u001b[38;5;34m770\u001b[0m (3.01 KB)\n"
      ]
     },
     "metadata": {},
     "output_type": "display_data"
    },
    {
     "data": {
      "text/html": [
       "<pre style=\"white-space:pre;overflow-x:auto;line-height:normal;font-family:Menlo,'DejaVu Sans Mono',consolas,'Courier New',monospace\"><span style=\"font-weight: bold\"> Trainable params: </span><span style=\"color: #00af00; text-decoration-color: #00af00\">770</span> (3.01 KB)\n",
       "</pre>\n"
      ],
      "text/plain": [
       "\u001b[1m Trainable params: \u001b[0m\u001b[38;5;34m770\u001b[0m (3.01 KB)\n"
      ]
     },
     "metadata": {},
     "output_type": "display_data"
    },
    {
     "data": {
      "text/html": [
       "<pre style=\"white-space:pre;overflow-x:auto;line-height:normal;font-family:Menlo,'DejaVu Sans Mono',consolas,'Courier New',monospace\"><span style=\"font-weight: bold\"> Non-trainable params: </span><span style=\"color: #00af00; text-decoration-color: #00af00\">0</span> (0.00 B)\n",
       "</pre>\n"
      ],
      "text/plain": [
       "\u001b[1m Non-trainable params: \u001b[0m\u001b[38;5;34m0\u001b[0m (0.00 B)\n"
      ]
     },
     "metadata": {},
     "output_type": "display_data"
    },
    {
     "data": {
      "text/html": [
       "<pre style=\"white-space:pre;overflow-x:auto;line-height:normal;font-family:Menlo,'DejaVu Sans Mono',consolas,'Courier New',monospace\"><span style=\"font-weight: bold\">Model: \"Q_Network\"</span>\n",
       "</pre>\n"
      ],
      "text/plain": [
       "\u001b[1mModel: \"Q_Network\"\u001b[0m\n"
      ]
     },
     "metadata": {},
     "output_type": "display_data"
    },
    {
     "data": {
      "text/html": [
       "<pre style=\"white-space:pre;overflow-x:auto;line-height:normal;font-family:Menlo,'DejaVu Sans Mono',consolas,'Courier New',monospace\">┏━━━━━━━━━━━━━━━━━━━━━━━━━━━━━━━━━┳━━━━━━━━━━━━━━━━━━━━━━━━┳━━━━━━━━━━━━━━━┓\n",
       "┃<span style=\"font-weight: bold\"> Layer (type)                    </span>┃<span style=\"font-weight: bold\"> Output Shape           </span>┃<span style=\"font-weight: bold\">       Param # </span>┃\n",
       "┡━━━━━━━━━━━━━━━━━━━━━━━━━━━━━━━━━╇━━━━━━━━━━━━━━━━━━━━━━━━╇━━━━━━━━━━━━━━━┩\n",
       "│ state_input (<span style=\"color: #0087ff; text-decoration-color: #0087ff\">InputLayer</span>)        │ (<span style=\"color: #00d7ff; text-decoration-color: #00d7ff\">None</span>, <span style=\"color: #00af00; text-decoration-color: #00af00\">4</span>)              │             <span style=\"color: #00af00; text-decoration-color: #00af00\">0</span> │\n",
       "├─────────────────────────────────┼────────────────────────┼───────────────┤\n",
       "│ dense_1 (<span style=\"color: #0087ff; text-decoration-color: #0087ff\">Dense</span>)                 │ (<span style=\"color: #00d7ff; text-decoration-color: #00d7ff\">None</span>, <span style=\"color: #00af00; text-decoration-color: #00af00\">24</span>)             │           <span style=\"color: #00af00; text-decoration-color: #00af00\">120</span> │\n",
       "├─────────────────────────────────┼────────────────────────┼───────────────┤\n",
       "│ dense_2 (<span style=\"color: #0087ff; text-decoration-color: #0087ff\">Dense</span>)                 │ (<span style=\"color: #00d7ff; text-decoration-color: #00d7ff\">None</span>, <span style=\"color: #00af00; text-decoration-color: #00af00\">24</span>)             │           <span style=\"color: #00af00; text-decoration-color: #00af00\">600</span> │\n",
       "├─────────────────────────────────┼────────────────────────┼───────────────┤\n",
       "│ output_layer (<span style=\"color: #0087ff; text-decoration-color: #0087ff\">Dense</span>)            │ (<span style=\"color: #00d7ff; text-decoration-color: #00d7ff\">None</span>, <span style=\"color: #00af00; text-decoration-color: #00af00\">2</span>)              │            <span style=\"color: #00af00; text-decoration-color: #00af00\">50</span> │\n",
       "└─────────────────────────────────┴────────────────────────┴───────────────┘\n",
       "</pre>\n"
      ],
      "text/plain": [
       "┏━━━━━━━━━━━━━━━━━━━━━━━━━━━━━━━━━┳━━━━━━━━━━━━━━━━━━━━━━━━┳━━━━━━━━━━━━━━━┓\n",
       "┃\u001b[1m \u001b[0m\u001b[1mLayer (type)                   \u001b[0m\u001b[1m \u001b[0m┃\u001b[1m \u001b[0m\u001b[1mOutput Shape          \u001b[0m\u001b[1m \u001b[0m┃\u001b[1m \u001b[0m\u001b[1m      Param #\u001b[0m\u001b[1m \u001b[0m┃\n",
       "┡━━━━━━━━━━━━━━━━━━━━━━━━━━━━━━━━━╇━━━━━━━━━━━━━━━━━━━━━━━━╇━━━━━━━━━━━━━━━┩\n",
       "│ state_input (\u001b[38;5;33mInputLayer\u001b[0m)        │ (\u001b[38;5;45mNone\u001b[0m, \u001b[38;5;34m4\u001b[0m)              │             \u001b[38;5;34m0\u001b[0m │\n",
       "├─────────────────────────────────┼────────────────────────┼───────────────┤\n",
       "│ dense_1 (\u001b[38;5;33mDense\u001b[0m)                 │ (\u001b[38;5;45mNone\u001b[0m, \u001b[38;5;34m24\u001b[0m)             │           \u001b[38;5;34m120\u001b[0m │\n",
       "├─────────────────────────────────┼────────────────────────┼───────────────┤\n",
       "│ dense_2 (\u001b[38;5;33mDense\u001b[0m)                 │ (\u001b[38;5;45mNone\u001b[0m, \u001b[38;5;34m24\u001b[0m)             │           \u001b[38;5;34m600\u001b[0m │\n",
       "├─────────────────────────────────┼────────────────────────┼───────────────┤\n",
       "│ output_layer (\u001b[38;5;33mDense\u001b[0m)            │ (\u001b[38;5;45mNone\u001b[0m, \u001b[38;5;34m2\u001b[0m)              │            \u001b[38;5;34m50\u001b[0m │\n",
       "└─────────────────────────────────┴────────────────────────┴───────────────┘\n"
      ]
     },
     "metadata": {},
     "output_type": "display_data"
    },
    {
     "data": {
      "text/html": [
       "<pre style=\"white-space:pre;overflow-x:auto;line-height:normal;font-family:Menlo,'DejaVu Sans Mono',consolas,'Courier New',monospace\"><span style=\"font-weight: bold\"> Total params: </span><span style=\"color: #00af00; text-decoration-color: #00af00\">770</span> (3.01 KB)\n",
       "</pre>\n"
      ],
      "text/plain": [
       "\u001b[1m Total params: \u001b[0m\u001b[38;5;34m770\u001b[0m (3.01 KB)\n"
      ]
     },
     "metadata": {},
     "output_type": "display_data"
    },
    {
     "data": {
      "text/html": [
       "<pre style=\"white-space:pre;overflow-x:auto;line-height:normal;font-family:Menlo,'DejaVu Sans Mono',consolas,'Courier New',monospace\"><span style=\"font-weight: bold\"> Trainable params: </span><span style=\"color: #00af00; text-decoration-color: #00af00\">770</span> (3.01 KB)\n",
       "</pre>\n"
      ],
      "text/plain": [
       "\u001b[1m Trainable params: \u001b[0m\u001b[38;5;34m770\u001b[0m (3.01 KB)\n"
      ]
     },
     "metadata": {},
     "output_type": "display_data"
    },
    {
     "data": {
      "text/html": [
       "<pre style=\"white-space:pre;overflow-x:auto;line-height:normal;font-family:Menlo,'DejaVu Sans Mono',consolas,'Courier New',monospace\"><span style=\"font-weight: bold\"> Non-trainable params: </span><span style=\"color: #00af00; text-decoration-color: #00af00\">0</span> (0.00 B)\n",
       "</pre>\n"
      ],
      "text/plain": [
       "\u001b[1m Non-trainable params: \u001b[0m\u001b[38;5;34m0\u001b[0m (0.00 B)\n"
      ]
     },
     "metadata": {},
     "output_type": "display_data"
    }
   ],
   "source": [
    "envCartPole = gym.make('CartPole-v1')\n",
    "state_size = env.observation_space.shape[0]\n",
    "action_size = env.action_space.n\n",
    "\n",
    "agent = Agent_DDQN(state_size, action_size, learning_rate, gamma, epsilon, tau)"
   ]
  },
  {
   "cell_type": "markdown",
   "id": "61447319",
   "metadata": {},
   "source": [
    "#### **Training Phase**"
   ]
  },
  {
   "cell_type": "code",
   "execution_count": 9,
   "id": "8617a95f",
   "metadata": {
    "scrolled": false
   },
   "outputs": [
    {
     "name": "stdout",
     "output_type": "stream",
     "text": [
      "Episode:   1/1000, Reward:   +28.00, Epsilon: 0.99, Rolling Avg:   28.00, Steps:  28, Terminated: True \n",
      "Episode:   2/1000, Reward:   +15.00, Epsilon: 0.98, Rolling Avg:   21.50, Steps:  15, Terminated: True \n",
      "Episode:   3/1000, Reward:   +25.00, Epsilon: 0.97, Rolling Avg:   22.67, Steps:  25, Terminated: True \n",
      "Episode:   4/1000, Reward:    +9.00, Epsilon: 0.96, Rolling Avg:   19.25, Steps:   9, Terminated: True \n",
      "Episode:   5/1000, Reward:   +29.00, Epsilon: 0.95, Rolling Avg:   21.20, Steps:  29, Terminated: True \n",
      "Episode:   6/1000, Reward:   +12.00, Epsilon: 0.94, Rolling Avg:   19.67, Steps:  12, Terminated: True \n",
      "Episode:   7/1000, Reward:   +13.00, Epsilon: 0.93, Rolling Avg:   18.71, Steps:  13, Terminated: True \n",
      "Episode:   8/1000, Reward:   +21.00, Epsilon: 0.92, Rolling Avg:   19.00, Steps:  21, Terminated: True \n",
      "Episode:   9/1000, Reward:   +17.00, Epsilon: 0.91, Rolling Avg:   18.78, Steps:  17, Terminated: True \n",
      "Episode:  10/1000, Reward:   +22.00, Epsilon: 0.90, Rolling Avg:   19.10, Steps:  22, Terminated: True \n",
      "Episode:  11/1000, Reward:   +25.00, Epsilon: 0.90, Rolling Avg:   19.64, Steps:  25, Terminated: True \n",
      "Episode:  12/1000, Reward:   +10.00, Epsilon: 0.89, Rolling Avg:   18.83, Steps:  10, Terminated: True \n",
      "Episode:  13/1000, Reward:   +11.00, Epsilon: 0.88, Rolling Avg:   18.23, Steps:  11, Terminated: True \n",
      "Episode:  14/1000, Reward:   +15.00, Epsilon: 0.87, Rolling Avg:   18.00, Steps:  15, Terminated: True \n",
      "Episode:  15/1000, Reward:   +12.00, Epsilon: 0.86, Rolling Avg:   17.60, Steps:  12, Terminated: True \n",
      "Episode:  16/1000, Reward:   +17.00, Epsilon: 0.85, Rolling Avg:   17.56, Steps:  17, Terminated: True \n",
      "Episode:  17/1000, Reward:   +22.00, Epsilon: 0.84, Rolling Avg:   17.82, Steps:  22, Terminated: True \n",
      "Episode:  18/1000, Reward:   +33.00, Epsilon: 0.83, Rolling Avg:   18.67, Steps:  33, Terminated: True \n",
      "Episode:  19/1000, Reward:   +17.00, Epsilon: 0.83, Rolling Avg:   18.58, Steps:  17, Terminated: True \n",
      "Episode:  20/1000, Reward:   +14.00, Epsilon: 0.82, Rolling Avg:   18.35, Steps:  14, Terminated: True \n",
      "Episode:  21/1000, Reward:   +17.00, Epsilon: 0.81, Rolling Avg:   17.80, Steps:  17, Terminated: True \n",
      "Episode:  22/1000, Reward:   +30.00, Epsilon: 0.80, Rolling Avg:   18.55, Steps:  30, Terminated: True \n",
      "Episode:  23/1000, Reward:   +28.00, Epsilon: 0.79, Rolling Avg:   18.70, Steps:  28, Terminated: True \n",
      "Episode:  24/1000, Reward:   +39.00, Epsilon: 0.79, Rolling Avg:   20.20, Steps:  39, Terminated: True \n",
      "Episode:  25/1000, Reward:   +28.00, Epsilon: 0.78, Rolling Avg:   20.15, Steps:  28, Terminated: True \n",
      "Episode:  26/1000, Reward:   +20.00, Epsilon: 0.77, Rolling Avg:   20.55, Steps:  20, Terminated: True \n",
      "Episode:  27/1000, Reward:   +13.00, Epsilon: 0.76, Rolling Avg:   20.55, Steps:  13, Terminated: True \n",
      "Episode:  28/1000, Reward:   +13.00, Epsilon: 0.75, Rolling Avg:   20.15, Steps:  13, Terminated: True \n",
      "Episode:  29/1000, Reward:   +12.00, Epsilon: 0.75, Rolling Avg:   19.90, Steps:  12, Terminated: True \n",
      "Episode:  30/1000, Reward:   +24.00, Epsilon: 0.74, Rolling Avg:   20.00, Steps:  24, Terminated: True \n",
      "Episode:  31/1000, Reward:   +27.00, Epsilon: 0.73, Rolling Avg:   20.10, Steps:  27, Terminated: True \n",
      "Episode:  32/1000, Reward:   +30.00, Epsilon: 0.72, Rolling Avg:   21.10, Steps:  30, Terminated: True \n",
      "Episode:  33/1000, Reward:   +10.00, Epsilon: 0.72, Rolling Avg:   21.05, Steps:  10, Terminated: True \n",
      "Episode:  34/1000, Reward:   +24.00, Epsilon: 0.71, Rolling Avg:   21.50, Steps:  24, Terminated: True \n",
      "Episode:  35/1000, Reward:   +18.00, Epsilon: 0.70, Rolling Avg:   21.80, Steps:  18, Terminated: True \n",
      "Episode:  36/1000, Reward:   +21.00, Epsilon: 0.70, Rolling Avg:   22.00, Steps:  21, Terminated: True \n",
      "Episode:  37/1000, Reward:   +19.00, Epsilon: 0.69, Rolling Avg:   21.85, Steps:  19, Terminated: True \n",
      "Episode:  38/1000, Reward:    +9.00, Epsilon: 0.68, Rolling Avg:   20.65, Steps:   9, Terminated: True \n",
      "Episode:  39/1000, Reward:   +17.00, Epsilon: 0.68, Rolling Avg:   20.65, Steps:  17, Terminated: True \n",
      "Episode:  40/1000, Reward:   +16.00, Epsilon: 0.67, Rolling Avg:   20.75, Steps:  16, Terminated: True \n",
      "Episode:  41/1000, Reward:   +27.00, Epsilon: 0.66, Rolling Avg:   21.25, Steps:  27, Terminated: True \n",
      "Episode:  42/1000, Reward:   +40.00, Epsilon: 0.66, Rolling Avg:   21.75, Steps:  40, Terminated: True \n",
      "Episode:  43/1000, Reward:   +29.00, Epsilon: 0.65, Rolling Avg:   21.80, Steps:  29, Terminated: True \n",
      "Episode:  44/1000, Reward:   +27.00, Epsilon: 0.64, Rolling Avg:   21.20, Steps:  27, Terminated: True \n",
      "Episode:  45/1000, Reward:   +61.00, Epsilon: 0.64, Rolling Avg:   22.85, Steps:  61, Terminated: True \n",
      "Episode:  46/1000, Reward:   +42.00, Epsilon: 0.63, Rolling Avg:   23.95, Steps:  42, Terminated: True \n",
      "Episode:  47/1000, Reward:   +57.00, Epsilon: 0.62, Rolling Avg:   26.15, Steps:  57, Terminated: True \n",
      "Episode:  48/1000, Reward:   +37.00, Epsilon: 0.62, Rolling Avg:   27.35, Steps:  37, Terminated: True \n",
      "Episode:  49/1000, Reward:   +22.00, Epsilon: 0.61, Rolling Avg:   27.85, Steps:  22, Terminated: True \n",
      "Episode:  50/1000, Reward:   +36.00, Epsilon: 0.61, Rolling Avg:   28.45, Steps:  36, Terminated: True \n",
      "Episode:  51/1000, Reward:  +109.00, Epsilon: 0.60, Rolling Avg:   32.55, Steps: 109, Terminated: True \n",
      "Episode:  52/1000, Reward:   +32.00, Epsilon: 0.59, Rolling Avg:   32.65, Steps:  32, Terminated: True \n",
      "Episode:  53/1000, Reward:   +40.00, Epsilon: 0.59, Rolling Avg:   34.15, Steps:  40, Terminated: True \n",
      "Episode:  54/1000, Reward:   +24.00, Epsilon: 0.58, Rolling Avg:   34.15, Steps:  24, Terminated: True \n",
      "Episode:  55/1000, Reward:   +51.00, Epsilon: 0.58, Rolling Avg:   35.80, Steps:  51, Terminated: True \n",
      "Episode:  56/1000, Reward:   +19.00, Epsilon: 0.57, Rolling Avg:   35.70, Steps:  19, Terminated: True \n",
      "Episode:  57/1000, Reward:   +48.00, Epsilon: 0.56, Rolling Avg:   37.15, Steps:  48, Terminated: True \n",
      "Episode:  58/1000, Reward:   +45.00, Epsilon: 0.56, Rolling Avg:   38.95, Steps:  45, Terminated: True \n",
      "Episode:  59/1000, Reward:   +25.00, Epsilon: 0.55, Rolling Avg:   39.35, Steps:  25, Terminated: True \n",
      "Episode:  60/1000, Reward:   +55.00, Epsilon: 0.55, Rolling Avg:   41.30, Steps:  55, Terminated: True \n",
      "Episode:  61/1000, Reward:   +28.00, Epsilon: 0.54, Rolling Avg:   41.35, Steps:  28, Terminated: True \n",
      "Episode:  62/1000, Reward:   +19.00, Epsilon: 0.54, Rolling Avg:   40.30, Steps:  19, Terminated: True \n",
      "Episode:  63/1000, Reward:   +21.00, Epsilon: 0.53, Rolling Avg:   39.90, Steps:  21, Terminated: True \n",
      "Episode:  64/1000, Reward:   +15.00, Epsilon: 0.53, Rolling Avg:   39.30, Steps:  15, Terminated: True \n",
      "Episode:  65/1000, Reward:   +43.00, Epsilon: 0.52, Rolling Avg:   38.40, Steps:  43, Terminated: True \n",
      "Episode:  66/1000, Reward:   +35.00, Epsilon: 0.52, Rolling Avg:   38.05, Steps:  35, Terminated: True \n",
      "Episode:  67/1000, Reward:   +19.00, Epsilon: 0.51, Rolling Avg:   36.15, Steps:  19, Terminated: True \n",
      "Episode:  68/1000, Reward:   +48.00, Epsilon: 0.50, Rolling Avg:   36.70, Steps:  48, Terminated: True \n",
      "Episode:  69/1000, Reward:   +22.00, Epsilon: 0.50, Rolling Avg:   36.70, Steps:  22, Terminated: True \n",
      "Episode:  70/1000, Reward:   +19.00, Epsilon: 0.49, Rolling Avg:   35.85, Steps:  19, Terminated: True \n",
      "Episode:  71/1000, Reward:   +32.00, Epsilon: 0.49, Rolling Avg:   32.00, Steps:  32, Terminated: True \n",
      "Episode:  72/1000, Reward:   +36.00, Epsilon: 0.48, Rolling Avg:   32.20, Steps:  36, Terminated: True \n",
      "Episode:  73/1000, Reward:   +24.00, Epsilon: 0.48, Rolling Avg:   31.40, Steps:  24, Terminated: True \n",
      "Episode:  74/1000, Reward:   +35.00, Epsilon: 0.48, Rolling Avg:   31.95, Steps:  35, Terminated: True \n",
      "Episode:  75/1000, Reward:   +12.00, Epsilon: 0.47, Rolling Avg:   30.00, Steps:  12, Terminated: True \n",
      "Episode:  76/1000, Reward:   +48.00, Epsilon: 0.47, Rolling Avg:   31.45, Steps:  48, Terminated: True \n",
      "Episode:  77/1000, Reward:   +27.00, Epsilon: 0.46, Rolling Avg:   30.40, Steps:  27, Terminated: True \n",
      "Episode:  78/1000, Reward:   +26.00, Epsilon: 0.46, Rolling Avg:   29.45, Steps:  26, Terminated: True \n",
      "Episode:  79/1000, Reward:   +77.00, Epsilon: 0.45, Rolling Avg:   32.05, Steps:  77, Terminated: True \n"
     ]
    },
    {
     "name": "stdout",
     "output_type": "stream",
     "text": [
      "Episode:  80/1000, Reward:   +21.00, Epsilon: 0.45, Rolling Avg:   30.35, Steps:  21, Terminated: True \n",
      "Episode:  81/1000, Reward:   +32.00, Epsilon: 0.44, Rolling Avg:   30.55, Steps:  32, Terminated: True \n",
      "Episode:  82/1000, Reward:   +27.00, Epsilon: 0.44, Rolling Avg:   30.95, Steps:  27, Terminated: True \n",
      "Episode:  83/1000, Reward:   +24.00, Epsilon: 0.43, Rolling Avg:   31.10, Steps:  24, Terminated: True \n",
      "Episode:  84/1000, Reward:   +45.00, Epsilon: 0.43, Rolling Avg:   32.60, Steps:  45, Terminated: True \n",
      "Episode:  85/1000, Reward:   +27.00, Epsilon: 0.43, Rolling Avg:   31.80, Steps:  27, Terminated: True \n",
      "Episode:  86/1000, Reward:   +48.00, Epsilon: 0.42, Rolling Avg:   32.45, Steps:  48, Terminated: True \n",
      "Episode:  87/1000, Reward:   +49.00, Epsilon: 0.42, Rolling Avg:   33.95, Steps:  49, Terminated: True \n",
      "Episode:  88/1000, Reward:   +74.00, Epsilon: 0.41, Rolling Avg:   35.25, Steps:  74, Terminated: True \n",
      "Episode:  89/1000, Reward:   +27.00, Epsilon: 0.41, Rolling Avg:   35.50, Steps:  27, Terminated: True \n",
      "Episode:  90/1000, Reward:   +41.00, Epsilon: 0.40, Rolling Avg:   36.60, Steps:  41, Terminated: True \n",
      "Episode:  91/1000, Reward:   +33.00, Epsilon: 0.40, Rolling Avg:   36.65, Steps:  33, Terminated: True \n",
      "Episode:  92/1000, Reward:   +50.00, Epsilon: 0.40, Rolling Avg:   37.35, Steps:  50, Terminated: True \n",
      "Episode:  93/1000, Reward:   +49.00, Epsilon: 0.39, Rolling Avg:   38.60, Steps:  49, Terminated: True \n",
      "Episode:  94/1000, Reward:   +30.00, Epsilon: 0.39, Rolling Avg:   38.35, Steps:  30, Terminated: True \n",
      "Episode:  95/1000, Reward:   +51.00, Epsilon: 0.38, Rolling Avg:   40.30, Steps:  51, Terminated: True \n",
      "Episode:  96/1000, Reward:   +92.00, Epsilon: 0.38, Rolling Avg:   42.50, Steps:  92, Terminated: True \n",
      "Episode:  97/1000, Reward:   +74.00, Epsilon: 0.38, Rolling Avg:   44.85, Steps:  74, Terminated: True \n",
      "Episode:  98/1000, Reward:  +157.00, Epsilon: 0.37, Rolling Avg:   51.40, Steps: 157, Terminated: True \n",
      "Episode:  99/1000, Reward:   +48.00, Epsilon: 0.37, Rolling Avg:   49.95, Steps:  48, Terminated: True \n",
      "Episode: 100/1000, Reward:   +31.00, Epsilon: 0.37, Rolling Avg:   50.45, Steps:  31, Terminated: True \n",
      "Episode: 101/1000, Reward:   +85.00, Epsilon: 0.36, Rolling Avg:   53.10, Steps:  85, Terminated: True \n",
      "Episode: 102/1000, Reward:   +70.00, Epsilon: 0.36, Rolling Avg:   55.25, Steps:  70, Terminated: True \n",
      "Episode: 103/1000, Reward:   +48.00, Epsilon: 0.36, Rolling Avg:   56.45, Steps:  48, Terminated: True \n",
      "Episode: 104/1000, Reward:  +202.00, Epsilon: 0.35, Rolling Avg:   64.30, Steps: 202, Terminated: True \n",
      "Episode: 105/1000, Reward:  +103.00, Epsilon: 0.35, Rolling Avg:   68.10, Steps: 103, Terminated: True \n",
      "Episode: 106/1000, Reward:  +107.00, Epsilon: 0.34, Rolling Avg:   71.05, Steps: 107, Terminated: True \n",
      "Episode: 107/1000, Reward:  +128.00, Epsilon: 0.34, Rolling Avg:   75.00, Steps: 128, Terminated: True \n",
      "Episode: 108/1000, Reward:   +96.00, Epsilon: 0.34, Rolling Avg:   76.10, Steps:  96, Terminated: True \n",
      "Episode: 109/1000, Reward:  +109.00, Epsilon: 0.33, Rolling Avg:   80.20, Steps: 109, Terminated: True \n",
      "Episode: 110/1000, Reward:   +83.00, Epsilon: 0.33, Rolling Avg:   82.30, Steps:  83, Terminated: True \n",
      "Episode: 111/1000, Reward:  +187.00, Epsilon: 0.33, Rolling Avg:   90.00, Steps: 187, Terminated: True \n",
      "Episode: 112/1000, Reward:   +76.00, Epsilon: 0.32, Rolling Avg:   91.30, Steps:  76, Terminated: True \n",
      "Episode: 113/1000, Reward:  +198.00, Epsilon: 0.32, Rolling Avg:   98.75, Steps: 198, Terminated: True \n",
      "Episode: 114/1000, Reward:  +123.00, Epsilon: 0.32, Rolling Avg:  103.40, Steps: 123, Terminated: True \n",
      "Episode: 115/1000, Reward:  +176.00, Epsilon: 0.31, Rolling Avg:  109.65, Steps: 176, Terminated: True \n",
      "Episode: 116/1000, Reward:  +203.00, Epsilon: 0.31, Rolling Avg:  115.20, Steps: 203, Terminated: True \n",
      "Episode: 117/1000, Reward:  +154.00, Epsilon: 0.31, Rolling Avg:  119.20, Steps: 154, Terminated: True \n",
      "Episode: 118/1000, Reward:  +124.00, Epsilon: 0.31, Rolling Avg:  117.55, Steps: 124, Terminated: True \n",
      "Episode: 119/1000, Reward:  +109.00, Epsilon: 0.30, Rolling Avg:  120.60, Steps: 109, Terminated: True \n",
      "Episode: 120/1000, Reward:  +217.00, Epsilon: 0.30, Rolling Avg:  129.90, Steps: 217, Terminated: True \n",
      "Episode: 121/1000, Reward:  +140.00, Epsilon: 0.30, Rolling Avg:  132.65, Steps: 140, Terminated: True \n",
      "Episode: 122/1000, Reward:  +123.00, Epsilon: 0.29, Rolling Avg:  135.30, Steps: 123, Terminated: True \n",
      "Episode: 123/1000, Reward:  +180.00, Epsilon: 0.29, Rolling Avg:  141.90, Steps: 180, Terminated: True \n",
      "Episode: 124/1000, Reward:  +300.00, Epsilon: 0.29, Rolling Avg:  146.80, Steps: 300, Terminated: False \n",
      "Episode: 125/1000, Reward:  +207.00, Epsilon: 0.28, Rolling Avg:  152.00, Steps: 207, Terminated: True \n",
      "Episode: 126/1000, Reward:  +217.00, Epsilon: 0.28, Rolling Avg:  157.50, Steps: 217, Terminated: True \n",
      "Episode: 127/1000, Reward:  +276.00, Epsilon: 0.28, Rolling Avg:  164.90, Steps: 276, Terminated: True \n",
      "Episode: 128/1000, Reward:  +208.00, Epsilon: 0.28, Rolling Avg:  170.50, Steps: 208, Terminated: True \n",
      "Episode: 129/1000, Reward:  +246.00, Epsilon: 0.27, Rolling Avg:  177.35, Steps: 246, Terminated: True \n",
      "Episode: 130/1000, Reward:   +69.00, Epsilon: 0.27, Rolling Avg:  176.65, Steps:  69, Terminated: True \n",
      "Episode: 131/1000, Reward:  +295.00, Epsilon: 0.27, Rolling Avg:  182.05, Steps: 295, Terminated: True \n",
      "Episode: 132/1000, Reward:  +300.00, Epsilon: 0.27, Rolling Avg:  193.25, Steps: 300, Terminated: False \n",
      "Episode: 133/1000, Reward:  +285.00, Epsilon: 0.26, Rolling Avg:  197.60, Steps: 285, Terminated: True \n",
      "Environment solved in 133 episodes!\n",
      "Training completed in 31.11 minutes\n"
     ]
    }
   ],
   "source": [
    "# Training loop\n",
    "episode_rewards = []\n",
    "rolling_avg_rewards = []\n",
    "\n",
    "start_time = time.time()\n",
    "\n",
    "for episode in range(num_episodes):\n",
    "    state, _ = env.reset()\n",
    "    state = np.reshape(state, [1, state_size])\n",
    "    total_reward = 0\n",
    "    done = False\n",
    "    terminated = False\n",
    "    truncated = False\n",
    "    step = 0\n",
    "    for e in range(episodes):                       # Should be While True, however we limit number of eps\n",
    "        step = step + 1\n",
    "        # Epsilon-greedy policy\n",
    "\n",
    "        action = select_action_greedy(state, agent)\n",
    "        next_state, reward, terminated, truncated, _ = env.step(action)\n",
    "        done = terminated \n",
    "        next_state = np.reshape(next_state, [1, state_size])\n",
    "        agent.store_experience(state, action, reward, next_state, done)\n",
    "        state = next_state\n",
    "        total_reward += reward\n",
    "        if done:\n",
    "            break\n",
    "            \n",
    "        agent.experience_replay_DDQN(batch_size, tau)\n",
    "\n",
    "    # Decay epsilon\n",
    "    epsilon = max(epsilon_min, epsilon * epsilon_decay)\n",
    "\n",
    "    # Record reward\n",
    "    episode_rewards.append(total_reward)\n",
    "    rolling_avg = np.mean(episode_rewards[-ROLLING_WINDOW:])\n",
    "    rolling_avg_rewards.append(rolling_avg)\n",
    "\n",
    "    # Print progress\n",
    "    print(f\"Episode: {episode+1:3}/{num_episodes}, Reward: {total_reward:+8.2f}, \"\n",
    "          f\"Epsilon: {epsilon:.2f}, Rolling Avg: {rolling_avg:7.2f}, Steps: {step:3}, Terminated: {done} \")\n",
    "\n",
    "    # Check if environment is solved\n",
    "    if rolling_avg >= solved_threshold:\n",
    "        print(f\"Environment solved in {episode+1} episodes!\")\n",
    "        break\n",
    "\n",
    "end_time = time.time()\n",
    "print(f\"Training completed in {(end_time - start_time)/60:.2f} minutes\")\n"
   ]
  },
  {
   "cell_type": "markdown",
   "id": "525316ad",
   "metadata": {},
   "source": [
    "#### **Result Visualization**"
   ]
  },
  {
   "cell_type": "code",
   "execution_count": 10,
   "id": "16988f92",
   "metadata": {},
   "outputs": [
    {
     "data": {
      "image/png": "[encoded data removed]",
      "text/plain": [
       "<Figure size 1000x600 with 1 Axes>"
      ]
     },
     "metadata": {},
     "output_type": "display_data"
    }
   ],
   "source": [
    "# Plot rewards with rolling average\n",
    "plt.figure(figsize=(10, 6))\n",
    "plt.plot(episode_rewards, label='Rewards', color='blue')\n",
    "plt.plot(rolling_avg_rewards, label='Rolling Avg (Last '+str(ROLLING_WINDOW)+' Episodes)', color='orange')\n",
    "plt.axhline(y=solved_threshold, color='red', linestyle='--', label='Solved Threshold')\n",
    "plt.title('DDQN Training Performance')\n",
    "plt.xlabel('Episodes')\n",
    "plt.ylabel('Rewards')\n",
    "plt.legend()\n",
    "plt.grid()\n",
    "plt.show()"
   ]
  },
  {
   "cell_type": "markdown",
   "id": "7f4c1d80",
   "metadata": {},
   "source": [
    "#### **Testing 10 episodes with the DDQN trained networks**"
   ]
  },
  {
   "cell_type": "code",
   "execution_count": 11,
   "id": "bdc1b93a",
   "metadata": {},
   "outputs": [
    {
     "name": "stdout",
     "output_type": "stream",
     "text": [
      "Test Episode:  1/10, Reward: 258.00, Steps: 258\n",
      "Test Episode:  2/10, Reward: 272.00, Steps: 272\n",
      "Test Episode:  3/10, Reward: 316.00, Steps: 316\n",
      "Test Episode:  4/10, Reward: 220.00, Steps: 220\n",
      "Test Episode:  5/10, Reward: 500.00, Steps: 500\n",
      "Test Episode:  6/10, Reward: 292.00, Steps: 292\n",
      "Test Episode:  7/10, Reward: 203.00, Steps: 203\n",
      "Test Episode:  8/10, Reward: 500.00, Steps: 500\n",
      "Test Episode:  9/10, Reward: 283.00, Steps: 283\n",
      "Test Episode: 10/10, Reward: 276.00, Steps: 276\n",
      "Testing completed in 2.03 minutes\n"
     ]
    }
   ],
   "source": [
    "# Testing for 10 episodes\n",
    "start_time = time.time()\n",
    "\n",
    "for e_test in range(10):  # Run 10 test episodes\n",
    "    state, _ = env.reset()\n",
    "    state = np.reshape(state, [1, state_size])\n",
    "    total_reward = 0\n",
    "    \n",
    "    steps = 0\n",
    "    while True:\n",
    "        # Use the trained model for testing\n",
    "        action = agent.action(state)  # Predict action values\n",
    "\n",
    "\n",
    "        next_state, reward, done, truncated, _ = env.step(action)\n",
    "        next_state = np.reshape(next_state, [1, state_size])\n",
    "        total_reward += reward\n",
    "        state = next_state\n",
    "        steps = steps + 1\n",
    "        if done or truncated:\n",
    "            print(f\"Test Episode: {e_test + 1:2}/10, Reward: {total_reward:.2f}, Steps: {steps:3}\")\n",
    "            break\n",
    "\n",
    "end_time = time.time()\n",
    "testing_duration = (end_time - start_time) / 60  # Convert to minutes\n",
    "print(f\"Testing completed in {testing_duration:.2f} minutes\")"
   ]
  },
  {
   "cell_type": "code",
   "execution_count": 12,
   "id": "ebec1907",
   "metadata": {},
   "outputs": [
    {
     "name": "stdout",
     "output_type": "stream",
     "text": [
      "Rendered Test Episode Reward: 343.00\n",
      "Saved GIF to: ./CARTPOLE_DDQN-Agent.gif\n"
     ]
    }
   ],
   "source": [
    "# Test the trained agent with video rendering\n",
    "# This code is useful if you are using colab otherwise use render_mode='human'\n",
    "env = gym.make((\"CartPole-v1\"), render_mode='rgb_array')  # Enable RGB rendering\n",
    "frames = []  # Store frames for visualization\n",
    "\n",
    "# Render a single test episode\n",
    "state, _ = env.reset()\n",
    "state = np.reshape(state, [1, state_size])\n",
    "tot_rewards = 0\n",
    "\n",
    "while True:\n",
    "    # Use the trained model for action\n",
    "    action = agent.action(state)            # Predict action value\n",
    "\n",
    "    next_state, reward, done, truncated, _ = env.step(action)\n",
    "    frames.append(env.render())                  # Save frame for rendering later\n",
    "    next_state = np.reshape(next_state, [1, state_size])\n",
    "    tot_rewards += reward\n",
    "    state = next_state\n",
    "\n",
    "    if done or truncated:\n",
    "        print(f\"Rendered Test Episode Reward: {tot_rewards:.2f}\")\n",
    "        break\n",
    "\n",
    "env.close()\n",
    "\n",
    "# Save the rendered episode as a GIF\n",
    "def save_frames_as_gif(frames, path='./', filename='CARTPOLE_DDQN-Agent.gif'):\n",
    "    images = [Image.fromarray(frame) for frame in frames]\n",
    "    gif_path = os.path.join(path, filename)\n",
    "    images[0].save(gif_path, save_all=True, append_images=images[1:], duration=50, loop=0)\n",
    "    print(f\"Saved GIF to: {gif_path}\")\n",
    "\n",
    "save_frames_as_gif(frames, filename='CARTPOLE_DDQN-Agent.gif')\n"
   ]
  },
  {
   "cell_type": "code",
   "execution_count": 13,
   "id": "8b8cc35b",
   "metadata": {},
   "outputs": [
    {
     "name": "stdout",
     "output_type": "stream",
     "text": [
      "-----\n",
      "PIL                 11.0.0\n",
      "gymnasium           1.0.0\n",
      "keras               3.6.0\n",
      "matplotlib          3.9.2\n",
      "numpy               1.26.4\n",
      "session_info        1.0.0\n",
      "tensorflow          2.17.1\n",
      "-----\n",
      "IPython             8.28.0\n",
      "jupyter_client      8.6.3\n",
      "jupyter_core        5.7.2\n",
      "-----\n",
      "Python 3.12.3 (main, Jan 17 2025, 18:03:48) [GCC 13.3.0]\n",
      "Linux-5.15.167.4-microsoft-standard-WSL2-x86_64-with-glibc2.39\n",
      "-----\n",
      "Session information updated at 2025-02-09 19:47\n"
     ]
    }
   ],
   "source": [
    "import session_info\n",
    "session_info.show(html=False)"
   ]
  }
 ],
 "metadata": {
  "kernelspec": {
   "display_name": "DL-Keras",
   "language": "python",
   "name": "dl-keras"
  },
  "language_info": {
   "codemirror_mode": {
    "name": "ipython",
    "version": 3
   },
   "file_extension": ".py",
   "mimetype": "text/x-python",
   "name": "python",
   "nbconvert_exporter": "python",
   "pygments_lexer": "ipython3",
   "version": "3.12.3"
  }
 },
 "nbformat": 4,
 "nbformat_minor": 5
}
