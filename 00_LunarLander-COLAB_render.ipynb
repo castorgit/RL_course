{
 "cells": [
  {
   "cell_type": "markdown",
   "id": "d229cff3",
   "metadata": {},
   "source": [
    "#### **Lunar Lander First Example**\n",
    "This is a first example for lunar lander \n",
    "This is a COLAB example. Execute it only in COLAB\n"
   ]
  },
  {
   "cell_type": "markdown",
   "id": "f5a7f337",
   "metadata": {},
   "source": [
    "<a target=\"_blank\" href=\"https://colab.research.google.com/github/castorgit/RL_course/blob/main/00_LunarLander-COLAB_render.ipynb\">\n",
    "  <img src=\"https://colab.research.google.com/assets/colab-badge.svg\" alt=\"Open In Colab\"/>\n",
    "</a>"
   ]
  },
  {
   "cell_type": "code",
   "execution_count": null,
   "id": "3a9cc8cd",
   "metadata": {},
   "outputs": [],
   "source": [
    "# install required system dependencies\n",
    "!apt-get install -y xvfb x11-utils > /dev/null\n",
    "!pip install gymnasium[box2d] pyvirtualdisplay  PyOpenGL PyOpenGL-accelerate > /dev/null\n",
    "\n",
    "import pyvirtualdisplay\n",
    "_display = pyvirtualdisplay.Display(visible=False,size=(1400, 900))  # use False with Xvfb                 \n",
    "_ = _display.start()\n",
    "!echo $DISPLAY"
   ]
  },
  {
   "cell_type": "code",
   "execution_count": null,
   "id": "d9d7abfa",
   "metadata": {},
   "outputs": [],
   "source": [
    "import gymnasium as gym\n",
    "import matplotlib.pyplot as plt\n",
    "import numpy as np\n",
    "from IPython import display\n",
    "print(gym.__version__)"
   ]
  },
  {
   "cell_type": "code",
   "execution_count": null,
   "id": "f8be97bd",
   "metadata": {},
   "outputs": [],
   "source": []
  },
  {
   "cell_type": "code",
   "execution_count": null,
   "id": "bc3e8edc",
   "metadata": {},
   "outputs": [],
   "source": [
    "env = gym.make('LunarLander-v3', render_mode='rgb_array')\n",
    "\n",
    "env.reset()\n",
    "img_raw = env.render()\n",
    "\n",
    "fig, ax = plt.subplots(figsize=(20, 10))\n",
    "ax.axis('off')\n",
    "img = ax.imshow(img_raw)\n",
    "\n",
    "display.display(plt.gcf())\n",
    "display.clear_output(wait=True)"
   ]
  },
  {
   "cell_type": "code",
   "execution_count": null,
   "id": "a34221b5",
   "metadata": {},
   "outputs": [],
   "source": [
    "lst_images = []\n",
    "for _ in range(100):\n",
    "    # this is where you would insert your policy\n",
    "    action = env.action_space.sample()\n",
    "\n",
    "    # step (transition) through the environment with the action\n",
    "    # receiving the next observation, reward and if the episode has terminated or truncated\n",
    "    observation, reward, terminated, truncated, info = env.step(action)\n",
    "    img_raw = env.render()\n",
    "    lst_images.apped(img.raw)\n",
    "\n",
    "    # If the episode has ended then we can reset to start a new episode\n",
    "    if terminated or truncated:\n",
    "        observation, info = env.reset()\n",
    "\n",
    "env.close()"
   ]
  },
  {
   "cell_type": "code",
   "execution_count": null,
   "id": "6195ed7a",
   "metadata": {},
   "outputs": [],
   "source": [
    "fig, ax = plt.subplots(figsize=(20, 10))\n",
    "ax.axis('off')\n",
    "\n",
    "for i in range (0, len(lst_images))\n",
    "   img = ax.imshow(lst_images[i])\n",
    "   display.display(plt.gcf())\n",
    "   display.clear_output(wait=True)"
   ]
  },
  {
   "cell_type": "code",
   "execution_count": 7,
   "id": "621bf560",
   "metadata": {},
   "outputs": [
    {
     "name": "stdout",
     "output_type": "stream",
     "text": [
      "-----\n",
      "gymnasium           1.0.0\n",
      "session_info        1.0.0\n",
      "-----\n",
      "IPython             8.26.0\n",
      "jupyter_client      8.6.2\n",
      "jupyter_core        5.7.2\n",
      "-----\n",
      "Python 3.12.3 (main, Sep 11 2024, 14:17:37) [GCC 13.2.0]\n",
      "Linux-5.15.153.1-microsoft-standard-WSL2-x86_64-with-glibc2.39\n",
      "-----\n",
      "Session information updated at 2024-10-28 14:39\n"
     ]
    }
   ],
   "source": [
    "import session_info\n",
    "session_info.show(html=False)"
   ]
  }
 ],
 "metadata": {
  "kernelspec": {
   "display_name": "rl",
   "language": "python",
   "name": "rl"
  },
  "language_info": {
   "codemirror_mode": {
    "name": "ipython",
    "version": 3
   },
   "file_extension": ".py",
   "mimetype": "text/x-python",
   "name": "python",
   "nbconvert_exporter": "python",
   "pygments_lexer": "ipython3",
   "version": "3.12.3"
  }
 },
 "nbformat": 4,
 "nbformat_minor": 5
}
