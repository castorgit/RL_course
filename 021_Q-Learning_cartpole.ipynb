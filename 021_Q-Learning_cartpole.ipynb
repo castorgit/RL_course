{
 "cells": [
  {
   "cell_type": "code",
   "execution_count": 1,
   "id": "0e844a6d",
   "metadata": {},
   "outputs": [],
   "source": [
    "# Q-Learning in cartpole\n",
    "# interesting tutorial for this example here\n",
    "#https://medium.com/swlh/using-q-learning-for-openais-cartpole-v1-4a216ef237df"
   ]
  },
  {
   "cell_type": "code",
   "execution_count": 2,
   "id": "fb398d01",
   "metadata": {},
   "outputs": [],
   "source": [
    "import numpy as np\n",
    "import gymnasium as gym\n",
    "import session_info\n",
    "import time\n",
    "import math"
   ]
  },
  {
   "cell_type": "code",
   "execution_count": 3,
   "id": "4e8cfd5d",
   "metadata": {},
   "outputs": [],
   "source": [
    "# Q-Learning parameters\n",
    "alpha = 0.1  # Learning rate\n",
    "gamma = 0.99  # Discount factor\n",
    "epsilon = 0.9  # Epsilon-greedy policy\n",
    "epsilon_decay_value = 0.99995\n",
    "\n",
    "# Sepcific Cartpole parameters\n",
    "# <cart position, cart velocity, pole angle, pole velocity>\n",
    "\n",
    "Observation = [30, 30, 50, 50]                            # weights importance of features\n",
    "np_array_win_size = np.array([0.25, 0.25, 0.01, 0.1])     # steps based -WHAT- PLEASE CORRECT\n",
    "\n",
    "# Fix these\n",
    "\n",
    "LEARNING_RATE = 0.1\n",
    "EPISODES = 60000\n",
    "\n",
    "gamma = 0.95\n",
    "epsilon = 1\n",
    "epsilon_decay_value = 0.9999\n",
    "\n",
    "Observation = [30, 30, 50, 50]\n",
    "np_array_win_size = np.array([0.25, 0.25, 0.01, 0.1])\n",
    "\n",
    "total = 0\n",
    "total_reward = 0\n",
    "prior_reward = 0"
   ]
  },
  {
   "cell_type": "code",
   "execution_count": 4,
   "id": "b3b5388a",
   "metadata": {},
   "outputs": [],
   "source": [
    "# Support functions\n",
    "def choose_action(Q, discrete_state):\n",
    "    if np.random.random() > epsilon:\n",
    "        action = np.argmax(Q[discrete_state])               # exploration \n",
    "    else:\n",
    "        action = np.random.randint(0, env.action_space.n)         # explotaition\n",
    "    return action\n",
    "\n",
    "def get_discrete_state(state):\n",
    "    discrete_state = state/np_array_win_size+ np.array([15,10,1,10])\n",
    "    return tuple(discrete_state.astype(int))"
   ]
  },
  {
   "cell_type": "code",
   "execution_count": 5,
   "id": "31c4c643",
   "metadata": {},
   "outputs": [],
   "source": [
    "# Initialize the environment and Q table\n",
    "\n",
    "env = gym.make('CartPole-v1', render_mode='rgb_array')\n",
    "state, _ = env.reset()\n",
    "Q = np.random.uniform(low=0, high=1, size=(Observation + [env.action_space.n]))"
   ]
  },
  {
   "cell_type": "code",
   "execution_count": 6,
   "id": "9c7f8496",
   "metadata": {},
   "outputs": [
    {
     "name": "stdout",
     "output_type": "stream",
     "text": [
      "Episode: 0\n",
      "   Epsilon: 1\n",
      "   Time Average: 9.496903419494629e-05\n",
      "   Mean Reward: 0.042\n",
      "Episode: 5000\n",
      "   Epsilon: 1\n",
      "   Time Average: 0.0011664626598358154\n",
      "   Mean Reward: 112.547\n",
      "Episode: 10000\n",
      "   Epsilon: 1\n",
      "   Time Average: 0.001163356065750122\n",
      "   Mean Reward: 112.201\n",
      "Episode: 15000\n",
      "   Epsilon: 0.6066368169217945\n",
      "   Time Average: 0.0015657961368560791\n",
      "   Mean Reward: 149.308\n",
      "Episode: 20000\n",
      "   Epsilon: 0.3680082276450068\n",
      "   Time Average: 0.003136528253555298\n",
      "   Mean Reward: 301.191\n",
      "Episode: 25000\n",
      "   Epsilon: 0.22313573847218987\n",
      "   Time Average: 0.007736260890960693\n",
      "   Mean Reward: 553.293\n",
      "Episode: 30000\n",
      "   Epsilon: 0.13534881789285041\n",
      "   Time Average: 0.009004859209060669\n",
      "   Mean Reward: 855.701\n",
      "Episode: 35000\n",
      "   Epsilon: 0.08208294625097338\n",
      "   Time Average: 0.012764304161071778\n",
      "   Mean Reward: 1130.143\n",
      "Episode: 40000\n",
      "   Epsilon: 0.04999912418608252\n",
      "   Time Average: 0.013853009939193726\n",
      "   Mean Reward: 1124.692\n",
      "Episode: 45000\n",
      "   Epsilon: 0.04999912418608252\n",
      "   Time Average: 0.013398261547088623\n",
      "   Mean Reward: 1327.148\n",
      "Episode: 50000\n",
      "   Epsilon: 0.04999912418608252\n",
      "   Time Average: 0.014593296051025391\n",
      "   Mean Reward: 1424.978\n",
      "Episode: 55000\n",
      "   Epsilon: 0.04999912418608252\n",
      "   Time Average: 0.0174220929145813\n",
      "   Mean Reward: 1499.853\n"
     ]
    }
   ],
   "source": [
    "for episode in range(EPISODES):\n",
    "    \n",
    "    t0 = time.time()  \n",
    "    state, _ = env.reset()\n",
    "    discrete_state = get_discrete_state(state) \n",
    "    done = False\n",
    "    episode_reward = 0 \n",
    "       \n",
    "    while not done: \n",
    "        action = choose_action(Q, discrete_state)                    # Exploration or explotaition\n",
    "\n",
    "        new_state, reward, done, _ , _ = env.step(action) \n",
    "        episode_reward += reward                                  # reward by episode\n",
    "        new_discrete_state = get_discrete_state(new_state)\n",
    "\n",
    "        if episode % 2000 == 0:                                   # one visualization every 2000 episodes\n",
    "            env.render()\n",
    "\n",
    "        if not done: \n",
    "            # Q[state, action] += alpha * (reward + gamma * np.max(Q[next_state, :]) - Q[state, action])\n",
    "            \n",
    "            max_future_q = np.max(Q[new_discrete_state])\n",
    "            current_q    = Q[discrete_state + (action,)]\n",
    "            new_q        = (1 - LEARNING_RATE) * current_q + LEARNING_RATE * (reward + gamma * max_future_q)\n",
    "            Q[discrete_state + (action,)] = new_q\n",
    "\n",
    "        discrete_state = new_discrete_state\n",
    "\n",
    "    if epsilon > 0.05:                                            #epsilon modification\n",
    "        if episode_reward > prior_reward and episode > 10000:\n",
    "            epsilon = math.pow(epsilon_decay_value, episode - 10000)\n",
    "\n",
    "    t1 = time.time()                                             #episode has finished\n",
    "    episode_total = t1 - t0                                      #episode total time\n",
    "    total = total + episode_total\n",
    "\n",
    "    total_reward += episode_reward      #episode total reward\n",
    "    prior_reward = episode_reward\n",
    "\n",
    "    if (episode % 5000) == 0:           #every 5000 episodes print the average time and the average reward\n",
    "        mean = total / 1000\n",
    "        total = 0\n",
    "        mean_reward = total_reward / 1000\n",
    "        print(\"Episode: \" + str(episode))\n",
    "        print(\"   Epsilon: \" + str(epsilon))\n",
    "        print(\"   Time Average: \" + str(mean))\n",
    "        print(\"   Mean Reward: \" + str(mean_reward))\n",
    "        total_reward = 0\n",
    "\n",
    "env.close()"
   ]
  },
  {
   "cell_type": "code",
   "execution_count": 7,
   "id": "2268eed1",
   "metadata": {},
   "outputs": [
    {
     "name": "stdout",
     "output_type": "stream",
     "text": [
      "Terminated 196\n",
      "Terminated 24\n",
      "Terminated 86\n",
      "Terminated 183\n",
      "Terminated 191\n",
      "Terminated 169\n"
     ]
    }
   ],
   "source": [
    "# Testing results from Q Table\n",
    "\n",
    "env = gym.make('CartPole-v1', render_mode='human')\n",
    "state, _ = env.reset()\n",
    "k = 0\n",
    "# Run the environment for 100 steps\n",
    "for i in range(1000):\n",
    "    # Display the current state of the environment\n",
    "    env.render()\n",
    "    \n",
    "    # Choose an action based on the learned Q-network\n",
    "    discrete_state = get_discrete_state(state)\n",
    "    action = choose_action(Q, discrete_state)\n",
    "    \n",
    "    # Take the chosen action and observe the next state, reward, and termination status\n",
    "    state, reward, terminated, truncated, _ = env.step(action)\n",
    "    \n",
    "    # If the episode is terminated or truncated, reset the environment\n",
    "    if terminated or truncated:\n",
    "        print('Terminated', i-k)\n",
    "        k = i\n",
    "        state, info = env.reset()\n",
    "\n",
    "# Close the environment after exploration\n",
    "env.close()"
   ]
  },
  {
   "cell_type": "code",
   "execution_count": 8,
   "id": "2897d58e",
   "metadata": {},
   "outputs": [
    {
     "name": "stdout",
     "output_type": "stream",
     "text": [
      "-----\n",
      "gymnasium           0.29.1\n",
      "numpy               1.26.4\n",
      "session_info        1.0.0\n",
      "-----\n",
      "IPython             8.26.0\n",
      "jupyter_client      8.6.2\n",
      "jupyter_core        5.7.2\n",
      "-----\n",
      "Python 3.12.3 (main, Sep 11 2024, 14:17:37) [GCC 13.2.0]\n",
      "Linux-5.15.153.1-microsoft-standard-WSL2-x86_64-with-glibc2.39\n",
      "-----\n",
      "Session information updated at 2024-09-20 08:42\n"
     ]
    }
   ],
   "source": [
    "exit() # closes pygame window\n",
    "session_info.show(html=False)"
   ]
  }
 ],
 "metadata": {
  "kernelspec": {
   "display_name": "rl",
   "language": "python",
   "name": "rl"
  },
  "language_info": {
   "codemirror_mode": {
    "name": "ipython",
    "version": 3
   },
   "file_extension": ".py",
   "mimetype": "text/x-python",
   "name": "python",
   "nbconvert_exporter": "python",
   "pygments_lexer": "ipython3",
   "version": "3.12.3"
  }
 },
 "nbformat": 4,
 "nbformat_minor": 5
}
