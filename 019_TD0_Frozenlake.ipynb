{
 "cells": [
  {
   "cell_type": "code",
   "execution_count": 1,
   "id": "18335526",
   "metadata": {},
   "outputs": [],
   "source": [
    "# TD(0) Frozen Lake with explotaiton and exploration"
   ]
  },
  {
   "cell_type": "code",
   "execution_count": 2,
   "id": "2535a2af",
   "metadata": {},
   "outputs": [],
   "source": [
    "import gymnasium as gym\n",
    "import numpy as np\n",
    "import session_info"
   ]
  },
  {
   "cell_type": "code",
   "execution_count": 3,
   "id": "6c9af9f8",
   "metadata": {},
   "outputs": [],
   "source": [
    "alpha = 0.8  # Learning rate\n",
    "gamma = 0.95  # Discount factor\n",
    "epsilon = 0.1  # Exploration rate\n",
    "num_episodes = 10000"
   ]
  },
  {
   "cell_type": "code",
   "execution_count": 4,
   "id": "62f37d15",
   "metadata": {},
   "outputs": [],
   "source": [
    "env = gym.make('FrozenLake-v1', is_slippery=False, render_mode='ansi')\n",
    "\n",
    "# Initialize Q-table\n",
    "Q = np.zeros([env.observation_space.n, env.action_space.n])\n",
    "\n",
    "# TD(0) algorithm\n",
    "for episode in range(num_episodes):\n",
    "    state, _ = env.reset()\n",
    "    state = int(state)\n",
    "    done = False\n",
    "    \n",
    "    while not done:\n",
    "        # Choose action using epsilon-greedy policy\n",
    "        if np.random.random() < epsilon:\n",
    "            action = env.action_space.sample()\n",
    "        else:\n",
    "            action = np.argmax(Q[state, :])\n",
    "        \n",
    "        # Take action and observe next state and reward\n",
    "        next_state, reward, terminated, truncated, _ = env.step(action)\n",
    "        next_state = int(next_state)\n",
    "        done = terminated or truncated\n",
    "        \n",
    "        # Modify reward to encourage exploration\n",
    "        if done and not terminated:\n",
    "            reward = -1\n",
    "        elif terminated and reward == 0:\n",
    "            reward = -1\n",
    "        \n",
    "        # TD(0) update\n",
    "        Q[state, action] = Q[state, action] + alpha * (reward + gamma * np.max(Q[next_state, :]) - Q[state, action])\n",
    "        \n",
    "        state = next_state\n",
    "\n",
    "    # Decay epsilon \n",
    "    epsilon = max(0.01, epsilon * 0.995)"
   ]
  },
  {
   "cell_type": "code",
   "execution_count": 13,
   "id": "15e66371",
   "metadata": {},
   "outputs": [
    {
     "name": "stdout",
     "output_type": "stream",
     "text": [
      "Learned Policy:\n",
      "===============\n",
      "\n",
      "S → ↓ ← \n",
      "↓ H ↓ H \n",
      "→ ↓ ← H \n",
      "H → → G \n",
      "\n",
      "Value Function:\n",
      "===================\n",
      "0.77 0.74 0.77 0.59 \n",
      "0.81 0.00 0.81 0.00 \n",
      "0.86 0.90 0.86 0.00 \n",
      "0.00 0.95 1.00 0.00 \n",
      "\n",
      "Total reward: 1.0\n"
     ]
    }
   ],
   "source": [
    "# Testing the results\n",
    "\n",
    "# Print learned policy\n",
    "print(\"Learned Policy:\")\n",
    "print(\"===============\")\n",
    "print()\n",
    "policy = np.argmax(Q, axis=1)\n",
    "policy_symbols = ['←', '↓', '→', '↑', 'S', 'G', 'H']  # Up, Right, Down, Left\n",
    "\n",
    "# Mark special positions\n",
    "desc = env.unwrapped.desc\n",
    "for i in range(4):\n",
    "    for j in range(4):\n",
    "        if desc[i][j] == b'H':\n",
    "            policy[i*4+j%4] = 6\n",
    "        elif desc[i][j] == b'G':\n",
    "            policy[i*4+j%4] = 5\n",
    "        elif desc[i][j] == b'S':\n",
    "            policy[i*4+j%4] = 4\n",
    "\n",
    "for i in range(4):\n",
    "    for j in range(4):\n",
    "        print(policy_symbols[policy[i*4 + j]], end=' ')\n",
    "    print()\n",
    "  \n",
    "    \n",
    "\n",
    "# Print value function\n",
    "print(\"\\nValue Function:\")\n",
    "print(\"===================\")\n",
    "V = np.max(Q, axis=1)\n",
    "for i in range(4):\n",
    "    for j in range(4):\n",
    "        print(f\"{V[i*4 + j]:.2f}\", end=' ')\n",
    "    print()\n",
    "\n",
    "\n",
    "# Test the learned policy\n",
    "env = gym.make('FrozenLake-v1', is_slippery=False, render_mode='human')\n",
    "state, _ = env.reset()\n",
    "state = int(state)\n",
    "done = False\n",
    "total_reward = 0\n",
    "\n",
    "while not done:\n",
    "    action = np.argmax(Q[state, :])\n",
    "    state, reward, terminated, truncated, _ = env.step(action)\n",
    "    state = int(state)\n",
    "    done = terminated or truncated\n",
    "    total_reward += reward\n",
    "    env.render()\n",
    "\n",
    "print(f\"\\nTotal reward: {total_reward}\")"
   ]
  },
  {
   "cell_type": "code",
   "execution_count": 6,
   "id": "44973d6d",
   "metadata": {},
   "outputs": [
    {
     "name": "stdout",
     "output_type": "stream",
     "text": [
      "-----\n",
      "gymnasium           0.29.1\n",
      "numpy               1.26.4\n",
      "session_info        1.0.0\n",
      "-----\n",
      "IPython             8.26.0\n",
      "jupyter_client      8.6.2\n",
      "jupyter_core        5.7.2\n",
      "-----\n",
      "Python 3.12.3 (main, Sep 11 2024, 14:17:37) [GCC 13.2.0]\n",
      "Linux-5.15.153.1-microsoft-standard-WSL2-x86_64-with-glibc2.39\n",
      "-----\n",
      "Session information updated at 2024-09-19 08:40\n"
     ]
    }
   ],
   "source": [
    "session_info.show(html=False)"
   ]
  }
 ],
 "metadata": {
  "kernelspec": {
   "display_name": "rl",
   "language": "python",
   "name": "rl"
  },
  "language_info": {
   "codemirror_mode": {
    "name": "ipython",
    "version": 3
   },
   "file_extension": ".py",
   "mimetype": "text/x-python",
   "name": "python",
   "nbconvert_exporter": "python",
   "pygments_lexer": "ipython3",
   "version": "3.12.3"
  }
 },
 "nbformat": 4,
 "nbformat_minor": 5
}
