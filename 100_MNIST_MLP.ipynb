{
 "cells": [
  {
   "cell_type": "markdown",
   "id": "8ebddc4d",
   "metadata": {},
   "source": [
    "#### **MNIST MLP with pytorch**\n",
    "\n",
    "This is a template of an MNIST classifier with an Artificial Neural Network (MLP)\n",
    "If follows the basic blocks of a Deep Learning classifier"
   ]
  },
  {
   "cell_type": "code",
   "execution_count": 1,
   "id": "366ae7c8",
   "metadata": {
    "scrolled": true
   },
   "outputs": [],
   "source": [
    "import torch\n",
    "import torch.nn as nn\n",
    "import torch.optim as optim\n",
    "from torchvision import datasets, transforms\n",
    "import matplotlib.pyplot as plt\n"
   ]
  },
  {
   "cell_type": "code",
   "execution_count": 2,
   "id": "9298d3f4",
   "metadata": {},
   "outputs": [],
   "source": [
    "# Device GPU configuration\n",
    "device = torch.device('cuda' if torch.cuda.is_available() else 'cpu')\n",
    "\n",
    "# Hyperparameters\n",
    "\n",
    "num_classes = 10  # Digits 0-9\n",
    "num_epochs = 5\n",
    "batch_size = 100\n",
    "learning_rate = 0.001"
   ]
  },
  {
   "cell_type": "markdown",
   "id": "ad72ef22",
   "metadata": {},
   "source": [
    "#### **Reading MNIST Dataset**\n",
    "Most frameworks offer an easy way to download the MNIST dataset. In this case we use the datasets method\n",
    "\n",
    "PyTorch models expect input data in the form of tensors because tensors are the fundamental data structure in this framework for computation.\n",
    "\n",
    "You can see below the variable **images** is a tensor and this variable contains all the data to be feed to the network. "
   ]
  },
  {
   "cell_type": "code",
   "execution_count": 3,
   "id": "3556bc81",
   "metadata": {},
   "outputs": [],
   "source": [
    "# read data\n",
    "\n",
    "# MNIST dataset\n",
    "train_dataset = datasets.MNIST(root='data', \n",
    "                               train=True, \n",
    "                               transform=transforms.ToTensor(), \n",
    "                               download=True)\n",
    "\n",
    "test_dataset = datasets.MNIST(root='data', \n",
    "                              train=False, \n",
    "                              transform=transforms.ToTensor())\n",
    "\n",
    "# Data loaders\n",
    "train_loader = torch.utils.data.DataLoader(dataset=train_dataset, \n",
    "                                           batch_size=batch_size, \n",
    "                                           shuffle=True)\n",
    "\n",
    "test_loader = torch.utils.data.DataLoader(dataset=test_dataset, \n",
    "                                          batch_size=batch_size, \n",
    "                                          shuffle=False)"
   ]
  },
  {
   "cell_type": "code",
   "execution_count": 4,
   "id": "daed1920",
   "metadata": {},
   "outputs": [
    {
     "data": {
      "text/plain": [
       "torchvision.datasets.mnist.MNIST"
      ]
     },
     "execution_count": 4,
     "metadata": {},
     "output_type": "execute_result"
    }
   ],
   "source": [
    "type(test_dataset)"
   ]
  },
  {
   "cell_type": "markdown",
   "id": "2bef3cfa",
   "metadata": {},
   "source": [
    "#### **ANN architecture definition**\n",
    "This is the key part of the notebook, in this cell we define the structure of the network \n",
    "and all the different elements mainly\n",
    "\n",
    "- Activation function \n",
    "- Layer size\n",
    "- Number of layers\n",
    "\n",
    "In this example you have 3 models. Give them a try. To use one model or the other just make sure the model() construct is based on the parameters you want to try \n",
    "\n",
    "(you can do this by deleting the line \"model()=\" in the models you don't want to use)\n"
   ]
  },
  {
   "cell_type": "code",
   "execution_count": 5,
   "id": "86145c60",
   "metadata": {},
   "outputs": [],
   "source": [
    "# MLP Model 1 hidden layer input size 784, output layer 10 (num of classes)\n",
    "# ANN sizing details\n",
    "input_size = 784  # 28x28 images\n",
    "hidden_size = 500\n",
    "\n",
    "class MLP(nn.Module):\n",
    "    def __init__(self, input_size, hidden_size, num_classes):\n",
    "        super(MLP, self).__init__()\n",
    "        self.fc1 = nn.Linear(input_size, hidden_size)\n",
    "        self.relu = nn.ReLU()\n",
    "        self.fc2 = nn.Linear(hidden_size, num_classes)\n",
    "    \n",
    "    def forward(self, x):\n",
    "        out = self.fc1(x)\n",
    "        out = self.relu(out)\n",
    "        out = self.fc2(out)\n",
    "        return out\n",
    "\n",
    "model = MLP(input_size, hidden_size, num_classes).to(device)\n",
    "\n",
    "# Loss and optimizer\n",
    "criterion = nn.CrossEntropyLoss()\n",
    "optimizer = optim.Adam(model.parameters(), lr=learning_rate)\n"
   ]
  },
  {
   "cell_type": "code",
   "execution_count": 6,
   "id": "cc0bca72",
   "metadata": {},
   "outputs": [],
   "source": [
    "# This example has a Neural network with more layers. Try it!\n",
    "input_size = 784  # 28x28 images\n",
    "\n",
    "class MLP_3layers(nn.Module):\n",
    "    def __init__(self, input_size, num_classes):\n",
    "        super(MLP_3layers, self).__init__()\n",
    "        \n",
    "        # First fully connected layer\n",
    "        self.fc1 = nn.Linear(input_size, 64)\n",
    "        self.relu1 = nn.ReLU()\n",
    "        \n",
    "        # Second fully connected layer\n",
    "        self.fc2 = nn.Linear(64, 128)\n",
    "        self.relu2 = nn.ReLU()\n",
    "        \n",
    "        # Third fully connected layer\n",
    "        self.fc3 = nn.Linear(128, 64)\n",
    "        self.relu3 = nn.ReLU()\n",
    "        \n",
    "        # Dropout layer for regularization\n",
    "        self.dropout = nn.Dropout(p=0.5)\n",
    "        \n",
    "        # Final output layer\n",
    "        self.fc4 = nn.Linear(64, num_classes)\n",
    "    \n",
    "    def forward(self, x):\n",
    "        # Pass through first layer\n",
    "        out = self.fc1(x)\n",
    "        out = self.relu1(out)\n",
    "        \n",
    "        # Pass through second layer\n",
    "        out = self.fc2(out)\n",
    "        out = self.relu2(out)\n",
    "        \n",
    "        # Pass through third layer\n",
    "        out = self.fc3(out)\n",
    "        out = self.relu3(out)\n",
    "        \n",
    "        # Apply dropout\n",
    "        out = self.dropout(out)\n",
    "        \n",
    "        # Final output layer\n",
    "        out = self.fc4(out)\n",
    "        \n",
    "        return out\n",
    "    \n",
    "model = MLP_3layers(input_size, num_classes).to(device)\n",
    "\n",
    "# Loss and optimizer\n",
    "criterion = nn.CrossEntropyLoss()\n",
    "optimizer = optim.Adam(model.parameters(), lr=learning_rate)"
   ]
  },
  {
   "cell_type": "code",
   "execution_count": 7,
   "id": "a0f117f5",
   "metadata": {},
   "outputs": [],
   "source": [
    "hidden_size1 = 256\n",
    "hidden_size2 = 128\n",
    "input_size = 784  # 28x28 images\n",
    "\n",
    "class NeuralNet(nn.Module):\n",
    "    def __init__(self, input_size, hidden_size1, hidden_size2, num_classes):\n",
    "        super(NeuralNet, self).__init__()\n",
    "        self.fc1 = nn.Linear(input_size, hidden_size1) \n",
    "        self.relu1 = nn.ReLU()\n",
    "        self.fc2 = nn.Linear(hidden_size1, hidden_size2)\n",
    "        self.relu2 = nn.ReLU()\n",
    "        self.fc3 = nn.Linear(hidden_size2, num_classes)\n",
    "    \n",
    "    def forward(self, x):\n",
    "        out = x.view(-1, input_size)  # Flatten the image\n",
    "        out = self.fc1(out)\n",
    "        out = self.relu1(out)\n",
    "        out = self.fc2(out)\n",
    "        out = self.relu2(out)\n",
    "        out = self.fc3(out)\n",
    "        return out\n",
    "\n",
    "model = NeuralNet(input_size, hidden_size1, hidden_size2, num_classes).to(device)\n",
    "# Loss and optimizer\n",
    "criterion = nn.CrossEntropyLoss()\n",
    "optimizer = optim.Adam(model.parameters(), lr=learning_rate)"
   ]
  },
  {
   "cell_type": "markdown",
   "id": "05e2d2b7",
   "metadata": {},
   "source": [
    "#### **Network training**\n",
    "In this training the network is trained with the data from the MNIST we have prepared previously"
   ]
  },
  {
   "cell_type": "code",
   "execution_count": 8,
   "id": "04f7464d",
   "metadata": {},
   "outputs": [
    {
     "name": "stdout",
     "output_type": "stream",
     "text": [
      "Epoch [1/5], Loss: 0.3212, Accuracy: 90.98%\n",
      "Epoch [2/5], Loss: 0.1234, Accuracy: 96.33%\n",
      "Epoch [3/5], Loss: 0.0803, Accuracy: 97.50%\n",
      "Epoch [4/5], Loss: 0.0604, Accuracy: 98.13%\n",
      "Epoch [5/5], Loss: 0.0440, Accuracy: 98.61%\n"
     ]
    }
   ],
   "source": [
    "# Training the model\n",
    "train_losses = []\n",
    "train_accuracies = []\n",
    "\n",
    "for epoch in range(num_epochs):\n",
    "    model.train()\n",
    "    epoch_loss = 0\n",
    "    correct = 0\n",
    "    total = 0\n",
    "    for images, labels in train_loader:\n",
    "        images = images.reshape(-1, 28*28).to(device)\n",
    "        labels = labels.to(device)\n",
    "\n",
    "        # Forward pass\n",
    "        outputs = model(images)\n",
    "        loss = criterion(outputs, labels)\n",
    "        epoch_loss += loss.item()\n",
    "\n",
    "        # Backward pass and optimization\n",
    "        optimizer.zero_grad()\n",
    "        loss.backward()\n",
    "        optimizer.step()\n",
    "\n",
    "        # Accuracy\n",
    "        _, predicted = outputs.max(1)\n",
    "        total += labels.size(0)\n",
    "        correct += (predicted == labels).sum().item()\n",
    "\n",
    "    epoch_loss /= len(train_loader)\n",
    "    train_losses.append(epoch_loss)\n",
    "    epoch_accuracy = 100 * correct / total\n",
    "    train_accuracies.append(epoch_accuracy)\n",
    "\n",
    "    print(f'Epoch [{epoch+1}/{num_epochs}], Loss: {epoch_loss:.4f}, Accuracy: {epoch_accuracy:.2f}%')\n",
    "\n"
   ]
  },
  {
   "cell_type": "code",
   "execution_count": 9,
   "id": "c2c64b14",
   "metadata": {},
   "outputs": [
    {
     "name": "stdout",
     "output_type": "stream",
     "text": [
      "the variable images is a  <class 'torch.Tensor'>  with a dimension of  torch.Size([100, 784])\n"
     ]
    }
   ],
   "source": [
    "print(\"the variable images is a \", type(images), \" with a dimension of \", images.shape)"
   ]
  },
  {
   "cell_type": "code",
   "execution_count": 10,
   "id": "2fe1ba96",
   "metadata": {},
   "outputs": [
    {
     "name": "stdout",
     "output_type": "stream",
     "text": [
      "Test Accuracy: 97.68%\n"
     ]
    }
   ],
   "source": [
    "# Evaluate the model\n",
    "model.eval()\n",
    "with torch.no_grad():\n",
    "    correct = 0\n",
    "    total = 0\n",
    "    for images, labels in test_loader:\n",
    "        images = images.reshape(-1, 28*28).to(device)\n",
    "        labels = labels.to(device)\n",
    "        outputs = model(images)\n",
    "        _, predicted = outputs.max(1)\n",
    "        total += labels.size(0)\n",
    "        correct += (predicted == labels).sum().item()\n",
    "\n",
    "    print(f'Test Accuracy: {100 * correct / total:.2f}%')\n",
    "\n"
   ]
  },
  {
   "cell_type": "code",
   "execution_count": 11,
   "id": "fac340e4",
   "metadata": {},
   "outputs": [
    {
     "data": {
      "image/png": "[encoded data removed]",
      "text/plain": [
       "<Figure size 1200x500 with 2 Axes>"
      ]
     },
     "metadata": {},
     "output_type": "display_data"
    }
   ],
   "source": [
    "# Visualize Loss and Accuracy\n",
    "plt.figure(figsize=(12, 5))\n",
    "\n",
    "plt.subplot(1, 2, 1)\n",
    "plt.plot(train_losses, label='Training Loss', color='orange')\n",
    "plt.xlabel('Epoch')\n",
    "plt.ylabel('Loss')\n",
    "plt.title('Training Loss')\n",
    "plt.legend()\n",
    "\n",
    "plt.subplot(1, 2, 2)\n",
    "plt.plot(train_accuracies, label='Training Accuracy')\n",
    "plt.xlabel('Epoch')\n",
    "plt.ylabel('Accuracy (%)')\n",
    "plt.title('Training Accuracy')\n",
    "plt.legend()\n",
    "\n",
    "plt.show()"
   ]
  },
  {
   "cell_type": "code",
   "execution_count": null,
   "id": "7f296d92",
   "metadata": {},
   "outputs": [],
   "source": []
  }
 ],
 "metadata": {
  "kernelspec": {
   "display_name": "rl",
   "language": "python",
   "name": "rl"
  },
  "language_info": {
   "codemirror_mode": {
    "name": "ipython",
    "version": 3
   },
   "file_extension": ".py",
   "mimetype": "text/x-python",
   "name": "python",
   "nbconvert_exporter": "python",
   "pygments_lexer": "ipython3",
   "version": "3.12.3"
  }
 },
 "nbformat": 4,
 "nbformat_minor": 5
}
