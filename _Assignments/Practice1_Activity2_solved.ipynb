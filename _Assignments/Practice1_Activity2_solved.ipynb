{
 "cells": [
  {
   "cell_type": "code",
   "execution_count": 1,
   "metadata": {
    "id": "nEifqOlsgqco"
   },
   "outputs": [],
   "source": [
    "# Assignment 1\n",
    "# Perform the actions accordingly in the areas marked as [CODE HERE]"
   ]
  },
  {
   "cell_type": "code",
   "execution_count": 1,
   "metadata": {},
   "outputs": [],
   "source": [
    "import numpy as np\n",
    "import gymnasium\n",
    "from moviepy.editor import VideoClip, vfx\n",
    "import session_info"
   ]
  },
  {
   "cell_type": "code",
   "execution_count": 2,
   "metadata": {
    "id": "2TdBVFQRb2l4"
   },
   "outputs": [],
   "source": [
    "#Functions to create the movie (not relevant for RL)\n",
    "\n",
    "def create_and_show_movie(env, file_name, speed=5):\n",
    "    def make_frame(frame):\n",
    "        return env.myimages[int(frame)]\n",
    "\n",
    "    # creating animation\n",
    "    animation = VideoClip(make_frame, duration = len(env.myimages))\n",
    "    animation.write_videofile(file_name,fps=speed)\n",
    "    return animation.fx(vfx.speedx, speed)"
   ]
  },
  {
   "cell_type": "markdown",
   "metadata": {
    "id": "ensh3xHSc95X"
   },
   "source": [
    "Now, you need to upload the 'Russell_Grid.py' file to the working directory (or alternatively copy all source code of Russell_Grid.py in a cell). If you upload the file, then you should import the class for the environment.\n"
   ]
  },
  {
   "cell_type": "code",
   "execution_count": 3,
   "metadata": {
    "id": "-UIHr9ETdjBW"
   },
   "outputs": [],
   "source": [
    "from Russell_Grid import RussellGrid"
   ]
  },
  {
   "cell_type": "markdown",
   "metadata": {
    "id": "nZEb0fmMerur"
   },
   "source": [
    "Now create the environment setting the mode of visualization to movie"
   ]
  },
  {
   "cell_type": "code",
   "execution_count": 4,
   "metadata": {
    "id": "Cnba5jBZeqSf"
   },
   "outputs": [
    {
     "data": {
      "image/png": "[encoded data removed]",
      "text/plain": [
       "<Figure size 640x480 with 1 Axes>"
      ]
     },
     "metadata": {},
     "output_type": "display_data"
    }
   ],
   "source": [
    "env = RussellGrid(mode='movie') # We are in jupyter, so we cannot see interactive . Instead, we will create a movie"
   ]
  },
  {
   "cell_type": "markdown",
   "metadata": {
    "id": "6bjYmMlHdkQ5"
   },
   "source": [
    "###Task 1\n",
    "\n",
    " Create the function 'one_random_episode' that runs one episode in the Grid world choosing random actions and returns the list of rewards collected for each step in the episode. The function should have a boolean parameter \"render\" that renders the position of the agent on the grid when True."
   ]
  },
  {
   "cell_type": "code",
   "execution_count": 6,
   "metadata": {},
   "outputs": [
    {
     "data": {
      "text/plain": [
       "6"
      ]
     },
     "execution_count": 6,
     "metadata": {},
     "output_type": "execute_result"
    }
   ],
   "source": [
    "state = env.reset()\n",
    "state"
   ]
  },
  {
   "cell_type": "code",
   "execution_count": 7,
   "metadata": {
    "id": "flchcYt7eC63"
   },
   "outputs": [],
   "source": [
    "\n",
    "def one_random_episode(render = False):\n",
    "  \"\"\"\n",
    "    The function \"one_random_episode\" runs a random episode in an environment and returns a list of\n",
    "    rewards obtained during the episode.\n",
    "\n",
    "    :param render: The \"render\" parameter is a boolean flag that determines whether or not to render the\n",
    "    environment during the episode. If set to True, the environment will be visually displayed as the\n",
    "    episode progresses. If set to False, the environment will not be rendered, defaults to False\n",
    "    (optional)\n",
    "    :return: a list of rewards obtained during a random episode in the environment.\n",
    "  \"\"\"\n",
    "  env.reset()\n",
    "  lr = []\n",
    "#[CODE HERE] Activity 2.1 One Random Episode\n",
    "\n",
    "  done = False\n",
    "  while not done:\n",
    "    if render:\n",
    "       env.render()\n",
    "    action = env.action_space.sample()\n",
    "    state, reward, done, _, info = env.step(action)\n",
    "    lr.append(reward)\n",
    "    if done:\n",
    "       if render:\n",
    "          env.render()\n",
    "       env.reset()\n",
    "\n",
    "  return lr\n"
   ]
  },
  {
   "cell_type": "code",
   "execution_count": 8,
   "metadata": {},
   "outputs": [],
   "source": [
    "lr = one_random_episode(render = True)"
   ]
  },
  {
   "cell_type": "markdown",
   "metadata": {
    "id": "MAO3LsO9kCV4"
   },
   "source": [
    "Let's use your function with render set to True and see the movie created with th random behavior of the agent.\n",
    "\n",
    "\n"
   ]
  },
  {
   "cell_type": "code",
   "execution_count": 9,
   "metadata": {
    "id": "XvhvLiu4kJl5"
   },
   "outputs": [
    {
     "name": "stdout",
     "output_type": "stream",
     "text": [
      "Rewards: [np.float64(-0.04), np.float64(-0.04), np.float64(-0.04), np.float64(-0.04), np.float64(-0.04), np.float64(-0.04), np.float64(-0.04), np.float64(-0.04), np.float64(-0.04), np.float64(-0.04), np.float64(-0.04), np.float64(-0.04), np.float64(-0.04), np.float64(-0.04), np.float64(-0.04), np.float64(-0.04), np.float64(-0.04), np.float64(-0.04), np.float64(-0.04), np.float64(-0.04), np.float64(-0.04), np.float64(-0.04), np.float64(-0.04), np.float64(-0.04), np.float64(-0.04), np.float64(-0.04), np.float64(-0.04), np.float64(-0.04), np.float64(-0.04), np.float64(-0.04), np.float64(-0.04), np.float64(-0.04), np.float64(-0.04), np.float64(-0.04), np.float64(-0.04), np.float64(-0.04), np.float64(-0.04), np.float64(-0.04), np.float64(-0.04), np.float64(-0.04), np.float64(-0.04), np.float64(-0.04), np.float64(-0.04), np.float64(-0.04), np.float64(-0.04), np.float64(-0.04), np.float64(-0.04), np.float64(-0.04), np.float64(-0.04), np.float64(-0.04), np.float64(-0.04), np.float64(-0.04), np.float64(-0.04), np.float64(-0.04), np.float64(-0.04), np.float64(-0.04), np.float64(-0.04), np.float64(-0.04), np.float64(-0.04), np.float64(-0.04), np.float64(-0.04), np.float64(-0.04), np.float64(-0.04), np.float64(-0.04), np.float64(-0.04), np.float64(-0.04), np.float64(-0.04), np.float64(-0.04), np.float64(-0.04), np.float64(-0.04), np.float64(-0.04), np.float64(-0.04), np.float64(-0.04), np.float64(-0.04), np.float64(-0.04), np.float64(-0.04), np.float64(-0.04), np.float64(-0.04), np.float64(-1.0)]\n",
      "Moviepy - Building video trajectories.mp4.\n",
      "Moviepy - Writing video trajectories.mp4\n",
      "\n"
     ]
    },
    {
     "name": "stderr",
     "output_type": "stream",
     "text": [
      "                                                                                                                        \r"
     ]
    },
    {
     "name": "stdout",
     "output_type": "stream",
     "text": [
      "Moviepy - Done !\n",
      "Moviepy - video ready trajectories.mp4\n",
      "Moviepy - Building video __temp__.mp4.\n",
      "Moviepy - Writing video __temp__.mp4\n",
      "\n"
     ]
    },
    {
     "name": "stderr",
     "output_type": "stream",
     "text": [
      "                                                                                                                        \r"
     ]
    },
    {
     "name": "stdout",
     "output_type": "stream",
     "text": [
      "Moviepy - Done !\n",
      "Moviepy - video ready __temp__.mp4\n"
     ]
    },
    {
     "data": {
      "text/html": [
       "<div align=middle><video autoplay='1' loop='0'src='data:video/mp4;base64,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' controls>Sorry, seems like your browser doesn't support HTML5 audio/video</video></div>"
      ],
      "text/plain": [
       "<moviepy.video.io.html_tools.HTML2 object>"
      ]
     },
     "execution_count": 9,
     "metadata": {},
     "output_type": "execute_result"
    }
   ],
   "source": [
    "# Now we execute the function you have defined\n",
    "env.removeframes() # Let's remove frames from previous episodes for the movie\n",
    "lr=one_random_episode(render = True) # Run one episode (with render True) an store list of rewards\n",
    "print('Rewards:',lr) # Print rewards\n",
    "\n",
    "# Visualization of the video (it will be also stored on file 'trajectories.mp4')\n",
    "speed = 5\n",
    "create_and_show_movie(env,'trajectories.mp4',speed=speed).ipython_display(autoplay=1, loop=0,fps=speed)\n"
   ]
  },
  {
   "cell_type": "markdown",
   "metadata": {
    "id": "hFVQL7znfW-i"
   },
   "source": [
    "### Task 2\n",
    " Define a function 'long_term_reward' that, given a list of rewards in one episode, return the long-term reward for the whole episode. Test it and return the long_term reward of that episode. Run the cell several times to see that at each execution you get different results.\n",
    "\n",
    " When executing one_random_episode to collect statistics (like now), render should be set to False because it consumes a lot of resources.\n"
   ]
  },
  {
   "cell_type": "code",
   "execution_count": 10,
   "metadata": {
    "id": "2BEvrKWSft7w"
   },
   "outputs": [
    {
     "name": "stdout",
     "output_type": "stream",
     "text": [
      "-2.4400000000000004\n"
     ]
    }
   ],
   "source": [
    "#[CODE HERE] Activity 2.2 Long Term Reward - no decay\n",
    "def long_term_reward(ep):\n",
    "    total = 0\n",
    "    for i in range(0, len(ep)):\n",
    "       total = total + ep[i] \n",
    "    return total\n",
    "\n",
    "# Test it\n",
    "long_term_reward(one_random_episode())\n",
    "print(long_term_reward(one_random_episode()))"
   ]
  },
  {
   "cell_type": "code",
   "execution_count": 11,
   "metadata": {
    "id": "5xd1u6LqgsFQ"
   },
   "outputs": [
    {
     "name": "stdout",
     "output_type": "stream",
     "text": [
      "Mean -1.1717200000000003 Std 1.3111272408122718\n"
     ]
    }
   ],
   "source": [
    "# Execute 1000 episodes and show mean and std of the long-term-return collected in those episodes.\n",
    "collected=[]\n",
    "\n",
    "#[CODE HERE] Activity 2.2 Long Term Reward - no decay\n",
    "for i in range (0,1000):\n",
    "   collected.append(long_term_reward(one_random_episode()))\n",
    "\n",
    "\n",
    "print('Mean', np.mean(collected), 'Std', np.std(collected))"
   ]
  },
  {
   "cell_type": "code",
   "execution_count": 12,
   "metadata": {},
   "outputs": [
    {
     "name": "stdout",
     "output_type": "stream",
     "text": [
      "-1.5462791872083073\n"
     ]
    }
   ],
   "source": [
    "#[CODE HERE] Activity 2.2 Long Term Reward - decay\n",
    "# we use a decay of 0.99 (balancing long and short term rewards)\n",
    "def long_term_reward(ep):\n",
    "    total = 0\n",
    "    for i in range(0, len(ep)):\n",
    "       total = total + ep[i] * (0.99)**i\n",
    "    return total\n",
    "\n",
    "# Test it\n",
    "long_term_reward(one_random_episode())\n",
    "print(long_term_reward(one_random_episode()))"
   ]
  },
  {
   "cell_type": "code",
   "execution_count": 13,
   "metadata": {},
   "outputs": [
    {
     "name": "stdout",
     "output_type": "stream",
     "text": [
      "Mean -0.9239314596713574 Std 0.9755751119235745\n"
     ]
    }
   ],
   "source": [
    "# Execute 1000 episodes and show mean and std of the long-term-return collected in those episodes.\n",
    "collected=[]\n",
    "\n",
    "#[CODE HERE] Activity 2.2 Long Term Reward - no decay\n",
    "for i in range (0,1000):\n",
    "   collected.append(long_term_reward(one_random_episode()))\n",
    "\n",
    "\n",
    "print('Mean', np.mean(collected), 'Std', np.std(collected))"
   ]
  },
  {
   "cell_type": "markdown",
   "metadata": {
    "id": "7Vd0b8wEhcUp"
   },
   "source": [
    "You should obtain something close to:\n",
    "\n",
    "Mean -0.8878, Std 0.9891"
   ]
  },
  {
   "cell_type": "code",
   "execution_count": 14,
   "metadata": {},
   "outputs": [],
   "source": [
    "# Defining an optimal Policy"
   ]
  },
  {
   "cell_type": "code",
   "execution_count": 15,
   "metadata": {},
   "outputs": [
    {
     "data": {
      "text/plain": [
       "Discrete(4)"
      ]
     },
     "execution_count": 15,
     "metadata": {},
     "output_type": "execute_result"
    }
   ],
   "source": [
    "#Visualizing the action space\n",
    "env.action_space\n",
    "# The action space is 0-UP, 1-RIGHT, 2-DOWN, 3-LEFT"
   ]
  },
  {
   "cell_type": "code",
   "execution_count": 16,
   "metadata": {
    "id": "zUcYLQqxnYdq"
   },
   "outputs": [],
   "source": [
    "# Defining an Optimal policy\n",
    "\n",
    "# Define your policy here for all possible states\n",
    "#\n",
    "# Remember actions = 0, 1, 2, 3 which are UP, RIGHT, DOWN, LEFT\n",
    "#  0  1  2  3            [0,0] [0,1] [0,2] [0,3]\n",
    "#  4  5  6  7            [1,0] [1,1] [1,2] [1,3]\n",
    "#  8  9  10 11           [2,0] [2,1] [2,2] [2,3]\n",
    "#\n",
    "#[CODE HERE] Activity 2.3 Long Term Reward - decay\n",
    "\n",
    "policy=np.zeros((env.world_row,env.world_col))\n",
    "\n",
    "policy[0,0]=1\n",
    "\n",
    "policy[0,1]=1\n",
    "policy[0,2]=1\n",
    "\n",
    "policy[1,0]=0\n",
    "policy[1,2]=0\n",
    "\n",
    "policy[2,0]=0\n",
    "policy[2,1]=3\n",
    "policy[2,2]=3\n",
    "policy[2,3]=3"
   ]
  },
  {
   "cell_type": "code",
   "execution_count": 17,
   "metadata": {
    "id": "F4oVEOCMxATc"
   },
   "outputs": [
    {
     "name": "stdout",
     "output_type": "stream",
     "text": [
      "[np.float64(-0.04), np.float64(-0.04), np.float64(-0.04), np.float64(-0.04), np.float64(-0.04), np.float64(-0.04), np.float64(-0.04), np.float64(-0.04), np.float64(-0.04), np.float64(1.0)]\n"
     ]
    }
   ],
   "source": [
    "def one_episode_my_policy(render = False):\n",
    "  \"\"\"\n",
    "    The function \"one_random_episode\" runs an episode according to the policy defined in table 'policy'\n",
    "    and returns a list of rewards obtained during the episode.\n",
    "\n",
    "    :param render: The \"render\" parameter is a boolean flag that determines whether or not to render the\n",
    "    environment during the episode. If set to True, the environment will be visually displayed as the\n",
    "    episode progresses. If set to False, the environment will not be rendered, defaults to False\n",
    "    (optional)\n",
    "    :return: a list of rewards obtained during a random episode in the environment.\n",
    "  \"\"\"\n",
    "  lr = []\n",
    "\n",
    "  #[CODE HERE] Activity 2.3 Optimal Policy\n",
    "  env.reset()\n",
    "  done = False\n",
    "  state = 9\n",
    "  while not done:\n",
    "    if render:\n",
    "       env.render()\n",
    "    action = int(policy[(state // 4), (state % 4)])\n",
    "    state, reward, done, _, info = env.step(action)\n",
    "    lr.append(reward)\n",
    "    if done:\n",
    "       if render:\n",
    "          env.render()\n",
    "       env.reset()\n",
    "\n",
    "  return lr\n",
    "lr = one_episode_my_policy()\n",
    "print(lr)"
   ]
  },
  {
   "cell_type": "markdown",
   "metadata": {
    "id": "QM8fd4qQeH1w"
   },
   "source": [
    "Let's use your function with render set to True and see the movie created with th random behavior of the agent."
   ]
  },
  {
   "cell_type": "code",
   "execution_count": 18,
   "metadata": {
    "id": "cH1iN1gHqmgG"
   },
   "outputs": [
    {
     "name": "stdout",
     "output_type": "stream",
     "text": [
      "Rewards: [np.float64(-0.04), np.float64(-0.04), np.float64(-0.04), np.float64(-0.04), np.float64(-0.04), np.float64(-0.04), np.float64(-0.04), np.float64(1.0)]\n",
      "Moviepy - Building video trajectories.mp4.\n",
      "Moviepy - Writing video trajectories.mp4\n",
      "\n"
     ]
    },
    {
     "name": "stderr",
     "output_type": "stream",
     "text": [
      "                                                                                                                        \r"
     ]
    },
    {
     "name": "stdout",
     "output_type": "stream",
     "text": [
      "Moviepy - Done !\n",
      "Moviepy - video ready trajectories.mp4\n",
      "Moviepy - Building video __temp__.mp4.\n",
      "Moviepy - Writing video __temp__.mp4\n",
      "\n"
     ]
    },
    {
     "name": "stderr",
     "output_type": "stream",
     "text": [
      "                                                                                                                        "
     ]
    },
    {
     "name": "stdout",
     "output_type": "stream",
     "text": [
      "Moviepy - Done !\n",
      "Moviepy - video ready __temp__.mp4\n"
     ]
    },
    {
     "name": "stderr",
     "output_type": "stream",
     "text": [
      "\r"
     ]
    },
    {
     "data": {
      "text/html": [
       "<div align=middle><video autoplay='1' loop='0'src='data:video/mp4;base64,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' controls>Sorry, seems like your browser doesn't support HTML5 audio/video</video></div>"
      ],
      "text/plain": [
       "<moviepy.video.io.html_tools.HTML2 object>"
      ]
     },
     "execution_count": 18,
     "metadata": {},
     "output_type": "execute_result"
    }
   ],
   "source": [
    "# Now we execute the function you have defined\n",
    "env.removeframes() # Let's remove frames from previous episodes for the movie\n",
    "lr = one_episode_my_policy(render = True) # Run one episode (with render True) an store list of rewards\n",
    "print('Rewards:',lr) # Print rewards\n",
    "\n",
    "# Visualization of the video (it will be also stored on file 'trajectories.mp4')\n",
    "speed = 5\n",
    "create_and_show_movie(env,'trajectories.mp4',speed=speed).ipython_display(autoplay=1, loop=0,fps=speed)\n"
   ]
  },
  {
   "cell_type": "markdown",
   "metadata": {
    "id": "Z-D4DyprevTZ"
   },
   "source": [
    "\n",
    "Execute 1000 episodes and show mean and std of the long-term-return collected in those episodes.\n"
   ]
  },
  {
   "cell_type": "code",
   "execution_count": 19,
   "metadata": {
    "id": "iMzgKWCH0S_C"
   },
   "outputs": [
    {
     "name": "stdout",
     "output_type": "stream",
     "text": [
      "Mean 0.6682090835772109 Std 0.37755660671072155\n"
     ]
    }
   ],
   "source": [
    "import numpy as np\n",
    "collected=[]\n",
    "#[CODE HERE] Activity 2.3 Optimal Policy Calculate long term reward for optimal policy\n",
    "for i in range (0,100000):\n",
    "   collected.append(long_term_reward(one_episode_my_policy()))\n",
    "\n",
    "print('Mean', np.mean(collected), 'Std', np.std(collected))"
   ]
  },
  {
   "cell_type": "code",
   "execution_count": 20,
   "metadata": {},
   "outputs": [
    {
     "name": "stdout",
     "output_type": "stream",
     "text": [
      "-----\n",
      "Russell_Grid        NA\n",
      "gymnasium           0.29.1\n",
      "moviepy             1.0.3\n",
      "numpy               2.0.0\n",
      "session_info        1.0.0\n",
      "-----\n",
      "IPython             8.26.0\n",
      "jupyter_client      8.6.2\n",
      "jupyter_core        5.7.2\n",
      "-----\n",
      "Python 3.12.3 (main, Jul 31 2024, 17:43:48) [GCC 13.2.0]\n",
      "Linux-5.15.153.1-microsoft-standard-WSL2-x86_64-with-glibc2.39\n",
      "-----\n",
      "Session information updated at 2024-08-03 12:18\n"
     ]
    }
   ],
   "source": [
    "session_info.show(html=False)"
   ]
  }
 ],
 "metadata": {
  "colab": {
   "provenance": []
  },
  "kernelspec": {
   "display_name": "rl",
   "language": "python",
   "name": "rl"
  },
  "language_info": {
   "codemirror_mode": {
    "name": "ipython",
    "version": 3
   },
   "file_extension": ".py",
   "mimetype": "text/x-python",
   "name": "python",
   "nbconvert_exporter": "python",
   "pygments_lexer": "ipython3",
   "version": "3.12.3"
  }
 },
 "nbformat": 4,
 "nbformat_minor": 1
}
