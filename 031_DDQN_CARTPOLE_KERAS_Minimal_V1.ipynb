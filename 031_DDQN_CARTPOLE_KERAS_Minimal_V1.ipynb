{
 "cells": [
  {
   "cell_type": "markdown",
   "id": "bad28014",
   "metadata": {},
   "source": [
    "### **CARTPOLE DDQN Minimal (soft update Polyak + some improvements)**\n",
    "\n",
    "This is a naive version vectorized of the DDQN Algorithm for the CARTPOLE env <br>\n",
    "Vectorizing we obtain a version that is faster and it is 'functional' as it works <br>\n",
    "Leave training for 300 episodes\n",
    "\n",
    "The Double DQN (DDQN) uses two networks one as a target and one as the trained network <br>\n",
    "\n",
    "The target network is a copy of the online network that is updated less frequently, <br>\n",
    "and is used to generate the target values for the Q-learning update\n",
    "\n",
    "It includes a soft update of the weights, instead of substituting the weights between the networks it blends them together using a Polyak averaging This was an improvement on the pure DDQN algorithm"
   ]
  },
  {
   "cell_type": "code",
   "execution_count": 1,
   "id": "548ece67",
   "metadata": {},
   "outputs": [
    {
     "name": "stdout",
     "output_type": "stream",
     "text": [
      "Num GPUs Available:  0\n"
     ]
    }
   ],
   "source": [
    "import os\n",
    "os.environ['TF_CPP_MIN_LOG_LEVEL'] = '3'\n",
    "\n",
    "import gymnasium as gym\n",
    "import numpy as np\n",
    "from tensorflow.keras.models import Sequential, Model\n",
    "from tensorflow.keras.layers import Dense, Input\n",
    "from tensorflow.keras.optimizers import Adam\n",
    "import matplotlib.pyplot as plt\n",
    "from collections import deque\n",
    "import random\n",
    "\n",
    "import time\n",
    "from PIL import Image\n",
    "\n",
    "# Activate GPU\n",
    "import tensorflow as tf\n",
    "print(\"Num GPUs Available: \", len(tf.config.list_physical_devices('GPU')))\n",
    "\n",
    "# Use mixed-precision training for faster computations on supported GPUs\n",
    "from tensorflow.keras.mixed_precision import set_global_policy\n",
    "set_global_policy('mixed_float16')\n",
    "\n",
    "# Enable XLA (Accelerated Linear Algebra) optimization\n",
    "tf.config.optimizer.set_jit(True)"
   ]
  },
  {
   "cell_type": "markdown",
   "id": "3fe60191",
   "metadata": {},
   "source": [
    "#### **Environment setup**"
   ]
  },
  {
   "cell_type": "code",
   "execution_count": 2,
   "id": "eb8cd8f6",
   "metadata": {},
   "outputs": [],
   "source": [
    "env = gym.make(\"CartPole-v1\")\n",
    "state_size = env.observation_space.shape[0]\n",
    "action_size = env.action_space.n\n",
    "tf.random.set_seed(221)                      # For reproducibility"
   ]
  },
  {
   "cell_type": "markdown",
   "id": "a4e88cb4",
   "metadata": {},
   "source": [
    "#### **Hyperparameters**"
   ]
  },
  {
   "cell_type": "code",
   "execution_count": 3,
   "id": "7660da76",
   "metadata": {},
   "outputs": [],
   "source": [
    "episodes = 300\n",
    "batch_size = 128\n",
    "gamma = 0.99                # Discount factor\n",
    "epsilon_start = 1.0\n",
    "epsilon_min = 0.01\n",
    "epsilon_decay = 0.99 \n",
    "learning_rate = 0.0001\n",
    "buffer_capacity = 10000\n",
    "num_episodes = 1000\n",
    "solved_threshold = 195\n",
    "retrain_steps = 5           # We copy weights every retrain_steps \n",
    "tau = 0.15                   # Soft update, it is high for long retrain periods. Small for short retrain\n",
    "\n",
    "#lr: 0.0001 gamma 0.99 batch_size 128 tau  0.15 epsilon decay 0.99 retrain_steps  5"
   ]
  },
  {
   "cell_type": "markdown",
   "id": "65a7404f",
   "metadata": {},
   "source": [
    "#### **Neural Network definition**"
   ]
  },
  {
   "cell_type": "code",
   "execution_count": null,
   "id": "b5fac61d",
   "metadata": {},
   "outputs": [],
   "source": [
    "# Build the neural network model\n",
    "def build_model(state_size, action_size):\n",
    "    inputs = Input(shape=(state_size,))  \n",
    "    x = Dense(16, activation=\"relu\")(inputs)\n",
    "    x = Dense(64, activation=\"relu\")(x)\n",
    "    x = Dense(16, activation=\"relu\")(x)\n",
    "    outputs = Dense(action_size, activation=\"linear\")(x)\n",
    "    model = Model(inputs=inputs, outputs=outputs)\n",
    "    model.compile(optimizer=Adam(learning_rate=learning_rate), loss=\"mse\")\n",
    "    return model"
   ]
  },
  {
   "cell_type": "markdown",
   "id": "786f3afa",
   "metadata": {},
   "source": [
    "#### **Support Functions**"
   ]
  },
  {
   "cell_type": "code",
   "execution_count": 4,
   "id": "620a9a45",
   "metadata": {},
   "outputs": [],
   "source": [
    "# Soft update function for target network\n",
    "\"\"\" Soft Update using Polyak optimization \"\"\"\n",
    "def soft_update(model, target_model, tau):\n",
    "    target_weights = target_model.get_weights()\n",
    "    model_weights = model.get_weights()\n",
    "    new_weights = [\n",
    "        tau * mw + (1 - tau) * tw for mw, tw in zip(model_weights, target_weights)\n",
    "    ]\n",
    "    target_model.set_weights(new_weights)"
   ]
  },
  {
   "cell_type": "markdown",
   "id": "e28bff8d",
   "metadata": {},
   "source": [
    "#### **Replay Function - The core of the DDQN Algorithm**"
   ]
  },
  {
   "cell_type": "code",
   "execution_count": 5,
   "id": "6ff1c938",
   "metadata": {},
   "outputs": [],
   "source": [
    "# Replay buffer\n",
    "replay_buffer = deque(maxlen=buffer_capacity)\n",
    "\n",
    "# Add experience to replay buffer\n",
    "def store_experience(state, action, reward, next_state, done):\n",
    "    replay_buffer.append((state, action, reward, next_state, done))\n",
    "\n",
    "# Sample experiences from the replay buffer\n",
    "def sample_experiences(batch_size):\n",
    "    indices = np.random.choice(len(replay_buffer), batch_size, replace=False)\n",
    "    batch = [replay_buffer[i] for i in indices]\n",
    "    states, actions, rewards, next_states, dones = zip(*batch)\n",
    "    return (\n",
    "        np.vstack(states),\n",
    "        np.array(actions),\n",
    "        np.array(rewards),\n",
    "        np.vstack(next_states),\n",
    "        np.array(dones, dtype=np.float32)\n",
    "    )\n",
    "\n",
    "# Double DQN target calculation\n",
    "def experience_replay_with_ddqn(model, target_model, batch_size, gamma, tau, step):\n",
    "    if len(replay_buffer) < batch_size:\n",
    "        return\n",
    "\n",
    "    states, actions, rewards, next_states, dones = sample_experiences(batch_size)\n",
    "\n",
    "    # Predict Q-values for next states using both networks\n",
    "    next_q_values = model.predict(next_states, verbose=0)\n",
    "    best_actions = np.argmax(next_q_values, axis=1)\n",
    "    target_q_values = target_model.predict(next_states, verbose=0)\n",
    "\n",
    "    # Update Q-values using Double DQN formula\n",
    "    targets = rewards + gamma * target_q_values[np.arange(batch_size), best_actions] * (1 - dones)\n",
    "\n",
    "    # Update main Q-network\n",
    "    q_values = model.predict(states, verbose=0)\n",
    "    q_values[np.arange(batch_size), actions] = targets\n",
    "    model.fit(states, q_values, epochs=1, verbose=0)\n",
    "\n",
    "    # Apply soft update to target network\n",
    "    if step % retrain_steps == 0:   \n",
    "        soft_update(model, target_model, tau)\n",
    "\n"
   ]
  },
  {
   "cell_type": "markdown",
   "id": "aab9a89a",
   "metadata": {},
   "source": [
    "#### **Initialize Network models**"
   ]
  },
  {
   "cell_type": "code",
   "execution_count": 6,
   "id": "097f7087",
   "metadata": {},
   "outputs": [],
   "source": [
    "model = build_model(state_size, action_size)\n",
    "target_model = build_model(state_size, action_size)\n",
    "target_model.set_weights(model.get_weights())             # Sync target network initially"
   ]
  },
  {
   "cell_type": "markdown",
   "id": "61447319",
   "metadata": {},
   "source": [
    "#### **Training Phase**"
   ]
  },
  {
   "cell_type": "code",
   "execution_count": 7,
   "id": "8617a95f",
   "metadata": {
    "scrolled": false
   },
   "outputs": [
    {
     "name": "stdout",
     "output_type": "stream",
     "text": [
      "Episode:   1/1000, Reward:   +11.00, Epsilon: 0.99, Rolling Avg: 11.00, Steps:  11, Terminated: True \n",
      "Episode:   2/1000, Reward:   +19.00, Epsilon: 0.98, Rolling Avg: 15.00, Steps:  19, Terminated: True \n",
      "Episode:   3/1000, Reward:   +17.00, Epsilon: 0.97, Rolling Avg: 15.67, Steps:  17, Terminated: True \n",
      "Episode:   4/1000, Reward:   +39.00, Epsilon: 0.96, Rolling Avg: 21.50, Steps:  39, Terminated: True \n",
      "Episode:   5/1000, Reward:   +29.00, Epsilon: 0.95, Rolling Avg: 23.00, Steps:  29, Terminated: True \n",
      "Episode:   6/1000, Reward:   +40.00, Epsilon: 0.94, Rolling Avg: 25.83, Steps:  40, Terminated: True \n",
      "Episode:   7/1000, Reward:   +52.00, Epsilon: 0.93, Rolling Avg: 29.57, Steps:  52, Terminated: True \n",
      "Episode:   8/1000, Reward:   +16.00, Epsilon: 0.92, Rolling Avg: 27.88, Steps:  16, Terminated: True \n",
      "Episode:   9/1000, Reward:   +11.00, Epsilon: 0.91, Rolling Avg: 26.00, Steps:  11, Terminated: True \n",
      "Episode:  10/1000, Reward:   +38.00, Epsilon: 0.90, Rolling Avg: 27.20, Steps:  38, Terminated: True \n",
      "Episode:  11/1000, Reward:   +15.00, Epsilon: 0.90, Rolling Avg: 26.09, Steps:  15, Terminated: True \n",
      "Episode:  12/1000, Reward:   +12.00, Epsilon: 0.89, Rolling Avg: 24.92, Steps:  12, Terminated: True \n",
      "Episode:  13/1000, Reward:   +13.00, Epsilon: 0.88, Rolling Avg: 24.00, Steps:  13, Terminated: True \n",
      "Episode:  14/1000, Reward:   +16.00, Epsilon: 0.87, Rolling Avg: 23.43, Steps:  16, Terminated: True \n",
      "Episode:  15/1000, Reward:   +24.00, Epsilon: 0.86, Rolling Avg: 23.47, Steps:  24, Terminated: True \n",
      "Episode:  16/1000, Reward:   +40.00, Epsilon: 0.85, Rolling Avg: 24.50, Steps:  40, Terminated: True \n",
      "Episode:  17/1000, Reward:   +31.00, Epsilon: 0.84, Rolling Avg: 24.88, Steps:  31, Terminated: True \n",
      "Episode:  18/1000, Reward:   +14.00, Epsilon: 0.83, Rolling Avg: 24.28, Steps:  14, Terminated: True \n",
      "Episode:  19/1000, Reward:    +9.00, Epsilon: 0.83, Rolling Avg: 23.47, Steps:   9, Terminated: True \n",
      "Episode:  20/1000, Reward:   +12.00, Epsilon: 0.82, Rolling Avg: 22.90, Steps:  12, Terminated: True \n",
      "Episode:  21/1000, Reward:   +19.00, Epsilon: 0.81, Rolling Avg: 23.30, Steps:  19, Terminated: True \n",
      "Episode:  22/1000, Reward:   +17.00, Epsilon: 0.80, Rolling Avg: 23.20, Steps:  17, Terminated: True \n",
      "Episode:  23/1000, Reward:   +16.00, Epsilon: 0.79, Rolling Avg: 23.15, Steps:  16, Terminated: True \n",
      "Episode:  24/1000, Reward:   +16.00, Epsilon: 0.79, Rolling Avg: 22.00, Steps:  16, Terminated: True \n",
      "Episode:  25/1000, Reward:   +44.00, Epsilon: 0.78, Rolling Avg: 22.75, Steps:  44, Terminated: True \n",
      "Episode:  26/1000, Reward:   +20.00, Epsilon: 0.77, Rolling Avg: 21.75, Steps:  20, Terminated: True \n",
      "Episode:  27/1000, Reward:   +21.00, Epsilon: 0.76, Rolling Avg: 20.20, Steps:  21, Terminated: True \n",
      "Episode:  28/1000, Reward:   +37.00, Epsilon: 0.75, Rolling Avg: 21.25, Steps:  37, Terminated: True \n",
      "Episode:  29/1000, Reward:   +14.00, Epsilon: 0.75, Rolling Avg: 21.40, Steps:  14, Terminated: True \n",
      "Episode:  30/1000, Reward:   +13.00, Epsilon: 0.74, Rolling Avg: 20.15, Steps:  13, Terminated: True \n",
      "Episode:  31/1000, Reward:   +28.00, Epsilon: 0.73, Rolling Avg: 20.80, Steps:  28, Terminated: True \n",
      "Episode:  32/1000, Reward:    +9.00, Epsilon: 0.72, Rolling Avg: 20.65, Steps:   9, Terminated: True \n",
      "Episode:  33/1000, Reward:   +10.00, Epsilon: 0.72, Rolling Avg: 20.50, Steps:  10, Terminated: True \n",
      "Episode:  34/1000, Reward:   +18.00, Epsilon: 0.71, Rolling Avg: 20.60, Steps:  18, Terminated: True \n",
      "Episode:  35/1000, Reward:   +15.00, Epsilon: 0.70, Rolling Avg: 20.15, Steps:  15, Terminated: True \n",
      "Episode:  36/1000, Reward:   +28.00, Epsilon: 0.70, Rolling Avg: 19.55, Steps:  28, Terminated: True \n",
      "Episode:  37/1000, Reward:   +15.00, Epsilon: 0.69, Rolling Avg: 18.75, Steps:  15, Terminated: True \n",
      "Episode:  38/1000, Reward:   +12.00, Epsilon: 0.68, Rolling Avg: 18.65, Steps:  12, Terminated: True \n",
      "Episode:  39/1000, Reward:   +10.00, Epsilon: 0.68, Rolling Avg: 18.70, Steps:  10, Terminated: True \n",
      "Episode:  40/1000, Reward:   +17.00, Epsilon: 0.67, Rolling Avg: 18.95, Steps:  17, Terminated: True \n",
      "Episode:  41/1000, Reward:   +17.00, Epsilon: 0.66, Rolling Avg: 18.85, Steps:  17, Terminated: True \n",
      "Episode:  42/1000, Reward:    +9.00, Epsilon: 0.66, Rolling Avg: 18.45, Steps:   9, Terminated: True \n",
      "Episode:  43/1000, Reward:   +25.00, Epsilon: 0.65, Rolling Avg: 18.90, Steps:  25, Terminated: True \n",
      "Episode:  44/1000, Reward:   +16.00, Epsilon: 0.64, Rolling Avg: 18.90, Steps:  16, Terminated: True \n",
      "Episode:  45/1000, Reward:   +18.00, Epsilon: 0.64, Rolling Avg: 17.60, Steps:  18, Terminated: True \n",
      "Episode:  46/1000, Reward:   +20.00, Epsilon: 0.63, Rolling Avg: 17.60, Steps:  20, Terminated: True \n",
      "Episode:  47/1000, Reward:   +16.00, Epsilon: 0.62, Rolling Avg: 17.35, Steps:  16, Terminated: True \n",
      "Episode:  48/1000, Reward:   +13.00, Epsilon: 0.62, Rolling Avg: 16.15, Steps:  13, Terminated: True \n",
      "Episode:  49/1000, Reward:   +16.00, Epsilon: 0.61, Rolling Avg: 16.25, Steps:  16, Terminated: True \n",
      "Episode:  50/1000, Reward:   +19.00, Epsilon: 0.61, Rolling Avg: 16.55, Steps:  19, Terminated: True \n",
      "Episode:  51/1000, Reward:   +37.00, Epsilon: 0.60, Rolling Avg: 17.00, Steps:  37, Terminated: True \n",
      "Episode:  52/1000, Reward:   +35.00, Epsilon: 0.59, Rolling Avg: 18.30, Steps:  35, Terminated: True \n",
      "Episode:  53/1000, Reward:   +23.00, Epsilon: 0.59, Rolling Avg: 18.95, Steps:  23, Terminated: True \n",
      "Episode:  54/1000, Reward:   +42.00, Epsilon: 0.58, Rolling Avg: 20.15, Steps:  42, Terminated: True \n",
      "Episode:  55/1000, Reward:   +40.00, Epsilon: 0.58, Rolling Avg: 21.40, Steps:  40, Terminated: True \n",
      "Episode:  56/1000, Reward:   +36.00, Epsilon: 0.57, Rolling Avg: 21.80, Steps:  36, Terminated: True \n",
      "Episode:  57/1000, Reward:  +149.00, Epsilon: 0.56, Rolling Avg: 28.50, Steps: 149, Terminated: True \n",
      "Episode:  58/1000, Reward:  +108.00, Epsilon: 0.56, Rolling Avg: 33.30, Steps: 108, Terminated: True \n",
      "Episode:  59/1000, Reward:   +60.00, Epsilon: 0.55, Rolling Avg: 35.80, Steps:  60, Terminated: True \n",
      "Episode:  60/1000, Reward:   +17.00, Epsilon: 0.55, Rolling Avg: 35.80, Steps:  17, Terminated: True \n",
      "Episode:  61/1000, Reward:   +48.00, Epsilon: 0.54, Rolling Avg: 37.35, Steps:  48, Terminated: True \n",
      "Episode:  62/1000, Reward:   +72.00, Epsilon: 0.54, Rolling Avg: 40.50, Steps:  72, Terminated: True \n",
      "Episode:  63/1000, Reward:   +53.00, Epsilon: 0.53, Rolling Avg: 41.90, Steps:  53, Terminated: True \n",
      "Episode:  64/1000, Reward:   +43.00, Epsilon: 0.53, Rolling Avg: 43.25, Steps:  43, Terminated: True \n",
      "Episode:  65/1000, Reward:   +30.00, Epsilon: 0.52, Rolling Avg: 43.85, Steps:  30, Terminated: True \n",
      "Episode:  66/1000, Reward:   +63.00, Epsilon: 0.52, Rolling Avg: 46.00, Steps:  63, Terminated: True \n",
      "Episode:  67/1000, Reward:   +41.00, Epsilon: 0.51, Rolling Avg: 47.25, Steps:  41, Terminated: True \n",
      "Episode:  68/1000, Reward:   +54.00, Epsilon: 0.50, Rolling Avg: 49.30, Steps:  54, Terminated: True \n",
      "Episode:  69/1000, Reward:   +73.00, Epsilon: 0.50, Rolling Avg: 52.15, Steps:  73, Terminated: True \n",
      "Episode:  70/1000, Reward:   +85.00, Epsilon: 0.49, Rolling Avg: 55.45, Steps:  85, Terminated: True \n",
      "Episode:  71/1000, Reward:  +109.00, Epsilon: 0.49, Rolling Avg: 59.05, Steps: 109, Terminated: True \n",
      "Episode:  72/1000, Reward:  +124.00, Epsilon: 0.48, Rolling Avg: 63.50, Steps: 124, Terminated: True \n",
      "Episode:  73/1000, Reward:  +165.00, Epsilon: 0.48, Rolling Avg: 70.60, Steps: 165, Terminated: True \n",
      "Episode:  74/1000, Reward:   +91.00, Epsilon: 0.48, Rolling Avg: 73.05, Steps:  91, Terminated: True \n",
      "Episode:  75/1000, Reward:   +75.00, Epsilon: 0.47, Rolling Avg: 74.80, Steps:  75, Terminated: True \n",
      "Episode:  76/1000, Reward:  +189.00, Epsilon: 0.47, Rolling Avg: 82.45, Steps: 189, Terminated: True \n",
      "Episode:  77/1000, Reward:  +166.00, Epsilon: 0.46, Rolling Avg: 83.30, Steps: 166, Terminated: True \n",
      "Episode:  78/1000, Reward:   +91.00, Epsilon: 0.46, Rolling Avg: 82.45, Steps:  91, Terminated: True \n",
      "Episode:  79/1000, Reward:  +152.00, Epsilon: 0.45, Rolling Avg: 87.05, Steps: 152, Terminated: True \n",
      "Episode:  80/1000, Reward:  +128.00, Epsilon: 0.45, Rolling Avg: 92.60, Steps: 128, Terminated: True \n",
      "Episode:  81/1000, Reward:  +122.00, Epsilon: 0.44, Rolling Avg: 96.30, Steps: 122, Terminated: True \n"
     ]
    },
    {
     "name": "stdout",
     "output_type": "stream",
     "text": [
      "Episode:  82/1000, Reward:  +129.00, Epsilon: 0.44, Rolling Avg: 99.15, Steps: 129, Terminated: True \n",
      "Episode:  83/1000, Reward:  +131.00, Epsilon: 0.43, Rolling Avg: 103.05, Steps: 131, Terminated: True \n",
      "Episode:  84/1000, Reward:  +165.00, Epsilon: 0.43, Rolling Avg: 109.15, Steps: 165, Terminated: True \n",
      "Episode:  85/1000, Reward:  +219.00, Epsilon: 0.43, Rolling Avg: 118.60, Steps: 219, Terminated: True \n",
      "Episode:  86/1000, Reward:   +76.00, Epsilon: 0.42, Rolling Avg: 119.25, Steps:  76, Terminated: True \n",
      "Episode:  87/1000, Reward:  +153.00, Epsilon: 0.42, Rolling Avg: 124.85, Steps: 153, Terminated: True \n",
      "Episode:  88/1000, Reward:  +129.00, Epsilon: 0.41, Rolling Avg: 128.60, Steps: 129, Terminated: True \n",
      "Episode:  89/1000, Reward:  +190.00, Epsilon: 0.41, Rolling Avg: 134.45, Steps: 190, Terminated: True \n",
      "Episode:  90/1000, Reward:   +39.00, Epsilon: 0.40, Rolling Avg: 132.15, Steps:  39, Terminated: True \n",
      "Episode:  91/1000, Reward:   +88.00, Epsilon: 0.40, Rolling Avg: 131.10, Steps:  88, Terminated: True \n",
      "Episode:  92/1000, Reward:  +115.00, Epsilon: 0.40, Rolling Avg: 130.65, Steps: 115, Terminated: True \n",
      "Episode:  93/1000, Reward:   +25.00, Epsilon: 0.39, Rolling Avg: 123.65, Steps:  25, Terminated: True \n",
      "Episode:  94/1000, Reward:  +108.00, Epsilon: 0.39, Rolling Avg: 124.50, Steps: 108, Terminated: True \n",
      "Episode:  95/1000, Reward:  +300.00, Epsilon: 0.38, Rolling Avg: 135.75, Steps: 300, Terminated: False \n",
      "Episode:  96/1000, Reward:  +278.00, Epsilon: 0.38, Rolling Avg: 140.20, Steps: 278, Terminated: True \n",
      "Episode:  97/1000, Reward:  +103.00, Epsilon: 0.38, Rolling Avg: 137.05, Steps: 103, Terminated: True \n",
      "Episode:  98/1000, Reward:  +179.00, Epsilon: 0.37, Rolling Avg: 141.45, Steps: 179, Terminated: True \n",
      "Episode:  99/1000, Reward:   +89.00, Epsilon: 0.37, Rolling Avg: 138.30, Steps:  89, Terminated: True \n",
      "Episode: 100/1000, Reward:  +249.00, Epsilon: 0.37, Rolling Avg: 144.35, Steps: 249, Terminated: True \n",
      "Episode: 101/1000, Reward:  +180.00, Epsilon: 0.36, Rolling Avg: 147.25, Steps: 180, Terminated: True \n",
      "Episode: 102/1000, Reward:  +243.00, Epsilon: 0.36, Rolling Avg: 152.95, Steps: 243, Terminated: True \n",
      "Episode: 103/1000, Reward:   +97.00, Epsilon: 0.36, Rolling Avg: 151.25, Steps:  97, Terminated: True \n",
      "Episode: 104/1000, Reward:  +189.00, Epsilon: 0.35, Rolling Avg: 152.45, Steps: 189, Terminated: True \n",
      "Episode: 105/1000, Reward:  +153.00, Epsilon: 0.35, Rolling Avg: 149.15, Steps: 153, Terminated: True \n",
      "Episode: 106/1000, Reward:  +125.00, Epsilon: 0.34, Rolling Avg: 151.60, Steps: 125, Terminated: True \n",
      "Episode: 107/1000, Reward:  +300.00, Epsilon: 0.34, Rolling Avg: 158.95, Steps: 300, Terminated: False \n",
      "Episode: 108/1000, Reward:  +175.00, Epsilon: 0.34, Rolling Avg: 161.25, Steps: 175, Terminated: True \n",
      "Episode: 109/1000, Reward:   +95.00, Epsilon: 0.33, Rolling Avg: 156.50, Steps:  95, Terminated: True \n",
      "Episode: 110/1000, Reward:  +300.00, Epsilon: 0.33, Rolling Avg: 169.55, Steps: 300, Terminated: False \n",
      "Episode: 111/1000, Reward:  +180.00, Epsilon: 0.33, Rolling Avg: 174.15, Steps: 180, Terminated: True \n",
      "Episode: 112/1000, Reward:  +270.00, Epsilon: 0.32, Rolling Avg: 181.90, Steps: 270, Terminated: True \n",
      "Episode: 113/1000, Reward:  +294.00, Epsilon: 0.32, Rolling Avg: 195.35, Steps: 294, Terminated: True \n",
      "Environment solved in 113 episodes!\n",
      "Training completed in 31.05 minutes\n"
     ]
    }
   ],
   "source": [
    "# Training loop\n",
    "epsilon = epsilon_start\n",
    "episode_rewards = []\n",
    "rolling_avg_rewards = []\n",
    "\n",
    "start_time = time.time()\n",
    "\n",
    "for episode in range(num_episodes):\n",
    "    state, _ = env.reset()\n",
    "    state = np.reshape(state, [1, state_size])\n",
    "    total_reward = 0\n",
    "    done = False\n",
    "    terminated = False\n",
    "    truncated = False\n",
    "    step = 0\n",
    "    for e in range(episodes):                       # Should be While True, however we limit number of eps\n",
    "        step = step + 1\n",
    "        # Epsilon-greedy policy\n",
    "        if np.random.rand() <= epsilon:\n",
    "            action = np.random.randint(action_size)  # Explore\n",
    "        else:\n",
    "            action_vals = model.predict(state, verbose=0)\n",
    "            action = np.argmax(action_vals[0])  # Exploit\n",
    "\n",
    "        # Perform action\n",
    "        next_state, reward, terminated, truncated, _ = env.step(action)\n",
    "        done = terminated \n",
    "        next_state = np.reshape(next_state, [1, state_size])\n",
    "        total_reward += reward\n",
    "\n",
    "        # Store experience\n",
    "        store_experience(state, action, reward, next_state, done)\n",
    "\n",
    "        # Update state\n",
    "        state = next_state\n",
    "\n",
    "        # Train using experience replay\n",
    "        experience_replay_with_ddqn(model, target_model, batch_size, gamma, tau, step)\n",
    "\n",
    "        if done:\n",
    "            break\n",
    "\n",
    "    # Decay epsilon\n",
    "    epsilon = max(epsilon_min, epsilon * epsilon_decay)\n",
    "\n",
    "    # Record reward\n",
    "    episode_rewards.append(total_reward)\n",
    "    rolling_avg = np.mean(episode_rewards[-20:])\n",
    "    rolling_avg_rewards.append(rolling_avg)\n",
    "\n",
    "    # Print progress\n",
    "    print(f\"Episode: {episode+1:3}/{num_episodes}, Reward: {total_reward:+8.2f}, \"\n",
    "          f\"Epsilon: {epsilon:.2f}, Rolling Avg: {rolling_avg:5.2f}, Steps: {step:3}, Terminated: {done} \")\n",
    "\n",
    "    # Check if environment is solved\n",
    "    if rolling_avg >= solved_threshold:\n",
    "        print(f\"Environment solved in {episode+1} episodes!\")\n",
    "        model.save(\"lunarlander_ddqn_model1.keras\")\n",
    "        break\n",
    "\n",
    "end_time = time.time()\n",
    "print(f\"Training completed in {(end_time - start_time)/60:.2f} minutes\")\n"
   ]
  },
  {
   "cell_type": "markdown",
   "id": "525316ad",
   "metadata": {},
   "source": [
    "#### **Result Visualization**"
   ]
  },
  {
   "cell_type": "code",
   "execution_count": 8,
   "id": "16988f92",
   "metadata": {},
   "outputs": [
    {
     "data": {
      "image/png": "[encoded data removed]",
      "text/plain": [
       "<Figure size 1000x600 with 1 Axes>"
      ]
     },
     "metadata": {},
     "output_type": "display_data"
    }
   ],
   "source": [
    "# Plot rewards with rolling average\n",
    "plt.figure(figsize=(10, 6))\n",
    "plt.plot(episode_rewards, label='Rewards', color='blue')\n",
    "plt.plot(rolling_avg_rewards, label='Rolling Avg (Last 20 Episodes)', color='orange')\n",
    "plt.axhline(y=solved_threshold, color='red', linestyle='--', label='Solved Threshold')\n",
    "plt.title('DDQN Training Performance')\n",
    "plt.xlabel('Episodes')\n",
    "plt.ylabel('Rewards')\n",
    "plt.legend()\n",
    "plt.grid()\n",
    "plt.show()"
   ]
  },
  {
   "cell_type": "markdown",
   "id": "7f4c1d80",
   "metadata": {},
   "source": [
    "#### **Testing 10 episodes with the DDQN trained networks**"
   ]
  },
  {
   "cell_type": "code",
   "execution_count": 9,
   "id": "bdc1b93a",
   "metadata": {},
   "outputs": [
    {
     "name": "stdout",
     "output_type": "stream",
     "text": [
      "Test Episode: 1/10, Reward: 397.00, Steps: 397\n",
      "Test Episode: 2/10, Reward: 330.00, Steps: 330\n",
      "Test Episode: 3/10, Reward: 409.00, Steps: 409\n",
      "Test Episode: 4/10, Reward: 365.00, Steps: 365\n",
      "Test Episode: 5/10, Reward: 338.00, Steps: 338\n",
      "Test Episode: 6/10, Reward: 368.00, Steps: 368\n",
      "Test Episode: 7/10, Reward: 385.00, Steps: 385\n",
      "Test Episode: 8/10, Reward: 500.00, Steps: 500\n",
      "Test Episode: 9/10, Reward: 483.00, Steps: 483\n",
      "Test Episode: 10/10, Reward: 341.00, Steps: 341\n",
      "Testing completed in 2.85 minutes\n"
     ]
    }
   ],
   "source": [
    "# Testing for 10 episodes\n",
    "start_time = time.time()\n",
    "max_steps = 500\n",
    "\n",
    "for e_test in range(10):  # Run 10 test episodes\n",
    "    state, _ = env.reset()\n",
    "    state = np.reshape(state, [1, state_size])\n",
    "    total_reward = 0\n",
    "    \n",
    "    steps = 0\n",
    "    for s in range(max_steps):                            # we limit because sometimes it goes ad-aeternum\n",
    "        # Use the trained model for testing\n",
    "        action_vals = model.predict(state, verbose=0)  # Predict action values\n",
    "        action = np.argmax(action_vals[0])  # Choose the action with the highest Q-value\n",
    "\n",
    "        next_state, reward, done, _, _ = env.step(action)\n",
    "        next_state = np.reshape(next_state, [1, state_size])\n",
    "        total_reward += reward\n",
    "        state = next_state\n",
    "        steps = steps + 1\n",
    "\n",
    "        if done or (steps == max_steps):\n",
    "            print(f\"Test Episode: {e_test + 1}/10, Reward: {total_reward:.2f}, Steps: {steps:3}\")\n",
    "            break\n",
    "\n",
    "end_time = time.time()\n",
    "testing_duration = (end_time - start_time) / 60  # Convert to minutes\n",
    "print(f\"Testing completed in {testing_duration:.2f} minutes\")"
   ]
  },
  {
   "cell_type": "code",
   "execution_count": 10,
   "id": "8b8cc35b",
   "metadata": {},
   "outputs": [
    {
     "name": "stdout",
     "output_type": "stream",
     "text": [
      "-----\n",
      "PIL                 11.0.0\n",
      "gymnasium           1.0.0\n",
      "keras               3.6.0\n",
      "matplotlib          3.9.2\n",
      "numpy               1.26.4\n",
      "session_info        1.0.0\n",
      "tensorflow          2.17.1\n",
      "-----\n",
      "IPython             8.28.0\n",
      "jupyter_client      8.6.3\n",
      "jupyter_core        5.7.2\n",
      "-----\n",
      "Python 3.12.3 (main, Nov  6 2024, 18:32:19) [GCC 13.2.0]\n",
      "Linux-5.15.167.4-microsoft-standard-WSL2-x86_64-with-glibc2.39\n",
      "-----\n",
      "Session information updated at 2024-12-21 13:27\n"
     ]
    }
   ],
   "source": [
    "import session_info\n",
    "session_info.show(html=False)"
   ]
  }
 ],
 "metadata": {
  "kernelspec": {
   "display_name": "DL-Keras",
   "language": "python",
   "name": "dl-keras"
  },
  "language_info": {
   "codemirror_mode": {
    "name": "ipython",
    "version": 3
   },
   "file_extension": ".py",
   "mimetype": "text/x-python",
   "name": "python",
   "nbconvert_exporter": "python",
   "pygments_lexer": "ipython3",
   "version": "3.12.3"
  }
 },
 "nbformat": 4,
 "nbformat_minor": 5
}
