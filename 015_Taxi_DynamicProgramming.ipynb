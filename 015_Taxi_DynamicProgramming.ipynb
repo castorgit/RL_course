{
 "cells": [
  {
   "cell_type": "markdown",
   "id": "790ca681",
   "metadata": {},
   "source": [
    "#### **Dynamic Programming Taxi Environment**\n",
    "\n",
    "In this example there is an overflow doing the policy iteration (in my package combination). \n",
    "I did not clip the values for the sake of loop <br>\n",
    "clarity. Sorry for the warning.\n"
   ]
  },
  {
   "cell_type": "code",
   "execution_count": 1,
   "id": "3cbf5243",
   "metadata": {},
   "outputs": [],
   "source": [
    "import gymnasium as gym\n",
    "import numpy as np\n",
    "import session_info"
   ]
  },
  {
   "cell_type": "code",
   "execution_count": 2,
   "id": "9e712bcc",
   "metadata": {},
   "outputs": [
    {
     "name": "stderr",
     "output_type": "stream",
     "text": [
      "/tmp/ipykernel_4031/2998976893.py:19: RuntimeWarning: overflow encountered in scalar add\n",
      "  new_v = sum(p * (r + gamma * V[ns]) for a, action_prob in enumerate(policy[s]) if action_prob > 0\n",
      "/tmp/ipykernel_4031/2998976893.py:22: RuntimeWarning: invalid value encountered in scalar subtract\n",
      "  delta = max(delta, np.abs(old_v - V[s]))\n"
     ]
    },
    {
     "name": "stdout",
     "output_type": "stream",
     "text": [
      "\n",
      "Policy from Policy Iteration:\n"
     ]
    }
   ],
   "source": [
    "# Initialize the Taxi environment\n",
    "env = gym.make('Taxi-v3', render_mode='human')\n",
    "env = env.unwrapped  # Access the raw environment without the TimeLimit wrapper\n",
    "env.reset()  # Reset the environment\n",
    "\n",
    "# Parameters\n",
    "gamma = 0.8  # Discount factor\n",
    "theta = 1e-8  # Convergence threshold\n",
    "\n",
    "# Supporting functions\n",
    "def policy_evaluation(env, policy, theta=1e-8, gamma=0.9):\n",
    "    V = np.zeros(env.observation_space.n)\n",
    "    while True:\n",
    "        delta = 0\n",
    "\n",
    "        for s in range(env.observation_space.n):\n",
    "            \n",
    "            old_v = V[s]\n",
    "            new_v = sum(p * (r + gamma * V[ns]) for a, action_prob in enumerate(policy[s]) if action_prob > 0 \n",
    "                        for p, ns, r, _ in env.P[s][a])\n",
    "            V[s] = new_v\n",
    "            delta = max(delta, np.abs(old_v - V[s]))\n",
    "        if delta < theta:\n",
    "            break\n",
    "    return V\n",
    "\n",
    "def policy_improvement(env, V, gamma=0.9):\n",
    "    policy = np.zeros([env.observation_space.n, env.action_space.n])\n",
    "    for s in range(env.observation_space.n):\n",
    "        q_values = np.zeros(env.action_space.n)\n",
    "        for a in range(env.action_space.n):\n",
    "            q_values[a] = sum([p * (r + gamma * V[ns]) for p, ns, r, _ in env.P[s][a]])\n",
    "        best_action = np.argmax(q_values)\n",
    "        policy[s, best_action] = 1.0\n",
    "    return policy\n",
    "\n",
    "def policy_iteration(env, theta=1e-8, gamma=0.9):\n",
    "    policy = np.ones([env.observation_space.n, env.action_space.n]) / env.action_space.n\n",
    "    while True:\n",
    "        V = policy_evaluation(env, policy, theta, gamma)\n",
    "        new_policy = policy_improvement(env, V, gamma)\n",
    "        if np.array_equal(policy, new_policy):\n",
    "            break\n",
    "        policy = new_policy\n",
    "    return policy, V\n",
    "\n",
    "def value_iteration(env, theta=1e-8, gamma=0.9):\n",
    "    V = np.zeros(env.observation_space.n)\n",
    "    while True:\n",
    "        delta = 0\n",
    "        for s in range(env.observation_space.n):\n",
    "            q_values = [sum([p * (r + gamma * V[ns]) for p, ns, r, _ in env.P[s][a]]) for a in range(env.action_space.n)]\n",
    "            max_q_value = max(q_values)\n",
    "            delta = max(delta, abs(V[s] - max_q_value))\n",
    "            V[s] = max_q_value\n",
    "        if delta < theta:\n",
    "            break\n",
    "    policy = policy_improvement(env, V, gamma)\n",
    "    return policy, V\n",
    "\n",
    "# Run policy iteration\n",
    "pi_policy, pi_value = policy_iteration(env, theta=1e-8, gamma=0.9)\n",
    "print(\"\\nPolicy from Policy Iteration:\")\n",
    "\n",
    "# Simulate using the optimal policy\n",
    "def simulate_optimal_policy_taxi(env, policy, max_steps=100):\n",
    "    \"\"\"\n",
    "    Simulate an episode in the Taxi environment using the optimal policy.\n",
    "    \n",
    "    Args:\n",
    "        env: The Taxi environment.\n",
    "        policy: The optimal policy from policy or value iteration.\n",
    "        max_steps: Maximum steps to simulate.\n",
    "\n",
    "    Returns:\n",
    "        total_reward: Total accumulated reward during simulation.\n",
    "        path: List of states visited.\n",
    "        actions: List of actions taken.\n",
    "    \"\"\"\n",
    "    state = env.reset()[0]  # Reset environment and get initial state\n",
    "    total_reward = 0\n",
    "    path = [state]  # Track states visited\n",
    "    actions = []  # Track actions taken\n",
    "\n",
    "    for _ in range(max_steps):\n",
    "        action = np.argmax(policy[state])  # Best action from the policy\n",
    "        next_state, reward, done, _, _ = env.step(action)  # Step in environment\n",
    "\n",
    "        total_reward += reward\n",
    "        path.append(next_state)\n",
    "        actions.append(action)\n",
    "\n",
    "        state = next_state\n",
    "        env.render()  # Optional: Render each step\n",
    "\n",
    "        if done:\n",
    "            break\n",
    "\n",
    "    return total_reward, path, actions\n",
    "\n"
   ]
  },
  {
   "cell_type": "code",
   "execution_count": 3,
   "id": "e658b5e7",
   "metadata": {},
   "outputs": [
    {
     "name": "stdout",
     "output_type": "stream",
     "text": [
      "Total Reward: 14\n",
      "Path taken: [308, 408, 416, 316, 216, 116, 16, 0]\n",
      "Actions taken: [0, 4, 1, 1, 1, 1, 5]\n"
     ]
    }
   ],
   "source": [
    "# Using the optimal policy to simulate\n",
    "total_reward, path, actions = simulate_optimal_policy_taxi(env, pi_policy)\n",
    "print(\"Total Reward:\", total_reward)\n",
    "print(\"Path taken:\", path)\n",
    "print(\"Actions taken:\", actions)"
   ]
  },
  {
   "cell_type": "code",
   "execution_count": 4,
   "id": "ac95f351",
   "metadata": {},
   "outputs": [
    {
     "name": "stdout",
     "output_type": "stream",
     "text": [
      "-----\n",
      "gymnasium           1.0.0\n",
      "numpy               1.26.4\n",
      "session_info        1.0.0\n",
      "-----\n",
      "IPython             8.26.0\n",
      "jupyter_client      8.6.2\n",
      "jupyter_core        5.7.2\n",
      "-----\n",
      "Python 3.12.3 (main, Sep 11 2024, 14:17:37) [GCC 13.2.0]\n",
      "Linux-5.15.153.1-microsoft-standard-WSL2-x86_64-with-glibc2.39\n",
      "-----\n",
      "Session information updated at 2024-11-02 19:36\n"
     ]
    }
   ],
   "source": [
    "session_info.show(html=False)"
   ]
  }
 ],
 "metadata": {
  "kernelspec": {
   "display_name": "rl",
   "language": "python",
   "name": "rl"
  },
  "language_info": {
   "codemirror_mode": {
    "name": "ipython",
    "version": 3
   },
   "file_extension": ".py",
   "mimetype": "text/x-python",
   "name": "python",
   "nbconvert_exporter": "python",
   "pygments_lexer": "ipython3",
   "version": "3.12.3"
  }
 },
 "nbformat": 4,
 "nbformat_minor": 5
}
