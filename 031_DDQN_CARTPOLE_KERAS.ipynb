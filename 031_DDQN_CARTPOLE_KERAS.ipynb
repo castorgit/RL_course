{
 "cells": [
  {
   "cell_type": "markdown",
   "id": "bad28014",
   "metadata": {},
   "source": [
    "### **CARTPOLE DDQN KERAS**\n",
    "\n",
    "**(soft update Polyak + some improvements)**\n",
    "\n",
    "This is a naive version vectorized of the DDQN Algorithm for the CARTPOLE env <br>\n",
    "Vectorizing we obtain a version that is faster and it is 'functional' as it works <br>\n",
    "It should converge around 100 episodes\n",
    "\n",
    "The Double DQN (DDQN) uses two networks one as a target and one as the trained network <br>\n",
    "\n",
    "The target network is a copy of the online network that is updated less frequently, <br>\n",
    "and is used to generate the target values for the Q-learning update\n",
    "\n",
    "It includes a soft update of the weights, instead of substituting the weights between the networks it blends them together using a Polyak averaging This was an improvement on the pure DDQN algorithm"
   ]
  },
  {
   "cell_type": "code",
   "execution_count": 1,
   "id": "548ece67",
   "metadata": {},
   "outputs": [
    {
     "name": "stderr",
     "output_type": "stream",
     "text": [
      "WARNING: All log messages before absl::InitializeLog() is called are written to STDERR\n",
      "I0000 00:00:1739102726.526854   17238 cuda_executor.cc:1001] could not open file to read NUMA node: /sys/bus/pci/devices/0000:01:00.0/numa_node\n",
      "Your kernel may have been built without NUMA support.\n",
      "I0000 00:00:1739102726.545014   17238 cuda_executor.cc:1001] could not open file to read NUMA node: /sys/bus/pci/devices/0000:01:00.0/numa_node\n",
      "Your kernel may have been built without NUMA support.\n",
      "I0000 00:00:1739102726.545052   17238 cuda_executor.cc:1001] could not open file to read NUMA node: /sys/bus/pci/devices/0000:01:00.0/numa_node\n",
      "Your kernel may have been built without NUMA support.\n",
      "I0000 00:00:1739102726.683450   17238 cuda_executor.cc:1001] could not open file to read NUMA node: /sys/bus/pci/devices/0000:01:00.0/numa_node\n",
      "Your kernel may have been built without NUMA support.\n",
      "I0000 00:00:1739102726.683497   17238 cuda_executor.cc:1001] could not open file to read NUMA node: /sys/bus/pci/devices/0000:01:00.0/numa_node\n",
      "Your kernel may have been built without NUMA support.\n",
      "I0000 00:00:1739102726.683519   17238 cuda_executor.cc:1001] could not open file to read NUMA node: /sys/bus/pci/devices/0000:01:00.0/numa_node\n",
      "Your kernel may have been built without NUMA support.\n",
      "I0000 00:00:1739102726.688243   17238 cuda_executor.cc:1001] could not open file to read NUMA node: /sys/bus/pci/devices/0000:01:00.0/numa_node\n",
      "Your kernel may have been built without NUMA support.\n",
      "I0000 00:00:1739102726.688313   17238 cuda_executor.cc:1001] could not open file to read NUMA node: /sys/bus/pci/devices/0000:01:00.0/numa_node\n",
      "Your kernel may have been built without NUMA support.\n",
      "I0000 00:00:1739102726.688328   17238 cuda_executor.cc:1001] could not open file to read NUMA node: /sys/bus/pci/devices/0000:01:00.0/numa_node\n",
      "Your kernel may have been built without NUMA support.\n",
      "I0000 00:00:1739102726.688504   17238 cuda_executor.cc:1001] could not open file to read NUMA node: /sys/bus/pci/devices/0000:01:00.0/numa_node\n",
      "Your kernel may have been built without NUMA support.\n",
      "I0000 00:00:1739102726.688540   17238 cuda_executor.cc:1001] could not open file to read NUMA node: /sys/bus/pci/devices/0000:01:00.0/numa_node\n",
      "Your kernel may have been built without NUMA support.\n",
      "I0000 00:00:1739102726.715411   17238 cuda_executor.cc:1001] could not open file to read NUMA node: /sys/bus/pci/devices/0000:01:00.0/numa_node\n",
      "Your kernel may have been built without NUMA support.\n",
      "I0000 00:00:1739102726.715489   17238 cuda_executor.cc:1001] could not open file to read NUMA node: /sys/bus/pci/devices/0000:01:00.0/numa_node\n",
      "Your kernel may have been built without NUMA support.\n",
      "I0000 00:00:1739102726.715505   17238 cuda_executor.cc:1001] could not open file to read NUMA node: /sys/bus/pci/devices/0000:01:00.0/numa_node\n",
      "Your kernel may have been built without NUMA support.\n",
      "I0000 00:00:1739102726.715623   17238 cuda_executor.cc:1001] could not open file to read NUMA node: /sys/bus/pci/devices/0000:01:00.0/numa_node\n",
      "Your kernel may have been built without NUMA support.\n",
      "I0000 00:00:1739102726.715637   17238 cuda_executor.cc:1001] could not open file to read NUMA node: /sys/bus/pci/devices/0000:01:00.0/numa_node\n",
      "Your kernel may have been built without NUMA support.\n",
      "I0000 00:00:1739102726.715646   17238 cuda_executor.cc:1001] could not open file to read NUMA node: /sys/bus/pci/devices/0000:01:00.0/numa_node\n",
      "Your kernel may have been built without NUMA support.\n",
      "I0000 00:00:1739102726.715827   17238 cuda_executor.cc:1001] could not open file to read NUMA node: /sys/bus/pci/devices/0000:01:00.0/numa_node\n",
      "Your kernel may have been built without NUMA support.\n",
      "I0000 00:00:1739102726.715848   17238 cuda_executor.cc:1001] could not open file to read NUMA node: /sys/bus/pci/devices/0000:01:00.0/numa_node\n",
      "Your kernel may have been built without NUMA support.\n",
      "WARNING: All log messages before absl::InitializeLog() is called are written to STDERR\n",
      "I0000 00:00:1739102728.604730   18787 service.cc:146] XLA service 0x7f6ea00053f0 initialized for platform CUDA (this does not guarantee that XLA will be used). Devices:\n",
      "I0000 00:00:1739102728.604757   18787 service.cc:154]   StreamExecutor device (0): NVIDIA T600 Laptop GPU, Compute Capability 7.5\n",
      "I0000 00:00:1739102728.681928   18787 device_compiler.h:188] Compiled cluster using XLA!  This line is logged at most once for the lifetime of the process.\n"
     ]
    }
   ],
   "source": [
    "import os\n",
    "os.environ['TF_CPP_MIN_LOG_LEVEL'] = '3'\n",
    "\n",
    "import gymnasium as gym\n",
    "import numpy as np\n",
    "from tensorflow.keras.models import Sequential, Model\n",
    "from tensorflow.keras.layers import Dense, Input\n",
    "from tensorflow.keras.optimizers import Adam\n",
    "import tensorflow as tf\n",
    "import matplotlib.pyplot as plt\n",
    "from collections import deque\n",
    "import random\n",
    "\n",
    "import time\n",
    "from PIL import Image\n",
    "\n",
    "import sys\n",
    "sys.stderr = open('err.txt', 'w')"
   ]
  },
  {
   "cell_type": "code",
   "execution_count": 2,
   "id": "862b2f37",
   "metadata": {},
   "outputs": [
    {
     "name": "stdout",
     "output_type": "stream",
     "text": [
      "Using device: 0, name: NVIDIA T600 Laptop GPU, pci bus id: 0000:01:00.0, compute capability: 7.5\n"
     ]
    }
   ],
   "source": [
    "# Activate GPU\n",
    "from tensorflow.python.client import device_lib\n",
    "devices = device_lib.list_local_devices()\n",
    "gpu_devices = [device for device in devices if device.device_type == 'GPU']\n",
    "for gpu in gpu_devices:\n",
    "    print('Using', gpu.physical_device_desc)"
   ]
  },
  {
   "cell_type": "markdown",
   "id": "3fe60191",
   "metadata": {},
   "source": [
    "#### **Environment setup**"
   ]
  },
  {
   "cell_type": "code",
   "execution_count": 3,
   "id": "f7f53745",
   "metadata": {},
   "outputs": [
    {
     "name": "stdout",
     "output_type": "stream",
     "text": [
      "Using device: 0, name: NVIDIA T600 Laptop GPU, pci bus id: 0000:01:00.0, compute capability: 7.5\n"
     ]
    }
   ],
   "source": [
    "# GPU\n",
    "from tensorflow.python.client import device_lib\n",
    "devices = device_lib.list_local_devices()\n",
    "gpu_devices = [device for device in devices if device.device_type == 'GPU']\n",
    "for gpu in gpu_devices:\n",
    "    print('Using', gpu.physical_device_desc)"
   ]
  },
  {
   "cell_type": "code",
   "execution_count": 4,
   "id": "eb8cd8f6",
   "metadata": {},
   "outputs": [],
   "source": [
    "env = gym.make(\"CartPole-v1\")\n",
    "state_size = env.observation_space.shape[0]\n",
    "action_size = env.action_space.n\n",
    "tf.random.set_seed(221)                      # For reproducibility"
   ]
  },
  {
   "cell_type": "markdown",
   "id": "a4e88cb4",
   "metadata": {},
   "source": [
    "#### **Hyperparameters**"
   ]
  },
  {
   "cell_type": "code",
   "execution_count": 5,
   "id": "7660da76",
   "metadata": {},
   "outputs": [],
   "source": [
    "ROLLING_WINDOW=20\n",
    "\n",
    "episodes = 300\n",
    "batch_size = 64\n",
    "gamma = 0.99                # Discount factor\n",
    "epsilon_start = 1.0\n",
    "epsilon_min = 0.01\n",
    "epsilon_decay = 0.99 \n",
    "learning_rate = 0.0001\n",
    "buffer_capacity = 10000\n",
    "num_episodes = 1000\n",
    "solved_threshold = 195\n",
    "retrain_steps = 5           # We copy weights every retrain_steps \n",
    "tau = 0.15                   # Soft update, it is high for long retrain periods. Small for short retrain\n",
    "\n",
    "#lr: 0.0001 gamma 0.99 batch_size 128 tau  0.15 epsilon decay 0.99 retrain_steps  5"
   ]
  },
  {
   "cell_type": "markdown",
   "id": "65a7404f",
   "metadata": {},
   "source": [
    "#### **Neural Network definition**"
   ]
  },
  {
   "cell_type": "code",
   "execution_count": 6,
   "id": "b5fac61d",
   "metadata": {},
   "outputs": [],
   "source": [
    "# Build the neural network model\n",
    "def build_model(state_size, action_size):\n",
    "    inputs = Input(shape=(state_size,))  \n",
    "    x = Dense(16, activation=\"relu\")(inputs)\n",
    "    x = Dense(64, activation=\"relu\")(x)\n",
    "    x = Dense(16, activation=\"relu\")(x)\n",
    "    outputs = Dense(action_size, activation=\"linear\")(x)\n",
    "    model = Model(inputs=inputs, outputs=outputs)\n",
    "    model.compile(optimizer=Adam(learning_rate=learning_rate), loss=\"mse\")\n",
    "    return model"
   ]
  },
  {
   "cell_type": "markdown",
   "id": "786f3afa",
   "metadata": {},
   "source": [
    "#### **Support Functions**"
   ]
  },
  {
   "cell_type": "code",
   "execution_count": 7,
   "id": "620a9a45",
   "metadata": {},
   "outputs": [],
   "source": [
    "# Soft update function for target network\n",
    "\"\"\" Soft Update using Polyak optimization \"\"\"\n",
    "def soft_update(model, target_model, tau):\n",
    "    target_weights = target_model.get_weights()\n",
    "    model_weights = model.get_weights()\n",
    "    new_weights = [\n",
    "        tau * mw + (1 - tau) * tw for mw, tw in zip(model_weights, target_weights)\n",
    "    ]\n",
    "    target_model.set_weights(new_weights)"
   ]
  },
  {
   "cell_type": "markdown",
   "id": "e28bff8d",
   "metadata": {},
   "source": [
    "#### **Replay Function - The core of the DDQN Algorithm**"
   ]
  },
  {
   "cell_type": "code",
   "execution_count": 8,
   "id": "6ff1c938",
   "metadata": {},
   "outputs": [],
   "source": [
    "# Replay buffer\n",
    "replay_buffer = deque(maxlen=buffer_capacity)\n",
    "\n",
    "# Add experience to replay buffer\n",
    "def store_experience(state, action, reward, next_state, done):\n",
    "    replay_buffer.append((state, action, reward, next_state, done))\n",
    "\n",
    "# Sample experiences from the replay buffer\n",
    "def sample_experiences(batch_size):\n",
    "    indices = np.random.choice(len(replay_buffer), batch_size, replace=False)\n",
    "    batch = [replay_buffer[i] for i in indices]\n",
    "    states, actions, rewards, next_states, dones = zip(*batch)\n",
    "    return (\n",
    "        np.vstack(states),\n",
    "        np.array(actions),\n",
    "        np.array(rewards),\n",
    "        np.vstack(next_states),\n",
    "        np.array(dones, dtype=np.float32)\n",
    "    )\n",
    "\n",
    "# Double DQN target calculation\n",
    "def experience_replay_with_ddqn(model, target_model, batch_size, gamma, tau, step):\n",
    "    if len(replay_buffer) < batch_size:\n",
    "        return\n",
    "\n",
    "    states, actions, rewards, next_states, dones = sample_experiences(batch_size)\n",
    "\n",
    "    # Predict Q-values for next states using both networks\n",
    "    next_q_values = model.predict(next_states, verbose=0)\n",
    "    best_actions = np.argmax(next_q_values, axis=1)\n",
    "    target_q_values = target_model.predict(next_states, verbose=0)\n",
    "\n",
    "    # Update Q-values using Double DQN formula\n",
    "    targets = rewards + gamma * target_q_values[np.arange(batch_size), best_actions] * (1 - dones)\n",
    "\n",
    "    # Update main Q-network\n",
    "    q_values = model.predict(states, verbose=0)\n",
    "    q_values[np.arange(batch_size), actions] = targets\n",
    "    model.fit(states, q_values, epochs=1, verbose=0)\n",
    "\n",
    "    # Apply soft update to target network\n",
    "    if step % retrain_steps == 0:   \n",
    "        soft_update(model, target_model, tau)\n",
    "\n"
   ]
  },
  {
   "cell_type": "markdown",
   "id": "aab9a89a",
   "metadata": {},
   "source": [
    "#### **Initialize Network models**"
   ]
  },
  {
   "cell_type": "code",
   "execution_count": 9,
   "id": "097f7087",
   "metadata": {},
   "outputs": [],
   "source": [
    "model = build_model(state_size, action_size)\n",
    "target_model = build_model(state_size, action_size)\n",
    "target_model.set_weights(model.get_weights())             # Sync target network initially"
   ]
  },
  {
   "cell_type": "markdown",
   "id": "61447319",
   "metadata": {},
   "source": [
    "#### **Training Phase**"
   ]
  },
  {
   "cell_type": "code",
   "execution_count": 10,
   "id": "8617a95f",
   "metadata": {
    "scrolled": false
   },
   "outputs": [
    {
     "name": "stdout",
     "output_type": "stream",
     "text": [
      "Episode:   1/1000, Reward:   +24.00, Epsilon: 0.99, Rolling Avg: 24.00, Steps:  24, Terminated: True \n",
      "Episode:   2/1000, Reward:   +11.00, Epsilon: 0.98, Rolling Avg: 17.50, Steps:  11, Terminated: True \n",
      "Episode:   3/1000, Reward:   +21.00, Epsilon: 0.97, Rolling Avg: 18.67, Steps:  21, Terminated: True \n",
      "Episode:   4/1000, Reward:   +12.00, Epsilon: 0.96, Rolling Avg: 17.00, Steps:  12, Terminated: True \n",
      "Episode:   5/1000, Reward:   +49.00, Epsilon: 0.95, Rolling Avg: 23.40, Steps:  49, Terminated: True \n",
      "Episode:   6/1000, Reward:   +36.00, Epsilon: 0.94, Rolling Avg: 25.50, Steps:  36, Terminated: True \n",
      "Episode:   7/1000, Reward:   +10.00, Epsilon: 0.93, Rolling Avg: 23.29, Steps:  10, Terminated: True \n",
      "Episode:   8/1000, Reward:   +11.00, Epsilon: 0.92, Rolling Avg: 21.75, Steps:  11, Terminated: True \n",
      "Episode:   9/1000, Reward:   +13.00, Epsilon: 0.91, Rolling Avg: 20.78, Steps:  13, Terminated: True \n",
      "Episode:  10/1000, Reward:   +29.00, Epsilon: 0.90, Rolling Avg: 21.60, Steps:  29, Terminated: True \n",
      "Episode:  11/1000, Reward:   +20.00, Epsilon: 0.90, Rolling Avg: 21.45, Steps:  20, Terminated: True \n",
      "Episode:  12/1000, Reward:   +28.00, Epsilon: 0.89, Rolling Avg: 22.00, Steps:  28, Terminated: True \n",
      "Episode:  13/1000, Reward:   +17.00, Epsilon: 0.88, Rolling Avg: 21.62, Steps:  17, Terminated: True \n",
      "Episode:  14/1000, Reward:   +13.00, Epsilon: 0.87, Rolling Avg: 21.00, Steps:  13, Terminated: True \n",
      "Episode:  15/1000, Reward:   +25.00, Epsilon: 0.86, Rolling Avg: 21.27, Steps:  25, Terminated: True \n",
      "Episode:  16/1000, Reward:   +23.00, Epsilon: 0.85, Rolling Avg: 21.38, Steps:  23, Terminated: True \n",
      "Episode:  17/1000, Reward:   +16.00, Epsilon: 0.84, Rolling Avg: 21.06, Steps:  16, Terminated: True \n",
      "Episode:  18/1000, Reward:   +14.00, Epsilon: 0.83, Rolling Avg: 20.67, Steps:  14, Terminated: True \n",
      "Episode:  19/1000, Reward:   +16.00, Epsilon: 0.83, Rolling Avg: 20.42, Steps:  16, Terminated: True \n",
      "Episode:  20/1000, Reward:   +16.00, Epsilon: 0.82, Rolling Avg: 20.20, Steps:  16, Terminated: True \n",
      "Episode:  21/1000, Reward:   +13.00, Epsilon: 0.81, Rolling Avg: 19.65, Steps:  13, Terminated: True \n",
      "Episode:  22/1000, Reward:   +12.00, Epsilon: 0.80, Rolling Avg: 19.70, Steps:  12, Terminated: True \n",
      "Episode:  23/1000, Reward:   +14.00, Epsilon: 0.79, Rolling Avg: 19.35, Steps:  14, Terminated: True \n",
      "Episode:  24/1000, Reward:   +21.00, Epsilon: 0.79, Rolling Avg: 19.80, Steps:  21, Terminated: True \n",
      "Episode:  25/1000, Reward:   +13.00, Epsilon: 0.78, Rolling Avg: 18.00, Steps:  13, Terminated: True \n",
      "Episode:  26/1000, Reward:   +12.00, Epsilon: 0.77, Rolling Avg: 16.80, Steps:  12, Terminated: True \n",
      "Episode:  27/1000, Reward:   +21.00, Epsilon: 0.76, Rolling Avg: 17.35, Steps:  21, Terminated: True \n",
      "Episode:  28/1000, Reward:   +15.00, Epsilon: 0.75, Rolling Avg: 17.55, Steps:  15, Terminated: True \n",
      "Episode:  29/1000, Reward:   +13.00, Epsilon: 0.75, Rolling Avg: 17.55, Steps:  13, Terminated: True \n",
      "Episode:  30/1000, Reward:   +14.00, Epsilon: 0.74, Rolling Avg: 16.80, Steps:  14, Terminated: True \n",
      "Episode:  31/1000, Reward:   +14.00, Epsilon: 0.73, Rolling Avg: 16.50, Steps:  14, Terminated: True \n",
      "Episode:  32/1000, Reward:   +12.00, Epsilon: 0.72, Rolling Avg: 15.70, Steps:  12, Terminated: True \n",
      "Episode:  33/1000, Reward:   +18.00, Epsilon: 0.72, Rolling Avg: 15.75, Steps:  18, Terminated: True \n",
      "Episode:  34/1000, Reward:   +11.00, Epsilon: 0.71, Rolling Avg: 15.65, Steps:  11, Terminated: True \n",
      "Episode:  35/1000, Reward:   +10.00, Epsilon: 0.70, Rolling Avg: 14.90, Steps:  10, Terminated: True \n",
      "Episode:  36/1000, Reward:   +14.00, Epsilon: 0.70, Rolling Avg: 14.45, Steps:  14, Terminated: True \n",
      "Episode:  37/1000, Reward:   +12.00, Epsilon: 0.69, Rolling Avg: 14.25, Steps:  12, Terminated: True \n",
      "Episode:  38/1000, Reward:   +22.00, Epsilon: 0.68, Rolling Avg: 14.65, Steps:  22, Terminated: True \n",
      "Episode:  39/1000, Reward:   +11.00, Epsilon: 0.68, Rolling Avg: 14.40, Steps:  11, Terminated: True \n",
      "Episode:  40/1000, Reward:    +9.00, Epsilon: 0.67, Rolling Avg: 14.05, Steps:   9, Terminated: True \n",
      "Episode:  41/1000, Reward:   +13.00, Epsilon: 0.66, Rolling Avg: 14.05, Steps:  13, Terminated: True \n",
      "Episode:  42/1000, Reward:   +19.00, Epsilon: 0.66, Rolling Avg: 14.40, Steps:  19, Terminated: True \n",
      "Episode:  43/1000, Reward:   +13.00, Epsilon: 0.65, Rolling Avg: 14.35, Steps:  13, Terminated: True \n",
      "Episode:  44/1000, Reward:    +9.00, Epsilon: 0.64, Rolling Avg: 13.75, Steps:   9, Terminated: True \n",
      "Episode:  45/1000, Reward:   +14.00, Epsilon: 0.64, Rolling Avg: 13.80, Steps:  14, Terminated: True \n",
      "Episode:  46/1000, Reward:   +12.00, Epsilon: 0.63, Rolling Avg: 13.80, Steps:  12, Terminated: True \n",
      "Episode:  47/1000, Reward:   +11.00, Epsilon: 0.62, Rolling Avg: 13.30, Steps:  11, Terminated: True \n",
      "Episode:  48/1000, Reward:   +11.00, Epsilon: 0.62, Rolling Avg: 13.10, Steps:  11, Terminated: True \n",
      "Episode:  49/1000, Reward:   +13.00, Epsilon: 0.61, Rolling Avg: 13.10, Steps:  13, Terminated: True \n",
      "Episode:  50/1000, Reward:   +18.00, Epsilon: 0.61, Rolling Avg: 13.30, Steps:  18, Terminated: True \n",
      "Episode:  51/1000, Reward:   +12.00, Epsilon: 0.60, Rolling Avg: 13.20, Steps:  12, Terminated: True \n",
      "Episode:  52/1000, Reward:   +12.00, Epsilon: 0.59, Rolling Avg: 13.20, Steps:  12, Terminated: True \n",
      "Episode:  53/1000, Reward:   +25.00, Epsilon: 0.59, Rolling Avg: 13.55, Steps:  25, Terminated: True \n",
      "Episode:  54/1000, Reward:   +10.00, Epsilon: 0.58, Rolling Avg: 13.50, Steps:  10, Terminated: True \n",
      "Episode:  55/1000, Reward:   +12.00, Epsilon: 0.58, Rolling Avg: 13.60, Steps:  12, Terminated: True \n",
      "Episode:  56/1000, Reward:   +15.00, Epsilon: 0.57, Rolling Avg: 13.65, Steps:  15, Terminated: True \n",
      "Episode:  57/1000, Reward:    +9.00, Epsilon: 0.56, Rolling Avg: 13.50, Steps:   9, Terminated: True \n",
      "Episode:  58/1000, Reward:   +11.00, Epsilon: 0.56, Rolling Avg: 12.95, Steps:  11, Terminated: True \n",
      "Episode:  59/1000, Reward:   +15.00, Epsilon: 0.55, Rolling Avg: 13.15, Steps:  15, Terminated: True \n",
      "Episode:  60/1000, Reward:   +17.00, Epsilon: 0.55, Rolling Avg: 13.55, Steps:  17, Terminated: True \n",
      "Episode:  61/1000, Reward:   +15.00, Epsilon: 0.54, Rolling Avg: 13.65, Steps:  15, Terminated: True \n",
      "Episode:  62/1000, Reward:   +15.00, Epsilon: 0.54, Rolling Avg: 13.45, Steps:  15, Terminated: True \n",
      "Episode:  63/1000, Reward:   +16.00, Epsilon: 0.53, Rolling Avg: 13.60, Steps:  16, Terminated: True \n",
      "Episode:  64/1000, Reward:   +10.00, Epsilon: 0.53, Rolling Avg: 13.65, Steps:  10, Terminated: True \n",
      "Episode:  65/1000, Reward:   +13.00, Epsilon: 0.52, Rolling Avg: 13.60, Steps:  13, Terminated: True \n",
      "Episode:  66/1000, Reward:   +20.00, Epsilon: 0.52, Rolling Avg: 14.00, Steps:  20, Terminated: True \n",
      "Episode:  67/1000, Reward:   +46.00, Epsilon: 0.51, Rolling Avg: 15.75, Steps:  46, Terminated: True \n",
      "Episode:  68/1000, Reward:   +64.00, Epsilon: 0.50, Rolling Avg: 18.40, Steps:  64, Terminated: True \n",
      "Episode:  69/1000, Reward:   +92.00, Epsilon: 0.50, Rolling Avg: 22.35, Steps:  92, Terminated: True \n",
      "Episode:  70/1000, Reward:   +83.00, Epsilon: 0.49, Rolling Avg: 25.60, Steps:  83, Terminated: True \n",
      "Episode:  71/1000, Reward:   +54.00, Epsilon: 0.49, Rolling Avg: 27.70, Steps:  54, Terminated: True \n",
      "Episode:  72/1000, Reward:   +51.00, Epsilon: 0.48, Rolling Avg: 29.65, Steps:  51, Terminated: True \n",
      "Episode:  73/1000, Reward:   +56.00, Epsilon: 0.48, Rolling Avg: 31.20, Steps:  56, Terminated: True \n",
      "Episode:  74/1000, Reward:   +14.00, Epsilon: 0.48, Rolling Avg: 31.40, Steps:  14, Terminated: True \n",
      "Episode:  75/1000, Reward:   +19.00, Epsilon: 0.47, Rolling Avg: 31.75, Steps:  19, Terminated: True \n",
      "Episode:  76/1000, Reward:  +106.00, Epsilon: 0.47, Rolling Avg: 36.30, Steps: 106, Terminated: True \n",
      "Episode:  77/1000, Reward:   +21.00, Epsilon: 0.46, Rolling Avg: 36.90, Steps:  21, Terminated: True \n",
      "Episode:  78/1000, Reward:   +51.00, Epsilon: 0.46, Rolling Avg: 38.90, Steps:  51, Terminated: True \n",
      "Episode:  79/1000, Reward:   +43.00, Epsilon: 0.45, Rolling Avg: 40.30, Steps:  43, Terminated: True \n",
      "Episode:  80/1000, Reward:   +91.00, Epsilon: 0.45, Rolling Avg: 44.00, Steps:  91, Terminated: True \n",
      "Episode:  81/1000, Reward:   +24.00, Epsilon: 0.44, Rolling Avg: 44.45, Steps:  24, Terminated: True \n"
     ]
    },
    {
     "name": "stdout",
     "output_type": "stream",
     "text": [
      "Episode:  82/1000, Reward:   +33.00, Epsilon: 0.44, Rolling Avg: 45.35, Steps:  33, Terminated: True \n",
      "Episode:  83/1000, Reward:   +33.00, Epsilon: 0.43, Rolling Avg: 46.20, Steps:  33, Terminated: True \n",
      "Episode:  84/1000, Reward:   +30.00, Epsilon: 0.43, Rolling Avg: 47.20, Steps:  30, Terminated: True \n",
      "Episode:  85/1000, Reward:   +57.00, Epsilon: 0.43, Rolling Avg: 49.40, Steps:  57, Terminated: True \n",
      "Episode:  86/1000, Reward:   +70.00, Epsilon: 0.42, Rolling Avg: 51.90, Steps:  70, Terminated: True \n",
      "Episode:  87/1000, Reward:   +48.00, Epsilon: 0.42, Rolling Avg: 52.00, Steps:  48, Terminated: True \n",
      "Episode:  88/1000, Reward:   +76.00, Epsilon: 0.41, Rolling Avg: 52.60, Steps:  76, Terminated: True \n",
      "Episode:  89/1000, Reward:   +77.00, Epsilon: 0.41, Rolling Avg: 51.85, Steps:  77, Terminated: True \n",
      "Episode:  90/1000, Reward:   +40.00, Epsilon: 0.40, Rolling Avg: 49.70, Steps:  40, Terminated: True \n",
      "Episode:  91/1000, Reward:   +55.00, Epsilon: 0.40, Rolling Avg: 49.75, Steps:  55, Terminated: True \n",
      "Episode:  92/1000, Reward:   +73.00, Epsilon: 0.40, Rolling Avg: 50.85, Steps:  73, Terminated: True \n",
      "Episode:  93/1000, Reward:  +109.00, Epsilon: 0.39, Rolling Avg: 53.50, Steps: 109, Terminated: True \n",
      "Episode:  94/1000, Reward:   +53.00, Epsilon: 0.39, Rolling Avg: 55.45, Steps:  53, Terminated: True \n",
      "Episode:  95/1000, Reward:   +61.00, Epsilon: 0.38, Rolling Avg: 57.55, Steps:  61, Terminated: True \n",
      "Episode:  96/1000, Reward:   +65.00, Epsilon: 0.38, Rolling Avg: 55.50, Steps:  65, Terminated: True \n",
      "Episode:  97/1000, Reward:   +87.00, Epsilon: 0.38, Rolling Avg: 58.80, Steps:  87, Terminated: True \n",
      "Episode:  98/1000, Reward:  +152.00, Epsilon: 0.37, Rolling Avg: 63.85, Steps: 152, Terminated: True \n",
      "Episode:  99/1000, Reward:   +75.00, Epsilon: 0.37, Rolling Avg: 65.45, Steps:  75, Terminated: True \n",
      "Episode: 100/1000, Reward:   +79.00, Epsilon: 0.37, Rolling Avg: 64.85, Steps:  79, Terminated: True \n",
      "Episode: 101/1000, Reward:   +84.00, Epsilon: 0.36, Rolling Avg: 67.85, Steps:  84, Terminated: True \n",
      "Episode: 102/1000, Reward:   +41.00, Epsilon: 0.36, Rolling Avg: 68.25, Steps:  41, Terminated: True \n",
      "Episode: 103/1000, Reward:   +90.00, Epsilon: 0.36, Rolling Avg: 71.10, Steps:  90, Terminated: True \n",
      "Episode: 104/1000, Reward:   +91.00, Epsilon: 0.35, Rolling Avg: 74.15, Steps:  91, Terminated: True \n",
      "Episode: 105/1000, Reward:  +109.00, Epsilon: 0.35, Rolling Avg: 76.75, Steps: 109, Terminated: True \n",
      "Episode: 106/1000, Reward:  +133.00, Epsilon: 0.34, Rolling Avg: 79.90, Steps: 133, Terminated: True \n",
      "Episode: 107/1000, Reward:  +113.00, Epsilon: 0.34, Rolling Avg: 83.15, Steps: 113, Terminated: True \n",
      "Episode: 108/1000, Reward:  +125.00, Epsilon: 0.34, Rolling Avg: 85.60, Steps: 125, Terminated: True \n",
      "Episode: 109/1000, Reward:  +237.00, Epsilon: 0.33, Rolling Avg: 93.60, Steps: 237, Terminated: True \n",
      "Episode: 110/1000, Reward:  +191.00, Epsilon: 0.33, Rolling Avg: 101.15, Steps: 191, Terminated: True \n",
      "Episode: 111/1000, Reward:  +186.00, Epsilon: 0.33, Rolling Avg: 107.70, Steps: 186, Terminated: True \n",
      "Episode: 112/1000, Reward:  +300.00, Epsilon: 0.32, Rolling Avg: 119.05, Steps: 300, Terminated: False \n",
      "Episode: 113/1000, Reward:  +300.00, Epsilon: 0.32, Rolling Avg: 128.60, Steps: 300, Terminated: False \n",
      "Episode: 114/1000, Reward:  +300.00, Epsilon: 0.32, Rolling Avg: 140.95, Steps: 300, Terminated: False \n",
      "Episode: 115/1000, Reward:  +300.00, Epsilon: 0.31, Rolling Avg: 152.90, Steps: 300, Terminated: False \n",
      "Episode: 116/1000, Reward:   +44.00, Epsilon: 0.31, Rolling Avg: 151.85, Steps:  44, Terminated: True \n",
      "Episode: 117/1000, Reward:  +268.00, Epsilon: 0.31, Rolling Avg: 160.90, Steps: 268, Terminated: True \n",
      "Episode: 118/1000, Reward:  +278.00, Epsilon: 0.31, Rolling Avg: 167.20, Steps: 278, Terminated: True \n",
      "Episode: 119/1000, Reward:  +300.00, Epsilon: 0.30, Rolling Avg: 178.45, Steps: 300, Terminated: False \n",
      "Episode: 120/1000, Reward:  +228.00, Epsilon: 0.30, Rolling Avg: 185.90, Steps: 228, Terminated: True \n",
      "Episode: 121/1000, Reward:  +300.00, Epsilon: 0.30, Rolling Avg: 196.70, Steps: 300, Terminated: False \n",
      "Environment solved in 121 episodes!\n",
      "Training completed in 42.85 minutes\n"
     ]
    }
   ],
   "source": [
    "# Training loop\n",
    "epsilon = epsilon_start\n",
    "episode_rewards = []\n",
    "rolling_avg_rewards = []\n",
    "\n",
    "start_time = time.time()\n",
    "\n",
    "for episode in range(num_episodes):\n",
    "    state, _ = env.reset()\n",
    "    state = np.reshape(state, [1, state_size])\n",
    "    total_reward = 0\n",
    "    done = False\n",
    "    terminated = False\n",
    "    truncated = False\n",
    "    step = 0\n",
    "    for e in range(episodes):                       # Should be While True, however we limit number of eps\n",
    "        step = step + 1\n",
    "        # Epsilon-greedy policy\n",
    "        if np.random.rand() <= epsilon:\n",
    "            action = np.random.randint(action_size)  # Explore\n",
    "        else:\n",
    "            action_vals = model.predict(state, verbose=0)\n",
    "            action = np.argmax(action_vals[0])  # Exploit\n",
    "\n",
    "        # Perform action\n",
    "        next_state, reward, terminated, truncated, _ = env.step(action)\n",
    "        done = terminated \n",
    "        next_state = np.reshape(next_state, [1, state_size])\n",
    "        total_reward += reward\n",
    "\n",
    "        # Store experience\n",
    "        store_experience(state, action, reward, next_state, done)\n",
    "\n",
    "        # Update state\n",
    "        state = next_state\n",
    "\n",
    "        # Train using experience replay\n",
    "        experience_replay_with_ddqn(model, target_model, batch_size, gamma, tau, step)\n",
    "\n",
    "        if done:\n",
    "            break\n",
    "\n",
    "    # Decay epsilon\n",
    "    epsilon = max(epsilon_min, epsilon * epsilon_decay)\n",
    "\n",
    "    # Record reward\n",
    "    episode_rewards.append(total_reward)\n",
    "    rolling_avg = np.mean(episode_rewards[-ROLLING_WINDOW:])\n",
    "    rolling_avg_rewards.append(rolling_avg)\n",
    "\n",
    "    # Print progress\n",
    "    print(f\"Episode: {episode+1:3}/{num_episodes}, Reward: {total_reward:+8.2f}, \"\n",
    "          f\"Epsilon: {epsilon:.2f}, Rolling Avg: {rolling_avg:5.2f}, Steps: {step:3}, Terminated: {done} \")\n",
    "\n",
    "    # Check if environment is solved\n",
    "    if rolling_avg >= solved_threshold:\n",
    "        print(f\"Environment solved in {episode+1} episodes!\")\n",
    "        model.save(\"lunarlander_ddqn_model1.keras\")\n",
    "        break\n",
    "\n",
    "end_time = time.time()\n",
    "print(f\"Training completed in {(end_time - start_time)/60:.2f} minutes\")\n"
   ]
  },
  {
   "cell_type": "markdown",
   "id": "525316ad",
   "metadata": {},
   "source": [
    "#### **Result Visualization**"
   ]
  },
  {
   "cell_type": "code",
   "execution_count": 11,
   "id": "16988f92",
   "metadata": {},
   "outputs": [
    {
     "data": {
      "image/png": "[encoded data removed]",
      "text/plain": [
       "<Figure size 1000x600 with 1 Axes>"
      ]
     },
     "metadata": {},
     "output_type": "display_data"
    }
   ],
   "source": [
    "# Plot rewards with rolling average\n",
    "plt.figure(figsize=(10, 6))\n",
    "plt.plot(episode_rewards, label='Rewards', color='blue')\n",
    "plt.plot(rolling_avg_rewards, label='Rolling Avg (Last '+str(ROLLING_WINDOW)+' Episodes)', color='orange')\n",
    "plt.axhline(y=solved_threshold, color='red', linestyle='--', label='Solved Threshold')\n",
    "plt.title('DDQN Training Performance')\n",
    "plt.xlabel('Episodes')\n",
    "plt.ylabel('Rewards')\n",
    "plt.legend()\n",
    "plt.grid()\n",
    "plt.show()"
   ]
  },
  {
   "cell_type": "markdown",
   "id": "7f4c1d80",
   "metadata": {},
   "source": [
    "#### **Testing 10 episodes with the DDQN trained networks**"
   ]
  },
  {
   "cell_type": "code",
   "execution_count": 12,
   "id": "bdc1b93a",
   "metadata": {},
   "outputs": [
    {
     "name": "stdout",
     "output_type": "stream",
     "text": [
      "Test Episode: 1/10, Reward: 424.00, Steps: 424\n",
      "Test Episode: 2/10, Reward: 481.00, Steps: 481\n",
      "Test Episode: 3/10, Reward: 476.00, Steps: 476\n",
      "Test Episode: 4/10, Reward: 241.00, Steps: 241\n",
      "Test Episode: 5/10, Reward: 500.00, Steps: 500\n",
      "Test Episode: 6/10, Reward: 382.00, Steps: 382\n",
      "Test Episode: 7/10, Reward: 241.00, Steps: 241\n",
      "Test Episode: 8/10, Reward: 500.00, Steps: 500\n",
      "Test Episode: 9/10, Reward: 245.00, Steps: 245\n",
      "Test Episode: 10/10, Reward: 240.00, Steps: 240\n",
      "Testing completed in 4.46 minutes\n"
     ]
    }
   ],
   "source": [
    "# Testing for 10 episodes\n",
    "start_time = time.time()\n",
    "max_steps = 500\n",
    "\n",
    "for e_test in range(10):  # Run 10 test episodes\n",
    "    state, _ = env.reset()\n",
    "    state = np.reshape(state, [1, state_size])\n",
    "    total_reward = 0\n",
    "    \n",
    "    steps = 0\n",
    "    for s in range(max_steps):                            # we limit because sometimes it goes ad-aeternum\n",
    "        # Use the trained model for testing\n",
    "        action_vals = model.predict(state, verbose=0)  # Predict action values\n",
    "        action = np.argmax(action_vals[0])  # Choose the action with the highest Q-value\n",
    "\n",
    "        next_state, reward, done, _, _ = env.step(action)\n",
    "        next_state = np.reshape(next_state, [1, state_size])\n",
    "        total_reward += reward\n",
    "        state = next_state\n",
    "        steps = steps + 1\n",
    "\n",
    "        if done or (steps == max_steps):\n",
    "            print(f\"Test Episode: {e_test + 1}/10, Reward: {total_reward:.2f}, Steps: {steps:3}\")\n",
    "            break\n",
    "\n",
    "end_time = time.time()\n",
    "testing_duration = (end_time - start_time) / 60  # Convert to minutes\n",
    "print(f\"Testing completed in {testing_duration:.2f} minutes\")"
   ]
  },
  {
   "cell_type": "code",
   "execution_count": 13,
   "id": "ebec1907",
   "metadata": {},
   "outputs": [
    {
     "name": "stdout",
     "output_type": "stream",
     "text": [
      "Rendered Test Episode Reward: 421.00\n",
      "Saved GIF to: ./CARTPOLE_DDQN.gif\n"
     ]
    }
   ],
   "source": [
    "# Test the trained agent with video rendering\n",
    "# This code is useful if you are using colab otherwise use render_mode='human'\n",
    "env = gym.make((\"CartPole-v1\"), render_mode='rgb_array')  # Enable RGB rendering\n",
    "frames = []  # Store frames for visualization\n",
    "\n",
    "# Render a single test episode\n",
    "state, _ = env.reset()\n",
    "state = np.reshape(state, [1, state_size])\n",
    "tot_rewards = 0\n",
    "\n",
    "while True:\n",
    "    # Use the trained model for action\n",
    "    action_vals = model.predict(state, verbose=0)  # Predict action values\n",
    "    action = np.argmax(action_vals[0])           # Choose the action with the highest Q-value\n",
    "\n",
    "    next_state, reward, done, truncated, _ = env.step(action)\n",
    "    frames.append(env.render())                  # Save frame for rendering later\n",
    "    next_state = np.reshape(next_state, [1, state_size])\n",
    "    tot_rewards += reward\n",
    "    state = next_state\n",
    "\n",
    "    if done or truncated:\n",
    "        print(f\"Rendered Test Episode Reward: {tot_rewards:.2f}\")\n",
    "        break\n",
    "\n",
    "env.close()\n",
    "\n",
    "# Save the rendered episode as a GIF\n",
    "def save_frames_as_gif(frames, path='./', filename='CARTPOLE_DDQN.gif'):\n",
    "    images = [Image.fromarray(frame) for frame in frames]\n",
    "    gif_path = os.path.join(path, filename)\n",
    "    images[0].save(gif_path, save_all=True, append_images=images[1:], duration=50, loop=0)\n",
    "    print(f\"Saved GIF to: {gif_path}\")\n",
    "\n",
    "save_frames_as_gif(frames, filename='CARTPOLE_DDQN.gif')\n"
   ]
  },
  {
   "cell_type": "code",
   "execution_count": 15,
   "id": "89c49420",
   "metadata": {},
   "outputs": [
    {
     "name": "stdout",
     "output_type": "stream",
     "text": [
      "-----\n",
      "PIL                 11.0.0\n",
      "gymnasium           1.0.0\n",
      "keras               3.6.0\n",
      "matplotlib          3.9.2\n",
      "numpy               1.26.4\n",
      "session_info        1.0.0\n",
      "tensorflow          2.17.1\n",
      "-----\n",
      "IPython             8.28.0\n",
      "jupyter_client      8.6.3\n",
      "jupyter_core        5.7.2\n",
      "-----\n",
      "Python 3.12.3 (main, Jan 17 2025, 18:03:48) [GCC 13.3.0]\n",
      "Linux-5.15.167.4-microsoft-standard-WSL2-x86_64-with-glibc2.39\n",
      "-----\n",
      "Session information updated at 2025-02-09 15:29\n"
     ]
    }
   ],
   "source": [
    "import session_info\n",
    "session_info.show(html=False)"
   ]
  }
 ],
 "metadata": {
  "kernelspec": {
   "display_name": "DL-Keras",
   "language": "python",
   "name": "dl-keras"
  },
  "language_info": {
   "codemirror_mode": {
    "name": "ipython",
    "version": 3
   },
   "file_extension": ".py",
   "mimetype": "text/x-python",
   "name": "python",
   "nbconvert_exporter": "python",
   "pygments_lexer": "ipython3",
   "version": "3.12.3"
  }
 },
 "nbformat": 4,
 "nbformat_minor": 5
}
