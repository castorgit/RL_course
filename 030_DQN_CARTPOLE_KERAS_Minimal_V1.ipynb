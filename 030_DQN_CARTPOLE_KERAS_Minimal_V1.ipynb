{
 "cells": [
  {
   "cell_type": "markdown",
   "id": "ccb89376",
   "metadata": {},
   "source": [
    "#### **CARTPOLE DQN KERAS (Minimal) V1**\n",
    "\n",
    "This is a naive version of the CARTPOLE DQN algorithm <br>\n",
    "This program works it has been serialized, but it is plain, no sophistications <br>\n"
   ]
  },
  {
   "cell_type": "code",
   "execution_count": 1,
   "id": "557b1b33",
   "metadata": {},
   "outputs": [
    {
     "name": "stdout",
     "output_type": "stream",
     "text": [
      "Num GPUs Available:  1\n"
     ]
    },
    {
     "name": "stderr",
     "output_type": "stream",
     "text": [
      "WARNING: All log messages before absl::InitializeLog() is called are written to STDERR\n",
      "I0000 00:00:1734944202.179732 4050743 cuda_executor.cc:1001] could not open file to read NUMA node: /sys/bus/pci/devices/0000:01:00.0/numa_node\n",
      "Your kernel may have been built without NUMA support.\n",
      "I0000 00:00:1734944202.208154 4050743 cuda_executor.cc:1001] could not open file to read NUMA node: /sys/bus/pci/devices/0000:01:00.0/numa_node\n",
      "Your kernel may have been built without NUMA support.\n",
      "I0000 00:00:1734944202.208189 4050743 cuda_executor.cc:1001] could not open file to read NUMA node: /sys/bus/pci/devices/0000:01:00.0/numa_node\n",
      "Your kernel may have been built without NUMA support.\n"
     ]
    }
   ],
   "source": [
    "import os\n",
    "os.environ['TF_CPP_MIN_LOG_LEVEL'] = '3' \n",
    "\n",
    "import random\n",
    "import gymnasium as gym\n",
    "import time\n",
    "import numpy as np\n",
    "from collections import deque\n",
    "from keras.models import Sequential, Model\n",
    "from keras.layers import Dense, Input\n",
    "from keras.optimizers import Adam\n",
    "import matplotlib.pyplot as plt\n",
    "from PIL import Image\n",
    "\n",
    "import tensorflow as tf\n",
    "print(\"Num GPUs Available: \", len(tf.config.list_physical_devices('GPU')))\n",
    "\n",
    "# Use mixed-precision training for faster computations on supported GPUs\n",
    "from tensorflow.keras.mixed_precision import set_global_policy\n",
    "set_global_policy('mixed_float16')\n",
    "\n",
    "# Enable XLA (Accelerated Linear Algebra) optimization\n",
    "tf.config.optimizer.set_jit(True)"
   ]
  },
  {
   "cell_type": "markdown",
   "id": "ae2be125",
   "metadata": {},
   "source": [
    "#### **Hyperparameters**"
   ]
  },
  {
   "cell_type": "code",
   "execution_count": 2,
   "id": "78010280",
   "metadata": {},
   "outputs": [],
   "source": [
    "\n",
    "EPISODES = 300\n",
    "\n",
    "replay_buffer = deque(maxlen=2000)\n",
    "gamma = 0.95                         # discount rate\n",
    "epsilon = 1.0                        # exploration rate\n",
    "epsilon_min = 0.01\n",
    "epsilon_decay = 0.995\n",
    "learning_rate = 0.001\n",
    "batch_size = 64\n",
    "solved_threshold = 195\n",
    "\n",
    "verb = 0                             # to see traces (verbosity)"
   ]
  },
  {
   "cell_type": "code",
   "execution_count": 3,
   "id": "d058e6b0",
   "metadata": {},
   "outputs": [],
   "source": [
    "# Environment setup\n",
    "env = gym.make(\"CartPole-v1\")\n",
    "state_size = env.observation_space.shape[0]\n",
    "action_size = env.action_space.n"
   ]
  },
  {
   "cell_type": "markdown",
   "id": "7fa84c05",
   "metadata": {},
   "source": [
    "#### **Neural Network**"
   ]
  },
  {
   "cell_type": "code",
   "execution_count": 4,
   "id": "5799f12c",
   "metadata": {},
   "outputs": [],
   "source": [
    "def build_model(state_size, action_size):\n",
    "    inputs = Input(shape=(state_size,), name=\"state_input\")\n",
    "    x = Dense(24, activation='relu', name=\"dense_1\")(inputs)\n",
    "    x = Dense(24, activation='relu', name=\"dense_2\")(x)\n",
    "    outputs = Dense(action_size, activation='linear', name=\"output_layer\")(x)\n",
    "    \n",
    "    model = Model(inputs=inputs, outputs=outputs, name=\"Q_Network\")\n",
    "#    model.compile(optimizer=Adam(learning_rate=learning_rate, clipnorm=1.0), loss='mse') # to improve train stability\n",
    "    model.compile(loss='mse', optimizer=Adam(learning_rate=learning_rate))\n",
    "    model.summary()\n",
    "    return model"
   ]
  },
  {
   "cell_type": "markdown",
   "id": "b7fca383",
   "metadata": {},
   "source": [
    "#### **Support Functions**"
   ]
  },
  {
   "cell_type": "code",
   "execution_count": 5,
   "id": "10c07fd6",
   "metadata": {
    "scrolled": false
   },
   "outputs": [],
   "source": [
    "\n",
    "def store(state, action, reward, next_state, done):             # memorize\n",
    "    replay_buffer.append((state, action, reward, next_state, done))\n",
    "\n",
    "def select_action_greedy(state, DQN):                                      # act\n",
    "    if np.random.rand() <= epsilon:\n",
    "        return random.randrange(action_size)\n",
    "    act_values = DQN.predict(state, verbose=verb)\n",
    "    return np.argmax(act_values[0])  # returns action selected with greedy strategy\n",
    "\n",
    "# Sample experiences from the replay buffer\n",
    "def sample_experiences(batch_size):\n",
    "    indices = np.random.choice(len(replay_buffer), batch_size, replace=False)\n",
    "    batch = [replay_buffer[i] for i in indices]\n",
    "    states, actions, rewards, next_states, dones = zip(*batch)\n",
    "    return (\n",
    "        np.vstack(states),\n",
    "        np.array(actions),\n",
    "        np.array(rewards),\n",
    "        np.vstack(next_states),\n",
    "        np.array(dones, dtype=np.float32)\n",
    "    )\n",
    "\n",
    "    \n",
    "def experience_replay(batch_size, model, epsilon):\n",
    "    if len(replay_buffer) < batch_size:\n",
    "        return\n",
    "    minibatch = random.sample(replay_buffer, batch_size)\n",
    "    states, actions, rewards, next_states, dones = sample_experiences(batch_size)\n",
    "\n",
    "    # Predict Q-values for current and next states using vectorized operations\n",
    "    target_qs = model.predict(states, verbose=verb)\n",
    "    next_qs   = model.predict(next_states, verbose=verb)\n",
    "\n",
    "    # Update target Q-values using standard DQN logic    >>>> This could be serialized\n",
    "    for i in range(batch_size):\n",
    "        if dones[i]:\n",
    "            target_qs[i, actions[i]] = rewards[i]\n",
    "        else:\n",
    "            target_qs[i, actions[i]] = rewards[i] + gamma * np.max(next_qs[i])\n",
    "\n",
    "    # Train the model on the Q-values\n",
    "    model.fit(states, target_qs, epochs=1, verbose=0)\n",
    "    if epsilon > epsilon_min:\n",
    "            epsilon *= epsilon_decay\n",
    "    return epsilon\n",
    "\n",
    "def load(name, DQN):\n",
    "    DQN.load_weights(name)\n",
    "\n",
    "def save(name, DQN):\n",
    "    DQN.save_weights(name)"
   ]
  },
  {
   "cell_type": "code",
   "execution_count": 6,
   "id": "0cb99f42",
   "metadata": {
    "scrolled": false
   },
   "outputs": [
    {
     "name": "stderr",
     "output_type": "stream",
     "text": [
      "I0000 00:00:1734944202.248252 4050743 cuda_executor.cc:1001] could not open file to read NUMA node: /sys/bus/pci/devices/0000:01:00.0/numa_node\n",
      "Your kernel may have been built without NUMA support.\n",
      "I0000 00:00:1734944202.248318 4050743 cuda_executor.cc:1001] could not open file to read NUMA node: /sys/bus/pci/devices/0000:01:00.0/numa_node\n",
      "Your kernel may have been built without NUMA support.\n",
      "I0000 00:00:1734944202.248331 4050743 cuda_executor.cc:1001] could not open file to read NUMA node: /sys/bus/pci/devices/0000:01:00.0/numa_node\n",
      "Your kernel may have been built without NUMA support.\n",
      "I0000 00:00:1734944203.129983 4050743 cuda_executor.cc:1001] could not open file to read NUMA node: /sys/bus/pci/devices/0000:01:00.0/numa_node\n",
      "Your kernel may have been built without NUMA support.\n",
      "I0000 00:00:1734944203.130328 4050743 cuda_executor.cc:1001] could not open file to read NUMA node: /sys/bus/pci/devices/0000:01:00.0/numa_node\n",
      "Your kernel may have been built without NUMA support.\n",
      "I0000 00:00:1734944203.130403 4050743 cuda_executor.cc:1001] could not open file to read NUMA node: /sys/bus/pci/devices/0000:01:00.0/numa_node\n",
      "Your kernel may have been built without NUMA support.\n"
     ]
    },
    {
     "data": {
      "text/html": [
       "<pre style=\"white-space:pre;overflow-x:auto;line-height:normal;font-family:Menlo,'DejaVu Sans Mono',consolas,'Courier New',monospace\"><span style=\"font-weight: bold\">Model: \"Q_Network\"</span>\n",
       "</pre>\n"
      ],
      "text/plain": [
       "\u001b[1mModel: \"Q_Network\"\u001b[0m\n"
      ]
     },
     "metadata": {},
     "output_type": "display_data"
    },
    {
     "data": {
      "text/html": [
       "<pre style=\"white-space:pre;overflow-x:auto;line-height:normal;font-family:Menlo,'DejaVu Sans Mono',consolas,'Courier New',monospace\">┏━━━━━━━━━━━━━━━━━━━━━━━━━━━━━━━━━┳━━━━━━━━━━━━━━━━━━━━━━━━┳━━━━━━━━━━━━━━━┓\n",
       "┃<span style=\"font-weight: bold\"> Layer (type)                    </span>┃<span style=\"font-weight: bold\"> Output Shape           </span>┃<span style=\"font-weight: bold\">       Param # </span>┃\n",
       "┡━━━━━━━━━━━━━━━━━━━━━━━━━━━━━━━━━╇━━━━━━━━━━━━━━━━━━━━━━━━╇━━━━━━━━━━━━━━━┩\n",
       "│ state_input (<span style=\"color: #0087ff; text-decoration-color: #0087ff\">InputLayer</span>)        │ (<span style=\"color: #00d7ff; text-decoration-color: #00d7ff\">None</span>, <span style=\"color: #00af00; text-decoration-color: #00af00\">4</span>)              │             <span style=\"color: #00af00; text-decoration-color: #00af00\">0</span> │\n",
       "├─────────────────────────────────┼────────────────────────┼───────────────┤\n",
       "│ cast (<span style=\"color: #0087ff; text-decoration-color: #0087ff\">Cast</span>)                     │ (<span style=\"color: #00d7ff; text-decoration-color: #00d7ff\">None</span>, <span style=\"color: #00af00; text-decoration-color: #00af00\">4</span>)              │             <span style=\"color: #00af00; text-decoration-color: #00af00\">0</span> │\n",
       "├─────────────────────────────────┼────────────────────────┼───────────────┤\n",
       "│ dense_1 (<span style=\"color: #0087ff; text-decoration-color: #0087ff\">Dense</span>)                 │ (<span style=\"color: #00d7ff; text-decoration-color: #00d7ff\">None</span>, <span style=\"color: #00af00; text-decoration-color: #00af00\">24</span>)             │           <span style=\"color: #00af00; text-decoration-color: #00af00\">120</span> │\n",
       "├─────────────────────────────────┼────────────────────────┼───────────────┤\n",
       "│ dense_2 (<span style=\"color: #0087ff; text-decoration-color: #0087ff\">Dense</span>)                 │ (<span style=\"color: #00d7ff; text-decoration-color: #00d7ff\">None</span>, <span style=\"color: #00af00; text-decoration-color: #00af00\">24</span>)             │           <span style=\"color: #00af00; text-decoration-color: #00af00\">600</span> │\n",
       "├─────────────────────────────────┼────────────────────────┼───────────────┤\n",
       "│ output_layer (<span style=\"color: #0087ff; text-decoration-color: #0087ff\">Dense</span>)            │ (<span style=\"color: #00d7ff; text-decoration-color: #00d7ff\">None</span>, <span style=\"color: #00af00; text-decoration-color: #00af00\">2</span>)              │            <span style=\"color: #00af00; text-decoration-color: #00af00\">50</span> │\n",
       "└─────────────────────────────────┴────────────────────────┴───────────────┘\n",
       "</pre>\n"
      ],
      "text/plain": [
       "┏━━━━━━━━━━━━━━━━━━━━━━━━━━━━━━━━━┳━━━━━━━━━━━━━━━━━━━━━━━━┳━━━━━━━━━━━━━━━┓\n",
       "┃\u001b[1m \u001b[0m\u001b[1mLayer (type)                   \u001b[0m\u001b[1m \u001b[0m┃\u001b[1m \u001b[0m\u001b[1mOutput Shape          \u001b[0m\u001b[1m \u001b[0m┃\u001b[1m \u001b[0m\u001b[1m      Param #\u001b[0m\u001b[1m \u001b[0m┃\n",
       "┡━━━━━━━━━━━━━━━━━━━━━━━━━━━━━━━━━╇━━━━━━━━━━━━━━━━━━━━━━━━╇━━━━━━━━━━━━━━━┩\n",
       "│ state_input (\u001b[38;5;33mInputLayer\u001b[0m)        │ (\u001b[38;5;45mNone\u001b[0m, \u001b[38;5;34m4\u001b[0m)              │             \u001b[38;5;34m0\u001b[0m │\n",
       "├─────────────────────────────────┼────────────────────────┼───────────────┤\n",
       "│ cast (\u001b[38;5;33mCast\u001b[0m)                     │ (\u001b[38;5;45mNone\u001b[0m, \u001b[38;5;34m4\u001b[0m)              │             \u001b[38;5;34m0\u001b[0m │\n",
       "├─────────────────────────────────┼────────────────────────┼───────────────┤\n",
       "│ dense_1 (\u001b[38;5;33mDense\u001b[0m)                 │ (\u001b[38;5;45mNone\u001b[0m, \u001b[38;5;34m24\u001b[0m)             │           \u001b[38;5;34m120\u001b[0m │\n",
       "├─────────────────────────────────┼────────────────────────┼───────────────┤\n",
       "│ dense_2 (\u001b[38;5;33mDense\u001b[0m)                 │ (\u001b[38;5;45mNone\u001b[0m, \u001b[38;5;34m24\u001b[0m)             │           \u001b[38;5;34m600\u001b[0m │\n",
       "├─────────────────────────────────┼────────────────────────┼───────────────┤\n",
       "│ output_layer (\u001b[38;5;33mDense\u001b[0m)            │ (\u001b[38;5;45mNone\u001b[0m, \u001b[38;5;34m2\u001b[0m)              │            \u001b[38;5;34m50\u001b[0m │\n",
       "└─────────────────────────────────┴────────────────────────┴───────────────┘\n"
      ]
     },
     "metadata": {},
     "output_type": "display_data"
    },
    {
     "data": {
      "text/html": [
       "<pre style=\"white-space:pre;overflow-x:auto;line-height:normal;font-family:Menlo,'DejaVu Sans Mono',consolas,'Courier New',monospace\"><span style=\"font-weight: bold\"> Total params: </span><span style=\"color: #00af00; text-decoration-color: #00af00\">770</span> (3.01 KB)\n",
       "</pre>\n"
      ],
      "text/plain": [
       "\u001b[1m Total params: \u001b[0m\u001b[38;5;34m770\u001b[0m (3.01 KB)\n"
      ]
     },
     "metadata": {},
     "output_type": "display_data"
    },
    {
     "data": {
      "text/html": [
       "<pre style=\"white-space:pre;overflow-x:auto;line-height:normal;font-family:Menlo,'DejaVu Sans Mono',consolas,'Courier New',monospace\"><span style=\"font-weight: bold\"> Trainable params: </span><span style=\"color: #00af00; text-decoration-color: #00af00\">770</span> (3.01 KB)\n",
       "</pre>\n"
      ],
      "text/plain": [
       "\u001b[1m Trainable params: \u001b[0m\u001b[38;5;34m770\u001b[0m (3.01 KB)\n"
      ]
     },
     "metadata": {},
     "output_type": "display_data"
    },
    {
     "data": {
      "text/html": [
       "<pre style=\"white-space:pre;overflow-x:auto;line-height:normal;font-family:Menlo,'DejaVu Sans Mono',consolas,'Courier New',monospace\"><span style=\"font-weight: bold\"> Non-trainable params: </span><span style=\"color: #00af00; text-decoration-color: #00af00\">0</span> (0.00 B)\n",
       "</pre>\n"
      ],
      "text/plain": [
       "\u001b[1m Non-trainable params: \u001b[0m\u001b[38;5;34m0\u001b[0m (0.00 B)\n"
      ]
     },
     "metadata": {},
     "output_type": "display_data"
    },
    {
     "name": "stdout",
     "output_type": "stream",
     "text": [
      "Episode:   1/300, Reward:   +8.00, Epsilon: 1.00, Rolling Avg:  8.00, Steps:  18, Terminated: True \n",
      "Episode:   2/300, Reward:   +5.00, Epsilon: 1.00, Rolling Avg:  6.50, Steps:  15, Terminated: True \n",
      "Episode:   3/300, Reward:   +4.00, Epsilon: 1.00, Rolling Avg:  5.67, Steps:  14, Terminated: True \n"
     ]
    },
    {
     "name": "stderr",
     "output_type": "stream",
     "text": [
      "WARNING: All log messages before absl::InitializeLog() is called are written to STDERR\n",
      "I0000 00:00:1734944203.793462 4050841 service.cc:146] XLA service 0x7f8aa8003b80 initialized for platform CUDA (this does not guarantee that XLA will be used). Devices:\n",
      "I0000 00:00:1734944203.793489 4050841 service.cc:154]   StreamExecutor device (0): NVIDIA T600 Laptop GPU, Compute Capability 7.5\n",
      "I0000 00:00:1734944205.196631 4050841 device_compiler.h:188] Compiled cluster using XLA!  This line is logged at most once for the lifetime of the process.\n"
     ]
    },
    {
     "name": "stdout",
     "output_type": "stream",
     "text": [
      "Episode:   4/300, Reward:  +13.00, Epsilon: 0.96, Rolling Avg:  7.50, Steps:  23, Terminated: True \n",
      "Episode:   5/300, Reward:  +13.00, Epsilon: 0.85, Rolling Avg:  8.60, Steps:  23, Terminated: True \n",
      "Episode:   6/300, Reward:   -2.00, Epsilon: 0.82, Rolling Avg:  6.83, Steps:   8, Terminated: True \n",
      "Episode:   7/300, Reward:   +8.00, Epsilon: 0.75, Rolling Avg:  7.00, Steps:  18, Terminated: True \n",
      "Episode:   8/300, Reward:   +2.00, Epsilon: 0.70, Rolling Avg:  6.38, Steps:  12, Terminated: True \n",
      "Episode:   9/300, Reward:   +8.00, Epsilon: 0.64, Rolling Avg:  6.56, Steps:  18, Terminated: True \n",
      "Episode:  10/300, Reward:  +11.00, Epsilon: 0.58, Rolling Avg:  7.00, Steps:  21, Terminated: True \n",
      "Episode:  11/300, Reward:   -2.00, Epsilon: 0.56, Rolling Avg:  6.18, Steps:   8, Terminated: True \n",
      "Episode:  12/300, Reward:   +3.00, Epsilon: 0.52, Rolling Avg:  5.92, Steps:  13, Terminated: True \n",
      "Episode:  13/300, Reward:  +10.00, Epsilon: 0.47, Rolling Avg:  6.23, Steps:  20, Terminated: True \n",
      "Episode:  14/300, Reward:   +1.00, Epsilon: 0.45, Rolling Avg:  5.86, Steps:  11, Terminated: True \n",
      "Episode:  15/300, Reward:   +8.00, Epsilon: 0.41, Rolling Avg:  6.00, Steps:  18, Terminated: True \n",
      "Episode:  16/300, Reward:   +7.00, Epsilon: 0.37, Rolling Avg:  6.06, Steps:  17, Terminated: True \n",
      "Episode:  17/300, Reward:   +7.00, Epsilon: 0.34, Rolling Avg:  6.12, Steps:  17, Terminated: True \n",
      "Episode:  18/300, Reward:   +9.00, Epsilon: 0.31, Rolling Avg:  6.28, Steps:  19, Terminated: True \n",
      "Episode:  19/300, Reward:   +5.00, Epsilon: 0.29, Rolling Avg:  6.21, Steps:  15, Terminated: True \n",
      "Episode:  20/300, Reward:  +25.00, Epsilon: 0.24, Rolling Avg:  7.15, Steps:  35, Terminated: True \n",
      "Episode:  21/300, Reward:  +97.00, Epsilon: 0.14, Rolling Avg: 11.60, Steps: 107, Terminated: True \n",
      "Episode:  22/300, Reward:  +53.00, Epsilon: 0.10, Rolling Avg: 14.00, Steps:  63, Terminated: True \n",
      "Episode:  23/300, Reward:  +71.00, Epsilon: 0.07, Rolling Avg: 17.35, Steps:  81, Terminated: True \n",
      "Episode:  24/300, Reward: +102.00, Epsilon: 0.04, Rolling Avg: 21.80, Steps: 112, Terminated: True \n",
      "Episode:  25/300, Reward:  +55.00, Epsilon: 0.03, Rolling Avg: 23.90, Steps:  65, Terminated: True \n",
      "Episode:  26/300, Reward:  +88.00, Epsilon: 0.02, Rolling Avg: 28.40, Steps:  98, Terminated: True \n",
      "Episode:  27/300, Reward:  +91.00, Epsilon: 0.01, Rolling Avg: 32.55, Steps: 101, Terminated: True \n",
      "Episode:  28/300, Reward: +147.00, Epsilon: 0.01, Rolling Avg: 39.80, Steps: 157, Terminated: True \n",
      "Episode:  29/300, Reward: +162.00, Epsilon: 0.01, Rolling Avg: 47.50, Steps: 172, Terminated: True \n",
      "Episode:  30/300, Reward:  +65.00, Epsilon: 0.01, Rolling Avg: 50.20, Steps:  75, Terminated: True \n",
      "Episode:  31/300, Reward:  +99.00, Epsilon: 0.01, Rolling Avg: 55.25, Steps: 109, Terminated: True \n",
      "Episode:  32/300, Reward: +154.00, Epsilon: 0.01, Rolling Avg: 62.80, Steps: 164, Terminated: True \n",
      "Episode:  33/300, Reward: +163.00, Epsilon: 0.01, Rolling Avg: 70.45, Steps: 173, Terminated: True \n",
      "Episode:  34/300, Reward: +120.00, Epsilon: 0.01, Rolling Avg: 76.40, Steps: 130, Terminated: True \n",
      "Episode:  35/300, Reward:  +80.00, Epsilon: 0.01, Rolling Avg: 80.00, Steps:  90, Terminated: True \n",
      "Episode:  36/300, Reward:  +90.00, Epsilon: 0.01, Rolling Avg: 84.15, Steps: 100, Terminated: True \n",
      "Episode:  37/300, Reward: +117.00, Epsilon: 0.01, Rolling Avg: 89.65, Steps: 127, Terminated: True \n",
      "Episode:  38/300, Reward: +106.00, Epsilon: 0.01, Rolling Avg: 94.50, Steps: 116, Terminated: True \n",
      "Episode:  39/300, Reward: +268.00, Epsilon: 0.01, Rolling Avg: 107.65, Steps: 278, Terminated: True \n",
      "Episode:  40/300, Reward: +103.00, Epsilon: 0.01, Rolling Avg: 111.55, Steps: 113, Terminated: True \n",
      "Episode:  41/300, Reward: +107.00, Epsilon: 0.01, Rolling Avg: 112.05, Steps: 117, Terminated: True \n",
      "Episode:  42/300, Reward: +107.00, Epsilon: 0.01, Rolling Avg: 114.75, Steps: 117, Terminated: True \n",
      "Episode:  43/300, Reward: +351.00, Epsilon: 0.01, Rolling Avg: 128.75, Steps: 361, Terminated: True \n",
      "Episode:  44/300, Reward: +186.00, Epsilon: 0.01, Rolling Avg: 132.95, Steps: 196, Terminated: True \n",
      "Episode:  45/300, Reward: +135.00, Epsilon: 0.01, Rolling Avg: 136.95, Steps: 145, Terminated: True \n",
      "Episode:  46/300, Reward: +181.00, Epsilon: 0.01, Rolling Avg: 141.60, Steps: 191, Terminated: True \n",
      "Episode:  47/300, Reward: +203.00, Epsilon: 0.01, Rolling Avg: 147.20, Steps: 213, Terminated: True \n",
      "Episode:  48/300, Reward: +180.00, Epsilon: 0.01, Rolling Avg: 148.85, Steps: 190, Terminated: True \n",
      "Episode:  49/300, Reward: +181.00, Epsilon: 0.01, Rolling Avg: 149.80, Steps: 191, Terminated: True \n",
      "Episode:  50/300, Reward: +175.00, Epsilon: 0.01, Rolling Avg: 155.30, Steps: 185, Terminated: True \n",
      "Episode:  51/300, Reward: +166.00, Epsilon: 0.01, Rolling Avg: 158.65, Steps: 176, Terminated: True \n",
      "Episode:  52/300, Reward: +210.00, Epsilon: 0.01, Rolling Avg: 161.45, Steps: 220, Terminated: True \n",
      "Episode:  53/300, Reward: +184.00, Epsilon: 0.01, Rolling Avg: 162.50, Steps: 194, Terminated: True \n",
      "Episode:  54/300, Reward: +135.00, Epsilon: 0.01, Rolling Avg: 163.25, Steps: 145, Terminated: True \n",
      "Episode:  55/300, Reward: +209.00, Epsilon: 0.01, Rolling Avg: 169.70, Steps: 219, Terminated: True \n",
      "Episode:  56/300, Reward: +153.00, Epsilon: 0.01, Rolling Avg: 172.85, Steps: 163, Terminated: True \n",
      "Episode:  57/300, Reward: +194.00, Epsilon: 0.01, Rolling Avg: 176.70, Steps: 204, Terminated: True \n",
      "Episode:  58/300, Reward: +193.00, Epsilon: 0.01, Rolling Avg: 181.05, Steps: 203, Terminated: True \n",
      "Episode:  59/300, Reward: +148.00, Epsilon: 0.01, Rolling Avg: 175.05, Steps: 158, Terminated: True \n",
      "Episode:  60/300, Reward: +165.00, Epsilon: 0.01, Rolling Avg: 178.15, Steps: 175, Terminated: True \n",
      "Episode:  61/300, Reward: +150.00, Epsilon: 0.01, Rolling Avg: 180.30, Steps: 160, Terminated: True \n",
      "Episode:  62/300, Reward: +176.00, Epsilon: 0.01, Rolling Avg: 183.75, Steps: 186, Terminated: True \n",
      "Episode:  63/300, Reward: +462.00, Epsilon: 0.01, Rolling Avg: 189.30, Steps: 472, Terminated: True \n",
      "Episode:  64/300, Reward: +215.00, Epsilon: 0.01, Rolling Avg: 190.75, Steps: 225, Terminated: True \n",
      "Episode:  65/300, Reward: +217.00, Epsilon: 0.01, Rolling Avg: 194.85, Steps: 227, Terminated: True \n",
      "Episode:  66/300, Reward: +194.00, Epsilon: 0.01, Rolling Avg: 195.50, Steps: 204, Terminated: True \n",
      "Environment solved in 66 episodes!\n"
     ]
    }
   ],
   "source": [
    "rewards_per_episode= []\n",
    "DQN = build_model(state_size, action_size)\n",
    "\n",
    "env = gym.make('CartPole-v1')\n",
    "\n",
    "    # agent.load(\"./save/cartpole-dqn.h5\")\n",
    "done = False\n",
    "rolling_avg = 0\n",
    "rolling_avg_rewards = []\n",
    "\n",
    "for e in range(EPISODES):                           # Should be While True, however we limit number of eps\n",
    "    state, _ = env.reset()\n",
    "    state = np.reshape(state, [1, state_size])\n",
    "    total_reward = 0\n",
    "    \n",
    "    for step in range(500):\n",
    "            \n",
    "        action = select_action_greedy(state, DQN)\n",
    "        next_state, reward, done, truncated , _ = env.step(action)\n",
    "        if truncated:\n",
    "            done = True\n",
    "        reward = reward if not done else -10                      \n",
    "        next_state = np.reshape(next_state, [1, state_size])\n",
    "        store(state, action, reward, next_state, done)\n",
    "        state = next_state\n",
    "        total_reward = total_reward + reward\n",
    "        if done:\n",
    "            rewards_per_episode.append(total_reward)\n",
    "            rolling_avg = np.mean(rewards_per_episode[-20:])\n",
    "            rolling_avg_rewards.append(rolling_avg)\n",
    "            # Print progress\n",
    "            print(f\"Episode: {e+1:3}/{EPISODES}, Reward: {total_reward:+7.2f}, \"\n",
    "                  f\"Epsilon: {epsilon:.2f}, Rolling Avg: {rolling_avg:5.2f}, Steps: {step:3}, Terminated: {done} \")\n",
    "\n",
    "            break\n",
    "            \n",
    "        if len(replay_buffer) > batch_size:\n",
    "            epsilon = experience_replay(batch_size, DQN, epsilon)\n",
    "            \n",
    "    # Check if environment is solved\n",
    "    if rolling_avg >= solved_threshold:\n",
    "        print(f\"Environment solved in {e+1} episodes!\")\n",
    "#            model.save(\"lunarlander_ddqn_model1.keras\")\n",
    "        break"
   ]
  },
  {
   "cell_type": "code",
   "execution_count": 11,
   "id": "0724b047",
   "metadata": {},
   "outputs": [
    {
     "data": {
      "image/png": "[encoded data removed]",
      "text/plain": [
       "<Figure size 1000x600 with 1 Axes>"
      ]
     },
     "metadata": {},
     "output_type": "display_data"
    }
   ],
   "source": [
    "# Plot rewards with rolling average\n",
    "\n",
    "plt.figure(figsize=(10, 6))\n",
    "plt.plot(rewards_per_episode, label='Rewards', color='blue')\n",
    "plt.plot(rolling_avg_rewards, label='Rolling Avg (Last 20 Episodes)', color='orange')\n",
    "plt.axhline(y=solved_threshold, color='red', linestyle='--', label='Solved Threshold')\n",
    "plt.title('DQN Training Performance')\n",
    "plt.xlabel('Episodes')\n",
    "plt.ylabel('Rewards')\n",
    "plt.legend()\n",
    "plt.grid()\n",
    "plt.show()"
   ]
  },
  {
   "cell_type": "markdown",
   "id": "51baef8f",
   "metadata": {},
   "source": [
    "#### **Simulation - Testing 10 episodes with the DQN Network**"
   ]
  },
  {
   "cell_type": "code",
   "execution_count": 8,
   "id": "1ade8d4a",
   "metadata": {},
   "outputs": [
    {
     "name": "stdout",
     "output_type": "stream",
     "text": [
      "Test Episode:  1/10, Reward: 165.00, Steps: 165\n",
      "Test Episode:  2/10, Reward: 201.00, Steps: 201\n",
      "Test Episode:  3/10, Reward: 251.00, Steps: 251\n",
      "Test Episode:  4/10, Reward: 167.00, Steps: 167\n",
      "Test Episode:  5/10, Reward: 179.00, Steps: 179\n",
      "Test Episode:  6/10, Reward: 179.00, Steps: 179\n",
      "Test Episode:  7/10, Reward: 165.00, Steps: 165\n",
      "Test Episode:  8/10, Reward: 169.00, Steps: 169\n",
      "Test Episode:  9/10, Reward: 181.00, Steps: 181\n",
      "Test Episode: 10/10, Reward: 195.00, Steps: 195\n",
      "Testing completed in 1.72 minutes\n"
     ]
    }
   ],
   "source": [
    "# Testing for 10 episodes\n",
    "start_time = time.time()\n",
    "\n",
    "for e_test in range(10):  # Run 10 test episodes\n",
    "    state, _ = env.reset()\n",
    "    state = np.reshape(state, [1, state_size])\n",
    "    total_reward = 0\n",
    "    \n",
    "    steps = 0\n",
    "    while True:\n",
    "        # Use the trained model for testing\n",
    "        action_vals = DQN.predict(state, verbose=0)  # Predict action values\n",
    "        action = np.argmax(action_vals[0])  # Choose the action with the highest Q-value\n",
    "\n",
    "        next_state, reward, done, truncated, _ = env.step(action)\n",
    "        next_state = np.reshape(next_state, [1, state_size])\n",
    "        total_reward += reward\n",
    "        state = next_state\n",
    "        steps = steps + 1\n",
    "        if done or truncated:\n",
    "            print(f\"Test Episode: {e_test + 1:2}/10, Reward: {total_reward:.2f}, Steps: {steps:3}\")\n",
    "            break\n",
    "\n",
    "end_time = time.time()\n",
    "testing_duration = (end_time - start_time) / 60  # Convert to minutes\n",
    "print(f\"Testing completed in {testing_duration:.2f} minutes\")"
   ]
  },
  {
   "cell_type": "markdown",
   "id": "67f36b76",
   "metadata": {},
   "source": [
    "#### **Rendering 1 episode**"
   ]
  },
  {
   "cell_type": "code",
   "execution_count": 9,
   "id": "0e9e3acd",
   "metadata": {},
   "outputs": [
    {
     "name": "stdout",
     "output_type": "stream",
     "text": [
      "Rendered Test Episode Reward: 273.00\n",
      "Saved GIF to: ./CARTPOLE_DQN.gif\n"
     ]
    }
   ],
   "source": [
    "# Test the trained agent with video rendering\n",
    "# This code is useful if you are using colab otherwise use render_mode='human'\n",
    "env = gym.make((\"CartPole-v1\"), render_mode='rgb_array')  # Enable RGB rendering\n",
    "frames = []  # Store frames for visualization\n",
    "\n",
    "# Render a single test episode\n",
    "state, _ = env.reset()\n",
    "state = np.reshape(state, [1, state_size])\n",
    "tot_rewards = 0\n",
    "\n",
    "while True:\n",
    "    # Use the trained model for action\n",
    "    action_vals = DQN.predict(state, verbose=0)  # Predict action values\n",
    "    action = np.argmax(action_vals[0])           # Choose the action with the highest Q-value\n",
    "\n",
    "    next_state, reward, done, truncated, _ = env.step(action)\n",
    "    frames.append(env.render())                  # Save frame for rendering later\n",
    "    next_state = np.reshape(next_state, [1, state_size])\n",
    "    tot_rewards += reward\n",
    "    state = next_state\n",
    "\n",
    "    if done or truncated:\n",
    "        print(f\"Rendered Test Episode Reward: {tot_rewards:.2f}\")\n",
    "        break\n",
    "\n",
    "env.close()\n",
    "\n",
    "# Save the rendered episode as a GIF\n",
    "def save_frames_as_gif(frames, path='./', filename='CARTPOLE_DQN.gif'):\n",
    "    images = [Image.fromarray(frame) for frame in frames]\n",
    "    gif_path = os.path.join(path, filename)\n",
    "    images[0].save(gif_path, save_all=True, append_images=images[1:], duration=50, loop=0)\n",
    "    print(f\"Saved GIF to: {gif_path}\")\n",
    "\n",
    "save_frames_as_gif(frames, filename='CARTPOLE_DQN.gif')\n"
   ]
  },
  {
   "cell_type": "code",
   "execution_count": 10,
   "id": "017d49c2",
   "metadata": {},
   "outputs": [
    {
     "name": "stdout",
     "output_type": "stream",
     "text": [
      "-----\n",
      "PIL                 11.0.0\n",
      "gymnasium           1.0.0\n",
      "keras               3.6.0\n",
      "matplotlib          3.9.2\n",
      "numpy               1.26.4\n",
      "session_info        1.0.0\n",
      "tensorflow          2.17.1\n",
      "-----\n",
      "IPython             8.28.0\n",
      "jupyter_client      8.6.3\n",
      "jupyter_core        5.7.2\n",
      "-----\n",
      "Python 3.12.3 (main, Nov  6 2024, 18:32:19) [GCC 13.2.0]\n",
      "Linux-5.15.167.4-microsoft-standard-WSL2-x86_64-with-glibc2.39\n",
      "-----\n",
      "Session information updated at 2024-12-23 10:23\n"
     ]
    }
   ],
   "source": [
    "import session_info\n",
    "session_info.show(html=False)"
   ]
  }
 ],
 "metadata": {
  "kernelspec": {
   "display_name": "DL-Keras",
   "language": "python",
   "name": "dl-keras"
  },
  "language_info": {
   "codemirror_mode": {
    "name": "ipython",
    "version": 3
   },
   "file_extension": ".py",
   "mimetype": "text/x-python",
   "name": "python",
   "nbconvert_exporter": "python",
   "pygments_lexer": "ipython3",
   "version": "3.12.3"
  }
 },
 "nbformat": 4,
 "nbformat_minor": 5
}
