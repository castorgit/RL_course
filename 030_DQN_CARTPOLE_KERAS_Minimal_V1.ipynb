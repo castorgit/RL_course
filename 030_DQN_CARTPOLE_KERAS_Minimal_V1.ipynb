{
 "cells": [
  {
   "cell_type": "markdown",
   "id": "1362d582",
   "metadata": {},
   "source": [
    "#### **CARTPOLE DQN KERAS (Minimal) V1**\n",
    "\n",
    "This is a naive version of the CARTPOLE DQN algorithm <br>\n",
    "This program works it has been serialized, but it is plain, no sophistications <br>\n"
   ]
  },
  {
   "cell_type": "code",
   "execution_count": 1,
   "id": "557b1b33",
   "metadata": {},
   "outputs": [
    {
     "name": "stdout",
     "output_type": "stream",
     "text": [
      "Num GPUs Available:  1\n"
     ]
    },
    {
     "name": "stderr",
     "output_type": "stream",
     "text": [
      "WARNING: All log messages before absl::InitializeLog() is called are written to STDERR\n",
      "I0000 00:00:1733850788.208409 3767381 cuda_executor.cc:1001] could not open file to read NUMA node: /sys/bus/pci/devices/0000:01:00.0/numa_node\n",
      "Your kernel may have been built without NUMA support.\n",
      "I0000 00:00:1733850788.226411 3767381 cuda_executor.cc:1001] could not open file to read NUMA node: /sys/bus/pci/devices/0000:01:00.0/numa_node\n",
      "Your kernel may have been built without NUMA support.\n",
      "I0000 00:00:1733850788.226452 3767381 cuda_executor.cc:1001] could not open file to read NUMA node: /sys/bus/pci/devices/0000:01:00.0/numa_node\n",
      "Your kernel may have been built without NUMA support.\n"
     ]
    }
   ],
   "source": [
    "import os\n",
    "os.environ['TF_CPP_MIN_LOG_LEVEL'] = '3' \n",
    "\n",
    "import random\n",
    "import gymnasium as gym\n",
    "import time\n",
    "import numpy as np\n",
    "from collections import deque\n",
    "from keras.models import Sequential, Model\n",
    "from keras.layers import Dense, Input\n",
    "from keras.optimizers import Adam\n",
    "import matplotlib.pyplot as plt\n",
    "from PIL import Image\n",
    "\n",
    "import tensorflow as tf\n",
    "print(\"Num GPUs Available: \", len(tf.config.list_physical_devices('GPU')))\n",
    "\n",
    "# Use mixed-precision training for faster computations on supported GPUs\n",
    "from tensorflow.keras.mixed_precision import set_global_policy\n",
    "set_global_policy('mixed_float16')\n",
    "\n",
    "# Enable XLA (Accelerated Linear Algebra) optimization\n",
    "tf.config.optimizer.set_jit(True)"
   ]
  },
  {
   "cell_type": "markdown",
   "id": "32dd5837",
   "metadata": {},
   "source": [
    "#### **Hyperparameters**"
   ]
  },
  {
   "cell_type": "code",
   "execution_count": 2,
   "id": "78010280",
   "metadata": {},
   "outputs": [],
   "source": [
    "\n",
    "EPISODES = 300\n",
    "\n",
    "replay_buffer = deque(maxlen=2000)\n",
    "gamma = 0.95    # discount rate\n",
    "epsilon = 1.0  # exploration rate\n",
    "epsilon_min = 0.01\n",
    "epsilon_decay = 0.995\n",
    "learning_rate = 0.001\n",
    "batch_size = 64\n",
    "solved_threshold = 195\n",
    "\n",
    "verb = 0   # to see traces"
   ]
  },
  {
   "cell_type": "code",
   "execution_count": 3,
   "id": "d88b316f",
   "metadata": {},
   "outputs": [],
   "source": [
    "# Environment setup\n",
    "env = gym.make(\"CartPole-v1\")\n",
    "state_size = env.observation_space.shape[0]\n",
    "action_size = env.action_space.n"
   ]
  },
  {
   "cell_type": "markdown",
   "id": "7cfcd4a9",
   "metadata": {},
   "source": [
    "#### **Neural Network**"
   ]
  },
  {
   "cell_type": "code",
   "execution_count": 4,
   "id": "f332bd87",
   "metadata": {},
   "outputs": [],
   "source": [
    "def build_model_old(state_size,action_size):\n",
    "    model = Sequential()\n",
    "    model.add(Dense(24, input_dim=state_size, activation='relu'))\n",
    "    model.add(Dense(24, activation='relu'))\n",
    "    model.add(Dense(action_size, activation='linear'))\n",
    "    model.compile(loss='mse',optimizer=Adam(learning_rate=learning_rate))\n",
    "    model.summary()\n",
    "    return model"
   ]
  },
  {
   "cell_type": "code",
   "execution_count": 5,
   "id": "99de888c",
   "metadata": {},
   "outputs": [],
   "source": [
    "def build_model(state_size, action_size):\n",
    "    inputs = Input(shape=(state_size,), name=\"state_input\")\n",
    "    x = Dense(24, activation='relu', name=\"dense_1\")(inputs)\n",
    "    x = Dense(24, activation='relu', name=\"dense_2\")(x)\n",
    "    outputs = Dense(action_size, activation='linear', name=\"output_layer\")(x)\n",
    "    \n",
    "    model = Model(inputs=inputs, outputs=outputs, name=\"Q_Network\")\n",
    "    model.compile(loss='mse', optimizer=Adam(learning_rate=learning_rate))\n",
    "    model.summary()\n",
    "    return model"
   ]
  },
  {
   "cell_type": "markdown",
   "id": "102f0b49",
   "metadata": {},
   "source": [
    "#### **Support Functions**"
   ]
  },
  {
   "cell_type": "code",
   "execution_count": 6,
   "id": "10c07fd6",
   "metadata": {
    "scrolled": false
   },
   "outputs": [],
   "source": [
    "\n",
    "def store(state, action, reward, next_state, done):             # memorize\n",
    "    replay_buffer.append((state, action, reward, next_state, done))\n",
    "\n",
    "def select_action_greedy(state, DQN):                                      # act\n",
    "    if np.random.rand() <= epsilon:\n",
    "        return random.randrange(action_size)\n",
    "    act_values = DQN.predict(state, verbose=verb)\n",
    "    return np.argmax(act_values[0])  # returns action selected with greedy strategy\n",
    "\n",
    "# Sample experiences from the replay buffer\n",
    "def sample_experiences(batch_size):\n",
    "    indices = np.random.choice(len(replay_buffer), batch_size, replace=False)\n",
    "    batch = [replay_buffer[i] for i in indices]\n",
    "    states, actions, rewards, next_states, dones = zip(*batch)\n",
    "    return (\n",
    "        np.vstack(states),\n",
    "        np.array(actions),\n",
    "        np.array(rewards),\n",
    "        np.vstack(next_states),\n",
    "        np.array(dones, dtype=np.float32)\n",
    "    )\n",
    "\n",
    "    \n",
    "def experience_replay(batch_size, model, epsilon):\n",
    "    if len(replay_buffer) < batch_size:\n",
    "        return\n",
    "    minibatch = random.sample(replay_buffer, batch_size)\n",
    "    states, actions, rewards, next_states, dones = sample_experiences(batch_size)\n",
    "\n",
    "    # Predict Q-values for current and next states using vectorized operations\n",
    "    target_qs = model.predict(states, verbose=0)\n",
    "    next_qs = model.predict(next_states, verbose=0)\n",
    "\n",
    "    # Update target Q-values using standard DQN logic\n",
    "    for i in range(batch_size):\n",
    "        if dones[i]:\n",
    "            target_qs[i, actions[i]] = rewards[i]\n",
    "        else:\n",
    "            target_qs[i, actions[i]] = rewards[i] + gamma * np.max(next_qs[i])\n",
    "\n",
    "    # Train the model on the Q-values\n",
    "    model.fit(states, target_qs, epochs=1, verbose=0)\n",
    "    if epsilon > epsilon_min:\n",
    "            epsilon *= epsilon_decay\n",
    "    return epsilon\n",
    "\n",
    "def load(name, DQN):\n",
    "    DQN.load_weights(name)\n",
    "\n",
    "def save(name, DQN):\n",
    "    DQN.save_weights(name)"
   ]
  },
  {
   "cell_type": "code",
   "execution_count": 7,
   "id": "0cb99f42",
   "metadata": {
    "scrolled": false
   },
   "outputs": [
    {
     "name": "stderr",
     "output_type": "stream",
     "text": [
      "I0000 00:00:1733850788.268893 3767381 cuda_executor.cc:1001] could not open file to read NUMA node: /sys/bus/pci/devices/0000:01:00.0/numa_node\n",
      "Your kernel may have been built without NUMA support.\n",
      "I0000 00:00:1733850788.268954 3767381 cuda_executor.cc:1001] could not open file to read NUMA node: /sys/bus/pci/devices/0000:01:00.0/numa_node\n",
      "Your kernel may have been built without NUMA support.\n",
      "I0000 00:00:1733850788.268970 3767381 cuda_executor.cc:1001] could not open file to read NUMA node: /sys/bus/pci/devices/0000:01:00.0/numa_node\n",
      "Your kernel may have been built without NUMA support.\n",
      "I0000 00:00:1733850789.060248 3767381 cuda_executor.cc:1001] could not open file to read NUMA node: /sys/bus/pci/devices/0000:01:00.0/numa_node\n",
      "Your kernel may have been built without NUMA support.\n",
      "I0000 00:00:1733850789.060293 3767381 cuda_executor.cc:1001] could not open file to read NUMA node: /sys/bus/pci/devices/0000:01:00.0/numa_node\n",
      "Your kernel may have been built without NUMA support.\n",
      "I0000 00:00:1733850789.060315 3767381 cuda_executor.cc:1001] could not open file to read NUMA node: /sys/bus/pci/devices/0000:01:00.0/numa_node\n",
      "Your kernel may have been built without NUMA support.\n"
     ]
    },
    {
     "data": {
      "text/html": [
       "<pre style=\"white-space:pre;overflow-x:auto;line-height:normal;font-family:Menlo,'DejaVu Sans Mono',consolas,'Courier New',monospace\"><span style=\"font-weight: bold\">Model: \"Q_Network\"</span>\n",
       "</pre>\n"
      ],
      "text/plain": [
       "\u001b[1mModel: \"Q_Network\"\u001b[0m\n"
      ]
     },
     "metadata": {},
     "output_type": "display_data"
    },
    {
     "data": {
      "text/html": [
       "<pre style=\"white-space:pre;overflow-x:auto;line-height:normal;font-family:Menlo,'DejaVu Sans Mono',consolas,'Courier New',monospace\">┏━━━━━━━━━━━━━━━━━━━━━━━━━━━━━━━━━┳━━━━━━━━━━━━━━━━━━━━━━━━┳━━━━━━━━━━━━━━━┓\n",
       "┃<span style=\"font-weight: bold\"> Layer (type)                    </span>┃<span style=\"font-weight: bold\"> Output Shape           </span>┃<span style=\"font-weight: bold\">       Param # </span>┃\n",
       "┡━━━━━━━━━━━━━━━━━━━━━━━━━━━━━━━━━╇━━━━━━━━━━━━━━━━━━━━━━━━╇━━━━━━━━━━━━━━━┩\n",
       "│ state_input (<span style=\"color: #0087ff; text-decoration-color: #0087ff\">InputLayer</span>)        │ (<span style=\"color: #00d7ff; text-decoration-color: #00d7ff\">None</span>, <span style=\"color: #00af00; text-decoration-color: #00af00\">4</span>)              │             <span style=\"color: #00af00; text-decoration-color: #00af00\">0</span> │\n",
       "├─────────────────────────────────┼────────────────────────┼───────────────┤\n",
       "│ cast (<span style=\"color: #0087ff; text-decoration-color: #0087ff\">Cast</span>)                     │ (<span style=\"color: #00d7ff; text-decoration-color: #00d7ff\">None</span>, <span style=\"color: #00af00; text-decoration-color: #00af00\">4</span>)              │             <span style=\"color: #00af00; text-decoration-color: #00af00\">0</span> │\n",
       "├─────────────────────────────────┼────────────────────────┼───────────────┤\n",
       "│ dense_1 (<span style=\"color: #0087ff; text-decoration-color: #0087ff\">Dense</span>)                 │ (<span style=\"color: #00d7ff; text-decoration-color: #00d7ff\">None</span>, <span style=\"color: #00af00; text-decoration-color: #00af00\">24</span>)             │           <span style=\"color: #00af00; text-decoration-color: #00af00\">120</span> │\n",
       "├─────────────────────────────────┼────────────────────────┼───────────────┤\n",
       "│ dense_2 (<span style=\"color: #0087ff; text-decoration-color: #0087ff\">Dense</span>)                 │ (<span style=\"color: #00d7ff; text-decoration-color: #00d7ff\">None</span>, <span style=\"color: #00af00; text-decoration-color: #00af00\">24</span>)             │           <span style=\"color: #00af00; text-decoration-color: #00af00\">600</span> │\n",
       "├─────────────────────────────────┼────────────────────────┼───────────────┤\n",
       "│ output_layer (<span style=\"color: #0087ff; text-decoration-color: #0087ff\">Dense</span>)            │ (<span style=\"color: #00d7ff; text-decoration-color: #00d7ff\">None</span>, <span style=\"color: #00af00; text-decoration-color: #00af00\">2</span>)              │            <span style=\"color: #00af00; text-decoration-color: #00af00\">50</span> │\n",
       "└─────────────────────────────────┴────────────────────────┴───────────────┘\n",
       "</pre>\n"
      ],
      "text/plain": [
       "┏━━━━━━━━━━━━━━━━━━━━━━━━━━━━━━━━━┳━━━━━━━━━━━━━━━━━━━━━━━━┳━━━━━━━━━━━━━━━┓\n",
       "┃\u001b[1m \u001b[0m\u001b[1mLayer (type)                   \u001b[0m\u001b[1m \u001b[0m┃\u001b[1m \u001b[0m\u001b[1mOutput Shape          \u001b[0m\u001b[1m \u001b[0m┃\u001b[1m \u001b[0m\u001b[1m      Param #\u001b[0m\u001b[1m \u001b[0m┃\n",
       "┡━━━━━━━━━━━━━━━━━━━━━━━━━━━━━━━━━╇━━━━━━━━━━━━━━━━━━━━━━━━╇━━━━━━━━━━━━━━━┩\n",
       "│ state_input (\u001b[38;5;33mInputLayer\u001b[0m)        │ (\u001b[38;5;45mNone\u001b[0m, \u001b[38;5;34m4\u001b[0m)              │             \u001b[38;5;34m0\u001b[0m │\n",
       "├─────────────────────────────────┼────────────────────────┼───────────────┤\n",
       "│ cast (\u001b[38;5;33mCast\u001b[0m)                     │ (\u001b[38;5;45mNone\u001b[0m, \u001b[38;5;34m4\u001b[0m)              │             \u001b[38;5;34m0\u001b[0m │\n",
       "├─────────────────────────────────┼────────────────────────┼───────────────┤\n",
       "│ dense_1 (\u001b[38;5;33mDense\u001b[0m)                 │ (\u001b[38;5;45mNone\u001b[0m, \u001b[38;5;34m24\u001b[0m)             │           \u001b[38;5;34m120\u001b[0m │\n",
       "├─────────────────────────────────┼────────────────────────┼───────────────┤\n",
       "│ dense_2 (\u001b[38;5;33mDense\u001b[0m)                 │ (\u001b[38;5;45mNone\u001b[0m, \u001b[38;5;34m24\u001b[0m)             │           \u001b[38;5;34m600\u001b[0m │\n",
       "├─────────────────────────────────┼────────────────────────┼───────────────┤\n",
       "│ output_layer (\u001b[38;5;33mDense\u001b[0m)            │ (\u001b[38;5;45mNone\u001b[0m, \u001b[38;5;34m2\u001b[0m)              │            \u001b[38;5;34m50\u001b[0m │\n",
       "└─────────────────────────────────┴────────────────────────┴───────────────┘\n"
      ]
     },
     "metadata": {},
     "output_type": "display_data"
    },
    {
     "data": {
      "text/html": [
       "<pre style=\"white-space:pre;overflow-x:auto;line-height:normal;font-family:Menlo,'DejaVu Sans Mono',consolas,'Courier New',monospace\"><span style=\"font-weight: bold\"> Total params: </span><span style=\"color: #00af00; text-decoration-color: #00af00\">770</span> (3.01 KB)\n",
       "</pre>\n"
      ],
      "text/plain": [
       "\u001b[1m Total params: \u001b[0m\u001b[38;5;34m770\u001b[0m (3.01 KB)\n"
      ]
     },
     "metadata": {},
     "output_type": "display_data"
    },
    {
     "data": {
      "text/html": [
       "<pre style=\"white-space:pre;overflow-x:auto;line-height:normal;font-family:Menlo,'DejaVu Sans Mono',consolas,'Courier New',monospace\"><span style=\"font-weight: bold\"> Trainable params: </span><span style=\"color: #00af00; text-decoration-color: #00af00\">770</span> (3.01 KB)\n",
       "</pre>\n"
      ],
      "text/plain": [
       "\u001b[1m Trainable params: \u001b[0m\u001b[38;5;34m770\u001b[0m (3.01 KB)\n"
      ]
     },
     "metadata": {},
     "output_type": "display_data"
    },
    {
     "data": {
      "text/html": [
       "<pre style=\"white-space:pre;overflow-x:auto;line-height:normal;font-family:Menlo,'DejaVu Sans Mono',consolas,'Courier New',monospace\"><span style=\"font-weight: bold\"> Non-trainable params: </span><span style=\"color: #00af00; text-decoration-color: #00af00\">0</span> (0.00 B)\n",
       "</pre>\n"
      ],
      "text/plain": [
       "\u001b[1m Non-trainable params: \u001b[0m\u001b[38;5;34m0\u001b[0m (0.00 B)\n"
      ]
     },
     "metadata": {},
     "output_type": "display_data"
    },
    {
     "name": "stdout",
     "output_type": "stream",
     "text": [
      "Episode: 1/300, Reward: +10.00, Epsilon: 1.00, Rolling Avg: 10.00, Steps:  20, Terminated: True \n",
      "Episode: 2/300, Reward:  +8.00, Epsilon: 1.00, Rolling Avg: 9.00, Steps:  18, Terminated: True \n",
      "Episode: 3/300, Reward:  +2.00, Epsilon: 1.00, Rolling Avg: 6.67, Steps:  12, Terminated: True \n"
     ]
    },
    {
     "name": "stderr",
     "output_type": "stream",
     "text": [
      "WARNING: All log messages before absl::InitializeLog() is called are written to STDERR\n",
      "I0000 00:00:1733850789.756937 3767475 service.cc:146] XLA service 0x7f004c003b60 initialized for platform CUDA (this does not guarantee that XLA will be used). Devices:\n",
      "I0000 00:00:1733850789.756994 3767475 service.cc:154]   StreamExecutor device (0): NVIDIA T600 Laptop GPU, Compute Capability 7.5\n",
      "I0000 00:00:1733850791.042021 3767475 device_compiler.h:188] Compiled cluster using XLA!  This line is logged at most once for the lifetime of the process.\n"
     ]
    },
    {
     "name": "stdout",
     "output_type": "stream",
     "text": [
      "Episode: 4/300, Reward:  +5.00, Epsilon: 0.98, Rolling Avg: 6.25, Steps:  15, Terminated: True \n",
      "Episode: 5/300, Reward: +22.00, Epsilon: 0.83, Rolling Avg: 9.40, Steps:  32, Terminated: True \n",
      "Episode: 6/300, Reward: +33.00, Epsilon: 0.67, Rolling Avg: 13.33, Steps:  43, Terminated: True \n",
      "Episode: 7/300, Reward:  +8.00, Epsilon: 0.61, Rolling Avg: 12.57, Steps:  18, Terminated: True \n",
      "Episode: 8/300, Reward: +40.00, Epsilon: 0.48, Rolling Avg: 16.00, Steps:  50, Terminated: True \n",
      "Episode: 9/300, Reward:  -1.00, Epsilon: 0.46, Rolling Avg: 14.11, Steps:   9, Terminated: True \n",
      "Episode: 10/300, Reward:  -1.00, Epsilon: 0.44, Rolling Avg: 12.60, Steps:   9, Terminated: True \n",
      "Episode: 11/300, Reward:  +0.00, Epsilon: 0.42, Rolling Avg: 11.60, Steps:  10, Terminated: True \n",
      "Episode: 12/300, Reward:  +8.00, Epsilon: 0.38, Rolling Avg: 11.60, Steps:  18, Terminated: True \n",
      "Episode: 13/300, Reward: +36.00, Epsilon: 0.30, Rolling Avg: 15.00, Steps:  46, Terminated: True \n",
      "Episode: 14/300, Reward: +29.00, Epsilon: 0.25, Rolling Avg: 17.40, Steps:  39, Terminated: True \n",
      "Episode: 15/300, Reward: +35.00, Epsilon: 0.20, Rolling Avg: 18.70, Steps:  45, Terminated: True \n",
      "Episode: 16/300, Reward: +21.00, Epsilon: 0.17, Rolling Avg: 17.50, Steps:  31, Terminated: True \n",
      "Episode: 17/300, Reward: +48.00, Epsilon: 0.13, Rolling Avg: 21.50, Steps:  58, Terminated: True \n",
      "Episode: 18/300, Reward: +82.00, Epsilon: 0.08, Rolling Avg: 25.70, Steps:  92, Terminated: True \n",
      "Episode: 19/300, Reward: +96.00, Epsilon: 0.05, Rolling Avg: 35.40, Steps: 106, Terminated: True \n",
      "Episode: 20/300, Reward:  +6.00, Epsilon: 0.04, Rolling Avg: 36.10, Steps:  16, Terminated: True \n",
      "Episode: 21/300, Reward: +19.00, Epsilon: 0.04, Rolling Avg: 38.00, Steps:  29, Terminated: True \n",
      "Episode: 22/300, Reward: +75.00, Epsilon: 0.02, Rolling Avg: 44.70, Steps:  85, Terminated: True \n",
      "Episode: 23/300, Reward: +25.00, Epsilon: 0.02, Rolling Avg: 43.60, Steps:  35, Terminated: True \n",
      "Episode: 24/300, Reward: +76.00, Epsilon: 0.01, Rolling Avg: 48.30, Steps:  86, Terminated: True \n",
      "Episode: 25/300, Reward: +81.00, Epsilon: 0.01, Rolling Avg: 52.90, Steps:  91, Terminated: True \n",
      "Episode: 26/300, Reward: +60.00, Epsilon: 0.01, Rolling Avg: 56.80, Steps:  70, Terminated: True \n",
      "Episode: 27/300, Reward: +80.00, Epsilon: 0.01, Rolling Avg: 60.00, Steps:  90, Terminated: True \n",
      "Episode: 28/300, Reward: +74.00, Epsilon: 0.01, Rolling Avg: 59.20, Steps:  84, Terminated: True \n",
      "Episode: 29/300, Reward: +95.00, Epsilon: 0.01, Rolling Avg: 59.10, Steps: 105, Terminated: True \n",
      "Episode: 30/300, Reward: +206.00, Epsilon: 0.01, Rolling Avg: 79.10, Steps: 216, Terminated: True \n",
      "Episode: 31/300, Reward: +115.00, Epsilon: 0.01, Rolling Avg: 88.70, Steps: 125, Terminated: True \n",
      "Episode: 32/300, Reward: +85.00, Epsilon: 0.01, Rolling Avg: 89.70, Steps:  95, Terminated: True \n",
      "Episode: 33/300, Reward: +90.00, Epsilon: 0.01, Rolling Avg: 96.20, Steps: 100, Terminated: True \n",
      "Episode: 34/300, Reward: +98.00, Epsilon: 0.01, Rolling Avg: 98.40, Steps: 108, Terminated: True \n",
      "Episode: 35/300, Reward: +109.00, Epsilon: 0.01, Rolling Avg: 101.20, Steps: 119, Terminated: True \n",
      "Episode: 36/300, Reward: +115.00, Epsilon: 0.01, Rolling Avg: 106.70, Steps: 125, Terminated: True \n",
      "Episode: 37/300, Reward: +138.00, Epsilon: 0.01, Rolling Avg: 112.50, Steps: 148, Terminated: True \n",
      "Episode: 38/300, Reward: +121.00, Epsilon: 0.01, Rolling Avg: 117.20, Steps: 131, Terminated: True \n",
      "Episode: 39/300, Reward: +107.00, Epsilon: 0.01, Rolling Avg: 118.40, Steps: 117, Terminated: True \n",
      "Episode: 40/300, Reward: +110.00, Epsilon: 0.01, Rolling Avg: 108.80, Steps: 120, Terminated: True \n",
      "Episode: 41/300, Reward: +115.00, Epsilon: 0.01, Rolling Avg: 108.80, Steps: 125, Terminated: True \n",
      "Episode: 42/300, Reward: +149.00, Epsilon: 0.01, Rolling Avg: 115.20, Steps: 159, Terminated: True \n",
      "Episode: 43/300, Reward: +179.00, Epsilon: 0.01, Rolling Avg: 124.10, Steps: 189, Terminated: True \n",
      "Episode: 44/300, Reward: +147.00, Epsilon: 0.01, Rolling Avg: 129.00, Steps: 157, Terminated: True \n",
      "Episode: 45/300, Reward: +144.00, Epsilon: 0.01, Rolling Avg: 132.50, Steps: 154, Terminated: True \n",
      "Episode: 46/300, Reward: +140.00, Epsilon: 0.01, Rolling Avg: 135.00, Steps: 150, Terminated: True \n",
      "Episode: 47/300, Reward: +121.00, Epsilon: 0.01, Rolling Avg: 133.30, Steps: 131, Terminated: True \n",
      "Episode: 48/300, Reward: +139.00, Epsilon: 0.01, Rolling Avg: 135.10, Steps: 149, Terminated: True \n",
      "Episode: 49/300, Reward: +115.00, Epsilon: 0.01, Rolling Avg: 135.90, Steps: 125, Terminated: True \n",
      "Episode: 50/300, Reward: +116.00, Epsilon: 0.01, Rolling Avg: 136.50, Steps: 126, Terminated: True \n",
      "Episode: 51/300, Reward: +106.00, Epsilon: 0.01, Rolling Avg: 135.60, Steps: 116, Terminated: True \n",
      "Episode: 52/300, Reward: +105.00, Epsilon: 0.01, Rolling Avg: 131.20, Steps: 115, Terminated: True \n",
      "Episode: 53/300, Reward: +121.00, Epsilon: 0.01, Rolling Avg: 125.40, Steps: 131, Terminated: True \n",
      "Episode: 54/300, Reward: +117.00, Epsilon: 0.01, Rolling Avg: 122.40, Steps: 127, Terminated: True \n",
      "Episode: 55/300, Reward: +136.00, Epsilon: 0.01, Rolling Avg: 121.60, Steps: 146, Terminated: True \n",
      "Episode: 56/300, Reward: +129.00, Epsilon: 0.01, Rolling Avg: 120.50, Steps: 139, Terminated: True \n",
      "Episode: 57/300, Reward: +169.00, Epsilon: 0.01, Rolling Avg: 125.30, Steps: 179, Terminated: True \n",
      "Episode: 58/300, Reward: +137.00, Epsilon: 0.01, Rolling Avg: 125.10, Steps: 147, Terminated: True \n",
      "Episode: 59/300, Reward: +122.00, Epsilon: 0.01, Rolling Avg: 125.80, Steps: 132, Terminated: True \n",
      "Episode: 60/300, Reward: +112.00, Epsilon: 0.01, Rolling Avg: 125.40, Steps: 122, Terminated: True \n",
      "Episode: 61/300, Reward: +121.00, Epsilon: 0.01, Rolling Avg: 126.90, Steps: 131, Terminated: True \n",
      "Episode: 62/300, Reward: +124.00, Epsilon: 0.01, Rolling Avg: 128.80, Steps: 134, Terminated: True \n",
      "Episode: 63/300, Reward: +131.00, Epsilon: 0.01, Rolling Avg: 129.80, Steps: 141, Terminated: True \n",
      "Episode: 64/300, Reward: +126.00, Epsilon: 0.01, Rolling Avg: 130.70, Steps: 136, Terminated: True \n",
      "Episode: 65/300, Reward: +108.00, Epsilon: 0.01, Rolling Avg: 127.90, Steps: 118, Terminated: True \n",
      "Episode: 66/300, Reward: +123.00, Epsilon: 0.01, Rolling Avg: 127.30, Steps: 133, Terminated: True \n",
      "Episode: 67/300, Reward: +124.00, Epsilon: 0.01, Rolling Avg: 122.80, Steps: 134, Terminated: True \n",
      "Episode: 68/300, Reward: +110.00, Epsilon: 0.01, Rolling Avg: 120.10, Steps: 120, Terminated: True \n",
      "Episode: 69/300, Reward: +131.00, Epsilon: 0.01, Rolling Avg: 121.00, Steps: 141, Terminated: True \n",
      "Episode: 70/300, Reward: +123.00, Epsilon: 0.01, Rolling Avg: 122.10, Steps: 133, Terminated: True \n",
      "Episode: 71/300, Reward: +115.00, Epsilon: 0.01, Rolling Avg: 121.50, Steps: 125, Terminated: True \n",
      "Episode: 72/300, Reward: +131.00, Epsilon: 0.01, Rolling Avg: 122.20, Steps: 141, Terminated: True \n",
      "Episode: 73/300, Reward: +114.00, Epsilon: 0.01, Rolling Avg: 120.50, Steps: 124, Terminated: True \n",
      "Episode: 74/300, Reward: +109.00, Epsilon: 0.01, Rolling Avg: 118.80, Steps: 119, Terminated: True \n",
      "Episode: 75/300, Reward: +121.00, Epsilon: 0.01, Rolling Avg: 120.10, Steps: 131, Terminated: True \n",
      "Episode: 76/300, Reward: +127.00, Epsilon: 0.01, Rolling Avg: 120.50, Steps: 137, Terminated: True \n",
      "Episode: 77/300, Reward: +136.00, Epsilon: 0.01, Rolling Avg: 121.70, Steps: 146, Terminated: True \n",
      "Episode: 78/300, Reward: +113.00, Epsilon: 0.01, Rolling Avg: 122.00, Steps: 123, Terminated: True \n",
      "Episode: 79/300, Reward: +134.00, Epsilon: 0.01, Rolling Avg: 122.30, Steps: 144, Terminated: True \n",
      "Episode: 80/300, Reward: +118.00, Epsilon: 0.01, Rolling Avg: 121.80, Steps: 128, Terminated: True \n",
      "Episode: 81/300, Reward: +105.00, Epsilon: 0.01, Rolling Avg: 120.80, Steps: 115, Terminated: True \n",
      "Episode: 82/300, Reward: +123.00, Epsilon: 0.01, Rolling Avg: 120.00, Steps: 133, Terminated: True \n",
      "Episode: 83/300, Reward: +113.00, Epsilon: 0.01, Rolling Avg: 119.90, Steps: 123, Terminated: True \n",
      "Episode: 84/300, Reward: +117.00, Epsilon: 0.01, Rolling Avg: 120.70, Steps: 127, Terminated: True \n",
      "Episode: 85/300, Reward: +122.00, Epsilon: 0.01, Rolling Avg: 120.80, Steps: 132, Terminated: True \n",
      "Episode: 86/300, Reward: +121.00, Epsilon: 0.01, Rolling Avg: 120.20, Steps: 131, Terminated: True \n"
     ]
    },
    {
     "name": "stdout",
     "output_type": "stream",
     "text": [
      "Episode: 87/300, Reward: +119.00, Epsilon: 0.01, Rolling Avg: 118.50, Steps: 129, Terminated: True \n",
      "Episode: 88/300, Reward: +119.00, Epsilon: 0.01, Rolling Avg: 119.10, Steps: 129, Terminated: True \n",
      "Episode: 89/300, Reward: +134.00, Epsilon: 0.01, Rolling Avg: 119.10, Steps: 144, Terminated: True \n",
      "Episode: 90/300, Reward: +121.00, Epsilon: 0.01, Rolling Avg: 119.40, Steps: 131, Terminated: True \n",
      "Episode: 91/300, Reward: +116.00, Epsilon: 0.01, Rolling Avg: 120.50, Steps: 126, Terminated: True \n",
      "Episode: 92/300, Reward: +118.00, Epsilon: 0.01, Rolling Avg: 120.00, Steps: 128, Terminated: True \n",
      "Episode: 93/300, Reward: +123.00, Epsilon: 0.01, Rolling Avg: 121.00, Steps: 133, Terminated: True \n",
      "Episode: 94/300, Reward: +115.00, Epsilon: 0.01, Rolling Avg: 120.80, Steps: 125, Terminated: True \n",
      "Episode: 95/300, Reward: +117.00, Epsilon: 0.01, Rolling Avg: 120.30, Steps: 127, Terminated: True \n",
      "Episode: 96/300, Reward: +115.00, Epsilon: 0.01, Rolling Avg: 119.70, Steps: 125, Terminated: True \n",
      "Episode: 97/300, Reward: +114.00, Epsilon: 0.01, Rolling Avg: 119.20, Steps: 124, Terminated: True \n",
      "Episode: 98/300, Reward: +115.00, Epsilon: 0.01, Rolling Avg: 118.80, Steps: 125, Terminated: True \n",
      "Episode: 99/300, Reward: +112.00, Epsilon: 0.01, Rolling Avg: 116.60, Steps: 122, Terminated: True \n",
      "Episode: 100/300, Reward: +120.00, Epsilon: 0.01, Rolling Avg: 116.50, Steps: 130, Terminated: True \n",
      "Episode: 101/300, Reward: +113.00, Epsilon: 0.01, Rolling Avg: 116.20, Steps: 123, Terminated: True \n",
      "Episode: 102/300, Reward: +127.00, Epsilon: 0.01, Rolling Avg: 117.10, Steps: 137, Terminated: True \n",
      "Episode: 103/300, Reward: +131.00, Epsilon: 0.01, Rolling Avg: 117.90, Steps: 141, Terminated: True \n",
      "Episode: 104/300, Reward: +113.00, Epsilon: 0.01, Rolling Avg: 117.70, Steps: 123, Terminated: True \n",
      "Episode: 105/300, Reward: +114.00, Epsilon: 0.01, Rolling Avg: 117.40, Steps: 124, Terminated: True \n",
      "Episode: 106/300, Reward: +117.00, Epsilon: 0.01, Rolling Avg: 117.60, Steps: 127, Terminated: True \n",
      "Episode: 107/300, Reward: +122.00, Epsilon: 0.01, Rolling Avg: 118.40, Steps: 132, Terminated: True \n",
      "Episode: 108/300, Reward: +117.00, Epsilon: 0.01, Rolling Avg: 118.60, Steps: 127, Terminated: True \n",
      "Episode: 109/300, Reward: +124.00, Epsilon: 0.01, Rolling Avg: 119.80, Steps: 134, Terminated: True \n",
      "Episode: 110/300, Reward: +130.00, Epsilon: 0.01, Rolling Avg: 120.80, Steps: 140, Terminated: True \n",
      "Episode: 111/300, Reward: +124.00, Epsilon: 0.01, Rolling Avg: 121.90, Steps: 134, Terminated: True \n",
      "Episode: 112/300, Reward: +123.00, Epsilon: 0.01, Rolling Avg: 121.50, Steps: 133, Terminated: True \n",
      "Episode: 113/300, Reward: +124.00, Epsilon: 0.01, Rolling Avg: 120.80, Steps: 134, Terminated: True \n",
      "Episode: 114/300, Reward:  +0.00, Epsilon: 0.01, Rolling Avg: 109.50, Steps:  10, Terminated: True \n",
      "Episode: 115/300, Reward:  +0.00, Epsilon: 0.01, Rolling Avg: 98.10, Steps:  10, Terminated: True \n",
      "Episode: 116/300, Reward: +30.00, Epsilon: 0.01, Rolling Avg: 89.40, Steps:  40, Terminated: True \n",
      "Episode: 117/300, Reward: +43.00, Epsilon: 0.01, Rolling Avg: 81.50, Steps:  53, Terminated: True \n",
      "Episode: 118/300, Reward: +18.00, Epsilon: 0.01, Rolling Avg: 71.60, Steps:  28, Terminated: True \n",
      "Episode: 119/300, Reward: +175.00, Epsilon: 0.01, Rolling Avg: 76.70, Steps: 185, Terminated: True \n",
      "Episode: 120/300, Reward: +114.00, Epsilon: 0.01, Rolling Avg: 75.10, Steps: 124, Terminated: True \n",
      "Episode: 121/300, Reward: +119.00, Epsilon: 0.01, Rolling Avg: 74.60, Steps: 129, Terminated: True \n",
      "Episode: 122/300, Reward: +153.00, Epsilon: 0.01, Rolling Avg: 77.60, Steps: 163, Terminated: True \n",
      "Episode: 123/300, Reward: +143.00, Epsilon: 0.01, Rolling Avg: 79.50, Steps: 153, Terminated: True \n",
      "Episode: 124/300, Reward: +141.00, Epsilon: 0.01, Rolling Avg: 93.60, Steps: 151, Terminated: True \n",
      "Episode: 125/300, Reward: +134.00, Epsilon: 0.01, Rolling Avg: 107.00, Steps: 144, Terminated: True \n",
      "Episode: 126/300, Reward: +118.00, Epsilon: 0.01, Rolling Avg: 115.80, Steps: 128, Terminated: True \n",
      "Episode: 127/300, Reward: +144.00, Epsilon: 0.01, Rolling Avg: 125.90, Steps: 154, Terminated: True \n",
      "Episode: 128/300, Reward: +132.00, Epsilon: 0.01, Rolling Avg: 137.30, Steps: 142, Terminated: True \n",
      "Episode: 129/300, Reward: +135.00, Epsilon: 0.01, Rolling Avg: 133.30, Steps: 145, Terminated: True \n",
      "Episode: 130/300, Reward: +76.00, Epsilon: 0.01, Rolling Avg: 129.50, Steps:  86, Terminated: True \n",
      "Episode: 131/300, Reward: +143.00, Epsilon: 0.01, Rolling Avg: 131.90, Steps: 153, Terminated: True \n",
      "Episode: 132/300, Reward: +150.00, Epsilon: 0.01, Rolling Avg: 131.60, Steps: 160, Terminated: True \n",
      "Episode: 133/300, Reward: +187.00, Epsilon: 0.01, Rolling Avg: 136.00, Steps: 197, Terminated: True \n",
      "Episode: 134/300, Reward: +124.00, Epsilon: 0.01, Rolling Avg: 134.30, Steps: 134, Terminated: True \n",
      "Episode: 135/300, Reward: +115.00, Epsilon: 0.01, Rolling Avg: 132.40, Steps: 125, Terminated: True \n",
      "Episode: 136/300, Reward: +353.00, Epsilon: 0.01, Rolling Avg: 155.90, Steps: 363, Terminated: True \n",
      "Episode: 137/300, Reward: +136.00, Epsilon: 0.01, Rolling Avg: 155.10, Steps: 146, Terminated: True \n",
      "Episode: 138/300, Reward: +141.00, Epsilon: 0.01, Rolling Avg: 156.00, Steps: 151, Terminated: True \n",
      "Episode: 139/300, Reward: +161.00, Epsilon: 0.01, Rolling Avg: 158.60, Steps: 171, Terminated: True \n",
      "Episode: 140/300, Reward: +150.00, Epsilon: 0.01, Rolling Avg: 166.00, Steps: 160, Terminated: True \n",
      "Episode: 141/300, Reward: +157.00, Epsilon: 0.01, Rolling Avg: 167.40, Steps: 167, Terminated: True \n",
      "Episode: 142/300, Reward: +160.00, Epsilon: 0.01, Rolling Avg: 168.40, Steps: 170, Terminated: True \n",
      "Episode: 143/300, Reward: +122.00, Epsilon: 0.01, Rolling Avg: 161.90, Steps: 132, Terminated: True \n",
      "Episode: 144/300, Reward: +131.00, Epsilon: 0.01, Rolling Avg: 162.60, Steps: 141, Terminated: True \n",
      "Episode: 145/300, Reward: +140.00, Epsilon: 0.01, Rolling Avg: 165.10, Steps: 150, Terminated: True \n",
      "Episode: 146/300, Reward: +134.00, Epsilon: 0.01, Rolling Avg: 143.20, Steps: 144, Terminated: True \n",
      "Episode: 147/300, Reward: +117.00, Epsilon: 0.01, Rolling Avg: 141.30, Steps: 127, Terminated: True \n",
      "Episode: 148/300, Reward: +129.00, Epsilon: 0.01, Rolling Avg: 140.10, Steps: 139, Terminated: True \n",
      "Episode: 149/300, Reward: +145.00, Epsilon: 0.01, Rolling Avg: 138.50, Steps: 155, Terminated: True \n",
      "Episode: 150/300, Reward: +98.00, Epsilon: 0.01, Rolling Avg: 133.30, Steps: 108, Terminated: True \n",
      "Episode: 151/300, Reward: +115.00, Epsilon: 0.01, Rolling Avg: 129.10, Steps: 125, Terminated: True \n",
      "Episode: 152/300, Reward: +133.00, Epsilon: 0.01, Rolling Avg: 126.40, Steps: 143, Terminated: True \n",
      "Episode: 153/300, Reward: +85.00, Epsilon: 0.01, Rolling Avg: 122.70, Steps:  95, Terminated: True \n",
      "Episode: 154/300, Reward: +15.00, Epsilon: 0.01, Rolling Avg: 111.10, Steps:  25, Terminated: True \n",
      "Episode: 155/300, Reward:  -2.00, Epsilon: 0.01, Rolling Avg: 96.90, Steps:   8, Terminated: True \n",
      "Episode: 156/300, Reward:  -2.00, Epsilon: 0.01, Rolling Avg: 83.30, Steps:   8, Terminated: True \n",
      "Episode: 157/300, Reward:  +9.00, Epsilon: 0.01, Rolling Avg: 72.50, Steps:  19, Terminated: True \n",
      "Episode: 158/300, Reward: +12.00, Epsilon: 0.01, Rolling Avg: 60.80, Steps:  22, Terminated: True \n",
      "Episode: 159/300, Reward:  -1.00, Epsilon: 0.01, Rolling Avg: 46.20, Steps:   9, Terminated: True \n",
      "Episode: 160/300, Reward:  +7.00, Epsilon: 0.01, Rolling Avg: 37.10, Steps:  17, Terminated: True \n",
      "Episode: 161/300, Reward: +18.00, Epsilon: 0.01, Rolling Avg: 27.40, Steps:  28, Terminated: True \n",
      "Episode: 162/300, Reward: +19.00, Epsilon: 0.01, Rolling Avg: 16.00, Steps:  29, Terminated: True \n",
      "Episode: 163/300, Reward: +30.00, Epsilon: 0.01, Rolling Avg: 10.50, Steps:  40, Terminated: True \n",
      "Episode: 164/300, Reward: +44.00, Epsilon: 0.01, Rolling Avg: 13.40, Steps:  54, Terminated: True \n",
      "Episode: 165/300, Reward: +61.00, Epsilon: 0.01, Rolling Avg: 19.70, Steps:  71, Terminated: True \n",
      "Episode: 166/300, Reward: +88.00, Epsilon: 0.01, Rolling Avg: 28.70, Steps:  98, Terminated: True \n",
      "Episode: 167/300, Reward: +59.00, Epsilon: 0.01, Rolling Avg: 33.70, Steps:  69, Terminated: True \n",
      "Episode: 168/300, Reward: +123.00, Epsilon: 0.01, Rolling Avg: 44.80, Steps: 133, Terminated: True \n"
     ]
    },
    {
     "name": "stdout",
     "output_type": "stream",
     "text": [
      "Episode: 169/300, Reward: +104.00, Epsilon: 0.01, Rolling Avg: 55.30, Steps: 114, Terminated: True \n",
      "Episode: 170/300, Reward: +141.00, Epsilon: 0.01, Rolling Avg: 68.70, Steps: 151, Terminated: True \n",
      "Episode: 171/300, Reward: +91.00, Epsilon: 0.01, Rolling Avg: 76.00, Steps: 101, Terminated: True \n",
      "Episode: 172/300, Reward: +158.00, Epsilon: 0.01, Rolling Avg: 89.90, Steps: 168, Terminated: True \n",
      "Episode: 173/300, Reward: +169.00, Epsilon: 0.01, Rolling Avg: 103.80, Steps: 179, Terminated: True \n",
      "Episode: 174/300, Reward: +114.00, Epsilon: 0.01, Rolling Avg: 110.80, Steps: 124, Terminated: True \n",
      "Episode: 175/300, Reward: +90.00, Epsilon: 0.01, Rolling Avg: 113.70, Steps: 100, Terminated: True \n",
      "Episode: 176/300, Reward: +123.00, Epsilon: 0.01, Rolling Avg: 117.20, Steps: 133, Terminated: True \n",
      "Episode: 177/300, Reward: +83.00, Epsilon: 0.01, Rolling Avg: 119.60, Steps:  93, Terminated: True \n",
      "Episode: 178/300, Reward: +195.00, Epsilon: 0.01, Rolling Avg: 126.80, Steps: 205, Terminated: True \n",
      "Episode: 179/300, Reward: +72.00, Epsilon: 0.01, Rolling Avg: 123.60, Steps:  82, Terminated: True \n",
      "Episode: 180/300, Reward: +109.00, Epsilon: 0.01, Rolling Avg: 120.40, Steps: 119, Terminated: True \n",
      "Episode: 181/300, Reward: +107.00, Epsilon: 0.01, Rolling Avg: 122.00, Steps: 117, Terminated: True \n",
      "Episode: 182/300, Reward: +99.00, Epsilon: 0.01, Rolling Avg: 116.10, Steps: 109, Terminated: True \n",
      "Episode: 183/300, Reward: +108.00, Epsilon: 0.01, Rolling Avg: 110.00, Steps: 118, Terminated: True \n",
      "Episode: 184/300, Reward: +119.00, Epsilon: 0.01, Rolling Avg: 110.50, Steps: 129, Terminated: True \n",
      "Episode: 185/300, Reward: +109.00, Epsilon: 0.01, Rolling Avg: 112.40, Steps: 119, Terminated: True \n",
      "Episode: 186/300, Reward: +109.00, Epsilon: 0.01, Rolling Avg: 111.00, Steps: 119, Terminated: True \n",
      "Episode: 187/300, Reward: +158.00, Epsilon: 0.01, Rolling Avg: 118.50, Steps: 168, Terminated: True \n",
      "Episode: 188/300, Reward: +119.00, Epsilon: 0.01, Rolling Avg: 110.90, Steps: 129, Terminated: True \n",
      "Episode: 189/300, Reward: +150.00, Epsilon: 0.01, Rolling Avg: 118.70, Steps: 160, Terminated: True \n",
      "Episode: 190/300, Reward: +116.00, Epsilon: 0.01, Rolling Avg: 119.40, Steps: 126, Terminated: True \n",
      "Episode: 191/300, Reward: +130.00, Epsilon: 0.01, Rolling Avg: 121.70, Steps: 140, Terminated: True \n",
      "Episode: 192/300, Reward: +127.00, Epsilon: 0.01, Rolling Avg: 124.50, Steps: 137, Terminated: True \n",
      "Episode: 193/300, Reward: +177.00, Epsilon: 0.01, Rolling Avg: 131.40, Steps: 187, Terminated: True \n",
      "Episode: 194/300, Reward: +148.00, Epsilon: 0.01, Rolling Avg: 134.30, Steps: 158, Terminated: True \n",
      "Episode: 195/300, Reward: +134.00, Epsilon: 0.01, Rolling Avg: 136.80, Steps: 144, Terminated: True \n",
      "Episode: 196/300, Reward: +150.00, Epsilon: 0.01, Rolling Avg: 140.90, Steps: 160, Terminated: True \n",
      "Episode: 197/300, Reward: +146.00, Epsilon: 0.01, Rolling Avg: 139.70, Steps: 156, Terminated: True \n",
      "Episode: 198/300, Reward:  +7.00, Epsilon: 0.01, Rolling Avg: 128.50, Steps:  17, Terminated: True \n",
      "Episode: 199/300, Reward:  +0.00, Epsilon: 0.01, Rolling Avg: 113.50, Steps:  10, Terminated: True \n",
      "Episode: 200/300, Reward: +13.00, Epsilon: 0.01, Rolling Avg: 103.20, Steps:  23, Terminated: True \n",
      "Episode: 201/300, Reward: +137.00, Epsilon: 0.01, Rolling Avg: 103.90, Steps: 147, Terminated: True \n",
      "Episode: 202/300, Reward: +147.00, Epsilon: 0.01, Rolling Avg: 105.90, Steps: 157, Terminated: True \n",
      "Episode: 203/300, Reward: +153.00, Epsilon: 0.01, Rolling Avg: 103.50, Steps: 163, Terminated: True \n",
      "Episode: 204/300, Reward: +262.00, Epsilon: 0.01, Rolling Avg: 114.90, Steps: 272, Terminated: True \n",
      "Episode: 205/300, Reward: +489.00, Epsilon: 0.01, Rolling Avg: 150.40, Steps: 499, Terminated: True \n",
      "Episode: 206/300, Reward: +489.00, Epsilon: 0.01, Rolling Avg: 184.30, Steps: 499, Terminated: True \n",
      "Episode: 207/300, Reward: +348.00, Epsilon: 0.01, Rolling Avg: 204.50, Steps: 358, Terminated: True \n",
      "Environment solved in 207 episodes!\n"
     ]
    }
   ],
   "source": [
    "rewards_per_episode= []\n",
    "DQN = build_model(state_size, action_size)\n",
    "\n",
    "env = gym.make('CartPole-v1')\n",
    "\n",
    "    # agent.load(\"./save/cartpole-dqn.h5\")\n",
    "done = False\n",
    "rolling_avg = 0\n",
    "rolling_avg_rewards = []\n",
    "\n",
    "for e in range(EPISODES):\n",
    "    state, _ = env.reset()\n",
    "    state = np.reshape(state, [1, state_size])\n",
    "    total_reward = 0\n",
    "    \n",
    "    for step in range(500):\n",
    "            \n",
    "        action = select_action_greedy(state, DQN)\n",
    "        next_state, reward, done, truncated , _ = env.step(action)\n",
    "        if truncated:\n",
    "            done = True\n",
    "        reward = reward if not done else -10                      \n",
    "        next_state = np.reshape(next_state, [1, state_size])\n",
    "        store(state, action, reward, next_state, done)\n",
    "        state = next_state\n",
    "        total_reward = total_reward + reward\n",
    "        if done:\n",
    "            rewards_per_episode.append(total_reward)\n",
    "            rolling_avg = np.mean(rewards_per_episode[-10:])\n",
    "            rolling_avg_rewards.append(rolling_avg)\n",
    "            print(f\"Episode: {e+1:3}/{EPISODES:3}, Reward: {total_reward:+6.2f}, \"\n",
    "                  f\"Epsilon: {epsilon:.2f}, Rolling Avg: {rolling_avg:4.2f}, Steps: {step:3}, Terminated: {done} \")\n",
    "            break\n",
    "            \n",
    "        if len(replay_buffer) > batch_size:\n",
    "            epsilon = experience_replay(batch_size, DQN, epsilon)\n",
    "            \n",
    "    # Check if environment is solved\n",
    "    if rolling_avg >= solved_threshold:\n",
    "        print(f\"Environment solved in {e+1} episodes!\")\n",
    "#            model.save(\"lunarlander_ddqn_model1.keras\")\n",
    "        break"
   ]
  },
  {
   "cell_type": "code",
   "execution_count": 8,
   "id": "33b1ce8e",
   "metadata": {},
   "outputs": [
    {
     "data": {
      "image/png": "[encoded data removed]",
      "text/plain": [
       "<Figure size 1000x600 with 1 Axes>"
      ]
     },
     "metadata": {},
     "output_type": "display_data"
    }
   ],
   "source": [
    "# Plot rewards with rolling average\n",
    "\n",
    "plt.figure(figsize=(10, 6))\n",
    "plt.plot(rewards_per_episode, label='Rewards', color='blue')\n",
    "plt.plot(rolling_avg_rewards, label='Rolling Avg (Last 10 Episodes)', color='orange')\n",
    "plt.axhline(y=solved_threshold, color='red', linestyle='--', label='Solved Threshold')\n",
    "plt.title('Double DQN Training Performance')\n",
    "plt.xlabel('Episodes')\n",
    "plt.ylabel('Rewards')\n",
    "plt.legend()\n",
    "plt.grid()\n",
    "plt.show()"
   ]
  },
  {
   "cell_type": "markdown",
   "id": "00e6b0f5",
   "metadata": {},
   "source": [
    "#### **Simulation - Testing 10 episodes**"
   ]
  },
  {
   "cell_type": "code",
   "execution_count": 9,
   "id": "02b82a47",
   "metadata": {},
   "outputs": [
    {
     "name": "stdout",
     "output_type": "stream",
     "text": [
      "Test Episode: 1/50, Reward: 500.00, Steps: 500\n",
      "Test Episode: 2/50, Reward: 500.00, Steps: 500\n",
      "Test Episode: 3/50, Reward: 487.00, Steps: 487\n",
      "Test Episode: 4/50, Reward: 500.00, Steps: 500\n",
      "Test Episode: 5/50, Reward: 451.00, Steps: 451\n",
      "Test Episode: 6/50, Reward: 500.00, Steps: 500\n",
      "Test Episode: 7/50, Reward: 500.00, Steps: 500\n",
      "Test Episode: 8/50, Reward: 500.00, Steps: 500\n",
      "Test Episode: 9/50, Reward: 500.00, Steps: 500\n",
      "Test Episode: 10/50, Reward: 444.00, Steps: 444\n",
      "Testing completed in 2.81 minutes\n"
     ]
    }
   ],
   "source": [
    "# Testing for 10 episodes\n",
    "start_time = time.time()\n",
    "\n",
    "for e_test in range(10):  # Run 10 test episodes\n",
    "    state, _ = env.reset()\n",
    "    state = np.reshape(state, [1, state_size])\n",
    "    total_reward = 0\n",
    "    \n",
    "    steps = 0\n",
    "    while True:\n",
    "        # Use the trained model for testing\n",
    "        action_vals = DQN.predict(state, verbose=0)  # Predict action values\n",
    "        action = np.argmax(action_vals[0])  # Choose the action with the highest Q-value\n",
    "\n",
    "        next_state, reward, done, truncated, _ = env.step(action)\n",
    "        next_state = np.reshape(next_state, [1, state_size])\n",
    "        total_reward += reward\n",
    "        state = next_state\n",
    "        steps = steps + 1\n",
    "        if done or truncated:\n",
    "            print(f\"Test Episode: {e_test + 1}/50, Reward: {total_reward:.2f}, Steps: {steps:3}\")\n",
    "            break\n",
    "\n",
    "end_time = time.time()\n",
    "testing_duration = (end_time - start_time) / 60  # Convert to minutes\n",
    "print(f\"Testing completed in {testing_duration:.2f} minutes\")"
   ]
  },
  {
   "cell_type": "markdown",
   "id": "669df83a",
   "metadata": {},
   "source": [
    "#### **Rendering 1 episode**"
   ]
  },
  {
   "cell_type": "code",
   "execution_count": 10,
   "id": "2c94f838",
   "metadata": {},
   "outputs": [
    {
     "name": "stdout",
     "output_type": "stream",
     "text": [
      "Rendered Test Episode Reward: 500.00\n",
      "Saved GIF to: ./CARTPOLE_DQN.gif\n"
     ]
    }
   ],
   "source": [
    "# Test the trained agent with video rendering\n",
    "# This code is useful if you are using colab otherwise use render_mode='human'\n",
    "env = gym.make((\"CartPole-v1\"), render_mode='rgb_array')  # Enable RGB rendering\n",
    "frames = []  # Store frames for visualization\n",
    "\n",
    "# Render a single test episode\n",
    "state, _ = env.reset()\n",
    "state = np.reshape(state, [1, state_size])\n",
    "tot_rewards = 0\n",
    "\n",
    "while True:\n",
    "    # Use the trained model for action\n",
    "    action_vals = DQN.predict(state, verbose=0)  # Predict action values\n",
    "    action = np.argmax(action_vals[0])           # Choose the action with the highest Q-value\n",
    "\n",
    "    next_state, reward, done, truncated, _ = env.step(action)\n",
    "    frames.append(env.render())                  # Save frame for rendering later\n",
    "    next_state = np.reshape(next_state, [1, state_size])\n",
    "    tot_rewards += reward\n",
    "    state = next_state\n",
    "\n",
    "    if done or truncated:\n",
    "        print(f\"Rendered Test Episode Reward: {tot_rewards:.2f}\")\n",
    "        break\n",
    "\n",
    "env.close()\n",
    "\n",
    "# Save the rendered episode as a GIF\n",
    "def save_frames_as_gif(frames, path='./', filename='CARTPOLE_DQN.gif'):\n",
    "    images = [Image.fromarray(frame) for frame in frames]\n",
    "    gif_path = os.path.join(path, filename)\n",
    "    images[0].save(gif_path, save_all=True, append_images=images[1:], duration=50, loop=0)\n",
    "    print(f\"Saved GIF to: {gif_path}\")\n",
    "\n",
    "save_frames_as_gif(frames, filename='CARTPOLE_DQN.gif')\n"
   ]
  },
  {
   "cell_type": "code",
   "execution_count": 11,
   "id": "d85bc7f8",
   "metadata": {},
   "outputs": [
    {
     "name": "stdout",
     "output_type": "stream",
     "text": [
      "-----\n",
      "PIL                 11.0.0\n",
      "gymnasium           1.0.0\n",
      "keras               3.6.0\n",
      "matplotlib          3.9.2\n",
      "numpy               1.26.4\n",
      "session_info        1.0.0\n",
      "tensorflow          2.17.1\n",
      "-----\n",
      "IPython             8.28.0\n",
      "jupyter_client      8.6.3\n",
      "jupyter_core        5.7.2\n",
      "-----\n",
      "Python 3.12.3 (main, Nov  6 2024, 18:32:19) [GCC 13.2.0]\n",
      "Linux-5.15.167.4-microsoft-standard-WSL2-x86_64-with-glibc2.39\n",
      "-----\n",
      "Session information updated at 2024-12-10 19:18\n"
     ]
    }
   ],
   "source": [
    "import session_info\n",
    "session_info.show(html=False)"
   ]
  }
 ],
 "metadata": {
  "kernelspec": {
   "display_name": "DL-Keras",
   "language": "python",
   "name": "dl-keras"
  },
  "language_info": {
   "codemirror_mode": {
    "name": "ipython",
    "version": 3
   },
   "file_extension": ".py",
   "mimetype": "text/x-python",
   "name": "python",
   "nbconvert_exporter": "python",
   "pygments_lexer": "ipython3",
   "version": "3.12.3"
  }
 },
 "nbformat": 4,
 "nbformat_minor": 5
}
