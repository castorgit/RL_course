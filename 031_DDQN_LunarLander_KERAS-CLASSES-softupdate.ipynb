{
 "cells": [
  {
   "cell_type": "markdown",
   "id": "bad28014",
   "metadata": {},
   "source": [
    "### **Lunar Lander DDQN KERAS using an Agent Class**\n",
    "\n",
    "Prepared for hard and soft update. This execution is with soft update\n",
    "\n",
    "- Hard update : copy weights\n",
    "- Soft update : soft update Polyak\n",
    "\n",
    "This is a naive version vectorized of the DDQN Algorithm for the Lunar Lander env <br>\n",
    "Vectorizing we obtain a version that is faster and it is 'functional' as it works <br>\n",
    "It should converge around 200 episodes in soft or hard update\n",
    "\n",
    "The Double DQN (DDQN) uses two networks one as a target and one as the trained network <br>\n",
    "\n",
    "The target network is a copy of the online network that is updated less frequently, <br>\n",
    "and is used to generate the target values for the Q-learning update\n",
    "\n",
    "It includes a soft update of the weights, instead of substituting the weights between the networks it blends them together using a Polyak averaging This was an improvement on the pure DDQN algorithm\n",
    "\n",
    "It has room for improvement by modifying some of the hyperparameters. Try to obtain a shorter and more stable training convergence."
   ]
  },
  {
   "cell_type": "code",
   "execution_count": 1,
   "id": "548ece67",
   "metadata": {},
   "outputs": [
    {
     "name": "stderr",
     "output_type": "stream",
     "text": [
      "WARNING: All log messages before absl::InitializeLog() is called are written to STDERR\n",
      "E0000 00:00:1739201306.458663  453839 cuda_dnn.cc:8310] Unable to register cuDNN factory: Attempting to register factory for plugin cuDNN when one has already been registered\n",
      "E0000 00:00:1739201306.472296  453839 cuda_blas.cc:1418] Unable to register cuBLAS factory: Attempting to register factory for plugin cuBLAS when one has already been registered\n"
     ]
    }
   ],
   "source": [
    "import os\n",
    "os.environ['TF_CPP_MIN_LOG_LEVEL'] = '3'\n",
    "\n",
    "import gymnasium as gym\n",
    "import numpy as np\n",
    "from tensorflow.keras.models import Sequential, Model\n",
    "from tensorflow.keras.layers import Dense, Input\n",
    "from tensorflow.keras.optimizers import Adam\n",
    "import tensorflow as tf\n",
    "import matplotlib.pyplot as plt\n",
    "from collections import deque\n",
    "import random\n",
    "\n",
    "import time\n",
    "from PIL import Image\n",
    "\n",
    "import sys\n",
    "sys.stderr = open('err.txt', 'w')"
   ]
  },
  {
   "cell_type": "code",
   "execution_count": 2,
   "id": "862b2f37",
   "metadata": {},
   "outputs": [
    {
     "name": "stdout",
     "output_type": "stream",
     "text": [
      "Num GPUs Available:  0\n"
     ]
    }
   ],
   "source": [
    "# Activate GPU\n",
    "from tensorflow.python.client import device_lib\n",
    "from tensorflow.config import list_physical_devices\n",
    "print('Num GPUs Available: ',len(list_physical_devices('GPU')))\n",
    "devices = device_lib.list_local_devices()\n",
    "gpu_devices = [device for device in devices if device.device_type == 'GPU']\n",
    "for gpu in gpu_devices:\n",
    "    print('Using', gpu.physical_device_desc)"
   ]
  },
  {
   "cell_type": "markdown",
   "id": "3fe60191",
   "metadata": {},
   "source": [
    "#### **Environment setup**"
   ]
  },
  {
   "cell_type": "code",
   "execution_count": 3,
   "id": "f7f53745",
   "metadata": {},
   "outputs": [],
   "source": [
    "# GPU\n",
    "from tensorflow.python.client import device_lib\n",
    "devices = device_lib.list_local_devices()\n",
    "gpu_devices = [device for device in devices if device.device_type == 'GPU']\n",
    "for gpu in gpu_devices:\n",
    "    print('Using', gpu.physical_device_desc)"
   ]
  },
  {
   "cell_type": "code",
   "execution_count": 4,
   "id": "eb8cd8f6",
   "metadata": {},
   "outputs": [],
   "source": [
    "env = gym.make('LunarLander-v3')\n",
    "state_size = env.observation_space.shape[0]\n",
    "action_size = env.action_space.n\n"
   ]
  },
  {
   "cell_type": "markdown",
   "id": "a4e88cb4",
   "metadata": {},
   "source": [
    "#### **Hyperparameters**"
   ]
  },
  {
   "cell_type": "code",
   "execution_count": 5,
   "id": "7660da76",
   "metadata": {},
   "outputs": [],
   "source": [
    "max_steps = 1200\n",
    "max_episodes = 1200\n",
    "ROLLING_WINDOW = 40\n",
    "\n",
    "batch_size = 64\n",
    "gamma = 0.99                \n",
    "epsilon = 1.0\n",
    "epsilon_min = 0.01\n",
    "epsilon_decay = 0.99 \n",
    "learning_rate = 0.0005\n",
    "MEMORY_SIZE = 100000\n",
    "\n",
    "solved_threshold = 200\n",
    "\n",
    "tau = 0.05  \n",
    "retrain_steps_soft = 15            # We copy weights every retrain_steps \n",
    "                                   # Soft update, it is high for long retrain periods. Small for short retrain\n",
    "retrain_steps_hard = 1000\n",
    "UPDATE_SOFT = True                # if False then HARD UPDATE\n",
    "\n",
    "#lr: 0.0001 gamma 0.99 batch_size 128 tau  0.15 epsilon decay 0.99 retrain_steps  5"
   ]
  },
  {
   "cell_type": "markdown",
   "id": "65a7404f",
   "metadata": {},
   "source": [
    "#### **DDQN Agent Class**"
   ]
  },
  {
   "cell_type": "code",
   "execution_count": 6,
   "id": "b5fac61d",
   "metadata": {},
   "outputs": [],
   "source": [
    "class Agent_DDQN():\n",
    "    def __init__(self, states, actions, alpha, gamma, epsilon, tau, soft_flag):\n",
    "        self.nS = states\n",
    "        self.nA = actions\n",
    "        self.replay_buffer = deque([], maxlen=MEMORY_SIZE)\n",
    "        self.alpha = alpha\n",
    "        self_tau = tau\n",
    "        self.gamma = gamma\n",
    "        self.epsilon = epsilon\n",
    "        self.epsilon_min = epsilon_min\n",
    "        self.epsilon_decay = epsilon_decay\n",
    "        self.model        = self.build_NN(\"model\")\n",
    "        self.target_model = self.build_NN(\"target_model\")\n",
    "        self.target_model.set_weights(self.model.get_weights())\n",
    "        self.loss = []\n",
    "        self.counter_retrain_hard = 0\n",
    "        self.counter_retrain_soft = 0\n",
    "        self.soft_flag = soft_flag\n",
    "        print('DDWN strategy SOFT reset weights' if self.soft_flag else \"DDQN strategy HARD reset weights\")\n",
    "\n",
    "    def build_NN(self, name):\n",
    "        inputs = Input(shape=(state_size,), name=\"state_input\")\n",
    "        x = Dense(24, activation='relu', name=\"dense_1\")(inputs)\n",
    "        x = Dense(24, activation='relu', name=\"dense_2\")(x)\n",
    "        outputs = Dense(action_size, activation='linear', name=\"output_layer\")(x)\n",
    "        model = Model(inputs=inputs, outputs=outputs, name=name)\n",
    "        model.compile(loss='mse', optimizer=Adam(learning_rate=learning_rate))\n",
    "        model.summary()\n",
    "        return model\n",
    "\n",
    "    def action(self, state):\n",
    "        action_vals = self.model.predict(state, verbose=0) \n",
    "        return np.argmax(action_vals[0])\n",
    "    \n",
    "    def random_action(self):\n",
    "        return random.randrange(self.nA) #Explore\n",
    "    \n",
    "    def sample_experiences(self, batch_size):\n",
    "        indices = np.random.choice(len(self.replay_buffer), batch_size, replace=False)\n",
    "        batch = [self.replay_buffer[i] for i in indices]\n",
    "        states, actions, rewards, next_states, dones = zip(*batch)\n",
    "        return (\n",
    "            np.vstack(states),\n",
    "            np.array(actions),\n",
    "            np.array(rewards),\n",
    "            np.vstack(next_states),\n",
    "            np.array(dones, dtype=np.float32)\n",
    "            )\n",
    "    def store_experience(self, state, action, reward, next_state, done):             # memorize\n",
    "        self.replay_buffer.append((state, action, reward, next_state, done))\n",
    "    \n",
    "    def experience_replay_DDQN(self, batch_size):\n",
    "        if len(self.replay_buffer) < batch_size:\n",
    "            return\n",
    "        minibatch = random.sample(self.replay_buffer, batch_size)\n",
    "        states, actions, rewards, next_states, dones = self.sample_experiences(batch_size)\n",
    "        next_q_values = self.model.predict(next_states, verbose=0)\n",
    "        best_actions = np.argmax(next_q_values, axis=1)\n",
    "        target_q_values = self.target_model.predict(next_states, verbose=0)\n",
    "        \n",
    "        targets = rewards + gamma * target_q_values[np.arange(batch_size), best_actions] * (1 - dones)\n",
    "        \n",
    "        q_values = self.model.predict(states, verbose=0)\n",
    "        q_values[np.arange(batch_size), actions] = targets\n",
    "        self.model.fit(states, q_values, epochs=1, verbose=0)\n",
    "\n",
    "    # Apply weights updates\n",
    "        if self.soft_flag:\n",
    "            self.counter_retrain_soft += 1\n",
    "            if self.counter_retrain_soft % retrain_steps_soft == 0:   \n",
    "                self.soft_update(self.model, self.target_model)\n",
    "                self.counter_retrain_soft = 0\n",
    "        else:\n",
    "            self.counter_retrain_hard += 1\n",
    "            if self.counter_retrain_hard % retrain_steps_hard == 0:   \n",
    "                self.hard_update(model,target_model)\n",
    "                self.counter_retrain_hard = 0\n",
    "        \n",
    "        return\n",
    "\n",
    "\n",
    "    def soft_update(self, model, target_model):\n",
    "        target_weights = target_model.get_weights()\n",
    "        model_weights = model.get_weights()\n",
    "        new_weights = [\n",
    "            tau * mw + (1 - tau) * tw for mw, tw in zip(model_weights, target_weights)\n",
    "        ]\n",
    "        target_model.set_weights(new_weights)\n",
    "        return\n",
    "    \n",
    "    def hard_update(self, model, target_model):\n",
    "        target_weights = self.model.get_weights()\n",
    "        target_model.set_weights(target_weights)\n",
    "        return"
   ]
  },
  {
   "cell_type": "markdown",
   "id": "786f3afa",
   "metadata": {},
   "source": [
    "#### **Support Functions**"
   ]
  },
  {
   "cell_type": "code",
   "execution_count": 7,
   "id": "620a9a45",
   "metadata": {},
   "outputs": [],
   "source": [
    "def select_action_greedy(state, agent_DDQN): \n",
    "    \"\"\" Greedy action selection \"\"\"\n",
    "    if np.random.rand() <= epsilon:\n",
    "        return agent_DDQN.random_action()\n",
    "    return agent_DDQN.action(state) "
   ]
  },
  {
   "cell_type": "markdown",
   "id": "b862c4b3",
   "metadata": {},
   "source": [
    "#### **Initialize Agent**"
   ]
  },
  {
   "cell_type": "code",
   "execution_count": 8,
   "id": "fe6453f5",
   "metadata": {},
   "outputs": [
    {
     "data": {
      "text/html": [
       "<pre style=\"white-space:pre;overflow-x:auto;line-height:normal;font-family:Menlo,'DejaVu Sans Mono',consolas,'Courier New',monospace\"><span style=\"font-weight: bold\">Model: \"model\"</span>\n",
       "</pre>\n"
      ],
      "text/plain": [
       "\u001b[1mModel: \"model\"\u001b[0m\n"
      ]
     },
     "metadata": {},
     "output_type": "display_data"
    },
    {
     "data": {
      "text/html": [
       "<pre style=\"white-space:pre;overflow-x:auto;line-height:normal;font-family:Menlo,'DejaVu Sans Mono',consolas,'Courier New',monospace\">┏━━━━━━━━━━━━━━━━━━━━━━━━━━━━━━━━━┳━━━━━━━━━━━━━━━━━━━━━━━━┳━━━━━━━━━━━━━━━┓\n",
       "┃<span style=\"font-weight: bold\"> Layer (type)                    </span>┃<span style=\"font-weight: bold\"> Output Shape           </span>┃<span style=\"font-weight: bold\">       Param # </span>┃\n",
       "┡━━━━━━━━━━━━━━━━━━━━━━━━━━━━━━━━━╇━━━━━━━━━━━━━━━━━━━━━━━━╇━━━━━━━━━━━━━━━┩\n",
       "│ state_input (<span style=\"color: #0087ff; text-decoration-color: #0087ff\">InputLayer</span>)        │ (<span style=\"color: #00d7ff; text-decoration-color: #00d7ff\">None</span>, <span style=\"color: #00af00; text-decoration-color: #00af00\">8</span>)              │             <span style=\"color: #00af00; text-decoration-color: #00af00\">0</span> │\n",
       "├─────────────────────────────────┼────────────────────────┼───────────────┤\n",
       "│ dense_1 (<span style=\"color: #0087ff; text-decoration-color: #0087ff\">Dense</span>)                 │ (<span style=\"color: #00d7ff; text-decoration-color: #00d7ff\">None</span>, <span style=\"color: #00af00; text-decoration-color: #00af00\">24</span>)             │           <span style=\"color: #00af00; text-decoration-color: #00af00\">216</span> │\n",
       "├─────────────────────────────────┼────────────────────────┼───────────────┤\n",
       "│ dense_2 (<span style=\"color: #0087ff; text-decoration-color: #0087ff\">Dense</span>)                 │ (<span style=\"color: #00d7ff; text-decoration-color: #00d7ff\">None</span>, <span style=\"color: #00af00; text-decoration-color: #00af00\">24</span>)             │           <span style=\"color: #00af00; text-decoration-color: #00af00\">600</span> │\n",
       "├─────────────────────────────────┼────────────────────────┼───────────────┤\n",
       "│ output_layer (<span style=\"color: #0087ff; text-decoration-color: #0087ff\">Dense</span>)            │ (<span style=\"color: #00d7ff; text-decoration-color: #00d7ff\">None</span>, <span style=\"color: #00af00; text-decoration-color: #00af00\">4</span>)              │           <span style=\"color: #00af00; text-decoration-color: #00af00\">100</span> │\n",
       "└─────────────────────────────────┴────────────────────────┴───────────────┘\n",
       "</pre>\n"
      ],
      "text/plain": [
       "┏━━━━━━━━━━━━━━━━━━━━━━━━━━━━━━━━━┳━━━━━━━━━━━━━━━━━━━━━━━━┳━━━━━━━━━━━━━━━┓\n",
       "┃\u001b[1m \u001b[0m\u001b[1mLayer (type)                   \u001b[0m\u001b[1m \u001b[0m┃\u001b[1m \u001b[0m\u001b[1mOutput Shape          \u001b[0m\u001b[1m \u001b[0m┃\u001b[1m \u001b[0m\u001b[1m      Param #\u001b[0m\u001b[1m \u001b[0m┃\n",
       "┡━━━━━━━━━━━━━━━━━━━━━━━━━━━━━━━━━╇━━━━━━━━━━━━━━━━━━━━━━━━╇━━━━━━━━━━━━━━━┩\n",
       "│ state_input (\u001b[38;5;33mInputLayer\u001b[0m)        │ (\u001b[38;5;45mNone\u001b[0m, \u001b[38;5;34m8\u001b[0m)              │             \u001b[38;5;34m0\u001b[0m │\n",
       "├─────────────────────────────────┼────────────────────────┼───────────────┤\n",
       "│ dense_1 (\u001b[38;5;33mDense\u001b[0m)                 │ (\u001b[38;5;45mNone\u001b[0m, \u001b[38;5;34m24\u001b[0m)             │           \u001b[38;5;34m216\u001b[0m │\n",
       "├─────────────────────────────────┼────────────────────────┼───────────────┤\n",
       "│ dense_2 (\u001b[38;5;33mDense\u001b[0m)                 │ (\u001b[38;5;45mNone\u001b[0m, \u001b[38;5;34m24\u001b[0m)             │           \u001b[38;5;34m600\u001b[0m │\n",
       "├─────────────────────────────────┼────────────────────────┼───────────────┤\n",
       "│ output_layer (\u001b[38;5;33mDense\u001b[0m)            │ (\u001b[38;5;45mNone\u001b[0m, \u001b[38;5;34m4\u001b[0m)              │           \u001b[38;5;34m100\u001b[0m │\n",
       "└─────────────────────────────────┴────────────────────────┴───────────────┘\n"
      ]
     },
     "metadata": {},
     "output_type": "display_data"
    },
    {
     "data": {
      "text/html": [
       "<pre style=\"white-space:pre;overflow-x:auto;line-height:normal;font-family:Menlo,'DejaVu Sans Mono',consolas,'Courier New',monospace\"><span style=\"font-weight: bold\"> Total params: </span><span style=\"color: #00af00; text-decoration-color: #00af00\">916</span> (3.58 KB)\n",
       "</pre>\n"
      ],
      "text/plain": [
       "\u001b[1m Total params: \u001b[0m\u001b[38;5;34m916\u001b[0m (3.58 KB)\n"
      ]
     },
     "metadata": {},
     "output_type": "display_data"
    },
    {
     "data": {
      "text/html": [
       "<pre style=\"white-space:pre;overflow-x:auto;line-height:normal;font-family:Menlo,'DejaVu Sans Mono',consolas,'Courier New',monospace\"><span style=\"font-weight: bold\"> Trainable params: </span><span style=\"color: #00af00; text-decoration-color: #00af00\">916</span> (3.58 KB)\n",
       "</pre>\n"
      ],
      "text/plain": [
       "\u001b[1m Trainable params: \u001b[0m\u001b[38;5;34m916\u001b[0m (3.58 KB)\n"
      ]
     },
     "metadata": {},
     "output_type": "display_data"
    },
    {
     "data": {
      "text/html": [
       "<pre style=\"white-space:pre;overflow-x:auto;line-height:normal;font-family:Menlo,'DejaVu Sans Mono',consolas,'Courier New',monospace\"><span style=\"font-weight: bold\"> Non-trainable params: </span><span style=\"color: #00af00; text-decoration-color: #00af00\">0</span> (0.00 B)\n",
       "</pre>\n"
      ],
      "text/plain": [
       "\u001b[1m Non-trainable params: \u001b[0m\u001b[38;5;34m0\u001b[0m (0.00 B)\n"
      ]
     },
     "metadata": {},
     "output_type": "display_data"
    },
    {
     "data": {
      "text/html": [
       "<pre style=\"white-space:pre;overflow-x:auto;line-height:normal;font-family:Menlo,'DejaVu Sans Mono',consolas,'Courier New',monospace\"><span style=\"font-weight: bold\">Model: \"target_model\"</span>\n",
       "</pre>\n"
      ],
      "text/plain": [
       "\u001b[1mModel: \"target_model\"\u001b[0m\n"
      ]
     },
     "metadata": {},
     "output_type": "display_data"
    },
    {
     "data": {
      "text/html": [
       "<pre style=\"white-space:pre;overflow-x:auto;line-height:normal;font-family:Menlo,'DejaVu Sans Mono',consolas,'Courier New',monospace\">┏━━━━━━━━━━━━━━━━━━━━━━━━━━━━━━━━━┳━━━━━━━━━━━━━━━━━━━━━━━━┳━━━━━━━━━━━━━━━┓\n",
       "┃<span style=\"font-weight: bold\"> Layer (type)                    </span>┃<span style=\"font-weight: bold\"> Output Shape           </span>┃<span style=\"font-weight: bold\">       Param # </span>┃\n",
       "┡━━━━━━━━━━━━━━━━━━━━━━━━━━━━━━━━━╇━━━━━━━━━━━━━━━━━━━━━━━━╇━━━━━━━━━━━━━━━┩\n",
       "│ state_input (<span style=\"color: #0087ff; text-decoration-color: #0087ff\">InputLayer</span>)        │ (<span style=\"color: #00d7ff; text-decoration-color: #00d7ff\">None</span>, <span style=\"color: #00af00; text-decoration-color: #00af00\">8</span>)              │             <span style=\"color: #00af00; text-decoration-color: #00af00\">0</span> │\n",
       "├─────────────────────────────────┼────────────────────────┼───────────────┤\n",
       "│ dense_1 (<span style=\"color: #0087ff; text-decoration-color: #0087ff\">Dense</span>)                 │ (<span style=\"color: #00d7ff; text-decoration-color: #00d7ff\">None</span>, <span style=\"color: #00af00; text-decoration-color: #00af00\">24</span>)             │           <span style=\"color: #00af00; text-decoration-color: #00af00\">216</span> │\n",
       "├─────────────────────────────────┼────────────────────────┼───────────────┤\n",
       "│ dense_2 (<span style=\"color: #0087ff; text-decoration-color: #0087ff\">Dense</span>)                 │ (<span style=\"color: #00d7ff; text-decoration-color: #00d7ff\">None</span>, <span style=\"color: #00af00; text-decoration-color: #00af00\">24</span>)             │           <span style=\"color: #00af00; text-decoration-color: #00af00\">600</span> │\n",
       "├─────────────────────────────────┼────────────────────────┼───────────────┤\n",
       "│ output_layer (<span style=\"color: #0087ff; text-decoration-color: #0087ff\">Dense</span>)            │ (<span style=\"color: #00d7ff; text-decoration-color: #00d7ff\">None</span>, <span style=\"color: #00af00; text-decoration-color: #00af00\">4</span>)              │           <span style=\"color: #00af00; text-decoration-color: #00af00\">100</span> │\n",
       "└─────────────────────────────────┴────────────────────────┴───────────────┘\n",
       "</pre>\n"
      ],
      "text/plain": [
       "┏━━━━━━━━━━━━━━━━━━━━━━━━━━━━━━━━━┳━━━━━━━━━━━━━━━━━━━━━━━━┳━━━━━━━━━━━━━━━┓\n",
       "┃\u001b[1m \u001b[0m\u001b[1mLayer (type)                   \u001b[0m\u001b[1m \u001b[0m┃\u001b[1m \u001b[0m\u001b[1mOutput Shape          \u001b[0m\u001b[1m \u001b[0m┃\u001b[1m \u001b[0m\u001b[1m      Param #\u001b[0m\u001b[1m \u001b[0m┃\n",
       "┡━━━━━━━━━━━━━━━━━━━━━━━━━━━━━━━━━╇━━━━━━━━━━━━━━━━━━━━━━━━╇━━━━━━━━━━━━━━━┩\n",
       "│ state_input (\u001b[38;5;33mInputLayer\u001b[0m)        │ (\u001b[38;5;45mNone\u001b[0m, \u001b[38;5;34m8\u001b[0m)              │             \u001b[38;5;34m0\u001b[0m │\n",
       "├─────────────────────────────────┼────────────────────────┼───────────────┤\n",
       "│ dense_1 (\u001b[38;5;33mDense\u001b[0m)                 │ (\u001b[38;5;45mNone\u001b[0m, \u001b[38;5;34m24\u001b[0m)             │           \u001b[38;5;34m216\u001b[0m │\n",
       "├─────────────────────────────────┼────────────────────────┼───────────────┤\n",
       "│ dense_2 (\u001b[38;5;33mDense\u001b[0m)                 │ (\u001b[38;5;45mNone\u001b[0m, \u001b[38;5;34m24\u001b[0m)             │           \u001b[38;5;34m600\u001b[0m │\n",
       "├─────────────────────────────────┼────────────────────────┼───────────────┤\n",
       "│ output_layer (\u001b[38;5;33mDense\u001b[0m)            │ (\u001b[38;5;45mNone\u001b[0m, \u001b[38;5;34m4\u001b[0m)              │           \u001b[38;5;34m100\u001b[0m │\n",
       "└─────────────────────────────────┴────────────────────────┴───────────────┘\n"
      ]
     },
     "metadata": {},
     "output_type": "display_data"
    },
    {
     "data": {
      "text/html": [
       "<pre style=\"white-space:pre;overflow-x:auto;line-height:normal;font-family:Menlo,'DejaVu Sans Mono',consolas,'Courier New',monospace\"><span style=\"font-weight: bold\"> Total params: </span><span style=\"color: #00af00; text-decoration-color: #00af00\">916</span> (3.58 KB)\n",
       "</pre>\n"
      ],
      "text/plain": [
       "\u001b[1m Total params: \u001b[0m\u001b[38;5;34m916\u001b[0m (3.58 KB)\n"
      ]
     },
     "metadata": {},
     "output_type": "display_data"
    },
    {
     "data": {
      "text/html": [
       "<pre style=\"white-space:pre;overflow-x:auto;line-height:normal;font-family:Menlo,'DejaVu Sans Mono',consolas,'Courier New',monospace\"><span style=\"font-weight: bold\"> Trainable params: </span><span style=\"color: #00af00; text-decoration-color: #00af00\">916</span> (3.58 KB)\n",
       "</pre>\n"
      ],
      "text/plain": [
       "\u001b[1m Trainable params: \u001b[0m\u001b[38;5;34m916\u001b[0m (3.58 KB)\n"
      ]
     },
     "metadata": {},
     "output_type": "display_data"
    },
    {
     "data": {
      "text/html": [
       "<pre style=\"white-space:pre;overflow-x:auto;line-height:normal;font-family:Menlo,'DejaVu Sans Mono',consolas,'Courier New',monospace\"><span style=\"font-weight: bold\"> Non-trainable params: </span><span style=\"color: #00af00; text-decoration-color: #00af00\">0</span> (0.00 B)\n",
       "</pre>\n"
      ],
      "text/plain": [
       "\u001b[1m Non-trainable params: \u001b[0m\u001b[38;5;34m0\u001b[0m (0.00 B)\n"
      ]
     },
     "metadata": {},
     "output_type": "display_data"
    },
    {
     "name": "stdout",
     "output_type": "stream",
     "text": [
      "DDWN strategy SOFT reset weights\n"
     ]
    }
   ],
   "source": [
    "envCartPole = gym.make('LunarLander-v3')\n",
    "state_size = env.observation_space.shape[0]\n",
    "action_size = env.action_space.n\n",
    "\n",
    "agent = Agent_DDQN(state_size, action_size, learning_rate, gamma, epsilon, tau, UPDATE_SOFT)"
   ]
  },
  {
   "cell_type": "markdown",
   "id": "61447319",
   "metadata": {},
   "source": [
    "#### **Training Phase**"
   ]
  },
  {
   "cell_type": "code",
   "execution_count": 9,
   "id": "8617a95f",
   "metadata": {
    "scrolled": false
   },
   "outputs": [
    {
     "name": "stdout",
     "output_type": "stream",
     "text": [
      "Episode:   1/1200, Reward:   -91.24, Epsilon: 0.99, Rolling Avg:  -91.24, Steps:  118, Terminated: True \n",
      "Episode:   2/1200, Reward:   -96.42, Epsilon: 0.98, Rolling Avg:  -93.83, Steps:   65, Terminated: True \n",
      "Episode:   3/1200, Reward:  -203.83, Epsilon: 0.97, Rolling Avg: -130.50, Steps:   71, Terminated: True \n",
      "Episode:   4/1200, Reward:  -430.44, Epsilon: 0.96, Rolling Avg: -205.48, Steps:  106, Terminated: True \n",
      "Episode:   5/1200, Reward:  -143.55, Epsilon: 0.95, Rolling Avg: -193.09, Steps:   66, Terminated: True \n",
      "Episode:   6/1200, Reward:   -76.39, Epsilon: 0.94, Rolling Avg: -173.64, Steps:   74, Terminated: True \n",
      "Episode:   7/1200, Reward:  -136.89, Epsilon: 0.93, Rolling Avg: -168.39, Steps:  103, Terminated: True \n",
      "Episode:   8/1200, Reward:  -270.08, Epsilon: 0.92, Rolling Avg: -181.10, Steps:   72, Terminated: True \n",
      "Episode:   9/1200, Reward:  -106.00, Epsilon: 0.91, Rolling Avg: -172.76, Steps:  119, Terminated: True \n",
      "Episode:  10/1200, Reward:  -254.11, Epsilon: 0.90, Rolling Avg: -180.89, Steps:   82, Terminated: True \n",
      "Episode:  11/1200, Reward:   +37.74, Epsilon: 0.90, Rolling Avg: -161.02, Steps:  114, Terminated: True \n",
      "Episode:  12/1200, Reward:  -124.60, Epsilon: 0.89, Rolling Avg: -157.98, Steps:   76, Terminated: True \n",
      "Episode:  13/1200, Reward:   -24.28, Epsilon: 0.88, Rolling Avg: -147.70, Steps:  139, Terminated: True \n",
      "Episode:  14/1200, Reward:  -159.87, Epsilon: 0.87, Rolling Avg: -148.57, Steps:   83, Terminated: True \n",
      "Episode:  15/1200, Reward:  -191.49, Epsilon: 0.86, Rolling Avg: -151.43, Steps:   98, Terminated: True \n",
      "Episode:  16/1200, Reward:  -212.11, Epsilon: 0.85, Rolling Avg: -155.22, Steps:   67, Terminated: True \n",
      "Episode:  17/1200, Reward:  -270.29, Epsilon: 0.84, Rolling Avg: -161.99, Steps:  118, Terminated: True \n",
      "Episode:  18/1200, Reward:  -318.03, Epsilon: 0.83, Rolling Avg: -170.66, Steps:  117, Terminated: True \n",
      "Episode:  19/1200, Reward:  -278.78, Epsilon: 0.83, Rolling Avg: -176.35, Steps:  131, Terminated: True \n",
      "Episode:  20/1200, Reward:  -182.38, Epsilon: 0.82, Rolling Avg: -176.65, Steps:   73, Terminated: True \n",
      "Episode:  21/1200, Reward:  -133.03, Epsilon: 0.81, Rolling Avg: -174.57, Steps:   86, Terminated: True \n",
      "Episode:  22/1200, Reward:   -46.37, Epsilon: 0.80, Rolling Avg: -168.75, Steps:  123, Terminated: True \n",
      "Episode:  23/1200, Reward:  -155.61, Epsilon: 0.79, Rolling Avg: -168.18, Steps:   81, Terminated: True \n",
      "Episode:  24/1200, Reward:  -353.98, Epsilon: 0.79, Rolling Avg: -175.92, Steps:  114, Terminated: True \n",
      "Episode:  25/1200, Reward:   -97.45, Epsilon: 0.78, Rolling Avg: -172.78, Steps:  106, Terminated: True \n",
      "Episode:  26/1200, Reward:   -93.07, Epsilon: 0.77, Rolling Avg: -169.71, Steps:   74, Terminated: True \n",
      "Episode:  27/1200, Reward:   -80.97, Epsilon: 0.76, Rolling Avg: -166.43, Steps:   98, Terminated: True \n",
      "Episode:  28/1200, Reward:  -134.80, Epsilon: 0.75, Rolling Avg: -165.30, Steps:  110, Terminated: True \n",
      "Episode:  29/1200, Reward:   -53.31, Epsilon: 0.75, Rolling Avg: -161.44, Steps:  142, Terminated: True \n",
      "Episode:  30/1200, Reward:  -120.60, Epsilon: 0.74, Rolling Avg: -160.07, Steps:  138, Terminated: True \n",
      "Episode:  31/1200, Reward:  -561.34, Epsilon: 0.73, Rolling Avg: -173.02, Steps:  148, Terminated: True \n",
      "Episode:  32/1200, Reward:  -157.53, Epsilon: 0.72, Rolling Avg: -172.53, Steps:   93, Terminated: True \n",
      "Episode:  33/1200, Reward:  -107.26, Epsilon: 0.72, Rolling Avg: -170.56, Steps:  101, Terminated: True \n",
      "Episode:  34/1200, Reward:  -343.50, Epsilon: 0.71, Rolling Avg: -175.64, Steps:  156, Terminated: True \n",
      "Episode:  35/1200, Reward:  -194.92, Epsilon: 0.70, Rolling Avg: -176.19, Steps:   87, Terminated: True \n",
      "Episode:  36/1200, Reward:   -65.40, Epsilon: 0.70, Rolling Avg: -173.12, Steps:   78, Terminated: True \n",
      "Episode:  37/1200, Reward:  -108.32, Epsilon: 0.69, Rolling Avg: -171.36, Steps:   91, Terminated: True \n",
      "Episode:  38/1200, Reward:  -102.25, Epsilon: 0.68, Rolling Avg: -169.55, Steps:  128, Terminated: True \n",
      "Episode:  39/1200, Reward:  -189.94, Epsilon: 0.68, Rolling Avg: -170.07, Steps:  142, Terminated: True \n",
      "Episode:  40/1200, Reward:  -369.89, Epsilon: 0.67, Rolling Avg: -175.06, Steps:  170, Terminated: True \n",
      "Episode:  41/1200, Reward:  -260.14, Epsilon: 0.66, Rolling Avg: -179.29, Steps:  126, Terminated: True \n",
      "Episode:  42/1200, Reward:  -157.29, Epsilon: 0.66, Rolling Avg: -180.81, Steps:  170, Terminated: True \n",
      "Episode:  43/1200, Reward:    -8.19, Epsilon: 0.65, Rolling Avg: -175.92, Steps:  134, Terminated: True \n",
      "Episode:  44/1200, Reward:   -63.67, Epsilon: 0.64, Rolling Avg: -166.75, Steps:  154, Terminated: True \n",
      "Episode:  45/1200, Reward:   -59.42, Epsilon: 0.64, Rolling Avg: -164.65, Steps:  102, Terminated: True \n",
      "Episode:  46/1200, Reward:  -142.46, Epsilon: 0.63, Rolling Avg: -166.30, Steps:  171, Terminated: True \n",
      "Episode:  47/1200, Reward:  -115.47, Epsilon: 0.62, Rolling Avg: -165.76, Steps:  142, Terminated: True \n",
      "Episode:  48/1200, Reward:   -42.93, Epsilon: 0.62, Rolling Avg: -160.08, Steps:  123, Terminated: True \n",
      "Episode:  49/1200, Reward:  -113.49, Epsilon: 0.61, Rolling Avg: -160.27, Steps:   71, Terminated: True \n",
      "Episode:  50/1200, Reward:  -204.92, Epsilon: 0.61, Rolling Avg: -159.04, Steps:  458, Terminated: True \n",
      "Episode:  51/1200, Reward:   -90.14, Epsilon: 0.60, Rolling Avg: -162.24, Steps:   74, Terminated: True \n",
      "Episode:  52/1200, Reward:   -59.57, Epsilon: 0.59, Rolling Avg: -160.61, Steps:  207, Terminated: True \n",
      "Episode:  53/1200, Reward:  -120.73, Epsilon: 0.59, Rolling Avg: -163.02, Steps:  107, Terminated: True \n",
      "Episode:  54/1200, Reward:   -72.02, Epsilon: 0.58, Rolling Avg: -160.83, Steps:  106, Terminated: True \n",
      "Episode:  55/1200, Reward:   -84.16, Epsilon: 0.58, Rolling Avg: -158.14, Steps:  161, Terminated: True \n",
      "Episode:  56/1200, Reward:   -39.01, Epsilon: 0.57, Rolling Avg: -153.82, Steps:  148, Terminated: True \n",
      "Episode:  57/1200, Reward:   -16.58, Epsilon: 0.56, Rolling Avg: -147.47, Steps:  306, Terminated: True \n",
      "Episode:  58/1200, Reward:   -55.68, Epsilon: 0.56, Rolling Avg: -140.91, Steps:  136, Terminated: True \n",
      "Episode:  59/1200, Reward:   -89.75, Epsilon: 0.55, Rolling Avg: -136.19, Steps:  224, Terminated: True \n",
      "Episode:  60/1200, Reward:   -43.10, Epsilon: 0.55, Rolling Avg: -132.71, Steps:  135, Terminated: True \n",
      "Episode:  61/1200, Reward:   -35.86, Epsilon: 0.54, Rolling Avg: -130.28, Steps:   81, Terminated: True \n",
      "Episode:  62/1200, Reward:   -83.19, Epsilon: 0.54, Rolling Avg: -131.20, Steps:  163, Terminated: True \n",
      "Episode:  63/1200, Reward:   -37.19, Epsilon: 0.53, Rolling Avg: -128.24, Steps:  155, Terminated: True \n",
      "Episode:  64/1200, Reward:  -240.23, Epsilon: 0.53, Rolling Avg: -125.39, Steps:  112, Terminated: True \n",
      "Episode:  65/1200, Reward:   -51.95, Epsilon: 0.52, Rolling Avg: -124.26, Steps:  301, Terminated: True \n",
      "Episode:  66/1200, Reward:   -86.89, Epsilon: 0.52, Rolling Avg: -124.10, Steps:  217, Terminated: True \n",
      "Episode:  67/1200, Reward:  -225.44, Epsilon: 0.51, Rolling Avg: -127.71, Steps:  146, Terminated: True \n",
      "Episode:  68/1200, Reward:  -241.22, Epsilon: 0.50, Rolling Avg: -130.37, Steps:  298, Terminated: True \n",
      "Episode:  69/1200, Reward:   -55.12, Epsilon: 0.50, Rolling Avg: -130.42, Steps:  230, Terminated: True \n",
      "Episode:  70/1200, Reward:   -34.77, Epsilon: 0.49, Rolling Avg: -128.27, Steps:  206, Terminated: True \n",
      "Episode:  71/1200, Reward:  -115.16, Epsilon: 0.49, Rolling Avg: -117.12, Steps:  222, Terminated: True \n",
      "Episode:  72/1200, Reward:   -87.61, Epsilon: 0.48, Rolling Avg: -115.37, Steps:  231, Terminated: True \n",
      "Episode:  73/1200, Reward:   +31.22, Epsilon: 0.48, Rolling Avg: -111.91, Steps:  162, Terminated: True \n",
      "Episode:  74/1200, Reward:   -85.64, Epsilon: 0.48, Rolling Avg: -105.46, Steps:  161, Terminated: True \n",
      "Episode:  75/1200, Reward:   +45.24, Epsilon: 0.47, Rolling Avg:  -99.46, Steps:  140, Terminated: True \n",
      "Episode:  76/1200, Reward:    -4.03, Epsilon: 0.47, Rolling Avg:  -97.92, Steps:  234, Terminated: True \n",
      "Episode:  77/1200, Reward:  -225.38, Epsilon: 0.46, Rolling Avg: -100.85, Steps:  503, Terminated: True \n",
      "Episode:  78/1200, Reward:  -268.10, Epsilon: 0.46, Rolling Avg: -105.00, Steps:  202, Terminated: True \n",
      "Episode:  79/1200, Reward:  -107.11, Epsilon: 0.45, Rolling Avg: -102.93, Steps:  139, Terminated: True \n",
      "Episode:  80/1200, Reward:    +9.81, Epsilon: 0.45, Rolling Avg:  -93.43, Steps:  270, Terminated: True \n",
      "Episode:  81/1200, Reward:  -101.28, Epsilon: 0.44, Rolling Avg:  -89.46, Steps:  274, Terminated: True \n",
      "Episode:  82/1200, Reward:  -175.95, Epsilon: 0.44, Rolling Avg:  -89.93, Steps:  818, Terminated: True \n",
      "Episode:  83/1200, Reward:   -48.26, Epsilon: 0.43, Rolling Avg:  -90.93, Steps: 1200, Terminated: False \n",
      "Episode:  84/1200, Reward:    -5.64, Epsilon: 0.43, Rolling Avg:  -89.48, Steps:  247, Terminated: True \n",
      "Episode:  85/1200, Reward:  -110.72, Epsilon: 0.43, Rolling Avg:  -90.76, Steps:   87, Terminated: True \n",
      "Episode:  86/1200, Reward:   -31.72, Epsilon: 0.42, Rolling Avg:  -87.99, Steps:  247, Terminated: True \n",
      "Episode:  87/1200, Reward:  -277.78, Epsilon: 0.42, Rolling Avg:  -92.05, Steps: 1113, Terminated: True \n",
      "Episode:  88/1200, Reward:   -85.97, Epsilon: 0.41, Rolling Avg:  -93.13, Steps: 1200, Terminated: False \n",
      "Episode:  89/1200, Reward:   -18.48, Epsilon: 0.41, Rolling Avg:  -90.75, Steps: 1200, Terminated: False \n",
      "Episode:  90/1200, Reward:   +25.40, Epsilon: 0.40, Rolling Avg:  -84.99, Steps:  120, Terminated: True \n",
      "Episode:  91/1200, Reward:   -31.84, Epsilon: 0.40, Rolling Avg:  -83.54, Steps: 1200, Terminated: False \n",
      "Episode:  92/1200, Reward:   +22.56, Epsilon: 0.40, Rolling Avg:  -81.48, Steps:  244, Terminated: True \n",
      "Episode:  93/1200, Reward:   +12.74, Epsilon: 0.39, Rolling Avg:  -78.15, Steps:  188, Terminated: True \n",
      "Episode:  94/1200, Reward:  -145.16, Epsilon: 0.39, Rolling Avg:  -79.97, Steps:  126, Terminated: True \n",
      "Episode:  95/1200, Reward:   -11.11, Epsilon: 0.38, Rolling Avg:  -78.15, Steps:  181, Terminated: True \n",
      "Episode:  96/1200, Reward:   -99.84, Epsilon: 0.38, Rolling Avg:  -79.67, Steps:  221, Terminated: True \n",
      "Episode:  97/1200, Reward:   -74.93, Epsilon: 0.38, Rolling Avg:  -81.13, Steps: 1200, Terminated: False \n",
      "Episode:  98/1200, Reward:   -89.97, Epsilon: 0.37, Rolling Avg:  -81.99, Steps:  197, Terminated: True \n",
      "Episode:  99/1200, Reward:   -92.96, Epsilon: 0.37, Rolling Avg:  -82.07, Steps: 1200, Terminated: False \n",
      "Episode: 100/1200, Reward:   -70.96, Epsilon: 0.37, Rolling Avg:  -82.76, Steps: 1200, Terminated: False \n",
      "Episode: 101/1200, Reward:   -22.26, Epsilon: 0.36, Rolling Avg:  -82.42, Steps:  202, Terminated: True \n",
      "Episode: 102/1200, Reward:   -21.61, Epsilon: 0.36, Rolling Avg:  -80.88, Steps:  132, Terminated: True \n",
      "Episode: 103/1200, Reward:  -127.17, Epsilon: 0.36, Rolling Avg:  -83.13, Steps: 1200, Terminated: False \n",
      "Episode: 104/1200, Reward:   -14.49, Epsilon: 0.35, Rolling Avg:  -77.49, Steps:  111, Terminated: True \n",
      "Episode: 105/1200, Reward:  -102.49, Epsilon: 0.35, Rolling Avg:  -78.75, Steps: 1200, Terminated: False \n",
      "Episode: 106/1200, Reward:   -20.76, Epsilon: 0.34, Rolling Avg:  -77.10, Steps: 1200, Terminated: False \n",
      "Episode: 107/1200, Reward:  -306.16, Epsilon: 0.34, Rolling Avg:  -79.12, Steps:  734, Terminated: True \n",
      "Episode: 108/1200, Reward:   -93.07, Epsilon: 0.34, Rolling Avg:  -75.41, Steps: 1200, Terminated: False \n",
      "Episode: 109/1200, Reward:   -13.26, Epsilon: 0.33, Rolling Avg:  -74.37, Steps: 1200, Terminated: False \n",
      "Episode: 110/1200, Reward:  -124.24, Epsilon: 0.33, Rolling Avg:  -76.60, Steps: 1200, Terminated: False \n",
      "Episode: 111/1200, Reward:   -14.75, Epsilon: 0.33, Rolling Avg:  -74.09, Steps: 1200, Terminated: False \n",
      "Episode: 112/1200, Reward:    +8.21, Epsilon: 0.32, Rolling Avg:  -71.70, Steps: 1200, Terminated: False \n",
      "Episode: 113/1200, Reward:   +56.25, Epsilon: 0.32, Rolling Avg:  -71.07, Steps: 1200, Terminated: False \n",
      "Episode: 114/1200, Reward:   -37.41, Epsilon: 0.32, Rolling Avg:  -69.87, Steps:  146, Terminated: True \n",
      "Episode: 115/1200, Reward:  -229.75, Epsilon: 0.31, Rolling Avg:  -76.74, Steps:  409, Terminated: True \n",
      "Episode: 116/1200, Reward:   -64.85, Epsilon: 0.31, Rolling Avg:  -78.26, Steps:  260, Terminated: True \n",
      "Episode: 117/1200, Reward:   -82.98, Epsilon: 0.31, Rolling Avg:  -74.70, Steps:  338, Terminated: True \n",
      "Episode: 118/1200, Reward:  -213.67, Epsilon: 0.31, Rolling Avg:  -73.34, Steps:  596, Terminated: True \n",
      "Episode: 119/1200, Reward:   +93.73, Epsilon: 0.30, Rolling Avg:  -68.32, Steps: 1200, Terminated: False \n",
      "Episode: 120/1200, Reward:   +84.98, Epsilon: 0.30, Rolling Avg:  -66.44, Steps:  919, Terminated: True \n",
      "Episode: 121/1200, Reward:  +162.02, Epsilon: 0.30, Rolling Avg:  -59.86, Steps:  783, Terminated: True \n",
      "Episode: 122/1200, Reward:   -48.99, Epsilon: 0.29, Rolling Avg:  -56.68, Steps:  215, Terminated: True \n",
      "Episode: 123/1200, Reward:   +35.63, Epsilon: 0.29, Rolling Avg:  -54.59, Steps: 1200, Terminated: False \n",
      "Episode: 124/1200, Reward:   -56.29, Epsilon: 0.29, Rolling Avg:  -55.85, Steps:  459, Terminated: True \n",
      "Episode: 125/1200, Reward:   -78.98, Epsilon: 0.28, Rolling Avg:  -55.06, Steps:  244, Terminated: True \n",
      "Episode: 126/1200, Reward:   +38.59, Epsilon: 0.28, Rolling Avg:  -53.30, Steps: 1200, Terminated: False \n",
      "Episode: 127/1200, Reward:   -16.17, Epsilon: 0.28, Rolling Avg:  -46.76, Steps: 1200, Terminated: False \n",
      "Episode: 128/1200, Reward:  +118.06, Epsilon: 0.28, Rolling Avg:  -41.66, Steps: 1128, Terminated: True \n",
      "Episode: 129/1200, Reward:   +22.54, Epsilon: 0.27, Rolling Avg:  -40.63, Steps: 1200, Terminated: False \n",
      "Episode: 130/1200, Reward:   -29.48, Epsilon: 0.27, Rolling Avg:  -42.01, Steps: 1200, Terminated: False \n",
      "Episode: 131/1200, Reward:   +26.20, Epsilon: 0.27, Rolling Avg:  -40.56, Steps: 1200, Terminated: False \n",
      "Episode: 132/1200, Reward:   -71.10, Epsilon: 0.27, Rolling Avg:  -42.90, Steps:  601, Terminated: True \n",
      "Episode: 133/1200, Reward:  -105.63, Epsilon: 0.26, Rolling Avg:  -45.86, Steps: 1200, Terminated: False \n",
      "Episode: 134/1200, Reward:   +52.12, Epsilon: 0.26, Rolling Avg:  -40.92, Steps: 1200, Terminated: False \n",
      "Episode: 135/1200, Reward:   +32.64, Epsilon: 0.26, Rolling Avg:  -39.83, Steps: 1200, Terminated: False \n",
      "Episode: 136/1200, Reward:  +118.21, Epsilon: 0.25, Rolling Avg:  -34.38, Steps: 1160, Terminated: True \n",
      "Episode: 137/1200, Reward:   +47.37, Epsilon: 0.25, Rolling Avg:  -31.32, Steps: 1200, Terminated: False \n",
      "Episode: 138/1200, Reward:   +51.67, Epsilon: 0.25, Rolling Avg:  -27.78, Steps: 1200, Terminated: False \n",
      "Episode: 139/1200, Reward:  +143.43, Epsilon: 0.25, Rolling Avg:  -21.87, Steps:  890, Terminated: True \n",
      "Episode: 140/1200, Reward:   +70.97, Epsilon: 0.24, Rolling Avg:  -18.32, Steps: 1200, Terminated: False \n",
      "Episode: 141/1200, Reward:    -2.23, Epsilon: 0.24, Rolling Avg:  -17.82, Steps: 1200, Terminated: False \n",
      "Episode: 142/1200, Reward:   -27.49, Epsilon: 0.24, Rolling Avg:  -17.97, Steps: 1200, Terminated: False \n",
      "Episode: 143/1200, Reward:   +90.07, Epsilon: 0.24, Rolling Avg:  -12.54, Steps: 1200, Terminated: False \n",
      "Episode: 144/1200, Reward:   +34.51, Epsilon: 0.24, Rolling Avg:  -11.31, Steps:  123, Terminated: True \n",
      "Episode: 145/1200, Reward:    +3.77, Epsilon: 0.23, Rolling Avg:   -8.66, Steps: 1200, Terminated: False \n",
      "Episode: 146/1200, Reward:   -83.89, Epsilon: 0.23, Rolling Avg:  -10.24, Steps:  162, Terminated: True \n",
      "Episode: 147/1200, Reward:   +88.00, Epsilon: 0.23, Rolling Avg:   -0.38, Steps: 1200, Terminated: False \n",
      "Episode: 148/1200, Reward:   +12.57, Epsilon: 0.23, Rolling Avg:    2.26, Steps:  105, Terminated: True \n",
      "Episode: 149/1200, Reward:   -59.58, Epsilon: 0.22, Rolling Avg:    1.10, Steps:  412, Terminated: True \n",
      "Episode: 150/1200, Reward:   +45.34, Epsilon: 0.22, Rolling Avg:    5.34, Steps: 1200, Terminated: False \n",
      "Episode: 151/1200, Reward:   +19.05, Epsilon: 0.22, Rolling Avg:    6.19, Steps: 1200, Terminated: False \n",
      "Episode: 152/1200, Reward:   +39.03, Epsilon: 0.22, Rolling Avg:    6.96, Steps: 1200, Terminated: False \n",
      "Episode: 153/1200, Reward:  +159.76, Epsilon: 0.21, Rolling Avg:    9.54, Steps: 1025, Terminated: True \n",
      "Episode: 154/1200, Reward:   +58.96, Epsilon: 0.21, Rolling Avg:   11.95, Steps: 1200, Terminated: False \n",
      "Episode: 155/1200, Reward:    +7.19, Epsilon: 0.21, Rolling Avg:   17.88, Steps: 1200, Terminated: False \n",
      "Episode: 156/1200, Reward:  +114.44, Epsilon: 0.21, Rolling Avg:   22.36, Steps: 1200, Terminated: False \n",
      "Episode: 157/1200, Reward:   +25.18, Epsilon: 0.21, Rolling Avg:   25.06, Steps: 1200, Terminated: False \n",
      "Episode: 158/1200, Reward:  +263.19, Epsilon: 0.20, Rolling Avg:   36.98, Steps:  500, Terminated: True \n",
      "Episode: 159/1200, Reward:  -289.23, Epsilon: 0.20, Rolling Avg:   27.41, Steps:  810, Terminated: True \n",
      "Episode: 160/1200, Reward:   +85.20, Epsilon: 0.20, Rolling Avg:   27.42, Steps: 1200, Terminated: False \n",
      "Episode: 161/1200, Reward:  +121.02, Epsilon: 0.20, Rolling Avg:   26.39, Steps: 1200, Terminated: False \n",
      "Episode: 162/1200, Reward:   +92.92, Epsilon: 0.20, Rolling Avg:   29.94, Steps: 1200, Terminated: False \n",
      "Episode: 163/1200, Reward:  -212.77, Epsilon: 0.19, Rolling Avg:   23.73, Steps:  410, Terminated: True \n",
      "Episode: 164/1200, Reward:   +39.55, Epsilon: 0.19, Rolling Avg:   26.12, Steps: 1200, Terminated: False \n",
      "Episode: 165/1200, Reward:   +18.93, Epsilon: 0.19, Rolling Avg:   28.57, Steps: 1200, Terminated: False \n",
      "Episode: 166/1200, Reward:   +79.13, Epsilon: 0.19, Rolling Avg:   29.59, Steps: 1200, Terminated: False \n",
      "Episode: 167/1200, Reward:  +251.44, Epsilon: 0.19, Rolling Avg:   36.28, Steps:  439, Terminated: True \n",
      "Episode: 168/1200, Reward:  +276.93, Epsilon: 0.18, Rolling Avg:   40.25, Steps:  466, Terminated: True \n",
      "Episode: 169/1200, Reward:  +249.34, Epsilon: 0.18, Rolling Avg:   45.92, Steps:  835, Terminated: True \n",
      "Episode: 170/1200, Reward:   +59.80, Epsilon: 0.18, Rolling Avg:   48.15, Steps: 1200, Terminated: False \n",
      "Episode: 171/1200, Reward:  +164.75, Epsilon: 0.18, Rolling Avg:   51.61, Steps:  778, Terminated: True \n",
      "Episode: 172/1200, Reward:  +236.83, Epsilon: 0.18, Rolling Avg:   59.31, Steps:  517, Terminated: True \n",
      "Episode: 173/1200, Reward:  +307.67, Epsilon: 0.18, Rolling Avg:   69.64, Steps:  366, Terminated: True \n",
      "Episode: 174/1200, Reward:   +45.75, Epsilon: 0.17, Rolling Avg:   69.49, Steps: 1200, Terminated: False \n",
      "Episode: 175/1200, Reward:  +108.56, Epsilon: 0.17, Rolling Avg:   71.38, Steps: 1200, Terminated: False \n",
      "Episode: 176/1200, Reward:   +76.17, Epsilon: 0.17, Rolling Avg:   70.33, Steps: 1200, Terminated: False \n",
      "Episode: 177/1200, Reward:  +263.92, Epsilon: 0.17, Rolling Avg:   75.75, Steps:  443, Terminated: True \n",
      "Episode: 178/1200, Reward:   +70.15, Epsilon: 0.17, Rolling Avg:   76.21, Steps: 1200, Terminated: False \n",
      "Episode: 179/1200, Reward:   +48.95, Epsilon: 0.17, Rolling Avg:   73.85, Steps: 1200, Terminated: False \n",
      "Episode: 180/1200, Reward:   +64.32, Epsilon: 0.16, Rolling Avg:   73.68, Steps: 1200, Terminated: False \n",
      "Episode: 181/1200, Reward:  +137.22, Epsilon: 0.16, Rolling Avg:   77.17, Steps: 1181, Terminated: True \n",
      "Episode: 182/1200, Reward:  +192.75, Epsilon: 0.16, Rolling Avg:   82.67, Steps:  760, Terminated: True \n",
      "Episode: 183/1200, Reward:  +168.80, Epsilon: 0.16, Rolling Avg:   84.64, Steps:  892, Terminated: True \n",
      "Episode: 184/1200, Reward:   +48.08, Epsilon: 0.16, Rolling Avg:   84.98, Steps: 1200, Terminated: False \n",
      "Episode: 185/1200, Reward:   +71.98, Epsilon: 0.16, Rolling Avg:   86.68, Steps: 1200, Terminated: False \n",
      "Episode: 186/1200, Reward:  +212.82, Epsilon: 0.15, Rolling Avg:   94.10, Steps:  607, Terminated: True \n",
      "Episode: 187/1200, Reward:  +240.70, Epsilon: 0.15, Rolling Avg:   97.92, Steps:  447, Terminated: True \n",
      "Episode: 188/1200, Reward:  +174.52, Epsilon: 0.15, Rolling Avg:  101.97, Steps: 1164, Terminated: True \n",
      "Episode: 189/1200, Reward:  +185.82, Epsilon: 0.15, Rolling Avg:  108.10, Steps:  710, Terminated: True \n",
      "Episode: 190/1200, Reward:  +105.74, Epsilon: 0.15, Rolling Avg:  109.61, Steps: 1200, Terminated: False \n",
      "Episode: 191/1200, Reward:  +216.44, Epsilon: 0.15, Rolling Avg:  114.55, Steps:  504, Terminated: True \n",
      "Episode: 192/1200, Reward:  +238.57, Epsilon: 0.15, Rolling Avg:  119.54, Steps:  437, Terminated: True \n",
      "Episode: 193/1200, Reward:  +156.86, Epsilon: 0.14, Rolling Avg:  119.46, Steps:  581, Terminated: True \n",
      "Episode: 194/1200, Reward:  +147.97, Epsilon: 0.14, Rolling Avg:  121.69, Steps: 1115, Terminated: True \n",
      "Episode: 195/1200, Reward:  +271.15, Epsilon: 0.14, Rolling Avg:  128.29, Steps:  561, Terminated: True \n",
      "Episode: 196/1200, Reward:  +171.61, Epsilon: 0.14, Rolling Avg:  129.72, Steps:  723, Terminated: True \n",
      "Episode: 197/1200, Reward:  +171.29, Epsilon: 0.14, Rolling Avg:  133.37, Steps: 1065, Terminated: True \n",
      "Episode: 198/1200, Reward:  +179.03, Epsilon: 0.14, Rolling Avg:  131.27, Steps:  899, Terminated: True \n",
      "Episode: 199/1200, Reward:  +178.60, Epsilon: 0.14, Rolling Avg:  142.96, Steps:  662, Terminated: True \n",
      "Episode: 200/1200, Reward:  +169.48, Epsilon: 0.13, Rolling Avg:  145.07, Steps:  763, Terminated: True \n",
      "Episode: 201/1200, Reward:  +153.23, Epsilon: 0.13, Rolling Avg:  145.88, Steps: 1045, Terminated: True \n",
      "Episode: 202/1200, Reward:  +216.16, Epsilon: 0.13, Rolling Avg:  148.96, Steps:  590, Terminated: True \n",
      "Episode: 203/1200, Reward:  +210.24, Epsilon: 0.13, Rolling Avg:  159.53, Steps:  543, Terminated: True \n",
      "Episode: 204/1200, Reward:  +188.41, Epsilon: 0.13, Rolling Avg:  163.25, Steps:  588, Terminated: True \n",
      "Episode: 205/1200, Reward:   -25.30, Epsilon: 0.13, Rolling Avg:  162.15, Steps:  203, Terminated: True \n",
      "Episode: 206/1200, Reward:  -219.20, Epsilon: 0.13, Rolling Avg:  154.69, Steps:  142, Terminated: True \n",
      "Episode: 207/1200, Reward:  +149.36, Epsilon: 0.12, Rolling Avg:  152.14, Steps:  710, Terminated: True \n",
      "Episode: 208/1200, Reward:  +154.25, Epsilon: 0.12, Rolling Avg:  149.07, Steps:  952, Terminated: True \n",
      "Episode: 209/1200, Reward:  +222.15, Epsilon: 0.12, Rolling Avg:  148.39, Steps:  653, Terminated: True \n",
      "Episode: 210/1200, Reward:  +195.52, Epsilon: 0.12, Rolling Avg:  151.78, Steps:  594, Terminated: True \n",
      "Episode: 211/1200, Reward:  +177.68, Epsilon: 0.12, Rolling Avg:  152.11, Steps:  921, Terminated: True \n",
      "Episode: 212/1200, Reward:  +179.95, Epsilon: 0.12, Rolling Avg:  150.68, Steps:  759, Terminated: True \n",
      "Episode: 213/1200, Reward:  +190.62, Epsilon: 0.12, Rolling Avg:  147.76, Steps:  601, Terminated: True \n",
      "Episode: 214/1200, Reward:  +264.24, Epsilon: 0.12, Rolling Avg:  153.22, Steps:  663, Terminated: True \n",
      "Episode: 215/1200, Reward:  +243.45, Epsilon: 0.12, Rolling Avg:  156.59, Steps:  511, Terminated: True \n",
      "Episode: 216/1200, Reward:  +203.08, Epsilon: 0.11, Rolling Avg:  159.76, Steps:  514, Terminated: True \n",
      "Episode: 217/1200, Reward:  +225.88, Epsilon: 0.11, Rolling Avg:  158.81, Steps:  424, Terminated: True \n",
      "Episode: 218/1200, Reward:  +227.92, Epsilon: 0.11, Rolling Avg:  162.76, Steps:  539, Terminated: True \n",
      "Episode: 219/1200, Reward:  +220.82, Epsilon: 0.11, Rolling Avg:  167.05, Steps:  527, Terminated: True \n",
      "Episode: 220/1200, Reward:  +189.88, Epsilon: 0.11, Rolling Avg:  170.19, Steps:  825, Terminated: True \n",
      "Episode: 221/1200, Reward:  +275.92, Epsilon: 0.11, Rolling Avg:  173.66, Steps:  415, Terminated: True \n",
      "Episode: 222/1200, Reward:  +211.18, Epsilon: 0.11, Rolling Avg:  174.12, Steps:  910, Terminated: True \n",
      "Episode: 223/1200, Reward:  +255.87, Epsilon: 0.11, Rolling Avg:  176.30, Steps:  465, Terminated: True \n",
      "Episode: 224/1200, Reward:  +274.53, Epsilon: 0.11, Rolling Avg:  181.96, Steps:  535, Terminated: True \n",
      "Episode: 225/1200, Reward:  +260.00, Epsilon: 0.10, Rolling Avg:  186.66, Steps:  310, Terminated: True \n",
      "Episode: 226/1200, Reward:  +262.51, Epsilon: 0.10, Rolling Avg:  187.90, Steps:  462, Terminated: True \n",
      "Episode: 227/1200, Reward:  +222.37, Epsilon: 0.10, Rolling Avg:  187.44, Steps:  634, Terminated: True \n",
      "Episode: 228/1200, Reward:  +208.57, Epsilon: 0.10, Rolling Avg:  188.30, Steps:  752, Terminated: True \n",
      "Episode: 229/1200, Reward:  +188.87, Epsilon: 0.10, Rolling Avg:  188.37, Steps:  728, Terminated: True \n",
      "Episode: 230/1200, Reward:  +203.24, Epsilon: 0.10, Rolling Avg:  190.81, Steps:  592, Terminated: True \n",
      "Episode: 231/1200, Reward:  +202.44, Epsilon: 0.10, Rolling Avg:  190.46, Steps:  490, Terminated: True \n",
      "Episode: 232/1200, Reward:  +230.47, Epsilon: 0.10, Rolling Avg:  190.26, Steps:  471, Terminated: True \n",
      "Episode: 233/1200, Reward:  +289.89, Epsilon: 0.10, Rolling Avg:  193.58, Steps:  333, Terminated: True \n",
      "Episode: 234/1200, Reward:    +8.39, Epsilon: 0.10, Rolling Avg:  190.09, Steps:  297, Terminated: True \n",
      "Episode: 235/1200, Reward:  +254.01, Epsilon: 0.09, Rolling Avg:  189.67, Steps:  404, Terminated: True \n",
      "Episode: 236/1200, Reward:  +172.46, Epsilon: 0.09, Rolling Avg:  189.69, Steps:  580, Terminated: True \n",
      "Episode: 237/1200, Reward:  +215.98, Epsilon: 0.09, Rolling Avg:  190.80, Steps:  464, Terminated: True \n",
      "Episode: 238/1200, Reward:  +232.53, Epsilon: 0.09, Rolling Avg:  192.14, Steps:  531, Terminated: True \n",
      "Episode: 239/1200, Reward:  +122.43, Epsilon: 0.09, Rolling Avg:  190.74, Steps:  611, Terminated: True \n",
      "Episode: 240/1200, Reward:   -58.96, Epsilon: 0.09, Rolling Avg:  185.03, Steps:  219, Terminated: True \n",
      "Episode: 241/1200, Reward:  +288.32, Epsilon: 0.09, Rolling Avg:  188.40, Steps:  370, Terminated: True \n",
      "Episode: 242/1200, Reward:  +206.47, Epsilon: 0.09, Rolling Avg:  188.16, Steps:  596, Terminated: True \n",
      "Episode: 243/1200, Reward:  +156.43, Epsilon: 0.09, Rolling Avg:  186.82, Steps:  493, Terminated: True \n",
      "Episode: 244/1200, Reward:  +223.33, Epsilon: 0.09, Rolling Avg:  187.69, Steps:  492, Terminated: True \n",
      "Episode: 245/1200, Reward:  +215.00, Epsilon: 0.09, Rolling Avg:  193.70, Steps:  674, Terminated: True \n",
      "Episode: 246/1200, Reward:  +199.52, Epsilon: 0.08, Rolling Avg:  204.16, Steps:  479, Terminated: True \n",
      "Environment solved in 246 episodes!\n",
      "Training completed in 811.76 minutes\n"
     ]
    }
   ],
   "source": [
    "# Training loop\n",
    "episode_rewards = []\n",
    "rolling_avg_rewards = []\n",
    "\n",
    "start_time = time.time()\n",
    "\n",
    "for episode in range(max_episodes):\n",
    "    state, _ = env.reset()\n",
    "    state = np.reshape(state, [1, state_size])\n",
    "    total_reward = 0\n",
    "    done = False\n",
    "    terminated = False\n",
    "    truncated = False\n",
    "    step = 0\n",
    "    for e in range(max_steps):                       # Should be While True, however we limit number of eps\n",
    "        step = step + 1\n",
    "        # Epsilon-greedy policy\n",
    "\n",
    "        action = select_action_greedy(state, agent)\n",
    "        next_state, reward, terminated, truncated, _ = env.step(action)\n",
    "        done = terminated \n",
    "        next_state = np.reshape(next_state, [1, state_size])\n",
    "        agent.store_experience(state, action, reward, next_state, done)\n",
    "        state = next_state\n",
    "        total_reward += reward\n",
    "        if done:\n",
    "            break\n",
    "            \n",
    "        agent.experience_replay_DDQN(batch_size)\n",
    "\n",
    "    # Decay epsilon\n",
    "    epsilon = max(epsilon_min, epsilon * epsilon_decay)\n",
    "\n",
    "    # Record reward\n",
    "    episode_rewards.append(total_reward)\n",
    "    rolling_avg = np.mean(episode_rewards[-ROLLING_WINDOW:])\n",
    "    rolling_avg_rewards.append(rolling_avg)\n",
    "\n",
    "    # Print progress\n",
    "    print(f\"Episode: {episode+1:3}/{max_episodes}, Reward: {total_reward:+8.2f}, \"\n",
    "          f\"Epsilon: {epsilon:.2f}, Rolling Avg: {rolling_avg:7.2f}, Steps: {step:4}, Terminated: {done} \")\n",
    "\n",
    "    # Check if environment is solved\n",
    "    if rolling_avg >= solved_threshold:\n",
    "        print(f\"Environment solved in {episode+1} episodes!\")\n",
    "        break\n",
    "\n",
    "end_time = time.time()\n",
    "print(f\"Training completed in {(end_time - start_time)/60:.2f} minutes\")\n"
   ]
  },
  {
   "cell_type": "markdown",
   "id": "525316ad",
   "metadata": {},
   "source": [
    "#### **Result Visualization**"
   ]
  },
  {
   "cell_type": "code",
   "execution_count": 10,
   "id": "16988f92",
   "metadata": {},
   "outputs": [
    {
     "data": {
      "image/png": "[encoded data removed]",
      "text/plain": [
       "<Figure size 1000x600 with 1 Axes>"
      ]
     },
     "metadata": {},
     "output_type": "display_data"
    }
   ],
   "source": [
    "# Plot rewards with rolling average\n",
    "plt.figure(figsize=(10, 6))\n",
    "plt.plot(episode_rewards, label='Rewards', color='blue')\n",
    "plt.plot(rolling_avg_rewards, label='Rolling Avg (Last '+str(ROLLING_WINDOW)+' Episodes)', color='orange')\n",
    "plt.axhline(y=solved_threshold, color='red', linestyle='--', label='Solved Threshold')\n",
    "plt.title('DDQN Training Performance')\n",
    "plt.xlabel('Episodes')\n",
    "plt.ylabel('Rewards')\n",
    "plt.legend()\n",
    "plt.grid()\n",
    "plt.show()"
   ]
  },
  {
   "cell_type": "markdown",
   "id": "7f4c1d80",
   "metadata": {},
   "source": [
    "#### **Testing 10 episodes with the DDQN trained networks**"
   ]
  },
  {
   "cell_type": "code",
   "execution_count": 11,
   "id": "bdc1b93a",
   "metadata": {},
   "outputs": [
    {
     "name": "stdout",
     "output_type": "stream",
     "text": [
      "Test Episode:  1/10, Reward: 224.52, Steps: 587\n",
      "Test Episode:  2/10, Reward: 121.75, Steps: 634\n",
      "Test Episode:  3/10, Reward: 171.42, Steps: 456\n",
      "Test Episode:  4/10, Reward: 230.74, Steps: 428\n",
      "Test Episode:  5/10, Reward: 190.79, Steps: 469\n",
      "Test Episode:  6/10, Reward: 197.93, Steps: 596\n",
      "Test Episode:  7/10, Reward: 188.85, Steps: 469\n",
      "Test Episode:  8/10, Reward: 234.69, Steps: 419\n",
      "Test Episode:  9/10, Reward: 162.10, Steps: 386\n",
      "Test Episode: 10/10, Reward: 159.01, Steps: 438\n",
      "Testing completed in 6.55 minutes\n"
     ]
    }
   ],
   "source": [
    "# Testing for 10 episodes\n",
    "start_time = time.time()\n",
    "\n",
    "for e_test in range(10):  # Run 10 test episodes\n",
    "    state, _ = env.reset()\n",
    "    state = np.reshape(state, [1, state_size])\n",
    "    total_reward = 0\n",
    "    \n",
    "    steps = 0\n",
    "    while True:\n",
    "        # Use the trained model for testing\n",
    "        action = agent.action(state)  # Predict action values\n",
    "\n",
    "\n",
    "        next_state, reward, done, truncated, _ = env.step(action)\n",
    "        next_state = np.reshape(next_state, [1, state_size])\n",
    "        total_reward += reward\n",
    "        state = next_state\n",
    "        steps = steps + 1\n",
    "        if done or truncated:\n",
    "            print(f\"Test Episode: {e_test + 1:2}/10, Reward: {total_reward:.2f}, Steps: {steps:3}\")\n",
    "            break\n",
    "\n",
    "end_time = time.time()\n",
    "testing_duration = (end_time - start_time) / 60  # Convert to minutes\n",
    "print(f\"Testing completed in {testing_duration:.2f} minutes\")"
   ]
  },
  {
   "cell_type": "code",
   "execution_count": 12,
   "id": "ebec1907",
   "metadata": {},
   "outputs": [
    {
     "name": "stdout",
     "output_type": "stream",
     "text": [
      "Rendered Test Episode Reward: 158.79\n",
      "Saved GIF to: ./CARTPOLE_DDQN-Agent.gif\n"
     ]
    }
   ],
   "source": [
    "# Test the trained agent with video rendering\n",
    "# This code is useful if you are using colab otherwise use render_mode='human'\n",
    "env = gym.make(('LunarLander-v3'), render_mode='rgb_array')  # Enable RGB rendering\n",
    "frames = []  # Store frames for visualization\n",
    "\n",
    "# Render a single test episode\n",
    "state, _ = env.reset()\n",
    "state = np.reshape(state, [1, state_size])\n",
    "tot_rewards = 0\n",
    "\n",
    "while True:\n",
    "    # Use the trained model for action\n",
    "    action = agent.action(state)            # Predict action value\n",
    "\n",
    "    next_state, reward, done, truncated, _ = env.step(action)\n",
    "    frames.append(env.render())                  # Save frame for rendering later\n",
    "    next_state = np.reshape(next_state, [1, state_size])\n",
    "    tot_rewards += reward\n",
    "    state = next_state\n",
    "\n",
    "    if done or truncated:\n",
    "        print(f\"Rendered Test Episode Reward: {tot_rewards:.2f}\")\n",
    "        break\n",
    "\n",
    "env.close()\n",
    "\n",
    "# Save the rendered episode as a GIF\n",
    "def save_frames_as_gif(frames, path='./', filename='CARTPOLE_DDQN-Agent.gif'):\n",
    "    images = [Image.fromarray(frame) for frame in frames]\n",
    "    gif_path = os.path.join(path, filename)\n",
    "    images[0].save(gif_path, save_all=True, append_images=images[1:], duration=50, loop=0)\n",
    "    print(f\"Saved GIF to: {gif_path}\")\n",
    "\n",
    "save_frames_as_gif(frames, filename='CARTPOLE_DDQN-Agent.gif')\n"
   ]
  },
  {
   "cell_type": "code",
   "execution_count": 14,
   "id": "8b8cc35b",
   "metadata": {},
   "outputs": [
    {
     "name": "stdout",
     "output_type": "stream",
     "text": [
      "-----\n",
      "PIL                 11.1.0\n",
      "gymnasium           1.0.0\n",
      "keras               3.8.0\n",
      "matplotlib          3.10.0\n",
      "numpy               2.0.2\n",
      "session_info        1.0.0\n",
      "tensorflow          2.18.0\n",
      "-----\n",
      "IPython             8.32.0\n",
      "jupyter_client      8.6.3\n",
      "jupyter_core        5.7.2\n",
      "jupyterlab          4.3.5\n",
      "notebook            7.3.2\n",
      "-----\n",
      "Python 3.12.3 (main, Jan 17 2025, 18:03:48) [GCC 13.3.0]\n",
      "Linux-5.15.167.4-microsoft-standard-WSL2-x86_64-with-glibc2.39\n",
      "-----\n",
      "Session information updated at 2025-02-11 08:07\n"
     ]
    }
   ],
   "source": [
    "import session_info\n",
    "session_info.show(html=False)"
   ]
  }
 ],
 "metadata": {
  "kernelspec": {
   "display_name": "rl",
   "language": "python",
   "name": "rl"
  },
  "language_info": {
   "codemirror_mode": {
    "name": "ipython",
    "version": 3
   },
   "file_extension": ".py",
   "mimetype": "text/x-python",
   "name": "python",
   "nbconvert_exporter": "python",
   "pygments_lexer": "ipython3",
   "version": "3.12.3"
  }
 },
 "nbformat": 4,
 "nbformat_minor": 5
}
