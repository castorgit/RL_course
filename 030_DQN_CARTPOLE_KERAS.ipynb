{
 "cells": [
  {
   "cell_type": "markdown",
   "id": "ccb89376",
   "metadata": {},
   "source": [
    "### **CARTPOLE DQN KERAS**\n",
    "\n",
    "This is a naive version of the CARTPOLE DQN algorithm <br>\n",
    "It converges in more or less 100 episodes  <br>\n",
    "To improve the result we should extend the rolling window length now it is at 20 steps, but it many times it <br>\n",
    "does not solve the problem as the result is inestable. extend the ROLLING_WIDOW to 50 or 100 and the solution \n",
    "will be more stable <br>\n",
    " <br>\n",
    "Try to make it faster by doing some hyperparameter optimization  <br>\n",
    "Try to explore less. Does it accelerates convergence?  <br>\n"
   ]
  },
  {
   "cell_type": "code",
   "execution_count": 1,
   "id": "557b1b33",
   "metadata": {},
   "outputs": [
    {
     "name": "stderr",
     "output_type": "stream",
     "text": [
      "WARNING: All log messages before absl::InitializeLog() is called are written to STDERR\n",
      "I0000 00:00:1738926238.705990 3561592 cuda_executor.cc:1001] could not open file to read NUMA node: /sys/bus/pci/devices/0000:22:00.0/numa_node\n",
      "Your kernel may have been built without NUMA support.\n",
      "I0000 00:00:1738926238.750184 3561592 cuda_executor.cc:1001] could not open file to read NUMA node: /sys/bus/pci/devices/0000:22:00.0/numa_node\n",
      "Your kernel may have been built without NUMA support.\n",
      "I0000 00:00:1738926238.750243 3561592 cuda_executor.cc:1001] could not open file to read NUMA node: /sys/bus/pci/devices/0000:22:00.0/numa_node\n",
      "Your kernel may have been built without NUMA support.\n",
      "I0000 00:00:1738926238.919104 3561592 cuda_executor.cc:1001] could not open file to read NUMA node: /sys/bus/pci/devices/0000:22:00.0/numa_node\n",
      "Your kernel may have been built without NUMA support.\n",
      "I0000 00:00:1738926238.919185 3561592 cuda_executor.cc:1001] could not open file to read NUMA node: /sys/bus/pci/devices/0000:22:00.0/numa_node\n",
      "Your kernel may have been built without NUMA support.\n",
      "I0000 00:00:1738926238.919220 3561592 cuda_executor.cc:1001] could not open file to read NUMA node: /sys/bus/pci/devices/0000:22:00.0/numa_node\n",
      "Your kernel may have been built without NUMA support.\n",
      "I0000 00:00:1738926238.963317 3561592 cuda_executor.cc:1001] could not open file to read NUMA node: /sys/bus/pci/devices/0000:22:00.0/numa_node\n",
      "Your kernel may have been built without NUMA support.\n",
      "I0000 00:00:1738926238.963441 3561592 cuda_executor.cc:1001] could not open file to read NUMA node: /sys/bus/pci/devices/0000:22:00.0/numa_node\n",
      "Your kernel may have been built without NUMA support.\n",
      "I0000 00:00:1738926238.963463 3561592 cuda_executor.cc:1001] could not open file to read NUMA node: /sys/bus/pci/devices/0000:22:00.0/numa_node\n",
      "Your kernel may have been built without NUMA support.\n",
      "I0000 00:00:1738926238.963669 3561592 cuda_executor.cc:1001] could not open file to read NUMA node: /sys/bus/pci/devices/0000:22:00.0/numa_node\n",
      "Your kernel may have been built without NUMA support.\n",
      "I0000 00:00:1738926238.963692 3561592 cuda_executor.cc:1001] could not open file to read NUMA node: /sys/bus/pci/devices/0000:22:00.0/numa_node\n",
      "Your kernel may have been built without NUMA support.\n",
      "I0000 00:00:1738926238.963708 3561592 cuda_executor.cc:1001] could not open file to read NUMA node: /sys/bus/pci/devices/0000:22:00.0/numa_node\n",
      "Your kernel may have been built without NUMA support.\n",
      "I0000 00:00:1738926238.963971 3561592 cuda_executor.cc:1001] could not open file to read NUMA node: /sys/bus/pci/devices/0000:22:00.0/numa_node\n",
      "Your kernel may have been built without NUMA support.\n",
      "I0000 00:00:1738926238.964030 3561592 cuda_executor.cc:1001] could not open file to read NUMA node: /sys/bus/pci/devices/0000:22:00.0/numa_node\n",
      "Your kernel may have been built without NUMA support.\n",
      "WARNING: All log messages before absl::InitializeLog() is called are written to STDERR\n",
      "I0000 00:00:1738926240.643961 3561690 service.cc:146] XLA service 0x7fb698016610 initialized for platform CUDA (this does not guarantee that XLA will be used). Devices:\n",
      "I0000 00:00:1738926240.644020 3561690 service.cc:154]   StreamExecutor device (0): NVIDIA GeForce RTX 3090, Compute Capability 8.6\n",
      "I0000 00:00:1738926241.121409 3561690 device_compiler.h:188] Compiled cluster using XLA!  This line is logged at most once for the lifetime of the process.\n"
     ]
    }
   ],
   "source": [
    "import os\n",
    "os.environ['TF_CPP_MIN_LOG_LEVEL'] = '3' \n",
    "\n",
    "import random\n",
    "import gymnasium as gym\n",
    "import time\n",
    "import numpy as np\n",
    "from collections import deque\n",
    "from keras.models import Sequential, Model\n",
    "from keras.layers import Dense, Input\n",
    "from keras.optimizers import Adam\n",
    "import matplotlib.pyplot as plt\n",
    "from PIL import Image\n",
    "import tensorflow as tf\n",
    "\n",
    "# Use mixed-precision training for faster computations on supported GPUs\n",
    "from tensorflow.keras.mixed_precision import set_global_policy\n",
    "set_global_policy('mixed_float16')\n",
    "\n",
    "import sys\n",
    "sys.stderr = open('err.txt', 'w')"
   ]
  },
  {
   "cell_type": "code",
   "execution_count": 2,
   "id": "2041146f",
   "metadata": {},
   "outputs": [
    {
     "name": "stdout",
     "output_type": "stream",
     "text": [
      "Using device: 0, name: NVIDIA GeForce RTX 3090, pci bus id: 0000:22:00.0, compute capability: 8.6\n"
     ]
    }
   ],
   "source": [
    "from tensorflow.python.client import device_lib\n",
    "devices = device_lib.list_local_devices()\n",
    "gpu_devices = [device for device in devices if device.device_type == 'GPU']\n",
    "for gpu in gpu_devices:\n",
    "    print('Using', gpu.physical_device_desc)"
   ]
  },
  {
   "cell_type": "markdown",
   "id": "ae2be125",
   "metadata": {},
   "source": [
    "#### **Hyperparameters**"
   ]
  },
  {
   "cell_type": "code",
   "execution_count": 3,
   "id": "78010280",
   "metadata": {},
   "outputs": [],
   "source": [
    "\n",
    "MAX_EPISODES = 300\n",
    "ROLLING_WINDOW = 20\n",
    "MEMORY_SIZE = 2000\n",
    "MAX_STEPS = 500\n",
    "\n",
    "gamma = 0.95                         # discount rate\n",
    "epsilon = 1.0                        # exploration rate\n",
    "epsilon_min = 0.01\n",
    "epsilon_decay = 0.98\n",
    "learning_rate = 0.001\n",
    "batch_size = 64\n",
    "solved_threshold = 195\n",
    "\n",
    "verb = 0                             # to see traces (verbosity)"
   ]
  },
  {
   "cell_type": "code",
   "execution_count": 4,
   "id": "d058e6b0",
   "metadata": {},
   "outputs": [],
   "source": [
    "# Environment setup\n",
    "env = gym.make(\"CartPole-v1\")\n",
    "state_size = env.observation_space.shape[0]\n",
    "action_size = env.action_space.n"
   ]
  },
  {
   "cell_type": "markdown",
   "id": "7fa84c05",
   "metadata": {},
   "source": [
    "#### **Neural Network**"
   ]
  },
  {
   "cell_type": "code",
   "execution_count": 5,
   "id": "5799f12c",
   "metadata": {},
   "outputs": [],
   "source": [
    "def build_model(state_size, action_size):\n",
    "    inputs = Input(shape=(state_size,), name=\"state_input\")\n",
    "    x = Dense(32, activation='relu', name=\"dense_1\")(inputs)\n",
    "    x = Dense(16, activation='relu', name=\"dense_2\")(x)\n",
    "    outputs = Dense(action_size, activation='linear', name=\"output_layer\")(x)\n",
    "    \n",
    "    model = Model(inputs=inputs, outputs=outputs, name=\"Q_Network\")\n",
    "#    model.compile(optimizer=Adam(learning_rate=learning_rate, clipnorm=1.0), loss='mse') # to improve train stability\n",
    "    model.compile(loss='mse', optimizer=Adam(learning_rate=learning_rate))\n",
    "    return model"
   ]
  },
  {
   "cell_type": "markdown",
   "id": "b7fca383",
   "metadata": {},
   "source": [
    "#### **Support Functions**"
   ]
  },
  {
   "cell_type": "code",
   "execution_count": 6,
   "id": "10c07fd6",
   "metadata": {
    "scrolled": false
   },
   "outputs": [
    {
     "data": {
      "text/html": [
       "<pre style=\"white-space:pre;overflow-x:auto;line-height:normal;font-family:Menlo,'DejaVu Sans Mono',consolas,'Courier New',monospace\"><span style=\"font-weight: bold\">Model: \"Q_Network\"</span>\n",
       "</pre>\n"
      ],
      "text/plain": [
       "\u001b[1mModel: \"Q_Network\"\u001b[0m\n"
      ]
     },
     "metadata": {},
     "output_type": "display_data"
    },
    {
     "data": {
      "text/html": [
       "<pre style=\"white-space:pre;overflow-x:auto;line-height:normal;font-family:Menlo,'DejaVu Sans Mono',consolas,'Courier New',monospace\">┏━━━━━━━━━━━━━━━━━━━━━━━━━━━━━━━━━┳━━━━━━━━━━━━━━━━━━━━━━━━┳━━━━━━━━━━━━━━━┓\n",
       "┃<span style=\"font-weight: bold\"> Layer (type)                    </span>┃<span style=\"font-weight: bold\"> Output Shape           </span>┃<span style=\"font-weight: bold\">       Param # </span>┃\n",
       "┡━━━━━━━━━━━━━━━━━━━━━━━━━━━━━━━━━╇━━━━━━━━━━━━━━━━━━━━━━━━╇━━━━━━━━━━━━━━━┩\n",
       "│ state_input (<span style=\"color: #0087ff; text-decoration-color: #0087ff\">InputLayer</span>)        │ (<span style=\"color: #00d7ff; text-decoration-color: #00d7ff\">None</span>, <span style=\"color: #00af00; text-decoration-color: #00af00\">4</span>)              │             <span style=\"color: #00af00; text-decoration-color: #00af00\">0</span> │\n",
       "├─────────────────────────────────┼────────────────────────┼───────────────┤\n",
       "│ cast (<span style=\"color: #0087ff; text-decoration-color: #0087ff\">Cast</span>)                     │ (<span style=\"color: #00d7ff; text-decoration-color: #00d7ff\">None</span>, <span style=\"color: #00af00; text-decoration-color: #00af00\">4</span>)              │             <span style=\"color: #00af00; text-decoration-color: #00af00\">0</span> │\n",
       "├─────────────────────────────────┼────────────────────────┼───────────────┤\n",
       "│ dense_1 (<span style=\"color: #0087ff; text-decoration-color: #0087ff\">Dense</span>)                 │ (<span style=\"color: #00d7ff; text-decoration-color: #00d7ff\">None</span>, <span style=\"color: #00af00; text-decoration-color: #00af00\">32</span>)             │           <span style=\"color: #00af00; text-decoration-color: #00af00\">160</span> │\n",
       "├─────────────────────────────────┼────────────────────────┼───────────────┤\n",
       "│ dense_2 (<span style=\"color: #0087ff; text-decoration-color: #0087ff\">Dense</span>)                 │ (<span style=\"color: #00d7ff; text-decoration-color: #00d7ff\">None</span>, <span style=\"color: #00af00; text-decoration-color: #00af00\">16</span>)             │           <span style=\"color: #00af00; text-decoration-color: #00af00\">528</span> │\n",
       "├─────────────────────────────────┼────────────────────────┼───────────────┤\n",
       "│ output_layer (<span style=\"color: #0087ff; text-decoration-color: #0087ff\">Dense</span>)            │ (<span style=\"color: #00d7ff; text-decoration-color: #00d7ff\">None</span>, <span style=\"color: #00af00; text-decoration-color: #00af00\">2</span>)              │            <span style=\"color: #00af00; text-decoration-color: #00af00\">34</span> │\n",
       "└─────────────────────────────────┴────────────────────────┴───────────────┘\n",
       "</pre>\n"
      ],
      "text/plain": [
       "┏━━━━━━━━━━━━━━━━━━━━━━━━━━━━━━━━━┳━━━━━━━━━━━━━━━━━━━━━━━━┳━━━━━━━━━━━━━━━┓\n",
       "┃\u001b[1m \u001b[0m\u001b[1mLayer (type)                   \u001b[0m\u001b[1m \u001b[0m┃\u001b[1m \u001b[0m\u001b[1mOutput Shape          \u001b[0m\u001b[1m \u001b[0m┃\u001b[1m \u001b[0m\u001b[1m      Param #\u001b[0m\u001b[1m \u001b[0m┃\n",
       "┡━━━━━━━━━━━━━━━━━━━━━━━━━━━━━━━━━╇━━━━━━━━━━━━━━━━━━━━━━━━╇━━━━━━━━━━━━━━━┩\n",
       "│ state_input (\u001b[38;5;33mInputLayer\u001b[0m)        │ (\u001b[38;5;45mNone\u001b[0m, \u001b[38;5;34m4\u001b[0m)              │             \u001b[38;5;34m0\u001b[0m │\n",
       "├─────────────────────────────────┼────────────────────────┼───────────────┤\n",
       "│ cast (\u001b[38;5;33mCast\u001b[0m)                     │ (\u001b[38;5;45mNone\u001b[0m, \u001b[38;5;34m4\u001b[0m)              │             \u001b[38;5;34m0\u001b[0m │\n",
       "├─────────────────────────────────┼────────────────────────┼───────────────┤\n",
       "│ dense_1 (\u001b[38;5;33mDense\u001b[0m)                 │ (\u001b[38;5;45mNone\u001b[0m, \u001b[38;5;34m32\u001b[0m)             │           \u001b[38;5;34m160\u001b[0m │\n",
       "├─────────────────────────────────┼────────────────────────┼───────────────┤\n",
       "│ dense_2 (\u001b[38;5;33mDense\u001b[0m)                 │ (\u001b[38;5;45mNone\u001b[0m, \u001b[38;5;34m16\u001b[0m)             │           \u001b[38;5;34m528\u001b[0m │\n",
       "├─────────────────────────────────┼────────────────────────┼───────────────┤\n",
       "│ output_layer (\u001b[38;5;33mDense\u001b[0m)            │ (\u001b[38;5;45mNone\u001b[0m, \u001b[38;5;34m2\u001b[0m)              │            \u001b[38;5;34m34\u001b[0m │\n",
       "└─────────────────────────────────┴────────────────────────┴───────────────┘\n"
      ]
     },
     "metadata": {},
     "output_type": "display_data"
    },
    {
     "data": {
      "text/html": [
       "<pre style=\"white-space:pre;overflow-x:auto;line-height:normal;font-family:Menlo,'DejaVu Sans Mono',consolas,'Courier New',monospace\"><span style=\"font-weight: bold\"> Total params: </span><span style=\"color: #00af00; text-decoration-color: #00af00\">722</span> (2.82 KB)\n",
       "</pre>\n"
      ],
      "text/plain": [
       "\u001b[1m Total params: \u001b[0m\u001b[38;5;34m722\u001b[0m (2.82 KB)\n"
      ]
     },
     "metadata": {},
     "output_type": "display_data"
    },
    {
     "data": {
      "text/html": [
       "<pre style=\"white-space:pre;overflow-x:auto;line-height:normal;font-family:Menlo,'DejaVu Sans Mono',consolas,'Courier New',monospace\"><span style=\"font-weight: bold\"> Trainable params: </span><span style=\"color: #00af00; text-decoration-color: #00af00\">722</span> (2.82 KB)\n",
       "</pre>\n"
      ],
      "text/plain": [
       "\u001b[1m Trainable params: \u001b[0m\u001b[38;5;34m722\u001b[0m (2.82 KB)\n"
      ]
     },
     "metadata": {},
     "output_type": "display_data"
    },
    {
     "data": {
      "text/html": [
       "<pre style=\"white-space:pre;overflow-x:auto;line-height:normal;font-family:Menlo,'DejaVu Sans Mono',consolas,'Courier New',monospace\"><span style=\"font-weight: bold\"> Non-trainable params: </span><span style=\"color: #00af00; text-decoration-color: #00af00\">0</span> (0.00 B)\n",
       "</pre>\n"
      ],
      "text/plain": [
       "\u001b[1m Non-trainable params: \u001b[0m\u001b[38;5;34m0\u001b[0m (0.00 B)\n"
      ]
     },
     "metadata": {},
     "output_type": "display_data"
    }
   ],
   "source": [
    "replay_buffer = deque(maxlen=MEMORY_SIZE)\n",
    "\n",
    "def store(state, action, reward, next_state, done):             # memorize\n",
    "    replay_buffer.append((state, action, reward, next_state, done))\n",
    "\n",
    "def select_action_greedy(state, DQN):                                      # act\n",
    "    if np.random.rand() <= epsilon:\n",
    "        return random.randrange(action_size)\n",
    "    act_values = DQN.predict(state, verbose=verb)\n",
    "    return np.argmax(act_values[0])  # returns action selected with greedy strategy\n",
    "\n",
    "# Sample experiences from the replay buffer\n",
    "def sample_experiences(batch_size):\n",
    "    indices = np.random.choice(len(replay_buffer), batch_size, replace=False)\n",
    "    batch = [replay_buffer[i] for i in indices]\n",
    "    states, actions, rewards, next_states, dones = zip(*batch)\n",
    "    return (\n",
    "        np.vstack(states),\n",
    "        np.array(actions),\n",
    "        np.array(rewards),\n",
    "        np.vstack(next_states),\n",
    "        np.array(dones, dtype=np.float32)\n",
    "    )\n",
    "\n",
    "    \n",
    "def experience_replay(batch_size, model, epsilon):\n",
    "    if len(replay_buffer) < batch_size:\n",
    "        return\n",
    "    minibatch = random.sample(replay_buffer, batch_size)\n",
    "    states, actions, rewards, next_states, dones = sample_experiences(batch_size)\n",
    "\n",
    "    # Predict Q-values for current and next states using vectorized operations\n",
    "    target_qs = model.predict(states, verbose=verb)\n",
    "    next_qs   = model.predict(next_states, verbose=verb)\n",
    "\n",
    "    # Update target Q-values using standard DQN logic   \n",
    "    target_qs[np.arange(batch_size), actions] = rewards + gamma * np.max(next_qs, axis=1) * (1 - dones)\n",
    "    \n",
    "#    for i in range(batch_size):\n",
    "#        if dones[i]:\n",
    "#            target_qs[i, actions[i]] = rewards[i]\n",
    "#        else:\n",
    "#            target_qs[i, actions[i]] = rewards[i] + gamma * np.max(next_qs[i])\n",
    "\n",
    "    # Train the model on the Q-values\n",
    "    model.fit(states, target_qs, epochs=1, verbose=0)\n",
    "\n",
    "def load(name, DQN):\n",
    "    DQN.load_weights(name)\n",
    "\n",
    "def save(name, DQN):\n",
    "    DQN.save_weights(name)\n",
    "\n",
    "DQN = build_model(state_size, action_size)\n",
    "DQN.summary()"
   ]
  },
  {
   "cell_type": "code",
   "execution_count": 7,
   "id": "0cb99f42",
   "metadata": {
    "scrolled": false
   },
   "outputs": [
    {
     "name": "stdout",
     "output_type": "stream",
     "text": [
      "Episode:   1/300, Reward:  +28.00, Epsilon: 0.98, Rolling Avg:  28.00, Steps:  27 Terminated: True \n",
      "Episode:   2/300, Reward:  +10.00, Epsilon: 0.96, Rolling Avg:  19.00, Steps:   9 Terminated: True \n",
      "Episode:   3/300, Reward:  +34.00, Epsilon: 0.94, Rolling Avg:  24.00, Steps:  33 Terminated: True \n",
      "Episode:   4/300, Reward:  +21.00, Epsilon: 0.92, Rolling Avg:  23.25, Steps:  20 Terminated: True \n",
      "Episode:   5/300, Reward:  +38.00, Epsilon: 0.90, Rolling Avg:  26.20, Steps:  37 Terminated: True \n",
      "Episode:   6/300, Reward:  +27.00, Epsilon: 0.89, Rolling Avg:  26.33, Steps:  26 Terminated: True \n",
      "Episode:   7/300, Reward:  +35.00, Epsilon: 0.87, Rolling Avg:  27.57, Steps:  34 Terminated: True \n",
      "Episode:   8/300, Reward:  +17.00, Epsilon: 0.85, Rolling Avg:  26.25, Steps:  16 Terminated: True \n",
      "Episode:   9/300, Reward:  +24.00, Epsilon: 0.83, Rolling Avg:  26.00, Steps:  23 Terminated: True \n",
      "Episode:  10/300, Reward:  +21.00, Epsilon: 0.82, Rolling Avg:  25.50, Steps:  20 Terminated: True \n",
      "Episode:  11/300, Reward:  +37.00, Epsilon: 0.80, Rolling Avg:  26.55, Steps:  36 Terminated: True \n",
      "Episode:  12/300, Reward:  +16.00, Epsilon: 0.78, Rolling Avg:  25.67, Steps:  15 Terminated: True \n",
      "Episode:  13/300, Reward:  +11.00, Epsilon: 0.77, Rolling Avg:  24.54, Steps:  10 Terminated: True \n",
      "Episode:  14/300, Reward:   +9.00, Epsilon: 0.75, Rolling Avg:  23.43, Steps:   8 Terminated: True \n",
      "Episode:  15/300, Reward:  +11.00, Epsilon: 0.74, Rolling Avg:  22.60, Steps:  10 Terminated: True \n",
      "Episode:  16/300, Reward:  +12.00, Epsilon: 0.72, Rolling Avg:  21.94, Steps:  11 Terminated: True \n",
      "Episode:  17/300, Reward:  +13.00, Epsilon: 0.71, Rolling Avg:  21.41, Steps:  12 Terminated: True \n",
      "Episode:  18/300, Reward:  +19.00, Epsilon: 0.70, Rolling Avg:  21.28, Steps:  18 Terminated: True \n",
      "Episode:  19/300, Reward:  +13.00, Epsilon: 0.68, Rolling Avg:  20.84, Steps:  12 Terminated: True \n",
      "Episode:  20/300, Reward:  +18.00, Epsilon: 0.67, Rolling Avg:  20.70, Steps:  17 Terminated: True \n",
      "Episode:  21/300, Reward:  +12.00, Epsilon: 0.65, Rolling Avg:  19.90, Steps:  11 Terminated: True \n",
      "Episode:  22/300, Reward:  +14.00, Epsilon: 0.64, Rolling Avg:  20.10, Steps:  13 Terminated: True \n",
      "Episode:  23/300, Reward:   +9.00, Epsilon: 0.63, Rolling Avg:  18.85, Steps:   8 Terminated: True \n",
      "Episode:  24/300, Reward:  +30.00, Epsilon: 0.62, Rolling Avg:  19.30, Steps:  29 Terminated: True \n",
      "Episode:  25/300, Reward:  +11.00, Epsilon: 0.60, Rolling Avg:  17.95, Steps:  10 Terminated: True \n",
      "Episode:  26/300, Reward:  +16.00, Epsilon: 0.59, Rolling Avg:  17.40, Steps:  15 Terminated: True \n",
      "Episode:  27/300, Reward:  +13.00, Epsilon: 0.58, Rolling Avg:  16.30, Steps:  12 Terminated: True \n",
      "Episode:  28/300, Reward:  +11.00, Epsilon: 0.57, Rolling Avg:  16.00, Steps:  10 Terminated: True \n",
      "Episode:  29/300, Reward:  +10.00, Epsilon: 0.56, Rolling Avg:  15.30, Steps:   9 Terminated: True \n",
      "Episode:  30/300, Reward:   +9.00, Epsilon: 0.55, Rolling Avg:  14.70, Steps:   8 Terminated: True \n",
      "Episode:  31/300, Reward:  +17.00, Epsilon: 0.53, Rolling Avg:  13.70, Steps:  16 Terminated: True \n",
      "Episode:  32/300, Reward:  +13.00, Epsilon: 0.52, Rolling Avg:  13.55, Steps:  12 Terminated: True \n",
      "Episode:  33/300, Reward:  +13.00, Epsilon: 0.51, Rolling Avg:  13.65, Steps:  12 Terminated: True \n",
      "Episode:  34/300, Reward:  +10.00, Epsilon: 0.50, Rolling Avg:  13.70, Steps:   9 Terminated: True \n",
      "Episode:  35/300, Reward:  +14.00, Epsilon: 0.49, Rolling Avg:  13.85, Steps:  13 Terminated: True \n",
      "Episode:  36/300, Reward:  +10.00, Epsilon: 0.48, Rolling Avg:  13.75, Steps:   9 Terminated: True \n",
      "Episode:  37/300, Reward:  +31.00, Epsilon: 0.47, Rolling Avg:  14.65, Steps:  30 Terminated: True \n",
      "Episode:  38/300, Reward:  +21.00, Epsilon: 0.46, Rolling Avg:  14.75, Steps:  20 Terminated: True \n",
      "Episode:  39/300, Reward:  +27.00, Epsilon: 0.45, Rolling Avg:  15.45, Steps:  26 Terminated: True \n",
      "Episode:  40/300, Reward:  +27.00, Epsilon: 0.45, Rolling Avg:  15.90, Steps:  26 Terminated: True \n",
      "Episode:  41/300, Reward:  +74.00, Epsilon: 0.44, Rolling Avg:  19.00, Steps:  73 Terminated: True \n",
      "Episode:  42/300, Reward:  +45.00, Epsilon: 0.43, Rolling Avg:  20.55, Steps:  44 Terminated: True \n",
      "Episode:  43/300, Reward:  +33.00, Epsilon: 0.42, Rolling Avg:  21.75, Steps:  32 Terminated: True \n",
      "Episode:  44/300, Reward:  +50.00, Epsilon: 0.41, Rolling Avg:  22.75, Steps:  49 Terminated: True \n",
      "Episode:  45/300, Reward:  +94.00, Epsilon: 0.40, Rolling Avg:  26.90, Steps:  93 Terminated: True \n",
      "Episode:  46/300, Reward:  +51.00, Epsilon: 0.39, Rolling Avg:  28.65, Steps:  50 Terminated: True \n",
      "Episode:  47/300, Reward:  +20.00, Epsilon: 0.39, Rolling Avg:  29.00, Steps:  19 Terminated: True \n",
      "Episode:  48/300, Reward:  +29.00, Epsilon: 0.38, Rolling Avg:  29.90, Steps:  28 Terminated: True \n",
      "Episode:  49/300, Reward:  +48.00, Epsilon: 0.37, Rolling Avg:  31.80, Steps:  47 Terminated: True \n",
      "Episode:  50/300, Reward:  +89.00, Epsilon: 0.36, Rolling Avg:  35.80, Steps:  88 Terminated: True \n",
      "Episode:  51/300, Reward:  +43.00, Epsilon: 0.36, Rolling Avg:  37.10, Steps:  42 Terminated: True \n",
      "Episode:  52/300, Reward:  +62.00, Epsilon: 0.35, Rolling Avg:  39.55, Steps:  61 Terminated: True \n",
      "Episode:  53/300, Reward:  +58.00, Epsilon: 0.34, Rolling Avg:  41.80, Steps:  57 Terminated: True \n",
      "Episode:  54/300, Reward: +102.00, Epsilon: 0.34, Rolling Avg:  46.40, Steps: 101 Terminated: True \n",
      "Episode:  55/300, Reward:  +27.00, Epsilon: 0.33, Rolling Avg:  47.05, Steps:  26 Terminated: True \n",
      "Episode:  56/300, Reward:  +63.00, Epsilon: 0.32, Rolling Avg:  49.70, Steps:  62 Terminated: True \n",
      "Episode:  57/300, Reward:  +56.00, Epsilon: 0.32, Rolling Avg:  50.95, Steps:  55 Terminated: True \n",
      "Episode:  58/300, Reward: +113.00, Epsilon: 0.31, Rolling Avg:  55.55, Steps: 112 Terminated: True \n",
      "Episode:  59/300, Reward:  +62.00, Epsilon: 0.30, Rolling Avg:  57.30, Steps:  61 Terminated: True \n",
      "Episode:  60/300, Reward:  +70.00, Epsilon: 0.30, Rolling Avg:  59.45, Steps:  69 Terminated: True \n",
      "Episode:  61/300, Reward: +113.00, Epsilon: 0.29, Rolling Avg:  61.40, Steps: 112 Terminated: True \n",
      "Episode:  62/300, Reward:  +80.00, Epsilon: 0.29, Rolling Avg:  63.15, Steps:  79 Terminated: True \n",
      "Episode:  63/300, Reward:  +85.00, Epsilon: 0.28, Rolling Avg:  65.75, Steps:  84 Terminated: True \n",
      "Episode:  64/300, Reward:  +38.00, Epsilon: 0.27, Rolling Avg:  65.15, Steps:  37 Terminated: True \n",
      "Episode:  65/300, Reward:  +32.00, Epsilon: 0.27, Rolling Avg:  62.05, Steps:  31 Terminated: True \n",
      "Episode:  66/300, Reward:  +75.00, Epsilon: 0.26, Rolling Avg:  63.25, Steps:  74 Terminated: True \n",
      "Episode:  67/300, Reward:  +62.00, Epsilon: 0.26, Rolling Avg:  65.35, Steps:  61 Terminated: True \n",
      "Episode:  68/300, Reward:  +63.00, Epsilon: 0.25, Rolling Avg:  67.05, Steps:  62 Terminated: True \n",
      "Episode:  69/300, Reward: +100.00, Epsilon: 0.25, Rolling Avg:  69.65, Steps:  99 Terminated: True \n",
      "Episode:  70/300, Reward:  +68.00, Epsilon: 0.24, Rolling Avg:  68.60, Steps:  67 Terminated: True \n",
      "Episode:  71/300, Reward:  +50.00, Epsilon: 0.24, Rolling Avg:  68.95, Steps:  49 Terminated: True \n",
      "Episode:  72/300, Reward: +105.00, Epsilon: 0.23, Rolling Avg:  71.10, Steps: 104 Terminated: True \n",
      "Episode:  73/300, Reward: +104.00, Epsilon: 0.23, Rolling Avg:  73.40, Steps: 103 Terminated: True \n",
      "Episode:  74/300, Reward:  +30.00, Epsilon: 0.22, Rolling Avg:  69.80, Steps:  29 Terminated: True \n",
      "Episode:  75/300, Reward: +123.00, Epsilon: 0.22, Rolling Avg:  74.60, Steps: 122 Terminated: True \n",
      "Episode:  76/300, Reward:  +88.00, Epsilon: 0.22, Rolling Avg:  75.85, Steps:  87 Terminated: True \n",
      "Episode:  77/300, Reward:  +72.00, Epsilon: 0.21, Rolling Avg:  76.65, Steps:  71 Terminated: True \n",
      "Episode:  78/300, Reward:  +58.00, Epsilon: 0.21, Rolling Avg:  73.90, Steps:  57 Terminated: True \n",
      "Episode:  79/300, Reward:  +54.00, Epsilon: 0.20, Rolling Avg:  73.50, Steps:  53 Terminated: True \n",
      "Episode:  80/300, Reward: +183.00, Epsilon: 0.20, Rolling Avg:  79.15, Steps: 182 Terminated: True \n",
      "Episode:  81/300, Reward: +308.00, Epsilon: 0.19, Rolling Avg:  88.90, Steps: 307 Terminated: True \n",
      "Episode:  82/300, Reward: +326.00, Epsilon: 0.19, Rolling Avg: 101.20, Steps: 325 Terminated: True \n"
     ]
    },
    {
     "name": "stdout",
     "output_type": "stream",
     "text": [
      "Episode:  83/300, Reward: +500.00, Epsilon: 0.19, Rolling Avg: 121.95, Steps: 499 Terminated: False \n",
      "Episode:  84/300, Reward: +500.00, Epsilon: 0.18, Rolling Avg: 145.05, Steps: 499 Terminated: False \n",
      "Episode:  85/300, Reward: +318.00, Epsilon: 0.18, Rolling Avg: 159.35, Steps: 317 Terminated: True \n",
      "Episode:  86/300, Reward: +250.00, Epsilon: 0.18, Rolling Avg: 168.10, Steps: 249 Terminated: True \n",
      "Episode:  87/300, Reward: +174.00, Epsilon: 0.17, Rolling Avg: 173.70, Steps: 173 Terminated: True \n",
      "Episode:  88/300, Reward: +222.00, Epsilon: 0.17, Rolling Avg: 181.65, Steps: 221 Terminated: True \n",
      "Episode:  89/300, Reward: +210.00, Epsilon: 0.17, Rolling Avg: 187.15, Steps: 209 Terminated: True \n",
      "Episode:  90/300, Reward: +199.00, Epsilon: 0.16, Rolling Avg: 193.70, Steps: 198 Terminated: True \n",
      "Episode:  91/300, Reward: +298.00, Epsilon: 0.16, Rolling Avg: 206.10, Steps: 297 Terminated: True \n",
      "Environment solved in 91 episodes!\n",
      "Testing completed in 25.24 minutes\n"
     ]
    }
   ],
   "source": [
    "rewards_per_episode= []\n",
    "\n",
    "done = False\n",
    "rolling_avg = 0\n",
    "rolling_avg_rewards = []\n",
    "\n",
    "start_time = time.time()\n",
    "\n",
    "for e in range(MAX_EPISODES):                           # Should be While True, however we limit number of eps\n",
    "    state, _ = env.reset()\n",
    "    state = np.reshape(state, [1, state_size])\n",
    "    total_reward = 0\n",
    "    \n",
    "    for step in range(MAX_STEPS):\n",
    "            \n",
    "        action = select_action_greedy(state, DQN)\n",
    "        next_state, reward, done, truncated , _ = env.step(action)\n",
    "                    \n",
    "        next_state = np.reshape(next_state, [1, state_size])\n",
    "        store(state, action, reward, next_state, done)\n",
    "        state = next_state\n",
    "        total_reward = total_reward + reward\n",
    "        if done:\n",
    "            break\n",
    "            \n",
    "        if len(replay_buffer) > batch_size:\n",
    "            experience_replay(batch_size, DQN, epsilon)\n",
    "            \n",
    "    epsilon = max(epsilon_min, epsilon * epsilon_decay)            # decay epsilon\n",
    "    \n",
    "    rewards_per_episode.append(total_reward)\n",
    "    rolling_avg = np.mean(rewards_per_episode[-ROLLING_WINDOW:])   # append rewards\n",
    "    rolling_avg_rewards.append(rolling_avg)\n",
    "    print(f\"Episode: {e+1:3}/{MAX_EPISODES}, Reward: {total_reward:+7.2f}, \"\n",
    "          f\"Epsilon: {epsilon:.2f}, Rolling Avg: {rolling_avg:6.2f}, Steps: {step:3} Terminated: {done} \")\n",
    "\n",
    "            \n",
    "    # Check if environment is solved\n",
    "    if rolling_avg >= solved_threshold:\n",
    "        print(f\"Environment solved in {e+1} episodes!\")\n",
    "#            model.save(\"lunarlander_ddqn_model1.keras\")\n",
    "        break\n",
    "\n",
    "end_time = time.time()\n",
    "testing_duration = (end_time - start_time) / 60  # Convert to minutes\n",
    "print(f\"Testing completed in {testing_duration:.2f} minutes\")"
   ]
  },
  {
   "cell_type": "markdown",
   "id": "5419d918",
   "metadata": {},
   "source": [
    "#### **Learning Plot and Episode Rewards**"
   ]
  },
  {
   "cell_type": "code",
   "execution_count": 8,
   "id": "0724b047",
   "metadata": {},
   "outputs": [
    {
     "data": {
      "image/png": "[encoded data removed]",
      "text/plain": [
       "<Figure size 1000x600 with 1 Axes>"
      ]
     },
     "metadata": {},
     "output_type": "display_data"
    }
   ],
   "source": [
    "# Plot rewards with rolling average\n",
    "\n",
    "plt.figure(figsize=(10, 6))\n",
    "plt.plot(rewards_per_episode, label='Rewards', color='blue')\n",
    "plt.plot(rolling_avg_rewards, label='Rolling Avg (Last 20 Episodes)', color='orange')\n",
    "plt.axhline(y=solved_threshold, color='red', linestyle='--', label='Solved Threshold')\n",
    "plt.title('DQN Training Performance CARTPOLE')\n",
    "plt.xlabel('Episodes')\n",
    "plt.ylabel('Rewards')\n",
    "plt.legend()\n",
    "plt.grid()\n",
    "plt.show()"
   ]
  },
  {
   "cell_type": "markdown",
   "id": "51baef8f",
   "metadata": {},
   "source": [
    "#### **Simulation - Testing 10 episodes with the DQN Network**"
   ]
  },
  {
   "cell_type": "code",
   "execution_count": 9,
   "id": "1ade8d4a",
   "metadata": {},
   "outputs": [
    {
     "name": "stdout",
     "output_type": "stream",
     "text": [
      "Test Episode:  1/10, Reward: 179.00, Steps: 179\n",
      "Test Episode:  2/10, Reward: 207.00, Steps: 207\n",
      "Test Episode:  3/10, Reward: 185.00, Steps: 185\n",
      "Test Episode:  4/10, Reward: 183.00, Steps: 183\n",
      "Test Episode:  5/10, Reward: 189.00, Steps: 189\n",
      "Test Episode:  6/10, Reward: 156.00, Steps: 156\n",
      "Test Episode:  7/10, Reward: 168.00, Steps: 168\n",
      "Test Episode:  8/10, Reward: 209.00, Steps: 209\n",
      "Test Episode:  9/10, Reward: 184.00, Steps: 184\n",
      "Test Episode: 10/10, Reward: 166.00, Steps: 166\n",
      "Testing completed in 1.82 minutes\n"
     ]
    }
   ],
   "source": [
    "# Testing for 10 episodes\n",
    "start_time = time.time()\n",
    "\n",
    "for e_test in range(10):  # Run 10 test episodes\n",
    "    state, _ = env.reset()\n",
    "    state = np.reshape(state, [1, state_size])\n",
    "    total_reward = 0\n",
    "    \n",
    "    steps = 0\n",
    "    while True:\n",
    "        # Use the trained model for testing\n",
    "        action_vals = DQN.predict(state, verbose=0)  # Predict action values\n",
    "        action = np.argmax(action_vals[0])  # Choose the action with the highest Q-value\n",
    "\n",
    "        next_state, reward, done, truncated, _ = env.step(action)\n",
    "        next_state = np.reshape(next_state, [1, state_size])\n",
    "        total_reward += reward\n",
    "        state = next_state\n",
    "        steps = steps + 1\n",
    "        if done or truncated:\n",
    "            print(f\"Test Episode: {e_test + 1:2}/10, Reward: {total_reward:.2f}, Steps: {steps:3}\")\n",
    "            break\n",
    "\n",
    "end_time = time.time()\n",
    "testing_duration = (end_time - start_time) / 60  # Convert to minutes\n",
    "print(f\"Testing completed in {testing_duration:.2f} minutes\")"
   ]
  },
  {
   "cell_type": "markdown",
   "id": "67f36b76",
   "metadata": {},
   "source": [
    "#### **Rendering 1 episode**"
   ]
  },
  {
   "cell_type": "code",
   "execution_count": 10,
   "id": "0e9e3acd",
   "metadata": {},
   "outputs": [
    {
     "name": "stdout",
     "output_type": "stream",
     "text": [
      "Rendered Test Episode Reward: 159.00\n",
      "Saved GIF to: ./CARTPOLE_DQN.gif\n"
     ]
    }
   ],
   "source": [
    "# Test the trained agent with video rendering\n",
    "# This code is useful if you are using colab otherwise use render_mode='human'\n",
    "env = gym.make((\"CartPole-v1\"), render_mode='rgb_array')  # Enable RGB rendering\n",
    "frames = []  # Store frames for visualization\n",
    "\n",
    "# Render a single test episode\n",
    "state, _ = env.reset()\n",
    "state = np.reshape(state, [1, state_size])\n",
    "tot_rewards = 0\n",
    "\n",
    "while True:\n",
    "    # Use the trained model for action\n",
    "    action_vals = DQN.predict(state, verbose=0)  # Predict action values\n",
    "    action = np.argmax(action_vals[0])           # Choose the action with the highest Q-value\n",
    "\n",
    "    next_state, reward, done, truncated, _ = env.step(action)\n",
    "    frames.append(env.render())                  # Save frame for rendering later\n",
    "    next_state = np.reshape(next_state, [1, state_size])\n",
    "    tot_rewards += reward\n",
    "    state = next_state\n",
    "\n",
    "    if done or truncated:\n",
    "        print(f\"Rendered Test Episode Reward: {tot_rewards:.2f}\")\n",
    "        break\n",
    "\n",
    "env.close()\n",
    "\n",
    "# Save the rendered episode as a GIF\n",
    "def save_frames_as_gif(frames, path='./', filename='CARTPOLE_DQN.gif'):\n",
    "    images = [Image.fromarray(frame) for frame in frames]\n",
    "    gif_path = os.path.join(path, filename)\n",
    "    images[0].save(gif_path, save_all=True, append_images=images[1:], duration=50, loop=0)\n",
    "    print(f\"Saved GIF to: {gif_path}\")\n",
    "\n",
    "save_frames_as_gif(frames, filename='CARTPOLE_DQN.gif')\n"
   ]
  },
  {
   "cell_type": "code",
   "execution_count": 11,
   "id": "6ba24e04",
   "metadata": {},
   "outputs": [
    {
     "name": "stdout",
     "output_type": "stream",
     "text": [
      "-----\n",
      "PIL                 11.0.0\n",
      "gymnasium           1.0.0\n",
      "keras               3.6.0\n",
      "matplotlib          3.9.2\n",
      "numpy               1.26.4\n",
      "session_info        1.0.0\n",
      "tensorflow          2.17.1\n",
      "-----\n",
      "IPython             8.28.0\n",
      "jupyter_client      8.6.3\n",
      "jupyter_core        5.7.2\n",
      "-----\n",
      "Python 3.12.3 (main, Jan 17 2025, 18:03:48) [GCC 13.3.0]\n",
      "Linux-5.15.167.4-microsoft-standard-WSL2-x86_64-with-glibc2.39\n",
      "-----\n",
      "Session information updated at 2025-02-07 12:31\n"
     ]
    }
   ],
   "source": [
    "import session_info\n",
    "session_info.show(html=False)"
   ]
  }
 ],
 "metadata": {
  "kernelspec": {
   "display_name": "DL-Keras",
   "language": "python",
   "name": "dl-keras"
  },
  "language_info": {
   "codemirror_mode": {
    "name": "ipython",
    "version": 3
   },
   "file_extension": ".py",
   "mimetype": "text/x-python",
   "name": "python",
   "nbconvert_exporter": "python",
   "pygments_lexer": "ipython3",
   "version": "3.12.3"
  }
 },
 "nbformat": 4,
 "nbformat_minor": 5
}
