{
 "cells": [
  {
   "cell_type": "markdown",
   "id": "ebc4ddc1",
   "metadata": {},
   "source": [
    "#### **CARTPOLE DQN V1 (Plain)**\n",
    "\n",
    "This is a naive version of the CARTPOLE DQN algorithm <br>\n",
    "It will be very slow but it is an educational tool to understand all the steps in the DQN algorithm"
   ]
  },
  {
   "cell_type": "code",
   "execution_count": 2,
   "id": "9ad1cee1",
   "metadata": {},
   "outputs": [],
   "source": [
    "import os\n",
    "os.environ['TF_CPP_MIN_LOG_LEVEL'] = '3'\n",
    "\n",
    "import gymnasium as gym\n",
    "import numpy as np\n",
    "from tensorflow.keras.models import Sequential, Model\n",
    "from tensorflow.keras.layers import Dense, Input\n",
    "from tensorflow.keras.optimizers import Adam\n",
    "from collections import deque\n",
    "import random"
   ]
  },
  {
   "cell_type": "code",
   "execution_count": 3,
   "id": "b37b8864",
   "metadata": {},
   "outputs": [],
   "source": [
    "# Parameters\n",
    "state_size = env.observation_space.shape[0]\n",
    "action_size = env.action_space.n\n",
    "episodes = 500\n",
    "batch_size = 64\n",
    "gamma = 0.99  # Discount factor\n",
    "epsilon = 1.0  # Initial exploration rate\n",
    "epsilon_min = 0.01\n",
    "epsilon_decay = 0.995\n",
    "learning_rate = 0.0005\n",
    "memory = deque(maxlen=2000)"
   ]
  },
  {
   "cell_type": "code",
   "execution_count": 4,
   "id": "89e94a08",
   "metadata": {},
   "outputs": [],
   "source": [
    "# Build the neural network model\n",
    "\n",
    "def build_model():\n",
    "    # Define the input layer\n",
    "    inputs = Input(shape=(state_size,))  \n",
    "    hidden1 = Dense(24, activation=\"relu\")(inputs)\n",
    "    hidden2 = Dense(24, activation=\"relu\")(hidden1)\n",
    "    outputs = Dense(action_size, activation=\"linear\")(hidden2)  # action_size is the number of actions\n",
    "    model = Model(inputs=inputs, outputs=outputs)\n",
    "\n",
    "    model.compile(optimizer=Adam(learning_rate=learning_rate), loss=\"mse\")\n",
    "    \n",
    "    return model\n",
    "\n",
    "\n",
    "# Replay and train function\n",
    "def replay(model, target_model):\n",
    "    if len(memory) < batch_size:\n",
    "        return\n",
    "    minibatch = random.sample(memory, batch_size)\n",
    "    states, targets = [], []\n",
    "    for state, action, reward, next_state, done in minibatch:\n",
    "        target = model.predict(state, verbose=0)\n",
    "        if done:\n",
    "            target[0][action] = reward\n",
    "        else:\n",
    "            next_target = target_model.predict(next_state, verbose=0)\n",
    "            target[0][action] = reward + gamma * np.max(next_target[0])\n",
    "        states.append(state[0])\n",
    "        targets.append(target[0])\n",
    "    model.fit(np.array(states), np.array(targets), epochs=1, verbose=0)\n",
    "\n",
    "# Soft update function for target network\n",
    "def soft_update(model, target_model, tau=0.1):\n",
    "    target_weights = target_model.get_weights()\n",
    "    model_weights = model.get_weights()\n",
    "    new_weights = [\n",
    "        tau * mw + (1 - tau) * tw for mw, tw in zip(model_weights, target_weights)\n",
    "    ]\n",
    "    target_model.set_weights(new_weights)"
   ]
  },
  {
   "cell_type": "code",
   "execution_count": null,
   "id": "a36f2234",
   "metadata": {},
   "outputs": [
    {
     "name": "stdout",
     "output_type": "stream",
     "text": [
      "Episode: 1/500, Score: 12.0, Epsilon: 1.00\n",
      "Episode: 2/500, Score: 19.0, Epsilon: 0.99\n",
      "Episode: 3/500, Score: 9.0, Epsilon: 0.99\n",
      "Episode: 4/500, Score: 14.0, Epsilon: 0.99\n",
      "Episode: 5/500, Score: 21.0, Epsilon: 0.98\n"
     ]
    }
   ],
   "source": [
    "# Create the CartPole environment\n",
    "env = gym.make(\"CartPole-v1\")\n",
    "\n",
    "\n",
    "\n",
    "# Main training loop\n",
    "model = build_model()\n",
    "target_model = build_model()\n",
    "target_model.set_weights(model.get_weights())\n",
    "\n",
    "for episode in range(episodes):\n",
    "    state, _ = env.reset()\n",
    "    state = np.reshape(state, [1, state_size])\n",
    "    total_reward = 0\n",
    "    done = False\n",
    "\n",
    "    while not done:\n",
    "        # Epsilon-greedy action selection\n",
    "        if np.random.rand() <= epsilon:\n",
    "            action = env.action_space.sample()\n",
    "        else:\n",
    "            q_values = model.predict(state, verbose=0)\n",
    "            action = np.argmax(q_values[0])\n",
    "\n",
    "        # Take action\n",
    "        next_state, reward, done, _, _ = env.step(action)\n",
    "        next_state = np.reshape(next_state, [1, state_size])\n",
    "        total_reward += reward\n",
    "\n",
    "        # Store experience in memory\n",
    "        memory.append((state, action, reward, next_state, done))\n",
    "        state = next_state\n",
    "\n",
    "        # Train the model\n",
    "        replay(model, target_model)\n",
    "\n",
    "        # End episode if done\n",
    "        if done:\n",
    "            print(f\"Episode: {episode + 1}/{episodes}, Score: {total_reward}, Epsilon: {epsilon:.2f}\")\n",
    "            break\n",
    "\n",
    "    # Decay epsilon\n",
    "    if epsilon > epsilon_min:\n",
    "        epsilon *= epsilon_decay\n",
    "\n",
    "    # Update target network using soft updates\n",
    "    soft_update(model, target_model)\n",
    "\n",
    "# Close the environment\n",
    "env.close()\n"
   ]
  },
  {
   "cell_type": "code",
   "execution_count": null,
   "id": "53e767c4",
   "metadata": {},
   "outputs": [],
   "source": []
  },
  {
   "cell_type": "code",
   "execution_count": null,
   "id": "f19554a8",
   "metadata": {},
   "outputs": [],
   "source": []
  }
 ],
 "metadata": {
  "kernelspec": {
   "display_name": "DL-Keras",
   "language": "python",
   "name": "dl-keras"
  },
  "language_info": {
   "codemirror_mode": {
    "name": "ipython",
    "version": 3
   },
   "file_extension": ".py",
   "mimetype": "text/x-python",
   "name": "python",
   "nbconvert_exporter": "python",
   "pygments_lexer": "ipython3",
   "version": "3.12.3"
  }
 },
 "nbformat": 4,
 "nbformat_minor": 5
}
