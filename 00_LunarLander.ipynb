{
 "cells": [
  {
   "cell_type": "markdown",
   "id": "e94332bb",
   "metadata": {},
   "source": [
    "#### **Lunar Lander First Example**\n",
    "This is a first example for lunar lander env"
   ]
  },
  {
   "cell_type": "code",
   "execution_count": 10,
   "id": "e60846cb",
   "metadata": {},
   "outputs": [
    {
     "name": "stdout",
     "output_type": "stream",
     "text": [
      "0.29.1\n"
     ]
    }
   ],
   "source": [
    "import gymnasium as gym\n",
    "print(gym.__version__)"
   ]
  },
  {
   "cell_type": "code",
   "execution_count": 6,
   "id": "3bc84fcc",
   "metadata": {},
   "outputs": [],
   "source": [
    "nv = gym.make(\"LunarLander-v2\", continuous=False, gravity=-10.0,\n",
    "               enable_wind=False, wind_power=15.0, turbulence_power=1.5)"
   ]
  },
  {
   "cell_type": "code",
   "execution_count": 8,
   "id": "1ce663c6",
   "metadata": {},
   "outputs": [],
   "source": [
    "# Initialise the environment\n",
    "env = gym.make(\"LunarLander-v2\", render_mode=\"human\")\n",
    "\n",
    "# Reset the environment to generate the first observation\n",
    "observation, info = env.reset(seed=42)\n",
    "for _ in range(1000):\n",
    "    # this is where you would insert your policy\n",
    "    action = env.action_space.sample()\n",
    "\n",
    "    # step (transition) through the environment with the action\n",
    "    # receiving the next observation, reward and if the episode has terminated or truncated\n",
    "    observation, reward, terminated, truncated, info = env.step(action)\n",
    "\n",
    "    # If the episode has ended then we can reset to start a new episode\n",
    "    if terminated or truncated:\n",
    "        observation, info = env.reset()\n",
    "\n",
    "env.close()"
   ]
  },
  {
   "cell_type": "code",
   "execution_count": 11,
   "id": "2a170eb5",
   "metadata": {},
   "outputs": [
    {
     "name": "stdout",
     "output_type": "stream",
     "text": [
      "===== classic_control =====\n",
      "Acrobot-v1             CartPole-v0            CartPole-v1\n",
      "MountainCar-v0         MountainCarContinuous-v0 Pendulum-v1\n",
      "===== phys2d =====\n",
      "phys2d/CartPole-v0     phys2d/CartPole-v1     phys2d/Pendulum-v0\n",
      "===== box2d =====\n",
      "BipedalWalker-v3       BipedalWalkerHardcore-v3 CarRacing-v2\n",
      "LunarLander-v2         LunarLanderContinuous-v2\n",
      "===== toy_text =====\n",
      "Blackjack-v1           CliffWalking-v0        FrozenLake-v1\n",
      "FrozenLake8x8-v1       Taxi-v3\n",
      "===== tabular =====\n",
      "tabular/Blackjack-v0   tabular/CliffWalking-v0\n",
      "===== mujoco =====\n",
      "Ant-v2                 Ant-v3                 Ant-v4\n",
      "HalfCheetah-v2         HalfCheetah-v3         HalfCheetah-v4\n",
      "Hopper-v2              Hopper-v3              Hopper-v4\n",
      "Humanoid-v2            Humanoid-v3            Humanoid-v4\n",
      "HumanoidStandup-v2     HumanoidStandup-v4     InvertedDoublePendulum-v2\n",
      "InvertedDoublePendulum-v4 InvertedPendulum-v2    InvertedPendulum-v4\n",
      "Pusher-v2              Pusher-v4              Reacher-v2\n",
      "Reacher-v4             Swimmer-v2             Swimmer-v3\n",
      "Swimmer-v4             Walker2d-v2            Walker2d-v3\n",
      "Walker2d-v4\n",
      "===== None =====\n",
      "GymV21Environment-v0   GymV26Environment-v0\n"
     ]
    }
   ],
   "source": [
    "# How to see all the possible environments\n",
    "gym.pprint_registry()"
   ]
  },
  {
   "cell_type": "code",
   "execution_count": 12,
   "id": "46921174",
   "metadata": {},
   "outputs": [
    {
     "name": "stdout",
     "output_type": "stream",
     "text": [
      "-----\n",
      "gymnasium           0.29.1\n",
      "session_info        1.0.0\n",
      "-----\n",
      "IPython             8.26.0\n",
      "jupyter_client      8.6.2\n",
      "jupyter_core        5.7.2\n",
      "-----\n",
      "Python 3.12.3 (main, Sep 11 2024, 14:17:37) [GCC 13.2.0]\n",
      "Linux-5.15.153.1-microsoft-standard-WSL2-x86_64-with-glibc2.39\n",
      "-----\n",
      "Session information updated at 2024-10-28 13:13\n"
     ]
    }
   ],
   "source": [
    "import session_info\n",
    "session_info.show(html=False)"
   ]
  },
  {
   "cell_type": "code",
   "execution_count": null,
   "id": "38ba1565",
   "metadata": {},
   "outputs": [],
   "source": []
  }
 ],
 "metadata": {
  "kernelspec": {
   "display_name": "rl",
   "language": "python",
   "name": "rl"
  },
  "language_info": {
   "codemirror_mode": {
    "name": "ipython",
    "version": 3
   },
   "file_extension": ".py",
   "mimetype": "text/x-python",
   "name": "python",
   "nbconvert_exporter": "python",
   "pygments_lexer": "ipython3",
   "version": "3.12.3"
  }
 },
 "nbformat": 4,
 "nbformat_minor": 5
}
