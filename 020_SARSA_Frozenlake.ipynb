{
 "cells": [
  {
   "cell_type": "markdown",
   "id": "e84b3f8b",
   "metadata": {},
   "source": [
    "#### **SARSA in FrozenLake**\n",
    "\n",
    "SARSA Algorithm in the Frozenlake environment. Give it a try for the 8x8 version."
   ]
  },
  {
   "cell_type": "code",
   "execution_count": 1,
   "id": "fb398d01",
   "metadata": {},
   "outputs": [],
   "source": [
    "import numpy as np\n",
    "import gymnasium as gym\n",
    "import session_info"
   ]
  },
  {
   "cell_type": "code",
   "execution_count": 2,
   "id": "4e8cfd5d",
   "metadata": {},
   "outputs": [],
   "source": [
    "# SARSA parameters\n",
    "alpha = 0.1  # Learning rate\n",
    "gamma = 0.9  # Discount factor\n",
    "\n",
    "epsilon = 0.99           # Epsilon-greedy policy\n",
    "epsilon_decay_rate = 0.001     \n",
    "episodes = 1000         # Number of episodes"
   ]
  },
  {
   "cell_type": "code",
   "execution_count": 3,
   "id": "8ddb7b91",
   "metadata": {},
   "outputs": [],
   "source": [
    "# Initialize the environment\n",
    "env = gym.make('FrozenLake-v1', map_name=\"4x4\", is_slippery=False)\n",
    "\n",
    "# Initialize Q-table\n",
    "Q = np.zeros((env.observation_space.n, env.action_space.n))\n",
    "\n",
    "def choose_action(state):\n",
    "    if np.random.uniform(0, 1) < epsilon:\n",
    "        return env.action_space.sample()  # Explore\n",
    "    else:\n",
    "        return np.argmax(Q[state, :])  # Exploit\n",
    "    \n",
    "    \n",
    "def epsilon_greedy_policy(state, epsilon):  # Explotaition vs Exploration\n",
    "    if np.random.random() < epsilon:\n",
    "        return env.action_space.sample()\n",
    "    else:\n",
    "        return np.argmax(Q[state])\n",
    "\n",
    "# SARSA algorithm\n",
    "\n",
    "for episode in range(episodes):\n",
    "    state, _ = env.reset()\n",
    "    action = choose_action(state)\n",
    "    done = False\n",
    "    \n",
    "    while not done:\n",
    "        \n",
    "        action = epsilon_greedy_policy(state, epsilon)\n",
    "        next_state, reward, done, _, _= env.step(action)\n",
    "        next_action = choose_action(next_state)\n",
    "        \n",
    "        # SARSA update\n",
    "        Q[state, action] += alpha * (reward + gamma * Q[next_state, next_action] - Q[state, action])\n",
    "        \n",
    "        state = next_state\n",
    "        action = next_action\n",
    "        epsilon = np.exp(-epsilon_decay_rate * episode)\n",
    "\n"
   ]
  },
  {
   "cell_type": "code",
   "execution_count": 4,
   "id": "9bcd23e2",
   "metadata": {},
   "outputs": [
    {
     "name": "stdout",
     "output_type": "stream",
     "text": [
      "Success rate: 100.00%\n",
      "\n",
      "Learned Q-table:\n",
      "[  ← ↓ → ↑  ]\n",
      "\n",
      "[[1.69143478e-01 2.33681765e-01 1.18940420e-01 1.75001747e-01]\n",
      " [1.67225789e-01 0.00000000e+00 5.93156688e-02 4.24106368e-02]\n",
      " [3.16348841e-02 2.17739281e-01 2.41274949e-03 1.34675297e-02]\n",
      " [2.53368357e-02 0.00000000e+00 7.94541718e-04 0.00000000e+00]\n",
      " [2.01265872e-01 2.84909114e-01 0.00000000e+00 1.71897090e-01]\n",
      " [0.00000000e+00 0.00000000e+00 0.00000000e+00 0.00000000e+00]\n",
      " [0.00000000e+00 5.91537498e-01 0.00000000e+00 5.58516201e-02]\n",
      " [0.00000000e+00 0.00000000e+00 0.00000000e+00 0.00000000e+00]\n",
      " [3.02461473e-01 0.00000000e+00 3.84981240e-01 1.97329478e-01]\n",
      " [2.50085189e-01 3.69649308e-01 5.33817060e-01 0.00000000e+00]\n",
      " [3.90326265e-01 8.04360681e-01 0.00000000e+00 3.71756304e-01]\n",
      " [0.00000000e+00 0.00000000e+00 0.00000000e+00 0.00000000e+00]\n",
      " [0.00000000e+00 0.00000000e+00 0.00000000e+00 0.00000000e+00]\n",
      " [0.00000000e+00 3.52092325e-01 7.00138656e-01 2.33704670e-01]\n",
      " [3.22542619e-01 7.91418239e-01 1.00000000e+00 4.84414489e-01]\n",
      " [0.00000000e+00 0.00000000e+00 0.00000000e+00 0.00000000e+00]]\n"
     ]
    }
   ],
   "source": [
    "# Test the learned policy\n",
    "def test_policy(n_episodes=100):\n",
    "    successes = 0\n",
    "    for _ in range(n_episodes):\n",
    "        state, _ = env.reset()\n",
    "        done = False\n",
    "        while not done:\n",
    "            action = np.argmax(Q[state, :])\n",
    "            state, reward, done, _ , _ = env.step(action)\n",
    "            if reward == 1:\n",
    "                successes += 1\n",
    "    return successes / n_episodes\n",
    "\n",
    "success_rate = test_policy()\n",
    "print(f\"Success rate: {success_rate:.2%}\")\n",
    "\n",
    "# Display the learned Q-table\n",
    "print(\"\\nLearned Q-table:\")\n",
    "print('[ ','←', '↓', '→', '↑', ' ]')\n",
    "print()\n",
    "print(Q)\n",
    "\n"
   ]
  },
  {
   "cell_type": "code",
   "execution_count": 5,
   "id": "2268eed1",
   "metadata": {},
   "outputs": [
    {
     "name": "stdout",
     "output_type": "stream",
     "text": [
      "Learned Policy:\n",
      "===============\n",
      "\n",
      "S ← ↓ ← \n",
      "↓ H ↓ H \n",
      "→ → ↓ H \n",
      "H → → G \n",
      "\n",
      "Value Function:\n",
      "===================\n",
      "0.23 0.17 0.22 0.03 \n",
      "0.28 0.00 0.59 0.00 \n",
      "0.38 0.53 0.80 0.00 \n",
      "0.00 0.70 1.00 0.00 \n"
     ]
    }
   ],
   "source": [
    "# Testing the results\n",
    "\n",
    "# Print learned policy\n",
    "print(\"Learned Policy:\")\n",
    "print(\"===============\")\n",
    "print()\n",
    "policy = np.argmax(Q, axis=1)\n",
    "policy_symbols = ['←', '↓', '→', '↑', 'S', 'G', 'H']  # Up, Right, Down, Left\n",
    "\n",
    "# Mark special positions\n",
    "desc = env.unwrapped.desc\n",
    "for i in range(4):\n",
    "    for j in range(4):\n",
    "        if desc[i][j] == b'H':\n",
    "            policy[i*4+j%4] = 6\n",
    "        elif desc[i][j] == b'G':\n",
    "            policy[i*4+j%4] = 5\n",
    "        elif desc[i][j] == b'S':\n",
    "            policy[i*4+j%4] = 4\n",
    "\n",
    "for i in range(4):\n",
    "    for j in range(4):\n",
    "        print(policy_symbols[policy[i*4 + j]], end=' ')\n",
    "    print()\n",
    "  \n",
    "    \n",
    "\n",
    "# Print value function\n",
    "print(\"\\nValue Function:\")\n",
    "print(\"===================\")\n",
    "V = np.max(Q, axis=1)\n",
    "for i in range(4):\n",
    "    for j in range(4):\n",
    "        print(f\"{V[i*4 + j]:.2f}\", end=' ')\n",
    "    print()"
   ]
  },
  {
   "cell_type": "code",
   "execution_count": 6,
   "id": "7b410bef",
   "metadata": {},
   "outputs": [
    {
     "name": "stdout",
     "output_type": "stream",
     "text": [
      "\n",
      "Total reward: 1.0\n"
     ]
    }
   ],
   "source": [
    "# Test the learned policy\n",
    "env = gym.make('FrozenLake-v1', is_slippery=False, render_mode='human')\n",
    "state, _ = env.reset()\n",
    "state = int(state)\n",
    "done = False\n",
    "total_reward = 0\n",
    "\n",
    "while not done:\n",
    "    action = np.argmax(Q[state, :])\n",
    "    state, reward, terminated, truncated, _ = env.step(action)\n",
    "    state = int(state)\n",
    "    done = terminated or truncated\n",
    "    total_reward += reward\n",
    "    env.render()\n",
    "\n",
    "print(f\"\\nTotal reward: {total_reward}\")"
   ]
  },
  {
   "cell_type": "code",
   "execution_count": 7,
   "id": "d79b8264",
   "metadata": {},
   "outputs": [
    {
     "name": "stdout",
     "output_type": "stream",
     "text": [
      "-----\n",
      "gymnasium           1.0.0\n",
      "numpy               1.26.4\n",
      "session_info        1.0.0\n",
      "-----\n",
      "IPython             8.26.0\n",
      "jupyter_client      8.6.2\n",
      "jupyter_core        5.7.2\n",
      "-----\n",
      "Python 3.12.3 (main, Sep 11 2024, 14:17:37) [GCC 13.2.0]\n",
      "Linux-5.15.167.4-microsoft-standard-WSL2-x86_64-with-glibc2.39\n",
      "-----\n",
      "Session information updated at 2024-11-14 19:23\n"
     ]
    }
   ],
   "source": [
    "session_info.show(html=False)"
   ]
  }
 ],
 "metadata": {
  "kernelspec": {
   "display_name": "rl",
   "language": "python",
   "name": "rl"
  },
  "language_info": {
   "codemirror_mode": {
    "name": "ipython",
    "version": 3
   },
   "file_extension": ".py",
   "mimetype": "text/x-python",
   "name": "python",
   "nbconvert_exporter": "python",
   "pygments_lexer": "ipython3",
   "version": "3.12.3"
  }
 },
 "nbformat": 4,
 "nbformat_minor": 5
}
